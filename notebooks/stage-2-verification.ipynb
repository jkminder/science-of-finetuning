{
 "cells": [
  {
   "cell_type": "code",
   "execution_count": 1,
   "metadata": {},
   "outputs": [
    {
     "name": "stdout",
     "output_type": "stream",
     "text": [
      "Using runai image conda\n",
      "Obtaining file:///mnt/dlabscratch1/jminder/repositories/dictionary_learning\n",
      "  Installing build dependencies ... \u001b[?25ldone\n",
      "\u001b[?25h  Checking if build backend supports build_editable ... \u001b[?25ldone\n",
      "\u001b[?25h  Getting requirements to build editable ... \u001b[?25ldone\n",
      "\u001b[?25h  Preparing editable metadata (pyproject.toml) ... \u001b[?25ldone\n",
      "\u001b[?25hRequirement already satisfied: torch in /opt/conda/envs/default/lib/python3.11/site-packages (from dictionary_learning==0.1.dev294+gde73513) (2.5.1)\n",
      "Requirement already satisfied: nnsight in /opt/conda/envs/default/lib/python3.11/site-packages (from dictionary_learning==0.1.dev294+gde73513) (0.3.7)\n",
      "Requirement already satisfied: einops in /opt/conda/envs/default/lib/python3.11/site-packages (from dictionary_learning==0.1.dev294+gde73513) (0.8.0)\n",
      "Requirement already satisfied: transformers in /opt/conda/envs/default/lib/python3.11/site-packages (from nnsight->dictionary_learning==0.1.dev294+gde73513) (4.47.0)\n",
      "Requirement already satisfied: protobuf in /opt/conda/envs/default/lib/python3.11/site-packages (from nnsight->dictionary_learning==0.1.dev294+gde73513) (5.28.3)\n",
      "Requirement already satisfied: python-socketio[client] in /opt/conda/envs/default/lib/python3.11/site-packages (from nnsight->dictionary_learning==0.1.dev294+gde73513) (5.11.4)\n",
      "Requirement already satisfied: tokenizers>=0.13.0 in /opt/conda/envs/default/lib/python3.11/site-packages (from nnsight->dictionary_learning==0.1.dev294+gde73513) (0.21.0)\n",
      "Requirement already satisfied: pydantic>=2.9.0 in /opt/conda/envs/default/lib/python3.11/site-packages (from nnsight->dictionary_learning==0.1.dev294+gde73513) (2.10.3)\n",
      "Requirement already satisfied: sentencepiece in /opt/conda/envs/default/lib/python3.11/site-packages (from nnsight->dictionary_learning==0.1.dev294+gde73513) (0.2.0)\n",
      "Requirement already satisfied: torchvision in /opt/conda/envs/default/lib/python3.11/site-packages (from nnsight->dictionary_learning==0.1.dev294+gde73513) (0.20.1)\n",
      "Requirement already satisfied: accelerate in /opt/conda/envs/default/lib/python3.11/site-packages (from nnsight->dictionary_learning==0.1.dev294+gde73513) (0.30.1)\n",
      "Requirement already satisfied: diffusers in /opt/conda/envs/default/lib/python3.11/site-packages (from nnsight->dictionary_learning==0.1.dev294+gde73513) (0.31.0)\n",
      "Requirement already satisfied: filelock in /opt/conda/envs/default/lib/python3.11/site-packages (from torch->dictionary_learning==0.1.dev294+gde73513) (3.16.1)\n",
      "Requirement already satisfied: typing-extensions>=4.8.0 in /opt/conda/envs/default/lib/python3.11/site-packages (from torch->dictionary_learning==0.1.dev294+gde73513) (4.12.2)\n",
      "Requirement already satisfied: sympy==1.13.1 in /opt/conda/envs/default/lib/python3.11/site-packages (from torch->dictionary_learning==0.1.dev294+gde73513) (1.13.1)\n",
      "Requirement already satisfied: networkx in /opt/conda/envs/default/lib/python3.11/site-packages (from torch->dictionary_learning==0.1.dev294+gde73513) (3.4.2)\n",
      "Requirement already satisfied: jinja2 in /opt/conda/envs/default/lib/python3.11/site-packages (from torch->dictionary_learning==0.1.dev294+gde73513) (3.1.4)\n",
      "Requirement already satisfied: fsspec in /opt/conda/envs/default/lib/python3.11/site-packages (from torch->dictionary_learning==0.1.dev294+gde73513) (2024.2.0)\n",
      "Requirement already satisfied: mpmath<1.4,>=1.1.0 in /opt/conda/envs/default/lib/python3.11/site-packages (from sympy==1.13.1->torch->dictionary_learning==0.1.dev294+gde73513) (1.3.0)\n",
      "Requirement already satisfied: annotated-types>=0.6.0 in /opt/conda/envs/default/lib/python3.11/site-packages (from pydantic>=2.9.0->nnsight->dictionary_learning==0.1.dev294+gde73513) (0.7.0)\n",
      "Requirement already satisfied: pydantic-core==2.27.1 in /opt/conda/envs/default/lib/python3.11/site-packages (from pydantic>=2.9.0->nnsight->dictionary_learning==0.1.dev294+gde73513) (2.27.1)\n",
      "Requirement already satisfied: huggingface-hub<1.0,>=0.16.4 in /opt/conda/envs/default/lib/python3.11/site-packages (from tokenizers>=0.13.0->nnsight->dictionary_learning==0.1.dev294+gde73513) (0.26.5)\n",
      "Requirement already satisfied: numpy>=1.17 in /opt/conda/envs/default/lib/python3.11/site-packages (from accelerate->nnsight->dictionary_learning==0.1.dev294+gde73513) (2.1.3)\n",
      "Requirement already satisfied: packaging>=20.0 in /opt/conda/envs/default/lib/python3.11/site-packages (from accelerate->nnsight->dictionary_learning==0.1.dev294+gde73513) (24.2)\n",
      "Requirement already satisfied: psutil in /opt/conda/envs/default/lib/python3.11/site-packages (from accelerate->nnsight->dictionary_learning==0.1.dev294+gde73513) (6.1.0)\n",
      "Requirement already satisfied: pyyaml in /opt/conda/envs/default/lib/python3.11/site-packages (from accelerate->nnsight->dictionary_learning==0.1.dev294+gde73513) (6.0.2)\n",
      "Requirement already satisfied: safetensors>=0.3.1 in /opt/conda/envs/default/lib/python3.11/site-packages (from accelerate->nnsight->dictionary_learning==0.1.dev294+gde73513) (0.4.5)\n",
      "Requirement already satisfied: importlib-metadata in /opt/conda/envs/default/lib/python3.11/site-packages (from diffusers->nnsight->dictionary_learning==0.1.dev294+gde73513) (8.5.0)\n",
      "Requirement already satisfied: regex!=2019.12.17 in /dlabscratch1/jminder/.local/lib/python3.11/site-packages (from diffusers->nnsight->dictionary_learning==0.1.dev294+gde73513) (2024.5.10)\n",
      "Requirement already satisfied: requests in /opt/conda/envs/default/lib/python3.11/site-packages (from diffusers->nnsight->dictionary_learning==0.1.dev294+gde73513) (2.32.3)\n",
      "Requirement already satisfied: Pillow in /opt/conda/envs/default/lib/python3.11/site-packages (from diffusers->nnsight->dictionary_learning==0.1.dev294+gde73513) (10.3.0)\n",
      "Requirement already satisfied: MarkupSafe>=2.0 in /opt/conda/envs/default/lib/python3.11/site-packages (from jinja2->torch->dictionary_learning==0.1.dev294+gde73513) (3.0.2)\n",
      "Requirement already satisfied: bidict>=0.21.0 in /opt/conda/envs/default/lib/python3.11/site-packages (from python-socketio[client]->nnsight->dictionary_learning==0.1.dev294+gde73513) (0.23.1)\n",
      "Requirement already satisfied: python-engineio>=4.8.0 in /opt/conda/envs/default/lib/python3.11/site-packages (from python-socketio[client]->nnsight->dictionary_learning==0.1.dev294+gde73513) (4.10.1)\n",
      "Requirement already satisfied: websocket-client>=0.54.0 in /opt/conda/envs/default/lib/python3.11/site-packages (from python-socketio[client]->nnsight->dictionary_learning==0.1.dev294+gde73513) (1.8.0)\n",
      "Requirement already satisfied: tqdm>=4.27 in /opt/conda/envs/default/lib/python3.11/site-packages (from transformers->nnsight->dictionary_learning==0.1.dev294+gde73513) (4.67.1)\n",
      "Requirement already satisfied: simple-websocket>=0.10.0 in /opt/conda/envs/default/lib/python3.11/site-packages (from python-engineio>=4.8.0->python-socketio[client]->nnsight->dictionary_learning==0.1.dev294+gde73513) (1.1.0)\n",
      "Requirement already satisfied: charset_normalizer<4,>=2 in /opt/conda/envs/default/lib/python3.11/site-packages (from requests->diffusers->nnsight->dictionary_learning==0.1.dev294+gde73513) (3.4.0)\n",
      "Requirement already satisfied: idna<4,>=2.5 in /opt/conda/envs/default/lib/python3.11/site-packages (from requests->diffusers->nnsight->dictionary_learning==0.1.dev294+gde73513) (3.10)\n",
      "Requirement already satisfied: urllib3<3,>=1.21.1 in /opt/conda/envs/default/lib/python3.11/site-packages (from requests->diffusers->nnsight->dictionary_learning==0.1.dev294+gde73513) (2.2.3)\n",
      "Requirement already satisfied: certifi>=2017.4.17 in /opt/conda/envs/default/lib/python3.11/site-packages (from requests->diffusers->nnsight->dictionary_learning==0.1.dev294+gde73513) (2024.8.30)\n",
      "Requirement already satisfied: zipp>=3.20 in /opt/conda/envs/default/lib/python3.11/site-packages (from importlib-metadata->diffusers->nnsight->dictionary_learning==0.1.dev294+gde73513) (3.21.0)\n",
      "Requirement already satisfied: wsproto in /opt/conda/envs/default/lib/python3.11/site-packages (from simple-websocket>=0.10.0->python-engineio>=4.8.0->python-socketio[client]->nnsight->dictionary_learning==0.1.dev294+gde73513) (1.2.0)\n",
      "Requirement already satisfied: h11<1,>=0.9.0 in /opt/conda/envs/default/lib/python3.11/site-packages (from wsproto->simple-websocket>=0.10.0->python-engineio>=4.8.0->python-socketio[client]->nnsight->dictionary_learning==0.1.dev294+gde73513) (0.14.0)\n",
      "Building wheels for collected packages: dictionary_learning\n",
      "  Building editable for dictionary_learning (pyproject.toml) ... \u001b[?25ldone\n",
      "\u001b[?25h  Created wheel for dictionary_learning: filename=dictionary_learning-0.1.dev294+gde73513-0.editable-py3-none-any.whl size=9888 sha256=1f5d70ce548103f30128e2baa9ab5da53dc77c02f05f83efa3414646bcb12023\n",
      "  Stored in directory: /tmp/pip-ephem-wheel-cache-dbds1fqb/wheels/a0/da/a2/1cebd3b905ae8fe7b7936ced7745190fe2359dd76b5fcd130a\n",
      "Successfully built dictionary_learning\n",
      "Installing collected packages: dictionary_learning\n",
      "Successfully installed dictionary_learning-0.1.dev294+gde73513\n"
     ]
    }
   ],
   "source": [
    "!pip install -e ../../dictionary_learning"
   ]
  },
  {
   "cell_type": "code",
   "execution_count": null,
   "metadata": {},
   "outputs": [],
   "source": [
    "# Run the stage-2-verification.py script\n",
    "# !python ../../scripts/stage-2-verification.py --n 100000"
   ]
  },
  {
   "cell_type": "code",
   "execution_count": 1,
   "metadata": {},
   "outputs": [],
   "source": [
    "%load_ext autoreload\n",
    "%autoreload 2\n",
    "\n",
    "from pathlib import Path\n",
    "import torch as th\n",
    "import pandas as pd\n",
    "import numpy as np\n",
    "from tqdm.auto import tqdm, trange\n",
    "import json\n",
    "from dlabutils import model_path\n",
    "\n",
    "from dictionary_learning import CrossCoder"
   ]
  },
  {
   "cell_type": "code",
   "execution_count": 2,
   "metadata": {},
   "outputs": [
    {
     "data": {
      "text/html": [
       "<div>\n",
       "<style scoped>\n",
       "    .dataframe tbody tr th:only-of-type {\n",
       "        vertical-align: middle;\n",
       "    }\n",
       "\n",
       "    .dataframe tbody tr th {\n",
       "        vertical-align: top;\n",
       "    }\n",
       "\n",
       "    .dataframe thead th {\n",
       "        text-align: right;\n",
       "    }\n",
       "</style>\n",
       "<table border=\"1\" class=\"dataframe\">\n",
       "  <thead>\n",
       "    <tr style=\"text-align: right;\">\n",
       "      <th></th>\n",
       "      <th>Unnamed: 0</th>\n",
       "      <th>tag</th>\n",
       "      <th>dec_norm_diff</th>\n",
       "      <th>base uselessness score</th>\n",
       "      <th>fw_dead</th>\n",
       "      <th>fw_freq</th>\n",
       "      <th>lmsys_dead</th>\n",
       "      <th>lmsys_freq</th>\n",
       "      <th>freq</th>\n",
       "      <th>dead</th>\n",
       "      <th>avg_activation</th>\n",
       "      <th>lmsys_avg_activation</th>\n",
       "      <th>fw_avg_activation</th>\n",
       "      <th>dec_base_norm</th>\n",
       "      <th>dec_instruct_norm</th>\n",
       "      <th>dec_norm_diff.1</th>\n",
       "      <th>enc_instruct_norm</th>\n",
       "      <th>enc_norm_diff</th>\n",
       "      <th>dec_cos_sim</th>\n",
       "      <th>enc_cos_sim</th>\n",
       "    </tr>\n",
       "  </thead>\n",
       "  <tbody>\n",
       "    <tr>\n",
       "      <th>0</th>\n",
       "      <td>0</td>\n",
       "      <td>Other</td>\n",
       "      <td>0.352013</td>\n",
       "      <td>NaN</td>\n",
       "      <td>False</td>\n",
       "      <td>0.001822</td>\n",
       "      <td>False</td>\n",
       "      <td>0.000676</td>\n",
       "      <td>0.001308</td>\n",
       "      <td>False</td>\n",
       "      <td>3.492434</td>\n",
       "      <td>3.065480</td>\n",
       "      <td>3.621364</td>\n",
       "      <td>0.444054</td>\n",
       "      <td>0.630735</td>\n",
       "      <td>0.352013</td>\n",
       "      <td>1.254812</td>\n",
       "      <td>0.406832</td>\n",
       "      <td>0.951164</td>\n",
       "      <td>0.350836</td>\n",
       "    </tr>\n",
       "    <tr>\n",
       "      <th>1</th>\n",
       "      <td>1</td>\n",
       "      <td>Other</td>\n",
       "      <td>0.363011</td>\n",
       "      <td>NaN</td>\n",
       "      <td>False</td>\n",
       "      <td>0.000005</td>\n",
       "      <td>False</td>\n",
       "      <td>0.000133</td>\n",
       "      <td>0.000063</td>\n",
       "      <td>False</td>\n",
       "      <td>15.259659</td>\n",
       "      <td>15.773348</td>\n",
       "      <td>4.781738</td>\n",
       "      <td>0.699583</td>\n",
       "      <td>0.963582</td>\n",
       "      <td>0.363011</td>\n",
       "      <td>1.336623</td>\n",
       "      <td>0.478926</td>\n",
       "      <td>0.789206</td>\n",
       "      <td>0.427605</td>\n",
       "    </tr>\n",
       "    <tr>\n",
       "      <th>2</th>\n",
       "      <td>2</td>\n",
       "      <td>Shared</td>\n",
       "      <td>0.484854</td>\n",
       "      <td>NaN</td>\n",
       "      <td>False</td>\n",
       "      <td>0.000134</td>\n",
       "      <td>False</td>\n",
       "      <td>0.000004</td>\n",
       "      <td>0.000075</td>\n",
       "      <td>False</td>\n",
       "      <td>15.845021</td>\n",
       "      <td>2.822504</td>\n",
       "      <td>16.150652</td>\n",
       "      <td>0.978735</td>\n",
       "      <td>1.009308</td>\n",
       "      <td>0.484854</td>\n",
       "      <td>1.014087</td>\n",
       "      <td>0.568982</td>\n",
       "      <td>0.912176</td>\n",
       "      <td>0.526007</td>\n",
       "    </tr>\n",
       "    <tr>\n",
       "      <th>3</th>\n",
       "      <td>3</td>\n",
       "      <td>Shared</td>\n",
       "      <td>0.456325</td>\n",
       "      <td>NaN</td>\n",
       "      <td>False</td>\n",
       "      <td>0.000018</td>\n",
       "      <td>False</td>\n",
       "      <td>0.000670</td>\n",
       "      <td>0.000310</td>\n",
       "      <td>False</td>\n",
       "      <td>9.206497</td>\n",
       "      <td>9.398869</td>\n",
       "      <td>3.335491</td>\n",
       "      <td>0.738498</td>\n",
       "      <td>0.809179</td>\n",
       "      <td>0.456325</td>\n",
       "      <td>1.081213</td>\n",
       "      <td>0.549125</td>\n",
       "      <td>0.959958</td>\n",
       "      <td>0.600122</td>\n",
       "    </tr>\n",
       "    <tr>\n",
       "      <th>4</th>\n",
       "      <td>4</td>\n",
       "      <td>Shared</td>\n",
       "      <td>0.518658</td>\n",
       "      <td>NaN</td>\n",
       "      <td>False</td>\n",
       "      <td>0.000273</td>\n",
       "      <td>False</td>\n",
       "      <td>0.000024</td>\n",
       "      <td>0.000161</td>\n",
       "      <td>False</td>\n",
       "      <td>12.409294</td>\n",
       "      <td>4.161946</td>\n",
       "      <td>12.998833</td>\n",
       "      <td>0.936113</td>\n",
       "      <td>0.901181</td>\n",
       "      <td>0.518658</td>\n",
       "      <td>0.970215</td>\n",
       "      <td>0.600979</td>\n",
       "      <td>0.937031</td>\n",
       "      <td>0.469657</td>\n",
       "    </tr>\n",
       "  </tbody>\n",
       "</table>\n",
       "</div>"
      ],
      "text/plain": [
       "   Unnamed: 0     tag  dec_norm_diff  base uselessness score  fw_dead  \\\n",
       "0           0   Other       0.352013                     NaN    False   \n",
       "1           1   Other       0.363011                     NaN    False   \n",
       "2           2  Shared       0.484854                     NaN    False   \n",
       "3           3  Shared       0.456325                     NaN    False   \n",
       "4           4  Shared       0.518658                     NaN    False   \n",
       "\n",
       "    fw_freq  lmsys_dead  lmsys_freq      freq   dead  avg_activation  \\\n",
       "0  0.001822       False    0.000676  0.001308  False        3.492434   \n",
       "1  0.000005       False    0.000133  0.000063  False       15.259659   \n",
       "2  0.000134       False    0.000004  0.000075  False       15.845021   \n",
       "3  0.000018       False    0.000670  0.000310  False        9.206497   \n",
       "4  0.000273       False    0.000024  0.000161  False       12.409294   \n",
       "\n",
       "   lmsys_avg_activation  fw_avg_activation  dec_base_norm  dec_instruct_norm  \\\n",
       "0              3.065480           3.621364       0.444054           0.630735   \n",
       "1             15.773348           4.781738       0.699583           0.963582   \n",
       "2              2.822504          16.150652       0.978735           1.009308   \n",
       "3              9.398869           3.335491       0.738498           0.809179   \n",
       "4              4.161946          12.998833       0.936113           0.901181   \n",
       "\n",
       "   dec_norm_diff.1  enc_instruct_norm  enc_norm_diff  dec_cos_sim  enc_cos_sim  \n",
       "0         0.352013           1.254812       0.406832     0.951164     0.350836  \n",
       "1         0.363011           1.336623       0.478926     0.789206     0.427605  \n",
       "2         0.484854           1.014087       0.568982     0.912176     0.526007  \n",
       "3         0.456325           1.081213       0.549125     0.959958     0.600122  \n",
       "4         0.518658           0.970215       0.600979     0.937031     0.469657  "
      ]
     },
     "execution_count": 2,
     "metadata": {},
     "output_type": "execute_result"
    }
   ],
   "source": [
    "features_df = pd.read_csv(\"../results/feature_df.csv\")\n",
    "features_df.head()"
   ]
  },
  {
   "cell_type": "code",
   "execution_count": 89,
   "metadata": {},
   "outputs": [],
   "source": [
    "results = th.load(\"../results/results_1000000.pt\")"
   ]
  },
  {
   "cell_type": "code",
   "execution_count": 91,
   "metadata": {},
   "outputs": [
    {
     "data": {
      "text/plain": [
       "torch.Size([73728, 10])"
      ]
     },
     "execution_count": 91,
     "metadata": {},
     "output_type": "execute_result"
    }
   ],
   "source": [
    "results[\"bucket_relproj\"].shape"
   ]
  },
  {
   "cell_type": "code",
   "execution_count": 92,
   "metadata": {},
   "outputs": [
    {
     "data": {
      "text/plain": [
       "(73728, 10)"
      ]
     },
     "execution_count": 92,
     "metadata": {},
     "output_type": "execute_result"
    }
   ],
   "source": [
    "relproj_data = results[\"bucket_relproj\"].cpu().numpy()\n",
    "corre_data_base = results[\"bucket_correlations\"][\"base\"].cpu().numpy()\n",
    "corre_data_it = results[\"bucket_correlations\"][\"it\"].cpu().numpy()\n",
    "bucket_count = results[\"bucket_count\"].cpu().numpy()\n",
    "bucket_count.shape"
   ]
  },
  {
   "cell_type": "code",
   "execution_count": 93,
   "metadata": {},
   "outputs": [
    {
     "data": {
      "text/plain": [
       "(73728, 10)"
      ]
     },
     "execution_count": 93,
     "metadata": {},
     "output_type": "execute_result"
    }
   ],
   "source": [
    "N_BUCKETS = relproj_data.shape[1]\n",
    "N_FEATS = relproj_data.shape[0]\n",
    "N_FEATS, N_BUCKETS"
   ]
  },
  {
   "cell_type": "code",
   "execution_count": 94,
   "metadata": {},
   "outputs": [
    {
     "data": {
      "text/plain": [
       "array(['Other', 'Shared', 'IT only', 'Base only'], dtype=object)"
      ]
     },
     "execution_count": 94,
     "metadata": {},
     "output_type": "execute_result"
    }
   ],
   "source": [
    "features_df[\"tag\"].unique()"
   ]
  },
  {
   "cell_type": "code",
   "execution_count": 95,
   "metadata": {},
   "outputs": [
    {
     "data": {
      "text/html": [
       "<div>\n",
       "<style scoped>\n",
       "    .dataframe tbody tr th:only-of-type {\n",
       "        vertical-align: middle;\n",
       "    }\n",
       "\n",
       "    .dataframe tbody tr th {\n",
       "        vertical-align: top;\n",
       "    }\n",
       "\n",
       "    .dataframe thead th {\n",
       "        text-align: right;\n",
       "    }\n",
       "</style>\n",
       "<table border=\"1\" class=\"dataframe\">\n",
       "  <thead>\n",
       "    <tr style=\"text-align: right;\">\n",
       "      <th></th>\n",
       "      <th>Unnamed: 0</th>\n",
       "      <th>tag</th>\n",
       "      <th>dec_norm_diff</th>\n",
       "      <th>base uselessness score</th>\n",
       "      <th>fw_dead</th>\n",
       "      <th>fw_freq</th>\n",
       "      <th>lmsys_dead</th>\n",
       "      <th>lmsys_freq</th>\n",
       "      <th>freq</th>\n",
       "      <th>dead</th>\n",
       "      <th>avg_activation</th>\n",
       "      <th>lmsys_avg_activation</th>\n",
       "      <th>fw_avg_activation</th>\n",
       "      <th>dec_base_norm</th>\n",
       "      <th>dec_instruct_norm</th>\n",
       "      <th>dec_norm_diff.1</th>\n",
       "      <th>enc_instruct_norm</th>\n",
       "      <th>enc_norm_diff</th>\n",
       "      <th>dec_cos_sim</th>\n",
       "      <th>enc_cos_sim</th>\n",
       "    </tr>\n",
       "  </thead>\n",
       "  <tbody>\n",
       "    <tr>\n",
       "      <th>0</th>\n",
       "      <td>0</td>\n",
       "      <td>Other</td>\n",
       "      <td>0.352013</td>\n",
       "      <td>NaN</td>\n",
       "      <td>False</td>\n",
       "      <td>0.001822</td>\n",
       "      <td>False</td>\n",
       "      <td>0.000676</td>\n",
       "      <td>0.001308</td>\n",
       "      <td>False</td>\n",
       "      <td>3.492434</td>\n",
       "      <td>3.065480</td>\n",
       "      <td>3.621364</td>\n",
       "      <td>0.444054</td>\n",
       "      <td>0.630735</td>\n",
       "      <td>0.352013</td>\n",
       "      <td>1.254812</td>\n",
       "      <td>0.406832</td>\n",
       "      <td>0.951164</td>\n",
       "      <td>0.350836</td>\n",
       "    </tr>\n",
       "    <tr>\n",
       "      <th>1</th>\n",
       "      <td>1</td>\n",
       "      <td>Other</td>\n",
       "      <td>0.363011</td>\n",
       "      <td>NaN</td>\n",
       "      <td>False</td>\n",
       "      <td>0.000005</td>\n",
       "      <td>False</td>\n",
       "      <td>0.000133</td>\n",
       "      <td>0.000063</td>\n",
       "      <td>False</td>\n",
       "      <td>15.259659</td>\n",
       "      <td>15.773348</td>\n",
       "      <td>4.781738</td>\n",
       "      <td>0.699583</td>\n",
       "      <td>0.963582</td>\n",
       "      <td>0.363011</td>\n",
       "      <td>1.336623</td>\n",
       "      <td>0.478926</td>\n",
       "      <td>0.789206</td>\n",
       "      <td>0.427605</td>\n",
       "    </tr>\n",
       "    <tr>\n",
       "      <th>2</th>\n",
       "      <td>2</td>\n",
       "      <td>Shared</td>\n",
       "      <td>0.484854</td>\n",
       "      <td>NaN</td>\n",
       "      <td>False</td>\n",
       "      <td>0.000134</td>\n",
       "      <td>False</td>\n",
       "      <td>0.000004</td>\n",
       "      <td>0.000075</td>\n",
       "      <td>False</td>\n",
       "      <td>15.845021</td>\n",
       "      <td>2.822504</td>\n",
       "      <td>16.150652</td>\n",
       "      <td>0.978735</td>\n",
       "      <td>1.009308</td>\n",
       "      <td>0.484854</td>\n",
       "      <td>1.014087</td>\n",
       "      <td>0.568982</td>\n",
       "      <td>0.912176</td>\n",
       "      <td>0.526007</td>\n",
       "    </tr>\n",
       "    <tr>\n",
       "      <th>3</th>\n",
       "      <td>3</td>\n",
       "      <td>Shared</td>\n",
       "      <td>0.456325</td>\n",
       "      <td>NaN</td>\n",
       "      <td>False</td>\n",
       "      <td>0.000018</td>\n",
       "      <td>False</td>\n",
       "      <td>0.000670</td>\n",
       "      <td>0.000310</td>\n",
       "      <td>False</td>\n",
       "      <td>9.206497</td>\n",
       "      <td>9.398869</td>\n",
       "      <td>3.335491</td>\n",
       "      <td>0.738498</td>\n",
       "      <td>0.809179</td>\n",
       "      <td>0.456325</td>\n",
       "      <td>1.081213</td>\n",
       "      <td>0.549125</td>\n",
       "      <td>0.959958</td>\n",
       "      <td>0.600122</td>\n",
       "    </tr>\n",
       "    <tr>\n",
       "      <th>4</th>\n",
       "      <td>4</td>\n",
       "      <td>Shared</td>\n",
       "      <td>0.518658</td>\n",
       "      <td>NaN</td>\n",
       "      <td>False</td>\n",
       "      <td>0.000273</td>\n",
       "      <td>False</td>\n",
       "      <td>0.000024</td>\n",
       "      <td>0.000161</td>\n",
       "      <td>False</td>\n",
       "      <td>12.409294</td>\n",
       "      <td>4.161946</td>\n",
       "      <td>12.998833</td>\n",
       "      <td>0.936113</td>\n",
       "      <td>0.901181</td>\n",
       "      <td>0.518658</td>\n",
       "      <td>0.970215</td>\n",
       "      <td>0.600979</td>\n",
       "      <td>0.937031</td>\n",
       "      <td>0.469657</td>\n",
       "    </tr>\n",
       "  </tbody>\n",
       "</table>\n",
       "</div>"
      ],
      "text/plain": [
       "   Unnamed: 0     tag  dec_norm_diff  base uselessness score  fw_dead  \\\n",
       "0           0   Other       0.352013                     NaN    False   \n",
       "1           1   Other       0.363011                     NaN    False   \n",
       "2           2  Shared       0.484854                     NaN    False   \n",
       "3           3  Shared       0.456325                     NaN    False   \n",
       "4           4  Shared       0.518658                     NaN    False   \n",
       "\n",
       "    fw_freq  lmsys_dead  lmsys_freq      freq   dead  avg_activation  \\\n",
       "0  0.001822       False    0.000676  0.001308  False        3.492434   \n",
       "1  0.000005       False    0.000133  0.000063  False       15.259659   \n",
       "2  0.000134       False    0.000004  0.000075  False       15.845021   \n",
       "3  0.000018       False    0.000670  0.000310  False        9.206497   \n",
       "4  0.000273       False    0.000024  0.000161  False       12.409294   \n",
       "\n",
       "   lmsys_avg_activation  fw_avg_activation  dec_base_norm  dec_instruct_norm  \\\n",
       "0              3.065480           3.621364       0.444054           0.630735   \n",
       "1             15.773348           4.781738       0.699583           0.963582   \n",
       "2              2.822504          16.150652       0.978735           1.009308   \n",
       "3              9.398869           3.335491       0.738498           0.809179   \n",
       "4              4.161946          12.998833       0.936113           0.901181   \n",
       "\n",
       "   dec_norm_diff.1  enc_instruct_norm  enc_norm_diff  dec_cos_sim  enc_cos_sim  \n",
       "0         0.352013           1.254812       0.406832     0.951164     0.350836  \n",
       "1         0.363011           1.336623       0.478926     0.789206     0.427605  \n",
       "2         0.484854           1.014087       0.568982     0.912176     0.526007  \n",
       "3         0.456325           1.081213       0.549125     0.959958     0.600122  \n",
       "4         0.518658           0.970215       0.600979     0.937031     0.469657  "
      ]
     },
     "execution_count": 95,
     "metadata": {},
     "output_type": "execute_result"
    }
   ],
   "source": [
    "features_df.head()"
   ]
  },
  {
   "cell_type": "code",
   "execution_count": 135,
   "metadata": {},
   "outputs": [
    {
     "data": {
      "text/html": [
       "<div>\n",
       "<style scoped>\n",
       "    .dataframe tbody tr th:only-of-type {\n",
       "        vertical-align: middle;\n",
       "    }\n",
       "\n",
       "    .dataframe tbody tr th {\n",
       "        vertical-align: top;\n",
       "    }\n",
       "\n",
       "    .dataframe thead th {\n",
       "        text-align: right;\n",
       "    }\n",
       "</style>\n",
       "<table border=\"1\" class=\"dataframe\">\n",
       "  <thead>\n",
       "    <tr style=\"text-align: right;\">\n",
       "      <th></th>\n",
       "      <th>Unnamed: 0</th>\n",
       "      <th>tag</th>\n",
       "      <th>dec_norm_diff</th>\n",
       "      <th>base uselessness score</th>\n",
       "      <th>fw_dead</th>\n",
       "      <th>fw_freq</th>\n",
       "      <th>lmsys_dead</th>\n",
       "      <th>lmsys_freq</th>\n",
       "      <th>freq</th>\n",
       "      <th>dead</th>\n",
       "      <th>avg_activation</th>\n",
       "      <th>lmsys_avg_activation</th>\n",
       "      <th>fw_avg_activation</th>\n",
       "      <th>dec_base_norm</th>\n",
       "      <th>dec_instruct_norm</th>\n",
       "      <th>dec_norm_diff.1</th>\n",
       "      <th>enc_instruct_norm</th>\n",
       "      <th>enc_norm_diff</th>\n",
       "      <th>dec_cos_sim</th>\n",
       "      <th>enc_cos_sim</th>\n",
       "    </tr>\n",
       "  </thead>\n",
       "  <tbody>\n",
       "    <tr>\n",
       "      <th>55</th>\n",
       "      <td>55</td>\n",
       "      <td>IT only</td>\n",
       "      <td>0.074728</td>\n",
       "      <td>0.564171</td>\n",
       "      <td>False</td>\n",
       "      <td>0.000488</td>\n",
       "      <td>False</td>\n",
       "      <td>0.001979</td>\n",
       "      <td>0.001157</td>\n",
       "      <td>False</td>\n",
       "      <td>3.202730</td>\n",
       "      <td>3.581563</td>\n",
       "      <td>1.953797</td>\n",
       "      <td>0.101822</td>\n",
       "      <td>0.681284</td>\n",
       "      <td>0.074728</td>\n",
       "      <td>1.557794</td>\n",
       "      <td>0.332738</td>\n",
       "      <td>0.843234</td>\n",
       "      <td>-0.175372</td>\n",
       "    </tr>\n",
       "    <tr>\n",
       "      <th>60</th>\n",
       "      <td>60</td>\n",
       "      <td>IT only</td>\n",
       "      <td>0.035816</td>\n",
       "      <td>1.236563</td>\n",
       "      <td>False</td>\n",
       "      <td>0.000045</td>\n",
       "      <td>False</td>\n",
       "      <td>0.001012</td>\n",
       "      <td>0.000479</td>\n",
       "      <td>False</td>\n",
       "      <td>4.266567</td>\n",
       "      <td>4.371139</td>\n",
       "      <td>2.350784</td>\n",
       "      <td>0.059344</td>\n",
       "      <td>0.828444</td>\n",
       "      <td>0.035816</td>\n",
       "      <td>1.604830</td>\n",
       "      <td>0.329540</td>\n",
       "      <td>0.722403</td>\n",
       "      <td>-0.080610</td>\n",
       "    </tr>\n",
       "    <tr>\n",
       "      <th>82</th>\n",
       "      <td>82</td>\n",
       "      <td>IT only</td>\n",
       "      <td>0.020163</td>\n",
       "      <td>1.676865</td>\n",
       "      <td>False</td>\n",
       "      <td>0.001617</td>\n",
       "      <td>False</td>\n",
       "      <td>0.001143</td>\n",
       "      <td>0.001405</td>\n",
       "      <td>False</td>\n",
       "      <td>2.677492</td>\n",
       "      <td>2.581585</td>\n",
       "      <td>2.732608</td>\n",
       "      <td>0.028912</td>\n",
       "      <td>0.716964</td>\n",
       "      <td>0.020163</td>\n",
       "      <td>1.516055</td>\n",
       "      <td>0.310337</td>\n",
       "      <td>0.690546</td>\n",
       "      <td>-0.441748</td>\n",
       "    </tr>\n",
       "    <tr>\n",
       "      <th>112</th>\n",
       "      <td>112</td>\n",
       "      <td>IT only</td>\n",
       "      <td>0.023094</td>\n",
       "      <td>2.981352</td>\n",
       "      <td>False</td>\n",
       "      <td>0.000089</td>\n",
       "      <td>False</td>\n",
       "      <td>0.002492</td>\n",
       "      <td>0.001167</td>\n",
       "      <td>False</td>\n",
       "      <td>3.459594</td>\n",
       "      <td>3.555409</td>\n",
       "      <td>1.285178</td>\n",
       "      <td>0.039783</td>\n",
       "      <td>0.861325</td>\n",
       "      <td>0.023094</td>\n",
       "      <td>1.675538</td>\n",
       "      <td>0.301523</td>\n",
       "      <td>0.503876</td>\n",
       "      <td>-0.571856</td>\n",
       "    </tr>\n",
       "    <tr>\n",
       "      <th>119</th>\n",
       "      <td>119</td>\n",
       "      <td>IT only</td>\n",
       "      <td>0.021084</td>\n",
       "      <td>1.297546</td>\n",
       "      <td>False</td>\n",
       "      <td>0.001157</td>\n",
       "      <td>False</td>\n",
       "      <td>0.002090</td>\n",
       "      <td>0.001575</td>\n",
       "      <td>False</td>\n",
       "      <td>2.417748</td>\n",
       "      <td>2.794493</td>\n",
       "      <td>1.864164</td>\n",
       "      <td>0.028905</td>\n",
       "      <td>0.685456</td>\n",
       "      <td>0.021084</td>\n",
       "      <td>1.515526</td>\n",
       "      <td>0.303074</td>\n",
       "      <td>0.705488</td>\n",
       "      <td>-0.423053</td>\n",
       "    </tr>\n",
       "    <tr>\n",
       "      <th>...</th>\n",
       "      <td>...</td>\n",
       "      <td>...</td>\n",
       "      <td>...</td>\n",
       "      <td>...</td>\n",
       "      <td>...</td>\n",
       "      <td>...</td>\n",
       "      <td>...</td>\n",
       "      <td>...</td>\n",
       "      <td>...</td>\n",
       "      <td>...</td>\n",
       "      <td>...</td>\n",
       "      <td>...</td>\n",
       "      <td>...</td>\n",
       "      <td>...</td>\n",
       "      <td>...</td>\n",
       "      <td>...</td>\n",
       "      <td>...</td>\n",
       "      <td>...</td>\n",
       "      <td>...</td>\n",
       "      <td>...</td>\n",
       "    </tr>\n",
       "    <tr>\n",
       "      <th>73609</th>\n",
       "      <td>73609</td>\n",
       "      <td>IT only</td>\n",
       "      <td>0.021617</td>\n",
       "      <td>0.121697</td>\n",
       "      <td>False</td>\n",
       "      <td>0.008375</td>\n",
       "      <td>False</td>\n",
       "      <td>0.002793</td>\n",
       "      <td>0.005871</td>\n",
       "      <td>False</td>\n",
       "      <td>1.451566</td>\n",
       "      <td>1.315721</td>\n",
       "      <td>1.488406</td>\n",
       "      <td>0.026693</td>\n",
       "      <td>0.617411</td>\n",
       "      <td>0.021617</td>\n",
       "      <td>1.238191</td>\n",
       "      <td>0.283780</td>\n",
       "      <td>0.800162</td>\n",
       "      <td>-0.463971</td>\n",
       "    </tr>\n",
       "    <tr>\n",
       "      <th>73617</th>\n",
       "      <td>73617</td>\n",
       "      <td>IT only</td>\n",
       "      <td>0.055368</td>\n",
       "      <td>8.885779</td>\n",
       "      <td>False</td>\n",
       "      <td>0.000099</td>\n",
       "      <td>False</td>\n",
       "      <td>0.000792</td>\n",
       "      <td>0.000410</td>\n",
       "      <td>False</td>\n",
       "      <td>4.934964</td>\n",
       "      <td>5.324376</td>\n",
       "      <td>2.388831</td>\n",
       "      <td>0.093092</td>\n",
       "      <td>0.840671</td>\n",
       "      <td>0.055368</td>\n",
       "      <td>1.714094</td>\n",
       "      <td>0.300740</td>\n",
       "      <td>0.490673</td>\n",
       "      <td>-0.064851</td>\n",
       "    </tr>\n",
       "    <tr>\n",
       "      <th>73637</th>\n",
       "      <td>73637</td>\n",
       "      <td>IT only</td>\n",
       "      <td>0.039172</td>\n",
       "      <td>3.191391</td>\n",
       "      <td>False</td>\n",
       "      <td>0.000040</td>\n",
       "      <td>False</td>\n",
       "      <td>0.000495</td>\n",
       "      <td>0.000244</td>\n",
       "      <td>False</td>\n",
       "      <td>5.244663</td>\n",
       "      <td>5.520833</td>\n",
       "      <td>2.474983</td>\n",
       "      <td>0.071500</td>\n",
       "      <td>0.912634</td>\n",
       "      <td>0.039172</td>\n",
       "      <td>1.790623</td>\n",
       "      <td>0.319846</td>\n",
       "      <td>0.482266</td>\n",
       "      <td>-0.192588</td>\n",
       "    </tr>\n",
       "    <tr>\n",
       "      <th>73650</th>\n",
       "      <td>73650</td>\n",
       "      <td>IT only</td>\n",
       "      <td>0.061905</td>\n",
       "      <td>0.439936</td>\n",
       "      <td>False</td>\n",
       "      <td>0.001049</td>\n",
       "      <td>False</td>\n",
       "      <td>0.002605</td>\n",
       "      <td>0.001747</td>\n",
       "      <td>False</td>\n",
       "      <td>2.503193</td>\n",
       "      <td>2.780081</td>\n",
       "      <td>1.943675</td>\n",
       "      <td>0.078565</td>\n",
       "      <td>0.634561</td>\n",
       "      <td>0.061905</td>\n",
       "      <td>1.523299</td>\n",
       "      <td>0.324320</td>\n",
       "      <td>0.734661</td>\n",
       "      <td>-0.255356</td>\n",
       "    </tr>\n",
       "    <tr>\n",
       "      <th>73719</th>\n",
       "      <td>73719</td>\n",
       "      <td>IT only</td>\n",
       "      <td>0.062135</td>\n",
       "      <td>2.774271</td>\n",
       "      <td>False</td>\n",
       "      <td>0.000002</td>\n",
       "      <td>False</td>\n",
       "      <td>0.000122</td>\n",
       "      <td>0.000056</td>\n",
       "      <td>False</td>\n",
       "      <td>10.282964</td>\n",
       "      <td>10.438540</td>\n",
       "      <td>3.973469</td>\n",
       "      <td>0.125032</td>\n",
       "      <td>1.006121</td>\n",
       "      <td>0.062135</td>\n",
       "      <td>1.519469</td>\n",
       "      <td>0.376144</td>\n",
       "      <td>0.363141</td>\n",
       "      <td>0.044593</td>\n",
       "    </tr>\n",
       "  </tbody>\n",
       "</table>\n",
       "<p>3176 rows × 20 columns</p>\n",
       "</div>"
      ],
      "text/plain": [
       "       Unnamed: 0      tag  dec_norm_diff  base uselessness score  fw_dead  \\\n",
       "55             55  IT only       0.074728                0.564171    False   \n",
       "60             60  IT only       0.035816                1.236563    False   \n",
       "82             82  IT only       0.020163                1.676865    False   \n",
       "112           112  IT only       0.023094                2.981352    False   \n",
       "119           119  IT only       0.021084                1.297546    False   \n",
       "...           ...      ...            ...                     ...      ...   \n",
       "73609       73609  IT only       0.021617                0.121697    False   \n",
       "73617       73617  IT only       0.055368                8.885779    False   \n",
       "73637       73637  IT only       0.039172                3.191391    False   \n",
       "73650       73650  IT only       0.061905                0.439936    False   \n",
       "73719       73719  IT only       0.062135                2.774271    False   \n",
       "\n",
       "        fw_freq  lmsys_dead  lmsys_freq      freq   dead  avg_activation  \\\n",
       "55     0.000488       False    0.001979  0.001157  False        3.202730   \n",
       "60     0.000045       False    0.001012  0.000479  False        4.266567   \n",
       "82     0.001617       False    0.001143  0.001405  False        2.677492   \n",
       "112    0.000089       False    0.002492  0.001167  False        3.459594   \n",
       "119    0.001157       False    0.002090  0.001575  False        2.417748   \n",
       "...         ...         ...         ...       ...    ...             ...   \n",
       "73609  0.008375       False    0.002793  0.005871  False        1.451566   \n",
       "73617  0.000099       False    0.000792  0.000410  False        4.934964   \n",
       "73637  0.000040       False    0.000495  0.000244  False        5.244663   \n",
       "73650  0.001049       False    0.002605  0.001747  False        2.503193   \n",
       "73719  0.000002       False    0.000122  0.000056  False       10.282964   \n",
       "\n",
       "       lmsys_avg_activation  fw_avg_activation  dec_base_norm  \\\n",
       "55                 3.581563           1.953797       0.101822   \n",
       "60                 4.371139           2.350784       0.059344   \n",
       "82                 2.581585           2.732608       0.028912   \n",
       "112                3.555409           1.285178       0.039783   \n",
       "119                2.794493           1.864164       0.028905   \n",
       "...                     ...                ...            ...   \n",
       "73609              1.315721           1.488406       0.026693   \n",
       "73617              5.324376           2.388831       0.093092   \n",
       "73637              5.520833           2.474983       0.071500   \n",
       "73650              2.780081           1.943675       0.078565   \n",
       "73719             10.438540           3.973469       0.125032   \n",
       "\n",
       "       dec_instruct_norm  dec_norm_diff.1  enc_instruct_norm  enc_norm_diff  \\\n",
       "55              0.681284         0.074728           1.557794       0.332738   \n",
       "60              0.828444         0.035816           1.604830       0.329540   \n",
       "82              0.716964         0.020163           1.516055       0.310337   \n",
       "112             0.861325         0.023094           1.675538       0.301523   \n",
       "119             0.685456         0.021084           1.515526       0.303074   \n",
       "...                  ...              ...                ...            ...   \n",
       "73609           0.617411         0.021617           1.238191       0.283780   \n",
       "73617           0.840671         0.055368           1.714094       0.300740   \n",
       "73637           0.912634         0.039172           1.790623       0.319846   \n",
       "73650           0.634561         0.061905           1.523299       0.324320   \n",
       "73719           1.006121         0.062135           1.519469       0.376144   \n",
       "\n",
       "       dec_cos_sim  enc_cos_sim  \n",
       "55        0.843234    -0.175372  \n",
       "60        0.722403    -0.080610  \n",
       "82        0.690546    -0.441748  \n",
       "112       0.503876    -0.571856  \n",
       "119       0.705488    -0.423053  \n",
       "...            ...          ...  \n",
       "73609     0.800162    -0.463971  \n",
       "73617     0.490673    -0.064851  \n",
       "73637     0.482266    -0.192588  \n",
       "73650     0.734661    -0.255356  \n",
       "73719     0.363141     0.044593  \n",
       "\n",
       "[3176 rows x 20 columns]"
      ]
     },
     "execution_count": 135,
     "metadata": {},
     "output_type": "execute_result"
    }
   ],
   "source": [
    "it_only_indices = features_df[features_df[\"tag\"] == \"IT only\"].index\n",
    "stage1_it_only_indices = features_df[(features_df[\"tag\"] == \"IT only\") & (features_df[\"base uselessness score\"] > 7.0)].index\n",
    "shared_indices = features_df[features_df[\"tag\"] == \"Shared\"].index\n",
    "base_only_indices = features_df[features_df[\"tag\"] == \"Base only\"].index\n",
    "it_only = features_df[features_df[\"tag\"] == \"IT only\"]\n",
    "it_only"
   ]
  },
  {
   "cell_type": "code",
   "execution_count": 136,
   "metadata": {},
   "outputs": [
    {
     "data": {
      "text/plain": [
       "Index([  771,   883,  1045,  1353,  1742,  2412,  3129,  3746,  3857,  4194,\n",
       "       ...\n",
       "       71138, 71200, 71658, 72073, 72097, 72313, 72943, 73200, 73286, 73617],\n",
       "      dtype='int64', length=180)"
      ]
     },
     "execution_count": 136,
     "metadata": {},
     "output_type": "execute_result"
    }
   ],
   "source": [
    "stage1_it_only_indices"
   ]
  },
  {
   "cell_type": "code",
   "execution_count": 137,
   "metadata": {},
   "outputs": [],
   "source": [
    "def naninfmetric(data, metric=\"mean\"):\n",
    "    data = np.where(np.isinf(data), 1e10, data)\n",
    "    if metric == \"mean\":\n",
    "        return np.nanmean(data, axis=0)\n",
    "    elif metric == \"median\":\n",
    "        return np.nanmedian(data, axis=0)\n",
    "    else:\n",
    "        raise ValueError(f\"Invalid metric: {metric}\")"
   ]
  },
  {
   "cell_type": "code",
   "execution_count": 144,
   "metadata": {},
   "outputs": [
    {
     "data": {
      "application/vnd.plotly.v1+json": {
       "config": {
        "plotlyServerURL": "https://plot.ly"
       },
       "data": [
        {
         "line": {
          "color": "red",
          "width": 2
         },
         "mode": "lines",
         "name": "Stage 0 IT Only median",
         "type": "scatter",
         "x": [
          "00%-10%",
          "10%-20%",
          "20%-30%",
          "30%-40%",
          "40%-50%",
          "50%-60%",
          "60%-70%",
          "70%-80%",
          "80%-90%",
          "90%-100%"
         ],
         "y": [
          0.9472532,
          0.68747747,
          0.6605039,
          0.6326405,
          0.6140077,
          0.5975081,
          0.57906926,
          0.56734157,
          0.5595883,
          0.5422474
         ]
        },
        {
         "line": {
          "color": "lightcoral",
          "width": 2
         },
         "mode": "lines",
         "name": "Stage 1 IT Only median",
         "type": "scatter",
         "x": [
          "00%-10%",
          "10%-20%",
          "20%-30%",
          "30%-40%",
          "40%-50%",
          "50%-60%",
          "60%-70%",
          "70%-80%",
          "80%-90%",
          "90%-100%"
         ],
         "y": [
          0.94983375,
          0.5916907,
          0.561599,
          0.5374185,
          0.51863086,
          0.48672867,
          0.4897459,
          0.4557677,
          0.4339707,
          0.42031264
         ]
        },
        {
         "line": {
          "color": "green",
          "width": 2
         },
         "mode": "lines",
         "name": "Shared median",
         "type": "scatter",
         "x": [
          "00%-10%",
          "10%-20%",
          "20%-30%",
          "30%-40%",
          "40%-50%",
          "50%-60%",
          "60%-70%",
          "70%-80%",
          "80%-90%",
          "90%-100%"
         ],
         "y": [
          0.91815746,
          0.8935561,
          0.8924701,
          0.8907846,
          0.8888709,
          0.88786846,
          0.8862904,
          0.8854695,
          0.88236207,
          0.8780073
         ]
        },
        {
         "line": {
          "color": "blue",
          "width": 2
         },
         "mode": "lines",
         "name": "Base Only median",
         "type": "scatter",
         "x": [
          "00%-10%",
          "10%-20%",
          "20%-30%",
          "30%-40%",
          "40%-50%",
          "50%-60%",
          "60%-70%",
          "70%-80%",
          "80%-90%",
          "90%-100%"
         ],
         "y": [
          0.942717,
          0.93273115,
          0.9400123,
          0.9474533,
          0.9535191,
          0.9618526,
          0.96618164,
          0.9682985,
          0.9753943,
          0.9785584
         ]
        }
       ],
       "layout": {
        "height": 500,
        "legend": {
         "x": 0.99,
         "xanchor": "right",
         "y": 0.3,
         "yanchor": "top"
        },
        "showlegend": true,
        "template": {
         "data": {
          "bar": [
           {
            "error_x": {
             "color": "#2a3f5f"
            },
            "error_y": {
             "color": "#2a3f5f"
            },
            "marker": {
             "line": {
              "color": "white",
              "width": 0.5
             },
             "pattern": {
              "fillmode": "overlay",
              "size": 10,
              "solidity": 0.2
             }
            },
            "type": "bar"
           }
          ],
          "barpolar": [
           {
            "marker": {
             "line": {
              "color": "white",
              "width": 0.5
             },
             "pattern": {
              "fillmode": "overlay",
              "size": 10,
              "solidity": 0.2
             }
            },
            "type": "barpolar"
           }
          ],
          "carpet": [
           {
            "aaxis": {
             "endlinecolor": "#2a3f5f",
             "gridcolor": "#C8D4E3",
             "linecolor": "#C8D4E3",
             "minorgridcolor": "#C8D4E3",
             "startlinecolor": "#2a3f5f"
            },
            "baxis": {
             "endlinecolor": "#2a3f5f",
             "gridcolor": "#C8D4E3",
             "linecolor": "#C8D4E3",
             "minorgridcolor": "#C8D4E3",
             "startlinecolor": "#2a3f5f"
            },
            "type": "carpet"
           }
          ],
          "choropleth": [
           {
            "colorbar": {
             "outlinewidth": 0,
             "ticks": ""
            },
            "type": "choropleth"
           }
          ],
          "contour": [
           {
            "colorbar": {
             "outlinewidth": 0,
             "ticks": ""
            },
            "colorscale": [
             [
              0,
              "#0d0887"
             ],
             [
              0.1111111111111111,
              "#46039f"
             ],
             [
              0.2222222222222222,
              "#7201a8"
             ],
             [
              0.3333333333333333,
              "#9c179e"
             ],
             [
              0.4444444444444444,
              "#bd3786"
             ],
             [
              0.5555555555555556,
              "#d8576b"
             ],
             [
              0.6666666666666666,
              "#ed7953"
             ],
             [
              0.7777777777777778,
              "#fb9f3a"
             ],
             [
              0.8888888888888888,
              "#fdca26"
             ],
             [
              1,
              "#f0f921"
             ]
            ],
            "type": "contour"
           }
          ],
          "contourcarpet": [
           {
            "colorbar": {
             "outlinewidth": 0,
             "ticks": ""
            },
            "type": "contourcarpet"
           }
          ],
          "heatmap": [
           {
            "colorbar": {
             "outlinewidth": 0,
             "ticks": ""
            },
            "colorscale": [
             [
              0,
              "#0d0887"
             ],
             [
              0.1111111111111111,
              "#46039f"
             ],
             [
              0.2222222222222222,
              "#7201a8"
             ],
             [
              0.3333333333333333,
              "#9c179e"
             ],
             [
              0.4444444444444444,
              "#bd3786"
             ],
             [
              0.5555555555555556,
              "#d8576b"
             ],
             [
              0.6666666666666666,
              "#ed7953"
             ],
             [
              0.7777777777777778,
              "#fb9f3a"
             ],
             [
              0.8888888888888888,
              "#fdca26"
             ],
             [
              1,
              "#f0f921"
             ]
            ],
            "type": "heatmap"
           }
          ],
          "heatmapgl": [
           {
            "colorbar": {
             "outlinewidth": 0,
             "ticks": ""
            },
            "colorscale": [
             [
              0,
              "#0d0887"
             ],
             [
              0.1111111111111111,
              "#46039f"
             ],
             [
              0.2222222222222222,
              "#7201a8"
             ],
             [
              0.3333333333333333,
              "#9c179e"
             ],
             [
              0.4444444444444444,
              "#bd3786"
             ],
             [
              0.5555555555555556,
              "#d8576b"
             ],
             [
              0.6666666666666666,
              "#ed7953"
             ],
             [
              0.7777777777777778,
              "#fb9f3a"
             ],
             [
              0.8888888888888888,
              "#fdca26"
             ],
             [
              1,
              "#f0f921"
             ]
            ],
            "type": "heatmapgl"
           }
          ],
          "histogram": [
           {
            "marker": {
             "pattern": {
              "fillmode": "overlay",
              "size": 10,
              "solidity": 0.2
             }
            },
            "type": "histogram"
           }
          ],
          "histogram2d": [
           {
            "colorbar": {
             "outlinewidth": 0,
             "ticks": ""
            },
            "colorscale": [
             [
              0,
              "#0d0887"
             ],
             [
              0.1111111111111111,
              "#46039f"
             ],
             [
              0.2222222222222222,
              "#7201a8"
             ],
             [
              0.3333333333333333,
              "#9c179e"
             ],
             [
              0.4444444444444444,
              "#bd3786"
             ],
             [
              0.5555555555555556,
              "#d8576b"
             ],
             [
              0.6666666666666666,
              "#ed7953"
             ],
             [
              0.7777777777777778,
              "#fb9f3a"
             ],
             [
              0.8888888888888888,
              "#fdca26"
             ],
             [
              1,
              "#f0f921"
             ]
            ],
            "type": "histogram2d"
           }
          ],
          "histogram2dcontour": [
           {
            "colorbar": {
             "outlinewidth": 0,
             "ticks": ""
            },
            "colorscale": [
             [
              0,
              "#0d0887"
             ],
             [
              0.1111111111111111,
              "#46039f"
             ],
             [
              0.2222222222222222,
              "#7201a8"
             ],
             [
              0.3333333333333333,
              "#9c179e"
             ],
             [
              0.4444444444444444,
              "#bd3786"
             ],
             [
              0.5555555555555556,
              "#d8576b"
             ],
             [
              0.6666666666666666,
              "#ed7953"
             ],
             [
              0.7777777777777778,
              "#fb9f3a"
             ],
             [
              0.8888888888888888,
              "#fdca26"
             ],
             [
              1,
              "#f0f921"
             ]
            ],
            "type": "histogram2dcontour"
           }
          ],
          "mesh3d": [
           {
            "colorbar": {
             "outlinewidth": 0,
             "ticks": ""
            },
            "type": "mesh3d"
           }
          ],
          "parcoords": [
           {
            "line": {
             "colorbar": {
              "outlinewidth": 0,
              "ticks": ""
             }
            },
            "type": "parcoords"
           }
          ],
          "pie": [
           {
            "automargin": true,
            "type": "pie"
           }
          ],
          "scatter": [
           {
            "fillpattern": {
             "fillmode": "overlay",
             "size": 10,
             "solidity": 0.2
            },
            "type": "scatter"
           }
          ],
          "scatter3d": [
           {
            "line": {
             "colorbar": {
              "outlinewidth": 0,
              "ticks": ""
             }
            },
            "marker": {
             "colorbar": {
              "outlinewidth": 0,
              "ticks": ""
             }
            },
            "type": "scatter3d"
           }
          ],
          "scattercarpet": [
           {
            "marker": {
             "colorbar": {
              "outlinewidth": 0,
              "ticks": ""
             }
            },
            "type": "scattercarpet"
           }
          ],
          "scattergeo": [
           {
            "marker": {
             "colorbar": {
              "outlinewidth": 0,
              "ticks": ""
             }
            },
            "type": "scattergeo"
           }
          ],
          "scattergl": [
           {
            "marker": {
             "colorbar": {
              "outlinewidth": 0,
              "ticks": ""
             }
            },
            "type": "scattergl"
           }
          ],
          "scattermapbox": [
           {
            "marker": {
             "colorbar": {
              "outlinewidth": 0,
              "ticks": ""
             }
            },
            "type": "scattermapbox"
           }
          ],
          "scatterpolar": [
           {
            "marker": {
             "colorbar": {
              "outlinewidth": 0,
              "ticks": ""
             }
            },
            "type": "scatterpolar"
           }
          ],
          "scatterpolargl": [
           {
            "marker": {
             "colorbar": {
              "outlinewidth": 0,
              "ticks": ""
             }
            },
            "type": "scatterpolargl"
           }
          ],
          "scatterternary": [
           {
            "marker": {
             "colorbar": {
              "outlinewidth": 0,
              "ticks": ""
             }
            },
            "type": "scatterternary"
           }
          ],
          "surface": [
           {
            "colorbar": {
             "outlinewidth": 0,
             "ticks": ""
            },
            "colorscale": [
             [
              0,
              "#0d0887"
             ],
             [
              0.1111111111111111,
              "#46039f"
             ],
             [
              0.2222222222222222,
              "#7201a8"
             ],
             [
              0.3333333333333333,
              "#9c179e"
             ],
             [
              0.4444444444444444,
              "#bd3786"
             ],
             [
              0.5555555555555556,
              "#d8576b"
             ],
             [
              0.6666666666666666,
              "#ed7953"
             ],
             [
              0.7777777777777778,
              "#fb9f3a"
             ],
             [
              0.8888888888888888,
              "#fdca26"
             ],
             [
              1,
              "#f0f921"
             ]
            ],
            "type": "surface"
           }
          ],
          "table": [
           {
            "cells": {
             "fill": {
              "color": "#EBF0F8"
             },
             "line": {
              "color": "white"
             }
            },
            "header": {
             "fill": {
              "color": "#C8D4E3"
             },
             "line": {
              "color": "white"
             }
            },
            "type": "table"
           }
          ]
         },
         "layout": {
          "annotationdefaults": {
           "arrowcolor": "#2a3f5f",
           "arrowhead": 0,
           "arrowwidth": 1
          },
          "autotypenumbers": "strict",
          "coloraxis": {
           "colorbar": {
            "outlinewidth": 0,
            "ticks": ""
           }
          },
          "colorscale": {
           "diverging": [
            [
             0,
             "#8e0152"
            ],
            [
             0.1,
             "#c51b7d"
            ],
            [
             0.2,
             "#de77ae"
            ],
            [
             0.3,
             "#f1b6da"
            ],
            [
             0.4,
             "#fde0ef"
            ],
            [
             0.5,
             "#f7f7f7"
            ],
            [
             0.6,
             "#e6f5d0"
            ],
            [
             0.7,
             "#b8e186"
            ],
            [
             0.8,
             "#7fbc41"
            ],
            [
             0.9,
             "#4d9221"
            ],
            [
             1,
             "#276419"
            ]
           ],
           "sequential": [
            [
             0,
             "#0d0887"
            ],
            [
             0.1111111111111111,
             "#46039f"
            ],
            [
             0.2222222222222222,
             "#7201a8"
            ],
            [
             0.3333333333333333,
             "#9c179e"
            ],
            [
             0.4444444444444444,
             "#bd3786"
            ],
            [
             0.5555555555555556,
             "#d8576b"
            ],
            [
             0.6666666666666666,
             "#ed7953"
            ],
            [
             0.7777777777777778,
             "#fb9f3a"
            ],
            [
             0.8888888888888888,
             "#fdca26"
            ],
            [
             1,
             "#f0f921"
            ]
           ],
           "sequentialminus": [
            [
             0,
             "#0d0887"
            ],
            [
             0.1111111111111111,
             "#46039f"
            ],
            [
             0.2222222222222222,
             "#7201a8"
            ],
            [
             0.3333333333333333,
             "#9c179e"
            ],
            [
             0.4444444444444444,
             "#bd3786"
            ],
            [
             0.5555555555555556,
             "#d8576b"
            ],
            [
             0.6666666666666666,
             "#ed7953"
            ],
            [
             0.7777777777777778,
             "#fb9f3a"
            ],
            [
             0.8888888888888888,
             "#fdca26"
            ],
            [
             1,
             "#f0f921"
            ]
           ]
          },
          "colorway": [
           "#636efa",
           "#EF553B",
           "#00cc96",
           "#ab63fa",
           "#FFA15A",
           "#19d3f3",
           "#FF6692",
           "#B6E880",
           "#FF97FF",
           "#FECB52"
          ],
          "font": {
           "color": "#2a3f5f"
          },
          "geo": {
           "bgcolor": "white",
           "lakecolor": "white",
           "landcolor": "white",
           "showlakes": true,
           "showland": true,
           "subunitcolor": "#C8D4E3"
          },
          "hoverlabel": {
           "align": "left"
          },
          "hovermode": "closest",
          "mapbox": {
           "style": "light"
          },
          "paper_bgcolor": "white",
          "plot_bgcolor": "white",
          "polar": {
           "angularaxis": {
            "gridcolor": "#EBF0F8",
            "linecolor": "#EBF0F8",
            "ticks": ""
           },
           "bgcolor": "white",
           "radialaxis": {
            "gridcolor": "#EBF0F8",
            "linecolor": "#EBF0F8",
            "ticks": ""
           }
          },
          "scene": {
           "xaxis": {
            "backgroundcolor": "white",
            "gridcolor": "#DFE8F3",
            "gridwidth": 2,
            "linecolor": "#EBF0F8",
            "showbackground": true,
            "ticks": "",
            "zerolinecolor": "#EBF0F8"
           },
           "yaxis": {
            "backgroundcolor": "white",
            "gridcolor": "#DFE8F3",
            "gridwidth": 2,
            "linecolor": "#EBF0F8",
            "showbackground": true,
            "ticks": "",
            "zerolinecolor": "#EBF0F8"
           },
           "zaxis": {
            "backgroundcolor": "white",
            "gridcolor": "#DFE8F3",
            "gridwidth": 2,
            "linecolor": "#EBF0F8",
            "showbackground": true,
            "ticks": "",
            "zerolinecolor": "#EBF0F8"
           }
          },
          "shapedefaults": {
           "line": {
            "color": "#2a3f5f"
           }
          },
          "ternary": {
           "aaxis": {
            "gridcolor": "#DFE8F3",
            "linecolor": "#A2B1C6",
            "ticks": ""
           },
           "baxis": {
            "gridcolor": "#DFE8F3",
            "linecolor": "#A2B1C6",
            "ticks": ""
           },
           "bgcolor": "white",
           "caxis": {
            "gridcolor": "#DFE8F3",
            "linecolor": "#A2B1C6",
            "ticks": ""
           }
          },
          "title": {
           "x": 0.05
          },
          "xaxis": {
           "automargin": true,
           "gridcolor": "#EBF0F8",
           "linecolor": "#EBF0F8",
           "ticks": "",
           "title": {
            "standoff": 15
           },
           "zerolinecolor": "#EBF0F8",
           "zerolinewidth": 2
          },
          "yaxis": {
           "automargin": true,
           "gridcolor": "#EBF0F8",
           "linecolor": "#EBF0F8",
           "ticks": "",
           "title": {
            "standoff": 15
           },
           "zerolinecolor": "#EBF0F8",
           "zerolinewidth": 2
          }
         }
        },
        "title": {
         "text": "Features: Relative Projections Across Activation Buckets"
        },
        "width": 1000,
        "xaxis": {
         "title": {
          "text": "Activation Buckets (relative per feature)"
         }
        },
        "yaxis": {
         "range": [
          0,
          1.1
         ],
         "title": {
          "text": "Relative Projection"
         }
        }
       }
      },
      "text/html": [
       "<div>                            <div id=\"4899ee9b-e8df-4c8c-8172-1d663ad6d822\" class=\"plotly-graph-div\" style=\"height:500px; width:1000px;\"></div>            <script type=\"text/javascript\">                require([\"plotly\"], function(Plotly) {                    window.PLOTLYENV=window.PLOTLYENV || {};                                    if (document.getElementById(\"4899ee9b-e8df-4c8c-8172-1d663ad6d822\")) {                    Plotly.newPlot(                        \"4899ee9b-e8df-4c8c-8172-1d663ad6d822\",                        [{\"line\":{\"color\":\"red\",\"width\":2},\"mode\":\"lines\",\"name\":\"Stage 0 IT Only median\",\"x\":[\"00%-10%\",\"10%-20%\",\"20%-30%\",\"30%-40%\",\"40%-50%\",\"50%-60%\",\"60%-70%\",\"70%-80%\",\"80%-90%\",\"90%-100%\"],\"y\":[0.9472532,0.68747747,0.6605039,0.6326405,0.6140077,0.5975081,0.57906926,0.56734157,0.5595883,0.5422474],\"type\":\"scatter\"},{\"line\":{\"color\":\"lightcoral\",\"width\":2},\"mode\":\"lines\",\"name\":\"Stage 1 IT Only median\",\"x\":[\"00%-10%\",\"10%-20%\",\"20%-30%\",\"30%-40%\",\"40%-50%\",\"50%-60%\",\"60%-70%\",\"70%-80%\",\"80%-90%\",\"90%-100%\"],\"y\":[0.94983375,0.5916907,0.561599,0.5374185,0.51863086,0.48672867,0.4897459,0.4557677,0.4339707,0.42031264],\"type\":\"scatter\"},{\"line\":{\"color\":\"green\",\"width\":2},\"mode\":\"lines\",\"name\":\"Shared median\",\"x\":[\"00%-10%\",\"10%-20%\",\"20%-30%\",\"30%-40%\",\"40%-50%\",\"50%-60%\",\"60%-70%\",\"70%-80%\",\"80%-90%\",\"90%-100%\"],\"y\":[0.91815746,0.8935561,0.8924701,0.8907846,0.8888709,0.88786846,0.8862904,0.8854695,0.88236207,0.8780073],\"type\":\"scatter\"},{\"line\":{\"color\":\"blue\",\"width\":2},\"mode\":\"lines\",\"name\":\"Base Only median\",\"x\":[\"00%-10%\",\"10%-20%\",\"20%-30%\",\"30%-40%\",\"40%-50%\",\"50%-60%\",\"60%-70%\",\"70%-80%\",\"80%-90%\",\"90%-100%\"],\"y\":[0.942717,0.93273115,0.9400123,0.9474533,0.9535191,0.9618526,0.96618164,0.9682985,0.9753943,0.9785584],\"type\":\"scatter\"}],                        {\"template\":{\"data\":{\"barpolar\":[{\"marker\":{\"line\":{\"color\":\"white\",\"width\":0.5},\"pattern\":{\"fillmode\":\"overlay\",\"size\":10,\"solidity\":0.2}},\"type\":\"barpolar\"}],\"bar\":[{\"error_x\":{\"color\":\"#2a3f5f\"},\"error_y\":{\"color\":\"#2a3f5f\"},\"marker\":{\"line\":{\"color\":\"white\",\"width\":0.5},\"pattern\":{\"fillmode\":\"overlay\",\"size\":10,\"solidity\":0.2}},\"type\":\"bar\"}],\"carpet\":[{\"aaxis\":{\"endlinecolor\":\"#2a3f5f\",\"gridcolor\":\"#C8D4E3\",\"linecolor\":\"#C8D4E3\",\"minorgridcolor\":\"#C8D4E3\",\"startlinecolor\":\"#2a3f5f\"},\"baxis\":{\"endlinecolor\":\"#2a3f5f\",\"gridcolor\":\"#C8D4E3\",\"linecolor\":\"#C8D4E3\",\"minorgridcolor\":\"#C8D4E3\",\"startlinecolor\":\"#2a3f5f\"},\"type\":\"carpet\"}],\"choropleth\":[{\"colorbar\":{\"outlinewidth\":0,\"ticks\":\"\"},\"type\":\"choropleth\"}],\"contourcarpet\":[{\"colorbar\":{\"outlinewidth\":0,\"ticks\":\"\"},\"type\":\"contourcarpet\"}],\"contour\":[{\"colorbar\":{\"outlinewidth\":0,\"ticks\":\"\"},\"colorscale\":[[0.0,\"#0d0887\"],[0.1111111111111111,\"#46039f\"],[0.2222222222222222,\"#7201a8\"],[0.3333333333333333,\"#9c179e\"],[0.4444444444444444,\"#bd3786\"],[0.5555555555555556,\"#d8576b\"],[0.6666666666666666,\"#ed7953\"],[0.7777777777777778,\"#fb9f3a\"],[0.8888888888888888,\"#fdca26\"],[1.0,\"#f0f921\"]],\"type\":\"contour\"}],\"heatmapgl\":[{\"colorbar\":{\"outlinewidth\":0,\"ticks\":\"\"},\"colorscale\":[[0.0,\"#0d0887\"],[0.1111111111111111,\"#46039f\"],[0.2222222222222222,\"#7201a8\"],[0.3333333333333333,\"#9c179e\"],[0.4444444444444444,\"#bd3786\"],[0.5555555555555556,\"#d8576b\"],[0.6666666666666666,\"#ed7953\"],[0.7777777777777778,\"#fb9f3a\"],[0.8888888888888888,\"#fdca26\"],[1.0,\"#f0f921\"]],\"type\":\"heatmapgl\"}],\"heatmap\":[{\"colorbar\":{\"outlinewidth\":0,\"ticks\":\"\"},\"colorscale\":[[0.0,\"#0d0887\"],[0.1111111111111111,\"#46039f\"],[0.2222222222222222,\"#7201a8\"],[0.3333333333333333,\"#9c179e\"],[0.4444444444444444,\"#bd3786\"],[0.5555555555555556,\"#d8576b\"],[0.6666666666666666,\"#ed7953\"],[0.7777777777777778,\"#fb9f3a\"],[0.8888888888888888,\"#fdca26\"],[1.0,\"#f0f921\"]],\"type\":\"heatmap\"}],\"histogram2dcontour\":[{\"colorbar\":{\"outlinewidth\":0,\"ticks\":\"\"},\"colorscale\":[[0.0,\"#0d0887\"],[0.1111111111111111,\"#46039f\"],[0.2222222222222222,\"#7201a8\"],[0.3333333333333333,\"#9c179e\"],[0.4444444444444444,\"#bd3786\"],[0.5555555555555556,\"#d8576b\"],[0.6666666666666666,\"#ed7953\"],[0.7777777777777778,\"#fb9f3a\"],[0.8888888888888888,\"#fdca26\"],[1.0,\"#f0f921\"]],\"type\":\"histogram2dcontour\"}],\"histogram2d\":[{\"colorbar\":{\"outlinewidth\":0,\"ticks\":\"\"},\"colorscale\":[[0.0,\"#0d0887\"],[0.1111111111111111,\"#46039f\"],[0.2222222222222222,\"#7201a8\"],[0.3333333333333333,\"#9c179e\"],[0.4444444444444444,\"#bd3786\"],[0.5555555555555556,\"#d8576b\"],[0.6666666666666666,\"#ed7953\"],[0.7777777777777778,\"#fb9f3a\"],[0.8888888888888888,\"#fdca26\"],[1.0,\"#f0f921\"]],\"type\":\"histogram2d\"}],\"histogram\":[{\"marker\":{\"pattern\":{\"fillmode\":\"overlay\",\"size\":10,\"solidity\":0.2}},\"type\":\"histogram\"}],\"mesh3d\":[{\"colorbar\":{\"outlinewidth\":0,\"ticks\":\"\"},\"type\":\"mesh3d\"}],\"parcoords\":[{\"line\":{\"colorbar\":{\"outlinewidth\":0,\"ticks\":\"\"}},\"type\":\"parcoords\"}],\"pie\":[{\"automargin\":true,\"type\":\"pie\"}],\"scatter3d\":[{\"line\":{\"colorbar\":{\"outlinewidth\":0,\"ticks\":\"\"}},\"marker\":{\"colorbar\":{\"outlinewidth\":0,\"ticks\":\"\"}},\"type\":\"scatter3d\"}],\"scattercarpet\":[{\"marker\":{\"colorbar\":{\"outlinewidth\":0,\"ticks\":\"\"}},\"type\":\"scattercarpet\"}],\"scattergeo\":[{\"marker\":{\"colorbar\":{\"outlinewidth\":0,\"ticks\":\"\"}},\"type\":\"scattergeo\"}],\"scattergl\":[{\"marker\":{\"colorbar\":{\"outlinewidth\":0,\"ticks\":\"\"}},\"type\":\"scattergl\"}],\"scattermapbox\":[{\"marker\":{\"colorbar\":{\"outlinewidth\":0,\"ticks\":\"\"}},\"type\":\"scattermapbox\"}],\"scatterpolargl\":[{\"marker\":{\"colorbar\":{\"outlinewidth\":0,\"ticks\":\"\"}},\"type\":\"scatterpolargl\"}],\"scatterpolar\":[{\"marker\":{\"colorbar\":{\"outlinewidth\":0,\"ticks\":\"\"}},\"type\":\"scatterpolar\"}],\"scatter\":[{\"fillpattern\":{\"fillmode\":\"overlay\",\"size\":10,\"solidity\":0.2},\"type\":\"scatter\"}],\"scatterternary\":[{\"marker\":{\"colorbar\":{\"outlinewidth\":0,\"ticks\":\"\"}},\"type\":\"scatterternary\"}],\"surface\":[{\"colorbar\":{\"outlinewidth\":0,\"ticks\":\"\"},\"colorscale\":[[0.0,\"#0d0887\"],[0.1111111111111111,\"#46039f\"],[0.2222222222222222,\"#7201a8\"],[0.3333333333333333,\"#9c179e\"],[0.4444444444444444,\"#bd3786\"],[0.5555555555555556,\"#d8576b\"],[0.6666666666666666,\"#ed7953\"],[0.7777777777777778,\"#fb9f3a\"],[0.8888888888888888,\"#fdca26\"],[1.0,\"#f0f921\"]],\"type\":\"surface\"}],\"table\":[{\"cells\":{\"fill\":{\"color\":\"#EBF0F8\"},\"line\":{\"color\":\"white\"}},\"header\":{\"fill\":{\"color\":\"#C8D4E3\"},\"line\":{\"color\":\"white\"}},\"type\":\"table\"}]},\"layout\":{\"annotationdefaults\":{\"arrowcolor\":\"#2a3f5f\",\"arrowhead\":0,\"arrowwidth\":1},\"autotypenumbers\":\"strict\",\"coloraxis\":{\"colorbar\":{\"outlinewidth\":0,\"ticks\":\"\"}},\"colorscale\":{\"diverging\":[[0,\"#8e0152\"],[0.1,\"#c51b7d\"],[0.2,\"#de77ae\"],[0.3,\"#f1b6da\"],[0.4,\"#fde0ef\"],[0.5,\"#f7f7f7\"],[0.6,\"#e6f5d0\"],[0.7,\"#b8e186\"],[0.8,\"#7fbc41\"],[0.9,\"#4d9221\"],[1,\"#276419\"]],\"sequential\":[[0.0,\"#0d0887\"],[0.1111111111111111,\"#46039f\"],[0.2222222222222222,\"#7201a8\"],[0.3333333333333333,\"#9c179e\"],[0.4444444444444444,\"#bd3786\"],[0.5555555555555556,\"#d8576b\"],[0.6666666666666666,\"#ed7953\"],[0.7777777777777778,\"#fb9f3a\"],[0.8888888888888888,\"#fdca26\"],[1.0,\"#f0f921\"]],\"sequentialminus\":[[0.0,\"#0d0887\"],[0.1111111111111111,\"#46039f\"],[0.2222222222222222,\"#7201a8\"],[0.3333333333333333,\"#9c179e\"],[0.4444444444444444,\"#bd3786\"],[0.5555555555555556,\"#d8576b\"],[0.6666666666666666,\"#ed7953\"],[0.7777777777777778,\"#fb9f3a\"],[0.8888888888888888,\"#fdca26\"],[1.0,\"#f0f921\"]]},\"colorway\":[\"#636efa\",\"#EF553B\",\"#00cc96\",\"#ab63fa\",\"#FFA15A\",\"#19d3f3\",\"#FF6692\",\"#B6E880\",\"#FF97FF\",\"#FECB52\"],\"font\":{\"color\":\"#2a3f5f\"},\"geo\":{\"bgcolor\":\"white\",\"lakecolor\":\"white\",\"landcolor\":\"white\",\"showlakes\":true,\"showland\":true,\"subunitcolor\":\"#C8D4E3\"},\"hoverlabel\":{\"align\":\"left\"},\"hovermode\":\"closest\",\"mapbox\":{\"style\":\"light\"},\"paper_bgcolor\":\"white\",\"plot_bgcolor\":\"white\",\"polar\":{\"angularaxis\":{\"gridcolor\":\"#EBF0F8\",\"linecolor\":\"#EBF0F8\",\"ticks\":\"\"},\"bgcolor\":\"white\",\"radialaxis\":{\"gridcolor\":\"#EBF0F8\",\"linecolor\":\"#EBF0F8\",\"ticks\":\"\"}},\"scene\":{\"xaxis\":{\"backgroundcolor\":\"white\",\"gridcolor\":\"#DFE8F3\",\"gridwidth\":2,\"linecolor\":\"#EBF0F8\",\"showbackground\":true,\"ticks\":\"\",\"zerolinecolor\":\"#EBF0F8\"},\"yaxis\":{\"backgroundcolor\":\"white\",\"gridcolor\":\"#DFE8F3\",\"gridwidth\":2,\"linecolor\":\"#EBF0F8\",\"showbackground\":true,\"ticks\":\"\",\"zerolinecolor\":\"#EBF0F8\"},\"zaxis\":{\"backgroundcolor\":\"white\",\"gridcolor\":\"#DFE8F3\",\"gridwidth\":2,\"linecolor\":\"#EBF0F8\",\"showbackground\":true,\"ticks\":\"\",\"zerolinecolor\":\"#EBF0F8\"}},\"shapedefaults\":{\"line\":{\"color\":\"#2a3f5f\"}},\"ternary\":{\"aaxis\":{\"gridcolor\":\"#DFE8F3\",\"linecolor\":\"#A2B1C6\",\"ticks\":\"\"},\"baxis\":{\"gridcolor\":\"#DFE8F3\",\"linecolor\":\"#A2B1C6\",\"ticks\":\"\"},\"bgcolor\":\"white\",\"caxis\":{\"gridcolor\":\"#DFE8F3\",\"linecolor\":\"#A2B1C6\",\"ticks\":\"\"}},\"title\":{\"x\":0.05},\"xaxis\":{\"automargin\":true,\"gridcolor\":\"#EBF0F8\",\"linecolor\":\"#EBF0F8\",\"ticks\":\"\",\"title\":{\"standoff\":15},\"zerolinecolor\":\"#EBF0F8\",\"zerolinewidth\":2},\"yaxis\":{\"automargin\":true,\"gridcolor\":\"#EBF0F8\",\"linecolor\":\"#EBF0F8\",\"ticks\":\"\",\"title\":{\"standoff\":15},\"zerolinecolor\":\"#EBF0F8\",\"zerolinewidth\":2}}},\"yaxis\":{\"title\":{\"text\":\"Relative Projection\"},\"range\":[0,1.1]},\"legend\":{\"yanchor\":\"top\",\"y\":0.3,\"xanchor\":\"right\",\"x\":0.99},\"title\":{\"text\":\"Features: Relative Projections Across Activation Buckets\"},\"xaxis\":{\"title\":{\"text\":\"Activation Buckets (relative per feature)\"}},\"width\":1000,\"height\":500,\"showlegend\":true},                        {\"responsive\": true}                    ).then(function(){\n",
       "                            \n",
       "var gd = document.getElementById('4899ee9b-e8df-4c8c-8172-1d663ad6d822');\n",
       "var x = new MutationObserver(function (mutations, observer) {{\n",
       "        var display = window.getComputedStyle(gd).display;\n",
       "        if (!display || display === 'none') {{\n",
       "            console.log([gd, 'removed!']);\n",
       "            Plotly.purge(gd);\n",
       "            observer.disconnect();\n",
       "        }}\n",
       "}});\n",
       "\n",
       "// Listen for the removal of the full notebook cells\n",
       "var notebookContainer = gd.closest('#notebook-container');\n",
       "if (notebookContainer) {{\n",
       "    x.observe(notebookContainer, {childList: true});\n",
       "}}\n",
       "\n",
       "// Listen for the clearing of the current output cell\n",
       "var outputEl = gd.closest('.output');\n",
       "if (outputEl) {{\n",
       "    x.observe(outputEl, {childList: true});\n",
       "}}\n",
       "\n",
       "                        })                };                });            </script>        </div>"
      ]
     },
     "metadata": {},
     "output_type": "display_data"
    }
   ],
   "source": [
    "import plotly.graph_objects as go\n",
    "import numpy as np\n",
    "METRIC = \"median\"\n",
    "SHOW_STD = False # Added bool to control std areas\n",
    "\n",
    "# Create figure\n",
    "fig = go.Figure()\n",
    "\n",
    "# Plot individual IT only feature lines\n",
    "# for idx in it_only_indices:\n",
    "#     feature_data = relproj_data[idx]\n",
    "#     fig.add_trace(go.Scatter(\n",
    "#         x=[f\"{i}0%-{i+1}0%\" for i in range(0, 10)],\n",
    "#         y=feature_data,\n",
    "#         mode='lines',\n",
    "#         line=dict(color='rgba(0,0,255,0.1)'),\n",
    "#         showlegend=False\n",
    "#     ))\n",
    "\n",
    "# Add mean lines and variance for IT Only Stage 0\n",
    "mean_data = naninfmetric(relproj_data[it_only_indices], metric=METRIC)\n",
    "std_data = np.nanstd(relproj_data[it_only_indices], axis=0)\n",
    "x = [f\"{i}0%-{i+1}0%\" for i in range(0, 10)]\n",
    "if SHOW_STD:\n",
    "    fig.add_trace(go.Scatter(\n",
    "        x=x,\n",
    "        y=mean_data + std_data,\n",
    "        mode='lines',\n",
    "        line=dict(width=0),\n",
    "        showlegend=False,\n",
    "        name='Upper Bound'\n",
    "    ))\n",
    "    fig.add_trace(go.Scatter(\n",
    "        x=x,\n",
    "        y=mean_data - std_data,\n",
    "        mode='lines',\n",
    "        line=dict(width=0),\n",
    "        fillcolor='rgba(255,0,0,0.2)',\n",
    "        fill='tonexty',\n",
    "        showlegend=False,\n",
    "        name='Lower Bound'\n",
    "    ))\n",
    "fig.add_trace(go.Scatter(\n",
    "    x=x,\n",
    "    y=mean_data,\n",
    "    mode='lines',\n",
    "    line=dict(color='red', width=2),\n",
    "    name=f'Stage 0 IT Only {METRIC}'\n",
    "))\n",
    "\n",
    "# Add mean lines and variance for IT Only Stage 1\n",
    "mean_data = naninfmetric(relproj_data[stage1_it_only_indices], metric=METRIC)\n",
    "std_data = np.nanstd(relproj_data[stage1_it_only_indices], axis=0)\n",
    "if SHOW_STD:\n",
    "    fig.add_trace(go.Scatter(\n",
    "        x=x,\n",
    "        y=mean_data + std_data,\n",
    "        mode='lines',\n",
    "        line=dict(width=0),\n",
    "        showlegend=False\n",
    "    ))\n",
    "    fig.add_trace(go.Scatter(\n",
    "        x=x,\n",
    "        y=mean_data - std_data,\n",
    "        mode='lines',\n",
    "        line=dict(width=0),\n",
    "        fillcolor='rgba(240,128,128,0.2)',\n",
    "        fill='tonexty',\n",
    "        showlegend=False\n",
    "    ))\n",
    "fig.add_trace(go.Scatter(\n",
    "    x=x,\n",
    "    y=mean_data,\n",
    "    mode='lines',\n",
    "    line=dict(color='lightcoral', width=2),\n",
    "    name=f'Stage 1 IT Only {METRIC}'\n",
    "))\n",
    "\n",
    "# Add mean lines and variance for Shared\n",
    "mean_data = naninfmetric(relproj_data[shared_indices], metric=METRIC)\n",
    "std_data = np.nanstd(relproj_data[shared_indices], axis=0)\n",
    "if SHOW_STD:\n",
    "    fig.add_trace(go.Scatter(\n",
    "        x=x,\n",
    "        y=mean_data + std_data,\n",
    "        mode='lines',\n",
    "        line=dict(width=0),\n",
    "        showlegend=False\n",
    "    ))\n",
    "    fig.add_trace(go.Scatter(\n",
    "        x=x,\n",
    "        y=mean_data - std_data,\n",
    "        mode='lines',\n",
    "        line=dict(width=0),\n",
    "        fillcolor='rgba(0,255,0,0.2)',\n",
    "        fill='tonexty',\n",
    "        showlegend=False\n",
    "    ))\n",
    "fig.add_trace(go.Scatter(\n",
    "    x=x,\n",
    "    y=mean_data,\n",
    "    mode='lines', \n",
    "    line=dict(color='green', width=2),\n",
    "    name=f'Shared {METRIC}'\n",
    "))\n",
    "\n",
    "# Add mean lines and variance for Base Only\n",
    "mean_data = naninfmetric(relproj_data[base_only_indices], metric=METRIC)\n",
    "std_data = np.nanstd(relproj_data[base_only_indices], axis=0)\n",
    "if SHOW_STD:\n",
    "    fig.add_trace(go.Scatter(\n",
    "        x=x,\n",
    "        y=mean_data + std_data,\n",
    "        mode='lines',\n",
    "        line=dict(width=0),\n",
    "        showlegend=False\n",
    "    ))\n",
    "    fig.add_trace(go.Scatter(\n",
    "        x=x,\n",
    "        y=mean_data - std_data,\n",
    "        mode='lines',\n",
    "        line=dict(width=0),\n",
    "        fillcolor='rgba(0,0,255,0.2)',\n",
    "        fill='tonexty',\n",
    "        showlegend=False\n",
    "    ))\n",
    "fig.add_trace(go.Scatter(\n",
    "    x=x,\n",
    "    y=mean_data,\n",
    "    mode='lines',\n",
    "    line=dict(color='blue', width=2),\n",
    "    name=f'Base Only {METRIC}'\n",
    "))\n",
    "\n",
    "# Update layout\n",
    "fig.update_layout(\n",
    "    title='Features: Relative Projections Across Activation Buckets',\n",
    "    xaxis_title='Activation Buckets (relative per feature)',\n",
    "    yaxis_title='Relative Projection',\n",
    "    yaxis=dict(range=[0, 1.1]),\n",
    "    template='plotly_white',\n",
    "    width=1000,\n",
    "    height=500,\n",
    "    showlegend=True,\n",
    "    legend=dict(\n",
    "        yanchor=\"top\",\n",
    "        y=0.3,\n",
    "        xanchor=\"right\",\n",
    "        x=0.99\n",
    "    )\n",
    ")\n",
    "\n",
    "fig.show()\n",
    "fig.write_image(\"../plots/relative_projections_means.png\")"
   ]
  },
  {
   "cell_type": "code",
   "execution_count": 141,
   "metadata": {},
   "outputs": [
    {
     "data": {
      "application/vnd.plotly.v1+json": {
       "config": {
        "plotlyServerURL": "https://plot.ly"
       },
       "data": [
        {
         "box": {
          "visible": true
         },
         "fillcolor": "lightblue",
         "line": {
          "color": "blue"
         },
         "meanline": {
          "visible": true
         },
         "name": "Distribution",
         "opacity": 0.6,
         "type": "violin",
         "y": [
          0.9732436,
          0.8724829,
          0.9878426,
          0.93714803,
          1.0102273,
          0.90805817,
          0.8608433,
          1.0789666,
          1.024004,
          0.87007374,
          0.878867,
          0.8684202,
          1.0608999,
          0.9178951,
          0.93157727,
          1.0581487,
          2.1145613,
          0.8352753,
          1.0187961,
          0.9036616,
          0.9639063,
          1.0284497,
          0.9770381,
          0.89218897,
          0.35418585,
          0.9876847,
          0.9141243,
          0.74521357,
          0.9402148,
          0.44166258,
          0.7587025,
          0.991375,
          1.0262135,
          0.95148623,
          0.8250276,
          0.8994469,
          0.9872111,
          0.9347901,
          0.79895854,
          0.83286726,
          0.89739686,
          0.9969136,
          0.8114193,
          0.7635722,
          0.84885484,
          0.87236977,
          0.86909765,
          0.9900518,
          0.8552726,
          0.82471734,
          0.91841745,
          0.9877251,
          0.9817835,
          0.8936032,
          1.0461164,
          0.8468337,
          0.9648775,
          1.0333614,
          0.8818727,
          0.8074919,
          0.85383683,
          0.8998981,
          1.0063959,
          0.9303092,
          1.028521,
          0.77603054,
          0.9995292,
          0.36504918,
          0.9342087,
          0.91844845,
          1.1834899,
          0.4974249,
          0.8505676,
          1.1871098,
          0.9604278,
          1.000717,
          1.0179015,
          1.0029987,
          0.8843362,
          0.98453057,
          0.94556683,
          0.4363099,
          0.92748487,
          0.9520866,
          0.831317,
          0.65288585,
          0.91800237,
          0.878255,
          1.2283071,
          1.1109152,
          0.96294767,
          0.98755825,
          1.0118723,
          1.0458437,
          0.97951454,
          0.85375965,
          1.1116697,
          1.0085922,
          0.92178667,
          0.9331503,
          0.945808,
          0.8656104,
          1.0505105,
          1.0260996,
          0.7690478,
          1.036062,
          1.0013676,
          0.93433666,
          0.98741317,
          0.9302764,
          0.9613167,
          0.8674467,
          1.0130633,
          0.88355285,
          0.94942933,
          1.2466006,
          0.94017214,
          0.74148196,
          1.1096637,
          1.0116727,
          0.99964046,
          0.911277,
          1.0174339,
          0.807083,
          0.94459814,
          0.96582204,
          0.7858449,
          0.31486145,
          0.96307886,
          1.074997,
          1.0620127,
          0.8876784,
          0.954818,
          0.8593145,
          1.0286744,
          1.0669236,
          0.6933275,
          1.073584,
          1.0736712,
          0.88429785,
          0.93926185,
          1.0258673,
          0.8382888,
          1.0256741,
          0.940614,
          0.89659274,
          0.9868902,
          0.9425664,
          0.98085535,
          0.96331984,
          1.0734355,
          0.9163546,
          0.33166784,
          0.8528999,
          0.9803874,
          0.98667216,
          0.9062669,
          0.9872254,
          0.97930664,
          1.3566545,
          1.1324289,
          0.8144397,
          1.0754311,
          1.011083,
          0.9512859,
          0.9807577,
          0.93088955,
          1.0644039,
          0.92643476,
          1.028589,
          1.0453823,
          0.825515,
          0.92454964,
          0.9229036,
          0.9183957,
          1.0207493,
          0.96540123,
          1.0042034,
          1.0018582,
          1.0400747,
          1.0394456,
          1.0218748,
          0.83346355,
          0.94316006,
          0.7428568,
          0.90820646,
          0.9802799,
          0.98554707,
          0.9464334,
          0.9913078,
          0.9246736,
          0.9642847,
          1.0511765,
          0.96291816,
          0.95456415,
          0.7466914,
          1.0641961,
          0.7955693,
          0.9651653,
          1.0033616,
          1.0339214,
          0.88575184,
          0.9299315,
          0.96019924,
          0.80056995,
          0.7495344,
          0.99680877,
          0.8548381,
          1.0184671,
          0.93905294,
          1.0342132,
          0.6271178,
          1.0096316,
          0.37408006,
          1.0196658,
          0.9857247,
          1.0012047,
          1.0442965,
          0.49665463,
          1.3250754,
          0.9678157,
          0.79987293,
          0.9680996,
          0.87533927,
          0.95323247,
          1.0315434,
          1.0420684,
          1.0041642,
          0.8103319,
          0.9600561,
          0.9446776,
          0.8165226,
          0.44193277,
          1.0316416,
          1.0781235,
          0.7492712,
          0.9211047,
          1.0886974,
          1.0777385,
          0.76327205,
          0.9899593,
          1.1006459,
          1.0080723,
          0.9684844,
          0.97487134,
          1.1324182,
          0.9156459,
          0.9435286,
          0.9834343,
          0.7341657,
          0.95503217,
          0.9993746,
          0.87893754,
          0.75428325,
          0.85145694,
          0.95706457,
          0.98743933,
          1.1216027,
          0.9982573,
          1.0438418,
          0.83727086,
          0.9945145,
          0.98471004,
          0.80430794,
          0.93406844,
          1.0000359,
          0.9472128,
          0.96771204,
          0.8410205,
          1.1322275,
          1.0092938,
          0.88416624,
          1.0061473,
          1.0219455,
          0.4581153,
          0.60121566,
          0.9270879,
          0.83892196,
          1.0355381,
          0.9467805,
          0.9446648,
          0.8729215,
          0.7976757,
          0.9367541,
          1.0297227,
          0.77910084,
          0.9834407,
          0.4905785,
          1.9660068,
          1.0075072,
          1.0699862,
          0.90778595,
          0.28125066,
          0.97172713,
          1.0206947,
          0.9798453,
          0.88092196,
          0.9871405,
          0.99005777,
          0.9034915,
          1.0164301,
          0.96220064,
          1.0097572,
          0.7186632,
          0.8564768,
          0.95315754,
          0.9947587,
          0.917214,
          0.98304486,
          0.7086496,
          0.9633593,
          0.87135786,
          0.97255516,
          0.8131189,
          1.0286062,
          0.80549735,
          0.9388152,
          0.8514731,
          1.0210079,
          0.9358132,
          0.79814845,
          0.95972013,
          1.012166,
          0.9218123,
          0.8540039,
          0.91695136,
          0.9899392,
          1.0182769,
          0.99465007,
          0.965567,
          0.88719255,
          0.9125321,
          0.98928803,
          0.9259981,
          1.0785819,
          0.8835241,
          0.8341971,
          0.98796856,
          0.8754403,
          0.95960593,
          0.99529046,
          0.91832024,
          0.8409085,
          0.84290475,
          0.8767872,
          0.88097924,
          0.7674834,
          0.7105252,
          0.92018074,
          1.0479054,
          0.9038216,
          0.97857654,
          0.9500028,
          0.92373186,
          1.111682,
          1.1025771,
          0.9803428,
          0.9453476,
          1.0668916,
          1.0139437,
          1.0298302,
          0.94113487,
          0.6956158,
          0.8714659,
          0.98817897,
          1.1302677,
          0.9904331,
          0.92580897,
          0.8063497,
          0.7552599,
          0.7753962,
          1.027978,
          0.96755743,
          1.0128448,
          0.92456836,
          0.36974648,
          0.76682514,
          1.1095141,
          0.98723334,
          0.98520446,
          0.8742183,
          0.89620763,
          0.897919,
          1.3401964,
          0.9028186,
          0.899338,
          0.9493587,
          0.99896044,
          0.84516853,
          1.2933037,
          0.90730107,
          1.000617,
          0.9489556,
          1.0127708,
          0.8608756,
          1.2386748,
          0.9398098,
          1.1033307,
          0.8898036,
          1.0545099,
          1.2796302,
          1.0176802,
          1.0552287,
          0.9775297,
          1.1083509,
          1.0101182,
          0.95532733,
          0.9753499,
          0.9328647,
          0.95163167,
          1.1019896,
          0.8993681,
          0.85907274,
          0.9364714,
          0.98429364,
          1.0228477,
          1.0597844,
          1.282528,
          0.8159679,
          0.75832176,
          1.0956317,
          1.0113664,
          0.82562214,
          0.86955506,
          0.95540893,
          0.8873798,
          0.8259879,
          0.98737764,
          0.9576811,
          0.9725585,
          1.0236069,
          0.9531529,
          1.2260956,
          0.90366685,
          1.1501561,
          0.90213996,
          0.9056638,
          0.9160502,
          0.83822,
          1.029737,
          0.99794036,
          0.7794539,
          0.9183606,
          0.7961426,
          0.93932176,
          0.98408926,
          0.8968015,
          0.9762844,
          0.9648615,
          0.9448484,
          0.80075437,
          1.0090327,
          0.8593878,
          0.9999253,
          0.9656187,
          0.7583963,
          0.94847184,
          0.9243954,
          1.0535709,
          1.1065122,
          1.054918,
          0.96348226,
          0.68295956,
          1.0185784,
          0.78552485,
          0.98765385,
          1.0326838,
          0.9691304,
          0.90965307,
          0.836454,
          0.94705963,
          0.9115061,
          1.036557,
          0.8601848,
          1.1267784,
          0.84958607,
          0.8652498,
          1.0627542,
          0.92321366,
          0.93619037,
          0.8787115,
          1.0467798,
          0.9540637,
          0.73582447,
          0.88831747,
          1.0696656,
          1.2712148,
          1.0416453,
          1.5106701,
          0.84235454,
          0.8876503,
          0.28640658,
          1.0025833,
          1.0866727,
          1.0407968,
          1.0506717,
          0.833354,
          1.1360376,
          0.9193405,
          0.92379165,
          0.7513184,
          0.75219876,
          1.0514637,
          0.9996247,
          0.9898132,
          1.1155682,
          0.90831304,
          0.85066617,
          0.9097527,
          0.8549131,
          0.8280144,
          1.0407587,
          0.8413108,
          1.0289756,
          1.1019981,
          1.0323374,
          0.90546894,
          0.9405738,
          0.93567,
          0.886977,
          1.0996704,
          0.8980865,
          0.7610675,
          0.9067468,
          0.9692918,
          1.0830432,
          0.9129615,
          0.88966113,
          0.93277895,
          0.6962397,
          0.9423849,
          0.7737794,
          0.8837699,
          0.9781565,
          0.86468613,
          0.97605383,
          0.9479089,
          0.9787291,
          0.93420243,
          1.0484624,
          0.88784593,
          1.0362245,
          1.0135243,
          0.9417364,
          0.026390202,
          0.94250524,
          0.9136968,
          1.2124815,
          0.34226382,
          0.81388354,
          0.9004188,
          0.93864137,
          0.8929478,
          0.9874336,
          0.89963466,
          0.9335745,
          1.1165854,
          1.2458754,
          0.8769973,
          0.7837479,
          1.0193121,
          1.414092,
          0.97708356,
          0.8892201,
          0.9372303,
          0.9795662,
          0.98887575,
          0.91286874,
          0.77880526,
          1.0281038,
          0.9685479,
          0.897912,
          0.82538944,
          0.9868012,
          0.99396855,
          0.8850601,
          1.0073284,
          1.070974,
          0.82188195,
          0.9343422,
          -5.4639406,
          0.91415244,
          0.96094155,
          0.8430669,
          1.0760065,
          1.0012336,
          1.0348451,
          0.9911041,
          1.0055599,
          -1178.6553,
          0.9417257,
          0.78593296,
          0.999149,
          0.6077067,
          1.0833466,
          0.84544396,
          0.9331374,
          0.7613171,
          1.0016893,
          0.98091626,
          1.0253884,
          0.7093029,
          0.78850734,
          1.0288575,
          null,
          0.96727884,
          0.85928136,
          1.0477804,
          0.89241767,
          0.9411474,
          1.0060977,
          0.454971,
          0.9843956,
          0.8677045,
          1.2072433,
          1.0464247,
          0.97529876,
          0.9968325,
          0.35555527,
          1.0352745,
          0.88035995,
          0.46618465,
          0.93596214,
          0.9420169,
          0.8531396,
          1.105847,
          0.9534286,
          1.0580455,
          0.80386597,
          0.9258933,
          null,
          0.88513726,
          0.99211186,
          0.87640786,
          0.4078869,
          0.91899824,
          0.81756604,
          0.97808737,
          0.80263275,
          0.43626246,
          0.874024,
          1.0744522,
          0.7629717,
          0.96321,
          0.88350654,
          1.0749584,
          0.6503213,
          1.0253261,
          0.75891453,
          0.7910722,
          0.84319514,
          1.0258553,
          1.1687906,
          0.97042465,
          0.79416543,
          0.90706867,
          1.0737891,
          0.8675119,
          1.0905172,
          0.8198096,
          0.7188606,
          1.2458158,
          1.4791149,
          1.0093266,
          0.94201785,
          1.039305,
          0.7661426,
          0.92572826,
          0.97308147,
          0.91041744,
          0.9348601,
          0.9332108,
          1.024708,
          1.0555279,
          0.8762666,
          0.9628602,
          1.1795287,
          0.8886568,
          1.0232775,
          0.97921395,
          1.0062182,
          0.8997678,
          0.9516862,
          0.812609,
          0.8350647,
          1.0507021,
          0.97951955,
          0.9146547,
          1.0367302,
          null,
          0.93703645,
          0.75291866,
          1.0002677,
          0.9930184,
          0.9633002,
          0.84615934,
          1.0226066,
          0.95057994,
          0.8290297,
          0.9589185,
          0.92587095,
          0.9399468,
          0.8819742,
          0.87466615,
          0.731114,
          0.90131897,
          0.7809394,
          null,
          0.96583945,
          0.9409153,
          0.9119148,
          1.0134668,
          0.9991775,
          0.845774,
          0.91014344,
          0.8998494,
          1.109391,
          0.9553957,
          0.9903259,
          0.9615532,
          0.99325323,
          0.9763744,
          0.8872999,
          0.9027868,
          0.9916477,
          1.0380677,
          0.9507492,
          0.98424625,
          0.75169694,
          0.95207494,
          0.9700735,
          0.9098917,
          0.98984915,
          0.8777243,
          1.0334225,
          0.69961727,
          0.86848813,
          0.97903514,
          0.8983577,
          0.85950106,
          0.7907247,
          0.9283873,
          0.8589657,
          1.0312887,
          0.8816405,
          0.8480881,
          0.7625374,
          1.0405262,
          1.0730445,
          0.8298096,
          0.80276436,
          0.93883747,
          0.92355716,
          1.0252682,
          0.9952508,
          0.9400481,
          1.0460529,
          0.8737629,
          0.93892217,
          0.9038277,
          0.8847584,
          0.9945389,
          1.0878086,
          1.0017602,
          1.1535374,
          0.85242736,
          0.98254603,
          1.0916436,
          1.0195508,
          1.0041671,
          0.8461227,
          0.9911919,
          1.0002103,
          0.8559697,
          0.9664201,
          0.41623643,
          0.93805426,
          0.8280721,
          1.03361,
          0.9536095,
          0.96878403,
          0.89917535,
          1.0518891,
          0.9272505,
          1.0241318,
          0.7298,
          0.87272614,
          0.9276878,
          0.92733574,
          0.8911222,
          0.8844318,
          0.43583205,
          1.0475018,
          0.91217554,
          0.98820233,
          0.6624049,
          0.8641511,
          1.0056723,
          0.6443633,
          0.9099653,
          0.958517,
          0.9290117,
          0.86511433,
          0.9106289,
          0.7776334,
          0.8772275,
          0.88660085,
          0.32033372,
          0.7623483,
          0.77818364,
          0.9828072,
          0.8131995,
          0.9818099,
          1.040714,
          1.0605822,
          1.0036705,
          1.0018191,
          0.869184,
          1.0142219,
          1.073435,
          0.84663236,
          1.1280884,
          1.1124636,
          0.9845256,
          1.0324857,
          0.9027552,
          1.059496,
          0.364605,
          0.9039737,
          1.0038674,
          0.9645304,
          0.9943782,
          0.8321977,
          1.0828962,
          1.1029423,
          0.92521614,
          0.9296109,
          1.057274,
          0.9902026,
          0.98733884,
          0.8136761,
          0.9063773,
          0.8804702,
          0.97142833,
          1.0564057,
          1.153416,
          1.0179906,
          1.0275003,
          0.85708326,
          null,
          1.0095778,
          0.8139954,
          0.9701499,
          0.842222,
          0.73129916,
          0.9768723,
          0.94487596,
          5.319159,
          1.0378301,
          1.0260174,
          1.0285615,
          0.9741944,
          1.0004208,
          1.0134538,
          1.0330648,
          0.8857844,
          0.94612724,
          0.97480994,
          0.97401226,
          0.92569107,
          1.0847946,
          0.77752495,
          0.9976545,
          1.0565795,
          0.9923492,
          0.8760451,
          0.87109727,
          1.3059329,
          1.0068271,
          0.97573984,
          1.0200795,
          1.2045655,
          0.87891465,
          0.9263907,
          0.9087596,
          0.96513367,
          0.9028928,
          0.7058305,
          0.95812684,
          0.9495404,
          1.0222223,
          1.0653144,
          1.0213233,
          1.0228447,
          0.97976965,
          0.9033299,
          0.9945247,
          0.8850984,
          0.8037151,
          0.79057115,
          0.997544,
          0.9353843,
          0.9413458,
          0.9067525,
          0.8836989,
          0.96407706,
          1.0038642,
          0.9799273,
          1.010482,
          1.0047622,
          0.93667907,
          1.1658733,
          0.9865865,
          0.8905634,
          0.7438608,
          0.99249953,
          0.7936812,
          0.8938672,
          0.8132692,
          1.0534815,
          0.95293665,
          0.9409262,
          0.86830825,
          0.935033,
          0.47035968,
          0.856463,
          0.96453774,
          0.91993445,
          1.0516355,
          0.9625836,
          0.9852497,
          0.9022052,
          0.89190906,
          0.9520047,
          0.9328294,
          0.834442,
          0.97690386,
          0.938719,
          1.0292627,
          0.89228714,
          0.94424134,
          0.9958092,
          0.67669666,
          0.9503296,
          1.252387,
          0.8385713,
          1.1594666,
          0.81994826,
          0.9468084,
          0.86075175,
          1.1569713,
          0.88600373,
          1.1792045,
          1.0677502,
          1.1486676,
          1.0103375,
          0.9884746,
          0.9821914,
          1.0136992,
          1.0281304,
          1.0560865,
          0.8979941,
          1.0045491,
          0.7865716,
          1.0913328,
          0.6605847,
          0.8369425,
          0.98882574,
          0.875268,
          0.96930844,
          0.86799073,
          1.0563034,
          0.94141865,
          0.8988904,
          0.86749643,
          0.9189623,
          1.0201344,
          1.0101959,
          0.9805528,
          0.98439115,
          0.9639228,
          0.92749274,
          0.87385315,
          0.9794207,
          0.76146597,
          0.9869695,
          0.9831103,
          0.90180933,
          0.9799849,
          1.0166807,
          0.33882496,
          1.1253967,
          0.9260407,
          0.93514526,
          0.95410424,
          1.0002092,
          1.0819718,
          0.9230146,
          0.98679227,
          1.0604075,
          0.66307133,
          0.8619486,
          0.7370175,
          0.8828618,
          0.41335544,
          0.9058067,
          0.9847814,
          0.95382625,
          0.89624804,
          1.0244032,
          0.84640414,
          1.0065862,
          0.9049759,
          0.9711844,
          0.7822003,
          1.1182845,
          0.8546165,
          0.72908694,
          1.1412376,
          1.0028551,
          0.8351465,
          1.0089049,
          0.9657653,
          0.9385475,
          0.9590129,
          0.9747786,
          0.9543807,
          1.1936297,
          0.8911743,
          0.9008189,
          0.9031175,
          0.8863673,
          0.9363188,
          0.9742831,
          0.9426664,
          0.49763644,
          0.8273832,
          0.9955059,
          0.9285958,
          0.9808991,
          0.9951037,
          0.9809633,
          0.7127447,
          1.0131516,
          1.0445867,
          0.9531064,
          0.99087167,
          1.0440263,
          1.0247937,
          0.7803534,
          0.93183154,
          1.0364417,
          1.0260723,
          0.6534752,
          1.041817,
          0.99090177,
          0.90533465,
          0.9311948,
          0.82846814,
          0.97514826,
          0.93794125,
          0.82689726,
          1.0359294,
          0.9207848,
          1.1378807,
          1.035744,
          0.88558847,
          0.88765216,
          0.7804322,
          0.97068983,
          1.0674725,
          1.0422485,
          0.9225092,
          0.94137865,
          0.9047319,
          0.84153473,
          0.73690045,
          1.1325657,
          0.9997012,
          1.004394,
          1.0016501,
          1.0401336,
          0.94772714,
          0.96993273,
          0.65557754,
          0.88407505,
          1.002067,
          0.939181,
          0.98317635,
          1.0569156,
          1.0360063,
          0.7004372,
          0.41210946,
          1.0725718,
          0.849797,
          1.0169953,
          0.9306874,
          0.988472,
          1.0772942,
          0.94426954,
          0.9391762,
          0.983465,
          0.8391017,
          0.8923031,
          0.8383575,
          0.9627206,
          1.0391346,
          null,
          1.011714,
          0.9845671,
          0.25052607,
          0.9148173,
          0.9591062,
          0.92835927,
          0.7670999,
          0.96199167,
          1.0576967,
          1.1377993,
          0.73828185,
          1.0055668,
          0.420283,
          1.0305344,
          0.990425,
          1.0302627,
          1.0069188,
          1.0199411,
          1.0880184,
          1.0582074,
          0.96370566,
          0.7863365,
          1.0640184,
          0.8597912,
          1.0146053,
          1.0182672,
          0.91550344,
          1.0220532,
          0.9864307,
          1.024957,
          1.0325805,
          0.8783172,
          0.9306905,
          0.9499653,
          0.91279995,
          1.1606648,
          0.9245085,
          0.83219296,
          1.0130181,
          1.1597451,
          0.9599277,
          0.99422747,
          1.1251471,
          0.98037684,
          0.91125864,
          1.103229,
          0.95753413,
          0.9200838,
          0.93610096,
          1.0210987,
          0.97701573,
          0.99154955,
          1.0171112,
          0.8791041,
          1.0509132,
          0.8164326,
          0.9396305,
          0.5798345,
          1.0051816,
          1.0304848,
          0.8845865,
          1.0806011,
          1.092276,
          0.89755106,
          1.0281223,
          1.0094116,
          1.0383255,
          0.9771345,
          0.84401387,
          0.9447588,
          0.949085,
          0.76380074,
          0.85513294,
          0.9643822,
          0.988408,
          0.8796598,
          0.7528412,
          0.9392746,
          0.9045782,
          0.9840791,
          0.8181277,
          0.2520547,
          0.98077804,
          1.0171852,
          1.0824393,
          0.97889805,
          1.0071832,
          0.9376463,
          1.0198238,
          1.0462996,
          1.0087209,
          0.87374187,
          0.8478145,
          0.9855698,
          0.9409746,
          1.0362045,
          0.9720551,
          0.97403824,
          0.9942627,
          1.0118675,
          0.9869127,
          0.9137576,
          0.95065606,
          0.8646053,
          0.89921,
          1.0756252,
          1.078663,
          0.967728,
          0.866062,
          0.9146085,
          1.0843484,
          1.0713234,
          0.9434607,
          1.010062,
          1.0432717,
          0.8706981,
          0.97809386,
          0.8702898,
          1.0074794,
          0.63367534,
          1.0129609,
          0.9398838,
          0.88050276,
          1.047206,
          1.10539,
          0.7079096,
          0.9366813,
          0.9178017,
          0.8392005,
          -0.32429615,
          1.0186334,
          0.8831495,
          0.9584665,
          0.9322352,
          1.0174868,
          0.96462685,
          1.1339574,
          0.8602128,
          1.0469745,
          0.9423684,
          0.9882093,
          1.00211,
          1.0587077,
          1.027832,
          1.0040567,
          1.0733559,
          1.253156,
          0.9680659,
          1.811227,
          0.91865605,
          0.8798893,
          1.187857,
          0.86801845,
          0.9812575,
          0.8223906,
          0.8326274,
          1.0197152,
          0.9370067,
          0.9980295,
          1.5109352,
          0.9453857,
          0.96966136,
          0.7218415,
          1.0021349,
          1.014459,
          0.9761831,
          1.0375232,
          1.078645,
          0.9218145,
          null,
          1.0577452,
          0.8819339,
          0.8762842,
          0.91395575,
          1.0442957,
          0.947005,
          0.80858624,
          0.9386737,
          0.9571325,
          0.9124775,
          0.94281805,
          0.99408877,
          0.92986643,
          0.72810626,
          0.95782715,
          1.060962,
          0.9792488,
          0.82516795,
          0.9639926,
          0.95653135,
          0.9627259,
          1.0109785,
          2.2783542,
          null,
          1.0146422,
          0.9697329,
          0.82501525,
          0.60938615,
          0.9741551,
          0.97823477,
          0.72004277,
          0.9915233,
          0.88609755,
          0.91801125,
          0.8529198,
          0.8433451,
          0.90293217,
          0.9569391,
          1.0011325,
          0.894683,
          0.91203856,
          0.93776125,
          1.0283717,
          0.76425004,
          0.9733628,
          0.80974525,
          0.8294739,
          1.0268388,
          0.7698844,
          1.0358969,
          1.0017422,
          0.91009367,
          0.708268,
          1.014018,
          1.0089178,
          1.0349457,
          1.0685141,
          0.892891,
          1.0397115,
          0.89147836,
          0.70334053,
          1.0085766,
          0.9793522,
          0.20550162,
          0.9037002,
          0.9481579,
          0.9920945,
          1.091819,
          0.95728976,
          0.891752,
          0.95629114,
          1.0222946,
          0.9822892,
          1.1420643,
          1.0308839,
          1.0104991,
          0.94181585,
          1.0845324,
          1.0578685,
          null,
          0.8556884,
          0.9348436,
          1.1270704,
          0.99250156,
          1.0026327,
          0.79743713,
          0.8902006,
          0.8255491,
          0.92766297,
          1.0745184,
          1.0205256,
          0.49966443,
          0.98666704,
          1.0113698,
          0.97287285,
          0.92740047,
          1.0251085,
          0.9364654,
          0.9213425,
          0.99087167,
          1.0219204,
          0.8243468,
          0.9272306,
          1.1496068,
          0.8057345,
          0.77478176,
          0.8907478,
          1.0886863,
          0.93540007,
          0.9037021,
          0.89063257,
          0.82367045,
          0.9838375,
          1.0161363,
          0.8969073,
          0.94414324,
          1.4899808,
          0.98077506,
          1.1853315,
          0.9657649,
          0.88401353,
          1.0017526,
          0.9047961,
          0.887376,
          0.8329049,
          0.9166626,
          0.91633695,
          1.073798,
          1.0000644,
          0.99215233,
          1.0445105,
          0.9757507,
          0.76557475,
          0.9412182,
          0.9222412,
          0.90292543,
          1.0153397,
          0.85838956,
          1.0454378,
          1.0000365,
          0.9841895,
          0.9126973,
          0.9555921,
          0.9916969,
          0.8069441,
          1.0099771,
          0.9820033,
          0.91282105,
          1.0484879,
          0.843369,
          0.77339125,
          0.9491919,
          0.42808905,
          0.93962795,
          0.7764707,
          1.033005,
          1.0413646,
          0.80875677,
          1.1407838
         ]
        }
       ],
       "layout": {
        "height": 500,
        "showlegend": true,
        "template": {
         "data": {
          "bar": [
           {
            "error_x": {
             "color": "#2a3f5f"
            },
            "error_y": {
             "color": "#2a3f5f"
            },
            "marker": {
             "line": {
              "color": "white",
              "width": 0.5
             },
             "pattern": {
              "fillmode": "overlay",
              "size": 10,
              "solidity": 0.2
             }
            },
            "type": "bar"
           }
          ],
          "barpolar": [
           {
            "marker": {
             "line": {
              "color": "white",
              "width": 0.5
             },
             "pattern": {
              "fillmode": "overlay",
              "size": 10,
              "solidity": 0.2
             }
            },
            "type": "barpolar"
           }
          ],
          "carpet": [
           {
            "aaxis": {
             "endlinecolor": "#2a3f5f",
             "gridcolor": "#C8D4E3",
             "linecolor": "#C8D4E3",
             "minorgridcolor": "#C8D4E3",
             "startlinecolor": "#2a3f5f"
            },
            "baxis": {
             "endlinecolor": "#2a3f5f",
             "gridcolor": "#C8D4E3",
             "linecolor": "#C8D4E3",
             "minorgridcolor": "#C8D4E3",
             "startlinecolor": "#2a3f5f"
            },
            "type": "carpet"
           }
          ],
          "choropleth": [
           {
            "colorbar": {
             "outlinewidth": 0,
             "ticks": ""
            },
            "type": "choropleth"
           }
          ],
          "contour": [
           {
            "colorbar": {
             "outlinewidth": 0,
             "ticks": ""
            },
            "colorscale": [
             [
              0,
              "#0d0887"
             ],
             [
              0.1111111111111111,
              "#46039f"
             ],
             [
              0.2222222222222222,
              "#7201a8"
             ],
             [
              0.3333333333333333,
              "#9c179e"
             ],
             [
              0.4444444444444444,
              "#bd3786"
             ],
             [
              0.5555555555555556,
              "#d8576b"
             ],
             [
              0.6666666666666666,
              "#ed7953"
             ],
             [
              0.7777777777777778,
              "#fb9f3a"
             ],
             [
              0.8888888888888888,
              "#fdca26"
             ],
             [
              1,
              "#f0f921"
             ]
            ],
            "type": "contour"
           }
          ],
          "contourcarpet": [
           {
            "colorbar": {
             "outlinewidth": 0,
             "ticks": ""
            },
            "type": "contourcarpet"
           }
          ],
          "heatmap": [
           {
            "colorbar": {
             "outlinewidth": 0,
             "ticks": ""
            },
            "colorscale": [
             [
              0,
              "#0d0887"
             ],
             [
              0.1111111111111111,
              "#46039f"
             ],
             [
              0.2222222222222222,
              "#7201a8"
             ],
             [
              0.3333333333333333,
              "#9c179e"
             ],
             [
              0.4444444444444444,
              "#bd3786"
             ],
             [
              0.5555555555555556,
              "#d8576b"
             ],
             [
              0.6666666666666666,
              "#ed7953"
             ],
             [
              0.7777777777777778,
              "#fb9f3a"
             ],
             [
              0.8888888888888888,
              "#fdca26"
             ],
             [
              1,
              "#f0f921"
             ]
            ],
            "type": "heatmap"
           }
          ],
          "heatmapgl": [
           {
            "colorbar": {
             "outlinewidth": 0,
             "ticks": ""
            },
            "colorscale": [
             [
              0,
              "#0d0887"
             ],
             [
              0.1111111111111111,
              "#46039f"
             ],
             [
              0.2222222222222222,
              "#7201a8"
             ],
             [
              0.3333333333333333,
              "#9c179e"
             ],
             [
              0.4444444444444444,
              "#bd3786"
             ],
             [
              0.5555555555555556,
              "#d8576b"
             ],
             [
              0.6666666666666666,
              "#ed7953"
             ],
             [
              0.7777777777777778,
              "#fb9f3a"
             ],
             [
              0.8888888888888888,
              "#fdca26"
             ],
             [
              1,
              "#f0f921"
             ]
            ],
            "type": "heatmapgl"
           }
          ],
          "histogram": [
           {
            "marker": {
             "pattern": {
              "fillmode": "overlay",
              "size": 10,
              "solidity": 0.2
             }
            },
            "type": "histogram"
           }
          ],
          "histogram2d": [
           {
            "colorbar": {
             "outlinewidth": 0,
             "ticks": ""
            },
            "colorscale": [
             [
              0,
              "#0d0887"
             ],
             [
              0.1111111111111111,
              "#46039f"
             ],
             [
              0.2222222222222222,
              "#7201a8"
             ],
             [
              0.3333333333333333,
              "#9c179e"
             ],
             [
              0.4444444444444444,
              "#bd3786"
             ],
             [
              0.5555555555555556,
              "#d8576b"
             ],
             [
              0.6666666666666666,
              "#ed7953"
             ],
             [
              0.7777777777777778,
              "#fb9f3a"
             ],
             [
              0.8888888888888888,
              "#fdca26"
             ],
             [
              1,
              "#f0f921"
             ]
            ],
            "type": "histogram2d"
           }
          ],
          "histogram2dcontour": [
           {
            "colorbar": {
             "outlinewidth": 0,
             "ticks": ""
            },
            "colorscale": [
             [
              0,
              "#0d0887"
             ],
             [
              0.1111111111111111,
              "#46039f"
             ],
             [
              0.2222222222222222,
              "#7201a8"
             ],
             [
              0.3333333333333333,
              "#9c179e"
             ],
             [
              0.4444444444444444,
              "#bd3786"
             ],
             [
              0.5555555555555556,
              "#d8576b"
             ],
             [
              0.6666666666666666,
              "#ed7953"
             ],
             [
              0.7777777777777778,
              "#fb9f3a"
             ],
             [
              0.8888888888888888,
              "#fdca26"
             ],
             [
              1,
              "#f0f921"
             ]
            ],
            "type": "histogram2dcontour"
           }
          ],
          "mesh3d": [
           {
            "colorbar": {
             "outlinewidth": 0,
             "ticks": ""
            },
            "type": "mesh3d"
           }
          ],
          "parcoords": [
           {
            "line": {
             "colorbar": {
              "outlinewidth": 0,
              "ticks": ""
             }
            },
            "type": "parcoords"
           }
          ],
          "pie": [
           {
            "automargin": true,
            "type": "pie"
           }
          ],
          "scatter": [
           {
            "fillpattern": {
             "fillmode": "overlay",
             "size": 10,
             "solidity": 0.2
            },
            "type": "scatter"
           }
          ],
          "scatter3d": [
           {
            "line": {
             "colorbar": {
              "outlinewidth": 0,
              "ticks": ""
             }
            },
            "marker": {
             "colorbar": {
              "outlinewidth": 0,
              "ticks": ""
             }
            },
            "type": "scatter3d"
           }
          ],
          "scattercarpet": [
           {
            "marker": {
             "colorbar": {
              "outlinewidth": 0,
              "ticks": ""
             }
            },
            "type": "scattercarpet"
           }
          ],
          "scattergeo": [
           {
            "marker": {
             "colorbar": {
              "outlinewidth": 0,
              "ticks": ""
             }
            },
            "type": "scattergeo"
           }
          ],
          "scattergl": [
           {
            "marker": {
             "colorbar": {
              "outlinewidth": 0,
              "ticks": ""
             }
            },
            "type": "scattergl"
           }
          ],
          "scattermapbox": [
           {
            "marker": {
             "colorbar": {
              "outlinewidth": 0,
              "ticks": ""
             }
            },
            "type": "scattermapbox"
           }
          ],
          "scatterpolar": [
           {
            "marker": {
             "colorbar": {
              "outlinewidth": 0,
              "ticks": ""
             }
            },
            "type": "scatterpolar"
           }
          ],
          "scatterpolargl": [
           {
            "marker": {
             "colorbar": {
              "outlinewidth": 0,
              "ticks": ""
             }
            },
            "type": "scatterpolargl"
           }
          ],
          "scatterternary": [
           {
            "marker": {
             "colorbar": {
              "outlinewidth": 0,
              "ticks": ""
             }
            },
            "type": "scatterternary"
           }
          ],
          "surface": [
           {
            "colorbar": {
             "outlinewidth": 0,
             "ticks": ""
            },
            "colorscale": [
             [
              0,
              "#0d0887"
             ],
             [
              0.1111111111111111,
              "#46039f"
             ],
             [
              0.2222222222222222,
              "#7201a8"
             ],
             [
              0.3333333333333333,
              "#9c179e"
             ],
             [
              0.4444444444444444,
              "#bd3786"
             ],
             [
              0.5555555555555556,
              "#d8576b"
             ],
             [
              0.6666666666666666,
              "#ed7953"
             ],
             [
              0.7777777777777778,
              "#fb9f3a"
             ],
             [
              0.8888888888888888,
              "#fdca26"
             ],
             [
              1,
              "#f0f921"
             ]
            ],
            "type": "surface"
           }
          ],
          "table": [
           {
            "cells": {
             "fill": {
              "color": "#EBF0F8"
             },
             "line": {
              "color": "white"
             }
            },
            "header": {
             "fill": {
              "color": "#C8D4E3"
             },
             "line": {
              "color": "white"
             }
            },
            "type": "table"
           }
          ]
         },
         "layout": {
          "annotationdefaults": {
           "arrowcolor": "#2a3f5f",
           "arrowhead": 0,
           "arrowwidth": 1
          },
          "autotypenumbers": "strict",
          "coloraxis": {
           "colorbar": {
            "outlinewidth": 0,
            "ticks": ""
           }
          },
          "colorscale": {
           "diverging": [
            [
             0,
             "#8e0152"
            ],
            [
             0.1,
             "#c51b7d"
            ],
            [
             0.2,
             "#de77ae"
            ],
            [
             0.3,
             "#f1b6da"
            ],
            [
             0.4,
             "#fde0ef"
            ],
            [
             0.5,
             "#f7f7f7"
            ],
            [
             0.6,
             "#e6f5d0"
            ],
            [
             0.7,
             "#b8e186"
            ],
            [
             0.8,
             "#7fbc41"
            ],
            [
             0.9,
             "#4d9221"
            ],
            [
             1,
             "#276419"
            ]
           ],
           "sequential": [
            [
             0,
             "#0d0887"
            ],
            [
             0.1111111111111111,
             "#46039f"
            ],
            [
             0.2222222222222222,
             "#7201a8"
            ],
            [
             0.3333333333333333,
             "#9c179e"
            ],
            [
             0.4444444444444444,
             "#bd3786"
            ],
            [
             0.5555555555555556,
             "#d8576b"
            ],
            [
             0.6666666666666666,
             "#ed7953"
            ],
            [
             0.7777777777777778,
             "#fb9f3a"
            ],
            [
             0.8888888888888888,
             "#fdca26"
            ],
            [
             1,
             "#f0f921"
            ]
           ],
           "sequentialminus": [
            [
             0,
             "#0d0887"
            ],
            [
             0.1111111111111111,
             "#46039f"
            ],
            [
             0.2222222222222222,
             "#7201a8"
            ],
            [
             0.3333333333333333,
             "#9c179e"
            ],
            [
             0.4444444444444444,
             "#bd3786"
            ],
            [
             0.5555555555555556,
             "#d8576b"
            ],
            [
             0.6666666666666666,
             "#ed7953"
            ],
            [
             0.7777777777777778,
             "#fb9f3a"
            ],
            [
             0.8888888888888888,
             "#fdca26"
            ],
            [
             1,
             "#f0f921"
            ]
           ]
          },
          "colorway": [
           "#636efa",
           "#EF553B",
           "#00cc96",
           "#ab63fa",
           "#FFA15A",
           "#19d3f3",
           "#FF6692",
           "#B6E880",
           "#FF97FF",
           "#FECB52"
          ],
          "font": {
           "color": "#2a3f5f"
          },
          "geo": {
           "bgcolor": "white",
           "lakecolor": "white",
           "landcolor": "white",
           "showlakes": true,
           "showland": true,
           "subunitcolor": "#C8D4E3"
          },
          "hoverlabel": {
           "align": "left"
          },
          "hovermode": "closest",
          "mapbox": {
           "style": "light"
          },
          "paper_bgcolor": "white",
          "plot_bgcolor": "white",
          "polar": {
           "angularaxis": {
            "gridcolor": "#EBF0F8",
            "linecolor": "#EBF0F8",
            "ticks": ""
           },
           "bgcolor": "white",
           "radialaxis": {
            "gridcolor": "#EBF0F8",
            "linecolor": "#EBF0F8",
            "ticks": ""
           }
          },
          "scene": {
           "xaxis": {
            "backgroundcolor": "white",
            "gridcolor": "#DFE8F3",
            "gridwidth": 2,
            "linecolor": "#EBF0F8",
            "showbackground": true,
            "ticks": "",
            "zerolinecolor": "#EBF0F8"
           },
           "yaxis": {
            "backgroundcolor": "white",
            "gridcolor": "#DFE8F3",
            "gridwidth": 2,
            "linecolor": "#EBF0F8",
            "showbackground": true,
            "ticks": "",
            "zerolinecolor": "#EBF0F8"
           },
           "zaxis": {
            "backgroundcolor": "white",
            "gridcolor": "#DFE8F3",
            "gridwidth": 2,
            "linecolor": "#EBF0F8",
            "showbackground": true,
            "ticks": "",
            "zerolinecolor": "#EBF0F8"
           }
          },
          "shapedefaults": {
           "line": {
            "color": "#2a3f5f"
           }
          },
          "ternary": {
           "aaxis": {
            "gridcolor": "#DFE8F3",
            "linecolor": "#A2B1C6",
            "ticks": ""
           },
           "baxis": {
            "gridcolor": "#DFE8F3",
            "linecolor": "#A2B1C6",
            "ticks": ""
           },
           "bgcolor": "white",
           "caxis": {
            "gridcolor": "#DFE8F3",
            "linecolor": "#A2B1C6",
            "ticks": ""
           }
          },
          "title": {
           "x": 0.05
          },
          "xaxis": {
           "automargin": true,
           "gridcolor": "#EBF0F8",
           "linecolor": "#EBF0F8",
           "ticks": "",
           "title": {
            "standoff": 15
           },
           "zerolinecolor": "#EBF0F8",
           "zerolinewidth": 2
          },
          "yaxis": {
           "automargin": true,
           "gridcolor": "#EBF0F8",
           "linecolor": "#EBF0F8",
           "ticks": "",
           "title": {
            "standoff": 15
           },
           "zerolinecolor": "#EBF0F8",
           "zerolinewidth": 2
          }
         }
        },
        "title": {
         "text": "Distribution of Base Only Features - Bucket 4"
        },
        "width": 800,
        "yaxis": {
         "title": {
          "text": "Relative Projection Value"
         }
        }
       }
      },
      "text/html": [
       "<div>                            <div id=\"279a876d-5c90-4342-adef-c00e3ac74998\" class=\"plotly-graph-div\" style=\"height:500px; width:800px;\"></div>            <script type=\"text/javascript\">                require([\"plotly\"], function(Plotly) {                    window.PLOTLYENV=window.PLOTLYENV || {};                                    if (document.getElementById(\"279a876d-5c90-4342-adef-c00e3ac74998\")) {                    Plotly.newPlot(                        \"279a876d-5c90-4342-adef-c00e3ac74998\",                        [{\"box\":{\"visible\":true},\"fillcolor\":\"lightblue\",\"line\":{\"color\":\"blue\"},\"meanline\":{\"visible\":true},\"name\":\"Distribution\",\"opacity\":0.6,\"y\":[0.9732436,0.8724829,0.9878426,0.93714803,1.0102273,0.90805817,0.8608433,1.0789666,1.024004,0.87007374,0.878867,0.8684202,1.0608999,0.9178951,0.93157727,1.0581487,2.1145613,0.8352753,1.0187961,0.9036616,0.9639063,1.0284497,0.9770381,0.89218897,0.35418585,0.9876847,0.9141243,0.74521357,0.9402148,0.44166258,0.7587025,0.991375,1.0262135,0.95148623,0.8250276,0.8994469,0.9872111,0.9347901,0.79895854,0.83286726,0.89739686,0.9969136,0.8114193,0.7635722,0.84885484,0.87236977,0.86909765,0.9900518,0.8552726,0.82471734,0.91841745,0.9877251,0.9817835,0.8936032,1.0461164,0.8468337,0.9648775,1.0333614,0.8818727,0.8074919,0.85383683,0.8998981,1.0063959,0.9303092,1.028521,0.77603054,0.9995292,0.36504918,0.9342087,0.91844845,1.1834899,0.4974249,0.8505676,1.1871098,0.9604278,1.000717,1.0179015,1.0029987,0.8843362,0.98453057,0.94556683,0.4363099,0.92748487,0.9520866,0.831317,0.65288585,0.91800237,0.878255,1.2283071,1.1109152,0.96294767,0.98755825,1.0118723,1.0458437,0.97951454,0.85375965,1.1116697,1.0085922,0.92178667,0.9331503,0.945808,0.8656104,1.0505105,1.0260996,0.7690478,1.036062,1.0013676,0.93433666,0.98741317,0.9302764,0.9613167,0.8674467,1.0130633,0.88355285,0.94942933,1.2466006,0.94017214,0.74148196,1.1096637,1.0116727,0.99964046,0.911277,1.0174339,0.807083,0.94459814,0.96582204,0.7858449,0.31486145,0.96307886,1.074997,1.0620127,0.8876784,0.954818,0.8593145,1.0286744,1.0669236,0.6933275,1.073584,1.0736712,0.88429785,0.93926185,1.0258673,0.8382888,1.0256741,0.940614,0.89659274,0.9868902,0.9425664,0.98085535,0.96331984,1.0734355,0.9163546,0.33166784,0.8528999,0.9803874,0.98667216,0.9062669,0.9872254,0.97930664,1.3566545,1.1324289,0.8144397,1.0754311,1.011083,0.9512859,0.9807577,0.93088955,1.0644039,0.92643476,1.028589,1.0453823,0.825515,0.92454964,0.9229036,0.9183957,1.0207493,0.96540123,1.0042034,1.0018582,1.0400747,1.0394456,1.0218748,0.83346355,0.94316006,0.7428568,0.90820646,0.9802799,0.98554707,0.9464334,0.9913078,0.9246736,0.9642847,1.0511765,0.96291816,0.95456415,0.7466914,1.0641961,0.7955693,0.9651653,1.0033616,1.0339214,0.88575184,0.9299315,0.96019924,0.80056995,0.7495344,0.99680877,0.8548381,1.0184671,0.93905294,1.0342132,0.6271178,1.0096316,0.37408006,1.0196658,0.9857247,1.0012047,1.0442965,0.49665463,1.3250754,0.9678157,0.79987293,0.9680996,0.87533927,0.95323247,1.0315434,1.0420684,1.0041642,0.8103319,0.9600561,0.9446776,0.8165226,0.44193277,1.0316416,1.0781235,0.7492712,0.9211047,1.0886974,1.0777385,0.76327205,0.9899593,1.1006459,1.0080723,0.9684844,0.97487134,1.1324182,0.9156459,0.9435286,0.9834343,0.7341657,0.95503217,0.9993746,0.87893754,0.75428325,0.85145694,0.95706457,0.98743933,1.1216027,0.9982573,1.0438418,0.83727086,0.9945145,0.98471004,0.80430794,0.93406844,1.0000359,0.9472128,0.96771204,0.8410205,1.1322275,1.0092938,0.88416624,1.0061473,1.0219455,0.4581153,0.60121566,0.9270879,0.83892196,1.0355381,0.9467805,0.9446648,0.8729215,0.7976757,0.9367541,1.0297227,0.77910084,0.9834407,0.4905785,1.9660068,1.0075072,1.0699862,0.90778595,0.28125066,0.97172713,1.0206947,0.9798453,0.88092196,0.9871405,0.99005777,0.9034915,1.0164301,0.96220064,1.0097572,0.7186632,0.8564768,0.95315754,0.9947587,0.917214,0.98304486,0.7086496,0.9633593,0.87135786,0.97255516,0.8131189,1.0286062,0.80549735,0.9388152,0.8514731,1.0210079,0.9358132,0.79814845,0.95972013,1.012166,0.9218123,0.8540039,0.91695136,0.9899392,1.0182769,0.99465007,0.965567,0.88719255,0.9125321,0.98928803,0.9259981,1.0785819,0.8835241,0.8341971,0.98796856,0.8754403,0.95960593,0.99529046,0.91832024,0.8409085,0.84290475,0.8767872,0.88097924,0.7674834,0.7105252,0.92018074,1.0479054,0.9038216,0.97857654,0.9500028,0.92373186,1.111682,1.1025771,0.9803428,0.9453476,1.0668916,1.0139437,1.0298302,0.94113487,0.6956158,0.8714659,0.98817897,1.1302677,0.9904331,0.92580897,0.8063497,0.7552599,0.7753962,1.027978,0.96755743,1.0128448,0.92456836,0.36974648,0.76682514,1.1095141,0.98723334,0.98520446,0.8742183,0.89620763,0.897919,1.3401964,0.9028186,0.899338,0.9493587,0.99896044,0.84516853,1.2933037,0.90730107,1.000617,0.9489556,1.0127708,0.8608756,1.2386748,0.9398098,1.1033307,0.8898036,1.0545099,1.2796302,1.0176802,1.0552287,0.9775297,1.1083509,1.0101182,0.95532733,0.9753499,0.9328647,0.95163167,1.1019896,0.8993681,0.85907274,0.9364714,0.98429364,1.0228477,1.0597844,1.282528,0.8159679,0.75832176,1.0956317,1.0113664,0.82562214,0.86955506,0.95540893,0.8873798,0.8259879,0.98737764,0.9576811,0.9725585,1.0236069,0.9531529,1.2260956,0.90366685,1.1501561,0.90213996,0.9056638,0.9160502,0.83822,1.029737,0.99794036,0.7794539,0.9183606,0.7961426,0.93932176,0.98408926,0.8968015,0.9762844,0.9648615,0.9448484,0.80075437,1.0090327,0.8593878,0.9999253,0.9656187,0.7583963,0.94847184,0.9243954,1.0535709,1.1065122,1.054918,0.96348226,0.68295956,1.0185784,0.78552485,0.98765385,1.0326838,0.9691304,0.90965307,0.836454,0.94705963,0.9115061,1.036557,0.8601848,1.1267784,0.84958607,0.8652498,1.0627542,0.92321366,0.93619037,0.8787115,1.0467798,0.9540637,0.73582447,0.88831747,1.0696656,1.2712148,1.0416453,1.5106701,0.84235454,0.8876503,0.28640658,1.0025833,1.0866727,1.0407968,1.0506717,0.833354,1.1360376,0.9193405,0.92379165,0.7513184,0.75219876,1.0514637,0.9996247,0.9898132,1.1155682,0.90831304,0.85066617,0.9097527,0.8549131,0.8280144,1.0407587,0.8413108,1.0289756,1.1019981,1.0323374,0.90546894,0.9405738,0.93567,0.886977,1.0996704,0.8980865,0.7610675,0.9067468,0.9692918,1.0830432,0.9129615,0.88966113,0.93277895,0.6962397,0.9423849,0.7737794,0.8837699,0.9781565,0.86468613,0.97605383,0.9479089,0.9787291,0.93420243,1.0484624,0.88784593,1.0362245,1.0135243,0.9417364,0.026390202,0.94250524,0.9136968,1.2124815,0.34226382,0.81388354,0.9004188,0.93864137,0.8929478,0.9874336,0.89963466,0.9335745,1.1165854,1.2458754,0.8769973,0.7837479,1.0193121,1.414092,0.97708356,0.8892201,0.9372303,0.9795662,0.98887575,0.91286874,0.77880526,1.0281038,0.9685479,0.897912,0.82538944,0.9868012,0.99396855,0.8850601,1.0073284,1.070974,0.82188195,0.9343422,-5.4639406,0.91415244,0.96094155,0.8430669,1.0760065,1.0012336,1.0348451,0.9911041,1.0055599,-1178.6553,0.9417257,0.78593296,0.999149,0.6077067,1.0833466,0.84544396,0.9331374,0.7613171,1.0016893,0.98091626,1.0253884,0.7093029,0.78850734,1.0288575,null,0.96727884,0.85928136,1.0477804,0.89241767,0.9411474,1.0060977,0.454971,0.9843956,0.8677045,1.2072433,1.0464247,0.97529876,0.9968325,0.35555527,1.0352745,0.88035995,0.46618465,0.93596214,0.9420169,0.8531396,1.105847,0.9534286,1.0580455,0.80386597,0.9258933,null,0.88513726,0.99211186,0.87640786,0.4078869,0.91899824,0.81756604,0.97808737,0.80263275,0.43626246,0.874024,1.0744522,0.7629717,0.96321,0.88350654,1.0749584,0.6503213,1.0253261,0.75891453,0.7910722,0.84319514,1.0258553,1.1687906,0.97042465,0.79416543,0.90706867,1.0737891,0.8675119,1.0905172,0.8198096,0.7188606,1.2458158,1.4791149,1.0093266,0.94201785,1.039305,0.7661426,0.92572826,0.97308147,0.91041744,0.9348601,0.9332108,1.024708,1.0555279,0.8762666,0.9628602,1.1795287,0.8886568,1.0232775,0.97921395,1.0062182,0.8997678,0.9516862,0.812609,0.8350647,1.0507021,0.97951955,0.9146547,1.0367302,null,0.93703645,0.75291866,1.0002677,0.9930184,0.9633002,0.84615934,1.0226066,0.95057994,0.8290297,0.9589185,0.92587095,0.9399468,0.8819742,0.87466615,0.731114,0.90131897,0.7809394,null,0.96583945,0.9409153,0.9119148,1.0134668,0.9991775,0.845774,0.91014344,0.8998494,1.109391,0.9553957,0.9903259,0.9615532,0.99325323,0.9763744,0.8872999,0.9027868,0.9916477,1.0380677,0.9507492,0.98424625,0.75169694,0.95207494,0.9700735,0.9098917,0.98984915,0.8777243,1.0334225,0.69961727,0.86848813,0.97903514,0.8983577,0.85950106,0.7907247,0.9283873,0.8589657,1.0312887,0.8816405,0.8480881,0.7625374,1.0405262,1.0730445,0.8298096,0.80276436,0.93883747,0.92355716,1.0252682,0.9952508,0.9400481,1.0460529,0.8737629,0.93892217,0.9038277,0.8847584,0.9945389,1.0878086,1.0017602,1.1535374,0.85242736,0.98254603,1.0916436,1.0195508,1.0041671,0.8461227,0.9911919,1.0002103,0.8559697,0.9664201,0.41623643,0.93805426,0.8280721,1.03361,0.9536095,0.96878403,0.89917535,1.0518891,0.9272505,1.0241318,0.7298,0.87272614,0.9276878,0.92733574,0.8911222,0.8844318,0.43583205,1.0475018,0.91217554,0.98820233,0.6624049,0.8641511,1.0056723,0.6443633,0.9099653,0.958517,0.9290117,0.86511433,0.9106289,0.7776334,0.8772275,0.88660085,0.32033372,0.7623483,0.77818364,0.9828072,0.8131995,0.9818099,1.040714,1.0605822,1.0036705,1.0018191,0.869184,1.0142219,1.073435,0.84663236,1.1280884,1.1124636,0.9845256,1.0324857,0.9027552,1.059496,0.364605,0.9039737,1.0038674,0.9645304,0.9943782,0.8321977,1.0828962,1.1029423,0.92521614,0.9296109,1.057274,0.9902026,0.98733884,0.8136761,0.9063773,0.8804702,0.97142833,1.0564057,1.153416,1.0179906,1.0275003,0.85708326,null,1.0095778,0.8139954,0.9701499,0.842222,0.73129916,0.9768723,0.94487596,5.319159,1.0378301,1.0260174,1.0285615,0.9741944,1.0004208,1.0134538,1.0330648,0.8857844,0.94612724,0.97480994,0.97401226,0.92569107,1.0847946,0.77752495,0.9976545,1.0565795,0.9923492,0.8760451,0.87109727,1.3059329,1.0068271,0.97573984,1.0200795,1.2045655,0.87891465,0.9263907,0.9087596,0.96513367,0.9028928,0.7058305,0.95812684,0.9495404,1.0222223,1.0653144,1.0213233,1.0228447,0.97976965,0.9033299,0.9945247,0.8850984,0.8037151,0.79057115,0.997544,0.9353843,0.9413458,0.9067525,0.8836989,0.96407706,1.0038642,0.9799273,1.010482,1.0047622,0.93667907,1.1658733,0.9865865,0.8905634,0.7438608,0.99249953,0.7936812,0.8938672,0.8132692,1.0534815,0.95293665,0.9409262,0.86830825,0.935033,0.47035968,0.856463,0.96453774,0.91993445,1.0516355,0.9625836,0.9852497,0.9022052,0.89190906,0.9520047,0.9328294,0.834442,0.97690386,0.938719,1.0292627,0.89228714,0.94424134,0.9958092,0.67669666,0.9503296,1.252387,0.8385713,1.1594666,0.81994826,0.9468084,0.86075175,1.1569713,0.88600373,1.1792045,1.0677502,1.1486676,1.0103375,0.9884746,0.9821914,1.0136992,1.0281304,1.0560865,0.8979941,1.0045491,0.7865716,1.0913328,0.6605847,0.8369425,0.98882574,0.875268,0.96930844,0.86799073,1.0563034,0.94141865,0.8988904,0.86749643,0.9189623,1.0201344,1.0101959,0.9805528,0.98439115,0.9639228,0.92749274,0.87385315,0.9794207,0.76146597,0.9869695,0.9831103,0.90180933,0.9799849,1.0166807,0.33882496,1.1253967,0.9260407,0.93514526,0.95410424,1.0002092,1.0819718,0.9230146,0.98679227,1.0604075,0.66307133,0.8619486,0.7370175,0.8828618,0.41335544,0.9058067,0.9847814,0.95382625,0.89624804,1.0244032,0.84640414,1.0065862,0.9049759,0.9711844,0.7822003,1.1182845,0.8546165,0.72908694,1.1412376,1.0028551,0.8351465,1.0089049,0.9657653,0.9385475,0.9590129,0.9747786,0.9543807,1.1936297,0.8911743,0.9008189,0.9031175,0.8863673,0.9363188,0.9742831,0.9426664,0.49763644,0.8273832,0.9955059,0.9285958,0.9808991,0.9951037,0.9809633,0.7127447,1.0131516,1.0445867,0.9531064,0.99087167,1.0440263,1.0247937,0.7803534,0.93183154,1.0364417,1.0260723,0.6534752,1.041817,0.99090177,0.90533465,0.9311948,0.82846814,0.97514826,0.93794125,0.82689726,1.0359294,0.9207848,1.1378807,1.035744,0.88558847,0.88765216,0.7804322,0.97068983,1.0674725,1.0422485,0.9225092,0.94137865,0.9047319,0.84153473,0.73690045,1.1325657,0.9997012,1.004394,1.0016501,1.0401336,0.94772714,0.96993273,0.65557754,0.88407505,1.002067,0.939181,0.98317635,1.0569156,1.0360063,0.7004372,0.41210946,1.0725718,0.849797,1.0169953,0.9306874,0.988472,1.0772942,0.94426954,0.9391762,0.983465,0.8391017,0.8923031,0.8383575,0.9627206,1.0391346,null,1.011714,0.9845671,0.25052607,0.9148173,0.9591062,0.92835927,0.7670999,0.96199167,1.0576967,1.1377993,0.73828185,1.0055668,0.420283,1.0305344,0.990425,1.0302627,1.0069188,1.0199411,1.0880184,1.0582074,0.96370566,0.7863365,1.0640184,0.8597912,1.0146053,1.0182672,0.91550344,1.0220532,0.9864307,1.024957,1.0325805,0.8783172,0.9306905,0.9499653,0.91279995,1.1606648,0.9245085,0.83219296,1.0130181,1.1597451,0.9599277,0.99422747,1.1251471,0.98037684,0.91125864,1.103229,0.95753413,0.9200838,0.93610096,1.0210987,0.97701573,0.99154955,1.0171112,0.8791041,1.0509132,0.8164326,0.9396305,0.5798345,1.0051816,1.0304848,0.8845865,1.0806011,1.092276,0.89755106,1.0281223,1.0094116,1.0383255,0.9771345,0.84401387,0.9447588,0.949085,0.76380074,0.85513294,0.9643822,0.988408,0.8796598,0.7528412,0.9392746,0.9045782,0.9840791,0.8181277,0.2520547,0.98077804,1.0171852,1.0824393,0.97889805,1.0071832,0.9376463,1.0198238,1.0462996,1.0087209,0.87374187,0.8478145,0.9855698,0.9409746,1.0362045,0.9720551,0.97403824,0.9942627,1.0118675,0.9869127,0.9137576,0.95065606,0.8646053,0.89921,1.0756252,1.078663,0.967728,0.866062,0.9146085,1.0843484,1.0713234,0.9434607,1.010062,1.0432717,0.8706981,0.97809386,0.8702898,1.0074794,0.63367534,1.0129609,0.9398838,0.88050276,1.047206,1.10539,0.7079096,0.9366813,0.9178017,0.8392005,-0.32429615,1.0186334,0.8831495,0.9584665,0.9322352,1.0174868,0.96462685,1.1339574,0.8602128,1.0469745,0.9423684,0.9882093,1.00211,1.0587077,1.027832,1.0040567,1.0733559,1.253156,0.9680659,1.811227,0.91865605,0.8798893,1.187857,0.86801845,0.9812575,0.8223906,0.8326274,1.0197152,0.9370067,0.9980295,1.5109352,0.9453857,0.96966136,0.7218415,1.0021349,1.014459,0.9761831,1.0375232,1.078645,0.9218145,null,1.0577452,0.8819339,0.8762842,0.91395575,1.0442957,0.947005,0.80858624,0.9386737,0.9571325,0.9124775,0.94281805,0.99408877,0.92986643,0.72810626,0.95782715,1.060962,0.9792488,0.82516795,0.9639926,0.95653135,0.9627259,1.0109785,2.2783542,null,1.0146422,0.9697329,0.82501525,0.60938615,0.9741551,0.97823477,0.72004277,0.9915233,0.88609755,0.91801125,0.8529198,0.8433451,0.90293217,0.9569391,1.0011325,0.894683,0.91203856,0.93776125,1.0283717,0.76425004,0.9733628,0.80974525,0.8294739,1.0268388,0.7698844,1.0358969,1.0017422,0.91009367,0.708268,1.014018,1.0089178,1.0349457,1.0685141,0.892891,1.0397115,0.89147836,0.70334053,1.0085766,0.9793522,0.20550162,0.9037002,0.9481579,0.9920945,1.091819,0.95728976,0.891752,0.95629114,1.0222946,0.9822892,1.1420643,1.0308839,1.0104991,0.94181585,1.0845324,1.0578685,null,0.8556884,0.9348436,1.1270704,0.99250156,1.0026327,0.79743713,0.8902006,0.8255491,0.92766297,1.0745184,1.0205256,0.49966443,0.98666704,1.0113698,0.97287285,0.92740047,1.0251085,0.9364654,0.9213425,0.99087167,1.0219204,0.8243468,0.9272306,1.1496068,0.8057345,0.77478176,0.8907478,1.0886863,0.93540007,0.9037021,0.89063257,0.82367045,0.9838375,1.0161363,0.8969073,0.94414324,1.4899808,0.98077506,1.1853315,0.9657649,0.88401353,1.0017526,0.9047961,0.887376,0.8329049,0.9166626,0.91633695,1.073798,1.0000644,0.99215233,1.0445105,0.9757507,0.76557475,0.9412182,0.9222412,0.90292543,1.0153397,0.85838956,1.0454378,1.0000365,0.9841895,0.9126973,0.9555921,0.9916969,0.8069441,1.0099771,0.9820033,0.91282105,1.0484879,0.843369,0.77339125,0.9491919,0.42808905,0.93962795,0.7764707,1.033005,1.0413646,0.80875677,1.1407838],\"type\":\"violin\"}],                        {\"template\":{\"data\":{\"barpolar\":[{\"marker\":{\"line\":{\"color\":\"white\",\"width\":0.5},\"pattern\":{\"fillmode\":\"overlay\",\"size\":10,\"solidity\":0.2}},\"type\":\"barpolar\"}],\"bar\":[{\"error_x\":{\"color\":\"#2a3f5f\"},\"error_y\":{\"color\":\"#2a3f5f\"},\"marker\":{\"line\":{\"color\":\"white\",\"width\":0.5},\"pattern\":{\"fillmode\":\"overlay\",\"size\":10,\"solidity\":0.2}},\"type\":\"bar\"}],\"carpet\":[{\"aaxis\":{\"endlinecolor\":\"#2a3f5f\",\"gridcolor\":\"#C8D4E3\",\"linecolor\":\"#C8D4E3\",\"minorgridcolor\":\"#C8D4E3\",\"startlinecolor\":\"#2a3f5f\"},\"baxis\":{\"endlinecolor\":\"#2a3f5f\",\"gridcolor\":\"#C8D4E3\",\"linecolor\":\"#C8D4E3\",\"minorgridcolor\":\"#C8D4E3\",\"startlinecolor\":\"#2a3f5f\"},\"type\":\"carpet\"}],\"choropleth\":[{\"colorbar\":{\"outlinewidth\":0,\"ticks\":\"\"},\"type\":\"choropleth\"}],\"contourcarpet\":[{\"colorbar\":{\"outlinewidth\":0,\"ticks\":\"\"},\"type\":\"contourcarpet\"}],\"contour\":[{\"colorbar\":{\"outlinewidth\":0,\"ticks\":\"\"},\"colorscale\":[[0.0,\"#0d0887\"],[0.1111111111111111,\"#46039f\"],[0.2222222222222222,\"#7201a8\"],[0.3333333333333333,\"#9c179e\"],[0.4444444444444444,\"#bd3786\"],[0.5555555555555556,\"#d8576b\"],[0.6666666666666666,\"#ed7953\"],[0.7777777777777778,\"#fb9f3a\"],[0.8888888888888888,\"#fdca26\"],[1.0,\"#f0f921\"]],\"type\":\"contour\"}],\"heatmapgl\":[{\"colorbar\":{\"outlinewidth\":0,\"ticks\":\"\"},\"colorscale\":[[0.0,\"#0d0887\"],[0.1111111111111111,\"#46039f\"],[0.2222222222222222,\"#7201a8\"],[0.3333333333333333,\"#9c179e\"],[0.4444444444444444,\"#bd3786\"],[0.5555555555555556,\"#d8576b\"],[0.6666666666666666,\"#ed7953\"],[0.7777777777777778,\"#fb9f3a\"],[0.8888888888888888,\"#fdca26\"],[1.0,\"#f0f921\"]],\"type\":\"heatmapgl\"}],\"heatmap\":[{\"colorbar\":{\"outlinewidth\":0,\"ticks\":\"\"},\"colorscale\":[[0.0,\"#0d0887\"],[0.1111111111111111,\"#46039f\"],[0.2222222222222222,\"#7201a8\"],[0.3333333333333333,\"#9c179e\"],[0.4444444444444444,\"#bd3786\"],[0.5555555555555556,\"#d8576b\"],[0.6666666666666666,\"#ed7953\"],[0.7777777777777778,\"#fb9f3a\"],[0.8888888888888888,\"#fdca26\"],[1.0,\"#f0f921\"]],\"type\":\"heatmap\"}],\"histogram2dcontour\":[{\"colorbar\":{\"outlinewidth\":0,\"ticks\":\"\"},\"colorscale\":[[0.0,\"#0d0887\"],[0.1111111111111111,\"#46039f\"],[0.2222222222222222,\"#7201a8\"],[0.3333333333333333,\"#9c179e\"],[0.4444444444444444,\"#bd3786\"],[0.5555555555555556,\"#d8576b\"],[0.6666666666666666,\"#ed7953\"],[0.7777777777777778,\"#fb9f3a\"],[0.8888888888888888,\"#fdca26\"],[1.0,\"#f0f921\"]],\"type\":\"histogram2dcontour\"}],\"histogram2d\":[{\"colorbar\":{\"outlinewidth\":0,\"ticks\":\"\"},\"colorscale\":[[0.0,\"#0d0887\"],[0.1111111111111111,\"#46039f\"],[0.2222222222222222,\"#7201a8\"],[0.3333333333333333,\"#9c179e\"],[0.4444444444444444,\"#bd3786\"],[0.5555555555555556,\"#d8576b\"],[0.6666666666666666,\"#ed7953\"],[0.7777777777777778,\"#fb9f3a\"],[0.8888888888888888,\"#fdca26\"],[1.0,\"#f0f921\"]],\"type\":\"histogram2d\"}],\"histogram\":[{\"marker\":{\"pattern\":{\"fillmode\":\"overlay\",\"size\":10,\"solidity\":0.2}},\"type\":\"histogram\"}],\"mesh3d\":[{\"colorbar\":{\"outlinewidth\":0,\"ticks\":\"\"},\"type\":\"mesh3d\"}],\"parcoords\":[{\"line\":{\"colorbar\":{\"outlinewidth\":0,\"ticks\":\"\"}},\"type\":\"parcoords\"}],\"pie\":[{\"automargin\":true,\"type\":\"pie\"}],\"scatter3d\":[{\"line\":{\"colorbar\":{\"outlinewidth\":0,\"ticks\":\"\"}},\"marker\":{\"colorbar\":{\"outlinewidth\":0,\"ticks\":\"\"}},\"type\":\"scatter3d\"}],\"scattercarpet\":[{\"marker\":{\"colorbar\":{\"outlinewidth\":0,\"ticks\":\"\"}},\"type\":\"scattercarpet\"}],\"scattergeo\":[{\"marker\":{\"colorbar\":{\"outlinewidth\":0,\"ticks\":\"\"}},\"type\":\"scattergeo\"}],\"scattergl\":[{\"marker\":{\"colorbar\":{\"outlinewidth\":0,\"ticks\":\"\"}},\"type\":\"scattergl\"}],\"scattermapbox\":[{\"marker\":{\"colorbar\":{\"outlinewidth\":0,\"ticks\":\"\"}},\"type\":\"scattermapbox\"}],\"scatterpolargl\":[{\"marker\":{\"colorbar\":{\"outlinewidth\":0,\"ticks\":\"\"}},\"type\":\"scatterpolargl\"}],\"scatterpolar\":[{\"marker\":{\"colorbar\":{\"outlinewidth\":0,\"ticks\":\"\"}},\"type\":\"scatterpolar\"}],\"scatter\":[{\"fillpattern\":{\"fillmode\":\"overlay\",\"size\":10,\"solidity\":0.2},\"type\":\"scatter\"}],\"scatterternary\":[{\"marker\":{\"colorbar\":{\"outlinewidth\":0,\"ticks\":\"\"}},\"type\":\"scatterternary\"}],\"surface\":[{\"colorbar\":{\"outlinewidth\":0,\"ticks\":\"\"},\"colorscale\":[[0.0,\"#0d0887\"],[0.1111111111111111,\"#46039f\"],[0.2222222222222222,\"#7201a8\"],[0.3333333333333333,\"#9c179e\"],[0.4444444444444444,\"#bd3786\"],[0.5555555555555556,\"#d8576b\"],[0.6666666666666666,\"#ed7953\"],[0.7777777777777778,\"#fb9f3a\"],[0.8888888888888888,\"#fdca26\"],[1.0,\"#f0f921\"]],\"type\":\"surface\"}],\"table\":[{\"cells\":{\"fill\":{\"color\":\"#EBF0F8\"},\"line\":{\"color\":\"white\"}},\"header\":{\"fill\":{\"color\":\"#C8D4E3\"},\"line\":{\"color\":\"white\"}},\"type\":\"table\"}]},\"layout\":{\"annotationdefaults\":{\"arrowcolor\":\"#2a3f5f\",\"arrowhead\":0,\"arrowwidth\":1},\"autotypenumbers\":\"strict\",\"coloraxis\":{\"colorbar\":{\"outlinewidth\":0,\"ticks\":\"\"}},\"colorscale\":{\"diverging\":[[0,\"#8e0152\"],[0.1,\"#c51b7d\"],[0.2,\"#de77ae\"],[0.3,\"#f1b6da\"],[0.4,\"#fde0ef\"],[0.5,\"#f7f7f7\"],[0.6,\"#e6f5d0\"],[0.7,\"#b8e186\"],[0.8,\"#7fbc41\"],[0.9,\"#4d9221\"],[1,\"#276419\"]],\"sequential\":[[0.0,\"#0d0887\"],[0.1111111111111111,\"#46039f\"],[0.2222222222222222,\"#7201a8\"],[0.3333333333333333,\"#9c179e\"],[0.4444444444444444,\"#bd3786\"],[0.5555555555555556,\"#d8576b\"],[0.6666666666666666,\"#ed7953\"],[0.7777777777777778,\"#fb9f3a\"],[0.8888888888888888,\"#fdca26\"],[1.0,\"#f0f921\"]],\"sequentialminus\":[[0.0,\"#0d0887\"],[0.1111111111111111,\"#46039f\"],[0.2222222222222222,\"#7201a8\"],[0.3333333333333333,\"#9c179e\"],[0.4444444444444444,\"#bd3786\"],[0.5555555555555556,\"#d8576b\"],[0.6666666666666666,\"#ed7953\"],[0.7777777777777778,\"#fb9f3a\"],[0.8888888888888888,\"#fdca26\"],[1.0,\"#f0f921\"]]},\"colorway\":[\"#636efa\",\"#EF553B\",\"#00cc96\",\"#ab63fa\",\"#FFA15A\",\"#19d3f3\",\"#FF6692\",\"#B6E880\",\"#FF97FF\",\"#FECB52\"],\"font\":{\"color\":\"#2a3f5f\"},\"geo\":{\"bgcolor\":\"white\",\"lakecolor\":\"white\",\"landcolor\":\"white\",\"showlakes\":true,\"showland\":true,\"subunitcolor\":\"#C8D4E3\"},\"hoverlabel\":{\"align\":\"left\"},\"hovermode\":\"closest\",\"mapbox\":{\"style\":\"light\"},\"paper_bgcolor\":\"white\",\"plot_bgcolor\":\"white\",\"polar\":{\"angularaxis\":{\"gridcolor\":\"#EBF0F8\",\"linecolor\":\"#EBF0F8\",\"ticks\":\"\"},\"bgcolor\":\"white\",\"radialaxis\":{\"gridcolor\":\"#EBF0F8\",\"linecolor\":\"#EBF0F8\",\"ticks\":\"\"}},\"scene\":{\"xaxis\":{\"backgroundcolor\":\"white\",\"gridcolor\":\"#DFE8F3\",\"gridwidth\":2,\"linecolor\":\"#EBF0F8\",\"showbackground\":true,\"ticks\":\"\",\"zerolinecolor\":\"#EBF0F8\"},\"yaxis\":{\"backgroundcolor\":\"white\",\"gridcolor\":\"#DFE8F3\",\"gridwidth\":2,\"linecolor\":\"#EBF0F8\",\"showbackground\":true,\"ticks\":\"\",\"zerolinecolor\":\"#EBF0F8\"},\"zaxis\":{\"backgroundcolor\":\"white\",\"gridcolor\":\"#DFE8F3\",\"gridwidth\":2,\"linecolor\":\"#EBF0F8\",\"showbackground\":true,\"ticks\":\"\",\"zerolinecolor\":\"#EBF0F8\"}},\"shapedefaults\":{\"line\":{\"color\":\"#2a3f5f\"}},\"ternary\":{\"aaxis\":{\"gridcolor\":\"#DFE8F3\",\"linecolor\":\"#A2B1C6\",\"ticks\":\"\"},\"baxis\":{\"gridcolor\":\"#DFE8F3\",\"linecolor\":\"#A2B1C6\",\"ticks\":\"\"},\"bgcolor\":\"white\",\"caxis\":{\"gridcolor\":\"#DFE8F3\",\"linecolor\":\"#A2B1C6\",\"ticks\":\"\"}},\"title\":{\"x\":0.05},\"xaxis\":{\"automargin\":true,\"gridcolor\":\"#EBF0F8\",\"linecolor\":\"#EBF0F8\",\"ticks\":\"\",\"title\":{\"standoff\":15},\"zerolinecolor\":\"#EBF0F8\",\"zerolinewidth\":2},\"yaxis\":{\"automargin\":true,\"gridcolor\":\"#EBF0F8\",\"linecolor\":\"#EBF0F8\",\"ticks\":\"\",\"title\":{\"standoff\":15},\"zerolinecolor\":\"#EBF0F8\",\"zerolinewidth\":2}}},\"title\":{\"text\":\"Distribution of Base Only Features - Bucket 4\"},\"yaxis\":{\"title\":{\"text\":\"Relative Projection Value\"}},\"showlegend\":true,\"width\":800,\"height\":500},                        {\"responsive\": true}                    ).then(function(){\n",
       "                            \n",
       "var gd = document.getElementById('279a876d-5c90-4342-adef-c00e3ac74998');\n",
       "var x = new MutationObserver(function (mutations, observer) {{\n",
       "        var display = window.getComputedStyle(gd).display;\n",
       "        if (!display || display === 'none') {{\n",
       "            console.log([gd, 'removed!']);\n",
       "            Plotly.purge(gd);\n",
       "            observer.disconnect();\n",
       "        }}\n",
       "}});\n",
       "\n",
       "// Listen for the removal of the full notebook cells\n",
       "var notebookContainer = gd.closest('#notebook-container');\n",
       "if (notebookContainer) {{\n",
       "    x.observe(notebookContainer, {childList: true});\n",
       "}}\n",
       "\n",
       "// Listen for the clearing of the current output cell\n",
       "var outputEl = gd.closest('.output');\n",
       "if (outputEl) {{\n",
       "    x.observe(outputEl, {childList: true});\n",
       "}}\n",
       "\n",
       "                        })                };                });            </script>        </div>"
      ]
     },
     "metadata": {},
     "output_type": "display_data"
    }
   ],
   "source": [
    "data = relproj_data[base_only_indices][:, 4]\n",
    "mean_val = np.nanmean(data)\n",
    "\n",
    "fig = go.Figure()\n",
    "\n",
    "# Add violin plot\n",
    "fig.add_trace(go.Violin(\n",
    "    y=data,\n",
    "    box_visible=True,\n",
    "    line_color='blue',\n",
    "    meanline_visible=True,\n",
    "    fillcolor='lightblue',\n",
    "    opacity=0.6,\n",
    "    name='Distribution'\n",
    "))\n",
    "\n",
    "# # Add individual points\n",
    "# fig.add_trace(go.Scatter(\n",
    "#     y=data,\n",
    "#     mode='markers',\n",
    "#     marker=dict(\n",
    "#         color='blue',\n",
    "#         size=3,\n",
    "#         opacity=0.3\n",
    "#     ),\n",
    "#     name='Individual Points'\n",
    "# ))\n",
    "\n",
    "# Update layout\n",
    "fig.update_layout(\n",
    "    title='Distribution of Base Only Features - Bucket 4',\n",
    "    yaxis_title='Relative Projection Value',\n",
    "    showlegend=True,\n",
    "    width=800,\n",
    "    height=500,\n",
    "    template='plotly_white'\n",
    ")\n",
    "\n",
    "fig.show()"
   ]
  },
  {
   "cell_type": "code",
   "execution_count": 143,
   "metadata": {},
   "outputs": [
    {
     "data": {
      "application/vnd.plotly.v1+json": {
       "config": {
        "plotlyServerURL": "https://plot.ly"
       },
       "data": [
        {
         "line": {
          "color": "red",
          "width": 2
         },
         "mode": "lines",
         "name": "Stage 0 IT Only median",
         "type": "scatter",
         "x": [
          "00%-10%",
          "10%-20%",
          "20%-30%",
          "30%-40%",
          "40%-50%",
          "50%-60%",
          "60%-70%",
          "70%-80%",
          "80%-90%",
          "90%-100%"
         ],
         "y": [
          998492.5,
          814,
          321,
          138,
          64,
          30,
          15,
          7,
          3,
          0
         ]
        },
        {
         "line": {
          "color": "lightcoral",
          "width": 2
         },
         "mode": "lines",
         "name": "Stage 1 IT Only median",
         "type": "scatter",
         "x": [
          "00%-10%",
          "10%-20%",
          "20%-30%",
          "30%-40%",
          "40%-50%",
          "50%-60%",
          "60%-70%",
          "70%-80%",
          "80%-90%",
          "90%-100%"
         ],
         "y": [
          999076,
          524,
          205.5,
          97,
          54,
          25,
          14,
          6,
          3,
          0
         ]
        },
        {
         "line": {
          "color": "green",
          "width": 2
         },
         "mode": "lines",
         "name": "Shared median",
         "type": "scatter",
         "x": [
          "00%-10%",
          "10%-20%",
          "20%-30%",
          "30%-40%",
          "40%-50%",
          "50%-60%",
          "60%-70%",
          "70%-80%",
          "80%-90%",
          "90%-100%"
         ],
         "y": [
          999651,
          113,
          52,
          28,
          17,
          10,
          7,
          4,
          2,
          0
         ]
        },
        {
         "line": {
          "color": "blue",
          "width": 2
         },
         "mode": "lines",
         "name": "Base Only median",
         "type": "scatter",
         "x": [
          "00%-10%",
          "10%-20%",
          "20%-30%",
          "30%-40%",
          "40%-50%",
          "50%-60%",
          "60%-70%",
          "70%-80%",
          "80%-90%",
          "90%-100%"
         ],
         "y": [
          998155,
          1025,
          427,
          184,
          87,
          41,
          19,
          9,
          4,
          0
         ]
        }
       ],
       "layout": {
        "height": 500,
        "legend": {
         "x": 0.99,
         "xanchor": "right",
         "y": 0.99,
         "yanchor": "top"
        },
        "showlegend": true,
        "template": {
         "data": {
          "bar": [
           {
            "error_x": {
             "color": "#2a3f5f"
            },
            "error_y": {
             "color": "#2a3f5f"
            },
            "marker": {
             "line": {
              "color": "white",
              "width": 0.5
             },
             "pattern": {
              "fillmode": "overlay",
              "size": 10,
              "solidity": 0.2
             }
            },
            "type": "bar"
           }
          ],
          "barpolar": [
           {
            "marker": {
             "line": {
              "color": "white",
              "width": 0.5
             },
             "pattern": {
              "fillmode": "overlay",
              "size": 10,
              "solidity": 0.2
             }
            },
            "type": "barpolar"
           }
          ],
          "carpet": [
           {
            "aaxis": {
             "endlinecolor": "#2a3f5f",
             "gridcolor": "#C8D4E3",
             "linecolor": "#C8D4E3",
             "minorgridcolor": "#C8D4E3",
             "startlinecolor": "#2a3f5f"
            },
            "baxis": {
             "endlinecolor": "#2a3f5f",
             "gridcolor": "#C8D4E3",
             "linecolor": "#C8D4E3",
             "minorgridcolor": "#C8D4E3",
             "startlinecolor": "#2a3f5f"
            },
            "type": "carpet"
           }
          ],
          "choropleth": [
           {
            "colorbar": {
             "outlinewidth": 0,
             "ticks": ""
            },
            "type": "choropleth"
           }
          ],
          "contour": [
           {
            "colorbar": {
             "outlinewidth": 0,
             "ticks": ""
            },
            "colorscale": [
             [
              0,
              "#0d0887"
             ],
             [
              0.1111111111111111,
              "#46039f"
             ],
             [
              0.2222222222222222,
              "#7201a8"
             ],
             [
              0.3333333333333333,
              "#9c179e"
             ],
             [
              0.4444444444444444,
              "#bd3786"
             ],
             [
              0.5555555555555556,
              "#d8576b"
             ],
             [
              0.6666666666666666,
              "#ed7953"
             ],
             [
              0.7777777777777778,
              "#fb9f3a"
             ],
             [
              0.8888888888888888,
              "#fdca26"
             ],
             [
              1,
              "#f0f921"
             ]
            ],
            "type": "contour"
           }
          ],
          "contourcarpet": [
           {
            "colorbar": {
             "outlinewidth": 0,
             "ticks": ""
            },
            "type": "contourcarpet"
           }
          ],
          "heatmap": [
           {
            "colorbar": {
             "outlinewidth": 0,
             "ticks": ""
            },
            "colorscale": [
             [
              0,
              "#0d0887"
             ],
             [
              0.1111111111111111,
              "#46039f"
             ],
             [
              0.2222222222222222,
              "#7201a8"
             ],
             [
              0.3333333333333333,
              "#9c179e"
             ],
             [
              0.4444444444444444,
              "#bd3786"
             ],
             [
              0.5555555555555556,
              "#d8576b"
             ],
             [
              0.6666666666666666,
              "#ed7953"
             ],
             [
              0.7777777777777778,
              "#fb9f3a"
             ],
             [
              0.8888888888888888,
              "#fdca26"
             ],
             [
              1,
              "#f0f921"
             ]
            ],
            "type": "heatmap"
           }
          ],
          "heatmapgl": [
           {
            "colorbar": {
             "outlinewidth": 0,
             "ticks": ""
            },
            "colorscale": [
             [
              0,
              "#0d0887"
             ],
             [
              0.1111111111111111,
              "#46039f"
             ],
             [
              0.2222222222222222,
              "#7201a8"
             ],
             [
              0.3333333333333333,
              "#9c179e"
             ],
             [
              0.4444444444444444,
              "#bd3786"
             ],
             [
              0.5555555555555556,
              "#d8576b"
             ],
             [
              0.6666666666666666,
              "#ed7953"
             ],
             [
              0.7777777777777778,
              "#fb9f3a"
             ],
             [
              0.8888888888888888,
              "#fdca26"
             ],
             [
              1,
              "#f0f921"
             ]
            ],
            "type": "heatmapgl"
           }
          ],
          "histogram": [
           {
            "marker": {
             "pattern": {
              "fillmode": "overlay",
              "size": 10,
              "solidity": 0.2
             }
            },
            "type": "histogram"
           }
          ],
          "histogram2d": [
           {
            "colorbar": {
             "outlinewidth": 0,
             "ticks": ""
            },
            "colorscale": [
             [
              0,
              "#0d0887"
             ],
             [
              0.1111111111111111,
              "#46039f"
             ],
             [
              0.2222222222222222,
              "#7201a8"
             ],
             [
              0.3333333333333333,
              "#9c179e"
             ],
             [
              0.4444444444444444,
              "#bd3786"
             ],
             [
              0.5555555555555556,
              "#d8576b"
             ],
             [
              0.6666666666666666,
              "#ed7953"
             ],
             [
              0.7777777777777778,
              "#fb9f3a"
             ],
             [
              0.8888888888888888,
              "#fdca26"
             ],
             [
              1,
              "#f0f921"
             ]
            ],
            "type": "histogram2d"
           }
          ],
          "histogram2dcontour": [
           {
            "colorbar": {
             "outlinewidth": 0,
             "ticks": ""
            },
            "colorscale": [
             [
              0,
              "#0d0887"
             ],
             [
              0.1111111111111111,
              "#46039f"
             ],
             [
              0.2222222222222222,
              "#7201a8"
             ],
             [
              0.3333333333333333,
              "#9c179e"
             ],
             [
              0.4444444444444444,
              "#bd3786"
             ],
             [
              0.5555555555555556,
              "#d8576b"
             ],
             [
              0.6666666666666666,
              "#ed7953"
             ],
             [
              0.7777777777777778,
              "#fb9f3a"
             ],
             [
              0.8888888888888888,
              "#fdca26"
             ],
             [
              1,
              "#f0f921"
             ]
            ],
            "type": "histogram2dcontour"
           }
          ],
          "mesh3d": [
           {
            "colorbar": {
             "outlinewidth": 0,
             "ticks": ""
            },
            "type": "mesh3d"
           }
          ],
          "parcoords": [
           {
            "line": {
             "colorbar": {
              "outlinewidth": 0,
              "ticks": ""
             }
            },
            "type": "parcoords"
           }
          ],
          "pie": [
           {
            "automargin": true,
            "type": "pie"
           }
          ],
          "scatter": [
           {
            "fillpattern": {
             "fillmode": "overlay",
             "size": 10,
             "solidity": 0.2
            },
            "type": "scatter"
           }
          ],
          "scatter3d": [
           {
            "line": {
             "colorbar": {
              "outlinewidth": 0,
              "ticks": ""
             }
            },
            "marker": {
             "colorbar": {
              "outlinewidth": 0,
              "ticks": ""
             }
            },
            "type": "scatter3d"
           }
          ],
          "scattercarpet": [
           {
            "marker": {
             "colorbar": {
              "outlinewidth": 0,
              "ticks": ""
             }
            },
            "type": "scattercarpet"
           }
          ],
          "scattergeo": [
           {
            "marker": {
             "colorbar": {
              "outlinewidth": 0,
              "ticks": ""
             }
            },
            "type": "scattergeo"
           }
          ],
          "scattergl": [
           {
            "marker": {
             "colorbar": {
              "outlinewidth": 0,
              "ticks": ""
             }
            },
            "type": "scattergl"
           }
          ],
          "scattermapbox": [
           {
            "marker": {
             "colorbar": {
              "outlinewidth": 0,
              "ticks": ""
             }
            },
            "type": "scattermapbox"
           }
          ],
          "scatterpolar": [
           {
            "marker": {
             "colorbar": {
              "outlinewidth": 0,
              "ticks": ""
             }
            },
            "type": "scatterpolar"
           }
          ],
          "scatterpolargl": [
           {
            "marker": {
             "colorbar": {
              "outlinewidth": 0,
              "ticks": ""
             }
            },
            "type": "scatterpolargl"
           }
          ],
          "scatterternary": [
           {
            "marker": {
             "colorbar": {
              "outlinewidth": 0,
              "ticks": ""
             }
            },
            "type": "scatterternary"
           }
          ],
          "surface": [
           {
            "colorbar": {
             "outlinewidth": 0,
             "ticks": ""
            },
            "colorscale": [
             [
              0,
              "#0d0887"
             ],
             [
              0.1111111111111111,
              "#46039f"
             ],
             [
              0.2222222222222222,
              "#7201a8"
             ],
             [
              0.3333333333333333,
              "#9c179e"
             ],
             [
              0.4444444444444444,
              "#bd3786"
             ],
             [
              0.5555555555555556,
              "#d8576b"
             ],
             [
              0.6666666666666666,
              "#ed7953"
             ],
             [
              0.7777777777777778,
              "#fb9f3a"
             ],
             [
              0.8888888888888888,
              "#fdca26"
             ],
             [
              1,
              "#f0f921"
             ]
            ],
            "type": "surface"
           }
          ],
          "table": [
           {
            "cells": {
             "fill": {
              "color": "#EBF0F8"
             },
             "line": {
              "color": "white"
             }
            },
            "header": {
             "fill": {
              "color": "#C8D4E3"
             },
             "line": {
              "color": "white"
             }
            },
            "type": "table"
           }
          ]
         },
         "layout": {
          "annotationdefaults": {
           "arrowcolor": "#2a3f5f",
           "arrowhead": 0,
           "arrowwidth": 1
          },
          "autotypenumbers": "strict",
          "coloraxis": {
           "colorbar": {
            "outlinewidth": 0,
            "ticks": ""
           }
          },
          "colorscale": {
           "diverging": [
            [
             0,
             "#8e0152"
            ],
            [
             0.1,
             "#c51b7d"
            ],
            [
             0.2,
             "#de77ae"
            ],
            [
             0.3,
             "#f1b6da"
            ],
            [
             0.4,
             "#fde0ef"
            ],
            [
             0.5,
             "#f7f7f7"
            ],
            [
             0.6,
             "#e6f5d0"
            ],
            [
             0.7,
             "#b8e186"
            ],
            [
             0.8,
             "#7fbc41"
            ],
            [
             0.9,
             "#4d9221"
            ],
            [
             1,
             "#276419"
            ]
           ],
           "sequential": [
            [
             0,
             "#0d0887"
            ],
            [
             0.1111111111111111,
             "#46039f"
            ],
            [
             0.2222222222222222,
             "#7201a8"
            ],
            [
             0.3333333333333333,
             "#9c179e"
            ],
            [
             0.4444444444444444,
             "#bd3786"
            ],
            [
             0.5555555555555556,
             "#d8576b"
            ],
            [
             0.6666666666666666,
             "#ed7953"
            ],
            [
             0.7777777777777778,
             "#fb9f3a"
            ],
            [
             0.8888888888888888,
             "#fdca26"
            ],
            [
             1,
             "#f0f921"
            ]
           ],
           "sequentialminus": [
            [
             0,
             "#0d0887"
            ],
            [
             0.1111111111111111,
             "#46039f"
            ],
            [
             0.2222222222222222,
             "#7201a8"
            ],
            [
             0.3333333333333333,
             "#9c179e"
            ],
            [
             0.4444444444444444,
             "#bd3786"
            ],
            [
             0.5555555555555556,
             "#d8576b"
            ],
            [
             0.6666666666666666,
             "#ed7953"
            ],
            [
             0.7777777777777778,
             "#fb9f3a"
            ],
            [
             0.8888888888888888,
             "#fdca26"
            ],
            [
             1,
             "#f0f921"
            ]
           ]
          },
          "colorway": [
           "#636efa",
           "#EF553B",
           "#00cc96",
           "#ab63fa",
           "#FFA15A",
           "#19d3f3",
           "#FF6692",
           "#B6E880",
           "#FF97FF",
           "#FECB52"
          ],
          "font": {
           "color": "#2a3f5f"
          },
          "geo": {
           "bgcolor": "white",
           "lakecolor": "white",
           "landcolor": "white",
           "showlakes": true,
           "showland": true,
           "subunitcolor": "#C8D4E3"
          },
          "hoverlabel": {
           "align": "left"
          },
          "hovermode": "closest",
          "mapbox": {
           "style": "light"
          },
          "paper_bgcolor": "white",
          "plot_bgcolor": "white",
          "polar": {
           "angularaxis": {
            "gridcolor": "#EBF0F8",
            "linecolor": "#EBF0F8",
            "ticks": ""
           },
           "bgcolor": "white",
           "radialaxis": {
            "gridcolor": "#EBF0F8",
            "linecolor": "#EBF0F8",
            "ticks": ""
           }
          },
          "scene": {
           "xaxis": {
            "backgroundcolor": "white",
            "gridcolor": "#DFE8F3",
            "gridwidth": 2,
            "linecolor": "#EBF0F8",
            "showbackground": true,
            "ticks": "",
            "zerolinecolor": "#EBF0F8"
           },
           "yaxis": {
            "backgroundcolor": "white",
            "gridcolor": "#DFE8F3",
            "gridwidth": 2,
            "linecolor": "#EBF0F8",
            "showbackground": true,
            "ticks": "",
            "zerolinecolor": "#EBF0F8"
           },
           "zaxis": {
            "backgroundcolor": "white",
            "gridcolor": "#DFE8F3",
            "gridwidth": 2,
            "linecolor": "#EBF0F8",
            "showbackground": true,
            "ticks": "",
            "zerolinecolor": "#EBF0F8"
           }
          },
          "shapedefaults": {
           "line": {
            "color": "#2a3f5f"
           }
          },
          "ternary": {
           "aaxis": {
            "gridcolor": "#DFE8F3",
            "linecolor": "#A2B1C6",
            "ticks": ""
           },
           "baxis": {
            "gridcolor": "#DFE8F3",
            "linecolor": "#A2B1C6",
            "ticks": ""
           },
           "bgcolor": "white",
           "caxis": {
            "gridcolor": "#DFE8F3",
            "linecolor": "#A2B1C6",
            "ticks": ""
           }
          },
          "title": {
           "x": 0.05
          },
          "xaxis": {
           "automargin": true,
           "gridcolor": "#EBF0F8",
           "linecolor": "#EBF0F8",
           "ticks": "",
           "title": {
            "standoff": 15
           },
           "zerolinecolor": "#EBF0F8",
           "zerolinewidth": 2
          },
          "yaxis": {
           "automargin": true,
           "gridcolor": "#EBF0F8",
           "linecolor": "#EBF0F8",
           "ticks": "",
           "title": {
            "standoff": 15
           },
           "zerolinecolor": "#EBF0F8",
           "zerolinewidth": 2
          }
         }
        },
        "title": {
         "text": "Features: Mean Activation Count Across Activation Buckets"
        },
        "width": 1000,
        "xaxis": {
         "range": [
          1,
          10
         ],
         "title": {
          "text": "Activation Buckets (relative per feature)"
         }
        },
        "yaxis": {
         "range": [
          0,
          3
         ],
         "title": {
          "text": "Activation Count"
         },
         "type": "log"
        }
       }
      },
      "text/html": [
       "<div>                            <div id=\"fad449f5-f0c1-4e41-a713-dd8c70946aa6\" class=\"plotly-graph-div\" style=\"height:500px; width:1000px;\"></div>            <script type=\"text/javascript\">                require([\"plotly\"], function(Plotly) {                    window.PLOTLYENV=window.PLOTLYENV || {};                                    if (document.getElementById(\"fad449f5-f0c1-4e41-a713-dd8c70946aa6\")) {                    Plotly.newPlot(                        \"fad449f5-f0c1-4e41-a713-dd8c70946aa6\",                        [{\"line\":{\"color\":\"red\",\"width\":2},\"mode\":\"lines\",\"name\":\"Stage 0 IT Only median\",\"x\":[\"00%-10%\",\"10%-20%\",\"20%-30%\",\"30%-40%\",\"40%-50%\",\"50%-60%\",\"60%-70%\",\"70%-80%\",\"80%-90%\",\"90%-100%\"],\"y\":[998492.5,814.0,321.0,138.0,64.0,30.0,15.0,7.0,3.0,0.0],\"type\":\"scatter\"},{\"line\":{\"color\":\"lightcoral\",\"width\":2},\"mode\":\"lines\",\"name\":\"Stage 1 IT Only median\",\"x\":[\"00%-10%\",\"10%-20%\",\"20%-30%\",\"30%-40%\",\"40%-50%\",\"50%-60%\",\"60%-70%\",\"70%-80%\",\"80%-90%\",\"90%-100%\"],\"y\":[999076.0,524.0,205.5,97.0,54.0,25.0,14.0,6.0,3.0,0.0],\"type\":\"scatter\"},{\"line\":{\"color\":\"green\",\"width\":2},\"mode\":\"lines\",\"name\":\"Shared median\",\"x\":[\"00%-10%\",\"10%-20%\",\"20%-30%\",\"30%-40%\",\"40%-50%\",\"50%-60%\",\"60%-70%\",\"70%-80%\",\"80%-90%\",\"90%-100%\"],\"y\":[999651.0,113.0,52.0,28.0,17.0,10.0,7.0,4.0,2.0,0.0],\"type\":\"scatter\"},{\"line\":{\"color\":\"blue\",\"width\":2},\"mode\":\"lines\",\"name\":\"Base Only median\",\"x\":[\"00%-10%\",\"10%-20%\",\"20%-30%\",\"30%-40%\",\"40%-50%\",\"50%-60%\",\"60%-70%\",\"70%-80%\",\"80%-90%\",\"90%-100%\"],\"y\":[998155.0,1025.0,427.0,184.0,87.0,41.0,19.0,9.0,4.0,0.0],\"type\":\"scatter\"}],                        {\"template\":{\"data\":{\"barpolar\":[{\"marker\":{\"line\":{\"color\":\"white\",\"width\":0.5},\"pattern\":{\"fillmode\":\"overlay\",\"size\":10,\"solidity\":0.2}},\"type\":\"barpolar\"}],\"bar\":[{\"error_x\":{\"color\":\"#2a3f5f\"},\"error_y\":{\"color\":\"#2a3f5f\"},\"marker\":{\"line\":{\"color\":\"white\",\"width\":0.5},\"pattern\":{\"fillmode\":\"overlay\",\"size\":10,\"solidity\":0.2}},\"type\":\"bar\"}],\"carpet\":[{\"aaxis\":{\"endlinecolor\":\"#2a3f5f\",\"gridcolor\":\"#C8D4E3\",\"linecolor\":\"#C8D4E3\",\"minorgridcolor\":\"#C8D4E3\",\"startlinecolor\":\"#2a3f5f\"},\"baxis\":{\"endlinecolor\":\"#2a3f5f\",\"gridcolor\":\"#C8D4E3\",\"linecolor\":\"#C8D4E3\",\"minorgridcolor\":\"#C8D4E3\",\"startlinecolor\":\"#2a3f5f\"},\"type\":\"carpet\"}],\"choropleth\":[{\"colorbar\":{\"outlinewidth\":0,\"ticks\":\"\"},\"type\":\"choropleth\"}],\"contourcarpet\":[{\"colorbar\":{\"outlinewidth\":0,\"ticks\":\"\"},\"type\":\"contourcarpet\"}],\"contour\":[{\"colorbar\":{\"outlinewidth\":0,\"ticks\":\"\"},\"colorscale\":[[0.0,\"#0d0887\"],[0.1111111111111111,\"#46039f\"],[0.2222222222222222,\"#7201a8\"],[0.3333333333333333,\"#9c179e\"],[0.4444444444444444,\"#bd3786\"],[0.5555555555555556,\"#d8576b\"],[0.6666666666666666,\"#ed7953\"],[0.7777777777777778,\"#fb9f3a\"],[0.8888888888888888,\"#fdca26\"],[1.0,\"#f0f921\"]],\"type\":\"contour\"}],\"heatmapgl\":[{\"colorbar\":{\"outlinewidth\":0,\"ticks\":\"\"},\"colorscale\":[[0.0,\"#0d0887\"],[0.1111111111111111,\"#46039f\"],[0.2222222222222222,\"#7201a8\"],[0.3333333333333333,\"#9c179e\"],[0.4444444444444444,\"#bd3786\"],[0.5555555555555556,\"#d8576b\"],[0.6666666666666666,\"#ed7953\"],[0.7777777777777778,\"#fb9f3a\"],[0.8888888888888888,\"#fdca26\"],[1.0,\"#f0f921\"]],\"type\":\"heatmapgl\"}],\"heatmap\":[{\"colorbar\":{\"outlinewidth\":0,\"ticks\":\"\"},\"colorscale\":[[0.0,\"#0d0887\"],[0.1111111111111111,\"#46039f\"],[0.2222222222222222,\"#7201a8\"],[0.3333333333333333,\"#9c179e\"],[0.4444444444444444,\"#bd3786\"],[0.5555555555555556,\"#d8576b\"],[0.6666666666666666,\"#ed7953\"],[0.7777777777777778,\"#fb9f3a\"],[0.8888888888888888,\"#fdca26\"],[1.0,\"#f0f921\"]],\"type\":\"heatmap\"}],\"histogram2dcontour\":[{\"colorbar\":{\"outlinewidth\":0,\"ticks\":\"\"},\"colorscale\":[[0.0,\"#0d0887\"],[0.1111111111111111,\"#46039f\"],[0.2222222222222222,\"#7201a8\"],[0.3333333333333333,\"#9c179e\"],[0.4444444444444444,\"#bd3786\"],[0.5555555555555556,\"#d8576b\"],[0.6666666666666666,\"#ed7953\"],[0.7777777777777778,\"#fb9f3a\"],[0.8888888888888888,\"#fdca26\"],[1.0,\"#f0f921\"]],\"type\":\"histogram2dcontour\"}],\"histogram2d\":[{\"colorbar\":{\"outlinewidth\":0,\"ticks\":\"\"},\"colorscale\":[[0.0,\"#0d0887\"],[0.1111111111111111,\"#46039f\"],[0.2222222222222222,\"#7201a8\"],[0.3333333333333333,\"#9c179e\"],[0.4444444444444444,\"#bd3786\"],[0.5555555555555556,\"#d8576b\"],[0.6666666666666666,\"#ed7953\"],[0.7777777777777778,\"#fb9f3a\"],[0.8888888888888888,\"#fdca26\"],[1.0,\"#f0f921\"]],\"type\":\"histogram2d\"}],\"histogram\":[{\"marker\":{\"pattern\":{\"fillmode\":\"overlay\",\"size\":10,\"solidity\":0.2}},\"type\":\"histogram\"}],\"mesh3d\":[{\"colorbar\":{\"outlinewidth\":0,\"ticks\":\"\"},\"type\":\"mesh3d\"}],\"parcoords\":[{\"line\":{\"colorbar\":{\"outlinewidth\":0,\"ticks\":\"\"}},\"type\":\"parcoords\"}],\"pie\":[{\"automargin\":true,\"type\":\"pie\"}],\"scatter3d\":[{\"line\":{\"colorbar\":{\"outlinewidth\":0,\"ticks\":\"\"}},\"marker\":{\"colorbar\":{\"outlinewidth\":0,\"ticks\":\"\"}},\"type\":\"scatter3d\"}],\"scattercarpet\":[{\"marker\":{\"colorbar\":{\"outlinewidth\":0,\"ticks\":\"\"}},\"type\":\"scattercarpet\"}],\"scattergeo\":[{\"marker\":{\"colorbar\":{\"outlinewidth\":0,\"ticks\":\"\"}},\"type\":\"scattergeo\"}],\"scattergl\":[{\"marker\":{\"colorbar\":{\"outlinewidth\":0,\"ticks\":\"\"}},\"type\":\"scattergl\"}],\"scattermapbox\":[{\"marker\":{\"colorbar\":{\"outlinewidth\":0,\"ticks\":\"\"}},\"type\":\"scattermapbox\"}],\"scatterpolargl\":[{\"marker\":{\"colorbar\":{\"outlinewidth\":0,\"ticks\":\"\"}},\"type\":\"scatterpolargl\"}],\"scatterpolar\":[{\"marker\":{\"colorbar\":{\"outlinewidth\":0,\"ticks\":\"\"}},\"type\":\"scatterpolar\"}],\"scatter\":[{\"fillpattern\":{\"fillmode\":\"overlay\",\"size\":10,\"solidity\":0.2},\"type\":\"scatter\"}],\"scatterternary\":[{\"marker\":{\"colorbar\":{\"outlinewidth\":0,\"ticks\":\"\"}},\"type\":\"scatterternary\"}],\"surface\":[{\"colorbar\":{\"outlinewidth\":0,\"ticks\":\"\"},\"colorscale\":[[0.0,\"#0d0887\"],[0.1111111111111111,\"#46039f\"],[0.2222222222222222,\"#7201a8\"],[0.3333333333333333,\"#9c179e\"],[0.4444444444444444,\"#bd3786\"],[0.5555555555555556,\"#d8576b\"],[0.6666666666666666,\"#ed7953\"],[0.7777777777777778,\"#fb9f3a\"],[0.8888888888888888,\"#fdca26\"],[1.0,\"#f0f921\"]],\"type\":\"surface\"}],\"table\":[{\"cells\":{\"fill\":{\"color\":\"#EBF0F8\"},\"line\":{\"color\":\"white\"}},\"header\":{\"fill\":{\"color\":\"#C8D4E3\"},\"line\":{\"color\":\"white\"}},\"type\":\"table\"}]},\"layout\":{\"annotationdefaults\":{\"arrowcolor\":\"#2a3f5f\",\"arrowhead\":0,\"arrowwidth\":1},\"autotypenumbers\":\"strict\",\"coloraxis\":{\"colorbar\":{\"outlinewidth\":0,\"ticks\":\"\"}},\"colorscale\":{\"diverging\":[[0,\"#8e0152\"],[0.1,\"#c51b7d\"],[0.2,\"#de77ae\"],[0.3,\"#f1b6da\"],[0.4,\"#fde0ef\"],[0.5,\"#f7f7f7\"],[0.6,\"#e6f5d0\"],[0.7,\"#b8e186\"],[0.8,\"#7fbc41\"],[0.9,\"#4d9221\"],[1,\"#276419\"]],\"sequential\":[[0.0,\"#0d0887\"],[0.1111111111111111,\"#46039f\"],[0.2222222222222222,\"#7201a8\"],[0.3333333333333333,\"#9c179e\"],[0.4444444444444444,\"#bd3786\"],[0.5555555555555556,\"#d8576b\"],[0.6666666666666666,\"#ed7953\"],[0.7777777777777778,\"#fb9f3a\"],[0.8888888888888888,\"#fdca26\"],[1.0,\"#f0f921\"]],\"sequentialminus\":[[0.0,\"#0d0887\"],[0.1111111111111111,\"#46039f\"],[0.2222222222222222,\"#7201a8\"],[0.3333333333333333,\"#9c179e\"],[0.4444444444444444,\"#bd3786\"],[0.5555555555555556,\"#d8576b\"],[0.6666666666666666,\"#ed7953\"],[0.7777777777777778,\"#fb9f3a\"],[0.8888888888888888,\"#fdca26\"],[1.0,\"#f0f921\"]]},\"colorway\":[\"#636efa\",\"#EF553B\",\"#00cc96\",\"#ab63fa\",\"#FFA15A\",\"#19d3f3\",\"#FF6692\",\"#B6E880\",\"#FF97FF\",\"#FECB52\"],\"font\":{\"color\":\"#2a3f5f\"},\"geo\":{\"bgcolor\":\"white\",\"lakecolor\":\"white\",\"landcolor\":\"white\",\"showlakes\":true,\"showland\":true,\"subunitcolor\":\"#C8D4E3\"},\"hoverlabel\":{\"align\":\"left\"},\"hovermode\":\"closest\",\"mapbox\":{\"style\":\"light\"},\"paper_bgcolor\":\"white\",\"plot_bgcolor\":\"white\",\"polar\":{\"angularaxis\":{\"gridcolor\":\"#EBF0F8\",\"linecolor\":\"#EBF0F8\",\"ticks\":\"\"},\"bgcolor\":\"white\",\"radialaxis\":{\"gridcolor\":\"#EBF0F8\",\"linecolor\":\"#EBF0F8\",\"ticks\":\"\"}},\"scene\":{\"xaxis\":{\"backgroundcolor\":\"white\",\"gridcolor\":\"#DFE8F3\",\"gridwidth\":2,\"linecolor\":\"#EBF0F8\",\"showbackground\":true,\"ticks\":\"\",\"zerolinecolor\":\"#EBF0F8\"},\"yaxis\":{\"backgroundcolor\":\"white\",\"gridcolor\":\"#DFE8F3\",\"gridwidth\":2,\"linecolor\":\"#EBF0F8\",\"showbackground\":true,\"ticks\":\"\",\"zerolinecolor\":\"#EBF0F8\"},\"zaxis\":{\"backgroundcolor\":\"white\",\"gridcolor\":\"#DFE8F3\",\"gridwidth\":2,\"linecolor\":\"#EBF0F8\",\"showbackground\":true,\"ticks\":\"\",\"zerolinecolor\":\"#EBF0F8\"}},\"shapedefaults\":{\"line\":{\"color\":\"#2a3f5f\"}},\"ternary\":{\"aaxis\":{\"gridcolor\":\"#DFE8F3\",\"linecolor\":\"#A2B1C6\",\"ticks\":\"\"},\"baxis\":{\"gridcolor\":\"#DFE8F3\",\"linecolor\":\"#A2B1C6\",\"ticks\":\"\"},\"bgcolor\":\"white\",\"caxis\":{\"gridcolor\":\"#DFE8F3\",\"linecolor\":\"#A2B1C6\",\"ticks\":\"\"}},\"title\":{\"x\":0.05},\"xaxis\":{\"automargin\":true,\"gridcolor\":\"#EBF0F8\",\"linecolor\":\"#EBF0F8\",\"ticks\":\"\",\"title\":{\"standoff\":15},\"zerolinecolor\":\"#EBF0F8\",\"zerolinewidth\":2},\"yaxis\":{\"automargin\":true,\"gridcolor\":\"#EBF0F8\",\"linecolor\":\"#EBF0F8\",\"ticks\":\"\",\"title\":{\"standoff\":15},\"zerolinecolor\":\"#EBF0F8\",\"zerolinewidth\":2}}},\"legend\":{\"yanchor\":\"top\",\"y\":0.99,\"xanchor\":\"right\",\"x\":0.99},\"xaxis\":{\"title\":{\"text\":\"Activation Buckets (relative per feature)\"},\"range\":[1,10]},\"yaxis\":{\"title\":{\"text\":\"Activation Count\"},\"type\":\"log\",\"range\":[0,3]},\"title\":{\"text\":\"Features: Mean Activation Count Across Activation Buckets\"},\"width\":1000,\"height\":500,\"showlegend\":true},                        {\"responsive\": true}                    ).then(function(){\n",
       "                            \n",
       "var gd = document.getElementById('fad449f5-f0c1-4e41-a713-dd8c70946aa6');\n",
       "var x = new MutationObserver(function (mutations, observer) {{\n",
       "        var display = window.getComputedStyle(gd).display;\n",
       "        if (!display || display === 'none') {{\n",
       "            console.log([gd, 'removed!']);\n",
       "            Plotly.purge(gd);\n",
       "            observer.disconnect();\n",
       "        }}\n",
       "}});\n",
       "\n",
       "// Listen for the removal of the full notebook cells\n",
       "var notebookContainer = gd.closest('#notebook-container');\n",
       "if (notebookContainer) {{\n",
       "    x.observe(notebookContainer, {childList: true});\n",
       "}}\n",
       "\n",
       "// Listen for the clearing of the current output cell\n",
       "var outputEl = gd.closest('.output');\n",
       "if (outputEl) {{\n",
       "    x.observe(outputEl, {childList: true});\n",
       "}}\n",
       "\n",
       "                        })                };                });            </script>        </div>"
      ]
     },
     "metadata": {},
     "output_type": "display_data"
    }
   ],
   "source": [
    "import plotly.graph_objects as go\n",
    "import numpy as np\n",
    "METRIC = \"median\"\n",
    "# Create figure\n",
    "fig = go.Figure()\n",
    "\n",
    "# Plot individual IT only feature lines\n",
    "# for idx in it_only_indices:\n",
    "#     feature_data = relproj_data[idx]\n",
    "#     fig.add_trace(go.Scatter(\n",
    "#         x=[f\"{i}0%-{i+1}0%\" for i in range(0, 10)],\n",
    "#         y=feature_data,\n",
    "#         mode='lines',\n",
    "#         line=dict(color='rgba(0,0,255,0.1)'),\n",
    "#         showlegend=False\n",
    "#     ))\n",
    "\n",
    "# Add mean lines\n",
    "mean_data = naninfmetric(bucket_count[it_only_indices], metric=METRIC)\n",
    "fig.add_trace(go.Scatter(\n",
    "    x=[f\"{i}0%-{i+1}0%\" for i in range(0, 10)],\n",
    "    y=mean_data,\n",
    "    mode='lines',\n",
    "    line=dict(color='red', width=2),\n",
    "    name=f'Stage 0 IT Only {METRIC}'\n",
    "))\n",
    "\n",
    "# Add mean lines\n",
    "mean_data = naninfmetric(bucket_count[stage1_it_only_indices], metric=METRIC)\n",
    "fig.add_trace(go.Scatter(\n",
    "    x=[f\"{i}0%-{i+1}0%\" for i in range(0, 10)],\n",
    "    y=mean_data,\n",
    "    mode='lines',\n",
    "    line=dict(color='lightcoral', width=2),\n",
    "    name=f'Stage 1 IT Only {METRIC}'\n",
    "))\n",
    "\n",
    "\n",
    "mean_data = naninfmetric(bucket_count[shared_indices], metric=METRIC)\n",
    "fig.add_trace(go.Scatter(\n",
    "    x=[f\"{i}0%-{i+1}0%\" for i in range(0, 10)],\n",
    "    y=mean_data,\n",
    "    mode='lines', \n",
    "    line=dict(color='green', width=2),\n",
    "    name=f'Shared {METRIC}'\n",
    "))\n",
    "\n",
    "mean_data = naninfmetric(bucket_count[base_only_indices], metric=METRIC)\n",
    "fig.add_trace(go.Scatter(\n",
    "    x=[f\"{i}0%-{i+1}0%\" for i in range(0, 10)],\n",
    "    y=mean_data,\n",
    "    mode='lines',\n",
    "    line=dict(color='blue', width=2),\n",
    "    name=f'Base Only {METRIC}'\n",
    "))\n",
    "\n",
    "# Update layout\n",
    "fig.update_layout(\n",
    "    title='Features: Mean Activation Count Across Activation Buckets',\n",
    "    xaxis_title='Activation Buckets (relative per feature)',\n",
    "    yaxis_title='Activation Count',\n",
    "    template='plotly_white',\n",
    "    width=1000,\n",
    "    height=500,\n",
    "    showlegend=True,\n",
    "    legend=dict(\n",
    "        yanchor=\"top\",\n",
    "        y=0.99,\n",
    "        xanchor=\"right\",\n",
    "        x=0.99\n",
    "    ),\n",
    "    xaxis=dict(range=[1, 10]),\n",
    "    yaxis=dict(\n",
    "        type='log',\n",
    "        range=[0, 3] # log10 of 1000\n",
    "    ),\n",
    ")\n",
    "\n",
    "fig.show()\n",
    "fig.write_image(f\"../plots/activation_counts_{METRIC}_{N_BUCKETS}.png\")"
   ]
  },
  {
   "cell_type": "code",
   "execution_count": 155,
   "metadata": {},
   "outputs": [
    {
     "name": "stdout",
     "output_type": "stream",
     "text": [
      "Found 22 IT only features with low (<0.1) relative projection in last bucket\n",
      "\n",
      "Feature indices: Index([ 5406, 11412, 15338, 16143, 21760, 28876, 38337, 38853, 44461, 47053,\n",
      "       48755, 51823, 53547, 53904, 55432, 57717, 59988, 68066, 68510, 69810,\n",
      "       72073, 73286],\n",
      "      dtype='int64')\n"
     ]
    },
    {
     "data": {
      "application/vnd.plotly.v1+json": {
       "config": {
        "plotlyServerURL": "https://plot.ly"
       },
       "data": [
        {
         "mode": "lines",
         "name": "Feature 5406",
         "opacity": 0.5,
         "type": "scatter",
         "x": [
          "00%-10%",
          "10%-20%",
          "20%-30%",
          "30%-40%",
          "40%-50%",
          "50%-60%",
          "60%-70%",
          "70%-80%",
          "80%-90%",
          "90%-100%"
         ],
         "y": [
          0.96299446,
          0.39378747,
          0.3521399,
          0.31398523,
          0.30454084,
          0.26728183,
          0.21427822,
          0.20687158,
          0.18483172,
          null
         ]
        },
        {
         "mode": "lines",
         "name": "Feature 11412",
         "opacity": 0.5,
         "type": "scatter",
         "x": [
          "00%-10%",
          "10%-20%",
          "20%-30%",
          "30%-40%",
          "40%-50%",
          "50%-60%",
          "60%-70%",
          "70%-80%",
          "80%-90%",
          "90%-100%"
         ],
         "y": [
          0.9888268,
          0.24056312,
          0.23634054,
          0.22351056,
          0.22176223,
          0.21676007,
          0.20346831,
          0.20747232,
          null,
          null
         ]
        },
        {
         "mode": "lines",
         "name": "Feature 15338",
         "opacity": 0.5,
         "type": "scatter",
         "x": [
          "00%-10%",
          "10%-20%",
          "20%-30%",
          "30%-40%",
          "40%-50%",
          "50%-60%",
          "60%-70%",
          "70%-80%",
          "80%-90%",
          "90%-100%"
         ],
         "y": [
          1.0016962,
          0.4819926,
          0.37488922,
          0.4332707,
          0.20595177,
          0.2229666,
          0.14369461,
          0.29007953,
          0.5739211,
          null
         ]
        },
        {
         "mode": "lines",
         "name": "Feature 16143",
         "opacity": 0.5,
         "type": "scatter",
         "x": [
          "00%-10%",
          "10%-20%",
          "20%-30%",
          "30%-40%",
          "40%-50%",
          "50%-60%",
          "60%-70%",
          "70%-80%",
          "80%-90%",
          "90%-100%"
         ],
         "y": [
          0.9446836,
          0.52451515,
          0.45060638,
          0.44617593,
          0.38826507,
          0.3344888,
          0.28429085,
          0.37617126,
          0.2770288,
          0.25556988
         ]
        },
        {
         "mode": "lines",
         "name": "Feature 21760",
         "opacity": 0.5,
         "type": "scatter",
         "x": [
          "00%-10%",
          "10%-20%",
          "20%-30%",
          "30%-40%",
          "40%-50%",
          "50%-60%",
          "60%-70%",
          "70%-80%",
          "80%-90%",
          "90%-100%"
         ],
         "y": [
          0.9424858,
          0.4246079,
          0.42695236,
          0.3065761,
          0.28233346,
          0.18982463,
          0.19044775,
          0.24796078,
          0.17757161,
          null
         ]
        },
        {
         "mode": "lines",
         "name": "Feature 28876",
         "opacity": 0.5,
         "type": "scatter",
         "x": [
          "00%-10%",
          "10%-20%",
          "20%-30%",
          "30%-40%",
          "40%-50%",
          "50%-60%",
          "60%-70%",
          "70%-80%",
          "80%-90%",
          "90%-100%"
         ],
         "y": [
          0.8758832,
          0.48972827,
          0.39718282,
          0.35242417,
          0.30207855,
          0.23296495,
          0.22308622,
          0.2926001,
          0.214715,
          null
         ]
        },
        {
         "mode": "lines",
         "name": "Feature 38337",
         "opacity": 0.5,
         "type": "scatter",
         "x": [
          "00%-10%",
          "10%-20%",
          "20%-30%",
          "30%-40%",
          "40%-50%",
          "50%-60%",
          "60%-70%",
          "70%-80%",
          "80%-90%",
          "90%-100%"
         ],
         "y": [
          0.97128105,
          0.29777718,
          0.299083,
          0.27357376,
          0.2541659,
          0.26361182,
          0.2662628,
          0.25781706,
          0.23662144,
          null
         ]
        },
        {
         "mode": "lines",
         "name": "Feature 38853",
         "opacity": 0.5,
         "type": "scatter",
         "x": [
          "00%-10%",
          "10%-20%",
          "20%-30%",
          "30%-40%",
          "40%-50%",
          "50%-60%",
          "60%-70%",
          "70%-80%",
          "80%-90%",
          "90%-100%"
         ],
         "y": [
          0.9337021,
          0.5242936,
          0.52148676,
          0.42867327,
          0.3319851,
          0.3256376,
          0.35346913,
          0.22994637,
          null,
          null
         ]
        },
        {
         "mode": "lines",
         "name": "Feature 44461",
         "opacity": 0.5,
         "type": "scatter",
         "x": [
          "00%-10%",
          "10%-20%",
          "20%-30%",
          "30%-40%",
          "40%-50%",
          "50%-60%",
          "60%-70%",
          "70%-80%",
          "80%-90%",
          "90%-100%"
         ],
         "y": [
          1.0602118,
          0.5121105,
          0.46338752,
          0.44949204,
          0.38634202,
          0.32282913,
          0.33321375,
          0.3137393,
          0.38096341,
          null
         ]
        },
        {
         "mode": "lines",
         "name": "Feature 47053",
         "opacity": 0.5,
         "type": "scatter",
         "x": [
          "00%-10%",
          "10%-20%",
          "20%-30%",
          "30%-40%",
          "40%-50%",
          "50%-60%",
          "60%-70%",
          "70%-80%",
          "80%-90%",
          "90%-100%"
         ],
         "y": [
          1.0527256,
          0.4693309,
          0.38823736,
          0.34427917,
          0.30439386,
          0.34487513,
          0.25110742,
          0.23602931,
          null,
          null
         ]
        },
        {
         "mode": "lines",
         "name": "Feature 48755",
         "opacity": 0.5,
         "type": "scatter",
         "x": [
          "00%-10%",
          "10%-20%",
          "20%-30%",
          "30%-40%",
          "40%-50%",
          "50%-60%",
          "60%-70%",
          "70%-80%",
          "80%-90%",
          "90%-100%"
         ],
         "y": [
          1.0065105,
          0.10150138,
          0.12816313,
          0.14395493,
          0.065951094,
          0.16683182,
          0.065638654,
          0.071625926,
          0.09340269,
          0.07508114
         ]
        },
        {
         "mode": "lines",
         "name": "Feature 51823",
         "opacity": 0.5,
         "type": "scatter",
         "x": [
          "00%-10%",
          "10%-20%",
          "20%-30%",
          "30%-40%",
          "40%-50%",
          "50%-60%",
          "60%-70%",
          "70%-80%",
          "80%-90%",
          "90%-100%"
         ],
         "y": [
          0.9562959,
          0.31513983,
          0.25119343,
          0.26763573,
          0.23644377,
          0.25903228,
          0.18802126,
          0.19803324,
          0.19358175,
          null
         ]
        },
        {
         "mode": "lines",
         "name": "Feature 53547",
         "opacity": 0.5,
         "type": "scatter",
         "x": [
          "00%-10%",
          "10%-20%",
          "20%-30%",
          "30%-40%",
          "40%-50%",
          "50%-60%",
          "60%-70%",
          "70%-80%",
          "80%-90%",
          "90%-100%"
         ],
         "y": [
          0.9321263,
          0.48133507,
          0.45303002,
          0.4328905,
          0.29805914,
          0.2854492,
          0.38760415,
          0.22936535,
          null,
          0.33100557
         ]
        },
        {
         "mode": "lines",
         "name": "Feature 53904",
         "opacity": 0.5,
         "type": "scatter",
         "x": [
          "00%-10%",
          "10%-20%",
          "20%-30%",
          "30%-40%",
          "40%-50%",
          "50%-60%",
          "60%-70%",
          "70%-80%",
          "80%-90%",
          "90%-100%"
         ],
         "y": [
          0.3654804,
          0.36404887,
          0.3344704,
          0.31918234,
          0.2992803,
          0.274489,
          0.36466667,
          0.35121268,
          0.25259456,
          0.30864212
         ]
        },
        {
         "mode": "lines",
         "name": "Feature 55432",
         "opacity": 0.5,
         "type": "scatter",
         "x": [
          "00%-10%",
          "10%-20%",
          "20%-30%",
          "30%-40%",
          "40%-50%",
          "50%-60%",
          "60%-70%",
          "70%-80%",
          "80%-90%",
          "90%-100%"
         ],
         "y": [
          0.9491725,
          0.3209382,
          0.26978108,
          0.26668116,
          0.23403907,
          0.22898442,
          0.24228734,
          0.2289431,
          null,
          null
         ]
        },
        {
         "mode": "lines",
         "name": "Feature 57717",
         "opacity": 0.5,
         "type": "scatter",
         "x": [
          "00%-10%",
          "10%-20%",
          "20%-30%",
          "30%-40%",
          "40%-50%",
          "50%-60%",
          "60%-70%",
          "70%-80%",
          "80%-90%",
          "90%-100%"
         ],
         "y": [
          0.95849675,
          0.26860285,
          0.23968126,
          0.22647281,
          0.21722017,
          0.2266171,
          0.22944148,
          0.17654943,
          null,
          null
         ]
        },
        {
         "mode": "lines",
         "name": "Feature 59988",
         "opacity": 0.5,
         "type": "scatter",
         "x": [
          "00%-10%",
          "10%-20%",
          "20%-30%",
          "30%-40%",
          "40%-50%",
          "50%-60%",
          "60%-70%",
          "70%-80%",
          "80%-90%",
          "90%-100%"
         ],
         "y": [
          0.98068905,
          0.36001673,
          0.37262455,
          0.34939483,
          0.2800876,
          0.33750403,
          0.18239155,
          0.22015303,
          0.26725104,
          0.16809978
         ]
        },
        {
         "mode": "lines",
         "name": "Feature 68066",
         "opacity": 0.5,
         "type": "scatter",
         "x": [
          "00%-10%",
          "10%-20%",
          "20%-30%",
          "30%-40%",
          "40%-50%",
          "50%-60%",
          "60%-70%",
          "70%-80%",
          "80%-90%",
          "90%-100%"
         ],
         "y": [
          1.0328149,
          0.3597168,
          0.27710077,
          0.2835677,
          0.23900706,
          0.21777144,
          0.21203557,
          0.1411377,
          null,
          0.17614911
         ]
        },
        {
         "mode": "lines",
         "name": "Feature 68510",
         "opacity": 0.5,
         "type": "scatter",
         "x": [
          "00%-10%",
          "10%-20%",
          "20%-30%",
          "30%-40%",
          "40%-50%",
          "50%-60%",
          "60%-70%",
          "70%-80%",
          "80%-90%",
          "90%-100%"
         ],
         "y": [
          0.6977538,
          0.3926757,
          0.3540101,
          0.3122335,
          0.35360864,
          0.24993564,
          0.21544327,
          0.23271653,
          0.11297809,
          null
         ]
        },
        {
         "mode": "lines",
         "name": "Feature 69810",
         "opacity": 0.5,
         "type": "scatter",
         "x": [
          "00%-10%",
          "10%-20%",
          "20%-30%",
          "30%-40%",
          "40%-50%",
          "50%-60%",
          "60%-70%",
          "70%-80%",
          "80%-90%",
          "90%-100%"
         ],
         "y": [
          0.9631808,
          0.3684978,
          0.278154,
          0.2734553,
          0.21411252,
          0.22379194,
          0.21064353,
          0.1945492,
          0.17403805,
          0.16672261
         ]
        },
        {
         "mode": "lines",
         "name": "Feature 72073",
         "opacity": 0.5,
         "type": "scatter",
         "x": [
          "00%-10%",
          "10%-20%",
          "20%-30%",
          "30%-40%",
          "40%-50%",
          "50%-60%",
          "60%-70%",
          "70%-80%",
          "80%-90%",
          "90%-100%"
         ],
         "y": [
          1.0050603,
          0.34669062,
          0.31623843,
          0.28638798,
          0.3012781,
          0.26812917,
          0.24833639,
          0.25553823,
          0.2717113,
          null
         ]
        },
        {
         "mode": "lines",
         "name": "Feature 73286",
         "opacity": 0.5,
         "type": "scatter",
         "x": [
          "00%-10%",
          "10%-20%",
          "20%-30%",
          "30%-40%",
          "40%-50%",
          "50%-60%",
          "60%-70%",
          "70%-80%",
          "80%-90%",
          "90%-100%"
         ],
         "y": [
          0.9316845,
          0.13611788,
          0.244514,
          0.2194572,
          0.20166574,
          0.20420335,
          0.1875682,
          0.20781133,
          0.25985917,
          0.34888688
         ]
        }
       ],
       "layout": {
        "height": 500,
        "legend": {
         "x": 1.15,
         "xanchor": "right",
         "y": 0.99,
         "yanchor": "top"
        },
        "showlegend": true,
        "template": {
         "data": {
          "bar": [
           {
            "error_x": {
             "color": "#2a3f5f"
            },
            "error_y": {
             "color": "#2a3f5f"
            },
            "marker": {
             "line": {
              "color": "white",
              "width": 0.5
             },
             "pattern": {
              "fillmode": "overlay",
              "size": 10,
              "solidity": 0.2
             }
            },
            "type": "bar"
           }
          ],
          "barpolar": [
           {
            "marker": {
             "line": {
              "color": "white",
              "width": 0.5
             },
             "pattern": {
              "fillmode": "overlay",
              "size": 10,
              "solidity": 0.2
             }
            },
            "type": "barpolar"
           }
          ],
          "carpet": [
           {
            "aaxis": {
             "endlinecolor": "#2a3f5f",
             "gridcolor": "#C8D4E3",
             "linecolor": "#C8D4E3",
             "minorgridcolor": "#C8D4E3",
             "startlinecolor": "#2a3f5f"
            },
            "baxis": {
             "endlinecolor": "#2a3f5f",
             "gridcolor": "#C8D4E3",
             "linecolor": "#C8D4E3",
             "minorgridcolor": "#C8D4E3",
             "startlinecolor": "#2a3f5f"
            },
            "type": "carpet"
           }
          ],
          "choropleth": [
           {
            "colorbar": {
             "outlinewidth": 0,
             "ticks": ""
            },
            "type": "choropleth"
           }
          ],
          "contour": [
           {
            "colorbar": {
             "outlinewidth": 0,
             "ticks": ""
            },
            "colorscale": [
             [
              0,
              "#0d0887"
             ],
             [
              0.1111111111111111,
              "#46039f"
             ],
             [
              0.2222222222222222,
              "#7201a8"
             ],
             [
              0.3333333333333333,
              "#9c179e"
             ],
             [
              0.4444444444444444,
              "#bd3786"
             ],
             [
              0.5555555555555556,
              "#d8576b"
             ],
             [
              0.6666666666666666,
              "#ed7953"
             ],
             [
              0.7777777777777778,
              "#fb9f3a"
             ],
             [
              0.8888888888888888,
              "#fdca26"
             ],
             [
              1,
              "#f0f921"
             ]
            ],
            "type": "contour"
           }
          ],
          "contourcarpet": [
           {
            "colorbar": {
             "outlinewidth": 0,
             "ticks": ""
            },
            "type": "contourcarpet"
           }
          ],
          "heatmap": [
           {
            "colorbar": {
             "outlinewidth": 0,
             "ticks": ""
            },
            "colorscale": [
             [
              0,
              "#0d0887"
             ],
             [
              0.1111111111111111,
              "#46039f"
             ],
             [
              0.2222222222222222,
              "#7201a8"
             ],
             [
              0.3333333333333333,
              "#9c179e"
             ],
             [
              0.4444444444444444,
              "#bd3786"
             ],
             [
              0.5555555555555556,
              "#d8576b"
             ],
             [
              0.6666666666666666,
              "#ed7953"
             ],
             [
              0.7777777777777778,
              "#fb9f3a"
             ],
             [
              0.8888888888888888,
              "#fdca26"
             ],
             [
              1,
              "#f0f921"
             ]
            ],
            "type": "heatmap"
           }
          ],
          "heatmapgl": [
           {
            "colorbar": {
             "outlinewidth": 0,
             "ticks": ""
            },
            "colorscale": [
             [
              0,
              "#0d0887"
             ],
             [
              0.1111111111111111,
              "#46039f"
             ],
             [
              0.2222222222222222,
              "#7201a8"
             ],
             [
              0.3333333333333333,
              "#9c179e"
             ],
             [
              0.4444444444444444,
              "#bd3786"
             ],
             [
              0.5555555555555556,
              "#d8576b"
             ],
             [
              0.6666666666666666,
              "#ed7953"
             ],
             [
              0.7777777777777778,
              "#fb9f3a"
             ],
             [
              0.8888888888888888,
              "#fdca26"
             ],
             [
              1,
              "#f0f921"
             ]
            ],
            "type": "heatmapgl"
           }
          ],
          "histogram": [
           {
            "marker": {
             "pattern": {
              "fillmode": "overlay",
              "size": 10,
              "solidity": 0.2
             }
            },
            "type": "histogram"
           }
          ],
          "histogram2d": [
           {
            "colorbar": {
             "outlinewidth": 0,
             "ticks": ""
            },
            "colorscale": [
             [
              0,
              "#0d0887"
             ],
             [
              0.1111111111111111,
              "#46039f"
             ],
             [
              0.2222222222222222,
              "#7201a8"
             ],
             [
              0.3333333333333333,
              "#9c179e"
             ],
             [
              0.4444444444444444,
              "#bd3786"
             ],
             [
              0.5555555555555556,
              "#d8576b"
             ],
             [
              0.6666666666666666,
              "#ed7953"
             ],
             [
              0.7777777777777778,
              "#fb9f3a"
             ],
             [
              0.8888888888888888,
              "#fdca26"
             ],
             [
              1,
              "#f0f921"
             ]
            ],
            "type": "histogram2d"
           }
          ],
          "histogram2dcontour": [
           {
            "colorbar": {
             "outlinewidth": 0,
             "ticks": ""
            },
            "colorscale": [
             [
              0,
              "#0d0887"
             ],
             [
              0.1111111111111111,
              "#46039f"
             ],
             [
              0.2222222222222222,
              "#7201a8"
             ],
             [
              0.3333333333333333,
              "#9c179e"
             ],
             [
              0.4444444444444444,
              "#bd3786"
             ],
             [
              0.5555555555555556,
              "#d8576b"
             ],
             [
              0.6666666666666666,
              "#ed7953"
             ],
             [
              0.7777777777777778,
              "#fb9f3a"
             ],
             [
              0.8888888888888888,
              "#fdca26"
             ],
             [
              1,
              "#f0f921"
             ]
            ],
            "type": "histogram2dcontour"
           }
          ],
          "mesh3d": [
           {
            "colorbar": {
             "outlinewidth": 0,
             "ticks": ""
            },
            "type": "mesh3d"
           }
          ],
          "parcoords": [
           {
            "line": {
             "colorbar": {
              "outlinewidth": 0,
              "ticks": ""
             }
            },
            "type": "parcoords"
           }
          ],
          "pie": [
           {
            "automargin": true,
            "type": "pie"
           }
          ],
          "scatter": [
           {
            "fillpattern": {
             "fillmode": "overlay",
             "size": 10,
             "solidity": 0.2
            },
            "type": "scatter"
           }
          ],
          "scatter3d": [
           {
            "line": {
             "colorbar": {
              "outlinewidth": 0,
              "ticks": ""
             }
            },
            "marker": {
             "colorbar": {
              "outlinewidth": 0,
              "ticks": ""
             }
            },
            "type": "scatter3d"
           }
          ],
          "scattercarpet": [
           {
            "marker": {
             "colorbar": {
              "outlinewidth": 0,
              "ticks": ""
             }
            },
            "type": "scattercarpet"
           }
          ],
          "scattergeo": [
           {
            "marker": {
             "colorbar": {
              "outlinewidth": 0,
              "ticks": ""
             }
            },
            "type": "scattergeo"
           }
          ],
          "scattergl": [
           {
            "marker": {
             "colorbar": {
              "outlinewidth": 0,
              "ticks": ""
             }
            },
            "type": "scattergl"
           }
          ],
          "scattermapbox": [
           {
            "marker": {
             "colorbar": {
              "outlinewidth": 0,
              "ticks": ""
             }
            },
            "type": "scattermapbox"
           }
          ],
          "scatterpolar": [
           {
            "marker": {
             "colorbar": {
              "outlinewidth": 0,
              "ticks": ""
             }
            },
            "type": "scatterpolar"
           }
          ],
          "scatterpolargl": [
           {
            "marker": {
             "colorbar": {
              "outlinewidth": 0,
              "ticks": ""
             }
            },
            "type": "scatterpolargl"
           }
          ],
          "scatterternary": [
           {
            "marker": {
             "colorbar": {
              "outlinewidth": 0,
              "ticks": ""
             }
            },
            "type": "scatterternary"
           }
          ],
          "surface": [
           {
            "colorbar": {
             "outlinewidth": 0,
             "ticks": ""
            },
            "colorscale": [
             [
              0,
              "#0d0887"
             ],
             [
              0.1111111111111111,
              "#46039f"
             ],
             [
              0.2222222222222222,
              "#7201a8"
             ],
             [
              0.3333333333333333,
              "#9c179e"
             ],
             [
              0.4444444444444444,
              "#bd3786"
             ],
             [
              0.5555555555555556,
              "#d8576b"
             ],
             [
              0.6666666666666666,
              "#ed7953"
             ],
             [
              0.7777777777777778,
              "#fb9f3a"
             ],
             [
              0.8888888888888888,
              "#fdca26"
             ],
             [
              1,
              "#f0f921"
             ]
            ],
            "type": "surface"
           }
          ],
          "table": [
           {
            "cells": {
             "fill": {
              "color": "#EBF0F8"
             },
             "line": {
              "color": "white"
             }
            },
            "header": {
             "fill": {
              "color": "#C8D4E3"
             },
             "line": {
              "color": "white"
             }
            },
            "type": "table"
           }
          ]
         },
         "layout": {
          "annotationdefaults": {
           "arrowcolor": "#2a3f5f",
           "arrowhead": 0,
           "arrowwidth": 1
          },
          "autotypenumbers": "strict",
          "coloraxis": {
           "colorbar": {
            "outlinewidth": 0,
            "ticks": ""
           }
          },
          "colorscale": {
           "diverging": [
            [
             0,
             "#8e0152"
            ],
            [
             0.1,
             "#c51b7d"
            ],
            [
             0.2,
             "#de77ae"
            ],
            [
             0.3,
             "#f1b6da"
            ],
            [
             0.4,
             "#fde0ef"
            ],
            [
             0.5,
             "#f7f7f7"
            ],
            [
             0.6,
             "#e6f5d0"
            ],
            [
             0.7,
             "#b8e186"
            ],
            [
             0.8,
             "#7fbc41"
            ],
            [
             0.9,
             "#4d9221"
            ],
            [
             1,
             "#276419"
            ]
           ],
           "sequential": [
            [
             0,
             "#0d0887"
            ],
            [
             0.1111111111111111,
             "#46039f"
            ],
            [
             0.2222222222222222,
             "#7201a8"
            ],
            [
             0.3333333333333333,
             "#9c179e"
            ],
            [
             0.4444444444444444,
             "#bd3786"
            ],
            [
             0.5555555555555556,
             "#d8576b"
            ],
            [
             0.6666666666666666,
             "#ed7953"
            ],
            [
             0.7777777777777778,
             "#fb9f3a"
            ],
            [
             0.8888888888888888,
             "#fdca26"
            ],
            [
             1,
             "#f0f921"
            ]
           ],
           "sequentialminus": [
            [
             0,
             "#0d0887"
            ],
            [
             0.1111111111111111,
             "#46039f"
            ],
            [
             0.2222222222222222,
             "#7201a8"
            ],
            [
             0.3333333333333333,
             "#9c179e"
            ],
            [
             0.4444444444444444,
             "#bd3786"
            ],
            [
             0.5555555555555556,
             "#d8576b"
            ],
            [
             0.6666666666666666,
             "#ed7953"
            ],
            [
             0.7777777777777778,
             "#fb9f3a"
            ],
            [
             0.8888888888888888,
             "#fdca26"
            ],
            [
             1,
             "#f0f921"
            ]
           ]
          },
          "colorway": [
           "#636efa",
           "#EF553B",
           "#00cc96",
           "#ab63fa",
           "#FFA15A",
           "#19d3f3",
           "#FF6692",
           "#B6E880",
           "#FF97FF",
           "#FECB52"
          ],
          "font": {
           "color": "#2a3f5f"
          },
          "geo": {
           "bgcolor": "white",
           "lakecolor": "white",
           "landcolor": "white",
           "showlakes": true,
           "showland": true,
           "subunitcolor": "#C8D4E3"
          },
          "hoverlabel": {
           "align": "left"
          },
          "hovermode": "closest",
          "mapbox": {
           "style": "light"
          },
          "paper_bgcolor": "white",
          "plot_bgcolor": "white",
          "polar": {
           "angularaxis": {
            "gridcolor": "#EBF0F8",
            "linecolor": "#EBF0F8",
            "ticks": ""
           },
           "bgcolor": "white",
           "radialaxis": {
            "gridcolor": "#EBF0F8",
            "linecolor": "#EBF0F8",
            "ticks": ""
           }
          },
          "scene": {
           "xaxis": {
            "backgroundcolor": "white",
            "gridcolor": "#DFE8F3",
            "gridwidth": 2,
            "linecolor": "#EBF0F8",
            "showbackground": true,
            "ticks": "",
            "zerolinecolor": "#EBF0F8"
           },
           "yaxis": {
            "backgroundcolor": "white",
            "gridcolor": "#DFE8F3",
            "gridwidth": 2,
            "linecolor": "#EBF0F8",
            "showbackground": true,
            "ticks": "",
            "zerolinecolor": "#EBF0F8"
           },
           "zaxis": {
            "backgroundcolor": "white",
            "gridcolor": "#DFE8F3",
            "gridwidth": 2,
            "linecolor": "#EBF0F8",
            "showbackground": true,
            "ticks": "",
            "zerolinecolor": "#EBF0F8"
           }
          },
          "shapedefaults": {
           "line": {
            "color": "#2a3f5f"
           }
          },
          "ternary": {
           "aaxis": {
            "gridcolor": "#DFE8F3",
            "linecolor": "#A2B1C6",
            "ticks": ""
           },
           "baxis": {
            "gridcolor": "#DFE8F3",
            "linecolor": "#A2B1C6",
            "ticks": ""
           },
           "bgcolor": "white",
           "caxis": {
            "gridcolor": "#DFE8F3",
            "linecolor": "#A2B1C6",
            "ticks": ""
           }
          },
          "title": {
           "x": 0.05
          },
          "xaxis": {
           "automargin": true,
           "gridcolor": "#EBF0F8",
           "linecolor": "#EBF0F8",
           "ticks": "",
           "title": {
            "standoff": 15
           },
           "zerolinecolor": "#EBF0F8",
           "zerolinewidth": 2
          },
          "yaxis": {
           "automargin": true,
           "gridcolor": "#EBF0F8",
           "linecolor": "#EBF0F8",
           "ticks": "",
           "title": {
            "standoff": 15
           },
           "zerolinecolor": "#EBF0F8",
           "zerolinewidth": 2
          }
         }
        },
        "title": {
         "text": "IT Only Features with Low Relative Projection (<0.3) in above 50 buckets"
        },
        "width": 1000,
        "xaxis": {
         "title": {
          "text": "Activation Buckets"
         }
        },
        "yaxis": {
         "title": {
          "text": "Relative Projection"
         }
        }
       }
      },
      "text/html": [
       "<div>                            <div id=\"9d693f59-e82c-4d8f-8d03-c03e86011b40\" class=\"plotly-graph-div\" style=\"height:500px; width:1000px;\"></div>            <script type=\"text/javascript\">                require([\"plotly\"], function(Plotly) {                    window.PLOTLYENV=window.PLOTLYENV || {};                                    if (document.getElementById(\"9d693f59-e82c-4d8f-8d03-c03e86011b40\")) {                    Plotly.newPlot(                        \"9d693f59-e82c-4d8f-8d03-c03e86011b40\",                        [{\"mode\":\"lines\",\"name\":\"Feature 5406\",\"opacity\":0.5,\"x\":[\"00%-10%\",\"10%-20%\",\"20%-30%\",\"30%-40%\",\"40%-50%\",\"50%-60%\",\"60%-70%\",\"70%-80%\",\"80%-90%\",\"90%-100%\"],\"y\":[0.96299446,0.39378747,0.3521399,0.31398523,0.30454084,0.26728183,0.21427822,0.20687158,0.18483172,null],\"type\":\"scatter\"},{\"mode\":\"lines\",\"name\":\"Feature 11412\",\"opacity\":0.5,\"x\":[\"00%-10%\",\"10%-20%\",\"20%-30%\",\"30%-40%\",\"40%-50%\",\"50%-60%\",\"60%-70%\",\"70%-80%\",\"80%-90%\",\"90%-100%\"],\"y\":[0.9888268,0.24056312,0.23634054,0.22351056,0.22176223,0.21676007,0.20346831,0.20747232,null,null],\"type\":\"scatter\"},{\"mode\":\"lines\",\"name\":\"Feature 15338\",\"opacity\":0.5,\"x\":[\"00%-10%\",\"10%-20%\",\"20%-30%\",\"30%-40%\",\"40%-50%\",\"50%-60%\",\"60%-70%\",\"70%-80%\",\"80%-90%\",\"90%-100%\"],\"y\":[1.0016962,0.4819926,0.37488922,0.4332707,0.20595177,0.2229666,0.14369461,0.29007953,0.5739211,null],\"type\":\"scatter\"},{\"mode\":\"lines\",\"name\":\"Feature 16143\",\"opacity\":0.5,\"x\":[\"00%-10%\",\"10%-20%\",\"20%-30%\",\"30%-40%\",\"40%-50%\",\"50%-60%\",\"60%-70%\",\"70%-80%\",\"80%-90%\",\"90%-100%\"],\"y\":[0.9446836,0.52451515,0.45060638,0.44617593,0.38826507,0.3344888,0.28429085,0.37617126,0.2770288,0.25556988],\"type\":\"scatter\"},{\"mode\":\"lines\",\"name\":\"Feature 21760\",\"opacity\":0.5,\"x\":[\"00%-10%\",\"10%-20%\",\"20%-30%\",\"30%-40%\",\"40%-50%\",\"50%-60%\",\"60%-70%\",\"70%-80%\",\"80%-90%\",\"90%-100%\"],\"y\":[0.9424858,0.4246079,0.42695236,0.3065761,0.28233346,0.18982463,0.19044775,0.24796078,0.17757161,null],\"type\":\"scatter\"},{\"mode\":\"lines\",\"name\":\"Feature 28876\",\"opacity\":0.5,\"x\":[\"00%-10%\",\"10%-20%\",\"20%-30%\",\"30%-40%\",\"40%-50%\",\"50%-60%\",\"60%-70%\",\"70%-80%\",\"80%-90%\",\"90%-100%\"],\"y\":[0.8758832,0.48972827,0.39718282,0.35242417,0.30207855,0.23296495,0.22308622,0.2926001,0.214715,null],\"type\":\"scatter\"},{\"mode\":\"lines\",\"name\":\"Feature 38337\",\"opacity\":0.5,\"x\":[\"00%-10%\",\"10%-20%\",\"20%-30%\",\"30%-40%\",\"40%-50%\",\"50%-60%\",\"60%-70%\",\"70%-80%\",\"80%-90%\",\"90%-100%\"],\"y\":[0.97128105,0.29777718,0.299083,0.27357376,0.2541659,0.26361182,0.2662628,0.25781706,0.23662144,null],\"type\":\"scatter\"},{\"mode\":\"lines\",\"name\":\"Feature 38853\",\"opacity\":0.5,\"x\":[\"00%-10%\",\"10%-20%\",\"20%-30%\",\"30%-40%\",\"40%-50%\",\"50%-60%\",\"60%-70%\",\"70%-80%\",\"80%-90%\",\"90%-100%\"],\"y\":[0.9337021,0.5242936,0.52148676,0.42867327,0.3319851,0.3256376,0.35346913,0.22994637,null,null],\"type\":\"scatter\"},{\"mode\":\"lines\",\"name\":\"Feature 44461\",\"opacity\":0.5,\"x\":[\"00%-10%\",\"10%-20%\",\"20%-30%\",\"30%-40%\",\"40%-50%\",\"50%-60%\",\"60%-70%\",\"70%-80%\",\"80%-90%\",\"90%-100%\"],\"y\":[1.0602118,0.5121105,0.46338752,0.44949204,0.38634202,0.32282913,0.33321375,0.3137393,0.38096341,null],\"type\":\"scatter\"},{\"mode\":\"lines\",\"name\":\"Feature 47053\",\"opacity\":0.5,\"x\":[\"00%-10%\",\"10%-20%\",\"20%-30%\",\"30%-40%\",\"40%-50%\",\"50%-60%\",\"60%-70%\",\"70%-80%\",\"80%-90%\",\"90%-100%\"],\"y\":[1.0527256,0.4693309,0.38823736,0.34427917,0.30439386,0.34487513,0.25110742,0.23602931,null,null],\"type\":\"scatter\"},{\"mode\":\"lines\",\"name\":\"Feature 48755\",\"opacity\":0.5,\"x\":[\"00%-10%\",\"10%-20%\",\"20%-30%\",\"30%-40%\",\"40%-50%\",\"50%-60%\",\"60%-70%\",\"70%-80%\",\"80%-90%\",\"90%-100%\"],\"y\":[1.0065105,0.10150138,0.12816313,0.14395493,0.065951094,0.16683182,0.065638654,0.071625926,0.09340269,0.07508114],\"type\":\"scatter\"},{\"mode\":\"lines\",\"name\":\"Feature 51823\",\"opacity\":0.5,\"x\":[\"00%-10%\",\"10%-20%\",\"20%-30%\",\"30%-40%\",\"40%-50%\",\"50%-60%\",\"60%-70%\",\"70%-80%\",\"80%-90%\",\"90%-100%\"],\"y\":[0.9562959,0.31513983,0.25119343,0.26763573,0.23644377,0.25903228,0.18802126,0.19803324,0.19358175,null],\"type\":\"scatter\"},{\"mode\":\"lines\",\"name\":\"Feature 53547\",\"opacity\":0.5,\"x\":[\"00%-10%\",\"10%-20%\",\"20%-30%\",\"30%-40%\",\"40%-50%\",\"50%-60%\",\"60%-70%\",\"70%-80%\",\"80%-90%\",\"90%-100%\"],\"y\":[0.9321263,0.48133507,0.45303002,0.4328905,0.29805914,0.2854492,0.38760415,0.22936535,null,0.33100557],\"type\":\"scatter\"},{\"mode\":\"lines\",\"name\":\"Feature 53904\",\"opacity\":0.5,\"x\":[\"00%-10%\",\"10%-20%\",\"20%-30%\",\"30%-40%\",\"40%-50%\",\"50%-60%\",\"60%-70%\",\"70%-80%\",\"80%-90%\",\"90%-100%\"],\"y\":[0.3654804,0.36404887,0.3344704,0.31918234,0.2992803,0.274489,0.36466667,0.35121268,0.25259456,0.30864212],\"type\":\"scatter\"},{\"mode\":\"lines\",\"name\":\"Feature 55432\",\"opacity\":0.5,\"x\":[\"00%-10%\",\"10%-20%\",\"20%-30%\",\"30%-40%\",\"40%-50%\",\"50%-60%\",\"60%-70%\",\"70%-80%\",\"80%-90%\",\"90%-100%\"],\"y\":[0.9491725,0.3209382,0.26978108,0.26668116,0.23403907,0.22898442,0.24228734,0.2289431,null,null],\"type\":\"scatter\"},{\"mode\":\"lines\",\"name\":\"Feature 57717\",\"opacity\":0.5,\"x\":[\"00%-10%\",\"10%-20%\",\"20%-30%\",\"30%-40%\",\"40%-50%\",\"50%-60%\",\"60%-70%\",\"70%-80%\",\"80%-90%\",\"90%-100%\"],\"y\":[0.95849675,0.26860285,0.23968126,0.22647281,0.21722017,0.2266171,0.22944148,0.17654943,null,null],\"type\":\"scatter\"},{\"mode\":\"lines\",\"name\":\"Feature 59988\",\"opacity\":0.5,\"x\":[\"00%-10%\",\"10%-20%\",\"20%-30%\",\"30%-40%\",\"40%-50%\",\"50%-60%\",\"60%-70%\",\"70%-80%\",\"80%-90%\",\"90%-100%\"],\"y\":[0.98068905,0.36001673,0.37262455,0.34939483,0.2800876,0.33750403,0.18239155,0.22015303,0.26725104,0.16809978],\"type\":\"scatter\"},{\"mode\":\"lines\",\"name\":\"Feature 68066\",\"opacity\":0.5,\"x\":[\"00%-10%\",\"10%-20%\",\"20%-30%\",\"30%-40%\",\"40%-50%\",\"50%-60%\",\"60%-70%\",\"70%-80%\",\"80%-90%\",\"90%-100%\"],\"y\":[1.0328149,0.3597168,0.27710077,0.2835677,0.23900706,0.21777144,0.21203557,0.1411377,null,0.17614911],\"type\":\"scatter\"},{\"mode\":\"lines\",\"name\":\"Feature 68510\",\"opacity\":0.5,\"x\":[\"00%-10%\",\"10%-20%\",\"20%-30%\",\"30%-40%\",\"40%-50%\",\"50%-60%\",\"60%-70%\",\"70%-80%\",\"80%-90%\",\"90%-100%\"],\"y\":[0.6977538,0.3926757,0.3540101,0.3122335,0.35360864,0.24993564,0.21544327,0.23271653,0.11297809,null],\"type\":\"scatter\"},{\"mode\":\"lines\",\"name\":\"Feature 69810\",\"opacity\":0.5,\"x\":[\"00%-10%\",\"10%-20%\",\"20%-30%\",\"30%-40%\",\"40%-50%\",\"50%-60%\",\"60%-70%\",\"70%-80%\",\"80%-90%\",\"90%-100%\"],\"y\":[0.9631808,0.3684978,0.278154,0.2734553,0.21411252,0.22379194,0.21064353,0.1945492,0.17403805,0.16672261],\"type\":\"scatter\"},{\"mode\":\"lines\",\"name\":\"Feature 72073\",\"opacity\":0.5,\"x\":[\"00%-10%\",\"10%-20%\",\"20%-30%\",\"30%-40%\",\"40%-50%\",\"50%-60%\",\"60%-70%\",\"70%-80%\",\"80%-90%\",\"90%-100%\"],\"y\":[1.0050603,0.34669062,0.31623843,0.28638798,0.3012781,0.26812917,0.24833639,0.25553823,0.2717113,null],\"type\":\"scatter\"},{\"mode\":\"lines\",\"name\":\"Feature 73286\",\"opacity\":0.5,\"x\":[\"00%-10%\",\"10%-20%\",\"20%-30%\",\"30%-40%\",\"40%-50%\",\"50%-60%\",\"60%-70%\",\"70%-80%\",\"80%-90%\",\"90%-100%\"],\"y\":[0.9316845,0.13611788,0.244514,0.2194572,0.20166574,0.20420335,0.1875682,0.20781133,0.25985917,0.34888688],\"type\":\"scatter\"}],                        {\"template\":{\"data\":{\"barpolar\":[{\"marker\":{\"line\":{\"color\":\"white\",\"width\":0.5},\"pattern\":{\"fillmode\":\"overlay\",\"size\":10,\"solidity\":0.2}},\"type\":\"barpolar\"}],\"bar\":[{\"error_x\":{\"color\":\"#2a3f5f\"},\"error_y\":{\"color\":\"#2a3f5f\"},\"marker\":{\"line\":{\"color\":\"white\",\"width\":0.5},\"pattern\":{\"fillmode\":\"overlay\",\"size\":10,\"solidity\":0.2}},\"type\":\"bar\"}],\"carpet\":[{\"aaxis\":{\"endlinecolor\":\"#2a3f5f\",\"gridcolor\":\"#C8D4E3\",\"linecolor\":\"#C8D4E3\",\"minorgridcolor\":\"#C8D4E3\",\"startlinecolor\":\"#2a3f5f\"},\"baxis\":{\"endlinecolor\":\"#2a3f5f\",\"gridcolor\":\"#C8D4E3\",\"linecolor\":\"#C8D4E3\",\"minorgridcolor\":\"#C8D4E3\",\"startlinecolor\":\"#2a3f5f\"},\"type\":\"carpet\"}],\"choropleth\":[{\"colorbar\":{\"outlinewidth\":0,\"ticks\":\"\"},\"type\":\"choropleth\"}],\"contourcarpet\":[{\"colorbar\":{\"outlinewidth\":0,\"ticks\":\"\"},\"type\":\"contourcarpet\"}],\"contour\":[{\"colorbar\":{\"outlinewidth\":0,\"ticks\":\"\"},\"colorscale\":[[0.0,\"#0d0887\"],[0.1111111111111111,\"#46039f\"],[0.2222222222222222,\"#7201a8\"],[0.3333333333333333,\"#9c179e\"],[0.4444444444444444,\"#bd3786\"],[0.5555555555555556,\"#d8576b\"],[0.6666666666666666,\"#ed7953\"],[0.7777777777777778,\"#fb9f3a\"],[0.8888888888888888,\"#fdca26\"],[1.0,\"#f0f921\"]],\"type\":\"contour\"}],\"heatmapgl\":[{\"colorbar\":{\"outlinewidth\":0,\"ticks\":\"\"},\"colorscale\":[[0.0,\"#0d0887\"],[0.1111111111111111,\"#46039f\"],[0.2222222222222222,\"#7201a8\"],[0.3333333333333333,\"#9c179e\"],[0.4444444444444444,\"#bd3786\"],[0.5555555555555556,\"#d8576b\"],[0.6666666666666666,\"#ed7953\"],[0.7777777777777778,\"#fb9f3a\"],[0.8888888888888888,\"#fdca26\"],[1.0,\"#f0f921\"]],\"type\":\"heatmapgl\"}],\"heatmap\":[{\"colorbar\":{\"outlinewidth\":0,\"ticks\":\"\"},\"colorscale\":[[0.0,\"#0d0887\"],[0.1111111111111111,\"#46039f\"],[0.2222222222222222,\"#7201a8\"],[0.3333333333333333,\"#9c179e\"],[0.4444444444444444,\"#bd3786\"],[0.5555555555555556,\"#d8576b\"],[0.6666666666666666,\"#ed7953\"],[0.7777777777777778,\"#fb9f3a\"],[0.8888888888888888,\"#fdca26\"],[1.0,\"#f0f921\"]],\"type\":\"heatmap\"}],\"histogram2dcontour\":[{\"colorbar\":{\"outlinewidth\":0,\"ticks\":\"\"},\"colorscale\":[[0.0,\"#0d0887\"],[0.1111111111111111,\"#46039f\"],[0.2222222222222222,\"#7201a8\"],[0.3333333333333333,\"#9c179e\"],[0.4444444444444444,\"#bd3786\"],[0.5555555555555556,\"#d8576b\"],[0.6666666666666666,\"#ed7953\"],[0.7777777777777778,\"#fb9f3a\"],[0.8888888888888888,\"#fdca26\"],[1.0,\"#f0f921\"]],\"type\":\"histogram2dcontour\"}],\"histogram2d\":[{\"colorbar\":{\"outlinewidth\":0,\"ticks\":\"\"},\"colorscale\":[[0.0,\"#0d0887\"],[0.1111111111111111,\"#46039f\"],[0.2222222222222222,\"#7201a8\"],[0.3333333333333333,\"#9c179e\"],[0.4444444444444444,\"#bd3786\"],[0.5555555555555556,\"#d8576b\"],[0.6666666666666666,\"#ed7953\"],[0.7777777777777778,\"#fb9f3a\"],[0.8888888888888888,\"#fdca26\"],[1.0,\"#f0f921\"]],\"type\":\"histogram2d\"}],\"histogram\":[{\"marker\":{\"pattern\":{\"fillmode\":\"overlay\",\"size\":10,\"solidity\":0.2}},\"type\":\"histogram\"}],\"mesh3d\":[{\"colorbar\":{\"outlinewidth\":0,\"ticks\":\"\"},\"type\":\"mesh3d\"}],\"parcoords\":[{\"line\":{\"colorbar\":{\"outlinewidth\":0,\"ticks\":\"\"}},\"type\":\"parcoords\"}],\"pie\":[{\"automargin\":true,\"type\":\"pie\"}],\"scatter3d\":[{\"line\":{\"colorbar\":{\"outlinewidth\":0,\"ticks\":\"\"}},\"marker\":{\"colorbar\":{\"outlinewidth\":0,\"ticks\":\"\"}},\"type\":\"scatter3d\"}],\"scattercarpet\":[{\"marker\":{\"colorbar\":{\"outlinewidth\":0,\"ticks\":\"\"}},\"type\":\"scattercarpet\"}],\"scattergeo\":[{\"marker\":{\"colorbar\":{\"outlinewidth\":0,\"ticks\":\"\"}},\"type\":\"scattergeo\"}],\"scattergl\":[{\"marker\":{\"colorbar\":{\"outlinewidth\":0,\"ticks\":\"\"}},\"type\":\"scattergl\"}],\"scattermapbox\":[{\"marker\":{\"colorbar\":{\"outlinewidth\":0,\"ticks\":\"\"}},\"type\":\"scattermapbox\"}],\"scatterpolargl\":[{\"marker\":{\"colorbar\":{\"outlinewidth\":0,\"ticks\":\"\"}},\"type\":\"scatterpolargl\"}],\"scatterpolar\":[{\"marker\":{\"colorbar\":{\"outlinewidth\":0,\"ticks\":\"\"}},\"type\":\"scatterpolar\"}],\"scatter\":[{\"fillpattern\":{\"fillmode\":\"overlay\",\"size\":10,\"solidity\":0.2},\"type\":\"scatter\"}],\"scatterternary\":[{\"marker\":{\"colorbar\":{\"outlinewidth\":0,\"ticks\":\"\"}},\"type\":\"scatterternary\"}],\"surface\":[{\"colorbar\":{\"outlinewidth\":0,\"ticks\":\"\"},\"colorscale\":[[0.0,\"#0d0887\"],[0.1111111111111111,\"#46039f\"],[0.2222222222222222,\"#7201a8\"],[0.3333333333333333,\"#9c179e\"],[0.4444444444444444,\"#bd3786\"],[0.5555555555555556,\"#d8576b\"],[0.6666666666666666,\"#ed7953\"],[0.7777777777777778,\"#fb9f3a\"],[0.8888888888888888,\"#fdca26\"],[1.0,\"#f0f921\"]],\"type\":\"surface\"}],\"table\":[{\"cells\":{\"fill\":{\"color\":\"#EBF0F8\"},\"line\":{\"color\":\"white\"}},\"header\":{\"fill\":{\"color\":\"#C8D4E3\"},\"line\":{\"color\":\"white\"}},\"type\":\"table\"}]},\"layout\":{\"annotationdefaults\":{\"arrowcolor\":\"#2a3f5f\",\"arrowhead\":0,\"arrowwidth\":1},\"autotypenumbers\":\"strict\",\"coloraxis\":{\"colorbar\":{\"outlinewidth\":0,\"ticks\":\"\"}},\"colorscale\":{\"diverging\":[[0,\"#8e0152\"],[0.1,\"#c51b7d\"],[0.2,\"#de77ae\"],[0.3,\"#f1b6da\"],[0.4,\"#fde0ef\"],[0.5,\"#f7f7f7\"],[0.6,\"#e6f5d0\"],[0.7,\"#b8e186\"],[0.8,\"#7fbc41\"],[0.9,\"#4d9221\"],[1,\"#276419\"]],\"sequential\":[[0.0,\"#0d0887\"],[0.1111111111111111,\"#46039f\"],[0.2222222222222222,\"#7201a8\"],[0.3333333333333333,\"#9c179e\"],[0.4444444444444444,\"#bd3786\"],[0.5555555555555556,\"#d8576b\"],[0.6666666666666666,\"#ed7953\"],[0.7777777777777778,\"#fb9f3a\"],[0.8888888888888888,\"#fdca26\"],[1.0,\"#f0f921\"]],\"sequentialminus\":[[0.0,\"#0d0887\"],[0.1111111111111111,\"#46039f\"],[0.2222222222222222,\"#7201a8\"],[0.3333333333333333,\"#9c179e\"],[0.4444444444444444,\"#bd3786\"],[0.5555555555555556,\"#d8576b\"],[0.6666666666666666,\"#ed7953\"],[0.7777777777777778,\"#fb9f3a\"],[0.8888888888888888,\"#fdca26\"],[1.0,\"#f0f921\"]]},\"colorway\":[\"#636efa\",\"#EF553B\",\"#00cc96\",\"#ab63fa\",\"#FFA15A\",\"#19d3f3\",\"#FF6692\",\"#B6E880\",\"#FF97FF\",\"#FECB52\"],\"font\":{\"color\":\"#2a3f5f\"},\"geo\":{\"bgcolor\":\"white\",\"lakecolor\":\"white\",\"landcolor\":\"white\",\"showlakes\":true,\"showland\":true,\"subunitcolor\":\"#C8D4E3\"},\"hoverlabel\":{\"align\":\"left\"},\"hovermode\":\"closest\",\"mapbox\":{\"style\":\"light\"},\"paper_bgcolor\":\"white\",\"plot_bgcolor\":\"white\",\"polar\":{\"angularaxis\":{\"gridcolor\":\"#EBF0F8\",\"linecolor\":\"#EBF0F8\",\"ticks\":\"\"},\"bgcolor\":\"white\",\"radialaxis\":{\"gridcolor\":\"#EBF0F8\",\"linecolor\":\"#EBF0F8\",\"ticks\":\"\"}},\"scene\":{\"xaxis\":{\"backgroundcolor\":\"white\",\"gridcolor\":\"#DFE8F3\",\"gridwidth\":2,\"linecolor\":\"#EBF0F8\",\"showbackground\":true,\"ticks\":\"\",\"zerolinecolor\":\"#EBF0F8\"},\"yaxis\":{\"backgroundcolor\":\"white\",\"gridcolor\":\"#DFE8F3\",\"gridwidth\":2,\"linecolor\":\"#EBF0F8\",\"showbackground\":true,\"ticks\":\"\",\"zerolinecolor\":\"#EBF0F8\"},\"zaxis\":{\"backgroundcolor\":\"white\",\"gridcolor\":\"#DFE8F3\",\"gridwidth\":2,\"linecolor\":\"#EBF0F8\",\"showbackground\":true,\"ticks\":\"\",\"zerolinecolor\":\"#EBF0F8\"}},\"shapedefaults\":{\"line\":{\"color\":\"#2a3f5f\"}},\"ternary\":{\"aaxis\":{\"gridcolor\":\"#DFE8F3\",\"linecolor\":\"#A2B1C6\",\"ticks\":\"\"},\"baxis\":{\"gridcolor\":\"#DFE8F3\",\"linecolor\":\"#A2B1C6\",\"ticks\":\"\"},\"bgcolor\":\"white\",\"caxis\":{\"gridcolor\":\"#DFE8F3\",\"linecolor\":\"#A2B1C6\",\"ticks\":\"\"}},\"title\":{\"x\":0.05},\"xaxis\":{\"automargin\":true,\"gridcolor\":\"#EBF0F8\",\"linecolor\":\"#EBF0F8\",\"ticks\":\"\",\"title\":{\"standoff\":15},\"zerolinecolor\":\"#EBF0F8\",\"zerolinewidth\":2},\"yaxis\":{\"automargin\":true,\"gridcolor\":\"#EBF0F8\",\"linecolor\":\"#EBF0F8\",\"ticks\":\"\",\"title\":{\"standoff\":15},\"zerolinecolor\":\"#EBF0F8\",\"zerolinewidth\":2}}},\"legend\":{\"yanchor\":\"top\",\"y\":0.99,\"xanchor\":\"right\",\"x\":1.15},\"title\":{\"text\":\"IT Only Features with Low Relative Projection (\\u003c0.3) in above 50 buckets\"},\"xaxis\":{\"title\":{\"text\":\"Activation Buckets\"}},\"yaxis\":{\"title\":{\"text\":\"Relative Projection\"}},\"width\":1000,\"height\":500,\"showlegend\":true},                        {\"responsive\": true}                    ).then(function(){\n",
       "                            \n",
       "var gd = document.getElementById('9d693f59-e82c-4d8f-8d03-c03e86011b40');\n",
       "var x = new MutationObserver(function (mutations, observer) {{\n",
       "        var display = window.getComputedStyle(gd).display;\n",
       "        if (!display || display === 'none') {{\n",
       "            console.log([gd, 'removed!']);\n",
       "            Plotly.purge(gd);\n",
       "            observer.disconnect();\n",
       "        }}\n",
       "}});\n",
       "\n",
       "// Listen for the removal of the full notebook cells\n",
       "var notebookContainer = gd.closest('#notebook-container');\n",
       "if (notebookContainer) {{\n",
       "    x.observe(notebookContainer, {childList: true});\n",
       "}}\n",
       "\n",
       "// Listen for the clearing of the current output cell\n",
       "var outputEl = gd.closest('.output');\n",
       "if (outputEl) {{\n",
       "    x.observe(outputEl, {childList: true});\n",
       "}}\n",
       "\n",
       "                        })                };                });            </script>        </div>"
      ]
     },
     "metadata": {},
     "output_type": "display_data"
    }
   ],
   "source": [
    "last_k = 6\n",
    "cut_off_k = 2\n",
    "it_only_focus = stage1_it_only_indices\n",
    "# Get relative projections for IT only features in the last bucket\n",
    "last_bucket_projections = relproj_data[it_only_focus, -last_k:-cut_off_k]\n",
    "\n",
    "# Find indices of features with high relative projection in last bucket\n",
    "low_proj_indices = it_only_focus[(last_bucket_projections < 0.4).sum(axis=1) > last_k-1-cut_off_k]\n",
    "\n",
    "print(f\"Found {len(low_proj_indices)} IT only features with low (<0.1) relative projection in last bucket\")\n",
    "print(\"\\nFeature indices:\", low_proj_indices)\n",
    "\n",
    "# Create figure\n",
    "fig = go.Figure()\n",
    "\n",
    "# Plot each feature\n",
    "for idx in low_proj_indices:\n",
    "    feature_data = relproj_data[idx]\n",
    "    fig.add_trace(go.Scatter(\n",
    "        x=[f\"{i}0%-{i+1}0%\" for i in range(0, 10)],\n",
    "        y=feature_data,\n",
    "        mode='lines',\n",
    "        name=f'Feature {idx}',\n",
    "        opacity=0.5\n",
    "    ))\n",
    "\n",
    "# Update layout\n",
    "fig.update_layout(\n",
    "    title='IT Only Features with Low Relative Projection (<0.3) in above 50 buckets',\n",
    "    xaxis_title='Activation Buckets',\n",
    "    yaxis_title='Relative Projection',\n",
    "    template='plotly_white',\n",
    "    width=1000,\n",
    "    height=500,\n",
    "    showlegend=True,\n",
    "    legend=dict(\n",
    "        yanchor=\"top\",\n",
    "        y=0.99,\n",
    "        xanchor=\"right\", \n",
    "        x=1.15\n",
    "    )\n",
    ")\n",
    "fig.write_image(f\"../plots/relative_projections_low_{last_k}_{cut_off_k}.png\")\n",
    "fig.show()"
   ]
  },
  {
   "cell_type": "code",
   "execution_count": 160,
   "metadata": {},
   "outputs": [
    {
     "data": {
      "text/plain": [
       "array([1.2796475 , 0.11722401, 0.09947231, 0.06115308, 0.14043003,\n",
       "       0.43543127, 0.32641426, 0.15138058, 0.23093335, 0.55728865],\n",
       "      dtype=float32)"
      ]
     },
     "execution_count": 160,
     "metadata": {},
     "output_type": "execute_result"
    }
   ],
   "source": [
    "relproj_data[26281]"
   ]
  },
  {
   "cell_type": "code",
   "execution_count": null,
   "metadata": {},
   "outputs": [],
   "source": [
    "last_k = 6\n",
    "cut_off_k = 2\n",
    "it_only_focus = stage1_it_only_indices\n",
    "# Get relative projections for IT only features in the last bucket\n",
    "last_bucket_projections = relproj_data[it_only_focus, -last_k:-cut_off_k]\n",
    "\n",
    "# Find indices of features with high relative projection in last bucket\n",
    "low_proj_indices = it_only_focus[(last_bucket_projections < 0.3).sum(axis=1) > last_k-1-cut_off_k]\n",
    "\n",
    "print(f\"Found {len(low_proj_indices)} IT only features with low (<0.1) relative projection in last bucket\")\n",
    "print(\"\\nFeature indices:\", low_proj_indices)\n",
    "\n",
    "# Create figure\n",
    "fig = go.Figure()\n",
    "\n",
    "# Plot each feature\n",
    "for idx in low_proj_indices:\n",
    "    feature_data = relproj_data[idx]\n",
    "    fig.add_trace(go.Scatter(\n",
    "        x=[f\"{i}0%-{i+1}0%\" for i in range(0, 10)],\n",
    "        y=feature_data,\n",
    "        mode='lines',\n",
    "        name=f'Feature {idx}',\n",
    "        opacity=0.5\n",
    "    ))\n",
    "\n",
    "# Update layout\n",
    "fig.update_layout(\n",
    "    title='IT Only Features with Low Relative Projection (<0.1) in above 50 buckets',\n",
    "    xaxis_title='Activation Buckets',\n",
    "    yaxis_title='Relative Projection',\n",
    "    template='plotly_white',\n",
    "    width=1000,\n",
    "    height=500,\n",
    "    showlegend=True,\n",
    "    legend=dict(\n",
    "        yanchor=\"top\",\n",
    "        y=0.99,\n",
    "        xanchor=\"right\", \n",
    "        x=1.15\n",
    "    )\n",
    ")\n",
    "fig.write_image(f\"../plots/relative_projections_low_{last_k}_{cut_off_k}.png\")\n",
    "fig.show()"
   ]
  },
  {
   "cell_type": "code",
   "execution_count": 152,
   "metadata": {},
   "outputs": [
    {
     "name": "stdout",
     "output_type": "stream",
     "text": [
      "Found 9 IT only features with high (>0.8) relative projection in last bucket\n",
      "\n",
      "Feature indices: Index([9472, 13865, 16908, 18104, 36954, 42157, 42351, 43261, 70657], dtype='int64')\n"
     ]
    },
    {
     "data": {
      "application/vnd.plotly.v1+json": {
       "config": {
        "plotlyServerURL": "https://plot.ly"
       },
       "data": [
        {
         "mode": "lines",
         "name": "Feature 9472",
         "opacity": 0.5,
         "type": "scatter",
         "x": [
          "00%-10%",
          "10%-20%",
          "20%-30%",
          "30%-40%",
          "40%-50%",
          "50%-60%",
          "60%-70%",
          "70%-80%",
          "80%-90%",
          "90%-100%"
         ],
         "y": [
          1.0189629,
          0.6808601,
          0.6808041,
          0.66500354,
          0.66756356,
          0.6257485,
          0.62411046,
          0.6070974,
          0.48153895,
          0.4620082
         ]
        },
        {
         "mode": "lines",
         "name": "Feature 13865",
         "opacity": 0.5,
         "type": "scatter",
         "x": [
          "00%-10%",
          "10%-20%",
          "20%-30%",
          "30%-40%",
          "40%-50%",
          "50%-60%",
          "60%-70%",
          "70%-80%",
          "80%-90%",
          "90%-100%"
         ],
         "y": [
          0.95701706,
          0.69273835,
          0.6748433,
          0.6532891,
          0.6437141,
          0.6229794,
          0.60377717,
          0.6231334,
          0.5689623,
          0.5735404
         ]
        },
        {
         "mode": "lines",
         "name": "Feature 16908",
         "opacity": 0.5,
         "type": "scatter",
         "x": [
          "00%-10%",
          "10%-20%",
          "20%-30%",
          "30%-40%",
          "40%-50%",
          "50%-60%",
          "60%-70%",
          "70%-80%",
          "80%-90%",
          "90%-100%"
         ],
         "y": [
          0.92901516,
          0.73801506,
          0.72865266,
          0.6990001,
          0.6934024,
          0.65191287,
          0.671246,
          0.66808575,
          0.62018466,
          null
         ]
        },
        {
         "mode": "lines",
         "name": "Feature 18104",
         "opacity": 0.5,
         "type": "scatter",
         "x": [
          "00%-10%",
          "10%-20%",
          "20%-30%",
          "30%-40%",
          "40%-50%",
          "50%-60%",
          "60%-70%",
          "70%-80%",
          "80%-90%",
          "90%-100%"
         ],
         "y": [
          0.964517,
          0.7088808,
          0.65876514,
          0.64571506,
          0.6281247,
          0.6191864,
          0.70834166,
          0.63757384,
          0.57359314,
          0.7834725
         ]
        },
        {
         "mode": "lines",
         "name": "Feature 36954",
         "opacity": 0.5,
         "type": "scatter",
         "x": [
          "00%-10%",
          "10%-20%",
          "20%-30%",
          "30%-40%",
          "40%-50%",
          "50%-60%",
          "60%-70%",
          "70%-80%",
          "80%-90%",
          "90%-100%"
         ],
         "y": [
          0.8337184,
          0.72285384,
          0.7069925,
          0.6762221,
          0.6577869,
          0.62983096,
          0.626395,
          0.6313975,
          0.5750733,
          0.5935376
         ]
        },
        {
         "mode": "lines",
         "name": "Feature 42157",
         "opacity": 0.5,
         "type": "scatter",
         "x": [
          "00%-10%",
          "10%-20%",
          "20%-30%",
          "30%-40%",
          "40%-50%",
          "50%-60%",
          "60%-70%",
          "70%-80%",
          "80%-90%",
          "90%-100%"
         ],
         "y": [
          0.950495,
          0.67850703,
          0.6603388,
          0.6321951,
          0.6516629,
          0.6368583,
          0.6733303,
          0.62950397,
          0.658696,
          0.7207998
         ]
        },
        {
         "mode": "lines",
         "name": "Feature 42351",
         "opacity": 0.5,
         "type": "scatter",
         "x": [
          "00%-10%",
          "10%-20%",
          "20%-30%",
          "30%-40%",
          "40%-50%",
          "50%-60%",
          "60%-70%",
          "70%-80%",
          "80%-90%",
          "90%-100%"
         ],
         "y": [
          1.2345496,
          0.7123086,
          0.7205803,
          0.6870197,
          0.634763,
          0.6370828,
          0.6841004,
          0.6367523,
          0.58334976,
          0.558345
         ]
        },
        {
         "mode": "lines",
         "name": "Feature 43261",
         "opacity": 0.5,
         "type": "scatter",
         "x": [
          "00%-10%",
          "10%-20%",
          "20%-30%",
          "30%-40%",
          "40%-50%",
          "50%-60%",
          "60%-70%",
          "70%-80%",
          "80%-90%",
          "90%-100%"
         ],
         "y": [
          0.969583,
          0.71683,
          0.7389756,
          0.7319838,
          0.7083261,
          0.70515066,
          0.7083148,
          0.7047245,
          0.6835638,
          0.70140314
         ]
        },
        {
         "mode": "lines",
         "name": "Feature 70657",
         "opacity": 0.5,
         "type": "scatter",
         "x": [
          "00%-10%",
          "10%-20%",
          "20%-30%",
          "30%-40%",
          "40%-50%",
          "50%-60%",
          "60%-70%",
          "70%-80%",
          "80%-90%",
          "90%-100%"
         ],
         "y": [
          0.8704993,
          0.71739453,
          0.7068049,
          0.6824659,
          0.6712823,
          0.63818145,
          0.67193615,
          0.65537506,
          0.63652855,
          0.70160514
         ]
        }
       ],
       "layout": {
        "height": 500,
        "legend": {
         "x": 1.15,
         "xanchor": "right",
         "y": 0.99,
         "yanchor": "top"
        },
        "showlegend": true,
        "template": {
         "data": {
          "bar": [
           {
            "error_x": {
             "color": "#2a3f5f"
            },
            "error_y": {
             "color": "#2a3f5f"
            },
            "marker": {
             "line": {
              "color": "white",
              "width": 0.5
             },
             "pattern": {
              "fillmode": "overlay",
              "size": 10,
              "solidity": 0.2
             }
            },
            "type": "bar"
           }
          ],
          "barpolar": [
           {
            "marker": {
             "line": {
              "color": "white",
              "width": 0.5
             },
             "pattern": {
              "fillmode": "overlay",
              "size": 10,
              "solidity": 0.2
             }
            },
            "type": "barpolar"
           }
          ],
          "carpet": [
           {
            "aaxis": {
             "endlinecolor": "#2a3f5f",
             "gridcolor": "#C8D4E3",
             "linecolor": "#C8D4E3",
             "minorgridcolor": "#C8D4E3",
             "startlinecolor": "#2a3f5f"
            },
            "baxis": {
             "endlinecolor": "#2a3f5f",
             "gridcolor": "#C8D4E3",
             "linecolor": "#C8D4E3",
             "minorgridcolor": "#C8D4E3",
             "startlinecolor": "#2a3f5f"
            },
            "type": "carpet"
           }
          ],
          "choropleth": [
           {
            "colorbar": {
             "outlinewidth": 0,
             "ticks": ""
            },
            "type": "choropleth"
           }
          ],
          "contour": [
           {
            "colorbar": {
             "outlinewidth": 0,
             "ticks": ""
            },
            "colorscale": [
             [
              0,
              "#0d0887"
             ],
             [
              0.1111111111111111,
              "#46039f"
             ],
             [
              0.2222222222222222,
              "#7201a8"
             ],
             [
              0.3333333333333333,
              "#9c179e"
             ],
             [
              0.4444444444444444,
              "#bd3786"
             ],
             [
              0.5555555555555556,
              "#d8576b"
             ],
             [
              0.6666666666666666,
              "#ed7953"
             ],
             [
              0.7777777777777778,
              "#fb9f3a"
             ],
             [
              0.8888888888888888,
              "#fdca26"
             ],
             [
              1,
              "#f0f921"
             ]
            ],
            "type": "contour"
           }
          ],
          "contourcarpet": [
           {
            "colorbar": {
             "outlinewidth": 0,
             "ticks": ""
            },
            "type": "contourcarpet"
           }
          ],
          "heatmap": [
           {
            "colorbar": {
             "outlinewidth": 0,
             "ticks": ""
            },
            "colorscale": [
             [
              0,
              "#0d0887"
             ],
             [
              0.1111111111111111,
              "#46039f"
             ],
             [
              0.2222222222222222,
              "#7201a8"
             ],
             [
              0.3333333333333333,
              "#9c179e"
             ],
             [
              0.4444444444444444,
              "#bd3786"
             ],
             [
              0.5555555555555556,
              "#d8576b"
             ],
             [
              0.6666666666666666,
              "#ed7953"
             ],
             [
              0.7777777777777778,
              "#fb9f3a"
             ],
             [
              0.8888888888888888,
              "#fdca26"
             ],
             [
              1,
              "#f0f921"
             ]
            ],
            "type": "heatmap"
           }
          ],
          "heatmapgl": [
           {
            "colorbar": {
             "outlinewidth": 0,
             "ticks": ""
            },
            "colorscale": [
             [
              0,
              "#0d0887"
             ],
             [
              0.1111111111111111,
              "#46039f"
             ],
             [
              0.2222222222222222,
              "#7201a8"
             ],
             [
              0.3333333333333333,
              "#9c179e"
             ],
             [
              0.4444444444444444,
              "#bd3786"
             ],
             [
              0.5555555555555556,
              "#d8576b"
             ],
             [
              0.6666666666666666,
              "#ed7953"
             ],
             [
              0.7777777777777778,
              "#fb9f3a"
             ],
             [
              0.8888888888888888,
              "#fdca26"
             ],
             [
              1,
              "#f0f921"
             ]
            ],
            "type": "heatmapgl"
           }
          ],
          "histogram": [
           {
            "marker": {
             "pattern": {
              "fillmode": "overlay",
              "size": 10,
              "solidity": 0.2
             }
            },
            "type": "histogram"
           }
          ],
          "histogram2d": [
           {
            "colorbar": {
             "outlinewidth": 0,
             "ticks": ""
            },
            "colorscale": [
             [
              0,
              "#0d0887"
             ],
             [
              0.1111111111111111,
              "#46039f"
             ],
             [
              0.2222222222222222,
              "#7201a8"
             ],
             [
              0.3333333333333333,
              "#9c179e"
             ],
             [
              0.4444444444444444,
              "#bd3786"
             ],
             [
              0.5555555555555556,
              "#d8576b"
             ],
             [
              0.6666666666666666,
              "#ed7953"
             ],
             [
              0.7777777777777778,
              "#fb9f3a"
             ],
             [
              0.8888888888888888,
              "#fdca26"
             ],
             [
              1,
              "#f0f921"
             ]
            ],
            "type": "histogram2d"
           }
          ],
          "histogram2dcontour": [
           {
            "colorbar": {
             "outlinewidth": 0,
             "ticks": ""
            },
            "colorscale": [
             [
              0,
              "#0d0887"
             ],
             [
              0.1111111111111111,
              "#46039f"
             ],
             [
              0.2222222222222222,
              "#7201a8"
             ],
             [
              0.3333333333333333,
              "#9c179e"
             ],
             [
              0.4444444444444444,
              "#bd3786"
             ],
             [
              0.5555555555555556,
              "#d8576b"
             ],
             [
              0.6666666666666666,
              "#ed7953"
             ],
             [
              0.7777777777777778,
              "#fb9f3a"
             ],
             [
              0.8888888888888888,
              "#fdca26"
             ],
             [
              1,
              "#f0f921"
             ]
            ],
            "type": "histogram2dcontour"
           }
          ],
          "mesh3d": [
           {
            "colorbar": {
             "outlinewidth": 0,
             "ticks": ""
            },
            "type": "mesh3d"
           }
          ],
          "parcoords": [
           {
            "line": {
             "colorbar": {
              "outlinewidth": 0,
              "ticks": ""
             }
            },
            "type": "parcoords"
           }
          ],
          "pie": [
           {
            "automargin": true,
            "type": "pie"
           }
          ],
          "scatter": [
           {
            "fillpattern": {
             "fillmode": "overlay",
             "size": 10,
             "solidity": 0.2
            },
            "type": "scatter"
           }
          ],
          "scatter3d": [
           {
            "line": {
             "colorbar": {
              "outlinewidth": 0,
              "ticks": ""
             }
            },
            "marker": {
             "colorbar": {
              "outlinewidth": 0,
              "ticks": ""
             }
            },
            "type": "scatter3d"
           }
          ],
          "scattercarpet": [
           {
            "marker": {
             "colorbar": {
              "outlinewidth": 0,
              "ticks": ""
             }
            },
            "type": "scattercarpet"
           }
          ],
          "scattergeo": [
           {
            "marker": {
             "colorbar": {
              "outlinewidth": 0,
              "ticks": ""
             }
            },
            "type": "scattergeo"
           }
          ],
          "scattergl": [
           {
            "marker": {
             "colorbar": {
              "outlinewidth": 0,
              "ticks": ""
             }
            },
            "type": "scattergl"
           }
          ],
          "scattermapbox": [
           {
            "marker": {
             "colorbar": {
              "outlinewidth": 0,
              "ticks": ""
             }
            },
            "type": "scattermapbox"
           }
          ],
          "scatterpolar": [
           {
            "marker": {
             "colorbar": {
              "outlinewidth": 0,
              "ticks": ""
             }
            },
            "type": "scatterpolar"
           }
          ],
          "scatterpolargl": [
           {
            "marker": {
             "colorbar": {
              "outlinewidth": 0,
              "ticks": ""
             }
            },
            "type": "scatterpolargl"
           }
          ],
          "scatterternary": [
           {
            "marker": {
             "colorbar": {
              "outlinewidth": 0,
              "ticks": ""
             }
            },
            "type": "scatterternary"
           }
          ],
          "surface": [
           {
            "colorbar": {
             "outlinewidth": 0,
             "ticks": ""
            },
            "colorscale": [
             [
              0,
              "#0d0887"
             ],
             [
              0.1111111111111111,
              "#46039f"
             ],
             [
              0.2222222222222222,
              "#7201a8"
             ],
             [
              0.3333333333333333,
              "#9c179e"
             ],
             [
              0.4444444444444444,
              "#bd3786"
             ],
             [
              0.5555555555555556,
              "#d8576b"
             ],
             [
              0.6666666666666666,
              "#ed7953"
             ],
             [
              0.7777777777777778,
              "#fb9f3a"
             ],
             [
              0.8888888888888888,
              "#fdca26"
             ],
             [
              1,
              "#f0f921"
             ]
            ],
            "type": "surface"
           }
          ],
          "table": [
           {
            "cells": {
             "fill": {
              "color": "#EBF0F8"
             },
             "line": {
              "color": "white"
             }
            },
            "header": {
             "fill": {
              "color": "#C8D4E3"
             },
             "line": {
              "color": "white"
             }
            },
            "type": "table"
           }
          ]
         },
         "layout": {
          "annotationdefaults": {
           "arrowcolor": "#2a3f5f",
           "arrowhead": 0,
           "arrowwidth": 1
          },
          "autotypenumbers": "strict",
          "coloraxis": {
           "colorbar": {
            "outlinewidth": 0,
            "ticks": ""
           }
          },
          "colorscale": {
           "diverging": [
            [
             0,
             "#8e0152"
            ],
            [
             0.1,
             "#c51b7d"
            ],
            [
             0.2,
             "#de77ae"
            ],
            [
             0.3,
             "#f1b6da"
            ],
            [
             0.4,
             "#fde0ef"
            ],
            [
             0.5,
             "#f7f7f7"
            ],
            [
             0.6,
             "#e6f5d0"
            ],
            [
             0.7,
             "#b8e186"
            ],
            [
             0.8,
             "#7fbc41"
            ],
            [
             0.9,
             "#4d9221"
            ],
            [
             1,
             "#276419"
            ]
           ],
           "sequential": [
            [
             0,
             "#0d0887"
            ],
            [
             0.1111111111111111,
             "#46039f"
            ],
            [
             0.2222222222222222,
             "#7201a8"
            ],
            [
             0.3333333333333333,
             "#9c179e"
            ],
            [
             0.4444444444444444,
             "#bd3786"
            ],
            [
             0.5555555555555556,
             "#d8576b"
            ],
            [
             0.6666666666666666,
             "#ed7953"
            ],
            [
             0.7777777777777778,
             "#fb9f3a"
            ],
            [
             0.8888888888888888,
             "#fdca26"
            ],
            [
             1,
             "#f0f921"
            ]
           ],
           "sequentialminus": [
            [
             0,
             "#0d0887"
            ],
            [
             0.1111111111111111,
             "#46039f"
            ],
            [
             0.2222222222222222,
             "#7201a8"
            ],
            [
             0.3333333333333333,
             "#9c179e"
            ],
            [
             0.4444444444444444,
             "#bd3786"
            ],
            [
             0.5555555555555556,
             "#d8576b"
            ],
            [
             0.6666666666666666,
             "#ed7953"
            ],
            [
             0.7777777777777778,
             "#fb9f3a"
            ],
            [
             0.8888888888888888,
             "#fdca26"
            ],
            [
             1,
             "#f0f921"
            ]
           ]
          },
          "colorway": [
           "#636efa",
           "#EF553B",
           "#00cc96",
           "#ab63fa",
           "#FFA15A",
           "#19d3f3",
           "#FF6692",
           "#B6E880",
           "#FF97FF",
           "#FECB52"
          ],
          "font": {
           "color": "#2a3f5f"
          },
          "geo": {
           "bgcolor": "white",
           "lakecolor": "white",
           "landcolor": "white",
           "showlakes": true,
           "showland": true,
           "subunitcolor": "#C8D4E3"
          },
          "hoverlabel": {
           "align": "left"
          },
          "hovermode": "closest",
          "mapbox": {
           "style": "light"
          },
          "paper_bgcolor": "white",
          "plot_bgcolor": "white",
          "polar": {
           "angularaxis": {
            "gridcolor": "#EBF0F8",
            "linecolor": "#EBF0F8",
            "ticks": ""
           },
           "bgcolor": "white",
           "radialaxis": {
            "gridcolor": "#EBF0F8",
            "linecolor": "#EBF0F8",
            "ticks": ""
           }
          },
          "scene": {
           "xaxis": {
            "backgroundcolor": "white",
            "gridcolor": "#DFE8F3",
            "gridwidth": 2,
            "linecolor": "#EBF0F8",
            "showbackground": true,
            "ticks": "",
            "zerolinecolor": "#EBF0F8"
           },
           "yaxis": {
            "backgroundcolor": "white",
            "gridcolor": "#DFE8F3",
            "gridwidth": 2,
            "linecolor": "#EBF0F8",
            "showbackground": true,
            "ticks": "",
            "zerolinecolor": "#EBF0F8"
           },
           "zaxis": {
            "backgroundcolor": "white",
            "gridcolor": "#DFE8F3",
            "gridwidth": 2,
            "linecolor": "#EBF0F8",
            "showbackground": true,
            "ticks": "",
            "zerolinecolor": "#EBF0F8"
           }
          },
          "shapedefaults": {
           "line": {
            "color": "#2a3f5f"
           }
          },
          "ternary": {
           "aaxis": {
            "gridcolor": "#DFE8F3",
            "linecolor": "#A2B1C6",
            "ticks": ""
           },
           "baxis": {
            "gridcolor": "#DFE8F3",
            "linecolor": "#A2B1C6",
            "ticks": ""
           },
           "bgcolor": "white",
           "caxis": {
            "gridcolor": "#DFE8F3",
            "linecolor": "#A2B1C6",
            "ticks": ""
           }
          },
          "title": {
           "x": 0.05
          },
          "xaxis": {
           "automargin": true,
           "gridcolor": "#EBF0F8",
           "linecolor": "#EBF0F8",
           "ticks": "",
           "title": {
            "standoff": 15
           },
           "zerolinecolor": "#EBF0F8",
           "zerolinewidth": 2
          },
          "yaxis": {
           "automargin": true,
           "gridcolor": "#EBF0F8",
           "linecolor": "#EBF0F8",
           "ticks": "",
           "title": {
            "standoff": 15
           },
           "zerolinecolor": "#EBF0F8",
           "zerolinewidth": 2
          }
         }
        },
        "title": {
         "text": "IT Only Features with High Relative Projection"
        },
        "width": 1000,
        "xaxis": {
         "title": {
          "text": "Activation Percentile Buckets"
         }
        },
        "yaxis": {
         "title": {
          "text": "Relative Projection"
         }
        }
       }
      },
      "text/html": [
       "<div>                            <div id=\"faf543a0-c83e-4c17-a36d-d757b0dc889c\" class=\"plotly-graph-div\" style=\"height:500px; width:1000px;\"></div>            <script type=\"text/javascript\">                require([\"plotly\"], function(Plotly) {                    window.PLOTLYENV=window.PLOTLYENV || {};                                    if (document.getElementById(\"faf543a0-c83e-4c17-a36d-d757b0dc889c\")) {                    Plotly.newPlot(                        \"faf543a0-c83e-4c17-a36d-d757b0dc889c\",                        [{\"mode\":\"lines\",\"name\":\"Feature 9472\",\"opacity\":0.5,\"x\":[\"00%-10%\",\"10%-20%\",\"20%-30%\",\"30%-40%\",\"40%-50%\",\"50%-60%\",\"60%-70%\",\"70%-80%\",\"80%-90%\",\"90%-100%\"],\"y\":[1.0189629,0.6808601,0.6808041,0.66500354,0.66756356,0.6257485,0.62411046,0.6070974,0.48153895,0.4620082],\"type\":\"scatter\"},{\"mode\":\"lines\",\"name\":\"Feature 13865\",\"opacity\":0.5,\"x\":[\"00%-10%\",\"10%-20%\",\"20%-30%\",\"30%-40%\",\"40%-50%\",\"50%-60%\",\"60%-70%\",\"70%-80%\",\"80%-90%\",\"90%-100%\"],\"y\":[0.95701706,0.69273835,0.6748433,0.6532891,0.6437141,0.6229794,0.60377717,0.6231334,0.5689623,0.5735404],\"type\":\"scatter\"},{\"mode\":\"lines\",\"name\":\"Feature 16908\",\"opacity\":0.5,\"x\":[\"00%-10%\",\"10%-20%\",\"20%-30%\",\"30%-40%\",\"40%-50%\",\"50%-60%\",\"60%-70%\",\"70%-80%\",\"80%-90%\",\"90%-100%\"],\"y\":[0.92901516,0.73801506,0.72865266,0.6990001,0.6934024,0.65191287,0.671246,0.66808575,0.62018466,null],\"type\":\"scatter\"},{\"mode\":\"lines\",\"name\":\"Feature 18104\",\"opacity\":0.5,\"x\":[\"00%-10%\",\"10%-20%\",\"20%-30%\",\"30%-40%\",\"40%-50%\",\"50%-60%\",\"60%-70%\",\"70%-80%\",\"80%-90%\",\"90%-100%\"],\"y\":[0.964517,0.7088808,0.65876514,0.64571506,0.6281247,0.6191864,0.70834166,0.63757384,0.57359314,0.7834725],\"type\":\"scatter\"},{\"mode\":\"lines\",\"name\":\"Feature 36954\",\"opacity\":0.5,\"x\":[\"00%-10%\",\"10%-20%\",\"20%-30%\",\"30%-40%\",\"40%-50%\",\"50%-60%\",\"60%-70%\",\"70%-80%\",\"80%-90%\",\"90%-100%\"],\"y\":[0.8337184,0.72285384,0.7069925,0.6762221,0.6577869,0.62983096,0.626395,0.6313975,0.5750733,0.5935376],\"type\":\"scatter\"},{\"mode\":\"lines\",\"name\":\"Feature 42157\",\"opacity\":0.5,\"x\":[\"00%-10%\",\"10%-20%\",\"20%-30%\",\"30%-40%\",\"40%-50%\",\"50%-60%\",\"60%-70%\",\"70%-80%\",\"80%-90%\",\"90%-100%\"],\"y\":[0.950495,0.67850703,0.6603388,0.6321951,0.6516629,0.6368583,0.6733303,0.62950397,0.658696,0.7207998],\"type\":\"scatter\"},{\"mode\":\"lines\",\"name\":\"Feature 42351\",\"opacity\":0.5,\"x\":[\"00%-10%\",\"10%-20%\",\"20%-30%\",\"30%-40%\",\"40%-50%\",\"50%-60%\",\"60%-70%\",\"70%-80%\",\"80%-90%\",\"90%-100%\"],\"y\":[1.2345496,0.7123086,0.7205803,0.6870197,0.634763,0.6370828,0.6841004,0.6367523,0.58334976,0.558345],\"type\":\"scatter\"},{\"mode\":\"lines\",\"name\":\"Feature 43261\",\"opacity\":0.5,\"x\":[\"00%-10%\",\"10%-20%\",\"20%-30%\",\"30%-40%\",\"40%-50%\",\"50%-60%\",\"60%-70%\",\"70%-80%\",\"80%-90%\",\"90%-100%\"],\"y\":[0.969583,0.71683,0.7389756,0.7319838,0.7083261,0.70515066,0.7083148,0.7047245,0.6835638,0.70140314],\"type\":\"scatter\"},{\"mode\":\"lines\",\"name\":\"Feature 70657\",\"opacity\":0.5,\"x\":[\"00%-10%\",\"10%-20%\",\"20%-30%\",\"30%-40%\",\"40%-50%\",\"50%-60%\",\"60%-70%\",\"70%-80%\",\"80%-90%\",\"90%-100%\"],\"y\":[0.8704993,0.71739453,0.7068049,0.6824659,0.6712823,0.63818145,0.67193615,0.65537506,0.63652855,0.70160514],\"type\":\"scatter\"}],                        {\"template\":{\"data\":{\"barpolar\":[{\"marker\":{\"line\":{\"color\":\"white\",\"width\":0.5},\"pattern\":{\"fillmode\":\"overlay\",\"size\":10,\"solidity\":0.2}},\"type\":\"barpolar\"}],\"bar\":[{\"error_x\":{\"color\":\"#2a3f5f\"},\"error_y\":{\"color\":\"#2a3f5f\"},\"marker\":{\"line\":{\"color\":\"white\",\"width\":0.5},\"pattern\":{\"fillmode\":\"overlay\",\"size\":10,\"solidity\":0.2}},\"type\":\"bar\"}],\"carpet\":[{\"aaxis\":{\"endlinecolor\":\"#2a3f5f\",\"gridcolor\":\"#C8D4E3\",\"linecolor\":\"#C8D4E3\",\"minorgridcolor\":\"#C8D4E3\",\"startlinecolor\":\"#2a3f5f\"},\"baxis\":{\"endlinecolor\":\"#2a3f5f\",\"gridcolor\":\"#C8D4E3\",\"linecolor\":\"#C8D4E3\",\"minorgridcolor\":\"#C8D4E3\",\"startlinecolor\":\"#2a3f5f\"},\"type\":\"carpet\"}],\"choropleth\":[{\"colorbar\":{\"outlinewidth\":0,\"ticks\":\"\"},\"type\":\"choropleth\"}],\"contourcarpet\":[{\"colorbar\":{\"outlinewidth\":0,\"ticks\":\"\"},\"type\":\"contourcarpet\"}],\"contour\":[{\"colorbar\":{\"outlinewidth\":0,\"ticks\":\"\"},\"colorscale\":[[0.0,\"#0d0887\"],[0.1111111111111111,\"#46039f\"],[0.2222222222222222,\"#7201a8\"],[0.3333333333333333,\"#9c179e\"],[0.4444444444444444,\"#bd3786\"],[0.5555555555555556,\"#d8576b\"],[0.6666666666666666,\"#ed7953\"],[0.7777777777777778,\"#fb9f3a\"],[0.8888888888888888,\"#fdca26\"],[1.0,\"#f0f921\"]],\"type\":\"contour\"}],\"heatmapgl\":[{\"colorbar\":{\"outlinewidth\":0,\"ticks\":\"\"},\"colorscale\":[[0.0,\"#0d0887\"],[0.1111111111111111,\"#46039f\"],[0.2222222222222222,\"#7201a8\"],[0.3333333333333333,\"#9c179e\"],[0.4444444444444444,\"#bd3786\"],[0.5555555555555556,\"#d8576b\"],[0.6666666666666666,\"#ed7953\"],[0.7777777777777778,\"#fb9f3a\"],[0.8888888888888888,\"#fdca26\"],[1.0,\"#f0f921\"]],\"type\":\"heatmapgl\"}],\"heatmap\":[{\"colorbar\":{\"outlinewidth\":0,\"ticks\":\"\"},\"colorscale\":[[0.0,\"#0d0887\"],[0.1111111111111111,\"#46039f\"],[0.2222222222222222,\"#7201a8\"],[0.3333333333333333,\"#9c179e\"],[0.4444444444444444,\"#bd3786\"],[0.5555555555555556,\"#d8576b\"],[0.6666666666666666,\"#ed7953\"],[0.7777777777777778,\"#fb9f3a\"],[0.8888888888888888,\"#fdca26\"],[1.0,\"#f0f921\"]],\"type\":\"heatmap\"}],\"histogram2dcontour\":[{\"colorbar\":{\"outlinewidth\":0,\"ticks\":\"\"},\"colorscale\":[[0.0,\"#0d0887\"],[0.1111111111111111,\"#46039f\"],[0.2222222222222222,\"#7201a8\"],[0.3333333333333333,\"#9c179e\"],[0.4444444444444444,\"#bd3786\"],[0.5555555555555556,\"#d8576b\"],[0.6666666666666666,\"#ed7953\"],[0.7777777777777778,\"#fb9f3a\"],[0.8888888888888888,\"#fdca26\"],[1.0,\"#f0f921\"]],\"type\":\"histogram2dcontour\"}],\"histogram2d\":[{\"colorbar\":{\"outlinewidth\":0,\"ticks\":\"\"},\"colorscale\":[[0.0,\"#0d0887\"],[0.1111111111111111,\"#46039f\"],[0.2222222222222222,\"#7201a8\"],[0.3333333333333333,\"#9c179e\"],[0.4444444444444444,\"#bd3786\"],[0.5555555555555556,\"#d8576b\"],[0.6666666666666666,\"#ed7953\"],[0.7777777777777778,\"#fb9f3a\"],[0.8888888888888888,\"#fdca26\"],[1.0,\"#f0f921\"]],\"type\":\"histogram2d\"}],\"histogram\":[{\"marker\":{\"pattern\":{\"fillmode\":\"overlay\",\"size\":10,\"solidity\":0.2}},\"type\":\"histogram\"}],\"mesh3d\":[{\"colorbar\":{\"outlinewidth\":0,\"ticks\":\"\"},\"type\":\"mesh3d\"}],\"parcoords\":[{\"line\":{\"colorbar\":{\"outlinewidth\":0,\"ticks\":\"\"}},\"type\":\"parcoords\"}],\"pie\":[{\"automargin\":true,\"type\":\"pie\"}],\"scatter3d\":[{\"line\":{\"colorbar\":{\"outlinewidth\":0,\"ticks\":\"\"}},\"marker\":{\"colorbar\":{\"outlinewidth\":0,\"ticks\":\"\"}},\"type\":\"scatter3d\"}],\"scattercarpet\":[{\"marker\":{\"colorbar\":{\"outlinewidth\":0,\"ticks\":\"\"}},\"type\":\"scattercarpet\"}],\"scattergeo\":[{\"marker\":{\"colorbar\":{\"outlinewidth\":0,\"ticks\":\"\"}},\"type\":\"scattergeo\"}],\"scattergl\":[{\"marker\":{\"colorbar\":{\"outlinewidth\":0,\"ticks\":\"\"}},\"type\":\"scattergl\"}],\"scattermapbox\":[{\"marker\":{\"colorbar\":{\"outlinewidth\":0,\"ticks\":\"\"}},\"type\":\"scattermapbox\"}],\"scatterpolargl\":[{\"marker\":{\"colorbar\":{\"outlinewidth\":0,\"ticks\":\"\"}},\"type\":\"scatterpolargl\"}],\"scatterpolar\":[{\"marker\":{\"colorbar\":{\"outlinewidth\":0,\"ticks\":\"\"}},\"type\":\"scatterpolar\"}],\"scatter\":[{\"fillpattern\":{\"fillmode\":\"overlay\",\"size\":10,\"solidity\":0.2},\"type\":\"scatter\"}],\"scatterternary\":[{\"marker\":{\"colorbar\":{\"outlinewidth\":0,\"ticks\":\"\"}},\"type\":\"scatterternary\"}],\"surface\":[{\"colorbar\":{\"outlinewidth\":0,\"ticks\":\"\"},\"colorscale\":[[0.0,\"#0d0887\"],[0.1111111111111111,\"#46039f\"],[0.2222222222222222,\"#7201a8\"],[0.3333333333333333,\"#9c179e\"],[0.4444444444444444,\"#bd3786\"],[0.5555555555555556,\"#d8576b\"],[0.6666666666666666,\"#ed7953\"],[0.7777777777777778,\"#fb9f3a\"],[0.8888888888888888,\"#fdca26\"],[1.0,\"#f0f921\"]],\"type\":\"surface\"}],\"table\":[{\"cells\":{\"fill\":{\"color\":\"#EBF0F8\"},\"line\":{\"color\":\"white\"}},\"header\":{\"fill\":{\"color\":\"#C8D4E3\"},\"line\":{\"color\":\"white\"}},\"type\":\"table\"}]},\"layout\":{\"annotationdefaults\":{\"arrowcolor\":\"#2a3f5f\",\"arrowhead\":0,\"arrowwidth\":1},\"autotypenumbers\":\"strict\",\"coloraxis\":{\"colorbar\":{\"outlinewidth\":0,\"ticks\":\"\"}},\"colorscale\":{\"diverging\":[[0,\"#8e0152\"],[0.1,\"#c51b7d\"],[0.2,\"#de77ae\"],[0.3,\"#f1b6da\"],[0.4,\"#fde0ef\"],[0.5,\"#f7f7f7\"],[0.6,\"#e6f5d0\"],[0.7,\"#b8e186\"],[0.8,\"#7fbc41\"],[0.9,\"#4d9221\"],[1,\"#276419\"]],\"sequential\":[[0.0,\"#0d0887\"],[0.1111111111111111,\"#46039f\"],[0.2222222222222222,\"#7201a8\"],[0.3333333333333333,\"#9c179e\"],[0.4444444444444444,\"#bd3786\"],[0.5555555555555556,\"#d8576b\"],[0.6666666666666666,\"#ed7953\"],[0.7777777777777778,\"#fb9f3a\"],[0.8888888888888888,\"#fdca26\"],[1.0,\"#f0f921\"]],\"sequentialminus\":[[0.0,\"#0d0887\"],[0.1111111111111111,\"#46039f\"],[0.2222222222222222,\"#7201a8\"],[0.3333333333333333,\"#9c179e\"],[0.4444444444444444,\"#bd3786\"],[0.5555555555555556,\"#d8576b\"],[0.6666666666666666,\"#ed7953\"],[0.7777777777777778,\"#fb9f3a\"],[0.8888888888888888,\"#fdca26\"],[1.0,\"#f0f921\"]]},\"colorway\":[\"#636efa\",\"#EF553B\",\"#00cc96\",\"#ab63fa\",\"#FFA15A\",\"#19d3f3\",\"#FF6692\",\"#B6E880\",\"#FF97FF\",\"#FECB52\"],\"font\":{\"color\":\"#2a3f5f\"},\"geo\":{\"bgcolor\":\"white\",\"lakecolor\":\"white\",\"landcolor\":\"white\",\"showlakes\":true,\"showland\":true,\"subunitcolor\":\"#C8D4E3\"},\"hoverlabel\":{\"align\":\"left\"},\"hovermode\":\"closest\",\"mapbox\":{\"style\":\"light\"},\"paper_bgcolor\":\"white\",\"plot_bgcolor\":\"white\",\"polar\":{\"angularaxis\":{\"gridcolor\":\"#EBF0F8\",\"linecolor\":\"#EBF0F8\",\"ticks\":\"\"},\"bgcolor\":\"white\",\"radialaxis\":{\"gridcolor\":\"#EBF0F8\",\"linecolor\":\"#EBF0F8\",\"ticks\":\"\"}},\"scene\":{\"xaxis\":{\"backgroundcolor\":\"white\",\"gridcolor\":\"#DFE8F3\",\"gridwidth\":2,\"linecolor\":\"#EBF0F8\",\"showbackground\":true,\"ticks\":\"\",\"zerolinecolor\":\"#EBF0F8\"},\"yaxis\":{\"backgroundcolor\":\"white\",\"gridcolor\":\"#DFE8F3\",\"gridwidth\":2,\"linecolor\":\"#EBF0F8\",\"showbackground\":true,\"ticks\":\"\",\"zerolinecolor\":\"#EBF0F8\"},\"zaxis\":{\"backgroundcolor\":\"white\",\"gridcolor\":\"#DFE8F3\",\"gridwidth\":2,\"linecolor\":\"#EBF0F8\",\"showbackground\":true,\"ticks\":\"\",\"zerolinecolor\":\"#EBF0F8\"}},\"shapedefaults\":{\"line\":{\"color\":\"#2a3f5f\"}},\"ternary\":{\"aaxis\":{\"gridcolor\":\"#DFE8F3\",\"linecolor\":\"#A2B1C6\",\"ticks\":\"\"},\"baxis\":{\"gridcolor\":\"#DFE8F3\",\"linecolor\":\"#A2B1C6\",\"ticks\":\"\"},\"bgcolor\":\"white\",\"caxis\":{\"gridcolor\":\"#DFE8F3\",\"linecolor\":\"#A2B1C6\",\"ticks\":\"\"}},\"title\":{\"x\":0.05},\"xaxis\":{\"automargin\":true,\"gridcolor\":\"#EBF0F8\",\"linecolor\":\"#EBF0F8\",\"ticks\":\"\",\"title\":{\"standoff\":15},\"zerolinecolor\":\"#EBF0F8\",\"zerolinewidth\":2},\"yaxis\":{\"automargin\":true,\"gridcolor\":\"#EBF0F8\",\"linecolor\":\"#EBF0F8\",\"ticks\":\"\",\"title\":{\"standoff\":15},\"zerolinecolor\":\"#EBF0F8\",\"zerolinewidth\":2}}},\"legend\":{\"yanchor\":\"top\",\"y\":0.99,\"xanchor\":\"right\",\"x\":1.15},\"title\":{\"text\":\"IT Only Features with High Relative Projection\"},\"xaxis\":{\"title\":{\"text\":\"Activation Percentile Buckets\"}},\"yaxis\":{\"title\":{\"text\":\"Relative Projection\"}},\"width\":1000,\"height\":500,\"showlegend\":true},                        {\"responsive\": true}                    ).then(function(){\n",
       "                            \n",
       "var gd = document.getElementById('faf543a0-c83e-4c17-a36d-d757b0dc889c');\n",
       "var x = new MutationObserver(function (mutations, observer) {{\n",
       "        var display = window.getComputedStyle(gd).display;\n",
       "        if (!display || display === 'none') {{\n",
       "            console.log([gd, 'removed!']);\n",
       "            Plotly.purge(gd);\n",
       "            observer.disconnect();\n",
       "        }}\n",
       "}});\n",
       "\n",
       "// Listen for the removal of the full notebook cells\n",
       "var notebookContainer = gd.closest('#notebook-container');\n",
       "if (notebookContainer) {{\n",
       "    x.observe(notebookContainer, {childList: true});\n",
       "}}\n",
       "\n",
       "// Listen for the clearing of the current output cell\n",
       "var outputEl = gd.closest('.output');\n",
       "if (outputEl) {{\n",
       "    x.observe(outputEl, {childList: true});\n",
       "}}\n",
       "\n",
       "                        })                };                });            </script>        </div>"
      ]
     },
     "metadata": {},
     "output_type": "display_data"
    }
   ],
   "source": [
    "last_k = 6\n",
    "cut_off_k = 2\n",
    "it_only_focus = stage1_it_only_indices\n",
    "# Get relative projections for IT only features in the last bucket\n",
    "last_bucket_projections = relproj_data[it_only_focus, -last_k:-cut_off_k]\n",
    "\n",
    "# Find indices of features with high relative projection in last bucket\n",
    "high_proj_indices = it_only_focus[(last_bucket_projections > 0.6).sum(axis=1) > last_k-1-cut_off_k]\n",
    "\n",
    "print(f\"Found {len(high_proj_indices)} IT only features with high (>0.8) relative projection in last bucket\")\n",
    "print(\"\\nFeature indices:\", high_proj_indices)\n",
    "\n",
    "# Create figure\n",
    "fig = go.Figure()\n",
    "\n",
    "# Plot each feature\n",
    "for idx in high_proj_indices:\n",
    "    feature_data = relproj_data[idx]\n",
    "    fig.add_trace(go.Scatter(\n",
    "        x=[f\"{i}0%-{i+1}0%\" for i in range(0, 10)],\n",
    "        y=feature_data,\n",
    "        mode='lines',\n",
    "        name=f'Feature {idx}',\n",
    "        opacity=0.5\n",
    "    ))\n",
    "\n",
    "# Update layout\n",
    "fig.update_layout(\n",
    "    title='IT Only Features with High Relative Projection',\n",
    "    xaxis_title='Activation Percentile Buckets',\n",
    "    yaxis_title='Relative Projection',\n",
    "    template='plotly_white',\n",
    "    width=1000,\n",
    "    height=500,\n",
    "    showlegend=True,\n",
    "    legend=dict(\n",
    "        yanchor=\"top\",\n",
    "        y=0.99,\n",
    "        xanchor=\"right\",\n",
    "        x=1.15\n",
    "    )\n",
    ")\n",
    "\n",
    "fig.show()\n",
    "fig.write_image(f\"../plots/relative_projections_high_{last_k}_{cut_off_k}.png\")\n"
   ]
  },
  {
   "cell_type": "code",
   "execution_count": 110,
   "metadata": {},
   "outputs": [
    {
     "data": {
      "image/png": "[encoded data removed]",
      "text/plain": [
       "<Figure size 1500x500 with 1 Axes>"
      ]
     },
     "metadata": {},
     "output_type": "display_data"
    }
   ],
   "source": [
    "import seaborn as sns\n",
    "import matplotlib.pyplot as plt\n",
    "import numpy as np\n",
    "\n",
    "# Create figure with appropriate size\n",
    "plt.figure(figsize=(15, 5))\n",
    "\n",
    "# Plot one line per IT only feature\n",
    "for idx in it_only_indices:\n",
    "    feature_data = relproj_data[idx]\n",
    "    plt.plot(range(N_BUCKETS), feature_data, alpha=0.3, color='blue')\n",
    "\n",
    "# Calculate and plot mean line\n",
    "mean_data = naninfmean(relproj_data[it_only_indices])\n",
    "plt.plot(range(N_BUCKETS), mean_data, color='red', linewidth=5, label='IT Only Mean')\n",
    "\n",
    "# Calculate and plot mean line of shared features\n",
    "mean_data = naninfmean(relproj_data[shared_indices])\n",
    "plt.plot(range(N_BUCKETS), mean_data, color='green', linewidth=5, label='Shared Mean')\n",
    "\n",
    "# Calculate and plot mean line\n",
    "mean_data = naninfmean(relproj_data[base_only_indices])\n",
    "plt.plot(range(N_BUCKETS), mean_data, color='yellow', linewidth=5, label='Base OnlyMean')\n",
    "\n",
    "# Add labels\n",
    "plt.xlabel('Activation Percentile Buckets')\n",
    "plt.ylabel('Relative Projection')\n",
    "plt.title('Features: Relative Projections Across Activation Buckets')\n",
    "plt.xticks(range(N_BUCKETS), [f\"{i}0%-{i+1}0%\" for i in range(0, 10)], rotation=45)\n",
    "plt.ylim(-100, 100)  # Set y-axis limits\n",
    "plt.legend()\n",
    "\n",
    "plt.tight_layout()\n",
    "plt.show()"
   ]
  },
  {
   "cell_type": "code",
   "execution_count": 138,
   "metadata": {},
   "outputs": [
    {
     "data": {
      "text/plain": [
       "Index([  465,   771,   883,  1045,  1353,  1547,  1742,  2412,  3033,  3129,\n",
       "       ...\n",
       "       72313, 72438, 72517, 72627, 72819, 72943, 72959, 73200, 73286, 73617],\n",
       "      dtype='int64', length=288)"
      ]
     },
     "execution_count": 138,
     "metadata": {},
     "output_type": "execute_result"
    }
   ],
   "source": [
    "stage1_it_only_indices = features_df[(features_df[\"tag\"] == \"IT only\") & (features_df[\"base uselessness score\"] > 5)].index\n",
    "stage1_it_only_indices\n"
   ]
  },
  {
   "cell_type": "code",
   "execution_count": 60,
   "metadata": {},
   "outputs": [
    {
     "name": "stderr",
     "output_type": "stream",
     "text": [
      "/tmp/ipykernel_141485/348078002.py:1: RuntimeWarning:\n",
      "\n",
      "All-NaN slice encountered\n",
      "\n"
     ]
    },
    {
     "data": {
      "text/plain": [
       "Index([62118, 66030], dtype='int64')"
      ]
     },
     "execution_count": 60,
     "metadata": {},
     "output_type": "execute_result"
    }
   ],
   "source": [
    "stage2_it_only_indices = stage1_it_only_indices[np.nanmax(corre_data_base[stage1_it_only_indices][:, -6:], axis=1) < 0.0]\n",
    "stage2_it_only_indices"
   ]
  },
  {
   "cell_type": "code",
   "execution_count": 159,
   "metadata": {},
   "outputs": [
    {
     "name": "stderr",
     "output_type": "stream",
     "text": [
      "/tmp/ipykernel_141485/3621348661.py:3: RuntimeWarning:\n",
      "\n",
      "Mean of empty slice\n",
      "\n"
     ]
    },
    {
     "data": {
      "image/png": "[encoded data removed]",
      "text/plain": [
       "<Figure size 1500x500 with 1 Axes>"
      ]
     },
     "metadata": {},
     "output_type": "display_data"
    },
    {
     "data": {
      "text/plain": [
       "<Figure size 640x480 with 0 Axes>"
      ]
     },
     "metadata": {},
     "output_type": "display_data"
    }
   ],
   "source": [
    "import seaborn as sns\n",
    "import matplotlib.pyplot as plt\n",
    "import numpy as np\n",
    "\n",
    "MAX_BUCKETS = 7\n",
    "# Create figure with appropriate size\n",
    "plt.figure(figsize=(15, 5))\n",
    "\n",
    "# Calculate and plot mean line\n",
    "mean_data = naninfmean(corre_data_it[it_only_indices])\n",
    "plt.plot(range(MAX_BUCKETS), mean_data[:MAX_BUCKETS], color='red', linewidth=1, linestyle=':', label='Stage 0: IT activations')\n",
    "\n",
    "# Calculate and plot mean line of shared features\n",
    "mean_data = naninfmean(corre_data_base[shared_indices])\n",
    "plt.plot(range(MAX_BUCKETS), mean_data[:MAX_BUCKETS], color='green', linewidth=1, linestyle=':', label='Stage 0: Base activations')\n",
    "\n",
    "\n",
    "# Calculate and plot mean line\n",
    "mean_data = naninfmean(corre_data_it[stage1_it_only_indices])\n",
    "plt.plot(range(MAX_BUCKETS), mean_data[:MAX_BUCKETS], color='red', linewidth=1, label='Stage 1: IT activations')\n",
    "\n",
    "# Calculate and plot mean line\n",
    "mean_data = naninfmean(corre_data_base[stage1_it_only_indices])\n",
    "plt.plot(range(MAX_BUCKETS), mean_data[:MAX_BUCKETS], color='green', linewidth=1, label='Stage 1: Base activations')\n",
    "\n",
    "# Calculate and plot mean line\n",
    "mean_data = naninfmean(corre_data_base[stage2_it_only_indices])\n",
    "plt.plot(range(MAX_BUCKETS), mean_data[:MAX_BUCKETS], color='lightcoral', linewidth=1, label='Stage 2: Base activations')\n",
    "\n",
    "mean_data = naninfmean(corre_data_it[stage2_it_only_indices])\n",
    "plt.plot(range(MAX_BUCKETS), mean_data[:MAX_BUCKETS], color='lightgreen', linewidth=1, label='Stage 2: IT activations')\n",
    "\n",
    "# Add labels\n",
    "plt.xlabel('Activation Buckets')\n",
    "plt.ylabel('Correlation')\n",
    "plt.title('IT Only Features: Correlations Across Activation Buckets')\n",
    "plt.xticks(range(MAX_BUCKETS), [f\"{i}0%-{i+1}0%\" for i in range(0, 7)], rotation=45)\n",
    "plt.legend()\n",
    "\n",
    "plt.tight_layout()\n",
    "plt.show()\n",
    "# save\n",
    "plt.savefig(\"../plots/feature_correlations.png\")"
   ]
  },
  {
   "cell_type": "code",
   "execution_count": 78,
   "metadata": {},
   "outputs": [
    {
     "data": {
      "text/plain": [
       "(array([[ 0.05369774,  0.11310016,  0.14313278, ..., -0.44209132,\n",
       "                 nan,         nan],\n",
       "        [ 0.00987954,  0.20359589,  0.6006663 , ...,         nan,\n",
       "                 nan,         nan],\n",
       "        [ 0.00625209,  0.0390608 ,  0.2981518 , ...,  0.6362908 ,\n",
       "                 nan, -1.        ],\n",
       "        ...,\n",
       "        [ 0.00566619, -0.04946877,  0.16287498, ...,  0.5042869 ,\n",
       "          0.23374172,  0.38300377],\n",
       "        [ 0.01413342, -0.22325377, -0.2008539 , ...,         nan,\n",
       "         -1.        ,         nan],\n",
       "        [ 0.01092592,  0.36414796,  0.28013095, ..., -0.06396029,\n",
       "          1.        ,         nan]], dtype=float32),\n",
       " array([[ 0.05243141,  0.1256091 ,  0.17679846, ..., -0.6344021 ,\n",
       "                 nan,         nan],\n",
       "        [ 0.01267037,  0.44353867,  0.6638929 , ...,         nan,\n",
       "                 nan,         nan],\n",
       "        [ 0.00585828,  0.05850691,  0.32402983, ...,  0.76964766,\n",
       "                 nan, -1.        ],\n",
       "        ...,\n",
       "        [ 0.00461256,  0.01236078,  0.42931548, ...,  0.28401476,\n",
       "          0.20518892,  0.5941689 ],\n",
       "        [ 0.01312586, -0.11261169, -0.24259263, ...,         nan,\n",
       "         -1.        ,         nan],\n",
       "        [ 0.01010848,  0.19337572,  0.34759697, ...,  0.05311529,\n",
       "          1.        ,         nan]], dtype=float32))"
      ]
     },
     "execution_count": 78,
     "metadata": {},
     "output_type": "execute_result"
    }
   ],
   "source": [
    "corre_data_base, corre_data_it"
   ]
  },
  {
   "cell_type": "code",
   "execution_count": 82,
   "metadata": {},
   "outputs": [],
   "source": [
    "rel_corre = corre_data_base/corre_data_it"
   ]
  },
  {
   "cell_type": "code",
   "execution_count": 153,
   "metadata": {},
   "outputs": [
    {
     "name": "stdout",
     "output_type": "stream",
     "text": [
      "Found 17 features with high correlation in later buckets\n"
     ]
    },
    {
     "data": {
      "image/png": "[encoded data removed]",
      "text/plain": [
       "<Figure size 1500x500 with 1 Axes>"
      ]
     },
     "metadata": {},
     "output_type": "display_data"
    },
    {
     "data": {
      "text/plain": [
       "Index([ 4661,  5406,  6096, 11055, 16557, 28558, 31196, 31726, 37409, 40844,\n",
       "       42587, 48345, 48767, 57637, 59988, 64612, 72943],\n",
       "      dtype='int64')"
      ]
     },
     "execution_count": 153,
     "metadata": {},
     "output_type": "execute_result"
    }
   ],
   "source": [
    "# Find IT only features with high correlation in later buckets (last 5 buckets)\n",
    "focus_indices = stage1_it_only_indices\n",
    "high_corr_indices = stage1_it_only_indices[np.nanmax(rel_corre[stage1_it_only_indices][:, -6:], axis=1) < 0.3]\n",
    "print(f\"Found {len(high_corr_indices)} features with high correlation in later buckets\")\n",
    "\n",
    "# Plot correlations for these features\n",
    "plt.figure(figsize=(15, 5))\n",
    "\n",
    "# Plot individual feature correlations\n",
    "for idx in high_corr_indices:\n",
    "    plt.plot(range(10), rel_corre[idx], alpha=0.3, color='blue')\n",
    "    \n",
    "# Plot mean correlation\n",
    "mean_corr = naninfmean(rel_corre[high_corr_indices])\n",
    "plt.plot(range(10), mean_corr, color='red', linewidth=2, label='Mean correlation')\n",
    "\n",
    "plt.xlabel('Activation Buckets')\n",
    "plt.ylabel('Correlation') \n",
    "plt.title('Features with High Correlation in Later Buckets')\n",
    "plt.xticks(range(10), [f\"{i}0%-{i+1}0%\" for i in range(0, 10)], rotation=45)\n",
    "plt.legend()\n",
    "\n",
    "plt.tight_layout()\n",
    "plt.show()\n",
    "high_corr_indices"
   ]
  },
  {
   "cell_type": "code",
   "execution_count": 106,
   "metadata": {},
   "outputs": [
    {
     "name": "stderr",
     "output_type": "stream",
     "text": [
      "/tmp/ipykernel_141485/2325822930.py:1: RuntimeWarning:\n",
      "\n",
      "All-NaN slice encountered\n",
      "\n"
     ]
    },
    {
     "data": {
      "text/plain": [
       "Index([6573, 28107, 30257, 30282, 47785, 50194, 61256, 62118, 66030, 69121], dtype='int64')"
      ]
     },
     "execution_count": 106,
     "metadata": {},
     "output_type": "execute_result"
    }
   ],
   "source": [
    "stage2_it_only_indices = stage1_it_only_indices[np.abs(np.nanmax(corre_data_base[stage1_it_only_indices][:, -6:], axis=1)) < 0.05]\n",
    "stage2_it_only_indices"
   ]
  },
  {
   "cell_type": "code",
   "execution_count": 107,
   "metadata": {},
   "outputs": [
    {
     "data": {
      "text/html": [
       "<div>\n",
       "<style scoped>\n",
       "    .dataframe tbody tr th:only-of-type {\n",
       "        vertical-align: middle;\n",
       "    }\n",
       "\n",
       "    .dataframe tbody tr th {\n",
       "        vertical-align: top;\n",
       "    }\n",
       "\n",
       "    .dataframe thead th {\n",
       "        text-align: right;\n",
       "    }\n",
       "</style>\n",
       "<table border=\"1\" class=\"dataframe\">\n",
       "  <thead>\n",
       "    <tr style=\"text-align: right;\">\n",
       "      <th></th>\n",
       "      <th>Unnamed: 0</th>\n",
       "      <th>tag</th>\n",
       "      <th>dec_norm_diff</th>\n",
       "      <th>base uselessness score</th>\n",
       "      <th>fw_dead</th>\n",
       "      <th>fw_freq</th>\n",
       "      <th>lmsys_dead</th>\n",
       "      <th>lmsys_freq</th>\n",
       "      <th>freq</th>\n",
       "      <th>dead</th>\n",
       "      <th>avg_activation</th>\n",
       "      <th>lmsys_avg_activation</th>\n",
       "      <th>fw_avg_activation</th>\n",
       "      <th>dec_base_norm</th>\n",
       "      <th>dec_instruct_norm</th>\n",
       "      <th>dec_norm_diff.1</th>\n",
       "      <th>enc_instruct_norm</th>\n",
       "      <th>enc_norm_diff</th>\n",
       "      <th>dec_cos_sim</th>\n",
       "      <th>enc_cos_sim</th>\n",
       "    </tr>\n",
       "  </thead>\n",
       "  <tbody>\n",
       "    <tr>\n",
       "      <th>6573</th>\n",
       "      <td>6573</td>\n",
       "      <td>IT only</td>\n",
       "      <td>0.021687</td>\n",
       "      <td>0.418300</td>\n",
       "      <td>False</td>\n",
       "      <td>0.006184</td>\n",
       "      <td>False</td>\n",
       "      <td>0.003779</td>\n",
       "      <td>0.005105</td>\n",
       "      <td>False</td>\n",
       "      <td>1.549849</td>\n",
       "      <td>1.820225</td>\n",
       "      <td>1.415488</td>\n",
       "      <td>0.025681</td>\n",
       "      <td>0.592092</td>\n",
       "      <td>0.021687</td>\n",
       "      <td>1.328596</td>\n",
       "      <td>0.291929</td>\n",
       "      <td>0.777348</td>\n",
       "      <td>-0.448483</td>\n",
       "    </tr>\n",
       "    <tr>\n",
       "      <th>28107</th>\n",
       "      <td>28107</td>\n",
       "      <td>IT only</td>\n",
       "      <td>0.029529</td>\n",
       "      <td>0.433512</td>\n",
       "      <td>False</td>\n",
       "      <td>0.003007</td>\n",
       "      <td>False</td>\n",
       "      <td>0.002900</td>\n",
       "      <td>0.002959</td>\n",
       "      <td>False</td>\n",
       "      <td>1.541543</td>\n",
       "      <td>1.534646</td>\n",
       "      <td>1.546954</td>\n",
       "      <td>0.033437</td>\n",
       "      <td>0.566170</td>\n",
       "      <td>0.029529</td>\n",
       "      <td>1.670087</td>\n",
       "      <td>0.229553</td>\n",
       "      <td>0.846296</td>\n",
       "      <td>-0.338007</td>\n",
       "    </tr>\n",
       "    <tr>\n",
       "      <th>30257</th>\n",
       "      <td>30257</td>\n",
       "      <td>IT only</td>\n",
       "      <td>0.018443</td>\n",
       "      <td>0.177384</td>\n",
       "      <td>False</td>\n",
       "      <td>0.005999</td>\n",
       "      <td>False</td>\n",
       "      <td>0.004461</td>\n",
       "      <td>0.005309</td>\n",
       "      <td>False</td>\n",
       "      <td>1.523861</td>\n",
       "      <td>1.607106</td>\n",
       "      <td>1.473516</td>\n",
       "      <td>0.021308</td>\n",
       "      <td>0.577670</td>\n",
       "      <td>0.018443</td>\n",
       "      <td>1.472819</td>\n",
       "      <td>0.246046</td>\n",
       "      <td>0.785931</td>\n",
       "      <td>-0.285568</td>\n",
       "    </tr>\n",
       "    <tr>\n",
       "      <th>30282</th>\n",
       "      <td>30282</td>\n",
       "      <td>IT only</td>\n",
       "      <td>0.083278</td>\n",
       "      <td>0.387698</td>\n",
       "      <td>False</td>\n",
       "      <td>0.000793</td>\n",
       "      <td>False</td>\n",
       "      <td>0.001005</td>\n",
       "      <td>0.000888</td>\n",
       "      <td>False</td>\n",
       "      <td>3.768305</td>\n",
       "      <td>4.061713</td>\n",
       "      <td>3.466022</td>\n",
       "      <td>0.141142</td>\n",
       "      <td>0.847421</td>\n",
       "      <td>0.083278</td>\n",
       "      <td>1.288793</td>\n",
       "      <td>0.273171</td>\n",
       "      <td>0.910181</td>\n",
       "      <td>-0.114625</td>\n",
       "    </tr>\n",
       "    <tr>\n",
       "      <th>47785</th>\n",
       "      <td>47785</td>\n",
       "      <td>IT only</td>\n",
       "      <td>0.023032</td>\n",
       "      <td>0.343355</td>\n",
       "      <td>False</td>\n",
       "      <td>0.008200</td>\n",
       "      <td>False</td>\n",
       "      <td>0.003637</td>\n",
       "      <td>0.006154</td>\n",
       "      <td>False</td>\n",
       "      <td>1.455213</td>\n",
       "      <td>1.349548</td>\n",
       "      <td>1.493328</td>\n",
       "      <td>0.026951</td>\n",
       "      <td>0.585070</td>\n",
       "      <td>0.023032</td>\n",
       "      <td>1.363049</td>\n",
       "      <td>0.240307</td>\n",
       "      <td>0.842013</td>\n",
       "      <td>-0.437924</td>\n",
       "    </tr>\n",
       "    <tr>\n",
       "      <th>50194</th>\n",
       "      <td>50194</td>\n",
       "      <td>IT only</td>\n",
       "      <td>0.040444</td>\n",
       "      <td>0.473485</td>\n",
       "      <td>False</td>\n",
       "      <td>0.008314</td>\n",
       "      <td>False</td>\n",
       "      <td>0.002499</td>\n",
       "      <td>0.005706</td>\n",
       "      <td>False</td>\n",
       "      <td>2.043869</td>\n",
       "      <td>1.782527</td>\n",
       "      <td>2.107760</td>\n",
       "      <td>0.054632</td>\n",
       "      <td>0.675405</td>\n",
       "      <td>0.040444</td>\n",
       "      <td>1.452770</td>\n",
       "      <td>0.308710</td>\n",
       "      <td>0.859633</td>\n",
       "      <td>-0.357146</td>\n",
       "    </tr>\n",
       "    <tr>\n",
       "      <th>61256</th>\n",
       "      <td>61256</td>\n",
       "      <td>IT only</td>\n",
       "      <td>0.045635</td>\n",
       "      <td>0.335513</td>\n",
       "      <td>False</td>\n",
       "      <td>0.001092</td>\n",
       "      <td>False</td>\n",
       "      <td>0.001443</td>\n",
       "      <td>0.001249</td>\n",
       "      <td>False</td>\n",
       "      <td>2.500252</td>\n",
       "      <td>2.788457</td>\n",
       "      <td>2.190607</td>\n",
       "      <td>0.067924</td>\n",
       "      <td>0.744215</td>\n",
       "      <td>0.045635</td>\n",
       "      <td>1.429911</td>\n",
       "      <td>0.263491</td>\n",
       "      <td>0.869656</td>\n",
       "      <td>-0.311577</td>\n",
       "    </tr>\n",
       "    <tr>\n",
       "      <th>62118</th>\n",
       "      <td>62118</td>\n",
       "      <td>IT only</td>\n",
       "      <td>0.048508</td>\n",
       "      <td>0.264237</td>\n",
       "      <td>False</td>\n",
       "      <td>0.000721</td>\n",
       "      <td>False</td>\n",
       "      <td>0.002780</td>\n",
       "      <td>0.001645</td>\n",
       "      <td>False</td>\n",
       "      <td>2.335682</td>\n",
       "      <td>2.466370</td>\n",
       "      <td>1.925904</td>\n",
       "      <td>0.064111</td>\n",
       "      <td>0.660831</td>\n",
       "      <td>0.048508</td>\n",
       "      <td>1.639057</td>\n",
       "      <td>0.256950</td>\n",
       "      <td>0.862455</td>\n",
       "      <td>-0.295498</td>\n",
       "    </tr>\n",
       "    <tr>\n",
       "      <th>66030</th>\n",
       "      <td>66030</td>\n",
       "      <td>IT only</td>\n",
       "      <td>0.079421</td>\n",
       "      <td>-0.058537</td>\n",
       "      <td>False</td>\n",
       "      <td>0.003204</td>\n",
       "      <td>False</td>\n",
       "      <td>0.002348</td>\n",
       "      <td>0.002820</td>\n",
       "      <td>False</td>\n",
       "      <td>1.594870</td>\n",
       "      <td>1.519187</td>\n",
       "      <td>1.639983</td>\n",
       "      <td>0.085707</td>\n",
       "      <td>0.539576</td>\n",
       "      <td>0.079421</td>\n",
       "      <td>1.477431</td>\n",
       "      <td>0.243923</td>\n",
       "      <td>0.930529</td>\n",
       "      <td>-0.074965</td>\n",
       "    </tr>\n",
       "    <tr>\n",
       "      <th>69121</th>\n",
       "      <td>69121</td>\n",
       "      <td>IT only</td>\n",
       "      <td>0.032658</td>\n",
       "      <td>0.166980</td>\n",
       "      <td>False</td>\n",
       "      <td>0.003635</td>\n",
       "      <td>False</td>\n",
       "      <td>0.003979</td>\n",
       "      <td>0.003789</td>\n",
       "      <td>False</td>\n",
       "      <td>1.592126</td>\n",
       "      <td>1.632792</td>\n",
       "      <td>1.555923</td>\n",
       "      <td>0.036792</td>\n",
       "      <td>0.563287</td>\n",
       "      <td>0.032658</td>\n",
       "      <td>1.574248</td>\n",
       "      <td>0.240073</td>\n",
       "      <td>0.871056</td>\n",
       "      <td>-0.367297</td>\n",
       "    </tr>\n",
       "  </tbody>\n",
       "</table>\n",
       "</div>"
      ],
      "text/plain": [
       "       Unnamed: 0      tag  dec_norm_diff  base uselessness score  fw_dead  \\\n",
       "6573         6573  IT only       0.021687                0.418300    False   \n",
       "28107       28107  IT only       0.029529                0.433512    False   \n",
       "30257       30257  IT only       0.018443                0.177384    False   \n",
       "30282       30282  IT only       0.083278                0.387698    False   \n",
       "47785       47785  IT only       0.023032                0.343355    False   \n",
       "50194       50194  IT only       0.040444                0.473485    False   \n",
       "61256       61256  IT only       0.045635                0.335513    False   \n",
       "62118       62118  IT only       0.048508                0.264237    False   \n",
       "66030       66030  IT only       0.079421               -0.058537    False   \n",
       "69121       69121  IT only       0.032658                0.166980    False   \n",
       "\n",
       "        fw_freq  lmsys_dead  lmsys_freq      freq   dead  avg_activation  \\\n",
       "6573   0.006184       False    0.003779  0.005105  False        1.549849   \n",
       "28107  0.003007       False    0.002900  0.002959  False        1.541543   \n",
       "30257  0.005999       False    0.004461  0.005309  False        1.523861   \n",
       "30282  0.000793       False    0.001005  0.000888  False        3.768305   \n",
       "47785  0.008200       False    0.003637  0.006154  False        1.455213   \n",
       "50194  0.008314       False    0.002499  0.005706  False        2.043869   \n",
       "61256  0.001092       False    0.001443  0.001249  False        2.500252   \n",
       "62118  0.000721       False    0.002780  0.001645  False        2.335682   \n",
       "66030  0.003204       False    0.002348  0.002820  False        1.594870   \n",
       "69121  0.003635       False    0.003979  0.003789  False        1.592126   \n",
       "\n",
       "       lmsys_avg_activation  fw_avg_activation  dec_base_norm  \\\n",
       "6573               1.820225           1.415488       0.025681   \n",
       "28107              1.534646           1.546954       0.033437   \n",
       "30257              1.607106           1.473516       0.021308   \n",
       "30282              4.061713           3.466022       0.141142   \n",
       "47785              1.349548           1.493328       0.026951   \n",
       "50194              1.782527           2.107760       0.054632   \n",
       "61256              2.788457           2.190607       0.067924   \n",
       "62118              2.466370           1.925904       0.064111   \n",
       "66030              1.519187           1.639983       0.085707   \n",
       "69121              1.632792           1.555923       0.036792   \n",
       "\n",
       "       dec_instruct_norm  dec_norm_diff.1  enc_instruct_norm  enc_norm_diff  \\\n",
       "6573            0.592092         0.021687           1.328596       0.291929   \n",
       "28107           0.566170         0.029529           1.670087       0.229553   \n",
       "30257           0.577670         0.018443           1.472819       0.246046   \n",
       "30282           0.847421         0.083278           1.288793       0.273171   \n",
       "47785           0.585070         0.023032           1.363049       0.240307   \n",
       "50194           0.675405         0.040444           1.452770       0.308710   \n",
       "61256           0.744215         0.045635           1.429911       0.263491   \n",
       "62118           0.660831         0.048508           1.639057       0.256950   \n",
       "66030           0.539576         0.079421           1.477431       0.243923   \n",
       "69121           0.563287         0.032658           1.574248       0.240073   \n",
       "\n",
       "       dec_cos_sim  enc_cos_sim  \n",
       "6573      0.777348    -0.448483  \n",
       "28107     0.846296    -0.338007  \n",
       "30257     0.785931    -0.285568  \n",
       "30282     0.910181    -0.114625  \n",
       "47785     0.842013    -0.437924  \n",
       "50194     0.859633    -0.357146  \n",
       "61256     0.869656    -0.311577  \n",
       "62118     0.862455    -0.295498  \n",
       "66030     0.930529    -0.074965  \n",
       "69121     0.871056    -0.367297  "
      ]
     },
     "execution_count": 107,
     "metadata": {},
     "output_type": "execute_result"
    }
   ],
   "source": [
    "features_df.loc[stage2_it_only_indices]"
   ]
  },
  {
   "cell_type": "code",
   "execution_count": 77,
   "metadata": {},
   "outputs": [
    {
     "data": {
      "text/plain": [
       "(10,)"
      ]
     },
     "execution_count": 77,
     "metadata": {},
     "output_type": "execute_result"
    }
   ],
   "source": [
    "mean_data = np.nanmean(relproj_data[shared_indices], axis=0)\n",
    "mean_data.shape"
   ]
  },
  {
   "cell_type": "code",
   "execution_count": 78,
   "metadata": {},
   "outputs": [
    {
     "data": {
      "text/plain": [
       "np.float32(inf)"
      ]
     },
     "execution_count": 78,
     "metadata": {},
     "output_type": "execute_result"
    }
   ],
   "source": [
    "mean_data[0]"
   ]
  },
  {
   "cell_type": "code",
   "execution_count": null,
   "metadata": {},
   "outputs": [],
   "source": [
    "import seaborn as sns\n",
    "import matplotlib.pyplot as plt\n",
    "import numpy as np\n",
    "\n",
    "# Create figure with appropriate size\n",
    "plt.figure(figsize=(15, 10))\n",
    "\n",
    "# Plot one line per IT only feature\n",
    "for idx in it_only_indices:\n",
    "    feature_data = corre_data_it[idx]\n",
    "    plt.plot(range(N_BUCKETS), feature_data, alpha=0.3, color='blue')\n",
    "\n",
    "# Calculate and plot mean line\n",
    "mean_data = np.nanmean(relproj_data[it_only_indices], axis=0)\n",
    "plt.plot(range(N_BUCKETS), mean_data, color='red', linewidth=2, label='Mean')\n",
    "\n",
    "# Add labels\n",
    "plt.xlabel('Activation Percentile Buckets')\n",
    "plt.ylabel('Relative Projection')\n",
    "plt.title('IT Only Features: Relative Projections Across Activation Buckets')\n",
    "plt.xticks(range(N_BUCKETS), [f\"{i}0%-{i+1}0%\" for i in range(0, 10)], rotation=45)\n",
    "plt.legend()\n",
    "\n",
    "plt.tight_layout()\n",
    "plt.show()"
   ]
  },
  {
   "cell_type": "code",
   "execution_count": null,
   "metadata": {},
   "outputs": [],
   "source": [
    "import seaborn as sns\n",
    "import matplotlib.pyplot as plt\n",
    "import numpy as np\n",
    "\n",
    "# Create figure with appropriate size\n",
    "plt.figure(figsize=(15, 10))\n",
    "\n",
    "# Plot one line per IT only feature\n",
    "for idx in it_only_indices:\n",
    "    feature_data = relproj_data[idx]\n",
    "    plt.plot(range(N_BUCKETS), feature_data, alpha=0.3, color='blue')\n",
    "\n",
    "# Calculate and plot mean line\n",
    "mean_data = np.nanmean(relproj_data[it_only_indices], axis=0)\n",
    "plt.plot(range(N_BUCKETS), mean_data, color='red', linewidth=2, label='Mean')\n",
    "\n",
    "# Add labels\n",
    "plt.xlabel('Activation Percentile Buckets')\n",
    "plt.ylabel('Relative Projection')\n",
    "plt.title('IT Only Features: Relative Projections Across Activation Buckets')\n",
    "plt.xticks(range(N_BUCKETS), [f\"{i}0%-{i+1}0%\" for i in range(0, 10)], rotation=45)\n",
    "plt.legend()\n",
    "\n",
    "plt.tight_layout()\n",
    "plt.show()"
   ]
  },
  {
   "cell_type": "code",
   "execution_count": null,
   "metadata": {},
   "outputs": [],
   "source": [
    "import seaborn as sns\n",
    "import matplotlib.pyplot as plt\n",
    "import numpy as np\n",
    "\n",
    "# Convert to numpy and replace nans with 0\n",
    "heatmap_data = data[37785:37785+2, :]\n",
    "data_it = \n",
    "# Create figure with appropriate size\n",
    "plt.figure(figsize=(15, 10))\n",
    "\n",
    "# Create heatmap with mask for nan values\n",
    "sns.heatmap(heatmap_data, \n",
    "            cmap='viridis',  # You can change the colormap as needed\n",
    "            xticklabels=[f\"{i}0%-{i+1}0%\" for i in range(0, 10)],  # Start x-axis labels from start_percentile, show every 20th\n",
    "            yticklabels=False,  # Don't show y-axis labels as there are too many features\n",
    "            cbar_kws={'label': 'Relative Projection'},\n",
    "            mask=np.isnan(heatmap_data))  # This will make NaN values appear white\n",
    "\n",
    "\n",
    "# Add labels\n",
    "plt.xlabel('Activation Percentile Buckets')\n",
    "plt.ylabel('Features')\n",
    "plt.title('Feature Relative Projections Across Activation Buckets')\n",
    "\n",
    "plt.tight_layout()\n",
    "plt.show()"
   ]
  },
  {
   "cell_type": "code",
   "execution_count": 16,
   "metadata": {},
   "outputs": [
    {
     "data": {
      "image/png": "[encoded data removed]",
      "text/plain": [
       "<Figure size 1500x1000 with 2 Axes>"
      ]
     },
     "metadata": {},
     "output_type": "display_data"
    }
   ],
   "source": [
    "import seaborn as sns\n",
    "import matplotlib.pyplot as plt\n",
    "import numpy as np\n",
    "\n",
    "# Convert to numpy and replace nans with 0\n",
    "heatmap_data = data[37785:37785+2, :]\n",
    "data_it = \n",
    "# Create figure with appropriate size\n",
    "plt.figure(figsize=(15, 10))\n",
    "\n",
    "# Create heatmap with mask for nan values\n",
    "sns.heatmap(heatmap_data, \n",
    "            cmap='viridis',  # You can change the colormap as needed\n",
    "            xticklabels=[f\"{i}0%-{i+1}0%\" for i in range(0, 10)],  # Start x-axis labels from start_percentile, show every 20th\n",
    "            yticklabels=False,  # Don't show y-axis labels as there are too many features\n",
    "            cbar_kws={'label': 'Relative Projection'},\n",
    "            mask=np.isnan(heatmap_data))  # This will make NaN values appear white\n",
    "\n",
    "\n",
    "# Add labels\n",
    "plt.xlabel('Activation Percentile Buckets')\n",
    "plt.ylabel('Features')\n",
    "plt.title('Feature Relative Projections Across Activation Buckets')\n",
    "\n",
    "plt.tight_layout()\n",
    "plt.show()"
   ]
  },
  {
   "cell_type": "code",
   "execution_count": 18,
   "metadata": {},
   "outputs": [],
   "source": [
    "corre_data = results[\"bucket_correlations\"][\"base\"].cpu().numpy()"
   ]
  },
  {
   "cell_type": "code",
   "execution_count": 25,
   "metadata": {},
   "outputs": [
    {
     "data": {
      "text/plain": [
       "dict_keys(['correlations', 'bucket_correlations', 'relproj', 'bucket_relproj'])"
      ]
     },
     "execution_count": 25,
     "metadata": {},
     "output_type": "execute_result"
    }
   ],
   "source": [
    "results.keys()"
   ]
  },
  {
   "cell_type": "code",
   "execution_count": 26,
   "metadata": {},
   "outputs": [
    {
     "data": {
      "image/png": "[encoded data removed]",
      "text/plain": [
       "<Figure size 1500x500 with 2 Axes>"
      ]
     },
     "metadata": {},
     "output_type": "display_data"
    }
   ],
   "source": [
    "import seaborn as sns\n",
    "import matplotlib.pyplot as plt\n",
    "import numpy as np\n",
    "\n",
    "start_percentile = 10\n",
    "# Convert to numpy and replace nans with 0\n",
    "heatmap_data = corre_data[:, :]\n",
    "\n",
    "# Create figure with appropriate size\n",
    "plt.figure(figsize=(15, 5))\n",
    "\n",
    "# Create heatmap with mask for nan values\n",
    "sns.heatmap(heatmap_data, \n",
    "            cmap='viridis',  # You can change the colormap as needed\n",
    "            xticklabels=[f\"{i}0%-{i+1}0%\" for i in range(0, 10)],  # Start x-axis labels from start_percentile, show every 20th\n",
    "            yticklabels=False,  # Don't show y-axis labels as there are too many features\n",
    "            cbar_kws={'label': 'Pearson Correlation'},\n",
    "            mask=np.isnan(heatmap_data))  # This will make NaN values appear white\n",
    "\n",
    "\n",
    "# Add labels\n",
    "plt.xlabel('Activation Percentile Buckets')\n",
    "plt.ylabel('Features')\n",
    "plt.title('Feature Activation Pearson Correlation with Base Activation projected onto Feature Vector')\n",
    "\n",
    "plt.tight_layout()\n",
    "plt.show()"
   ]
  }
 ],
 "metadata": {
  "kernelspec": {
   "display_name": "arena",
   "language": "python",
   "name": "python3"
  },
  "language_info": {
   "codemirror_mode": {
    "name": "ipython",
    "version": 3
   },
   "file_extension": ".py",
   "mimetype": "text/x-python",
   "name": "python",
   "nbconvert_exporter": "python",
   "pygments_lexer": "ipython3",
   "version": "3.11.9"
  }
 },
 "nbformat": 4,
 "nbformat_minor": 2
}
