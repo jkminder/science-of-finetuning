{
 "cells": [
  {
   "cell_type": "code",
   "execution_count": null,
   "metadata": {},
   "outputs": [],
   "source": [
    "! pip install -U kaleido && pip install git+https://github.com/jkminder/pycolors.git && pip install -e .../dictionary_learning"
   ]
  },
  {
   "cell_type": "code",
   "execution_count": null,
   "metadata": {},
   "outputs": [
    {
     "name": "stdout",
     "output_type": "stream",
     "text": [
      "The autoreload extension is already loaded. To reload it, use:\n",
      "  %reload_ext autoreload\n"
     ]
    }
   ],
   "source": [
    "%load_ext autoreload\n",
    "%autoreload 2\n",
    "import sys\n",
    "\n",
    "sys.path.append(\"../\")\n",
    "from transformers import AutoModelForCausalLM, AutoTokenizer\n",
    "from dictionary_learning.cache import ActivationCache\n",
    "from dictionary_learning.dictionary import CrossCoder\n",
    "from datasets import load_from_disk, load_dataset\n",
    "from loguru import logger\n",
    "import torch as th\n",
    "from nnsight import LanguageModel\n",
    "from pathlib import Path\n",
    "from pycolors import TailwindColorPalette\n",
    "import os\n",
    "from tools.feature_analysis import plot_feature_freq, plot_feature_diff\n",
    "from pathlib import Path\n",
    "# from dlabutils import model_path"
   ]
  },
  {
   "cell_type": "code",
   "execution_count": 8,
   "metadata": {},
   "outputs": [],
   "source": [
    "cc_name = \"l13-mu4.1e-02-lr1e-04\"\n",
    "stats_path = Path(\"../stats/\")\n",
    "save_dir = Path(f\"../plots/\") / model_name\n",
    "base_dir = Path(f\"../results/eval_crosscoder/{cc_name}_ae_final/data\")\n",
    "\n",
    "os.makedirs(save_dir, exist_ok=True)\n",
    "\n",
    "stats_fineweb = th.load(stats_path / model_name / \"fineweb.pt\", map_location=\"cpu\")\n",
    "stats_lmsys = th.load(stats_path / model_name / \"lmsys.pt\", map_location=\"cpu\")"
   ]
  },
  {
   "cell_type": "code",
   "execution_count": null,
   "metadata": {},
   "outputs": [],
   "source": [
    "for rescaled in [True, False]:\n",
    "    for split in [\"joint\", \"instruction\", \"base\"]:\n",
    "        plot_feature_freq(\n",
    "            save_dir,\n",
    "            stats_fineweb,\n",
    "            stats_lmsys,\n",
    "            group_name=\"base\",\n",
    "            split=split,\n",
    "            rescaled=True,\n",
    "            topk=200,\n",
    "            indices_path=base_dir,\n",
    "            save=True,\n",
    "        )\n",
    "        plot_feature_freq(\n",
    "            save_dir,\n",
    "            stats_fineweb,\n",
    "            stats_lmsys,\n",
    "            group_name=\"instruction\",\n",
    "            split=split,\n",
    "            rescaled=True,\n",
    "            topk=200,\n",
    "            indices_path=base_dir,\n",
    "            save=True,\n",
    "        )\n",
    "        plot_feature_freq(\n",
    "            save_dir,\n",
    "            stats_fineweb,\n",
    "            stats_lmsys,\n",
    "            group_name=\"shared\",\n",
    "            split=split,\n",
    "            rescaled=True,\n",
    "            topk=200,\n",
    "            indices_path=base_dir,\n",
    "            save=True,\n",
    "        )\n",
    "        plot_feature_freq(\n",
    "            save_dir,\n",
    "            stats_fineweb,\n",
    "            stats_lmsys,\n",
    "            group_name=None,\n",
    "            split=split,\n",
    "            rescaled=True,\n",
    "            topk=200,\n",
    "            indices_path=base_dir,\n",
    "            save=True,\n",
    "        )"
   ]
  },
  {
   "cell_type": "code",
   "execution_count": null,
   "metadata": {},
   "outputs": [],
   "source": [
    "for rescaled in [True, False]:\n",
    "    for group in [\"base\", \"instruction\", \"shared\", None]:\n",
    "        plot_feature_diff(\n",
    "            save_dir,\n",
    "            stats_fineweb,\n",
    "            stats_lmsys,\n",
    "            group_name=group,\n",
    "            rescaled=rescaled,\n",
    "            indices_path=base_dir,\n",
    "            save=True,\n",
    "        )"
   ]
  },
  {
   "cell_type": "code",
   "execution_count": 11,
   "metadata": {},
   "outputs": [
    {
     "data": {
      "text/plain": [
       "CombinedFeatureStatistics(rescaled=FeatureStatistics(base=FeatureStatistic(avg_activation=tensor([2.2304e-03, 1.0332e-03, 7.5188e-06,  ..., 9.1480e-04, 4.0949e-04,\n",
       "        1.1720e-04]), non_zero_counts=tensor([10947,  6632,   107,  ...,  1240, 12559,   622]), total_tokens=tensor(11930591), is_normalized=True), instruction=FeatureStatistic(avg_activation=tensor([0.0147, 0.0014, 0.0002,  ..., 0.0016, 0.0015, 0.0003]), non_zero_counts=tensor([133964,   6756,   2800,  ...,   2771,   9807,   1869]), total_tokens=tensor(11930591), is_normalized=True), joint=FeatureStatistic(avg_activation=tensor([2.0735e-03, 2.1034e-03, 1.0883e-05,  ..., 4.4947e-03, 2.0572e-03,\n",
       "        4.9375e-04]), non_zero_counts=tensor([8070, 1591,   46,  ..., 1170, 3028,  374]), total_tokens=tensor(11930591), is_normalized=True), abs_activation_diff=tensor([-0.0125, -0.0004, -0.0002,  ..., -0.0007, -0.0011, -0.0001]), rel_activation_diff=tensor([0.0717, 0.4868, 0.0349,  ..., 0.2005, 0.5493, 0.2123]), either_non_zero_counts=tensor([144213,  12573,   2895,  ...,   3071,  20980,   2269]), is_normalized=True), normal=FeatureStatistics(base=FeatureStatistic(avg_activation=tensor([5.0228e-03, 1.4769e-03, 7.6821e-06,  ..., 8.4694e-04, 6.5530e-04,\n",
       "        1.3756e-04]), non_zero_counts=tensor([10947,  6632,   107,  ...,  1240, 12559,   622]), total_tokens=tensor(11930591), is_normalized=True), instruction=FeatureStatistic(avg_activation=tensor([0.0234, 0.0015, 0.0002,  ..., 0.0014, 0.0018, 0.0003]), non_zero_counts=tensor([133964,   6756,   2800,  ...,   2771,   9807,   1869]), total_tokens=tensor(11930591), is_normalized=True), joint=FeatureStatistic(avg_activation=tensor([1.9292e-03, 1.2647e-03, 5.4740e-06,  ..., 1.9862e-03, 1.4398e-03,\n",
       "        2.6827e-04]), non_zero_counts=tensor([8070, 1591,   46,  ..., 1170, 3028,  374]), total_tokens=tensor(11930591), is_normalized=True), abs_activation_diff=tensor([-1.8338e-02,  2.9697e-06, -1.5316e-04,  ..., -5.0958e-04,\n",
       "        -1.1781e-03, -1.2863e-04]), rel_activation_diff=tensor([0.0719, 0.4917, 0.0349,  ..., 0.2092, 0.5525, 0.2161]), either_non_zero_counts=tensor([144213,  12573,   2895,  ...,   3071,  20980,   2269]), is_normalized=True))"
      ]
     },
     "execution_count": 11,
     "metadata": {},
     "output_type": "execute_result"
    }
   ],
   "source": [
    "stats_lmsys"
   ]
  },
  {
   "cell_type": "code",
   "execution_count": 25,
   "metadata": {},
   "outputs": [
    {
     "name": "stderr",
     "output_type": "stream",
     "text": [
      "/tmp/ipykernel_1912165/3879260724.py:4: FutureWarning: You are using `torch.load` with `weights_only=False` (the current default value), which uses the default pickle module implicitly. It is possible to construct malicious pickle data which will execute arbitrary code during unpickling (See https://github.com/pytorch/pytorch/blob/main/SECURITY.md#untrusted-models for more details). In a future release, the default value for `weights_only` will be flipped to `True`. This limits the functions that could be executed during unpickling. Arbitrary objects will no longer be allowed to be loaded via this mode unless they are explicitly allowlisted by the user via `torch.serialization.add_safe_globals`. We recommend you start setting `weights_only=True` for any use case where you don't have full control of the loaded file. Please open an issue on GitHub for any issues related to this experimental feature.\n",
      "  indices = th.load(base_dir / \"only_it_decoder_feature_indices.pt\", map_location=\"cpu\")\n"
     ]
    }
   ],
   "source": [
    "# Get Fossil Features\n",
    "# Load instruction only indices\n",
    "from tools.feature_utils import indices_to_mask, mask_to_indices\n",
    "indices = th.load(base_dir / \"only_it_decoder_feature_indices.pt\", map_location=\"cpu\")\n",
    "mask = indices_to_mask(indices, stats_lmsys.rescaled.base.avg_activation.shape[0])"
   ]
  },
  {
   "cell_type": "code",
   "execution_count": 26,
   "metadata": {},
   "outputs": [
    {
     "data": {
      "text/plain": [
       "45"
      ]
     },
     "execution_count": 26,
     "metadata": {},
     "output_type": "execute_result"
    }
   ],
   "source": [
    "lmsys_it_fossil_mask = mask & (stats_lmsys.rescaled.rel_activation_diff > 0.95)\n",
    "lmsys_it_fossil_indices = mask_to_indices(lmsys_it_fossil_mask)\n",
    "len(lmsys_it_fossil_indices)"
   ]
  },
  {
   "cell_type": "code",
   "execution_count": 27,
   "metadata": {},
   "outputs": [],
   "source": [
    "th.save(lmsys_it_fossil_indices, base_dir / \"lmsys_it_fossil_indices.pt\")"
   ]
  },
  {
   "cell_type": "code",
   "execution_count": 28,
   "metadata": {},
   "outputs": [
    {
     "data": {
      "text/plain": [
       "PosixPath('/dlabscratch1/cdumas/representation-structure-comparison/notebooks/results/eval_crosscoder/l13-mu4.1e-02-lr1e-04_ae_final/data/lmsys_it_fossil_indices.pt')"
      ]
     },
     "execution_count": 28,
     "metadata": {},
     "output_type": "execute_result"
    }
   ],
   "source": [
    "base_dir / \"lmsys_it_fossil_indices.pt\""
   ]
  },
  {
   "cell_type": "code",
   "execution_count": 31,
   "metadata": {},
   "outputs": [],
   "source": [
    "for fossil in lmsys_it_fossil_indices:\n",
    "    assert fossil in indices"
   ]
  },
  {
   "cell_type": "code",
   "execution_count": null,
   "metadata": {},
   "outputs": [],
   "source": [
    "stats_lmsys"
   ]
  },
  {
   "cell_type": "code",
   "execution_count": null,
   "metadata": {},
   "outputs": [],
   "source": [
    "model_name = \"l13-mu4.1e-02-lr1e-04\"\n",
    "stats_path = Path(f\"/dlabscratch1/jminder/repositories/representation-structure-comparison/stats/\")\n",
    "save_dir = Path(f\"/dlabscratch1/jminder/repositories/representation-structure-comparison/plots/\") / model_name\n",
    "base_dir = Path(f\"/dlabscratch1/cdumas/representation-structure-comparison/notebooks/results/eval_crosscoder/l13-mu4.1e-02-lr1e-04_ae_final/data\")\n",
    "\n",
    "os.makedirs(save_dir, exist_ok=True)\n",
    "\n",
    "stats_fineweb = th.load(stats_path / model_name / \"fineweb.pt\").to(\"cpu\")\n",
    "stats_lmsys = th.load(stats_path / model_name / \"lmsys.pt\").to(\"cpu\")"
   ]
  },
  {
   "cell_type": "code",
   "execution_count": null,
   "metadata": {},
   "outputs": [],
   "source": [
    "lmsys_it_fossil_mask = mask & (stats_lmsys.rescaled.rel_activation_diff > 0.95)\n",
    "lmsys_it_fossil_indices = mask_to_indices(lmsys_it_fossil_mask)\n",
    "len(lmsys_it_fossil_indices)"
   ]
  },
  {
   "cell_type": "code",
   "execution_count": 27,
   "metadata": {},
   "outputs": [],
   "source": [
    "th.save(lmsys_it_fossil_indices, base_dir / \"lmsys_it_fossil_indices.pt\")"
   ]
  },
  {
   "cell_type": "code",
   "execution_count": null,
   "metadata": {},
   "outputs": [],
   "source": [
    "base_dir / \"lmsys_it_fossil_indices.pt\""
   ]
  },
  {
   "cell_type": "code",
   "execution_count": 31,
   "metadata": {},
   "outputs": [],
   "source": [
    "for fossil in lmsys_it_fossil_indices:\n",
    "    assert fossil in indices"
   ]
  },
  {
   "cell_type": "code",
   "execution_count": null,
   "metadata": {},
   "outputs": [],
   "source": [
    "stats_lmsys"
   ]
  },
  {
   "cell_type": "code",
   "execution_count": null,
   "metadata": {},
   "outputs": [],
   "source": [
    "# Get Fossil Features\n",
    "# Load instruction only indices\n",
    "from tools.feature_utils import indices_to_mask, mask_to_indices\n",
    "indices = th.load(base_dir / \"only_it_decoder_feature_indices.pt\", map_location=\"cpu\")\n",
    "mask = indices_to_mask(indices, stats_lmsys.rescaled.base.avg_activation.shape[0])"
   ]
  },
  {
   "cell_type": "code",
   "execution_count": null,
   "metadata": {},
   "outputs": [],
   "source": [
    "lmsys_it_fossil_mask = mask & (stats_lmsys.rescaled.rel_activation_diff > 0.95)\n",
    "lmsys_it_fossil_indices = mask_to_indices(lmsys_it_fossil_mask)\n",
    "len(lmsys_it_fossil_indices)"
   ]
  },
  {
   "cell_type": "code",
   "execution_count": 27,
   "metadata": {},
   "outputs": [],
   "source": [
    "th.save(lmsys_it_fossil_indices, base_dir / \"lmsys_it_fossil_indices.pt\")"
   ]
  },
  {
   "cell_type": "code",
   "execution_count": null,
   "metadata": {},
   "outputs": [],
   "source": [
    "base_dir / \"lmsys_it_fossil_indices.pt\""
   ]
  },
  {
   "cell_type": "code",
   "execution_count": 31,
   "metadata": {},
   "outputs": [],
   "source": [
    "for fossil in lmsys_it_fossil_indices:\n",
    "    assert fossil in indices"
   ]
  },
  {
   "cell_type": "code",
   "execution_count": null,
   "metadata": {},
   "outputs": [],
   "source": []
  }
 ],
 "metadata": {
  "kernelspec": {
   "display_name": "default",
   "language": "python",
   "name": "python3"
  },
  "language_info": {
   "codemirror_mode": {
    "name": "ipython",
    "version": 3
   },
   "file_extension": ".py",
   "mimetype": "text/x-python",
   "name": "python",
   "nbconvert_exporter": "python",
   "pygments_lexer": "ipython3",
   "version": "3.11.9"
  }
 },
 "nbformat": 4,
 "nbformat_minor": 2
}
