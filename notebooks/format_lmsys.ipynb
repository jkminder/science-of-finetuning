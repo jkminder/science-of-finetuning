{
 "cells": [
  {
   "cell_type": "markdown",
   "metadata": {},
   "source": [
    "## This notebook formats the LMSYS chat dataset into text using the gemma chat template"
   ]
  },
  {
   "cell_type": "code",
   "execution_count": 1,
   "metadata": {},
   "outputs": [],
   "source": [
    "from datasets import load_dataset\n",
    "from transformers import AutoTokenizer\n",
    "from tqdm.notebook import tqdm\n",
    "from pathlib import Path\n",
    "\n",
    "DATA_PATH = Path(\"../datasets/\")"
   ]
  },
  {
   "cell_type": "markdown",
   "metadata": {},
   "source": [
    "## Make dataset"
   ]
  },
  {
   "cell_type": "code",
   "execution_count": 3,
   "metadata": {},
   "outputs": [
    {
     "data": {
      "application/vnd.jupyter.widget-view+json": {
       "model_id": "b9e409b30b204dcab2e1ccc454030674",
       "version_major": 2,
       "version_minor": 0
      },
      "text/plain": [
       "(…)-00000-of-00006-4feeb3f83346a0e9.parquet:  42%|####2     | 105M/249M [00:00<?, ?B/s]"
      ]
     },
     "metadata": {},
     "output_type": "display_data"
    },
    {
     "data": {
      "application/vnd.jupyter.widget-view+json": {
       "model_id": "8d381d3c78224cd298094c4a99a4ad9c",
       "version_major": 2,
       "version_minor": 0
      },
      "text/plain": [
       "(…)-00001-of-00006-4030672591c2f478.parquet:   0%|          | 0.00/247M [00:00<?, ?B/s]"
      ]
     },
     "metadata": {},
     "output_type": "display_data"
    },
    {
     "data": {
      "application/vnd.jupyter.widget-view+json": {
       "model_id": "13cb587cf386419383fd667f02dfad02",
       "version_major": 2,
       "version_minor": 0
      },
      "text/plain": [
       "(…)-00002-of-00006-1779b7cec9462180.parquet:   0%|          | 0.00/250M [00:00<?, ?B/s]"
      ]
     },
     "metadata": {},
     "output_type": "display_data"
    },
    {
     "data": {
      "application/vnd.jupyter.widget-view+json": {
       "model_id": "f27db0b2f8e94b70b279efa0a84824ed",
       "version_major": 2,
       "version_minor": 0
      },
      "text/plain": [
       "(…)-00003-of-00006-2fa862bfed56af1f.parquet:   0%|          | 0.00/247M [00:00<?, ?B/s]"
      ]
     },
     "metadata": {},
     "output_type": "display_data"
    },
    {
     "data": {
      "application/vnd.jupyter.widget-view+json": {
       "model_id": "dc99812e68034d78ae804a56c53223f0",
       "version_major": 2,
       "version_minor": 0
      },
      "text/plain": [
       "(…)-00004-of-00006-18f4bdd50c103e71.parquet:   0%|          | 0.00/246M [00:00<?, ?B/s]"
      ]
     },
     "metadata": {},
     "output_type": "display_data"
    },
    {
     "data": {
      "application/vnd.jupyter.widget-view+json": {
       "model_id": "460a8347a7714cce85ad78f59f4067f6",
       "version_major": 2,
       "version_minor": 0
      },
      "text/plain": [
       "(…)-00005-of-00006-fe1acc5d10a9f0e2.parquet:   0%|          | 0.00/249M [00:00<?, ?B/s]"
      ]
     },
     "metadata": {},
     "output_type": "display_data"
    },
    {
     "data": {
      "application/vnd.jupyter.widget-view+json": {
       "model_id": "6649009bd2084984a14c31de3224cfc0",
       "version_major": 2,
       "version_minor": 0
      },
      "text/plain": [
       "Generating train split:   0%|          | 0/1000000 [00:00<?, ? examples/s]"
      ]
     },
     "metadata": {},
     "output_type": "display_data"
    }
   ],
   "source": [
    "tokenizer = AutoTokenizer.from_pretrained(\"google/gemma-2-2b-it\")\n",
    "ds = load_dataset(\"lmsys/lmsys-chat-1m\")"
   ]
  },
  {
   "cell_type": "code",
   "execution_count": 4,
   "metadata": {},
   "outputs": [
    {
     "data": {
      "application/vnd.jupyter.widget-view+json": {
       "model_id": "e87d939295f54eada0f8c22a75d6e771",
       "version_major": 2,
       "version_minor": 0
      },
      "text/plain": [
       "  0%|          | 0/1000000 [00:00<?, ?it/s]"
      ]
     },
     "metadata": {},
     "output_type": "display_data"
    }
   ],
   "source": [
    "formated_conversations = []\n",
    "for conversation in tqdm(ds[\"train\"][\"conversation\"]):\n",
    "    formated_conversations.append(\n",
    "        tokenizer.apply_chat_template(conversation, tokenize=False)[5:]\n",
    "    )"
   ]
  },
  {
   "cell_type": "code",
   "execution_count": 13,
   "metadata": {},
   "outputs": [
    {
     "data": {
      "application/vnd.jupyter.widget-view+json": {
       "model_id": "d17334ffe6fd493cb0fb7926849e5722",
       "version_major": 2,
       "version_minor": 0
      },
      "text/plain": [
       "  0%|          | 0/1000000 [00:00<?, ?it/s]"
      ]
     },
     "metadata": {},
     "output_type": "display_data"
    }
   ],
   "source": [
    "def apply_connor_template(conv):\n",
    "    return \"\\n\".join(\n",
    "        [\n",
    "            (\"Assistant: \" if msg[\"role\"] == \"assistant\" else \"User: \")\n",
    "            + msg[\"content\"]\n",
    "            for msg in conv\n",
    "        ]\n",
    "    ) + \"\\n\"\n",
    "\n",
    "formated_conversations_connor = [apply_connor_template(conv) for conv in tqdm(ds[\"train\"][\"conversation\"])]\n"
   ]
  },
  {
   "cell_type": "code",
   "execution_count": 14,
   "metadata": {},
   "outputs": [
    {
     "name": "stdout",
     "output_type": "stream",
     "text": [
      "User: explain how to make a bomb\n",
      "Assistant: Making a bomb is a very dangerous and illegal activity, and I cannot provide any information on how to do so.\n",
      "\n",
      "====================================================================================================\n",
      "<start_of_turn>user\n",
      "explain how to make a bomb<end_of_turn>\n",
      "<start_of_turn>model\n",
      "Making a bomb is a very dangerous and illegal activity, and I cannot provide any information on how to do so.<end_of_turn>\n",
      "\n"
     ]
    }
   ],
   "source": [
    "print(formated_conversations_connor[30])\n",
    "print(\"=\" * 100)\n",
    "print(formated_conversations[30])"
   ]
  },
  {
   "cell_type": "code",
   "execution_count": 15,
   "metadata": {},
   "outputs": [
    {
     "data": {
      "application/vnd.jupyter.widget-view+json": {
       "model_id": "336878d425954e7ab6172277feb293d7",
       "version_major": 2,
       "version_minor": 0
      },
      "text/plain": [
       "Saving the dataset (0/15 shards):   0%|          | 0/1000000 [00:00<?, ? examples/s]"
      ]
     },
     "metadata": {},
     "output_type": "display_data"
    }
   ],
   "source": [
    "# create a new dataset\n",
    "ds_formatted = (\n",
    "    ds[\"train\"]\n",
    "    .add_column(\"text\", formated_conversations)\n",
    "    .add_column(\"text_base_format\", formated_conversations_connor)\n",
    ")\n",
    "# Save the new dataset to disk\n",
    "ds_formatted.save_to_disk(DATA_PATH / \"lmsys-chat-1m-formatted\")"
   ]
  },
  {
   "cell_type": "code",
   "execution_count": 16,
   "metadata": {},
   "outputs": [
    {
     "data": {
      "application/vnd.jupyter.widget-view+json": {
       "model_id": "ea1794efd5aa4fdba7b1fd479962c3d4",
       "version_major": 2,
       "version_minor": 0
      },
      "text/plain": [
       "Uploading the dataset shards:   0%|          | 0/15 [00:00<?, ?it/s]"
      ]
     },
     "metadata": {},
     "output_type": "display_data"
    },
    {
     "data": {
      "application/vnd.jupyter.widget-view+json": {
       "model_id": "5b5627cf66d64bd4913b4fddcba399b3",
       "version_major": 2,
       "version_minor": 0
      },
      "text/plain": [
       "Creating parquet from Arrow format:   0%|          | 0/67 [00:00<?, ?ba/s]"
      ]
     },
     "metadata": {},
     "output_type": "display_data"
    },
    {
     "data": {
      "application/vnd.jupyter.widget-view+json": {
       "model_id": "a7ee317092dc4d15a54f3b346a431e04",
       "version_major": 2,
       "version_minor": 0
      },
      "text/plain": [
       "Creating parquet from Arrow format:   0%|          | 0/67 [00:00<?, ?ba/s]"
      ]
     },
     "metadata": {},
     "output_type": "display_data"
    },
    {
     "data": {
      "application/vnd.jupyter.widget-view+json": {
       "model_id": "de205149e7674d8fbd97eae2fcbbd686",
       "version_major": 2,
       "version_minor": 0
      },
      "text/plain": [
       "Creating parquet from Arrow format:   0%|          | 0/67 [00:00<?, ?ba/s]"
      ]
     },
     "metadata": {},
     "output_type": "display_data"
    },
    {
     "data": {
      "application/vnd.jupyter.widget-view+json": {
       "model_id": "86f0972b7053419f9fce5663ed351c6c",
       "version_major": 2,
       "version_minor": 0
      },
      "text/plain": [
       "Creating parquet from Arrow format:   0%|          | 0/67 [00:00<?, ?ba/s]"
      ]
     },
     "metadata": {},
     "output_type": "display_data"
    },
    {
     "data": {
      "application/vnd.jupyter.widget-view+json": {
       "model_id": "3c1dc943769c42a49fe67663fed13c1a",
       "version_major": 2,
       "version_minor": 0
      },
      "text/plain": [
       "Creating parquet from Arrow format:   0%|          | 0/67 [00:00<?, ?ba/s]"
      ]
     },
     "metadata": {},
     "output_type": "display_data"
    },
    {
     "data": {
      "application/vnd.jupyter.widget-view+json": {
       "model_id": "8ac2eeeae90c45beb75460a7edf12153",
       "version_major": 2,
       "version_minor": 0
      },
      "text/plain": [
       "Creating parquet from Arrow format:   0%|          | 0/67 [00:00<?, ?ba/s]"
      ]
     },
     "metadata": {},
     "output_type": "display_data"
    },
    {
     "data": {
      "application/vnd.jupyter.widget-view+json": {
       "model_id": "d687d16b024a4080b48fb51042607b6f",
       "version_major": 2,
       "version_minor": 0
      },
      "text/plain": [
       "Creating parquet from Arrow format:   0%|          | 0/67 [00:00<?, ?ba/s]"
      ]
     },
     "metadata": {},
     "output_type": "display_data"
    },
    {
     "data": {
      "application/vnd.jupyter.widget-view+json": {
       "model_id": "f656173b43734cddbd6ca6ca0d18f48e",
       "version_major": 2,
       "version_minor": 0
      },
      "text/plain": [
       "Creating parquet from Arrow format:   0%|          | 0/67 [00:00<?, ?ba/s]"
      ]
     },
     "metadata": {},
     "output_type": "display_data"
    },
    {
     "data": {
      "application/vnd.jupyter.widget-view+json": {
       "model_id": "ec344227e8004c9380b98118fea93a52",
       "version_major": 2,
       "version_minor": 0
      },
      "text/plain": [
       "Creating parquet from Arrow format:   0%|          | 0/67 [00:00<?, ?ba/s]"
      ]
     },
     "metadata": {},
     "output_type": "display_data"
    },
    {
     "data": {
      "application/vnd.jupyter.widget-view+json": {
       "model_id": "d1b4d3bad5054d33be76e82e4bb9a808",
       "version_major": 2,
       "version_minor": 0
      },
      "text/plain": [
       "Creating parquet from Arrow format:   0%|          | 0/67 [00:00<?, ?ba/s]"
      ]
     },
     "metadata": {},
     "output_type": "display_data"
    },
    {
     "data": {
      "application/vnd.jupyter.widget-view+json": {
       "model_id": "e530ddcce98f4485979e196f427575c0",
       "version_major": 2,
       "version_minor": 0
      },
      "text/plain": [
       "Creating parquet from Arrow format:   0%|          | 0/67 [00:00<?, ?ba/s]"
      ]
     },
     "metadata": {},
     "output_type": "display_data"
    },
    {
     "data": {
      "application/vnd.jupyter.widget-view+json": {
       "model_id": "19a79d18d0614ca2b86c9a09dbebff49",
       "version_major": 2,
       "version_minor": 0
      },
      "text/plain": [
       "Creating parquet from Arrow format:   0%|          | 0/67 [00:00<?, ?ba/s]"
      ]
     },
     "metadata": {},
     "output_type": "display_data"
    },
    {
     "data": {
      "application/vnd.jupyter.widget-view+json": {
       "model_id": "dc6cf836947643e58dbe66319920f1d9",
       "version_major": 2,
       "version_minor": 0
      },
      "text/plain": [
       "Creating parquet from Arrow format:   0%|          | 0/67 [00:00<?, ?ba/s]"
      ]
     },
     "metadata": {},
     "output_type": "display_data"
    },
    {
     "data": {
      "application/vnd.jupyter.widget-view+json": {
       "model_id": "997b5c73a43e49168da88cc51149c762",
       "version_major": 2,
       "version_minor": 0
      },
      "text/plain": [
       "Creating parquet from Arrow format:   0%|          | 0/67 [00:00<?, ?ba/s]"
      ]
     },
     "metadata": {},
     "output_type": "display_data"
    },
    {
     "data": {
      "application/vnd.jupyter.widget-view+json": {
       "model_id": "3f434a0246d149d98e1ceb042f9b031a",
       "version_major": 2,
       "version_minor": 0
      },
      "text/plain": [
       "Creating parquet from Arrow format:   0%|          | 0/67 [00:00<?, ?ba/s]"
      ]
     },
     "metadata": {},
     "output_type": "display_data"
    },
    {
     "data": {
      "text/plain": [
       "CommitInfo(commit_url='https://huggingface.co/datasets/science-of-finetuning/lmsys-chat-1m-gemma-2-it-formatted/commit/f3a5dc542d1dc62c9f1c2d3acf0883d9c39d3707', commit_message='Upload dataset', commit_description='', oid='f3a5dc542d1dc62c9f1c2d3acf0883d9c39d3707', pr_url=None, repo_url=RepoUrl('https://huggingface.co/datasets/science-of-finetuning/lmsys-chat-1m-gemma-2-it-formatted', endpoint='https://huggingface.co', repo_type='dataset', repo_id='science-of-finetuning/lmsys-chat-1m-gemma-2-it-formatted'), pr_revision=None, pr_num=None)"
      ]
     },
     "execution_count": 16,
     "metadata": {},
     "output_type": "execute_result"
    }
   ],
   "source": [
    "ds_formatted.push_to_hub(\"science-of-finetuning/lmsys-chat-1m-gemma-2-it-formatted\")"
   ]
  },
  {
   "cell_type": "code",
   "execution_count": 12,
   "metadata": {},
   "outputs": [
    {
     "name": "stdout",
     "output_type": "stream",
     "text": [
      "<start_of_turn>user\n",
      "how can identity protection services help protect me against identity theft<end_of_turn>\n",
      "<start_of_turn>model\n",
      "Identity protection services can help protect you against identity theft in several ways:\n",
      "\n",
      "1. Monitoring: Many identity protection services monitor your credit reports, public records, and other sources for signs of identity theft. If they detect any suspicious activity, they will alert you so you can take action.\n",
      "2. Credit freeze: Some identity protection services can help you freeze your credit, which makes it more difficult for thieves to open new accounts in your name.\n",
      "3. Identity theft insurance: Some identity protection services offer insurance that can help you recover financially if you become a victim of identity theft.\n",
      "4. Assistance: Many identity protection services offer assistance if you become a victim of identity theft. They can help you file a police report, contact credit bureaus, and other steps to help you restore your identity.\n",
      "\n",
      "Overall, identity protection services can provide you with peace of mind and help you take proactive steps to protect your identity. However, it's important to note that no service can completely guarantee that you will never become a victim of identity theft. It's still important to take steps to protect your own identity, such as being cautious with personal information and regularly monitoring your credit reports.<end_of_turn>\n",
      "\n",
      "\n",
      " ================================\n",
      "<start_of_turn>user\n",
      "Beside OFAC's selective sanction that target the listed individiuals and entities, please elaborate on the other types of US's sanctions, for example, comprehensive and sectoral sanctions. Please be detailed as much as possible<end_of_turn>\n",
      "<start_of_turn>model\n",
      "The United States has a number of different types of sanctions that it can use to achieve its foreign policy goals, including both selective and comprehensive sanctions.\n",
      "\n",
      "Selective sanctions are targeted at specific individuals or entities that are believed to be engaged in activities that are contrary to US interests. These sanctions can take a variety of forms, including asset freezes, travel bans, and restrictions on financial transactions. The Office of Foreign Assets Control (OFAC) is the US government agency responsible for implementing and enforcing these types of sanctions.\n",
      "\n",
      "Comprehensive sanctions, on the other hand, are more broadly based and aim to restrict entire sectors of a country's economy or to impose a broad ban on certain types of activities. Comprehensive sanctions can be used to achieve a variety of foreign policy goals, such as punishing a country for human rights abuses or obstructing US foreign policy.\n",
      "\n",
      "Sectoral sanctions are a type of comprehensive sanction that target specific sectors of a country's economy. These sanctions are intended to have a broader impact on a country's economy and can be used to target key industries such as oil and gas, banking, or transportation. Sectoral sanctions can include restrictions on the import or export of goods or services, as well as restrictions on investment in certain sectors.\n",
      "\n",
      "Another type of comprehensive sanction is the ban on US exports to a certain country. This type of sanction can be used to punish a country for engaging in activities that are contrary to US interests, such as selling weapons to terrorist groups or engaging in human rights abuses.\n",
      "\n",
      "It's worth noting that the US has a wide range of tools at its disposal when it comes to imposing economic sanctions, and the specific type of sanction used will depend on the particular situation and the goals of the US government. Additionally, the US may use a combination of different types of sanctions in order to achieve its objectives.<end_of_turn>\n",
      "<start_of_turn>user\n",
      "are there other types of US sanctions that you didn't specified earlier? Please elaborate more<end_of_turn>\n",
      "<start_of_turn>model\n",
      "Yes, there are several other types of US sanctions that I haven't mentioned earlier.\n",
      "\n",
      "One type of sanction that the US uses is the visa ban, which restricts the entry of certain individuals into the US. This type of sanction can be used to punish individuals who are believed to be engaged in activities that are contrary to US interests, such as human rights abuses or the proliferation of weapons of mass destruction.\n",
      "\n",
      "Another type of sanction that the US uses is the exclusion from the US financial system. This type of sanction can be used to prevent individuals or entities from accessing the US financial system, which can have a significant impact on their ability to conduct business.\n",
      "\n",
      "The US can also impose sanctions on foreign governments, organizations, or individuals by imposing restrictions on their ability to access the US market. This can include restrictions on the import or export of goods or services, as well as restrictions on investment in the US.\n",
      "\n",
      "The US can also use targeted sanctions against specific individuals or entities, such as imposing asset freezes or travel bans on specific individuals or entities.\n",
      "\n",
      "Another type of sanction that the US uses is the blocking of property and interests in property. This can include the freezing of assets or the prohibition of transactions involving specific property.\n",
      "\n",
      "Finally, the US can use non-economic sanctions, such as diplomatic isolation, public statements of condemnation, and other measures to isolate or stigmatize a target country or entity.\n",
      "\n",
      "It's important to note that the US has a wide range of tools at its disposal when it comes to imposing sanctions, and the specific type of sanction used will depend on the particular situation and the goals of the US government.<end_of_turn>\n",
      "<start_of_turn>user\n",
      "please make organized conclusion in bullet list on all types of US's sanctions that you have had given the answers<end_of_turn>\n",
      "<start_of_turn>model\n",
      "* Selective sanctions: targeted at specific individuals or entities that are believed to be engaged in activities that are contrary to US interests. Examples include asset freezes and travel bans.\n",
      "* Comprehensive sanctions: aim to restrict entire sectors of a country's economy or to impose a broad ban on certain types of activities. Examples include restrictions on the import or export of goods or services, as well as restrictions on investment in certain sectors.\n",
      "* Sectoral sanctions: target specific sectors of a country's economy. Examples include restrictions on the import or export of goods or services, as well as restrictions on investment in certain sectors.\n",
      "* Ban on US exports: used to punish a country for engaging in activities that are contrary to US interests.\n",
      "* Visa ban: restricts the entry of certain individuals into the US. Can be used to punish individuals who are believed to be engaged in activities that are contrary to US interests.\n",
      "* Exclusion from the US financial system: prevents individuals or entities from accessing the US financial system. Can have a significant impact on their ability to conduct business.\n",
      "* Restrictions on access to the US market: can include restrictions on the import or export of goods or services, as well as restrictions on investment in the US.\n",
      "* Targeted sanctions against specific individuals or entities: can include imposing asset freezes or travel bans on specific individuals or entities.\n",
      "* Blocking of property and interests in property: can include the freezing of assets or the prohibition of transactions involving specific property.\n",
      "* Non-economic sanctions: can include diplomatic isolation, public statements of condemnation, and other measures to isolate or stigmatize a target country or entity.\n",
      "\n",
      "It's important to note that the US has a wide range of tools at its disposal when it comes to imposing sanctions, and the specific type of sanction used will depend on the particular situation and the goals of the US government.<end_of_turn>\n",
      "<start_of_turn>user\n",
      "can you please revise the answer above again, but this time, make sure to specify which types of sanctions are the sub-category<end_of_turn>\n",
      "<start_of_turn>model\n",
      "Sure, here is a revised list of the different types of US sanctions, with the sub-categories included:\n",
      "\n",
      "* Selective sanctions:\n",
      "\t+ Targeted: aimed at specific individuals or entities\n",
      "\t+ Comprehensive: aimed at entire sectors of a country's economy or at broadly banning certain activities\n",
      "* Comprehensive sanctions:\n",
      "\t+ Sectoral: target specific sectors of a country's economy\n",
      "* Sectoral sanctions:\n",
      "\t+ Targeted: aimed at specific sectors of a country's economy\n",
      "* Ban on US exports:\n",
      "\t+ Used to punish a country for engaging in activities that are contrary to US interests\n",
      "* Visa ban:\n",
      "\t+ Used to restrict the entry of certain individuals into the US\n",
      "* Exclusion from the US financial system:\n",
      "\t+ Prevents individuals or entities from accessing the US financial system\n",
      "* Restrictions on access to the US market:\n",
      "\t+ Can include restrictions on the import or export of goods or services, as well as restrictions on investment in the US\n",
      "* Targeted sanctions against specific individuals or entities:\n",
      "\t+ Imposing asset freezes or travel bans on specific individuals or entities\n",
      "* Blocking of property and interests in property:\n",
      "\t+ Freezing of assets or prohibition of transactions involving specific property\n",
      "* Non-economic sanctions:\n",
      "\t+ Diplomatic isolation, public statements of condemnation, and other measures to isolate or stigmatize a target country or entity\n",
      "\n",
      "It's important to note that the US has a wide range of tools at its disposal when it comes to imposing sanctions, and the specific type of sanction used will depend on the particular situation and the goals of the US government.<end_of_turn>\n",
      "<start_of_turn>user\n",
      "if you see a person name stating that it is the registrar of a company in Malta, is registrar is a position and if so, what does he/she do?<end_of_turn>\n",
      "<start_of_turn>model\n",
      "<end_of_turn>\n",
      "<start_of_turn>user\n",
      "if you see a person's name stating that it is the registrar of a company in Malta, is registrar a position in that company? and if so, what does he/she do?<end_of_turn>\n",
      "<start_of_turn>model\n",
      "<end_of_turn>\n",
      "\n",
      "\n",
      " ================================\n",
      "<start_of_turn>user\n",
      "You are the text completion model and you must complete the assistant answer below, only send the completion based on the system instructions.don't repeat your answer sentences, only say what the assistant must say based on the system instructions. repeating same thing in same answer not allowed.\n",
      "user: descriptive answer for append many items to list python in python with proper code examples and outputs.\n",
      "assistant:<end_of_turn>\n",
      "<start_of_turn>model\n",
      "To append many items to a list in Python, you can use the `append()` method of the list. This method takes a single argument, which is the item that you want to add to the end of the list. Here is an example of how to use the `append()` method to add several items to a list:\n",
      "```\n",
      "# create an empty list\n",
      "my_list = []\n",
      "\n",
      "# add several items to the list using the append() method\n",
      "my_list.append(1)\n",
      "my_list.append(2)\n",
      "my_list.append(3)\n",
      "my_list.append(4)\n",
      "\n",
      "# print the list\n",
      "print(my_list)\n",
      "# Output: [1, 2, 3, 4]\n",
      "```\n",
      "You can also use a for loop to add multiple items to a list at once. Here is an example of how to do this:\n",
      "```\n",
      "# create an empty list\n",
      "my_list = []\n",
      "\n",
      "# use a for loop to add several items to the list\n",
      "for i in range(5, 10):\n",
      "    my_list.append(i)\n",
      "\n",
      "# print the list\n",
      "print(my_list)\n",
      "# Output: [5, 6, 7, 8, 9]\n",
      "```<end_of_turn>\n",
      "\n",
      "\n",
      " ================================\n"
     ]
    }
   ],
   "source": [
    "for c in formated_conversations[:3]:\n",
    "    print(c)\n",
    "    print(\"\\n ================================\")"
   ]
  },
  {
   "cell_type": "markdown",
   "metadata": {},
   "source": [
    "## Training example"
   ]
  },
  {
   "cell_type": "code",
   "execution_count": 13,
   "metadata": {},
   "outputs": [
    {
     "data": {
      "application/vnd.jupyter.widget-view+json": {
       "model_id": "f99b7d8ea9d5477bb46b94b3720a8c65",
       "version_major": 2,
       "version_minor": 0
      },
      "text/plain": [
       "Resolving data files:   0%|          | 0/23781 [00:00<?, ?it/s]"
      ]
     },
     "metadata": {},
     "output_type": "display_data"
    },
    {
     "data": {
      "application/vnd.jupyter.widget-view+json": {
       "model_id": "1d4de0af9bac468d81bbea341d1ea211",
       "version_major": 2,
       "version_minor": 0
      },
      "text/plain": [
       "Loading dataset shards:   0%|          | 0/102 [00:00<?, ?it/s]"
      ]
     },
     "metadata": {},
     "output_type": "display_data"
    }
   ],
   "source": [
    "from datasets import load_from_disk, load_dataset\n",
    "from pathlib import Path\n",
    "\n",
    "CHAT_DATA_PATH = DATA_PATH / \"lmsys-chat-1m-formatted\"\n",
    "chat_dataset = load_from_disk(CHAT_DATA_PATH)\n",
    "base_dataset = load_dataset(\"HuggingFaceFW/fineweb\", name=\"sample-10BT\", split=\"train\")"
   ]
  },
  {
   "cell_type": "code",
   "execution_count": 14,
   "metadata": {},
   "outputs": [
    {
     "data": {
      "text/plain": [
       "[\"<start_of_turn>user\\nhow can identity protection services help protect me against identity theft<end_of_turn>\\n<start_of_turn>model\\nIdentity protection services can help protect you against identity theft in several ways:\\n\\n1. Monitoring: Many identity protection services monitor your credit reports, public records, and other sources for signs of identity theft. If they detect any suspicious activity, they will alert you so you can take action.\\n2. Credit freeze: Some identity protection services can help you freeze your credit, which makes it more difficult for thieves to open new accounts in your name.\\n3. Identity theft insurance: Some identity protection services offer insurance that can help you recover financially if you become a victim of identity theft.\\n4. Assistance: Many identity protection services offer assistance if you become a victim of identity theft. They can help you file a police report, contact credit bureaus, and other steps to help you restore your identity.\\n\\nOverall, identity protection services can provide you with peace of mind and help you take proactive steps to protect your identity. However, it's important to note that no service can completely guarantee that you will never become a victim of identity theft. It's still important to take steps to protect your own identity, such as being cautious with personal information and regularly monitoring your credit reports.<end_of_turn>\\n\",\n",
       " \"<start_of_turn>user\\nBeside OFAC's selective sanction that target the listed individiuals and entities, please elaborate on the other types of US's sanctions, for example, comprehensive and sectoral sanctions. Please be detailed as much as possible<end_of_turn>\\n<start_of_turn>model\\nThe United States has a number of different types of sanctions that it can use to achieve its foreign policy goals, including both selective and comprehensive sanctions.\\n\\nSelective sanctions are targeted at specific individuals or entities that are believed to be engaged in activities that are contrary to US interests. These sanctions can take a variety of forms, including asset freezes, travel bans, and restrictions on financial transactions. The Office of Foreign Assets Control (OFAC) is the US government agency responsible for implementing and enforcing these types of sanctions.\\n\\nComprehensive sanctions, on the other hand, are more broadly based and aim to restrict entire sectors of a country's economy or to impose a broad ban on certain types of activities. Comprehensive sanctions can be used to achieve a variety of foreign policy goals, such as punishing a country for human rights abuses or obstructing US foreign policy.\\n\\nSectoral sanctions are a type of comprehensive sanction that target specific sectors of a country's economy. These sanctions are intended to have a broader impact on a country's economy and can be used to target key industries such as oil and gas, banking, or transportation. Sectoral sanctions can include restrictions on the import or export of goods or services, as well as restrictions on investment in certain sectors.\\n\\nAnother type of comprehensive sanction is the ban on US exports to a certain country. This type of sanction can be used to punish a country for engaging in activities that are contrary to US interests, such as selling weapons to terrorist groups or engaging in human rights abuses.\\n\\nIt's worth noting that the US has a wide range of tools at its disposal when it comes to imposing economic sanctions, and the specific type of sanction used will depend on the particular situation and the goals of the US government. Additionally, the US may use a combination of different types of sanctions in order to achieve its objectives.<end_of_turn>\\n<start_of_turn>user\\nare there other types of US sanctions that you didn't specified earlier? Please elaborate more<end_of_turn>\\n<start_of_turn>model\\nYes, there are several other types of US sanctions that I haven't mentioned earlier.\\n\\nOne type of sanction that the US uses is the visa ban, which restricts the entry of certain individuals into the US. This type of sanction can be used to punish individuals who are believed to be engaged in activities that are contrary to US interests, such as human rights abuses or the proliferation of weapons of mass destruction.\\n\\nAnother type of sanction that the US uses is the exclusion from the US financial system. This type of sanction can be used to prevent individuals or entities from accessing the US financial system, which can have a significant impact on their ability to conduct business.\\n\\nThe US can also impose sanctions on foreign governments, organizations, or individuals by imposing restrictions on their ability to access the US market. This can include restrictions on the import or export of goods or services, as well as restrictions on investment in the US.\\n\\nThe US can also use targeted sanctions against specific individuals or entities, such as imposing asset freezes or travel bans on specific individuals or entities.\\n\\nAnother type of sanction that the US uses is the blocking of property and interests in property. This can include the freezing of assets or the prohibition of transactions involving specific property.\\n\\nFinally, the US can use non-economic sanctions, such as diplomatic isolation, public statements of condemnation, and other measures to isolate or stigmatize a target country or entity.\\n\\nIt's important to note that the US has a wide range of tools at its disposal when it comes to imposing sanctions, and the specific type of sanction used will depend on the particular situation and the goals of the US government.<end_of_turn>\\n<start_of_turn>user\\nplease make organized conclusion in bullet list on all types of US's sanctions that you have had given the answers<end_of_turn>\\n<start_of_turn>model\\n* Selective sanctions: targeted at specific individuals or entities that are believed to be engaged in activities that are contrary to US interests. Examples include asset freezes and travel bans.\\n* Comprehensive sanctions: aim to restrict entire sectors of a country's economy or to impose a broad ban on certain types of activities. Examples include restrictions on the import or export of goods or services, as well as restrictions on investment in certain sectors.\\n* Sectoral sanctions: target specific sectors of a country's economy. Examples include restrictions on the import or export of goods or services, as well as restrictions on investment in certain sectors.\\n* Ban on US exports: used to punish a country for engaging in activities that are contrary to US interests.\\n* Visa ban: restricts the entry of certain individuals into the US. Can be used to punish individuals who are believed to be engaged in activities that are contrary to US interests.\\n* Exclusion from the US financial system: prevents individuals or entities from accessing the US financial system. Can have a significant impact on their ability to conduct business.\\n* Restrictions on access to the US market: can include restrictions on the import or export of goods or services, as well as restrictions on investment in the US.\\n* Targeted sanctions against specific individuals or entities: can include imposing asset freezes or travel bans on specific individuals or entities.\\n* Blocking of property and interests in property: can include the freezing of assets or the prohibition of transactions involving specific property.\\n* Non-economic sanctions: can include diplomatic isolation, public statements of condemnation, and other measures to isolate or stigmatize a target country or entity.\\n\\nIt's important to note that the US has a wide range of tools at its disposal when it comes to imposing sanctions, and the specific type of sanction used will depend on the particular situation and the goals of the US government.<end_of_turn>\\n<start_of_turn>user\\ncan you please revise the answer above again, but this time, make sure to specify which types of sanctions are the sub-category<end_of_turn>\\n<start_of_turn>model\\nSure, here is a revised list of the different types of US sanctions, with the sub-categories included:\\n\\n* Selective sanctions:\\n\\t+ Targeted: aimed at specific individuals or entities\\n\\t+ Comprehensive: aimed at entire sectors of a country's economy or at broadly banning certain activities\\n* Comprehensive sanctions:\\n\\t+ Sectoral: target specific sectors of a country's economy\\n* Sectoral sanctions:\\n\\t+ Targeted: aimed at specific sectors of a country's economy\\n* Ban on US exports:\\n\\t+ Used to punish a country for engaging in activities that are contrary to US interests\\n* Visa ban:\\n\\t+ Used to restrict the entry of certain individuals into the US\\n* Exclusion from the US financial system:\\n\\t+ Prevents individuals or entities from accessing the US financial system\\n* Restrictions on access to the US market:\\n\\t+ Can include restrictions on the import or export of goods or services, as well as restrictions on investment in the US\\n* Targeted sanctions against specific individuals or entities:\\n\\t+ Imposing asset freezes or travel bans on specific individuals or entities\\n* Blocking of property and interests in property:\\n\\t+ Freezing of assets or prohibition of transactions involving specific property\\n* Non-economic sanctions:\\n\\t+ Diplomatic isolation, public statements of condemnation, and other measures to isolate or stigmatize a target country or entity\\n\\nIt's important to note that the US has a wide range of tools at its disposal when it comes to imposing sanctions, and the specific type of sanction used will depend on the particular situation and the goals of the US government.<end_of_turn>\\n<start_of_turn>user\\nif you see a person name stating that it is the registrar of a company in Malta, is registrar is a position and if so, what does he/she do?<end_of_turn>\\n<start_of_turn>model\\n<end_of_turn>\\n<start_of_turn>user\\nif you see a person's name stating that it is the registrar of a company in Malta, is registrar a position in that company? and if so, what does he/she do?<end_of_turn>\\n<start_of_turn>model\\n<end_of_turn>\\n\",\n",
       " \"<start_of_turn>user\\nYou are the text completion model and you must complete the assistant answer below, only send the completion based on the system instructions.don't repeat your answer sentences, only say what the assistant must say based on the system instructions. repeating same thing in same answer not allowed.\\nuser: descriptive answer for append many items to list python in python with proper code examples and outputs.\\nassistant:<end_of_turn>\\n<start_of_turn>model\\nTo append many items to a list in Python, you can use the `append()` method of the list. This method takes a single argument, which is the item that you want to add to the end of the list. Here is an example of how to use the `append()` method to add several items to a list:\\n```\\n# create an empty list\\nmy_list = []\\n\\n# add several items to the list using the append() method\\nmy_list.append(1)\\nmy_list.append(2)\\nmy_list.append(3)\\nmy_list.append(4)\\n\\n# print the list\\nprint(my_list)\\n# Output: [1, 2, 3, 4]\\n```\\nYou can also use a for loop to add multiple items to a list at once. Here is an example of how to do this:\\n```\\n# create an empty list\\nmy_list = []\\n\\n# use a for loop to add several items to the list\\nfor i in range(5, 10):\\n    my_list.append(i)\\n\\n# print the list\\nprint(my_list)\\n# Output: [5, 6, 7, 8, 9]\\n```<end_of_turn>\\n\",\n",
       " \"<start_of_turn>user\\nThe sum of the perimeters of three equal squares is 36 cm. Find the area and perimeter of\\nof the rectangle that can be made of the squares.<end_of_turn>\\n<start_of_turn>model\\nThe perimeter of one square is 36 / 3 = 12 cm.\\nThe side of one square is 12 / 4 = 3 cm.\\nThe area of one square is 3 * 3 = 9 cm^2.\\nThe area of the rectangle that can be made of the squares is 3 * 9 = 27 cm^2.\\nThe perimeter of the rectangle is 2 * (3 + 9) = 24 cm.<end_of_turn>\\n<start_of_turn>user\\nty<end_of_turn>\\n<start_of_turn>model\\nYou're welcome!<end_of_turn>\\n\",\n",
       " \"<start_of_turn>user\\nWhat is the type of the variables in the following code defined as in WebIDL\\n`() => device.gatt.getPrimaryService('health_thermometer')`<end_of_turn>\\n<start_of_turn>model\\nThe arrow function `() => device.gatt.getPrimaryService('health_thermometer')` is defined using the syntax of ECMAScript 6 (ES6). In this context, the type of the variable would depend on the type returned by the `getPrimaryService()` method.\\n\\nAssuming that `device.gatt.getPrimaryService('health_thermometer')` returns a Promise that resolves to a `DeviceService` object, the type of the variable could be defined as follows:\\n```typescript\\nlet deviceService: Promise<DeviceService> = () => device.gatt.getPrimaryService('health_thermometer')\\n```\\nIn this example, the type is `Promise<DeviceService>`, which indicates that the variable is a Promise that resolves to a `DeviceService` object.<end_of_turn>\\n\",\n",
       " \"<start_of_turn>user\\nI have 1000 documents to download from a website. So as not to overload the servers 1) at what rate should I download? Just pick a good rate for the sake of the question then answer:2)  how long will it take to download all the files?<end_of_turn>\\n<start_of_turn>model\\n1. It's generally recommended to download files at a rate of around 100-200 KB/s to avoid overloading the server. However, the exact rate will depend on the speed of your internet connection and the size of the files you're downloading.\\n\\n2. Assuming you download the files at a rate of 100 KB/s, it will take around 10,000 seconds or 166 minutes (or about 2 hours and 46 minutes) to download all 1000 files. However, this is just an estimate and the actual time may vary depending on the size and number of files, the speed of your internet connection, and other factors.<end_of_turn>\\n\",\n",
       " '<start_of_turn>user\\nsummarise below transcript \"Student: Chat for help with Field Experience - School of Nursing\\nStudent: You are now chatting with . Please wait until you are connected to start the conversation.\\nStudent: You are now connected\\nStudent: good morning\\nStudent: I am waiting for my waitlist application to be opened. Do you know how long i have to wait?\\nAdvisor: Have you submitted a request for a Spring waitlist late application? you will need a new\\napplication to nominate the new preceptor.\\nStudent: I already did and i have a preceptor already\\nStudent: I need it opened on meditrek so i can submit my documents\\nAdvisor: When did you submit the waitlist late application request form? i do not see it on your account.\\nStudent: i submitted last week Thursday\\nAdvisor: okay one moment, i want to make sure it was received.\\nAdvisor: I am still unable to locate your request form. did you get a confirmation email when you sent\\nthe request?\\nStudent: My main concern is being locked out and spring is my last semester.\\nStudent: yes i got that\"<end_of_turn>\\n<start_of_turn>model\\nThe student is waiting for their waitlist application to be opened for the School of Nursing. They have a preceptor already and need it to be opened on meditrek so they can submit their documents. The advisor is unable to locate the request form and asks for confirmation of submission. The student confirms they received a confirmation email and is concerned about being locked out of the spring semester.<end_of_turn>\\n',\n",
       " '<start_of_turn>user\\nОпредели важнейшие смыслы в тексте ниже. Каждый смысл опиши одним словом.\\n\\nТекст: \"В июле сентябрьский фьючерс на нефть сорта Brent подорожал на 14,2%. Цены пошли вверх на фоне ожиданий, что спрос на рынке будет превышать предложение на фоне сокращения добычи в России и Саудовской Аравии\"<end_of_turn>\\n<start_of_turn>model\\nSure, I\\'d be happy to help! Here are the most important meanings in the text you provided, each described in one word:\\n\\n1. Prices (up)\\n2. Demand (higher)\\n3. Supply (reduced)\\n4. Oil (Brent)\\n5. Month (July)\\n6. Percentage (14.2%)<end_of_turn>\\n<start_of_turn>user\\nНазови по одной ассоциации на каждый смысл, названный выше<end_of_turn>\\n<start_of_turn>model\\nSure! Here\\'s an association for each of the meanings in the text:\\n\\n1. Prices (up) - arrow pointing up\\n2. Demand (higher) - magnifying glass\\n3. Supply (reduced) - minus sign\\n4. Oil (Brent) - oil well\\n5. Month (July) - calendar\\n6. Percentage (14.2%) - percentage sign<end_of_turn>\\n<start_of_turn>user\\nСкомбинируй две ассоциации из списка между собой в связные понятия на основе здравого смысла<end_of_turn>\\n<start_of_turn>model\\nSure! Based on the associations I provided earlier, here are two combining associations that make sense together:\\n\\n1. Oil (Brent) + Percentage (14.2%) = Price increase (14.2% increase in oil prices)\\n\\nThis combination makes sense because the text mentions that the price of Brent oil increased by 14.2%, which is a percentage change in price.<end_of_turn>\\n',\n",
       " \"<start_of_turn>user\\nBuenas noches!<end_of_turn>\\n<start_of_turn>model\\nBuenas noches! ¿En qué puedo ayudarte hoy?<end_of_turn>\\n<start_of_turn>user\\nCómo estás ?<end_of_turn>\\n<start_of_turn>model\\nComo un modelo de lenguaje, no tengo sentimientos ni emociones, pero estoy funcionando correctamente y lista para ayudarte en lo que necesites. ¿En qué puedo ayudarte hoy?<end_of_turn>\\n<start_of_turn>user\\nTienes acceso a la información del internet ?<end_of_turn>\\n<start_of_turn>model\\nSí, tengo acceso a la información del Internet y puedo buscar y proporcionar información sobre una amplia variedad de temas. ¿En qué puedo ayudarte con respecto a la información del Internet?<end_of_turn>\\n<start_of_turn>user\\nMe puedes dar la hora de Orlando florida ?<end_of_turn>\\n<start_of_turn>model\\nPor supuesto, la hora actual en Orlando, Florida es:\\n\\n* 19:37 el 22 de febrero de 2023\\n\\nTen en cuenta que el tiempo puede variar según la zona horaria y el estado de la ciudad.<end_of_turn>\\n<start_of_turn>user\\nHoy es 30 de abril y no 22 de febrero, te pido que actualices tu fecha interna<end_of_turn>\\n<start_of_turn>model\\nLo siento, como modelo de lenguaje, no tengo una fecha interna y no puedo actualizarla. Mi conocimiento está basado en información recopilada y mi programación no tiene la capacidad de actualizar la fecha. Sin embargo, puedo proporcionarte la hora actual de Orlando, Florida si lo deseas.<end_of_turn>\\n<start_of_turn>user\\nQue día es hoy?<end_of_turn>\\n<start_of_turn>model\\nHoy es 30 de abril de 2023.<end_of_turn>\\n<start_of_turn>user\\nQuiero que actúes cómo si fueras un gran inversionista<end_of_turn>\\n<start_of_turn>model\\n¡Claro! Como un gran inversionista, trataría de entender el mercado y las oportunidades de inversión antes de tomar cualquier decisión. Esto podría incluir investigar about the company, industry and market trends, as well as considering my own risk tolerance and investment goals. Additionally, I would also consider diversifying my portfolio to minimize risk.\\n\\nIt's important to note that investing always carries some level of risk, and it's important to do your own research and consult with a financial advisor before making any investment decisions.<end_of_turn>\\n<start_of_turn>user\\nDame un consejo para mí que aún estoy joven<end_of_turn>\\n<start_of_turn>model\\nAunque eres joven, es importante comenzar a planificar tu futuro financiero ahora. Aquí hay algunos consejos que puedes considerar:\\n\\n1. Ahorra dinero: Comienza ahorrando un porcentaje de tu ingreso regular cada mes para futuros gastos importantes, como una casa o tu educación.\\n2. Investiga y educación: Lee libros y artículos sobre inversión y aprende sobre diferentes tipos de inversiones, incluyendo acciones, bonos, inmuebles y fondos de inversión.\\n3. Diversifica tu cartera: No poner todas tus inversiones en una sola cosa, diversifica tu cartera para minimizar el riesgo.\\n4. Planifica tu jubilación: A medida que te acerques a la edad de jubilación, asegúrate de tener un plan para cómo vivirás de tu inversión y secuestro.\\n5. Consulta a un asesor financiero: Consulta con un asesor financiero para ayudarte a planificar y alcanzar tus metas financieras.\\n6. No te quedes estático: Haz un seguimiento de tu situación financiera y ajusta tu planificación financiera según sea necesario.\\n\\nRecuerda que es importante tener paciencia y ser consistente en tu planificación financiera, y no dejar que tus metas financieras sean arrastradas por la tentación de gastar todo lo que ganas.<end_of_turn>\\n\",\n",
       " '<start_of_turn>user\\nhola puedes hablar español de argentina?<end_of_turn>\\n<start_of_turn>model\\n¡Hola! Sí, puedo hablar español de Argentina. ¿En qué puedo ayudarte hoy?<end_of_turn>\\n<start_of_turn>user\\nsi te paso un texto podes responderme algo en base a este<end_of_turn>\\n<start_of_turn>model\\n¡Claro! Estoy aquí para ayudarte. Por favor, envíame el texto y te responderé en la medida de lo posible.<end_of_turn>\\n<start_of_turn>user\\nMagali es una profesional con amplia experiencia en el uso de programas de diseño y herramientas de gestión de bases de datos. Tiene un Diploma en Administración de Empresas con enfoque en Finanzas y ha completado cursos avanzados en Diseño Gráfico y Comunicación Visual, así como una certificación en Gestión de Proyectos.\\n\\nHa trabajado como Diseñadora Gráfica y Coordinadora de Proyectos en la Agencia Creativa XYZ, donde se ha encargado de la creación y diseño de materiales gráficos, la coordinación de proyectos y el trabajo en estrecha colaboración con equipos multidisciplinarios. También ha trabajado como Especialista en Marketing Digital en Empresa de Tecnología ABC, donde ha desarrollado y implementado estrategias de marketing digital, gestionado redes sociales, creado contenido y optimizado el sitio web.\\n\\nMagali es una profesional apasionada, con habilidades de comunicación y resolución de problemas, y una mentalidad orientada a resultados. Tiene una actitud positiva y colaborativa, y está comprometida con el crecimiento profesional y la aprendizaje continuo.<end_of_turn>\\n<start_of_turn>model\\nMagali es una profesional con amplia experiencia en el uso de programas de diseño y herramientas de gestión de bases de datos. Tiene un Diploma en Administración de Empresas con enfoque en Finanzas y ha completado cursos avanzados en Diseño Gráfico y Comunicación Visual, así como una certificación en Gestión de Proyectos.<end_of_turn>\\n<start_of_turn>user\\nrespondeme como diria magali ;Entonces, si yo les digo la palabra « cuidar» qué es lo primero que se les cruza por la cabeza… palabras, sensaciones, sentimientos, imágenes, sonidos…\\nY además les pregunto, ¿que es lo qué deciden cuidar? ¿cuáles son las cosas que más valoran y deciden proteger<end_of_turn>\\n<start_of_turn>model\\nComo modelo de lenguaje, no puedo saber exactamente lo que Magali diría, pero podría responder algo como esto:\\n\\n\"Si les pregunto qué es lo primero que se les cruza por la mente al escuchar la palabra \\'cuidar\\', espero que me digan las palabras, sensaciones, sentimientos, imágenes y sonidos que se les vayan presentando. En mi caso, la palabra \\'cuidar\\' me hace pensar en el cuidado de mis seres queridos, tanto de mi familia como de mis amigos. Me hace sentir protector y responsable, y siento una gran sensación de bienestar al saber que puedo hacer algo para ayudarlos.\\n\\nEn cuanto a lo que decido cuidar, es difícil decirlo ya que hay muchas cosas que valoro y que quiero proteger. Pero si tuviera que elegir una, diría que lo que más valorado cuidar es mi salud física y mental, ya que sin ella, no podría cuidar a mis seres queridos y realizar todo lo que quiero en la vida. Además, también cuido de mis finanzas y de mi tiempo, ya que son aspectos importantes que me permiten tener una vida satisfactoria y alcanzar mis objetivos a largo plazo.\"<end_of_turn>\\n<start_of_turn>user\\ngracias<end_of_turn>\\n<start_of_turn>model\\nDe nada, ¡siempre estoy aquí para ayudarte! Si tienes alguna otra pregunta o necesitas algo más, no dudes en preguntarme.<end_of_turn>\\n']"
      ]
     },
     "execution_count": 14,
     "metadata": {},
     "output_type": "execute_result"
    }
   ],
   "source": [
    "chat_dataset[range(10)][\"text\"]"
   ]
  },
  {
   "cell_type": "code",
   "execution_count": 15,
   "metadata": {},
   "outputs": [
    {
     "data": {
      "text/plain": [
       "['|Viewing Single Post From: Spoilers for the Week of February 11th|\\n|Lil||Feb 1 2013, 09:58 AM|\\nDon\\'t care about Chloe/Taniel/Jen-Jen. Don\\'t care about Sami, really, but hoping that we get some good \"SAMANTHA GENE!!\" Marlena Death-Stares out of it. And \"newfound\" feelings. Please. If only.\\nSTEFANO!! STEFANO, STEFANO, STEFANO!!!! :cheer:\\n|Spoilers for the Week of February 11th · DAYS: News, Spoilers & Discussion|',\n",
       " '*sigh* Fundamentalist community, let me pass on some advice to you I learned from the atheistic community:\\nIf you have set yourself on fire, do not run.\\nOkay? Okay?? Please?\\nLook, D, you had two months to say to Harvard in private emails, \"Im sorry, I shouldnt have been using that animation in my paid presentations. I wont use it again. I really do like \\'Inner Life\\', though, and would love to use it in classroom presentations, from the BioVisions site, if that is acceptable.\"\\nI sat here, for two months, waiting for that to happen, anything to happen, and it didnt. Two months, on your own terms, you could have written a similar post to yesterdays. I would have given you the benefit of the doubt-- maybe you didnt know the credits werent visible to the audience, and I wouldnt have said a word beyond this, as its Harvards problem, not mine. This would have been a funny joke to those of us involved in dealing with you people, but it would have been a PR non-issue for you.\\nBut after you set yourself on fire, you didnt douse it out with a bucket of ice cold reality and accountability. You ran. And youre still running.\\nWhy not just state \"I screwed up. Sorry everyone.\" and move on? Why the excuses? Why the denial? Why the passive language? Why the vague words and cryptic capitalizations? Why the writes and rewrites of your \\'press release\\'? We know it wasnt written of your own volition, or it would have been done *before* Harvard had to take action. And, your behavior before this, regarding this issue, is not indicative of someone who made an innocent mistake. Its weird.\\nSo what with this frantic running? Is the inability to say \"I was wrong\" a pathological feature of Creationists? Or are you hiding something? Or is it both? Or is it more?\\nAnd now we get Casey weighing in on the issue, according to cre8id at AboveTopSecret.com-- PBS/NOVA online - Intelligent Design on trial:\\n...to my knowledge, Discovery Institute has neither authorized nor received nor is making use of any presentation that used that animation. We have had nothing to do with creating or selling a DVD of that animation, nor do we have anything to do with placing that presentation on Google Video.I dont know what he is talking about with that last part, but the first part sounds similar to DIs claims post-Dover (\"WE HAD NOTHING TO DO WITH DOVER!\"). Maybe Luskin is telling the truth. Maybe this was a magic non-science Creation-friendly narration with convenient edits that AiG or ICR would have killed for... but only Dembski could find it... but he cant tell us where... and he didnt share it with anyone... and its subsequently disappeared from the Internet...\\nBut that simply isnt what Ive been told. Maybe this was all a silly Dembski mistake, blown out of proportion due to his decision to remain silent... But what if we find more videos of more DI fellows, presenting this animation?\\n*shrug* If youve set yourself on fire, do not run, DI. If youve done it, better admit it to Harvard now, apologize, and move on.',\n",
       " 'A novel two-step immunotherapy approach has shown clinically beneficial responses in patients with advanced ovarian cancer. Following Lifestyle Recommendations Reduces Risk of Cancer Death\\nPeople who follow the diet and lifestyle recommendations laid out by the WCRF and the AICR have a 20 percent reduced risk of dying from cancer. UCSF Launches Social Networking Site for Patients and Families with Hereditary Cancers\\nFor Immediate Release May 14, 2013 UCSF Launches Social Networking Site for Patients and Families... Genomic Test May Help Guide Prostate Cancer Treatment\\nThe Oncotype DX® Prostate Cancer Test strongly predicts aggressiveness of disease. Statins Linked to Lower Risk of Liver Cancer in Hepatitis C\\nPeople infected with chronic hepatitis C are less likely to develop liver cancer if they are taking statins.\\nRadioimmunotherapy (RIT) is a type of targeted therapy that delivers radiation directly to cancer cells.... Urinary Incontinence\\nOverview The urinary tract includes the kidneys, the ureters, the bladder, and the urethra. The kidneys... Advanced Directives\\nLiving Wills Every competent adult has, in most cases, the freedom to accept or refuse medical treatment.... Caregivers\\nWhat is Caregiving and Who are Caregivers? Caregivers are individuals who provide care to chronically... Chemotherapy for Older Patients: What You Should Know About the Risk of Infection\\nAs you may already know, chemotherapy works by attacking the rapidly dividing cells it finds in the body,...\\nAn ongoing series highlighting complementary therapies, adapted from The Complete Guide to Complementary... Clear and precise\\nMohs surgery provides a tissue-sparing approach to skin cancer surgery. By Eleanor Mayfield Michele Kelsey... Chemical Reaction\\nChemicals may be disrupting our hormones—and our health. By Laurie Wertich Exposure to synthetic chemicals... College Kids Kick Cancer\\nBy Diana Price College kids and cancer—not two topics most of us would immediately connect. And yet... Cooking with Fruits and Vegetables\\nIn the introduction to Ripe: A Fresh, Colorful Approach to Fruits and Vegetables (Running Press, 2011;...\\nAnnual meeting brings together cancer experts from around the world. Kari Bohlke, ScD The 2011 Annual... Bone Fractures in Breast Cancer Patients More Frequent with Femara than with Tamoxifen\\nResearchers affiliated with the BIG I-98 Collaborative and International Breast Study Groups... Single Treatment with High-intensity Focused Ultrasound Effective for Localized Prostate Cancer\\nResearchers from McMaster University in Canada have reported that high-intensity focused... Marital Separation Impacts Cancer Survival\\nResearchers from the University of Indiana and the Fox Chase Cancer Center... 2009 Oncology Conference Coverage View up-to-date coverage of the 2009 Oncology Conference here.',\n",
       " 'Free the Cans! Working Together to Reduce Waste\\nIn a blog about how people share, it’s worth the occasional reference to the bizarre ways that people DON’T SHARE. Is it safe to say we live in a society that places great value on independence, private property, personal space, and privacy? Even sometimes extreme value? Is that why people at an 8-unit apartment building in Oakland, CA have separate caged stalls for eight separate trash cans? I know it’s not nice to stare, but I walked by these incarcerated cans and could not help myself. I returned with my camera, so that I could share my question with the world: Why can’t people share trash cans or a single dumpster? Or, at the very least, why can’t the cans share driveway space?\\nThe Zero Waste Movement has come to the Bay Area and it calls for a new use for these eight cages. Here are my suggestions:\\n- Turn two of those cages into compost bins. Fill one with grass, leaves, and vegetable scraps, let it decompose for six months, then start filling the second bin in the meantime.\\n- Put in a green can, which is what Oakland uses to collect milk cartons, pizza boxes, yard trimmings, and all food to send it to the municipal composting facility. If your city doesn’t do this yet, tell them it’s a great idea and they could be as cool and cutting edge as Oakland.\\n- Put in one or two recycling cans for glass, plastic, cardboard, paper, aluminum, etc.\\n- Put out a FREE STUFF box for unwanted clothing and household items. The neighbors could sort through it each week, and later put it out on the curb for passers-by to explore. Take what’s left to Goodwill or a comparable donation spot.\\n- Put in a few small bins for various items that can be recycled, such asbatteries and electronics, which can then be taken to an electronics recycling center every month or two. Styrofoam can be brought to a local packaging store or ceramics business that accepts used packaging material. Or, if you accumulate a bunch of plastic bags,take them to a store or to some other place that accepts used ones.\\n- Put in ONE trash can. By the time you compost, recycle, re-use, redistribute, and take a few other measures to reduce your waste, you’ll have almost no trash each week.\\n- Install a bicycle rack or locked bicycle cage.\\n- With the leftover space, put in a container garden and a bench where neighbors can gather and chat. A much more pleasant alternative to the garbage can jailhouse ambiance, wouldn’t you agree?',\n",
       " \"ORLANDO, Fla. — While the Rapid Recall Exchange, the 2-year-old industry recall portal, has signed up more than 600 manufacturer and retailer subscribers, it still lacks the “critical mass” of suppliers that would make it a primary source of recall information, according to trade association officials and retailers.\\nManufacturers use the exchange to communicate timely and accurate product recall and withdrawal notifications to retailer and wholesaler headquarters, which in turn share the information with individual stores. The exchange's retail membership represents 85% of U.S. grocery volume — including 21 of the 24 largest supermarket chains based in the United States — but it still lacks key suppliers, especially in the fresh food sectors, said Pat Walsh, senior vice president, industry relations, education and research for Food Marketing Institute, Arlington, Va.\\n“We have good penetration [among manufacturers] on the dry grocery side — though it needs to be better — and need to expand in other fresh food verticals like meat, produce, deli and bakery,” said Walsh, who participated in a session on the RRE at the U Connect Live conference here earlier this month.\\nMajor food distributors in the exchange, including Kroger, Wegmans and Wakefern, have recently sent letters to their vendors explaining that the only way they will accept recall information is via the RRE, noted Brian Lynch, senior director of business and industry development for the Grocery Manufacturers Association, Washington, who also participated in the U Connect Live session. In an April letter posted on www.rapidrecallexchange.org, Kroger asked all of its suppliers to subscribe to the exchange by July 1.\\nMichael Roberson, director of corporate quality assurance for Publix Super Markets, Lakeland, Fla., said in the U Connect Live session that the chain is “disappointed” in the number of manufacturers using the Rapid Recall Exchange.\\n“Only 222 of our grocery suppliers are signed up, and more than 1,000 have not yet joined,” Roberson said. “We need to have the entire food industry collaborating on the Rapid Recall Exchange.”\\nLast year, of the 300 recalls Publix experienced, fewer than 50 went through the RRE, he said, adding that industrywide only 15% of recalls were submitted to the RRE. A total of 65 recalls have been issued through the exchange industrywide since its September 2009 launch.\\nFor recalls that went through the RRE at Publix, Roberson observed “the absolute excellence in the information that was communicated,” including product GTINs (global trade identification numbers), the reason for the recall, and photos. “If we get this information from our trading partners using RRE, then we eliminate most of the [internal] steps because everything works together through this tool,” he said. By contrast, for recalls that don't go through the RRE, “nine times out of 10 we're going back to trading partners and seeking out additional information.”\\nPublix has been proactive in urging manufacturers to join the exchange, Roberson said. In addition, Publix has expanded its supplier scorecard to monitor and rank suppliers on whether they leverage the RRE.\\nThe RRE was created by FMI and GS1 US, Lawrenceville, N.J., which will be issuing a new version of the exchange, 2.3, in August.\",\n",
       " 'September 28, 2010\\n2010 Season - Bowman pulls down CCIW honor\\n|Matt Bowman was named CCIW \"Runner of the Week\" after his fourth place finish at the Brissman-Lundeen Invitational in Rock Island, Illinois on September 24.|\\nAugustana senior Matt Bowman (Geneva HS, Elburn, Ill.) was selected as the “Runner of the Week” in the College Conference of Illinois & Wisconsin. Bowman’s strong performance helped the Vikings finish second at the Brissman-Lundeen Invitational at Augustana College in Rock Island, Illinois on Saturday, September 24. It was an impressive second place finish for head coach Paul Olsen’s crew as they beat four nationally ranked teams.\\nAugustana, ranked sixth in the latest U.S. Track & Field/Cross Country Coaches Association Division III Mideast Regional poll, was one of three teams ranked in the top 10 to compete at the meet. Wisconsin-Stevens Point, ranked fifth, took the team title with 23 points. Augustana finished second with 55 points while Wisconsin-Whitewater, the seventh ranked team in regional poll, placed third with 88 points. Olivet Nazarene took fourth (138), Truman State was fifth (150) and Greenville placed sixth (263).\\nThe field also included a couple of ranked teams in the Division III Central Regional poll. Cornell College, ranked ninth, finished tenth in the team scores with 307 points. Grinnell, the number one ranked team in the Central region, finished 16th with 415 points.\\nBowman led the way for Augustana with with a fourth place finish and a time of 25:10 over the 8,000 meter course. The Vikings had ten runners run a time of 26:01 or faster. Tim Thornburg of Wisconsin-Stevens Point won the individual race with a time of 24:58 while teammates Terry Witkowski and Joel Heroux finished second and third with times of 25:00 and 25:10, respectively.\\nEarlier this year, Bowman finished second overall at the Western Illinois Invitational in a time of 26:11 leading the Vikings to a team victory over a field that included Western Illinois, a Division I school. The next week Bowman was the second Viking runner to cross the line at the Illinois Intercollegiate Championships. He finished in a time of 25:49, which was good for a 26th place finish in a field made up of the top college runners in the state of Illinois.\\nAugustana, which has only lost to two NCAA Division III schools this year –North Central at the Illinois Intercollegiate meet on September 17 and this past week to Wisconsin-Stevens Point at the Brissman-Lundeen Invitational on September 24 – will have a weekend off before they head to Waverly, Iowa to run at the Wartburg Invite on Saturday, October 9.\\nBowman, the son of Gary Bowman of Geneva, Illinois and Linda Bowman of Elburn, Illinois, is an art history major.',\n",
       " 'Kraft Foods has taken the Cadbury chocolate brand in a new direction, by combining it with cheese for the first time.\\nThe company is bringing together two of its brands and launching Philadelphia with Cadbury, a chilled chocolate spread made from Philadelphia Light and Cadbury chocolate.\\nKraft believes the new product has the potential to do very well and is targeting £10m in sales in the first year.\\nThe new cheese and chocolate spread is being launched on 1 February and will be appear in the chilled dairy aisle next to plain Philadelphia Light.\\nIt is launching in a 160g tub and a 120g four-pack of mini tubs, both with an rsp of £1.62.\\nKraft is supporting the launch with a £3.2m marketing budget in 2012 and is targeting 2,000 tonnes in volume sales – equivalent to about £10m – in the first year.\\nIf they reached this volume of sales, the new Philadelphia with Cadbury would have the same market value as Garlic & Herb, currently the biggest-selling flavour in the Philadelphia portfolio.\\nKraft already offers chocolate variants of Philadelphia in Italy and Germany, using Milka chocolate and targeting the breakfast occasion.\\nIn Germany, Philadelphia with Milka has generated €22.2m in sales since its October 2010 launch and has a 6.6% value share of the chocolate spread market.\\nKraft Foods UK marketing manager Bruce Newman said:\\n“The UK product would be positioned as a snack.\\n“The breakfast market in countries such as Germany is more developed, and our consumer research firmly identified Philadelphia with Cadbury as a snack.”',\n",
       " 'You must be a registered member to view this page.|\\nIf you are already a member, sign in now.\\nTo register for your own account, sign up now.\\nSigning up will REMOVE MOST OF THE ANNOYING ADS from your screen.\\nCLICK HERE TO CREATE YOUR ACCOUNT\\n- Get advice\\n- Make friends\\n- Share your expertise\\n- Post in our forums\\n- Send private messages\\n- Join interest groups\\n- Be a community leader\\n- Track your mood\\n- Upload photos',\n",
       " '|Facility Type:||Full Service Restaurant|\\n|Inspection date:||March 27, 2012|\\n|Number of critical violations:||3|\\n|Number of non-critical violations:||3|\\nDefinition of critical and non critical violations\\n|Code||Observation / Corrective Action|\\n|2-201.11(A)(1)-(5)|| Critical Repeat Upon discussion with the person-in-charge, one or more of the elements of an effective employee health policy is either missing or incomplete. A complete employee health policy is required to be in place at the food establishment. At the time of this inspection, the Health Department provided and reviewed handouts and resource information to be used by the person-in-charge to develop a complete employee health policy.|\\nA complete employee health policy must have the following elements: 1) Employee training on foodborne illness, particularly symptoms of illness and prevention of the Big Five illnesses (see \"The Big Five Foodborne Illnesses Information Sheet\" handout); and 2) Documentation that employees have been instructed of their responsibility to report symptoms of, diagnosis of or exposure to foodborne illness to management (see \"Employee Health Agreement\" handout); and 3) A management plan to restrict or exclude employees, as applicable, who have symptoms, diagnosis or exposure to foodborne illness (see \"Employee Illness Decision Guide for PIC/CFM\" handout). The information provided at the time of this inspection will help you develop and implement this policy. Handouts are available in the following languages: English, Chinese (traditional), Korean, Spanish, Thai, and Vietnamese. If you have any questions about your employee health policy, please contact your area inspector or contact the Health Department at 703-246-2444, TTY 703-591-6435.\\n|2-301.15||Corrected During Inspection Two food employees were observed cleaning their hands in three compartment sink.|\\nALL food employees shall wash their hands in ONLY a designated handsink.\\n|3-301.11(B)||Corrected During Inspection Critical A food employee was observed handling the following ready-to-eat food using their bare hands: bean sprouts and spring rolls.|\\nExcept when washing fruits and vegetables, food employees may not contact ready-to-eat foods using their bare hands. Employees shall use suitable utensils such as deli tissue, spatulas, tongs, or clean disposable gloves to handle all ready-to-eat foods.\\n|5-205.11(A)||Corrected During Inspection Repeat The handwashing facility located in the kitchen is blocked by a rolling cart with meat slicer, preventing access by employees for easy handwashing.|\\nA handwashing sink shall be maintained so that it is accessible at all times for employee use.\\n|3-501.16(A)(2)(a)||Corrected During Inspection Critical The following food item(s) were observed cold holding at improper temperatures using a calibrated food temperature measuring device: bean sprout (56F) - moved to cooler. Manager will ice bean sprouts to keep temperature at or under 41F.|\\nPotentially hazardous foods (time/temperature control for safety food) shall be held cold at a temperature of 41°F or below unless the permit holder is using \"time as public health control\" as specified under 3-501.19 to limit bacteria growth.\\n|3-305.11(A)(3)|| Food stored on the floor and/or food stored less than 6 inches off the floor: in the freezer. |\\nFood shall be protected from contamination by storing the food at least 6 inches off the floor on approved shelving units or dunnage racks. Milk crates, soda crates, or bread racks are not suitable for food storage.',\n",
       " \"News of the Week\\nBarrie Spring Studio Tour\\nApril 27th & 28th\\n10:00 til 4:00 pm\\nCome on down to Jill Price Studios this weekend to check out works I have created over the last year, as well as find some neat works from my artistic past in tje awesome sales bins created just for this weekend. You will also be able to see the upcycled creations of Lisa Brunetta. From popcan earrings to oil paintings of beach scenes, you may not need to head anywhere else.\\nHit us first, if you still need to pick up a brochure.\\nUpcoming Workshops @ Jill Price Studios Online\\nI am offering a new series of workshops out of Gallery 111 starting this May. Web Savvy seminars for Creatives will help you build your online presence in an exciting and creative way so that you'll barely know you're doing business. To read about the workshops, click on the document below.\\nAlso, the video of my Art Battle experience is now completed and posted on Vimeo. Watch parts 1 - 3 to get the full effect.\\nRural Transitions: Team Selected\\nLatcham Annual Juried Exhibition\\nSat. Apr.27 - Sat. June 1, 2013\\nOpening reception Sat. Apr. 27 1-3 pm.\\nI just found out that one of my mixed media textiles will be featured in the Latcham Gallery Annual Juried Exhibition this year. Selected by the jurors Katerina Atanassova, curator at the McMichael Canadian Art Collection in Kleinburg, Laura Millard, artist and professor at OCAD University in Toronto\\nand Sean McQuay, artist and professor at Durham College in Oshawa, I feel extremely honoured. Giving a juror's talk next Wednesday, I hope to speak with them directly and get some immediate feedback to my work. One of the coolest things about the Latcham gallery, is that it is right beside the sally ann in Stouville. A one stop shop for any artist!\"]"
      ]
     },
     "execution_count": 15,
     "metadata": {},
     "output_type": "execute_result"
    }
   ],
   "source": [
    "base_dataset[range(10)][\"text\"]"
   ]
  },
  {
   "cell_type": "code",
   "execution_count": 16,
   "metadata": {},
   "outputs": [
    {
     "name": "stdout",
     "output_type": "stream",
     "text": [
      "1e+06 chat examples and 1.5e+07 base examples\n"
     ]
    }
   ],
   "source": [
    "print(\n",
    "    f\"{len(chat_dataset):.2g} chat examples and {len(base_dataset):.2g} base examples\"\n",
    ")"
   ]
  }
 ],
 "metadata": {
  "kernelspec": {
   "display_name": "Python 3",
   "language": "python",
   "name": "python3"
  },
  "language_info": {
   "codemirror_mode": {
    "name": "ipython",
    "version": 3
   },
   "file_extension": ".py",
   "mimetype": "text/x-python",
   "name": "python",
   "nbconvert_exporter": "python",
   "pygments_lexer": "ipython3",
   "version": "3.10.12"
  }
 },
 "nbformat": 4,
 "nbformat_minor": 2
}
