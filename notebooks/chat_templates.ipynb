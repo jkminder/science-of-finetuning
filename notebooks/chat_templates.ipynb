{
 "cells": [
  {
   "cell_type": "code",
   "execution_count": 1,
   "metadata": {},
   "outputs": [],
   "source": [
    "import sys\n",
    "\n",
    "sys.path.append(\"..\")\n",
    "%load_ext autoreload\n",
    "%autoreload 2\n"
   ]
  },
  {
   "cell_type": "code",
   "execution_count": 2,
   "metadata": {},
   "outputs": [],
   "source": [
    "import json\n",
    "import pickle\n",
    "from collections import defaultdict\n",
    "import plotly.graph_objects as go\n",
    "import plotly.subplots as sp\n",
    "import pandas as pd\n",
    "import numpy as np\n",
    "import torch as th\n",
    "\n",
    "from nnterp import load_model\n",
    "from utils import chat_template, compute_cross_entropy"
   ]
  },
  {
   "cell_type": "code",
   "execution_count": 3,
   "metadata": {},
   "outputs": [],
   "source": [
    "dispatch = False\n",
    "th.set_grad_enabled(False)\n",
    "base_device = \"cuda:0\"\n",
    "chat_device = f\"cuda:{th.cuda.device_count()-1}\"\n",
    "base_model = load_model(\n",
    "    \"google/gemma-2-2b\",\n",
    "    device_map=base_device,\n",
    "    attn_implementation=\"eager\",\n",
    "    dispatch=dispatch,\n",
    ")\n",
    "chat_model = load_model(\n",
    "    \"google/gemma-2-2b-it\",\n",
    "    tokenizer_kwargs={\"chat_template\": chat_template, \"padding_side\": \"right\"},\n",
    "    device_map=chat_device,\n",
    "    attn_implementation=\"eager\",\n",
    "    dispatch=dispatch,\n",
    ")\n",
    "chat_tokenizer = chat_model.tokenizer"
   ]
  },
  {
   "cell_type": "code",
   "execution_count": 4,
   "metadata": {},
   "outputs": [
    {
     "name": "stdout",
     "output_type": "stream",
     "text": [
      "['<bos>', '<start_of_turn>', 'user', '\\n', 'Hello', ',', '▁how', '▁are', '▁you', '?', '<end_of_turn>', '\\n', '<start_of_turn>', 'model', '\\n', 'I', \"'\", 'm', '▁fine', ',', '▁thank', '▁you', '!', '<end_of_turn>', '\\n', '<start_of_turn>', 'user', '\\n', 'What', '▁is', '▁your', '▁name', '?', '<end_of_turn>', '\\n', '<start_of_turn>', 'model', '\\n', 'My', '▁name', '▁is', '▁Gemma', '.', '<end_of_turn>', '\\n']\n"
     ]
    }
   ],
   "source": [
    "sample_chat = [\n",
    "    {\"role\": \"user\", \"content\": \"Hello, how are you?\"},\n",
    "    {\"role\": \"assistant\", \"content\": \"I'm fine, thank you!\"},\n",
    "    {\"role\": \"user\", \"content\": \"What is your name?\"},\n",
    "    {\"role\": \"assistant\", \"content\": \"My name is Gemma.\"},\n",
    "]\n",
    "toks = chat_tokenizer.apply_chat_template(sample_chat, tokenize=True)\n",
    "print(chat_tokenizer.convert_ids_to_tokens(toks))"
   ]
  },
  {
   "cell_type": "markdown",
   "metadata": {},
   "source": [
    "## tokenizer explorations"
   ]
  },
  {
   "cell_type": "code",
   "execution_count": 5,
   "metadata": {},
   "outputs": [
    {
     "data": {
      "text/plain": [
       "['<>',\n",
       " '<b>',\n",
       " '<blockquote>',\n",
       " '<caption>',\n",
       " '<code>',\n",
       " '<em>',\n",
       " '<h1>',\n",
       " '<h2>',\n",
       " '<h3>',\n",
       " '<h4>',\n",
       " '<h5>',\n",
       " '<h6>',\n",
       " '<i>',\n",
       " '<s>',\n",
       " '<strong>',\n",
       " '<sub>',\n",
       " '<sup>',\n",
       " '<table>',\n",
       " '<tbody>',\n",
       " '<td>',\n",
       " '<tfoot>',\n",
       " '<th>',\n",
       " '<thead>',\n",
       " '<tr>',\n",
       " '<u>']"
      ]
     },
     "execution_count": 5,
     "metadata": {},
     "output_type": "execute_result"
    }
   ],
   "source": [
    "toks = [t for t in base_model.tokenizer.vocab if t.startswith(\"<\")]\n",
    "# filter out <.x..> patterns\n",
    "import re\n",
    "\n",
    "toks = [\n",
    "    t\n",
    "    for t in toks\n",
    "    if not re.match(r\"<.x..>\", t) and not t.startswith(\"<unused\") and t.endswith(\">\")\n",
    "]\n",
    "\n",
    "\n",
    "def has_other(tok):\n",
    "    if tok.startswith(\"</\"):\n",
    "        return tok[0] + tok[2:] in toks\n",
    "    return tok[0] + \"/\" + tok[1:] in toks\n",
    "\n",
    "\n",
    "toks = [tok for tok in toks if has_other(tok) and not tok.startswith(\"</\")]\n",
    "sorted(toks)"
   ]
  },
  {
   "cell_type": "code",
   "execution_count": 6,
   "metadata": {},
   "outputs": [
    {
     "data": {
      "text/plain": [
       "['\\n',\n",
       " '\\n\\n',\n",
       " '\\n\\n\\n',\n",
       " '\\n\\n\\n\\n',\n",
       " '\\n\\n\\n\\n\\n',\n",
       " '\\n\\n\\n\\n\\n\\n',\n",
       " '\\n\\n\\n\\n\\n\\n\\n',\n",
       " '\\n\\n\\n\\n\\n\\n\\n\\n',\n",
       " '\\n\\n\\n\\n\\n\\n\\n\\n\\n',\n",
       " '\\n\\n\\n\\n\\n\\n\\n\\n\\n\\n',\n",
       " '\\n\\n\\n\\n\\n\\n\\n\\n\\n\\n\\n',\n",
       " '\\n\\n\\n\\n\\n\\n\\n\\n\\n\\n\\n\\n',\n",
       " '\\n\\n\\n\\n\\n\\n\\n\\n\\n\\n\\n\\n\\n',\n",
       " '\\n\\n\\n\\n\\n\\n\\n\\n\\n\\n\\n\\n\\n\\n',\n",
       " '\\n\\n\\n\\n\\n\\n\\n\\n\\n\\n\\n\\n\\n\\n\\n',\n",
       " '\\n\\n\\n\\n\\n\\n\\n\\n\\n\\n\\n\\n\\n\\n\\n\\n',\n",
       " '\\n\\n\\n\\n\\n\\n\\n\\n\\n\\n\\n\\n\\n\\n\\n\\n\\n',\n",
       " '\\n\\n\\n\\n\\n\\n\\n\\n\\n\\n\\n\\n\\n\\n\\n\\n\\n\\n',\n",
       " '\\n\\n\\n\\n\\n\\n\\n\\n\\n\\n\\n\\n\\n\\n\\n\\n\\n\\n\\n',\n",
       " '\\n\\n\\n\\n\\n\\n\\n\\n\\n\\n\\n\\n\\n\\n\\n\\n\\n\\n\\n\\n',\n",
       " '\\n\\n\\n\\n\\n\\n\\n\\n\\n\\n\\n\\n\\n\\n\\n\\n\\n\\n\\n\\n\\n',\n",
       " '\\n\\n\\n\\n\\n\\n\\n\\n\\n\\n\\n\\n\\n\\n\\n\\n\\n\\n\\n\\n\\n\\n',\n",
       " '\\n\\n\\n\\n\\n\\n\\n\\n\\n\\n\\n\\n\\n\\n\\n\\n\\n\\n\\n\\n\\n\\n\\n',\n",
       " '\\n\\n\\n\\n\\n\\n\\n\\n\\n\\n\\n\\n\\n\\n\\n\\n\\n\\n\\n\\n\\n\\n\\n\\n',\n",
       " '\\n\\n\\n\\n\\n\\n\\n\\n\\n\\n\\n\\n\\n\\n\\n\\n\\n\\n\\n\\n\\n\\n\\n\\n\\n',\n",
       " '\\n\\n\\n\\n\\n\\n\\n\\n\\n\\n\\n\\n\\n\\n\\n\\n\\n\\n\\n\\n\\n\\n\\n\\n\\n\\n',\n",
       " '\\n\\n\\n\\n\\n\\n\\n\\n\\n\\n\\n\\n\\n\\n\\n\\n\\n\\n\\n\\n\\n\\n\\n\\n\\n\\n\\n',\n",
       " '\\n\\n\\n\\n\\n\\n\\n\\n\\n\\n\\n\\n\\n\\n\\n\\n\\n\\n\\n\\n\\n\\n\\n\\n\\n\\n\\n\\n',\n",
       " '\\n\\n\\n\\n\\n\\n\\n\\n\\n\\n\\n\\n\\n\\n\\n\\n\\n\\n\\n\\n\\n\\n\\n\\n\\n\\n\\n\\n\\n',\n",
       " '\\n\\n\\n\\n\\n\\n\\n\\n\\n\\n\\n\\n\\n\\n\\n\\n\\n\\n\\n\\n\\n\\n\\n\\n\\n\\n\\n\\n\\n\\n',\n",
       " '\\n\\n\\n\\n\\n\\n\\n\\n\\n\\n\\n\\n\\n\\n\\n\\n\\n\\n\\n\\n\\n\\n\\n\\n\\n\\n\\n\\n\\n\\n\\n']"
      ]
     },
     "execution_count": 6,
     "metadata": {},
     "output_type": "execute_result"
    }
   ],
   "source": [
    "nl_tokens = [tok for tok in base_model.tokenizer.vocab if tok.startswith(\"\\n\")]\n",
    "sorted(nl_tokens)\n"
   ]
  },
  {
   "cell_type": "code",
   "execution_count": 7,
   "metadata": {},
   "outputs": [
    {
     "data": {
      "text/plain": [
       "['\\r',\n",
       " '\\r\\r',\n",
       " '!\\r',\n",
       " '!\")\\r',\n",
       " '!\");\\r',\n",
       " '\"\\r',\n",
       " '\"\"\"\\r',\n",
       " '\"\",\\r',\n",
       " '\")\\r',\n",
       " '\"))\\r',\n",
       " '\")));\\r',\n",
       " '\"));\\r',\n",
       " '\")){\\r',\n",
       " '\"),\\r',\n",
       " '\"):\\r',\n",
       " '\");\\r',\n",
       " '\")]\\r',\n",
       " '\"){\\r',\n",
       " '\"+\\r',\n",
       " '\",\\r',\n",
       " '\".\\r',\n",
       " '\"/>\\r',\n",
       " '\":\\r',\n",
       " '\";\\r',\n",
       " '\">\\r',\n",
       " '\">\\r\\r',\n",
       " '\"]\\r',\n",
       " '\"])\\r',\n",
       " '\"]);\\r',\n",
       " '\"],\\r',\n",
       " '\"];\\r',\n",
       " '\"},\\r',\n",
       " '#\\r',\n",
       " '##\\r',\n",
       " '#%%\\r',\n",
       " '$\\r',\n",
       " '$$\\r',\n",
       " '$,\\r',\n",
       " '$.\\r',\n",
       " '%\\r',\n",
       " '%%\\r',\n",
       " '%;\\r',\n",
       " '&\\r',\n",
       " \"'\\r\",\n",
       " \"'''\\r\",\n",
       " \"')\\r\",\n",
       " \"'))\\r\",\n",
       " \"'));\\r\",\n",
       " \"'),\\r\",\n",
       " \"'):\\r\",\n",
       " \"');\\r\",\n",
       " \"'){\\r\",\n",
       " \"',\\r\",\n",
       " \"',\\r\\r\",\n",
       " \"':\\r\",\n",
       " \"';\\r\",\n",
       " \"'>\\r\",\n",
       " \"']\\r\",\n",
       " \"'])\\r\",\n",
       " \"']))\\r\",\n",
       " \"'])){\\r\",\n",
       " \"']);\\r\",\n",
       " \"'],\\r\",\n",
       " \"'];\\r\",\n",
       " \"'},\\r\",\n",
       " '(\\r',\n",
       " '(\"\")\\r',\n",
       " '(\"\");\\r',\n",
       " '(\"\")]\\r',\n",
       " \"('');\\r\",\n",
       " '()\\r',\n",
       " '())\\r',\n",
       " '()))\\r',\n",
       " '()));\\r',\n",
       " '());\\r',\n",
       " '()){\\r',\n",
       " '(),\\r',\n",
       " '():\\r',\n",
       " '();\\r',\n",
       " '();\\r\\r',\n",
       " '()]\\r',\n",
       " '(){\\r',\n",
       " '([\\r',\n",
       " '({\\r',\n",
       " ')\\r',\n",
       " ')\\r\\r',\n",
       " ')\");\\r',\n",
       " ')\";\\r',\n",
       " '))\\r',\n",
       " ')))\\r',\n",
       " ')));\\r',\n",
       " ')),\\r',\n",
       " ')):\\r',\n",
       " '));\\r',\n",
       " ')){\\r',\n",
       " '),\\r',\n",
       " ').\\r',\n",
       " '):\\r',\n",
       " ');\\r',\n",
       " ');\\r\\r',\n",
       " ')=>{\\r',\n",
       " ')]\\r',\n",
       " ')];\\r',\n",
       " '){\\r',\n",
       " ')}\\r',\n",
       " '*\\r',\n",
       " '**\\r',\n",
       " '**/\\r',\n",
       " '*/\\r',\n",
       " '*/\\r\\r',\n",
       " '*}\\r',\n",
       " '+\\r',\n",
       " '++\\r',\n",
       " '++)\\r',\n",
       " '++){\\r',\n",
       " '++;\\r',\n",
       " ',\\r',\n",
       " ',\\r\\r',\n",
       " '-\\r',\n",
       " '--\\r',\n",
       " '--)\\r',\n",
       " '---\\r',\n",
       " '-------\\r',\n",
       " '----------\\r',\n",
       " '--;\\r',\n",
       " '-->\\r',\n",
       " '.\\r',\n",
       " '.\")\\r',\n",
       " '.\");\\r',\n",
       " '.\",\\r',\n",
       " '.\";\\r',\n",
       " '.*;\\r',\n",
       " '...\\r',\n",
       " '...\");\\r',\n",
       " '/\\r',\n",
       " '/*\\r',\n",
       " '/*!\\r',\n",
       " '/**\\r',\n",
       " '/**\\r\\r',\n",
       " '/***\\r',\n",
       " '//\\r',\n",
       " '//!\\r',\n",
       " '///\\r',\n",
       " '//{\\r',\n",
       " '//}\\r',\n",
       " '/>\\r',\n",
       " ':\\r',\n",
       " ':\");\\r',\n",
       " ':{\\r',\n",
       " ';\\r',\n",
       " ';\\r\\r',\n",
       " ';\">\\r',\n",
       " ';}\\r',\n",
       " '<!--\\r',\n",
       " '</>\\r',\n",
       " '<>\\r',\n",
       " '<>();\\r',\n",
       " '<?\\r',\n",
       " '=\\r',\n",
       " '=\"\";\\r',\n",
       " '=\"\">\\r',\n",
       " \"='';\\r\",\n",
       " '=[]\\r',\n",
       " '=[];\\r',\n",
       " '={\\r',\n",
       " '>\\r',\n",
       " '>\\r\\r',\n",
       " '>\");\\r',\n",
       " '>\",\\r',\n",
       " '>\";\\r',\n",
       " \">';\\r\",\n",
       " '>();\\r',\n",
       " '?\\r',\n",
       " '?>\\r',\n",
       " '[\\r',\n",
       " '[]\\r',\n",
       " '[])\\r',\n",
       " '[];\\r',\n",
       " '\\\\\\r',\n",
       " '\\\\[\\r',\n",
       " '\\\\\\\\\\r',\n",
       " '\\\\]\\r',\n",
       " ']\\r',\n",
       " '])\\r',\n",
       " ']))\\r',\n",
       " ']));\\r',\n",
       " ']),\\r',\n",
       " ']);\\r',\n",
       " ']){\\r',\n",
       " '],\\r',\n",
       " ']:\\r',\n",
       " '];\\r',\n",
       " ']]\\r',\n",
       " '_\\r',\n",
       " '_;\\r',\n",
       " '__\":\\r',\n",
       " \"__':\\r\",\n",
       " '`\\r',\n",
       " '`,\\r',\n",
       " '`;\\r',\n",
       " '```\\r',\n",
       " '{\\r',\n",
       " '{\\r\\r',\n",
       " '{}\\r',\n",
       " '|\\r',\n",
       " '}\\r',\n",
       " '}\\r\\r',\n",
       " '}\")\\r',\n",
       " '}%\\r',\n",
       " '})\\r',\n",
       " '})();\\r',\n",
       " '}))\\r',\n",
       " '}));\\r',\n",
       " '}),\\r',\n",
       " '});\\r',\n",
       " '});\\r\\r',\n",
       " '}*/\\r',\n",
       " '},\\r',\n",
       " '},{\\r',\n",
       " '}.\\r',\n",
       " '};\\r',\n",
       " '}>\\r',\n",
       " '}]\\r',\n",
       " '}],\\r',\n",
       " '}}\\r',\n",
       " '}}}\\r',\n",
       " '▁\\r',\n",
       " '▁\\r\\r',\n",
       " '▁\"\\r',\n",
       " '▁\"\"\\r',\n",
       " '▁\"\"\"\\r',\n",
       " '▁\"\")\\r',\n",
       " '▁\"\");\\r',\n",
       " '▁\"\",\\r',\n",
       " '▁\"\";\\r',\n",
       " '▁\")\\r',\n",
       " '▁\");\\r',\n",
       " '▁\";\\r',\n",
       " '▁&&\\r',\n",
       " \"▁'\\r\",\n",
       " \"▁''\\r\",\n",
       " \"▁'',\\r\",\n",
       " \"▁'';\\r\",\n",
       " \"▁')\\r\",\n",
       " \"▁';\\r\",\n",
       " '▁(\\r',\n",
       " '▁()\\r',\n",
       " '▁();\\r',\n",
       " '▁)\\r',\n",
       " '▁),\\r',\n",
       " '▁);\\r',\n",
       " '▁){\\r',\n",
       " '▁*\\r',\n",
       " '▁*\\r\\r',\n",
       " '▁**/\\r',\n",
       " '▁*/\\r',\n",
       " '▁*/\\r\\r',\n",
       " '▁+\\r',\n",
       " '▁,\\r',\n",
       " '▁-->\\r',\n",
       " '▁.\\r',\n",
       " '▁...\\r',\n",
       " '▁/**\\r',\n",
       " '▁//\\r',\n",
       " '▁/>\\r',\n",
       " '▁:\\r',\n",
       " '▁;\\r',\n",
       " '▁=\\r',\n",
       " '▁=>\\r',\n",
       " '▁>\\r',\n",
       " '▁?>\\r',\n",
       " '▁[\\r',\n",
       " '▁[]\\r',\n",
       " '▁[],\\r',\n",
       " '▁[];\\r',\n",
       " '▁[{\\r',\n",
       " '▁\\\\\\r',\n",
       " '▁\\\\\\\\\\r',\n",
       " '▁]\\r',\n",
       " '▁__\\r',\n",
       " '▁{\\r',\n",
       " '▁{\\r\\r',\n",
       " '▁{}\\r',\n",
       " '▁{},\\r',\n",
       " '▁{};\\r',\n",
       " '▁|\\r',\n",
       " '▁||\\r',\n",
       " '▁}\\r',\n",
       " '▁})\\r',\n",
       " '▁});\\r',\n",
       " '▁},\\r',\n",
       " '▁};\\r',\n",
       " '。\\r',\n",
       " '\\ufeff\\r',\n",
       " '：\\r']"
      ]
     },
     "execution_count": 7,
     "metadata": {},
     "output_type": "execute_result"
    }
   ],
   "source": [
    "nl_tokens = [tok for tok in base_model.tokenizer.vocab if tok.startswith(\"\\r\") or tok.endswith(\"\\r\")]\n",
    "sorted(nl_tokens)"
   ]
  },
  {
   "cell_type": "markdown",
   "metadata": {},
   "source": [
    "## dataset and chat templates"
   ]
  },
  {
   "cell_type": "code",
   "execution_count": 8,
   "metadata": {},
   "outputs": [],
   "source": [
    "from datasets import load_dataset\n",
    "\n",
    "dataset = load_dataset(\"HuggingFaceH4/ultrachat_200k\")\n",
    "sample_batch = list(dataset[\"test_sft\"][range(10)][\"messages\"]) + [sample_chat]"
   ]
  },
  {
   "cell_type": "code",
   "execution_count": 9,
   "metadata": {},
   "outputs": [
    {
     "name": "stdout",
     "output_type": "stream",
     "text": [
      "<bos><start_of_turn>user\n",
      "How does the author propose to fix the problem of science alienation in our educational system? What changes does she suggest should be made to science education? Answer according to: Science education should be split into two tracks.\n",
      "Split K-12 science education into two tracks, for majors and nonmajors.\n",
      "Those who want to specialize in science could take math and complex chemistry. Nonmajors would focus on science of the everyday—things like kitchen chemistry and CSI-style crime investigations.\n",
      "Some years ago, when I was working as a newspaper science writer in California, I fell into a rather idle conversation with a physicist on the subject of science education. Idle for him, at least, because what he said—the way he defined the American system of teaching K-12 students about science—has stayed with me since.\n",
      "This conversation has returned to me many times over the years. On the day my older son, who spent his childhood joyfully chasing insects and reading natural history books, came home from high school to announce that “biology is the most boring subject in the world.” The time the student adviser at the University of Wisconsin journalism school, where I teach, told me that undergrads don’t want to take science-writing classes because they already felt “beaten up by science.” Even on days when I read science literacy statistics and am startled by the percentage of people who think that antibiotics kill viruses as well as bacteria or that the sun revolves around the Earth.\n",
      "It’s easy for me to join with the chorus of concern over whether we are keeping up as a science-literate country. But even so, science literacy is the wrong term for the worried point I’m making here. I’m concerned about science alienation. The way we teach K-12 science, with its emphasis on the intricacies of formula and mathematical structure necessary for the next generation of scientists and engineers, shuts too many people out. I don’t mean just shut out of the priesthood here; there’s no reason for everyone to become a scientist. But shut out of the comfort zone, of the ability to think of science as something useful in daily life.\n",
      "And it’s the science-alienated who matter to me. Partly because as a science writer I find them the most interesting audience—I love the idea of seducing someone convinced that science is boring or meaningless into reading a research-centered story. Partly because I worry that what The New Yorker’s Michael Specter describes as a culture of science denialism is having a profound—possibly dangerous—effect on public policies. Think, for instance, of recent moves in Virginia, Texas, and North Carolina to deny that sea level rise is related to global climate change. And partly I just think that the filtered-out are cheated. They endure the mandatory classes, but they never really learn the main lesson—the way that science helps us understand ourselves and the world around us.\n",
      "The great psychologist and philosopher William James wrote more than 100 years ago that the science establishment would face consequences if it dismissed the importance of the lay public. In the year 1909, he said, it was easy to find people who no longer paid attention to the teachings of researchers. “They are indifferent to science,” he explained, “because science is so callously indifferent to their experiences.” Today, this is very relevant to K-12 science education: Our system breeds that indifference.\n",
      "How can we fix it? By requiring even more science education—but changing it dramatically. All high school students should have to take four years of science, instead of the minimal two usually required for graduation. Along with that, we should also offer separate “science tracks”—something like the old tracks for vocational or college-bound students. Those who want to specialize in science could take math, physics, and complex chemistry (and the kind of genetically detailed biology that my son disliked). Nonmajors, by contrast, would focus on what I think of as science of the everyday—things like kitchen chemistry, CSI-style crime investigation, the biology of health, and a class in the physics of sports that would include playing the games.\n",
      "My tracking system could easily build on existing science electives. My son’s school, for instance, teaches a forensic science unit which uses the classroom as an ever changing “crime scene,” exploring everything from DNA analysis to blood typing. It’s a way of putting science in context. More students would take such classes; more would be exposed to these ideas as they did the coursework needed to complete each track. Ideally, the tracks could be coordinated with the science classes offered for majors and nonmajors at the college level. Of course, occasionally a student might want to switch tracks—and we should allow for that, too. It could go both ways: Would-be scientists might realize that the field isn’t really for them and switch to the nonmajor track, while some students might be inspired by the CSI class to move into the more difficult sciences.\n",
      "We need to stop trying to teach every child as either a future scientist or a future failed scientist. We don’t want or need every student to be a scientist, but we do want each one to be a success. And success includes a solid understanding and appreciation of science, one that will remain useful to both themselves and society throughout their lives.\n",
      "Also in Slate’s special issue on science education: Fred Kaplan explains why another “Sputnik moment” would be impossible; Philip Plait explains why he became the “Bad Astronomer”; Paul Plotz describes how almost blowing up his parents’ basement made him a scientist; Tom Kalil says that the Obama administration is using the Make movement to encourage science education; and Dana Goldstein explains why you should make your daughter play video games. Also, share your ideas for fixing science education in the Hive. This article arises from Future Tense, a joint partnership of Slate, the New America Foundation, and Arizona State University.<end_of_turn>\n",
      "<start_of_turn>model\n",
      "The author proposes to fix the problem of science alienation in our educational system by splitting K-12 science education into two tracks, for majors and nonmajors. Those who want to specialize in science could take math and complex chemistry, while nonmajors would focus on science of the everyday – things like kitchen chemistry and CSI-style crime investigations. All high school students should take four years of science, and the tracking system could build on existing science electives. The goal is to teach every student a solid understanding and appreciation of science, one that will remain useful to both themselves and society throughout their lives.<end_of_turn>\n",
      "<start_of_turn>user\n",
      "Can you provide examples of how the proposed tracking system for science education could be implemented in schools?<end_of_turn>\n",
      "<start_of_turn>model\n",
      "There are several ways in which the proposed tracking system for science education could be implemented in schools. Here are a few examples:\n",
      "\n",
      "1. One approach could be to offer different science courses for majors and nonmajors starting in middle school. For example, in 6th grade, students could be divided into two tracks, and each track would take a different science course. In the major track, students would take a course that focuses on the foundations of science, including an emphasis on mathematics and physics. In the nonmajor track, students would take a course that focuses on science concepts that are relevant to everyday life, such as health and nutrition.\n",
      "\n",
      "2. Another approach could be to offer more advanced science courses in high school for students who wish to pursue a career in science. This could include courses in advanced physics, chemistry, and biology. For students who are not interested in a science career, science courses could be focused on more practical applications of science, such as environmental science or food science.\n",
      "\n",
      "3. Schools could also offer a wider range of science electives to cater to the varied interests of students. For example, students interested in engineering could take courses in robotics or renewable energy, while those interested in the medical field could take courses in anatomy and physiology.\n",
      "\n",
      "4. Hands-on science experiments and projects could be incorporated into science classes to make learning more engaging and relevant. For example, students could conduct experiments in their own kitchens to learn about chemical reactions, or participate in a mock crime scene investigation to learn about forensic science.\n",
      "\n",
      "Overall, the tracking system for science education proposed by the author could be implemented in a variety of ways, depending on the specific needs and interests of students in each school.<end_of_turn>\n",
      "<start_of_turn>user\n",
      "Can you explain how the proposed tracking system for science education would benefit students who are not interested in pursuing a career in science?<end_of_turn>\n",
      "<start_of_turn>model\n",
      "The proposed tracking system for science education would benefit students who are not interested in pursuing a career in science in several ways. First, it would help them develop an understanding and appreciation of science concepts that are relevant to everyday life, such as health, nutrition, and the environment. This would help them make informed decisions in their personal lives and understand how science impacts society as a whole.\n",
      "\n",
      "Second, focusing on science concepts that are practical and engaging would make science more interesting and relevant to non-science students. This could help them overcome their science alienation and develop a sense of curiosity and wonder about science.\n",
      "\n",
      "Lastly, the proposed tracking system would offer non-science students a wider range of science courses and electives to choose from, which would allow them to explore different areas of science according to their interests. For example, a student who is interested in sports could take a physics of sports class, while a student who is interested in cooking could take a kitchen chemistry class.\n",
      "\n",
      "Overall, the proposed tracking system for science education would benefit non-science students by providing them with a solid understanding and appreciation of science concepts that are relevant to their everyday lives, increasing their interest in science, and offering them more opportunities to explore science according to their interests.<end_of_turn>\n",
      "<start_of_turn>user\n",
      "Can you elaborate on how offering separate science tracks would inspire students to explore science further and possibly change their career path?<end_of_turn>\n",
      "<start_of_turn>model\n",
      "Offering separate science tracks would inspire students to explore science further and possibly change their career path by exposing them to a wider range of science concepts that are relevant to their interests and providing them with the opportunity to engage in hands-on, practical science activities that they may enjoy.\n",
      "\n",
      "For example, a student who takes a kitchen chemistry class in the non-major track may discover a newfound interest in food science and decide to pursue a career in that field. Similarly, a student who takes a physics of sports class may develop an interest in sports science and decide to pursue that field.\n",
      "\n",
      "Furthermore, by offering science courses that are more practical and engaging, students who may have previously been disinterested in science may discover a passion for a particular subject or field within science. This could motivate them to pursue further studies in that area and even consider a career in science.\n",
      "\n",
      "Overall, by offering separate science tracks, schools would be creating opportunities for students to explore science according to their interests and discover new areas of science that they may be passionate about. This could inspire them to change their career path and pursue a career in science, even if they had not previously considered it. The more science-literate our society is, the more equipped we are to tackle challenges and advance scientific discoveries.<end_of_turn>\n",
      "\n"
     ]
    }
   ],
   "source": [
    "print(\n",
    "    chat_model.tokenizer.apply_chat_template(\n",
    "        dataset[\"test_sft\"][0][\"messages\"], tokenize=False\n",
    "    )\n",
    ")"
   ]
  },
  {
   "cell_type": "code",
   "execution_count": 10,
   "metadata": {},
   "outputs": [],
   "source": [
    "from utils import RunningMeanStd\n",
    "\n",
    "base_chat_template = open(\"../templates/base_gemma_chat_template.jinja\").read()\n",
    "\n",
    "def sanitize(tok):\n",
    "    return tok.replace(\"\\r\", \"\\\\r\").replace(\"\\n\", \"\\\\n\")\n",
    "\n",
    "def custom_template(\n",
    "    *,\n",
    "    start_of_turn_token=\"<start_of_turn>\",\n",
    "    end_of_turn_token=\"<end_of_turn>\",\n",
    "    user_token=\"user\",\n",
    "    assistant_token=\"model\",\n",
    "    enforce_length=True,\n",
    "):\n",
    "    if enforce_length:\n",
    "        assert (\n",
    "            len(base_model.tokenizer.tokenize(start_of_turn_token)) == 1\n",
    "        ), \"start_of_turn_token must be a single token\"\n",
    "        assert (\n",
    "            len(base_model.tokenizer.tokenize(end_of_turn_token)) == 1\n",
    "        ), \"end_of_turn_token must be a single token\"\n",
    "        assert (\n",
    "            len(base_model.tokenizer.tokenize(user_token)) == 1\n",
    "        ), \"user_token must be a single token\"\n",
    "        assert (\n",
    "            len(base_model.tokenizer.tokenize(assistant_token)) == 1\n",
    "        ), \"assistant_token must be a single token\"\n",
    "    template = (\n",
    "        base_chat_template.replace(\"<start_of_turn>\", sanitize(start_of_turn_token))\n",
    "        .replace(\"<end_of_turn>\", sanitize(end_of_turn_token))\n",
    "        .replace(\"<user>\", sanitize(user_token))\n",
    "        .replace(\"model\", sanitize(assistant_token))\n",
    "    )\n",
    "    if enforce_length:\n",
    "        tokenized = chat_model.tokenizer.apply_chat_template(\n",
    "            sample_batch,\n",
    "            chat_template=chat_template,\n",
    "            return_dict=True,\n",
    "            return_assistant_tokens_mask=True,\n",
    "        )\n",
    "        custom_tokenized = chat_model.tokenizer.apply_chat_template(\n",
    "            sample_batch,\n",
    "            chat_template=template,\n",
    "            return_dict=True,\n",
    "            return_assistant_tokens_mask=True,\n",
    "        )\n",
    "        gt_inp_len = list(map(len, tokenized[\"input_ids\"]))\n",
    "        custom_inp_len = list(map(len, custom_tokenized[\"input_ids\"]))\n",
    "        assert (\n",
    "            gt_inp_len == custom_inp_len\n",
    "        ), f\"input_ids lens are not the same: {gt_inp_len} != {custom_inp_len}\"\n",
    "        assert (\n",
    "            tokenized[\"assistant_masks\"] == custom_tokenized[\"assistant_masks\"]\n",
    "        ), f\"assistant_masks are not the same: {tokenized['assistant_masks']} != {custom_tokenized['assistant_masks']}\"\n",
    "    return template\n",
    "\n",
    "\n",
    "role_setups = {\n",
    "    \"default\": dict(assistant_token=\"model\", user_token=\"user\"),\n",
    "    \"assistant\": dict(assistant_token=\"assistant\", user_token=\"user\"),\n",
    "    \"human\": dict(assistant_token=\"model\", user_token=\"human\"),\n",
    "    \"assistant_human\": dict(assistant_token=\"assistant\", user_token=\"human\"),\n",
    "    \"human_human\": dict(assistant_token=\"human\", user_token=\"human\"),\n",
    "    \"user_user\": dict(assistant_token=\"user\", user_token=\"user\"),\n",
    "    \"assistant_assistant\": dict(assistant_token=\"assistant\", user_token=\"assistant\"),\n",
    "    \"model_model\": dict(assistant_token=\"model\", user_token=\"model\"),\n",
    "    \"4chan\": dict(assistant_token=\"Anon123\", user_token=\"MemeMaster\", enforce_length=False),\n",
    "}\n",
    "delimiter_setups = {\n",
    "    \"default\": dict(start_of_turn_token=\"<start_of_turn>\", end_of_turn_token=\"<end_of_turn>\"),\n",
    "    \"blockquote\": dict(start_of_turn_token=\"<blockquote>\", end_of_turn_token=\"</blockquote>\"),\n",
    "    \"code\": dict(start_of_turn_token=\"<code>\", end_of_turn_token=\"</code>\"),\n",
    "    \"em\": dict(start_of_turn_token=\"<em>\", end_of_turn_token=\"</em>\"),\n",
    "}\n",
    "templates = {}\n",
    "for role_setup, r_kwargs in role_setups.items():\n",
    "    for delimiter_setup, d_kwargs in delimiter_setups.items():\n",
    "        templates[(role_setup, delimiter_setup)] = custom_template(**r_kwargs, **d_kwargs)"
   ]
  },
  {
   "cell_type": "code",
   "execution_count": 11,
   "metadata": {},
   "outputs": [
    {
     "data": {
      "text/html": [
       "<style type=\"text/css\">\n",
       "#T_171c8_row0_col0, #T_171c8_row0_col1, #T_171c8_row0_col2, #T_171c8_row0_col3, #T_171c8_row0_col4, #T_171c8_row0_col5, #T_171c8_row0_col6, #T_171c8_row0_col7, #T_171c8_row0_col8, #T_171c8_row0_col9, #T_171c8_row0_col10, #T_171c8_row0_col11, #T_171c8_row0_col12, #T_171c8_row0_col13, #T_171c8_row0_col14, #T_171c8_row0_col15, #T_171c8_row0_col16, #T_171c8_row0_col17, #T_171c8_row0_col18, #T_171c8_row0_col19, #T_171c8_row0_col20, #T_171c8_row0_col21, #T_171c8_row0_col22, #T_171c8_row0_col23, #T_171c8_row0_col24, #T_171c8_row0_col25, #T_171c8_row0_col26, #T_171c8_row0_col27, #T_171c8_row0_col28, #T_171c8_row0_col29, #T_171c8_row0_col30, #T_171c8_row0_col31, #T_171c8_row0_col32, #T_171c8_row0_col33, #T_171c8_row0_col34, #T_171c8_row0_col35 {\n",
       "  white-space: pre;\n",
       "  font-family: monospace;\n",
       "  text-align: left;\n",
       "}\n",
       "</style>\n",
       "<table id=\"T_171c8\">\n",
       "  <thead>\n",
       "    <tr>\n",
       "      <th class=\"blank level0\" >&nbsp;</th>\n",
       "      <th id=\"T_171c8_level0_col0\" class=\"col_heading level0 col0\" >default_default</th>\n",
       "      <th id=\"T_171c8_level0_col1\" class=\"col_heading level0 col1\" >default_blockquote</th>\n",
       "      <th id=\"T_171c8_level0_col2\" class=\"col_heading level0 col2\" >default_code</th>\n",
       "      <th id=\"T_171c8_level0_col3\" class=\"col_heading level0 col3\" >default_em</th>\n",
       "      <th id=\"T_171c8_level0_col4\" class=\"col_heading level0 col4\" >assistant_default</th>\n",
       "      <th id=\"T_171c8_level0_col5\" class=\"col_heading level0 col5\" >assistant_blockquote</th>\n",
       "      <th id=\"T_171c8_level0_col6\" class=\"col_heading level0 col6\" >assistant_code</th>\n",
       "      <th id=\"T_171c8_level0_col7\" class=\"col_heading level0 col7\" >assistant_em</th>\n",
       "      <th id=\"T_171c8_level0_col8\" class=\"col_heading level0 col8\" >human_default</th>\n",
       "      <th id=\"T_171c8_level0_col9\" class=\"col_heading level0 col9\" >human_blockquote</th>\n",
       "      <th id=\"T_171c8_level0_col10\" class=\"col_heading level0 col10\" >human_code</th>\n",
       "      <th id=\"T_171c8_level0_col11\" class=\"col_heading level0 col11\" >human_em</th>\n",
       "      <th id=\"T_171c8_level0_col12\" class=\"col_heading level0 col12\" >assistant_human_default</th>\n",
       "      <th id=\"T_171c8_level0_col13\" class=\"col_heading level0 col13\" >assistant_human_blockquote</th>\n",
       "      <th id=\"T_171c8_level0_col14\" class=\"col_heading level0 col14\" >assistant_human_code</th>\n",
       "      <th id=\"T_171c8_level0_col15\" class=\"col_heading level0 col15\" >assistant_human_em</th>\n",
       "      <th id=\"T_171c8_level0_col16\" class=\"col_heading level0 col16\" >human_human_default</th>\n",
       "      <th id=\"T_171c8_level0_col17\" class=\"col_heading level0 col17\" >human_human_blockquote</th>\n",
       "      <th id=\"T_171c8_level0_col18\" class=\"col_heading level0 col18\" >human_human_code</th>\n",
       "      <th id=\"T_171c8_level0_col19\" class=\"col_heading level0 col19\" >human_human_em</th>\n",
       "      <th id=\"T_171c8_level0_col20\" class=\"col_heading level0 col20\" >user_user_default</th>\n",
       "      <th id=\"T_171c8_level0_col21\" class=\"col_heading level0 col21\" >user_user_blockquote</th>\n",
       "      <th id=\"T_171c8_level0_col22\" class=\"col_heading level0 col22\" >user_user_code</th>\n",
       "      <th id=\"T_171c8_level0_col23\" class=\"col_heading level0 col23\" >user_user_em</th>\n",
       "      <th id=\"T_171c8_level0_col24\" class=\"col_heading level0 col24\" >assistant_assistant_default</th>\n",
       "      <th id=\"T_171c8_level0_col25\" class=\"col_heading level0 col25\" >assistant_assistant_blockquote</th>\n",
       "      <th id=\"T_171c8_level0_col26\" class=\"col_heading level0 col26\" >assistant_assistant_code</th>\n",
       "      <th id=\"T_171c8_level0_col27\" class=\"col_heading level0 col27\" >assistant_assistant_em</th>\n",
       "      <th id=\"T_171c8_level0_col28\" class=\"col_heading level0 col28\" >model_model_default</th>\n",
       "      <th id=\"T_171c8_level0_col29\" class=\"col_heading level0 col29\" >model_model_blockquote</th>\n",
       "      <th id=\"T_171c8_level0_col30\" class=\"col_heading level0 col30\" >model_model_code</th>\n",
       "      <th id=\"T_171c8_level0_col31\" class=\"col_heading level0 col31\" >model_model_em</th>\n",
       "      <th id=\"T_171c8_level0_col32\" class=\"col_heading level0 col32\" >4chan_default</th>\n",
       "      <th id=\"T_171c8_level0_col33\" class=\"col_heading level0 col33\" >4chan_blockquote</th>\n",
       "      <th id=\"T_171c8_level0_col34\" class=\"col_heading level0 col34\" >4chan_code</th>\n",
       "      <th id=\"T_171c8_level0_col35\" class=\"col_heading level0 col35\" >4chan_em</th>\n",
       "    </tr>\n",
       "  </thead>\n",
       "  <tbody>\n",
       "    <tr>\n",
       "      <th id=\"T_171c8_level0_row0\" class=\"row_heading level0 row0\" >0</th>\n",
       "      <td id=\"T_171c8_row0_col0\" class=\"data row0 col0\" >&lt;bos&gt;&lt;start_of_turn&gt;user\n",
       "Hello, how are you?&lt;end_of_turn&gt;\n",
       "&lt;start_of_turn&gt;model\n",
       "I&#39;m fine, thank you!&lt;end_of_turn&gt;\n",
       "&lt;start_of_turn&gt;user\n",
       "What is your name?&lt;end_of_turn&gt;\n",
       "&lt;start_of_turn&gt;model\n",
       "My name is Gemma.&lt;end_of_turn&gt;\n",
       "</td>\n",
       "      <td id=\"T_171c8_row0_col1\" class=\"data row0 col1\" >&lt;bos&gt;&lt;blockquote&gt;user\n",
       "Hello, how are you?&lt;/blockquote&gt;\n",
       "&lt;blockquote&gt;model\n",
       "I&#39;m fine, thank you!&lt;/blockquote&gt;\n",
       "&lt;blockquote&gt;user\n",
       "What is your name?&lt;/blockquote&gt;\n",
       "&lt;blockquote&gt;model\n",
       "My name is Gemma.&lt;/blockquote&gt;\n",
       "</td>\n",
       "      <td id=\"T_171c8_row0_col2\" class=\"data row0 col2\" >&lt;bos&gt;&lt;code&gt;user\n",
       "Hello, how are you?&lt;/code&gt;\n",
       "&lt;code&gt;model\n",
       "I&#39;m fine, thank you!&lt;/code&gt;\n",
       "&lt;code&gt;user\n",
       "What is your name?&lt;/code&gt;\n",
       "&lt;code&gt;model\n",
       "My name is Gemma.&lt;/code&gt;\n",
       "</td>\n",
       "      <td id=\"T_171c8_row0_col3\" class=\"data row0 col3\" >&lt;bos&gt;&lt;em&gt;user\n",
       "Hello, how are you?&lt;/em&gt;\n",
       "&lt;em&gt;model\n",
       "I&#39;m fine, thank you!&lt;/em&gt;\n",
       "&lt;em&gt;user\n",
       "What is your name?&lt;/em&gt;\n",
       "&lt;em&gt;model\n",
       "My name is Gemma.&lt;/em&gt;\n",
       "</td>\n",
       "      <td id=\"T_171c8_row0_col4\" class=\"data row0 col4\" >&lt;bos&gt;&lt;start_of_turn&gt;user\n",
       "Hello, how are you?&lt;end_of_turn&gt;\n",
       "&lt;start_of_turn&gt;assistant\n",
       "I&#39;m fine, thank you!&lt;end_of_turn&gt;\n",
       "&lt;start_of_turn&gt;user\n",
       "What is your name?&lt;end_of_turn&gt;\n",
       "&lt;start_of_turn&gt;assistant\n",
       "My name is Gemma.&lt;end_of_turn&gt;\n",
       "</td>\n",
       "      <td id=\"T_171c8_row0_col5\" class=\"data row0 col5\" >&lt;bos&gt;&lt;blockquote&gt;user\n",
       "Hello, how are you?&lt;/blockquote&gt;\n",
       "&lt;blockquote&gt;assistant\n",
       "I&#39;m fine, thank you!&lt;/blockquote&gt;\n",
       "&lt;blockquote&gt;user\n",
       "What is your name?&lt;/blockquote&gt;\n",
       "&lt;blockquote&gt;assistant\n",
       "My name is Gemma.&lt;/blockquote&gt;\n",
       "</td>\n",
       "      <td id=\"T_171c8_row0_col6\" class=\"data row0 col6\" >&lt;bos&gt;&lt;code&gt;user\n",
       "Hello, how are you?&lt;/code&gt;\n",
       "&lt;code&gt;assistant\n",
       "I&#39;m fine, thank you!&lt;/code&gt;\n",
       "&lt;code&gt;user\n",
       "What is your name?&lt;/code&gt;\n",
       "&lt;code&gt;assistant\n",
       "My name is Gemma.&lt;/code&gt;\n",
       "</td>\n",
       "      <td id=\"T_171c8_row0_col7\" class=\"data row0 col7\" >&lt;bos&gt;&lt;em&gt;user\n",
       "Hello, how are you?&lt;/em&gt;\n",
       "&lt;em&gt;assistant\n",
       "I&#39;m fine, thank you!&lt;/em&gt;\n",
       "&lt;em&gt;user\n",
       "What is your name?&lt;/em&gt;\n",
       "&lt;em&gt;assistant\n",
       "My name is Gemma.&lt;/em&gt;\n",
       "</td>\n",
       "      <td id=\"T_171c8_row0_col8\" class=\"data row0 col8\" >&lt;bos&gt;&lt;start_of_turn&gt;human\n",
       "Hello, how are you?&lt;end_of_turn&gt;\n",
       "&lt;start_of_turn&gt;model\n",
       "I&#39;m fine, thank you!&lt;end_of_turn&gt;\n",
       "&lt;start_of_turn&gt;human\n",
       "What is your name?&lt;end_of_turn&gt;\n",
       "&lt;start_of_turn&gt;model\n",
       "My name is Gemma.&lt;end_of_turn&gt;\n",
       "</td>\n",
       "      <td id=\"T_171c8_row0_col9\" class=\"data row0 col9\" >&lt;bos&gt;&lt;blockquote&gt;human\n",
       "Hello, how are you?&lt;/blockquote&gt;\n",
       "&lt;blockquote&gt;model\n",
       "I&#39;m fine, thank you!&lt;/blockquote&gt;\n",
       "&lt;blockquote&gt;human\n",
       "What is your name?&lt;/blockquote&gt;\n",
       "&lt;blockquote&gt;model\n",
       "My name is Gemma.&lt;/blockquote&gt;\n",
       "</td>\n",
       "      <td id=\"T_171c8_row0_col10\" class=\"data row0 col10\" >&lt;bos&gt;&lt;code&gt;human\n",
       "Hello, how are you?&lt;/code&gt;\n",
       "&lt;code&gt;model\n",
       "I&#39;m fine, thank you!&lt;/code&gt;\n",
       "&lt;code&gt;human\n",
       "What is your name?&lt;/code&gt;\n",
       "&lt;code&gt;model\n",
       "My name is Gemma.&lt;/code&gt;\n",
       "</td>\n",
       "      <td id=\"T_171c8_row0_col11\" class=\"data row0 col11\" >&lt;bos&gt;&lt;em&gt;human\n",
       "Hello, how are you?&lt;/em&gt;\n",
       "&lt;em&gt;model\n",
       "I&#39;m fine, thank you!&lt;/em&gt;\n",
       "&lt;em&gt;human\n",
       "What is your name?&lt;/em&gt;\n",
       "&lt;em&gt;model\n",
       "My name is Gemma.&lt;/em&gt;\n",
       "</td>\n",
       "      <td id=\"T_171c8_row0_col12\" class=\"data row0 col12\" >&lt;bos&gt;&lt;start_of_turn&gt;human\n",
       "Hello, how are you?&lt;end_of_turn&gt;\n",
       "&lt;start_of_turn&gt;assistant\n",
       "I&#39;m fine, thank you!&lt;end_of_turn&gt;\n",
       "&lt;start_of_turn&gt;human\n",
       "What is your name?&lt;end_of_turn&gt;\n",
       "&lt;start_of_turn&gt;assistant\n",
       "My name is Gemma.&lt;end_of_turn&gt;\n",
       "</td>\n",
       "      <td id=\"T_171c8_row0_col13\" class=\"data row0 col13\" >&lt;bos&gt;&lt;blockquote&gt;human\n",
       "Hello, how are you?&lt;/blockquote&gt;\n",
       "&lt;blockquote&gt;assistant\n",
       "I&#39;m fine, thank you!&lt;/blockquote&gt;\n",
       "&lt;blockquote&gt;human\n",
       "What is your name?&lt;/blockquote&gt;\n",
       "&lt;blockquote&gt;assistant\n",
       "My name is Gemma.&lt;/blockquote&gt;\n",
       "</td>\n",
       "      <td id=\"T_171c8_row0_col14\" class=\"data row0 col14\" >&lt;bos&gt;&lt;code&gt;human\n",
       "Hello, how are you?&lt;/code&gt;\n",
       "&lt;code&gt;assistant\n",
       "I&#39;m fine, thank you!&lt;/code&gt;\n",
       "&lt;code&gt;human\n",
       "What is your name?&lt;/code&gt;\n",
       "&lt;code&gt;assistant\n",
       "My name is Gemma.&lt;/code&gt;\n",
       "</td>\n",
       "      <td id=\"T_171c8_row0_col15\" class=\"data row0 col15\" >&lt;bos&gt;&lt;em&gt;human\n",
       "Hello, how are you?&lt;/em&gt;\n",
       "&lt;em&gt;assistant\n",
       "I&#39;m fine, thank you!&lt;/em&gt;\n",
       "&lt;em&gt;human\n",
       "What is your name?&lt;/em&gt;\n",
       "&lt;em&gt;assistant\n",
       "My name is Gemma.&lt;/em&gt;\n",
       "</td>\n",
       "      <td id=\"T_171c8_row0_col16\" class=\"data row0 col16\" >&lt;bos&gt;&lt;start_of_turn&gt;human\n",
       "Hello, how are you?&lt;end_of_turn&gt;\n",
       "&lt;start_of_turn&gt;human\n",
       "I&#39;m fine, thank you!&lt;end_of_turn&gt;\n",
       "&lt;start_of_turn&gt;human\n",
       "What is your name?&lt;end_of_turn&gt;\n",
       "&lt;start_of_turn&gt;human\n",
       "My name is Gemma.&lt;end_of_turn&gt;\n",
       "</td>\n",
       "      <td id=\"T_171c8_row0_col17\" class=\"data row0 col17\" >&lt;bos&gt;&lt;blockquote&gt;human\n",
       "Hello, how are you?&lt;/blockquote&gt;\n",
       "&lt;blockquote&gt;human\n",
       "I&#39;m fine, thank you!&lt;/blockquote&gt;\n",
       "&lt;blockquote&gt;human\n",
       "What is your name?&lt;/blockquote&gt;\n",
       "&lt;blockquote&gt;human\n",
       "My name is Gemma.&lt;/blockquote&gt;\n",
       "</td>\n",
       "      <td id=\"T_171c8_row0_col18\" class=\"data row0 col18\" >&lt;bos&gt;&lt;code&gt;human\n",
       "Hello, how are you?&lt;/code&gt;\n",
       "&lt;code&gt;human\n",
       "I&#39;m fine, thank you!&lt;/code&gt;\n",
       "&lt;code&gt;human\n",
       "What is your name?&lt;/code&gt;\n",
       "&lt;code&gt;human\n",
       "My name is Gemma.&lt;/code&gt;\n",
       "</td>\n",
       "      <td id=\"T_171c8_row0_col19\" class=\"data row0 col19\" >&lt;bos&gt;&lt;em&gt;human\n",
       "Hello, how are you?&lt;/em&gt;\n",
       "&lt;em&gt;human\n",
       "I&#39;m fine, thank you!&lt;/em&gt;\n",
       "&lt;em&gt;human\n",
       "What is your name?&lt;/em&gt;\n",
       "&lt;em&gt;human\n",
       "My name is Gemma.&lt;/em&gt;\n",
       "</td>\n",
       "      <td id=\"T_171c8_row0_col20\" class=\"data row0 col20\" >&lt;bos&gt;&lt;start_of_turn&gt;user\n",
       "Hello, how are you?&lt;end_of_turn&gt;\n",
       "&lt;start_of_turn&gt;user\n",
       "I&#39;m fine, thank you!&lt;end_of_turn&gt;\n",
       "&lt;start_of_turn&gt;user\n",
       "What is your name?&lt;end_of_turn&gt;\n",
       "&lt;start_of_turn&gt;user\n",
       "My name is Gemma.&lt;end_of_turn&gt;\n",
       "</td>\n",
       "      <td id=\"T_171c8_row0_col21\" class=\"data row0 col21\" >&lt;bos&gt;&lt;blockquote&gt;user\n",
       "Hello, how are you?&lt;/blockquote&gt;\n",
       "&lt;blockquote&gt;user\n",
       "I&#39;m fine, thank you!&lt;/blockquote&gt;\n",
       "&lt;blockquote&gt;user\n",
       "What is your name?&lt;/blockquote&gt;\n",
       "&lt;blockquote&gt;user\n",
       "My name is Gemma.&lt;/blockquote&gt;\n",
       "</td>\n",
       "      <td id=\"T_171c8_row0_col22\" class=\"data row0 col22\" >&lt;bos&gt;&lt;code&gt;user\n",
       "Hello, how are you?&lt;/code&gt;\n",
       "&lt;code&gt;user\n",
       "I&#39;m fine, thank you!&lt;/code&gt;\n",
       "&lt;code&gt;user\n",
       "What is your name?&lt;/code&gt;\n",
       "&lt;code&gt;user\n",
       "My name is Gemma.&lt;/code&gt;\n",
       "</td>\n",
       "      <td id=\"T_171c8_row0_col23\" class=\"data row0 col23\" >&lt;bos&gt;&lt;em&gt;user\n",
       "Hello, how are you?&lt;/em&gt;\n",
       "&lt;em&gt;user\n",
       "I&#39;m fine, thank you!&lt;/em&gt;\n",
       "&lt;em&gt;user\n",
       "What is your name?&lt;/em&gt;\n",
       "&lt;em&gt;user\n",
       "My name is Gemma.&lt;/em&gt;\n",
       "</td>\n",
       "      <td id=\"T_171c8_row0_col24\" class=\"data row0 col24\" >&lt;bos&gt;&lt;start_of_turn&gt;assistant\n",
       "Hello, how are you?&lt;end_of_turn&gt;\n",
       "&lt;start_of_turn&gt;assistant\n",
       "I&#39;m fine, thank you!&lt;end_of_turn&gt;\n",
       "&lt;start_of_turn&gt;assistant\n",
       "What is your name?&lt;end_of_turn&gt;\n",
       "&lt;start_of_turn&gt;assistant\n",
       "My name is Gemma.&lt;end_of_turn&gt;\n",
       "</td>\n",
       "      <td id=\"T_171c8_row0_col25\" class=\"data row0 col25\" >&lt;bos&gt;&lt;blockquote&gt;assistant\n",
       "Hello, how are you?&lt;/blockquote&gt;\n",
       "&lt;blockquote&gt;assistant\n",
       "I&#39;m fine, thank you!&lt;/blockquote&gt;\n",
       "&lt;blockquote&gt;assistant\n",
       "What is your name?&lt;/blockquote&gt;\n",
       "&lt;blockquote&gt;assistant\n",
       "My name is Gemma.&lt;/blockquote&gt;\n",
       "</td>\n",
       "      <td id=\"T_171c8_row0_col26\" class=\"data row0 col26\" >&lt;bos&gt;&lt;code&gt;assistant\n",
       "Hello, how are you?&lt;/code&gt;\n",
       "&lt;code&gt;assistant\n",
       "I&#39;m fine, thank you!&lt;/code&gt;\n",
       "&lt;code&gt;assistant\n",
       "What is your name?&lt;/code&gt;\n",
       "&lt;code&gt;assistant\n",
       "My name is Gemma.&lt;/code&gt;\n",
       "</td>\n",
       "      <td id=\"T_171c8_row0_col27\" class=\"data row0 col27\" >&lt;bos&gt;&lt;em&gt;assistant\n",
       "Hello, how are you?&lt;/em&gt;\n",
       "&lt;em&gt;assistant\n",
       "I&#39;m fine, thank you!&lt;/em&gt;\n",
       "&lt;em&gt;assistant\n",
       "What is your name?&lt;/em&gt;\n",
       "&lt;em&gt;assistant\n",
       "My name is Gemma.&lt;/em&gt;\n",
       "</td>\n",
       "      <td id=\"T_171c8_row0_col28\" class=\"data row0 col28\" >&lt;bos&gt;&lt;start_of_turn&gt;model\n",
       "Hello, how are you?&lt;end_of_turn&gt;\n",
       "&lt;start_of_turn&gt;model\n",
       "I&#39;m fine, thank you!&lt;end_of_turn&gt;\n",
       "&lt;start_of_turn&gt;model\n",
       "What is your name?&lt;end_of_turn&gt;\n",
       "&lt;start_of_turn&gt;model\n",
       "My name is Gemma.&lt;end_of_turn&gt;\n",
       "</td>\n",
       "      <td id=\"T_171c8_row0_col29\" class=\"data row0 col29\" >&lt;bos&gt;&lt;blockquote&gt;model\n",
       "Hello, how are you?&lt;/blockquote&gt;\n",
       "&lt;blockquote&gt;model\n",
       "I&#39;m fine, thank you!&lt;/blockquote&gt;\n",
       "&lt;blockquote&gt;model\n",
       "What is your name?&lt;/blockquote&gt;\n",
       "&lt;blockquote&gt;model\n",
       "My name is Gemma.&lt;/blockquote&gt;\n",
       "</td>\n",
       "      <td id=\"T_171c8_row0_col30\" class=\"data row0 col30\" >&lt;bos&gt;&lt;code&gt;model\n",
       "Hello, how are you?&lt;/code&gt;\n",
       "&lt;code&gt;model\n",
       "I&#39;m fine, thank you!&lt;/code&gt;\n",
       "&lt;code&gt;model\n",
       "What is your name?&lt;/code&gt;\n",
       "&lt;code&gt;model\n",
       "My name is Gemma.&lt;/code&gt;\n",
       "</td>\n",
       "      <td id=\"T_171c8_row0_col31\" class=\"data row0 col31\" >&lt;bos&gt;&lt;em&gt;model\n",
       "Hello, how are you?&lt;/em&gt;\n",
       "&lt;em&gt;model\n",
       "I&#39;m fine, thank you!&lt;/em&gt;\n",
       "&lt;em&gt;model\n",
       "What is your name?&lt;/em&gt;\n",
       "&lt;em&gt;model\n",
       "My name is Gemma.&lt;/em&gt;\n",
       "</td>\n",
       "      <td id=\"T_171c8_row0_col32\" class=\"data row0 col32\" >&lt;bos&gt;&lt;start_of_turn&gt;MemeMaster\n",
       "Hello, how are you?&lt;end_of_turn&gt;\n",
       "&lt;start_of_turn&gt;Anon123\n",
       "I&#39;m fine, thank you!&lt;end_of_turn&gt;\n",
       "&lt;start_of_turn&gt;MemeMaster\n",
       "What is your name?&lt;end_of_turn&gt;\n",
       "&lt;start_of_turn&gt;Anon123\n",
       "My name is Gemma.&lt;end_of_turn&gt;\n",
       "</td>\n",
       "      <td id=\"T_171c8_row0_col33\" class=\"data row0 col33\" >&lt;bos&gt;&lt;blockquote&gt;MemeMaster\n",
       "Hello, how are you?&lt;/blockquote&gt;\n",
       "&lt;blockquote&gt;Anon123\n",
       "I&#39;m fine, thank you!&lt;/blockquote&gt;\n",
       "&lt;blockquote&gt;MemeMaster\n",
       "What is your name?&lt;/blockquote&gt;\n",
       "&lt;blockquote&gt;Anon123\n",
       "My name is Gemma.&lt;/blockquote&gt;\n",
       "</td>\n",
       "      <td id=\"T_171c8_row0_col34\" class=\"data row0 col34\" >&lt;bos&gt;&lt;code&gt;MemeMaster\n",
       "Hello, how are you?&lt;/code&gt;\n",
       "&lt;code&gt;Anon123\n",
       "I&#39;m fine, thank you!&lt;/code&gt;\n",
       "&lt;code&gt;MemeMaster\n",
       "What is your name?&lt;/code&gt;\n",
       "&lt;code&gt;Anon123\n",
       "My name is Gemma.&lt;/code&gt;\n",
       "</td>\n",
       "      <td id=\"T_171c8_row0_col35\" class=\"data row0 col35\" >&lt;bos&gt;&lt;em&gt;MemeMaster\n",
       "Hello, how are you?&lt;/em&gt;\n",
       "&lt;em&gt;Anon123\n",
       "I&#39;m fine, thank you!&lt;/em&gt;\n",
       "&lt;em&gt;MemeMaster\n",
       "What is your name?&lt;/em&gt;\n",
       "&lt;em&gt;Anon123\n",
       "My name is Gemma.&lt;/em&gt;\n",
       "</td>\n",
       "    </tr>\n",
       "  </tbody>\n",
       "</table>\n"
      ],
      "text/plain": [
       "<pandas.io.formats.style.Styler at 0x7fddd1bcbe80>"
      ]
     },
     "metadata": {},
     "output_type": "display_data"
    }
   ],
   "source": [
    "from IPython.display import display\n",
    "\n",
    "# Style with CSS and force text display\n",
    "tok_exs = {f\"{name[0]}_{name[1]}\": chat_model.tokenizer.apply_chat_template(sample_chat, chat_template=template, tokenize=False) for name, template in templates.items()}\n",
    "df = pd.DataFrame.from_dict(tok_exs, orient='index').transpose() # Transposed to make horizontal\n",
    "styled_df = df.style.set_properties(**{\n",
    "    'white-space': 'pre',\n",
    "    'font-family': 'monospace',\n",
    "    'text-align': 'left'\n",
    "}).format_index(str).format(escape=\"html\")\n",
    "\n",
    "display(styled_df)"
   ]
  },
  {
   "cell_type": "markdown",
   "metadata": {},
   "source": [
    "## evaluating templates"
   ]
  },
  {
   "cell_type": "code",
   "execution_count": 12,
   "metadata": {},
   "outputs": [],
   "source": [
    "from tqdm.auto import tqdm, trange\n",
    "from torchmetrics import MeanMetric\n",
    "\n",
    "\n",
    "def evaluate_template(\n",
    "    base_model,\n",
    "    chat_model,\n",
    "    template,\n",
    "    dataset,\n",
    "    batch_size=8,\n",
    "    max_num_tokens=10_000,\n",
    "    num_turns=None,\n",
    "):\n",
    "    base_entropy = RunningMeanStd()\n",
    "    base_entropy_metric = MeanMetric().to(base_device)\n",
    "    chat_entropy = RunningMeanStd()\n",
    "    chat_entropy_metric = MeanMetric().to(chat_device)\n",
    "    num_tokens = 0\n",
    "    pbar = tqdm(total=max_num_tokens, desc=\"Token processed\")\n",
    "    for i in trange(0, len(dataset), batch_size, desc=\"Batch processed\"):\n",
    "        batch = dataset[i : min(i + batch_size, len(dataset))]\n",
    "        if num_turns is not None:\n",
    "            batch = [b[:num_turns] for b in batch]\n",
    "        get_batch = lambda: chat_model.tokenizer.apply_chat_template(\n",
    "            batch,\n",
    "            chat_template=template,\n",
    "            return_dict=True,\n",
    "            return_tensors=\"pt\",\n",
    "            return_assistant_tokens_mask=True,\n",
    "            truncation=True,\n",
    "            max_length=1024,\n",
    "            padding=True,\n",
    "        )\n",
    "        base_batch = get_batch()\n",
    "        assistant_mask = th.tensor(base_batch[\"assistant_masks\"], dtype=th.bool)\n",
    "        base_batch[\"input_ids\"] = base_batch[\"input_ids\"].to(base_device)\n",
    "        base_batch[\"attention_mask\"] = base_batch[\"attention_mask\"].to(base_device)\n",
    "        batch_base_entropy = compute_cross_entropy(\n",
    "            base_batch,\n",
    "            base_model,\n",
    "            assistant_mask,\n",
    "        )\n",
    "        num_new_tokens = assistant_mask.sum().item()\n",
    "        assert batch_base_entropy.shape == (\n",
    "            num_new_tokens,\n",
    "        ), f\"entropy shape {batch_base_entropy.shape} != assistant_mask.sum() {num_new_tokens}\"\n",
    "        base_entropy_metric.update(batch_base_entropy)\n",
    "        base_entropy.update(batch_base_entropy)\n",
    "        chat_batch = get_batch()\n",
    "        chat_batch[\"input_ids\"] = chat_batch[\"input_ids\"].to(chat_device)\n",
    "        chat_batch[\"attention_mask\"] = chat_batch[\"attention_mask\"].to(chat_device)\n",
    "        batch_chat_entropy = compute_cross_entropy(\n",
    "            chat_batch,\n",
    "            chat_model,\n",
    "            assistant_mask,\n",
    "        )\n",
    "        chat_entropy_metric.update(batch_chat_entropy)\n",
    "        chat_entropy.update(batch_chat_entropy)\n",
    "        num_tokens += num_new_tokens\n",
    "        pbar.update(num_new_tokens)\n",
    "        if num_tokens >= max_num_tokens:\n",
    "            pbar.close()\n",
    "            break\n",
    "    return {\n",
    "        \"base\": base_entropy.compute(),\n",
    "        \"chat\": chat_entropy.compute(),\n",
    "        \"base_metric\": base_entropy_metric.compute(),\n",
    "        \"chat_metric\": chat_entropy_metric.compute(),\n",
    "    }\n",
    "\n",
    "\n",
    "dataset = load_dataset(\"HuggingFaceH4/ultrachat_200k\")\n",
    "# shuffle with seed 42\n",
    "th.manual_seed(42)\n",
    "randperm = th.randperm(len(dataset[\"test_sft\"]))\n",
    "dataset = dataset[\"test_sft\"][randperm.tolist()][\"messages\"]\n",
    "\n",
    "def cleanup_result(res):\n",
    "    return {k: {\"mean\": v[0].item(), \"var\": v[1].item(), \"count\": v[2]} if isinstance(v, tuple) else v.item() for k, v in res.items()}\n",
    "\n",
    "def evaluate_all_templates(dataset, exp_name, num_turns=None, max_num_tokens=20_000):\n",
    "    global _results\n",
    "    _results = {}\n",
    "    for name, template in tqdm(templates.items()):\n",
    "        _results[name] = evaluate_template(\n",
    "            base_model,\n",
    "            chat_model,\n",
    "            template,\n",
    "            dataset,\n",
    "            max_num_tokens=max_num_tokens,\n",
    "            num_turns=num_turns,\n",
    "        )\n",
    "        chat_mean, base_mean = (\n",
    "            _results[name][\"chat_metric\"],\n",
    "            _results[name][\"base_metric\"],\n",
    "        )\n",
    "        print(f\"any turns: {name}:\\n- chat ce: {chat_mean}\\n- base ce: {base_mean}\")\n",
    "    _clean_res = {k: cleanup_result(v) for k, v in _results.items()}\n",
    "    res_dict = defaultdict(dict)\n",
    "    for (role, delim), values in _clean_res.items():\n",
    "        res_dict[role][delim] = values\n",
    "    with open(f\"results/chat_templates_results_{exp_name}.json\", \"w\") as f:\n",
    "        json.dump(res_dict, f)\n",
    "    return _results"
   ]
  },
  {
   "cell_type": "code",
   "execution_count": 13,
   "metadata": {},
   "outputs": [],
   "source": [
    "# Convert results to a more manageable format\n",
    "def plot_results(results):\n",
    "    data = []\n",
    "    for (role, delim), values in results.items():\n",
    "        data.append({\n",
    "            'role_setup': role,\n",
    "            'delimiter_setup': delim,\n",
    "            'chat_entropy': values['chat'],\n",
    "            'base_entropy': values['base']\n",
    "        })\n",
    "    df = pd.DataFrame(data)\n",
    "    df.loc[0][\"chat_entropy\"]\n",
    "    # Convert results to a more manageable format with mean, var, count\n",
    "    data = []\n",
    "    for (role, delim), values in results.items():\n",
    "        chat_mean, chat_var, chat_count = values['chat']\n",
    "        base_mean, base_var, base_count = values['base']\n",
    "        data.append({\n",
    "            'role_setup': role,\n",
    "            'delimiter_setup': delim,\n",
    "            'chat_perplexity_mean': float(th.exp(chat_mean).cpu()),\n",
    "            'chat_perplexity_std': float(th.sqrt(chat_var).cpu()),\n",
    "            'chat_count': float(chat_count),\n",
    "            'base_perplexity_mean': float(th.exp(base_mean).cpu()),\n",
    "            'base_perplexity_std': float(th.sqrt(base_var).cpu()),\n",
    "            'base_count': float(base_count)\n",
    "        })\n",
    "    df = pd.DataFrame(data)\n",
    "\n",
    "    # Plot 1: Bar chart with error bars\n",
    "    fig1 = go.Figure()\n",
    "\n",
    "    # Calculate standard error\n",
    "    chat_nll_ci = df['chat_perplexity_std'] / np.sqrt(df['chat_count']) * 1.96\n",
    "    base_nll_ci = df['base_perplexity_std'] / np.sqrt(df['base_count']) * 1.96\n",
    "    chat_ci = np.stack([np.exp(-chat_nll_ci), np.exp(chat_nll_ci)], axis=1)* df['chat_perplexity_mean'].values.reshape(-1, 1)\n",
    "    base_ci = np.stack([np.exp(-base_nll_ci), np.exp(base_nll_ci)], axis=1) * df['base_perplexity_mean'].values.reshape(-1, 1)\n",
    "    chat_upper_ci_diff = chat_ci[:, 1] - df['chat_perplexity_mean']\n",
    "    chat_lower_ci_diff = df['chat_perplexity_mean'] - chat_ci[:, 0]\n",
    "    base_upper_ci_diff = base_ci[:, 1] - df['base_perplexity_mean']\n",
    "    base_lower_ci_diff = df['base_perplexity_mean'] - base_ci[:, 0]\n",
    "    # Add bars for chat perplexity\n",
    "    fig1.add_trace(go.Bar(\n",
    "        name='Chat Model',\n",
    "        x=[f\"{r}_{d}\" for r, d in zip(df['role_setup'], df['delimiter_setup'])],\n",
    "        y=df['chat_perplexity_mean'],\n",
    "        error_y=dict(type='data', array=chat_upper_ci_diff, symmetric=False, arrayminus=chat_lower_ci_diff),  # 95% confidence interval\n",
    "        marker_color='royalblue'\n",
    "    ))\n",
    "\n",
    "    # Add bars for base perplexity\n",
    "    fig1.add_trace(go.Bar(\n",
    "        name='Base Model',\n",
    "        x=[f\"{r}_{d}\" for r, d in zip(df['role_setup'], df['delimiter_setup'])],\n",
    "        y=df['base_perplexity_mean'],\n",
    "        error_y=dict(type='data', array=base_upper_ci_diff, symmetric=False, arrayminus=base_lower_ci_diff),  # 95% confidence interval\n",
    "        marker_color='red'\n",
    "    ))\n",
    "\n",
    "    fig1.update_layout(\n",
    "        title='Chat vs Base Model Perplexity by Setup',\n",
    "        xaxis_title='Setup (role_delimiter)',\n",
    "        yaxis_title='Perplexity',\n",
    "        barmode='group',\n",
    "        xaxis_tickangle=45\n",
    "    )\n",
    "\n",
    "    # Plot 2: Heatmaps\n",
    "    # Pivot data for heatmaps\n",
    "    chat_pivot = df.pivot(index='delimiter_setup', columns='role_setup', values='chat_perplexity_mean')\n",
    "    base_pivot = df.pivot(index='delimiter_setup', columns='role_setup', values='base_perplexity_mean')\n",
    "\n",
    "    # Create subplot with 2 heatmaps\n",
    "    fig2 = sp.make_subplots(rows=1, cols=2, subplot_titles=('Chat Model Perplexity', 'Base Model Perplexity'))\n",
    "\n",
    "    # Add chat model heatmap\n",
    "    fig2.add_trace(\n",
    "        go.Heatmap(\n",
    "            z=chat_pivot.values,\n",
    "            x=chat_pivot.columns,\n",
    "            y=chat_pivot.index,\n",
    "            colorscale='Viridis',\n",
    "            zmin=min(df['chat_perplexity_mean'].min(), df['base_perplexity_mean'].min()),\n",
    "            zmax=max(df['chat_perplexity_mean'].max(), df['base_perplexity_mean'].max())\n",
    "        ),\n",
    "        row=1, col=1\n",
    "    )\n",
    "\n",
    "    # Add base model heatmap\n",
    "    fig2.add_trace(\n",
    "        go.Heatmap(\n",
    "            z=base_pivot.values,\n",
    "            x=base_pivot.columns,\n",
    "            y=base_pivot.index,\n",
    "            colorscale='Viridis',\n",
    "            zmin=min(df['chat_perplexity_mean'].min(), df['base_perplexity_mean'].min()),\n",
    "            zmax=max(df['chat_perplexity_mean'].max(), df['base_perplexity_mean'].max())\n",
    "        ),\n",
    "        row=1, col=2\n",
    "    )\n",
    "\n",
    "    fig2.update_layout(\n",
    "        title='Perplexity Heatmaps: Chat vs Base Model',\n",
    "        height=600\n",
    "    )\n",
    "\n",
    "    # Display both plots\n",
    "    fig1.show()\n",
    "    fig2.show()\n"
   ]
  },
  {
   "cell_type": "code",
   "execution_count": 20,
   "metadata": {},
   "outputs": [],
   "source": [
    "import io\n",
    "class CPU_Unpickler(pickle.Unpickler):\n",
    "    def find_class(self, module, name):\n",
    "        if module == 'torch.storage' and name == '_load_from_bytes':\n",
    "            return lambda b: th.load(io.BytesIO(b), map_location='cpu' ,weights_only=True)\n",
    "        else: return super().find_class(module, name)\n"
   ]
  },
  {
   "cell_type": "code",
   "execution_count": 34,
   "metadata": {},
   "outputs": [],
   "source": [
    "def load_dict(path, use_pickle=False, key=None):\n",
    "    if use_pickle:\n",
    "        with open(path, \"rb\") as f:\n",
    "            loaded_dict = CPU_Unpickler(f).load()\n",
    "            # convedt all tensors to float\n",
    "            for k, v in loaded_dict.items():\n",
    "                for k2, v2 in v.items():\n",
    "                    if isinstance(v2, th.Tensor):\n",
    "                        loaded_dict[k][k2] = v2.item()\n",
    "                    elif isinstance(v2, dict):\n",
    "                        for k3, v3 in v2.items():\n",
    "                            if isinstance(v3, th.Tensor):\n",
    "                                loaded_dict[k][k2][k3] = v3.item()\n",
    "                    else:\n",
    "                        assert False, f\"Unknown type: {type(v2)}\"\n",
    "            json_dict = {}\n",
    "            for k0, d in loaded_dict.items():\n",
    "                json_dict[k0] = {}\n",
    "                k1_k2_pairs = [(k1, k2) for (k1, k2), _ in d.items()]\n",
    "                k1s = sorted(set(k1 for k1, _ in k1_k2_pairs))\n",
    "                for k1 in k1s:\n",
    "                    json_dict[k0][k1] = {}\n",
    "                    for k1_pair, k2_pair in k1_k2_pairs:\n",
    "                        if k1_pair == k1:\n",
    "                            json_dict[k0][k1][k2_pair] = d[(k1, k2_pair)]\n",
    "            # save as json\n",
    "            with open(path.replace(\".pkl\", \".json\"), \"w\") as f:\n",
    "                json.dump(json_dict, f)\n",
    "    else:\n",
    "        with open(path, \"r\") as f:\n",
    "            loaded_dict = json.load(f)\n",
    "    if key is not None:\n",
    "        loaded_dict = loaded_dict[key]\n",
    "    if use_pickle:\n",
    "        return {\n",
    "            k12: {\n",
    "                k3: (\n",
    "                    list(map(th.tensor, v2.values()))\n",
    "                    if isinstance(v2, dict)\n",
    "                    else (v2 if isinstance(v2, list) else th.tensor(v2))\n",
    "                )\n",
    "                for k3, v2 in v.items()\n",
    "            }\n",
    "            for k12, v in loaded_dict.items()\n",
    "        }\n",
    "    return {\n",
    "        (k1, k2): {\n",
    "            k3: (\n",
    "                list(map(th.tensor, v2.values()))\n",
    "                if isinstance(v2, dict)\n",
    "                else (v2 if isinstance(v2, list) else th.tensor(v2))\n",
    "            )\n",
    "            for k3, v2 in v.items()\n",
    "        }\n",
    "        for k1, d in loaded_dict.items()\n",
    "        for k2, v in d.items()\n",
    "    }"
   ]
  },
  {
   "cell_type": "code",
   "execution_count": 35,
   "metadata": {},
   "outputs": [
    {
     "data": {
      "application/vnd.plotly.v1+json": {
       "config": {
        "plotlyServerURL": "https://plot.ly"
       },
       "data": [
        {
         "error_y": {
          "array": [
           0.09474046949278181,
           0.09675003949186767,
           0.09696705637116843,
           0.09216953035921405,
           0.08846686742034793,
           0.08477147945176178,
           0.08629896237793133,
           0.08200319225798136,
           0.09345724929563914,
           0.09487298034669589,
           0.09380485991845688,
           0.08760714876076747,
           0.08823235354077807,
           0.0843045419408095,
           0.08344102352645599,
           0.08027166546876119,
           0.08791785856369172,
           0.08134492127468462,
           0.08155201265376189,
           0.07843582678989414,
           0.08534415271390117,
           0.08461167528255142,
           0.08679292665245208,
           0.08382447147580852,
           0.08909130522777753,
           0.08386723544226982,
           0.08345532974123904,
           0.079453187179225,
           0.09217831070688698,
           0.09469982590937898,
           0.09325020942997453,
           0.08708199524179516,
           0.08331978336828971,
           0.08143271289822485,
           0.08054379933547562,
           0.07768518255633516
          ],
          "arrayminus": [
           0.09224860668645096,
           0.09415341602925231,
           0.09435269461169593,
           0.08977117841838789,
           0.08621833924135958,
           0.08265633405241068,
           0.08412030748858967,
           0.08000037903314183,
           0.0910158668130765,
           0.09234902695104585,
           0.09131877116733955,
           0.08538526734251572,
           0.0859910022132504,
           0.0822022191129097,
           0.08136841367821868,
           0.07832587250826073,
           0.08568703331739203,
           0.07936046581978395,
           0.07955350521632765,
           0.07656118155511527,
           0.08322563212087397,
           0.08251348958149318,
           0.08460062119438927,
           0.08175874966916918,
           0.08681599262529804,
           0.08178364088495238,
           0.08138424796758326,
           0.07754101129544866,
           0.08979386572335679,
           0.0921856833693675,
           0.09078812995460739,
           0.08488197939955233,
           0.08126589687060637,
           0.07944480777828611,
           0.07858356962863988,
           0.0758407610052072
          ],
          "symmetric": false,
          "type": "data"
         },
         "marker": {
          "color": "royalblue"
         },
         "name": "Chat Model",
         "type": "bar",
         "x": [
          "default_default",
          "default_blockquote",
          "default_code",
          "default_em",
          "assistant_default",
          "assistant_blockquote",
          "assistant_code",
          "assistant_em",
          "human_default",
          "human_blockquote",
          "human_code",
          "human_em",
          "assistant_human_default",
          "assistant_human_blockquote",
          "assistant_human_code",
          "assistant_human_em",
          "human_human_default",
          "human_human_blockquote",
          "human_human_code",
          "human_human_em",
          "user_user_default",
          "user_user_blockquote",
          "user_user_code",
          "user_user_em",
          "assistant_assistant_default",
          "assistant_assistant_blockquote",
          "assistant_assistant_code",
          "assistant_assistant_em",
          "model_model_default",
          "model_model_blockquote",
          "model_model_code",
          "model_model_em",
          "4chan_default",
          "4chan_blockquote",
          "4chan_code",
          "4chan_em"
         ],
         "y": [
          3.507286310195923,
          3.508150815963745,
          3.4995551109313965,
          3.4499387741088867,
          3.3922040462493896,
          3.312727212905884,
          3.332099676132202,
          3.275535821914673,
          3.4841294288635254,
          3.471311092376709,
          3.4456310272216797,
          3.366678237915039,
          3.3850955963134766,
          3.296363592147827,
          3.275804042816162,
          3.231252431869507,
          3.3769657611846924,
          3.2530691623687744,
          3.2462968826293945,
          3.2033472061157227,
          3.352726936340332,
          3.3274483680725098,
          3.3493213653564453,
          3.3176703453063965,
          3.3993351459503174,
          3.2918918132781982,
          3.279421091079712,
          3.221921443939209,
          3.4712677001953125,
          3.472344160079956,
          3.4385616779327393,
          3.3598358631134033,
          3.2967045307159424,
          3.2543838024139404,
          3.228917121887207,
          3.1943366527557373
         ]
        },
        {
         "error_y": {
          "array": [
           0.07649245878577426,
           0.061663814237025605,
           0.06217510860738562,
           0.06196647492760876,
           0.07645246860603683,
           0.06193960188584624,
           0.06252965549597755,
           0.06226241430210999,
           0.07571612256922178,
           0.062307513091588884,
           0.06237110455584238,
           0.062482247721102446,
           0.07561895198905333,
           0.06250857900993623,
           0.06281621643529922,
           0.06275151916605282,
           0.07559429838779597,
           0.06265779537099014,
           0.06265141785529726,
           0.06301845838952458,
           0.07638292626945953,
           0.06234663953833097,
           0.06248709356558946,
           0.06267640174698519,
           0.0762430711362514,
           0.06249941866464104,
           0.06251767983788925,
           0.06294329852990144,
           0.07660332888493748,
           0.06257876353948566,
           0.06252415123303656,
           0.06295646673654165,
           0.07513542852331767,
           0.062343690310962874,
           0.06248954185287969,
           0.06266470223425769
          ],
          "arrayminus": [
           0.07457320247309296,
           0.06033070747078595,
           0.060823441016555346,
           0.06062409535251323,
           0.07453610700606861,
           0.06059580558500599,
           0.061165608939018234,
           0.060909332166307895,
           0.07383459188029695,
           0.06095227668104242,
           0.06101326966622933,
           0.06112446528216342,
           0.07374184926628846,
           0.06114548206566006,
           0.061443423403845454,
           0.061383900084836185,
           0.073719821287213,
           0.061291456137987144,
           0.0612857401303204,
           0.0616429051646632,
           0.07447302846343362,
           0.06099114053765842,
           0.061126044251074596,
           0.06131116785700552,
           0.07434080112251795,
           0.061138352556354914,
           0.061156270716956396,
           0.06157035507433184,
           0.07468387543896204,
           0.061216024236295574,
           0.06116210090344776,
           0.061582990660852044,
           0.07327503491508791,
           0.06098577263748872,
           0.061125069190330006,
           0.06129873862716151
          ],
          "symmetric": false,
          "type": "data"
         },
         "marker": {
          "color": "red"
         },
         "name": "Base Model",
         "type": "bar",
         "x": [
          "default_default",
          "default_blockquote",
          "default_code",
          "default_em",
          "assistant_default",
          "assistant_blockquote",
          "assistant_code",
          "assistant_em",
          "human_default",
          "human_blockquote",
          "human_code",
          "human_em",
          "assistant_human_default",
          "assistant_human_blockquote",
          "assistant_human_code",
          "assistant_human_em",
          "human_human_default",
          "human_human_blockquote",
          "human_human_code",
          "human_human_em",
          "user_user_default",
          "user_user_blockquote",
          "user_user_code",
          "user_user_em",
          "assistant_assistant_default",
          "assistant_assistant_blockquote",
          "assistant_assistant_code",
          "assistant_assistant_em",
          "model_model_default",
          "model_model_blockquote",
          "model_model_code",
          "model_model_em",
          "4chan_default",
          "4chan_blockquote",
          "4chan_code",
          "4chan_em"
         ],
         "y": [
          2.9721343517303467,
          2.790640354156494,
          2.7978062629699707,
          2.798509120941162,
          2.97358775138855,
          2.7930424213409424,
          2.803910493850708,
          2.80275821685791,
          2.9712345600128174,
          2.802304267883301,
          2.802597761154175,
          2.812817335128784,
          2.9706852436065674,
          2.803995132446289,
          2.81152606010437,
          2.8165247440338135,
          2.9729881286621094,
          2.810713052749634,
          2.81152606010437,
          2.824057102203369,
          2.97841477394104,
          2.8053083419799805,
          2.8063559532165527,
          2.8147289752960205,
          2.9795827865600586,
          2.8074400424957275,
          2.808375597000122,
          2.8227245807647705,
          2.980553388595581,
          2.811119556427002,
          2.8076117038726807,
          2.8227994441986084,
          2.9593474864959717,
          2.7999327182769775,
          2.79938006401062,
          2.8121299743652344
         ]
        }
       ],
       "layout": {
        "barmode": "group",
        "template": {
         "data": {
          "bar": [
           {
            "error_x": {
             "color": "#2a3f5f"
            },
            "error_y": {
             "color": "#2a3f5f"
            },
            "marker": {
             "line": {
              "color": "#E5ECF6",
              "width": 0.5
             },
             "pattern": {
              "fillmode": "overlay",
              "size": 10,
              "solidity": 0.2
             }
            },
            "type": "bar"
           }
          ],
          "barpolar": [
           {
            "marker": {
             "line": {
              "color": "#E5ECF6",
              "width": 0.5
             },
             "pattern": {
              "fillmode": "overlay",
              "size": 10,
              "solidity": 0.2
             }
            },
            "type": "barpolar"
           }
          ],
          "carpet": [
           {
            "aaxis": {
             "endlinecolor": "#2a3f5f",
             "gridcolor": "white",
             "linecolor": "white",
             "minorgridcolor": "white",
             "startlinecolor": "#2a3f5f"
            },
            "baxis": {
             "endlinecolor": "#2a3f5f",
             "gridcolor": "white",
             "linecolor": "white",
             "minorgridcolor": "white",
             "startlinecolor": "#2a3f5f"
            },
            "type": "carpet"
           }
          ],
          "choropleth": [
           {
            "colorbar": {
             "outlinewidth": 0,
             "ticks": ""
            },
            "type": "choropleth"
           }
          ],
          "contour": [
           {
            "colorbar": {
             "outlinewidth": 0,
             "ticks": ""
            },
            "colorscale": [
             [
              0,
              "#0d0887"
             ],
             [
              0.1111111111111111,
              "#46039f"
             ],
             [
              0.2222222222222222,
              "#7201a8"
             ],
             [
              0.3333333333333333,
              "#9c179e"
             ],
             [
              0.4444444444444444,
              "#bd3786"
             ],
             [
              0.5555555555555556,
              "#d8576b"
             ],
             [
              0.6666666666666666,
              "#ed7953"
             ],
             [
              0.7777777777777778,
              "#fb9f3a"
             ],
             [
              0.8888888888888888,
              "#fdca26"
             ],
             [
              1,
              "#f0f921"
             ]
            ],
            "type": "contour"
           }
          ],
          "contourcarpet": [
           {
            "colorbar": {
             "outlinewidth": 0,
             "ticks": ""
            },
            "type": "contourcarpet"
           }
          ],
          "heatmap": [
           {
            "colorbar": {
             "outlinewidth": 0,
             "ticks": ""
            },
            "colorscale": [
             [
              0,
              "#0d0887"
             ],
             [
              0.1111111111111111,
              "#46039f"
             ],
             [
              0.2222222222222222,
              "#7201a8"
             ],
             [
              0.3333333333333333,
              "#9c179e"
             ],
             [
              0.4444444444444444,
              "#bd3786"
             ],
             [
              0.5555555555555556,
              "#d8576b"
             ],
             [
              0.6666666666666666,
              "#ed7953"
             ],
             [
              0.7777777777777778,
              "#fb9f3a"
             ],
             [
              0.8888888888888888,
              "#fdca26"
             ],
             [
              1,
              "#f0f921"
             ]
            ],
            "type": "heatmap"
           }
          ],
          "heatmapgl": [
           {
            "colorbar": {
             "outlinewidth": 0,
             "ticks": ""
            },
            "colorscale": [
             [
              0,
              "#0d0887"
             ],
             [
              0.1111111111111111,
              "#46039f"
             ],
             [
              0.2222222222222222,
              "#7201a8"
             ],
             [
              0.3333333333333333,
              "#9c179e"
             ],
             [
              0.4444444444444444,
              "#bd3786"
             ],
             [
              0.5555555555555556,
              "#d8576b"
             ],
             [
              0.6666666666666666,
              "#ed7953"
             ],
             [
              0.7777777777777778,
              "#fb9f3a"
             ],
             [
              0.8888888888888888,
              "#fdca26"
             ],
             [
              1,
              "#f0f921"
             ]
            ],
            "type": "heatmapgl"
           }
          ],
          "histogram": [
           {
            "marker": {
             "pattern": {
              "fillmode": "overlay",
              "size": 10,
              "solidity": 0.2
             }
            },
            "type": "histogram"
           }
          ],
          "histogram2d": [
           {
            "colorbar": {
             "outlinewidth": 0,
             "ticks": ""
            },
            "colorscale": [
             [
              0,
              "#0d0887"
             ],
             [
              0.1111111111111111,
              "#46039f"
             ],
             [
              0.2222222222222222,
              "#7201a8"
             ],
             [
              0.3333333333333333,
              "#9c179e"
             ],
             [
              0.4444444444444444,
              "#bd3786"
             ],
             [
              0.5555555555555556,
              "#d8576b"
             ],
             [
              0.6666666666666666,
              "#ed7953"
             ],
             [
              0.7777777777777778,
              "#fb9f3a"
             ],
             [
              0.8888888888888888,
              "#fdca26"
             ],
             [
              1,
              "#f0f921"
             ]
            ],
            "type": "histogram2d"
           }
          ],
          "histogram2dcontour": [
           {
            "colorbar": {
             "outlinewidth": 0,
             "ticks": ""
            },
            "colorscale": [
             [
              0,
              "#0d0887"
             ],
             [
              0.1111111111111111,
              "#46039f"
             ],
             [
              0.2222222222222222,
              "#7201a8"
             ],
             [
              0.3333333333333333,
              "#9c179e"
             ],
             [
              0.4444444444444444,
              "#bd3786"
             ],
             [
              0.5555555555555556,
              "#d8576b"
             ],
             [
              0.6666666666666666,
              "#ed7953"
             ],
             [
              0.7777777777777778,
              "#fb9f3a"
             ],
             [
              0.8888888888888888,
              "#fdca26"
             ],
             [
              1,
              "#f0f921"
             ]
            ],
            "type": "histogram2dcontour"
           }
          ],
          "mesh3d": [
           {
            "colorbar": {
             "outlinewidth": 0,
             "ticks": ""
            },
            "type": "mesh3d"
           }
          ],
          "parcoords": [
           {
            "line": {
             "colorbar": {
              "outlinewidth": 0,
              "ticks": ""
             }
            },
            "type": "parcoords"
           }
          ],
          "pie": [
           {
            "automargin": true,
            "type": "pie"
           }
          ],
          "scatter": [
           {
            "fillpattern": {
             "fillmode": "overlay",
             "size": 10,
             "solidity": 0.2
            },
            "type": "scatter"
           }
          ],
          "scatter3d": [
           {
            "line": {
             "colorbar": {
              "outlinewidth": 0,
              "ticks": ""
             }
            },
            "marker": {
             "colorbar": {
              "outlinewidth": 0,
              "ticks": ""
             }
            },
            "type": "scatter3d"
           }
          ],
          "scattercarpet": [
           {
            "marker": {
             "colorbar": {
              "outlinewidth": 0,
              "ticks": ""
             }
            },
            "type": "scattercarpet"
           }
          ],
          "scattergeo": [
           {
            "marker": {
             "colorbar": {
              "outlinewidth": 0,
              "ticks": ""
             }
            },
            "type": "scattergeo"
           }
          ],
          "scattergl": [
           {
            "marker": {
             "colorbar": {
              "outlinewidth": 0,
              "ticks": ""
             }
            },
            "type": "scattergl"
           }
          ],
          "scattermapbox": [
           {
            "marker": {
             "colorbar": {
              "outlinewidth": 0,
              "ticks": ""
             }
            },
            "type": "scattermapbox"
           }
          ],
          "scatterpolar": [
           {
            "marker": {
             "colorbar": {
              "outlinewidth": 0,
              "ticks": ""
             }
            },
            "type": "scatterpolar"
           }
          ],
          "scatterpolargl": [
           {
            "marker": {
             "colorbar": {
              "outlinewidth": 0,
              "ticks": ""
             }
            },
            "type": "scatterpolargl"
           }
          ],
          "scatterternary": [
           {
            "marker": {
             "colorbar": {
              "outlinewidth": 0,
              "ticks": ""
             }
            },
            "type": "scatterternary"
           }
          ],
          "surface": [
           {
            "colorbar": {
             "outlinewidth": 0,
             "ticks": ""
            },
            "colorscale": [
             [
              0,
              "#0d0887"
             ],
             [
              0.1111111111111111,
              "#46039f"
             ],
             [
              0.2222222222222222,
              "#7201a8"
             ],
             [
              0.3333333333333333,
              "#9c179e"
             ],
             [
              0.4444444444444444,
              "#bd3786"
             ],
             [
              0.5555555555555556,
              "#d8576b"
             ],
             [
              0.6666666666666666,
              "#ed7953"
             ],
             [
              0.7777777777777778,
              "#fb9f3a"
             ],
             [
              0.8888888888888888,
              "#fdca26"
             ],
             [
              1,
              "#f0f921"
             ]
            ],
            "type": "surface"
           }
          ],
          "table": [
           {
            "cells": {
             "fill": {
              "color": "#EBF0F8"
             },
             "line": {
              "color": "white"
             }
            },
            "header": {
             "fill": {
              "color": "#C8D4E3"
             },
             "line": {
              "color": "white"
             }
            },
            "type": "table"
           }
          ]
         },
         "layout": {
          "annotationdefaults": {
           "arrowcolor": "#2a3f5f",
           "arrowhead": 0,
           "arrowwidth": 1
          },
          "autotypenumbers": "strict",
          "coloraxis": {
           "colorbar": {
            "outlinewidth": 0,
            "ticks": ""
           }
          },
          "colorscale": {
           "diverging": [
            [
             0,
             "#8e0152"
            ],
            [
             0.1,
             "#c51b7d"
            ],
            [
             0.2,
             "#de77ae"
            ],
            [
             0.3,
             "#f1b6da"
            ],
            [
             0.4,
             "#fde0ef"
            ],
            [
             0.5,
             "#f7f7f7"
            ],
            [
             0.6,
             "#e6f5d0"
            ],
            [
             0.7,
             "#b8e186"
            ],
            [
             0.8,
             "#7fbc41"
            ],
            [
             0.9,
             "#4d9221"
            ],
            [
             1,
             "#276419"
            ]
           ],
           "sequential": [
            [
             0,
             "#0d0887"
            ],
            [
             0.1111111111111111,
             "#46039f"
            ],
            [
             0.2222222222222222,
             "#7201a8"
            ],
            [
             0.3333333333333333,
             "#9c179e"
            ],
            [
             0.4444444444444444,
             "#bd3786"
            ],
            [
             0.5555555555555556,
             "#d8576b"
            ],
            [
             0.6666666666666666,
             "#ed7953"
            ],
            [
             0.7777777777777778,
             "#fb9f3a"
            ],
            [
             0.8888888888888888,
             "#fdca26"
            ],
            [
             1,
             "#f0f921"
            ]
           ],
           "sequentialminus": [
            [
             0,
             "#0d0887"
            ],
            [
             0.1111111111111111,
             "#46039f"
            ],
            [
             0.2222222222222222,
             "#7201a8"
            ],
            [
             0.3333333333333333,
             "#9c179e"
            ],
            [
             0.4444444444444444,
             "#bd3786"
            ],
            [
             0.5555555555555556,
             "#d8576b"
            ],
            [
             0.6666666666666666,
             "#ed7953"
            ],
            [
             0.7777777777777778,
             "#fb9f3a"
            ],
            [
             0.8888888888888888,
             "#fdca26"
            ],
            [
             1,
             "#f0f921"
            ]
           ]
          },
          "colorway": [
           "#636efa",
           "#EF553B",
           "#00cc96",
           "#ab63fa",
           "#FFA15A",
           "#19d3f3",
           "#FF6692",
           "#B6E880",
           "#FF97FF",
           "#FECB52"
          ],
          "font": {
           "color": "#2a3f5f"
          },
          "geo": {
           "bgcolor": "white",
           "lakecolor": "white",
           "landcolor": "#E5ECF6",
           "showlakes": true,
           "showland": true,
           "subunitcolor": "white"
          },
          "hoverlabel": {
           "align": "left"
          },
          "hovermode": "closest",
          "mapbox": {
           "style": "light"
          },
          "paper_bgcolor": "white",
          "plot_bgcolor": "#E5ECF6",
          "polar": {
           "angularaxis": {
            "gridcolor": "white",
            "linecolor": "white",
            "ticks": ""
           },
           "bgcolor": "#E5ECF6",
           "radialaxis": {
            "gridcolor": "white",
            "linecolor": "white",
            "ticks": ""
           }
          },
          "scene": {
           "xaxis": {
            "backgroundcolor": "#E5ECF6",
            "gridcolor": "white",
            "gridwidth": 2,
            "linecolor": "white",
            "showbackground": true,
            "ticks": "",
            "zerolinecolor": "white"
           },
           "yaxis": {
            "backgroundcolor": "#E5ECF6",
            "gridcolor": "white",
            "gridwidth": 2,
            "linecolor": "white",
            "showbackground": true,
            "ticks": "",
            "zerolinecolor": "white"
           },
           "zaxis": {
            "backgroundcolor": "#E5ECF6",
            "gridcolor": "white",
            "gridwidth": 2,
            "linecolor": "white",
            "showbackground": true,
            "ticks": "",
            "zerolinecolor": "white"
           }
          },
          "shapedefaults": {
           "line": {
            "color": "#2a3f5f"
           }
          },
          "ternary": {
           "aaxis": {
            "gridcolor": "white",
            "linecolor": "white",
            "ticks": ""
           },
           "baxis": {
            "gridcolor": "white",
            "linecolor": "white",
            "ticks": ""
           },
           "bgcolor": "#E5ECF6",
           "caxis": {
            "gridcolor": "white",
            "linecolor": "white",
            "ticks": ""
           }
          },
          "title": {
           "x": 0.05
          },
          "xaxis": {
           "automargin": true,
           "gridcolor": "white",
           "linecolor": "white",
           "ticks": "",
           "title": {
            "standoff": 15
           },
           "zerolinecolor": "white",
           "zerolinewidth": 2
          },
          "yaxis": {
           "automargin": true,
           "gridcolor": "white",
           "linecolor": "white",
           "ticks": "",
           "title": {
            "standoff": 15
           },
           "zerolinecolor": "white",
           "zerolinewidth": 2
          }
         }
        },
        "title": {
         "text": "Chat vs Base Model Perplexity by Setup"
        },
        "xaxis": {
         "tickangle": 45,
         "title": {
          "text": "Setup (role_delimiter)"
         }
        },
        "yaxis": {
         "title": {
          "text": "Perplexity"
         }
        }
       }
      },
      "text/html": [
       "<div>                            <div id=\"3e9b09fa-335b-4de6-b20e-d025af0e0819\" class=\"plotly-graph-div\" style=\"height:525px; width:100%;\"></div>            <script type=\"text/javascript\">                require([\"plotly\"], function(Plotly) {                    window.PLOTLYENV=window.PLOTLYENV || {};                                    if (document.getElementById(\"3e9b09fa-335b-4de6-b20e-d025af0e0819\")) {                    Plotly.newPlot(                        \"3e9b09fa-335b-4de6-b20e-d025af0e0819\",                        [{\"error_y\":{\"array\":[0.09474046949278181,0.09675003949186767,0.09696705637116843,0.09216953035921405,0.08846686742034793,0.08477147945176178,0.08629896237793133,0.08200319225798136,0.09345724929563914,0.09487298034669589,0.09380485991845688,0.08760714876076747,0.08823235354077807,0.0843045419408095,0.08344102352645599,0.08027166546876119,0.08791785856369172,0.08134492127468462,0.08155201265376189,0.07843582678989414,0.08534415271390117,0.08461167528255142,0.08679292665245208,0.08382447147580852,0.08909130522777753,0.08386723544226982,0.08345532974123904,0.079453187179225,0.09217831070688698,0.09469982590937898,0.09325020942997453,0.08708199524179516,0.08331978336828971,0.08143271289822485,0.08054379933547562,0.07768518255633516],\"arrayminus\":[0.09224860668645096,0.09415341602925231,0.09435269461169593,0.08977117841838789,0.08621833924135958,0.08265633405241068,0.08412030748858967,0.08000037903314183,0.0910158668130765,0.09234902695104585,0.09131877116733955,0.08538526734251572,0.0859910022132504,0.0822022191129097,0.08136841367821868,0.07832587250826073,0.08568703331739203,0.07936046581978395,0.07955350521632765,0.07656118155511527,0.08322563212087397,0.08251348958149318,0.08460062119438927,0.08175874966916918,0.08681599262529804,0.08178364088495238,0.08138424796758326,0.07754101129544866,0.08979386572335679,0.0921856833693675,0.09078812995460739,0.08488197939955233,0.08126589687060637,0.07944480777828611,0.07858356962863988,0.0758407610052072],\"symmetric\":false,\"type\":\"data\"},\"marker\":{\"color\":\"royalblue\"},\"name\":\"Chat Model\",\"x\":[\"default_default\",\"default_blockquote\",\"default_code\",\"default_em\",\"assistant_default\",\"assistant_blockquote\",\"assistant_code\",\"assistant_em\",\"human_default\",\"human_blockquote\",\"human_code\",\"human_em\",\"assistant_human_default\",\"assistant_human_blockquote\",\"assistant_human_code\",\"assistant_human_em\",\"human_human_default\",\"human_human_blockquote\",\"human_human_code\",\"human_human_em\",\"user_user_default\",\"user_user_blockquote\",\"user_user_code\",\"user_user_em\",\"assistant_assistant_default\",\"assistant_assistant_blockquote\",\"assistant_assistant_code\",\"assistant_assistant_em\",\"model_model_default\",\"model_model_blockquote\",\"model_model_code\",\"model_model_em\",\"4chan_default\",\"4chan_blockquote\",\"4chan_code\",\"4chan_em\"],\"y\":[3.507286310195923,3.508150815963745,3.4995551109313965,3.4499387741088867,3.3922040462493896,3.312727212905884,3.332099676132202,3.275535821914673,3.4841294288635254,3.471311092376709,3.4456310272216797,3.366678237915039,3.3850955963134766,3.296363592147827,3.275804042816162,3.231252431869507,3.3769657611846924,3.2530691623687744,3.2462968826293945,3.2033472061157227,3.352726936340332,3.3274483680725098,3.3493213653564453,3.3176703453063965,3.3993351459503174,3.2918918132781982,3.279421091079712,3.221921443939209,3.4712677001953125,3.472344160079956,3.4385616779327393,3.3598358631134033,3.2967045307159424,3.2543838024139404,3.228917121887207,3.1943366527557373],\"type\":\"bar\"},{\"error_y\":{\"array\":[0.07649245878577426,0.061663814237025605,0.06217510860738562,0.06196647492760876,0.07645246860603683,0.06193960188584624,0.06252965549597755,0.06226241430210999,0.07571612256922178,0.062307513091588884,0.06237110455584238,0.062482247721102446,0.07561895198905333,0.06250857900993623,0.06281621643529922,0.06275151916605282,0.07559429838779597,0.06265779537099014,0.06265141785529726,0.06301845838952458,0.07638292626945953,0.06234663953833097,0.06248709356558946,0.06267640174698519,0.0762430711362514,0.06249941866464104,0.06251767983788925,0.06294329852990144,0.07660332888493748,0.06257876353948566,0.06252415123303656,0.06295646673654165,0.07513542852331767,0.062343690310962874,0.06248954185287969,0.06266470223425769],\"arrayminus\":[0.07457320247309296,0.06033070747078595,0.060823441016555346,0.06062409535251323,0.07453610700606861,0.06059580558500599,0.061165608939018234,0.060909332166307895,0.07383459188029695,0.06095227668104242,0.06101326966622933,0.06112446528216342,0.07374184926628846,0.06114548206566006,0.061443423403845454,0.061383900084836185,0.073719821287213,0.061291456137987144,0.0612857401303204,0.0616429051646632,0.07447302846343362,0.06099114053765842,0.061126044251074596,0.06131116785700552,0.07434080112251795,0.061138352556354914,0.061156270716956396,0.06157035507433184,0.07468387543896204,0.061216024236295574,0.06116210090344776,0.061582990660852044,0.07327503491508791,0.06098577263748872,0.061125069190330006,0.06129873862716151],\"symmetric\":false,\"type\":\"data\"},\"marker\":{\"color\":\"red\"},\"name\":\"Base Model\",\"x\":[\"default_default\",\"default_blockquote\",\"default_code\",\"default_em\",\"assistant_default\",\"assistant_blockquote\",\"assistant_code\",\"assistant_em\",\"human_default\",\"human_blockquote\",\"human_code\",\"human_em\",\"assistant_human_default\",\"assistant_human_blockquote\",\"assistant_human_code\",\"assistant_human_em\",\"human_human_default\",\"human_human_blockquote\",\"human_human_code\",\"human_human_em\",\"user_user_default\",\"user_user_blockquote\",\"user_user_code\",\"user_user_em\",\"assistant_assistant_default\",\"assistant_assistant_blockquote\",\"assistant_assistant_code\",\"assistant_assistant_em\",\"model_model_default\",\"model_model_blockquote\",\"model_model_code\",\"model_model_em\",\"4chan_default\",\"4chan_blockquote\",\"4chan_code\",\"4chan_em\"],\"y\":[2.9721343517303467,2.790640354156494,2.7978062629699707,2.798509120941162,2.97358775138855,2.7930424213409424,2.803910493850708,2.80275821685791,2.9712345600128174,2.802304267883301,2.802597761154175,2.812817335128784,2.9706852436065674,2.803995132446289,2.81152606010437,2.8165247440338135,2.9729881286621094,2.810713052749634,2.81152606010437,2.824057102203369,2.97841477394104,2.8053083419799805,2.8063559532165527,2.8147289752960205,2.9795827865600586,2.8074400424957275,2.808375597000122,2.8227245807647705,2.980553388595581,2.811119556427002,2.8076117038726807,2.8227994441986084,2.9593474864959717,2.7999327182769775,2.79938006401062,2.8121299743652344],\"type\":\"bar\"}],                        {\"template\":{\"data\":{\"histogram2dcontour\":[{\"type\":\"histogram2dcontour\",\"colorbar\":{\"outlinewidth\":0,\"ticks\":\"\"},\"colorscale\":[[0.0,\"#0d0887\"],[0.1111111111111111,\"#46039f\"],[0.2222222222222222,\"#7201a8\"],[0.3333333333333333,\"#9c179e\"],[0.4444444444444444,\"#bd3786\"],[0.5555555555555556,\"#d8576b\"],[0.6666666666666666,\"#ed7953\"],[0.7777777777777778,\"#fb9f3a\"],[0.8888888888888888,\"#fdca26\"],[1.0,\"#f0f921\"]]}],\"choropleth\":[{\"type\":\"choropleth\",\"colorbar\":{\"outlinewidth\":0,\"ticks\":\"\"}}],\"histogram2d\":[{\"type\":\"histogram2d\",\"colorbar\":{\"outlinewidth\":0,\"ticks\":\"\"},\"colorscale\":[[0.0,\"#0d0887\"],[0.1111111111111111,\"#46039f\"],[0.2222222222222222,\"#7201a8\"],[0.3333333333333333,\"#9c179e\"],[0.4444444444444444,\"#bd3786\"],[0.5555555555555556,\"#d8576b\"],[0.6666666666666666,\"#ed7953\"],[0.7777777777777778,\"#fb9f3a\"],[0.8888888888888888,\"#fdca26\"],[1.0,\"#f0f921\"]]}],\"heatmap\":[{\"type\":\"heatmap\",\"colorbar\":{\"outlinewidth\":0,\"ticks\":\"\"},\"colorscale\":[[0.0,\"#0d0887\"],[0.1111111111111111,\"#46039f\"],[0.2222222222222222,\"#7201a8\"],[0.3333333333333333,\"#9c179e\"],[0.4444444444444444,\"#bd3786\"],[0.5555555555555556,\"#d8576b\"],[0.6666666666666666,\"#ed7953\"],[0.7777777777777778,\"#fb9f3a\"],[0.8888888888888888,\"#fdca26\"],[1.0,\"#f0f921\"]]}],\"heatmapgl\":[{\"type\":\"heatmapgl\",\"colorbar\":{\"outlinewidth\":0,\"ticks\":\"\"},\"colorscale\":[[0.0,\"#0d0887\"],[0.1111111111111111,\"#46039f\"],[0.2222222222222222,\"#7201a8\"],[0.3333333333333333,\"#9c179e\"],[0.4444444444444444,\"#bd3786\"],[0.5555555555555556,\"#d8576b\"],[0.6666666666666666,\"#ed7953\"],[0.7777777777777778,\"#fb9f3a\"],[0.8888888888888888,\"#fdca26\"],[1.0,\"#f0f921\"]]}],\"contourcarpet\":[{\"type\":\"contourcarpet\",\"colorbar\":{\"outlinewidth\":0,\"ticks\":\"\"}}],\"contour\":[{\"type\":\"contour\",\"colorbar\":{\"outlinewidth\":0,\"ticks\":\"\"},\"colorscale\":[[0.0,\"#0d0887\"],[0.1111111111111111,\"#46039f\"],[0.2222222222222222,\"#7201a8\"],[0.3333333333333333,\"#9c179e\"],[0.4444444444444444,\"#bd3786\"],[0.5555555555555556,\"#d8576b\"],[0.6666666666666666,\"#ed7953\"],[0.7777777777777778,\"#fb9f3a\"],[0.8888888888888888,\"#fdca26\"],[1.0,\"#f0f921\"]]}],\"surface\":[{\"type\":\"surface\",\"colorbar\":{\"outlinewidth\":0,\"ticks\":\"\"},\"colorscale\":[[0.0,\"#0d0887\"],[0.1111111111111111,\"#46039f\"],[0.2222222222222222,\"#7201a8\"],[0.3333333333333333,\"#9c179e\"],[0.4444444444444444,\"#bd3786\"],[0.5555555555555556,\"#d8576b\"],[0.6666666666666666,\"#ed7953\"],[0.7777777777777778,\"#fb9f3a\"],[0.8888888888888888,\"#fdca26\"],[1.0,\"#f0f921\"]]}],\"mesh3d\":[{\"type\":\"mesh3d\",\"colorbar\":{\"outlinewidth\":0,\"ticks\":\"\"}}],\"scatter\":[{\"fillpattern\":{\"fillmode\":\"overlay\",\"size\":10,\"solidity\":0.2},\"type\":\"scatter\"}],\"parcoords\":[{\"type\":\"parcoords\",\"line\":{\"colorbar\":{\"outlinewidth\":0,\"ticks\":\"\"}}}],\"scatterpolargl\":[{\"type\":\"scatterpolargl\",\"marker\":{\"colorbar\":{\"outlinewidth\":0,\"ticks\":\"\"}}}],\"bar\":[{\"error_x\":{\"color\":\"#2a3f5f\"},\"error_y\":{\"color\":\"#2a3f5f\"},\"marker\":{\"line\":{\"color\":\"#E5ECF6\",\"width\":0.5},\"pattern\":{\"fillmode\":\"overlay\",\"size\":10,\"solidity\":0.2}},\"type\":\"bar\"}],\"scattergeo\":[{\"type\":\"scattergeo\",\"marker\":{\"colorbar\":{\"outlinewidth\":0,\"ticks\":\"\"}}}],\"scatterpolar\":[{\"type\":\"scatterpolar\",\"marker\":{\"colorbar\":{\"outlinewidth\":0,\"ticks\":\"\"}}}],\"histogram\":[{\"marker\":{\"pattern\":{\"fillmode\":\"overlay\",\"size\":10,\"solidity\":0.2}},\"type\":\"histogram\"}],\"scattergl\":[{\"type\":\"scattergl\",\"marker\":{\"colorbar\":{\"outlinewidth\":0,\"ticks\":\"\"}}}],\"scatter3d\":[{\"type\":\"scatter3d\",\"line\":{\"colorbar\":{\"outlinewidth\":0,\"ticks\":\"\"}},\"marker\":{\"colorbar\":{\"outlinewidth\":0,\"ticks\":\"\"}}}],\"scattermapbox\":[{\"type\":\"scattermapbox\",\"marker\":{\"colorbar\":{\"outlinewidth\":0,\"ticks\":\"\"}}}],\"scatterternary\":[{\"type\":\"scatterternary\",\"marker\":{\"colorbar\":{\"outlinewidth\":0,\"ticks\":\"\"}}}],\"scattercarpet\":[{\"type\":\"scattercarpet\",\"marker\":{\"colorbar\":{\"outlinewidth\":0,\"ticks\":\"\"}}}],\"carpet\":[{\"aaxis\":{\"endlinecolor\":\"#2a3f5f\",\"gridcolor\":\"white\",\"linecolor\":\"white\",\"minorgridcolor\":\"white\",\"startlinecolor\":\"#2a3f5f\"},\"baxis\":{\"endlinecolor\":\"#2a3f5f\",\"gridcolor\":\"white\",\"linecolor\":\"white\",\"minorgridcolor\":\"white\",\"startlinecolor\":\"#2a3f5f\"},\"type\":\"carpet\"}],\"table\":[{\"cells\":{\"fill\":{\"color\":\"#EBF0F8\"},\"line\":{\"color\":\"white\"}},\"header\":{\"fill\":{\"color\":\"#C8D4E3\"},\"line\":{\"color\":\"white\"}},\"type\":\"table\"}],\"barpolar\":[{\"marker\":{\"line\":{\"color\":\"#E5ECF6\",\"width\":0.5},\"pattern\":{\"fillmode\":\"overlay\",\"size\":10,\"solidity\":0.2}},\"type\":\"barpolar\"}],\"pie\":[{\"automargin\":true,\"type\":\"pie\"}]},\"layout\":{\"autotypenumbers\":\"strict\",\"colorway\":[\"#636efa\",\"#EF553B\",\"#00cc96\",\"#ab63fa\",\"#FFA15A\",\"#19d3f3\",\"#FF6692\",\"#B6E880\",\"#FF97FF\",\"#FECB52\"],\"font\":{\"color\":\"#2a3f5f\"},\"hovermode\":\"closest\",\"hoverlabel\":{\"align\":\"left\"},\"paper_bgcolor\":\"white\",\"plot_bgcolor\":\"#E5ECF6\",\"polar\":{\"bgcolor\":\"#E5ECF6\",\"angularaxis\":{\"gridcolor\":\"white\",\"linecolor\":\"white\",\"ticks\":\"\"},\"radialaxis\":{\"gridcolor\":\"white\",\"linecolor\":\"white\",\"ticks\":\"\"}},\"ternary\":{\"bgcolor\":\"#E5ECF6\",\"aaxis\":{\"gridcolor\":\"white\",\"linecolor\":\"white\",\"ticks\":\"\"},\"baxis\":{\"gridcolor\":\"white\",\"linecolor\":\"white\",\"ticks\":\"\"},\"caxis\":{\"gridcolor\":\"white\",\"linecolor\":\"white\",\"ticks\":\"\"}},\"coloraxis\":{\"colorbar\":{\"outlinewidth\":0,\"ticks\":\"\"}},\"colorscale\":{\"sequential\":[[0.0,\"#0d0887\"],[0.1111111111111111,\"#46039f\"],[0.2222222222222222,\"#7201a8\"],[0.3333333333333333,\"#9c179e\"],[0.4444444444444444,\"#bd3786\"],[0.5555555555555556,\"#d8576b\"],[0.6666666666666666,\"#ed7953\"],[0.7777777777777778,\"#fb9f3a\"],[0.8888888888888888,\"#fdca26\"],[1.0,\"#f0f921\"]],\"sequentialminus\":[[0.0,\"#0d0887\"],[0.1111111111111111,\"#46039f\"],[0.2222222222222222,\"#7201a8\"],[0.3333333333333333,\"#9c179e\"],[0.4444444444444444,\"#bd3786\"],[0.5555555555555556,\"#d8576b\"],[0.6666666666666666,\"#ed7953\"],[0.7777777777777778,\"#fb9f3a\"],[0.8888888888888888,\"#fdca26\"],[1.0,\"#f0f921\"]],\"diverging\":[[0,\"#8e0152\"],[0.1,\"#c51b7d\"],[0.2,\"#de77ae\"],[0.3,\"#f1b6da\"],[0.4,\"#fde0ef\"],[0.5,\"#f7f7f7\"],[0.6,\"#e6f5d0\"],[0.7,\"#b8e186\"],[0.8,\"#7fbc41\"],[0.9,\"#4d9221\"],[1,\"#276419\"]]},\"xaxis\":{\"gridcolor\":\"white\",\"linecolor\":\"white\",\"ticks\":\"\",\"title\":{\"standoff\":15},\"zerolinecolor\":\"white\",\"automargin\":true,\"zerolinewidth\":2},\"yaxis\":{\"gridcolor\":\"white\",\"linecolor\":\"white\",\"ticks\":\"\",\"title\":{\"standoff\":15},\"zerolinecolor\":\"white\",\"automargin\":true,\"zerolinewidth\":2},\"scene\":{\"xaxis\":{\"backgroundcolor\":\"#E5ECF6\",\"gridcolor\":\"white\",\"linecolor\":\"white\",\"showbackground\":true,\"ticks\":\"\",\"zerolinecolor\":\"white\",\"gridwidth\":2},\"yaxis\":{\"backgroundcolor\":\"#E5ECF6\",\"gridcolor\":\"white\",\"linecolor\":\"white\",\"showbackground\":true,\"ticks\":\"\",\"zerolinecolor\":\"white\",\"gridwidth\":2},\"zaxis\":{\"backgroundcolor\":\"#E5ECF6\",\"gridcolor\":\"white\",\"linecolor\":\"white\",\"showbackground\":true,\"ticks\":\"\",\"zerolinecolor\":\"white\",\"gridwidth\":2}},\"shapedefaults\":{\"line\":{\"color\":\"#2a3f5f\"}},\"annotationdefaults\":{\"arrowcolor\":\"#2a3f5f\",\"arrowhead\":0,\"arrowwidth\":1},\"geo\":{\"bgcolor\":\"white\",\"landcolor\":\"#E5ECF6\",\"subunitcolor\":\"white\",\"showland\":true,\"showlakes\":true,\"lakecolor\":\"white\"},\"title\":{\"x\":0.05},\"mapbox\":{\"style\":\"light\"}}},\"xaxis\":{\"title\":{\"text\":\"Setup (role_delimiter)\"},\"tickangle\":45},\"title\":{\"text\":\"Chat vs Base Model Perplexity by Setup\"},\"yaxis\":{\"title\":{\"text\":\"Perplexity\"}},\"barmode\":\"group\"},                        {\"responsive\": true}                    ).then(function(){\n",
       "                            \n",
       "var gd = document.getElementById('3e9b09fa-335b-4de6-b20e-d025af0e0819');\n",
       "var x = new MutationObserver(function (mutations, observer) {{\n",
       "        var display = window.getComputedStyle(gd).display;\n",
       "        if (!display || display === 'none') {{\n",
       "            console.log([gd, 'removed!']);\n",
       "            Plotly.purge(gd);\n",
       "            observer.disconnect();\n",
       "        }}\n",
       "}});\n",
       "\n",
       "// Listen for the removal of the full notebook cells\n",
       "var notebookContainer = gd.closest('#notebook-container');\n",
       "if (notebookContainer) {{\n",
       "    x.observe(notebookContainer, {childList: true});\n",
       "}}\n",
       "\n",
       "// Listen for the clearing of the current output cell\n",
       "var outputEl = gd.closest('.output');\n",
       "if (outputEl) {{\n",
       "    x.observe(outputEl, {childList: true});\n",
       "}}\n",
       "\n",
       "                        })                };                });            </script>        </div>"
      ]
     },
     "metadata": {},
     "output_type": "display_data"
    },
    {
     "data": {
      "application/vnd.plotly.v1+json": {
       "config": {
        "plotlyServerURL": "https://plot.ly"
       },
       "data": [
        {
         "colorscale": [
          [
           0,
           "#440154"
          ],
          [
           0.1111111111111111,
           "#482878"
          ],
          [
           0.2222222222222222,
           "#3e4989"
          ],
          [
           0.3333333333333333,
           "#31688e"
          ],
          [
           0.4444444444444444,
           "#26828e"
          ],
          [
           0.5555555555555556,
           "#1f9e89"
          ],
          [
           0.6666666666666666,
           "#35b779"
          ],
          [
           0.7777777777777778,
           "#6ece58"
          ],
          [
           0.8888888888888888,
           "#b5de2b"
          ],
          [
           1,
           "#fde725"
          ]
         ],
         "type": "heatmap",
         "x": [
          "4chan",
          "assistant",
          "assistant_assistant",
          "assistant_human",
          "default",
          "human",
          "human_human",
          "model_model",
          "user_user"
         ],
         "xaxis": "x",
         "y": [
          "blockquote",
          "code",
          "default",
          "em"
         ],
         "yaxis": "y",
         "z": [
          [
           3.2543838024139404,
           3.312727212905884,
           3.2918918132781982,
           3.296363592147827,
           3.508150815963745,
           3.471311092376709,
           3.2530691623687744,
           3.472344160079956,
           3.3274483680725098
          ],
          [
           3.228917121887207,
           3.332099676132202,
           3.279421091079712,
           3.275804042816162,
           3.4995551109313965,
           3.4456310272216797,
           3.2462968826293945,
           3.4385616779327393,
           3.3493213653564453
          ],
          [
           3.2967045307159424,
           3.3922040462493896,
           3.3993351459503174,
           3.3850955963134766,
           3.507286310195923,
           3.4841294288635254,
           3.3769657611846924,
           3.4712677001953125,
           3.352726936340332
          ],
          [
           3.1943366527557373,
           3.275535821914673,
           3.221921443939209,
           3.231252431869507,
           3.4499387741088867,
           3.366678237915039,
           3.2033472061157227,
           3.3598358631134033,
           3.3176703453063965
          ]
         ],
         "zmax": 3.508150815963745,
         "zmin": 2.790640354156494
        },
        {
         "colorscale": [
          [
           0,
           "#440154"
          ],
          [
           0.1111111111111111,
           "#482878"
          ],
          [
           0.2222222222222222,
           "#3e4989"
          ],
          [
           0.3333333333333333,
           "#31688e"
          ],
          [
           0.4444444444444444,
           "#26828e"
          ],
          [
           0.5555555555555556,
           "#1f9e89"
          ],
          [
           0.6666666666666666,
           "#35b779"
          ],
          [
           0.7777777777777778,
           "#6ece58"
          ],
          [
           0.8888888888888888,
           "#b5de2b"
          ],
          [
           1,
           "#fde725"
          ]
         ],
         "type": "heatmap",
         "x": [
          "4chan",
          "assistant",
          "assistant_assistant",
          "assistant_human",
          "default",
          "human",
          "human_human",
          "model_model",
          "user_user"
         ],
         "xaxis": "x2",
         "y": [
          "blockquote",
          "code",
          "default",
          "em"
         ],
         "yaxis": "y2",
         "z": [
          [
           2.7999327182769775,
           2.7930424213409424,
           2.8074400424957275,
           2.803995132446289,
           2.790640354156494,
           2.802304267883301,
           2.810713052749634,
           2.811119556427002,
           2.8053083419799805
          ],
          [
           2.79938006401062,
           2.803910493850708,
           2.808375597000122,
           2.81152606010437,
           2.7978062629699707,
           2.802597761154175,
           2.81152606010437,
           2.8076117038726807,
           2.8063559532165527
          ],
          [
           2.9593474864959717,
           2.97358775138855,
           2.9795827865600586,
           2.9706852436065674,
           2.9721343517303467,
           2.9712345600128174,
           2.9729881286621094,
           2.980553388595581,
           2.97841477394104
          ],
          [
           2.8121299743652344,
           2.80275821685791,
           2.8227245807647705,
           2.8165247440338135,
           2.798509120941162,
           2.812817335128784,
           2.824057102203369,
           2.8227994441986084,
           2.8147289752960205
          ]
         ],
         "zmax": 3.508150815963745,
         "zmin": 2.790640354156494
        }
       ],
       "layout": {
        "annotations": [
         {
          "font": {
           "size": 16
          },
          "showarrow": false,
          "text": "Chat Model Perplexity",
          "x": 0.225,
          "xanchor": "center",
          "xref": "paper",
          "y": 1,
          "yanchor": "bottom",
          "yref": "paper"
         },
         {
          "font": {
           "size": 16
          },
          "showarrow": false,
          "text": "Base Model Perplexity",
          "x": 0.775,
          "xanchor": "center",
          "xref": "paper",
          "y": 1,
          "yanchor": "bottom",
          "yref": "paper"
         }
        ],
        "height": 600,
        "template": {
         "data": {
          "bar": [
           {
            "error_x": {
             "color": "#2a3f5f"
            },
            "error_y": {
             "color": "#2a3f5f"
            },
            "marker": {
             "line": {
              "color": "#E5ECF6",
              "width": 0.5
             },
             "pattern": {
              "fillmode": "overlay",
              "size": 10,
              "solidity": 0.2
             }
            },
            "type": "bar"
           }
          ],
          "barpolar": [
           {
            "marker": {
             "line": {
              "color": "#E5ECF6",
              "width": 0.5
             },
             "pattern": {
              "fillmode": "overlay",
              "size": 10,
              "solidity": 0.2
             }
            },
            "type": "barpolar"
           }
          ],
          "carpet": [
           {
            "aaxis": {
             "endlinecolor": "#2a3f5f",
             "gridcolor": "white",
             "linecolor": "white",
             "minorgridcolor": "white",
             "startlinecolor": "#2a3f5f"
            },
            "baxis": {
             "endlinecolor": "#2a3f5f",
             "gridcolor": "white",
             "linecolor": "white",
             "minorgridcolor": "white",
             "startlinecolor": "#2a3f5f"
            },
            "type": "carpet"
           }
          ],
          "choropleth": [
           {
            "colorbar": {
             "outlinewidth": 0,
             "ticks": ""
            },
            "type": "choropleth"
           }
          ],
          "contour": [
           {
            "colorbar": {
             "outlinewidth": 0,
             "ticks": ""
            },
            "colorscale": [
             [
              0,
              "#0d0887"
             ],
             [
              0.1111111111111111,
              "#46039f"
             ],
             [
              0.2222222222222222,
              "#7201a8"
             ],
             [
              0.3333333333333333,
              "#9c179e"
             ],
             [
              0.4444444444444444,
              "#bd3786"
             ],
             [
              0.5555555555555556,
              "#d8576b"
             ],
             [
              0.6666666666666666,
              "#ed7953"
             ],
             [
              0.7777777777777778,
              "#fb9f3a"
             ],
             [
              0.8888888888888888,
              "#fdca26"
             ],
             [
              1,
              "#f0f921"
             ]
            ],
            "type": "contour"
           }
          ],
          "contourcarpet": [
           {
            "colorbar": {
             "outlinewidth": 0,
             "ticks": ""
            },
            "type": "contourcarpet"
           }
          ],
          "heatmap": [
           {
            "colorbar": {
             "outlinewidth": 0,
             "ticks": ""
            },
            "colorscale": [
             [
              0,
              "#0d0887"
             ],
             [
              0.1111111111111111,
              "#46039f"
             ],
             [
              0.2222222222222222,
              "#7201a8"
             ],
             [
              0.3333333333333333,
              "#9c179e"
             ],
             [
              0.4444444444444444,
              "#bd3786"
             ],
             [
              0.5555555555555556,
              "#d8576b"
             ],
             [
              0.6666666666666666,
              "#ed7953"
             ],
             [
              0.7777777777777778,
              "#fb9f3a"
             ],
             [
              0.8888888888888888,
              "#fdca26"
             ],
             [
              1,
              "#f0f921"
             ]
            ],
            "type": "heatmap"
           }
          ],
          "heatmapgl": [
           {
            "colorbar": {
             "outlinewidth": 0,
             "ticks": ""
            },
            "colorscale": [
             [
              0,
              "#0d0887"
             ],
             [
              0.1111111111111111,
              "#46039f"
             ],
             [
              0.2222222222222222,
              "#7201a8"
             ],
             [
              0.3333333333333333,
              "#9c179e"
             ],
             [
              0.4444444444444444,
              "#bd3786"
             ],
             [
              0.5555555555555556,
              "#d8576b"
             ],
             [
              0.6666666666666666,
              "#ed7953"
             ],
             [
              0.7777777777777778,
              "#fb9f3a"
             ],
             [
              0.8888888888888888,
              "#fdca26"
             ],
             [
              1,
              "#f0f921"
             ]
            ],
            "type": "heatmapgl"
           }
          ],
          "histogram": [
           {
            "marker": {
             "pattern": {
              "fillmode": "overlay",
              "size": 10,
              "solidity": 0.2
             }
            },
            "type": "histogram"
           }
          ],
          "histogram2d": [
           {
            "colorbar": {
             "outlinewidth": 0,
             "ticks": ""
            },
            "colorscale": [
             [
              0,
              "#0d0887"
             ],
             [
              0.1111111111111111,
              "#46039f"
             ],
             [
              0.2222222222222222,
              "#7201a8"
             ],
             [
              0.3333333333333333,
              "#9c179e"
             ],
             [
              0.4444444444444444,
              "#bd3786"
             ],
             [
              0.5555555555555556,
              "#d8576b"
             ],
             [
              0.6666666666666666,
              "#ed7953"
             ],
             [
              0.7777777777777778,
              "#fb9f3a"
             ],
             [
              0.8888888888888888,
              "#fdca26"
             ],
             [
              1,
              "#f0f921"
             ]
            ],
            "type": "histogram2d"
           }
          ],
          "histogram2dcontour": [
           {
            "colorbar": {
             "outlinewidth": 0,
             "ticks": ""
            },
            "colorscale": [
             [
              0,
              "#0d0887"
             ],
             [
              0.1111111111111111,
              "#46039f"
             ],
             [
              0.2222222222222222,
              "#7201a8"
             ],
             [
              0.3333333333333333,
              "#9c179e"
             ],
             [
              0.4444444444444444,
              "#bd3786"
             ],
             [
              0.5555555555555556,
              "#d8576b"
             ],
             [
              0.6666666666666666,
              "#ed7953"
             ],
             [
              0.7777777777777778,
              "#fb9f3a"
             ],
             [
              0.8888888888888888,
              "#fdca26"
             ],
             [
              1,
              "#f0f921"
             ]
            ],
            "type": "histogram2dcontour"
           }
          ],
          "mesh3d": [
           {
            "colorbar": {
             "outlinewidth": 0,
             "ticks": ""
            },
            "type": "mesh3d"
           }
          ],
          "parcoords": [
           {
            "line": {
             "colorbar": {
              "outlinewidth": 0,
              "ticks": ""
             }
            },
            "type": "parcoords"
           }
          ],
          "pie": [
           {
            "automargin": true,
            "type": "pie"
           }
          ],
          "scatter": [
           {
            "fillpattern": {
             "fillmode": "overlay",
             "size": 10,
             "solidity": 0.2
            },
            "type": "scatter"
           }
          ],
          "scatter3d": [
           {
            "line": {
             "colorbar": {
              "outlinewidth": 0,
              "ticks": ""
             }
            },
            "marker": {
             "colorbar": {
              "outlinewidth": 0,
              "ticks": ""
             }
            },
            "type": "scatter3d"
           }
          ],
          "scattercarpet": [
           {
            "marker": {
             "colorbar": {
              "outlinewidth": 0,
              "ticks": ""
             }
            },
            "type": "scattercarpet"
           }
          ],
          "scattergeo": [
           {
            "marker": {
             "colorbar": {
              "outlinewidth": 0,
              "ticks": ""
             }
            },
            "type": "scattergeo"
           }
          ],
          "scattergl": [
           {
            "marker": {
             "colorbar": {
              "outlinewidth": 0,
              "ticks": ""
             }
            },
            "type": "scattergl"
           }
          ],
          "scattermapbox": [
           {
            "marker": {
             "colorbar": {
              "outlinewidth": 0,
              "ticks": ""
             }
            },
            "type": "scattermapbox"
           }
          ],
          "scatterpolar": [
           {
            "marker": {
             "colorbar": {
              "outlinewidth": 0,
              "ticks": ""
             }
            },
            "type": "scatterpolar"
           }
          ],
          "scatterpolargl": [
           {
            "marker": {
             "colorbar": {
              "outlinewidth": 0,
              "ticks": ""
             }
            },
            "type": "scatterpolargl"
           }
          ],
          "scatterternary": [
           {
            "marker": {
             "colorbar": {
              "outlinewidth": 0,
              "ticks": ""
             }
            },
            "type": "scatterternary"
           }
          ],
          "surface": [
           {
            "colorbar": {
             "outlinewidth": 0,
             "ticks": ""
            },
            "colorscale": [
             [
              0,
              "#0d0887"
             ],
             [
              0.1111111111111111,
              "#46039f"
             ],
             [
              0.2222222222222222,
              "#7201a8"
             ],
             [
              0.3333333333333333,
              "#9c179e"
             ],
             [
              0.4444444444444444,
              "#bd3786"
             ],
             [
              0.5555555555555556,
              "#d8576b"
             ],
             [
              0.6666666666666666,
              "#ed7953"
             ],
             [
              0.7777777777777778,
              "#fb9f3a"
             ],
             [
              0.8888888888888888,
              "#fdca26"
             ],
             [
              1,
              "#f0f921"
             ]
            ],
            "type": "surface"
           }
          ],
          "table": [
           {
            "cells": {
             "fill": {
              "color": "#EBF0F8"
             },
             "line": {
              "color": "white"
             }
            },
            "header": {
             "fill": {
              "color": "#C8D4E3"
             },
             "line": {
              "color": "white"
             }
            },
            "type": "table"
           }
          ]
         },
         "layout": {
          "annotationdefaults": {
           "arrowcolor": "#2a3f5f",
           "arrowhead": 0,
           "arrowwidth": 1
          },
          "autotypenumbers": "strict",
          "coloraxis": {
           "colorbar": {
            "outlinewidth": 0,
            "ticks": ""
           }
          },
          "colorscale": {
           "diverging": [
            [
             0,
             "#8e0152"
            ],
            [
             0.1,
             "#c51b7d"
            ],
            [
             0.2,
             "#de77ae"
            ],
            [
             0.3,
             "#f1b6da"
            ],
            [
             0.4,
             "#fde0ef"
            ],
            [
             0.5,
             "#f7f7f7"
            ],
            [
             0.6,
             "#e6f5d0"
            ],
            [
             0.7,
             "#b8e186"
            ],
            [
             0.8,
             "#7fbc41"
            ],
            [
             0.9,
             "#4d9221"
            ],
            [
             1,
             "#276419"
            ]
           ],
           "sequential": [
            [
             0,
             "#0d0887"
            ],
            [
             0.1111111111111111,
             "#46039f"
            ],
            [
             0.2222222222222222,
             "#7201a8"
            ],
            [
             0.3333333333333333,
             "#9c179e"
            ],
            [
             0.4444444444444444,
             "#bd3786"
            ],
            [
             0.5555555555555556,
             "#d8576b"
            ],
            [
             0.6666666666666666,
             "#ed7953"
            ],
            [
             0.7777777777777778,
             "#fb9f3a"
            ],
            [
             0.8888888888888888,
             "#fdca26"
            ],
            [
             1,
             "#f0f921"
            ]
           ],
           "sequentialminus": [
            [
             0,
             "#0d0887"
            ],
            [
             0.1111111111111111,
             "#46039f"
            ],
            [
             0.2222222222222222,
             "#7201a8"
            ],
            [
             0.3333333333333333,
             "#9c179e"
            ],
            [
             0.4444444444444444,
             "#bd3786"
            ],
            [
             0.5555555555555556,
             "#d8576b"
            ],
            [
             0.6666666666666666,
             "#ed7953"
            ],
            [
             0.7777777777777778,
             "#fb9f3a"
            ],
            [
             0.8888888888888888,
             "#fdca26"
            ],
            [
             1,
             "#f0f921"
            ]
           ]
          },
          "colorway": [
           "#636efa",
           "#EF553B",
           "#00cc96",
           "#ab63fa",
           "#FFA15A",
           "#19d3f3",
           "#FF6692",
           "#B6E880",
           "#FF97FF",
           "#FECB52"
          ],
          "font": {
           "color": "#2a3f5f"
          },
          "geo": {
           "bgcolor": "white",
           "lakecolor": "white",
           "landcolor": "#E5ECF6",
           "showlakes": true,
           "showland": true,
           "subunitcolor": "white"
          },
          "hoverlabel": {
           "align": "left"
          },
          "hovermode": "closest",
          "mapbox": {
           "style": "light"
          },
          "paper_bgcolor": "white",
          "plot_bgcolor": "#E5ECF6",
          "polar": {
           "angularaxis": {
            "gridcolor": "white",
            "linecolor": "white",
            "ticks": ""
           },
           "bgcolor": "#E5ECF6",
           "radialaxis": {
            "gridcolor": "white",
            "linecolor": "white",
            "ticks": ""
           }
          },
          "scene": {
           "xaxis": {
            "backgroundcolor": "#E5ECF6",
            "gridcolor": "white",
            "gridwidth": 2,
            "linecolor": "white",
            "showbackground": true,
            "ticks": "",
            "zerolinecolor": "white"
           },
           "yaxis": {
            "backgroundcolor": "#E5ECF6",
            "gridcolor": "white",
            "gridwidth": 2,
            "linecolor": "white",
            "showbackground": true,
            "ticks": "",
            "zerolinecolor": "white"
           },
           "zaxis": {
            "backgroundcolor": "#E5ECF6",
            "gridcolor": "white",
            "gridwidth": 2,
            "linecolor": "white",
            "showbackground": true,
            "ticks": "",
            "zerolinecolor": "white"
           }
          },
          "shapedefaults": {
           "line": {
            "color": "#2a3f5f"
           }
          },
          "ternary": {
           "aaxis": {
            "gridcolor": "white",
            "linecolor": "white",
            "ticks": ""
           },
           "baxis": {
            "gridcolor": "white",
            "linecolor": "white",
            "ticks": ""
           },
           "bgcolor": "#E5ECF6",
           "caxis": {
            "gridcolor": "white",
            "linecolor": "white",
            "ticks": ""
           }
          },
          "title": {
           "x": 0.05
          },
          "xaxis": {
           "automargin": true,
           "gridcolor": "white",
           "linecolor": "white",
           "ticks": "",
           "title": {
            "standoff": 15
           },
           "zerolinecolor": "white",
           "zerolinewidth": 2
          },
          "yaxis": {
           "automargin": true,
           "gridcolor": "white",
           "linecolor": "white",
           "ticks": "",
           "title": {
            "standoff": 15
           },
           "zerolinecolor": "white",
           "zerolinewidth": 2
          }
         }
        },
        "title": {
         "text": "Perplexity Heatmaps: Chat vs Base Model"
        },
        "xaxis": {
         "anchor": "y",
         "domain": [
          0,
          0.45
         ]
        },
        "xaxis2": {
         "anchor": "y2",
         "domain": [
          0.55,
          1
         ]
        },
        "yaxis": {
         "anchor": "x",
         "domain": [
          0,
          1
         ]
        },
        "yaxis2": {
         "anchor": "x2",
         "domain": [
          0,
          1
         ]
        }
       }
      },
      "text/html": [
       "<div>                            <div id=\"1fe4ad3a-8ed3-4205-89bf-5fa81fbe2b76\" class=\"plotly-graph-div\" style=\"height:600px; width:100%;\"></div>            <script type=\"text/javascript\">                require([\"plotly\"], function(Plotly) {                    window.PLOTLYENV=window.PLOTLYENV || {};                                    if (document.getElementById(\"1fe4ad3a-8ed3-4205-89bf-5fa81fbe2b76\")) {                    Plotly.newPlot(                        \"1fe4ad3a-8ed3-4205-89bf-5fa81fbe2b76\",                        [{\"colorscale\":[[0.0,\"#440154\"],[0.1111111111111111,\"#482878\"],[0.2222222222222222,\"#3e4989\"],[0.3333333333333333,\"#31688e\"],[0.4444444444444444,\"#26828e\"],[0.5555555555555556,\"#1f9e89\"],[0.6666666666666666,\"#35b779\"],[0.7777777777777778,\"#6ece58\"],[0.8888888888888888,\"#b5de2b\"],[1.0,\"#fde725\"]],\"x\":[\"4chan\",\"assistant\",\"assistant_assistant\",\"assistant_human\",\"default\",\"human\",\"human_human\",\"model_model\",\"user_user\"],\"y\":[\"blockquote\",\"code\",\"default\",\"em\"],\"z\":[[3.2543838024139404,3.312727212905884,3.2918918132781982,3.296363592147827,3.508150815963745,3.471311092376709,3.2530691623687744,3.472344160079956,3.3274483680725098],[3.228917121887207,3.332099676132202,3.279421091079712,3.275804042816162,3.4995551109313965,3.4456310272216797,3.2462968826293945,3.4385616779327393,3.3493213653564453],[3.2967045307159424,3.3922040462493896,3.3993351459503174,3.3850955963134766,3.507286310195923,3.4841294288635254,3.3769657611846924,3.4712677001953125,3.352726936340332],[3.1943366527557373,3.275535821914673,3.221921443939209,3.231252431869507,3.4499387741088867,3.366678237915039,3.2033472061157227,3.3598358631134033,3.3176703453063965]],\"zmax\":3.508150815963745,\"zmin\":2.790640354156494,\"type\":\"heatmap\",\"xaxis\":\"x\",\"yaxis\":\"y\"},{\"colorscale\":[[0.0,\"#440154\"],[0.1111111111111111,\"#482878\"],[0.2222222222222222,\"#3e4989\"],[0.3333333333333333,\"#31688e\"],[0.4444444444444444,\"#26828e\"],[0.5555555555555556,\"#1f9e89\"],[0.6666666666666666,\"#35b779\"],[0.7777777777777778,\"#6ece58\"],[0.8888888888888888,\"#b5de2b\"],[1.0,\"#fde725\"]],\"x\":[\"4chan\",\"assistant\",\"assistant_assistant\",\"assistant_human\",\"default\",\"human\",\"human_human\",\"model_model\",\"user_user\"],\"y\":[\"blockquote\",\"code\",\"default\",\"em\"],\"z\":[[2.7999327182769775,2.7930424213409424,2.8074400424957275,2.803995132446289,2.790640354156494,2.802304267883301,2.810713052749634,2.811119556427002,2.8053083419799805],[2.79938006401062,2.803910493850708,2.808375597000122,2.81152606010437,2.7978062629699707,2.802597761154175,2.81152606010437,2.8076117038726807,2.8063559532165527],[2.9593474864959717,2.97358775138855,2.9795827865600586,2.9706852436065674,2.9721343517303467,2.9712345600128174,2.9729881286621094,2.980553388595581,2.97841477394104],[2.8121299743652344,2.80275821685791,2.8227245807647705,2.8165247440338135,2.798509120941162,2.812817335128784,2.824057102203369,2.8227994441986084,2.8147289752960205]],\"zmax\":3.508150815963745,\"zmin\":2.790640354156494,\"type\":\"heatmap\",\"xaxis\":\"x2\",\"yaxis\":\"y2\"}],                        {\"template\":{\"data\":{\"histogram2dcontour\":[{\"type\":\"histogram2dcontour\",\"colorbar\":{\"outlinewidth\":0,\"ticks\":\"\"},\"colorscale\":[[0.0,\"#0d0887\"],[0.1111111111111111,\"#46039f\"],[0.2222222222222222,\"#7201a8\"],[0.3333333333333333,\"#9c179e\"],[0.4444444444444444,\"#bd3786\"],[0.5555555555555556,\"#d8576b\"],[0.6666666666666666,\"#ed7953\"],[0.7777777777777778,\"#fb9f3a\"],[0.8888888888888888,\"#fdca26\"],[1.0,\"#f0f921\"]]}],\"choropleth\":[{\"type\":\"choropleth\",\"colorbar\":{\"outlinewidth\":0,\"ticks\":\"\"}}],\"histogram2d\":[{\"type\":\"histogram2d\",\"colorbar\":{\"outlinewidth\":0,\"ticks\":\"\"},\"colorscale\":[[0.0,\"#0d0887\"],[0.1111111111111111,\"#46039f\"],[0.2222222222222222,\"#7201a8\"],[0.3333333333333333,\"#9c179e\"],[0.4444444444444444,\"#bd3786\"],[0.5555555555555556,\"#d8576b\"],[0.6666666666666666,\"#ed7953\"],[0.7777777777777778,\"#fb9f3a\"],[0.8888888888888888,\"#fdca26\"],[1.0,\"#f0f921\"]]}],\"heatmap\":[{\"type\":\"heatmap\",\"colorbar\":{\"outlinewidth\":0,\"ticks\":\"\"},\"colorscale\":[[0.0,\"#0d0887\"],[0.1111111111111111,\"#46039f\"],[0.2222222222222222,\"#7201a8\"],[0.3333333333333333,\"#9c179e\"],[0.4444444444444444,\"#bd3786\"],[0.5555555555555556,\"#d8576b\"],[0.6666666666666666,\"#ed7953\"],[0.7777777777777778,\"#fb9f3a\"],[0.8888888888888888,\"#fdca26\"],[1.0,\"#f0f921\"]]}],\"heatmapgl\":[{\"type\":\"heatmapgl\",\"colorbar\":{\"outlinewidth\":0,\"ticks\":\"\"},\"colorscale\":[[0.0,\"#0d0887\"],[0.1111111111111111,\"#46039f\"],[0.2222222222222222,\"#7201a8\"],[0.3333333333333333,\"#9c179e\"],[0.4444444444444444,\"#bd3786\"],[0.5555555555555556,\"#d8576b\"],[0.6666666666666666,\"#ed7953\"],[0.7777777777777778,\"#fb9f3a\"],[0.8888888888888888,\"#fdca26\"],[1.0,\"#f0f921\"]]}],\"contourcarpet\":[{\"type\":\"contourcarpet\",\"colorbar\":{\"outlinewidth\":0,\"ticks\":\"\"}}],\"contour\":[{\"type\":\"contour\",\"colorbar\":{\"outlinewidth\":0,\"ticks\":\"\"},\"colorscale\":[[0.0,\"#0d0887\"],[0.1111111111111111,\"#46039f\"],[0.2222222222222222,\"#7201a8\"],[0.3333333333333333,\"#9c179e\"],[0.4444444444444444,\"#bd3786\"],[0.5555555555555556,\"#d8576b\"],[0.6666666666666666,\"#ed7953\"],[0.7777777777777778,\"#fb9f3a\"],[0.8888888888888888,\"#fdca26\"],[1.0,\"#f0f921\"]]}],\"surface\":[{\"type\":\"surface\",\"colorbar\":{\"outlinewidth\":0,\"ticks\":\"\"},\"colorscale\":[[0.0,\"#0d0887\"],[0.1111111111111111,\"#46039f\"],[0.2222222222222222,\"#7201a8\"],[0.3333333333333333,\"#9c179e\"],[0.4444444444444444,\"#bd3786\"],[0.5555555555555556,\"#d8576b\"],[0.6666666666666666,\"#ed7953\"],[0.7777777777777778,\"#fb9f3a\"],[0.8888888888888888,\"#fdca26\"],[1.0,\"#f0f921\"]]}],\"mesh3d\":[{\"type\":\"mesh3d\",\"colorbar\":{\"outlinewidth\":0,\"ticks\":\"\"}}],\"scatter\":[{\"fillpattern\":{\"fillmode\":\"overlay\",\"size\":10,\"solidity\":0.2},\"type\":\"scatter\"}],\"parcoords\":[{\"type\":\"parcoords\",\"line\":{\"colorbar\":{\"outlinewidth\":0,\"ticks\":\"\"}}}],\"scatterpolargl\":[{\"type\":\"scatterpolargl\",\"marker\":{\"colorbar\":{\"outlinewidth\":0,\"ticks\":\"\"}}}],\"bar\":[{\"error_x\":{\"color\":\"#2a3f5f\"},\"error_y\":{\"color\":\"#2a3f5f\"},\"marker\":{\"line\":{\"color\":\"#E5ECF6\",\"width\":0.5},\"pattern\":{\"fillmode\":\"overlay\",\"size\":10,\"solidity\":0.2}},\"type\":\"bar\"}],\"scattergeo\":[{\"type\":\"scattergeo\",\"marker\":{\"colorbar\":{\"outlinewidth\":0,\"ticks\":\"\"}}}],\"scatterpolar\":[{\"type\":\"scatterpolar\",\"marker\":{\"colorbar\":{\"outlinewidth\":0,\"ticks\":\"\"}}}],\"histogram\":[{\"marker\":{\"pattern\":{\"fillmode\":\"overlay\",\"size\":10,\"solidity\":0.2}},\"type\":\"histogram\"}],\"scattergl\":[{\"type\":\"scattergl\",\"marker\":{\"colorbar\":{\"outlinewidth\":0,\"ticks\":\"\"}}}],\"scatter3d\":[{\"type\":\"scatter3d\",\"line\":{\"colorbar\":{\"outlinewidth\":0,\"ticks\":\"\"}},\"marker\":{\"colorbar\":{\"outlinewidth\":0,\"ticks\":\"\"}}}],\"scattermapbox\":[{\"type\":\"scattermapbox\",\"marker\":{\"colorbar\":{\"outlinewidth\":0,\"ticks\":\"\"}}}],\"scatterternary\":[{\"type\":\"scatterternary\",\"marker\":{\"colorbar\":{\"outlinewidth\":0,\"ticks\":\"\"}}}],\"scattercarpet\":[{\"type\":\"scattercarpet\",\"marker\":{\"colorbar\":{\"outlinewidth\":0,\"ticks\":\"\"}}}],\"carpet\":[{\"aaxis\":{\"endlinecolor\":\"#2a3f5f\",\"gridcolor\":\"white\",\"linecolor\":\"white\",\"minorgridcolor\":\"white\",\"startlinecolor\":\"#2a3f5f\"},\"baxis\":{\"endlinecolor\":\"#2a3f5f\",\"gridcolor\":\"white\",\"linecolor\":\"white\",\"minorgridcolor\":\"white\",\"startlinecolor\":\"#2a3f5f\"},\"type\":\"carpet\"}],\"table\":[{\"cells\":{\"fill\":{\"color\":\"#EBF0F8\"},\"line\":{\"color\":\"white\"}},\"header\":{\"fill\":{\"color\":\"#C8D4E3\"},\"line\":{\"color\":\"white\"}},\"type\":\"table\"}],\"barpolar\":[{\"marker\":{\"line\":{\"color\":\"#E5ECF6\",\"width\":0.5},\"pattern\":{\"fillmode\":\"overlay\",\"size\":10,\"solidity\":0.2}},\"type\":\"barpolar\"}],\"pie\":[{\"automargin\":true,\"type\":\"pie\"}]},\"layout\":{\"autotypenumbers\":\"strict\",\"colorway\":[\"#636efa\",\"#EF553B\",\"#00cc96\",\"#ab63fa\",\"#FFA15A\",\"#19d3f3\",\"#FF6692\",\"#B6E880\",\"#FF97FF\",\"#FECB52\"],\"font\":{\"color\":\"#2a3f5f\"},\"hovermode\":\"closest\",\"hoverlabel\":{\"align\":\"left\"},\"paper_bgcolor\":\"white\",\"plot_bgcolor\":\"#E5ECF6\",\"polar\":{\"bgcolor\":\"#E5ECF6\",\"angularaxis\":{\"gridcolor\":\"white\",\"linecolor\":\"white\",\"ticks\":\"\"},\"radialaxis\":{\"gridcolor\":\"white\",\"linecolor\":\"white\",\"ticks\":\"\"}},\"ternary\":{\"bgcolor\":\"#E5ECF6\",\"aaxis\":{\"gridcolor\":\"white\",\"linecolor\":\"white\",\"ticks\":\"\"},\"baxis\":{\"gridcolor\":\"white\",\"linecolor\":\"white\",\"ticks\":\"\"},\"caxis\":{\"gridcolor\":\"white\",\"linecolor\":\"white\",\"ticks\":\"\"}},\"coloraxis\":{\"colorbar\":{\"outlinewidth\":0,\"ticks\":\"\"}},\"colorscale\":{\"sequential\":[[0.0,\"#0d0887\"],[0.1111111111111111,\"#46039f\"],[0.2222222222222222,\"#7201a8\"],[0.3333333333333333,\"#9c179e\"],[0.4444444444444444,\"#bd3786\"],[0.5555555555555556,\"#d8576b\"],[0.6666666666666666,\"#ed7953\"],[0.7777777777777778,\"#fb9f3a\"],[0.8888888888888888,\"#fdca26\"],[1.0,\"#f0f921\"]],\"sequentialminus\":[[0.0,\"#0d0887\"],[0.1111111111111111,\"#46039f\"],[0.2222222222222222,\"#7201a8\"],[0.3333333333333333,\"#9c179e\"],[0.4444444444444444,\"#bd3786\"],[0.5555555555555556,\"#d8576b\"],[0.6666666666666666,\"#ed7953\"],[0.7777777777777778,\"#fb9f3a\"],[0.8888888888888888,\"#fdca26\"],[1.0,\"#f0f921\"]],\"diverging\":[[0,\"#8e0152\"],[0.1,\"#c51b7d\"],[0.2,\"#de77ae\"],[0.3,\"#f1b6da\"],[0.4,\"#fde0ef\"],[0.5,\"#f7f7f7\"],[0.6,\"#e6f5d0\"],[0.7,\"#b8e186\"],[0.8,\"#7fbc41\"],[0.9,\"#4d9221\"],[1,\"#276419\"]]},\"xaxis\":{\"gridcolor\":\"white\",\"linecolor\":\"white\",\"ticks\":\"\",\"title\":{\"standoff\":15},\"zerolinecolor\":\"white\",\"automargin\":true,\"zerolinewidth\":2},\"yaxis\":{\"gridcolor\":\"white\",\"linecolor\":\"white\",\"ticks\":\"\",\"title\":{\"standoff\":15},\"zerolinecolor\":\"white\",\"automargin\":true,\"zerolinewidth\":2},\"scene\":{\"xaxis\":{\"backgroundcolor\":\"#E5ECF6\",\"gridcolor\":\"white\",\"linecolor\":\"white\",\"showbackground\":true,\"ticks\":\"\",\"zerolinecolor\":\"white\",\"gridwidth\":2},\"yaxis\":{\"backgroundcolor\":\"#E5ECF6\",\"gridcolor\":\"white\",\"linecolor\":\"white\",\"showbackground\":true,\"ticks\":\"\",\"zerolinecolor\":\"white\",\"gridwidth\":2},\"zaxis\":{\"backgroundcolor\":\"#E5ECF6\",\"gridcolor\":\"white\",\"linecolor\":\"white\",\"showbackground\":true,\"ticks\":\"\",\"zerolinecolor\":\"white\",\"gridwidth\":2}},\"shapedefaults\":{\"line\":{\"color\":\"#2a3f5f\"}},\"annotationdefaults\":{\"arrowcolor\":\"#2a3f5f\",\"arrowhead\":0,\"arrowwidth\":1},\"geo\":{\"bgcolor\":\"white\",\"landcolor\":\"#E5ECF6\",\"subunitcolor\":\"white\",\"showland\":true,\"showlakes\":true,\"lakecolor\":\"white\"},\"title\":{\"x\":0.05},\"mapbox\":{\"style\":\"light\"}}},\"xaxis\":{\"anchor\":\"y\",\"domain\":[0.0,0.45]},\"yaxis\":{\"anchor\":\"x\",\"domain\":[0.0,1.0]},\"xaxis2\":{\"anchor\":\"y2\",\"domain\":[0.55,1.0]},\"yaxis2\":{\"anchor\":\"x2\",\"domain\":[0.0,1.0]},\"annotations\":[{\"font\":{\"size\":16},\"showarrow\":false,\"text\":\"Chat Model Perplexity\",\"x\":0.225,\"xanchor\":\"center\",\"xref\":\"paper\",\"y\":1.0,\"yanchor\":\"bottom\",\"yref\":\"paper\"},{\"font\":{\"size\":16},\"showarrow\":false,\"text\":\"Base Model Perplexity\",\"x\":0.775,\"xanchor\":\"center\",\"xref\":\"paper\",\"y\":1.0,\"yanchor\":\"bottom\",\"yref\":\"paper\"}],\"title\":{\"text\":\"Perplexity Heatmaps: Chat vs Base Model\"},\"height\":600},                        {\"responsive\": true}                    ).then(function(){\n",
       "                            \n",
       "var gd = document.getElementById('1fe4ad3a-8ed3-4205-89bf-5fa81fbe2b76');\n",
       "var x = new MutationObserver(function (mutations, observer) {{\n",
       "        var display = window.getComputedStyle(gd).display;\n",
       "        if (!display || display === 'none') {{\n",
       "            console.log([gd, 'removed!']);\n",
       "            Plotly.purge(gd);\n",
       "            observer.disconnect();\n",
       "        }}\n",
       "}});\n",
       "\n",
       "// Listen for the removal of the full notebook cells\n",
       "var notebookContainer = gd.closest('#notebook-container');\n",
       "if (notebookContainer) {{\n",
       "    x.observe(notebookContainer, {childList: true});\n",
       "}}\n",
       "\n",
       "// Listen for the clearing of the current output cell\n",
       "var outputEl = gd.closest('.output');\n",
       "if (outputEl) {{\n",
       "    x.observe(outputEl, {childList: true});\n",
       "}}\n",
       "\n",
       "                        })                };                });            </script>        </div>"
      ]
     },
     "metadata": {},
     "output_type": "display_data"
    }
   ],
   "source": [
    "# res_g = load_dict(\"results/chat_templates_results_generated.json\")\n",
    "res, res_g = load_dict(\"results/chat_templates_results.pkl\", use_pickle=True,  key='results'), load_dict(\"results/chat_templates_results_generated.json\")\n",
    "# res[('default', 'default')]['base_metric'] , res_g[('default', 'default')]['base_metric']\n",
    "plot_results(res)"
   ]
  },
  {
   "cell_type": "code",
   "execution_count": 37,
   "metadata": {},
   "outputs": [
    {
     "data": {
      "application/vnd.plotly.v1+json": {
       "config": {
        "plotlyServerURL": "https://plot.ly"
       },
       "data": [
        {
         "error_y": {
          "array": [
           0.08331978336828971,
           0.08143271289822485,
           0.08054379933547562,
           0.07768518255633516,
           0.08846686742034793,
           0.08477147945176178,
           0.08629896237793133,
           0.08200319225798136,
           0.08909130522777753,
           0.08386723544226982,
           0.08345532974123904,
           0.079453187179225,
           0.08823235354077807,
           0.0843045419408095,
           0.08344102352645599,
           0.08027166546876119,
           0.09474046949278181,
           0.09675003949186767,
           0.09696705637116843,
           0.09216953035921405,
           0.09345724929563914,
           0.09487298034669589,
           0.09380485991845688,
           0.08760714876076747,
           0.08791785856369172,
           0.08134492127468462,
           0.08155201265376189,
           0.07843582678989414,
           0.09217831070688698,
           0.09469982590937898,
           0.09325020942997453,
           0.08708199524179516,
           0.08534415271390117,
           0.08461167528255142,
           0.08679292665245208,
           0.08382447147580852
          ],
          "arrayminus": [
           0.08126589687060637,
           0.07944480777828611,
           0.07858356962863988,
           0.0758407610052072,
           0.08621833924135958,
           0.08265633405241068,
           0.08412030748858967,
           0.08000037903314183,
           0.08681599262529804,
           0.08178364088495238,
           0.08138424796758326,
           0.07754101129544866,
           0.0859910022132504,
           0.0822022191129097,
           0.08136841367821868,
           0.07832587250826073,
           0.09224860668645096,
           0.09415341602925231,
           0.09435269461169593,
           0.08977117841838789,
           0.0910158668130765,
           0.09234902695104585,
           0.09131877116733955,
           0.08538526734251572,
           0.08568703331739203,
           0.07936046581978395,
           0.07955350521632765,
           0.07656118155511527,
           0.08979386572335679,
           0.0921856833693675,
           0.09078812995460739,
           0.08488197939955233,
           0.08322563212087397,
           0.08251348958149318,
           0.08460062119438927,
           0.08175874966916918
          ],
          "symmetric": false,
          "type": "data"
         },
         "marker": {
          "color": "royalblue"
         },
         "name": "Chat Model",
         "type": "bar",
         "x": [
          "4chan_default",
          "4chan_blockquote",
          "4chan_code",
          "4chan_em",
          "assistant_default",
          "assistant_blockquote",
          "assistant_code",
          "assistant_em",
          "assistant_assistant_default",
          "assistant_assistant_blockquote",
          "assistant_assistant_code",
          "assistant_assistant_em",
          "assistant_human_default",
          "assistant_human_blockquote",
          "assistant_human_code",
          "assistant_human_em",
          "default_default",
          "default_blockquote",
          "default_code",
          "default_em",
          "human_default",
          "human_blockquote",
          "human_code",
          "human_em",
          "human_human_default",
          "human_human_blockquote",
          "human_human_code",
          "human_human_em",
          "model_model_default",
          "model_model_blockquote",
          "model_model_code",
          "model_model_em",
          "user_user_default",
          "user_user_blockquote",
          "user_user_code",
          "user_user_em"
         ],
         "y": [
          3.2967045307159424,
          3.2543838024139404,
          3.228917121887207,
          3.1943366527557373,
          3.3922040462493896,
          3.312727212905884,
          3.332099676132202,
          3.275535821914673,
          3.3993351459503174,
          3.2918918132781982,
          3.279421091079712,
          3.221921443939209,
          3.3850955963134766,
          3.296363592147827,
          3.275804042816162,
          3.231252431869507,
          3.507286310195923,
          3.508150815963745,
          3.4995551109313965,
          3.4499387741088867,
          3.4841294288635254,
          3.471311092376709,
          3.4456310272216797,
          3.366678237915039,
          3.3769657611846924,
          3.2530691623687744,
          3.2462968826293945,
          3.2033472061157227,
          3.4712677001953125,
          3.472344160079956,
          3.4385616779327393,
          3.3598358631134033,
          3.352726936340332,
          3.3274483680725098,
          3.3493213653564453,
          3.3176703453063965
         ]
        },
        {
         "error_y": {
          "array": [
           0.07513542852331767,
           0.062343690310962874,
           0.06248954185287969,
           0.06266470223425769,
           0.07645246860603683,
           0.06193960188584624,
           0.06252965549597755,
           0.06226241430210999,
           0.0762430711362514,
           0.06249941866464104,
           0.06251767983788925,
           0.06294329852990144,
           0.07561895198905333,
           0.06250857900993623,
           0.06281621643529922,
           0.06275151916605282,
           0.07649245878577426,
           0.061663814237025605,
           0.06217510860738562,
           0.06196647492760876,
           0.07571612256922178,
           0.062307513091588884,
           0.06237110455584238,
           0.062482247721102446,
           0.07559429838779597,
           0.06265779537099014,
           0.06265141785529726,
           0.06301845838952458,
           0.07660332888493748,
           0.06257876353948566,
           0.06252415123303656,
           0.06295646673654165,
           0.07638292626945953,
           0.06234663953833097,
           0.06248709356558946,
           0.06267640174698519
          ],
          "arrayminus": [
           0.07327503491508791,
           0.06098577263748872,
           0.061125069190330006,
           0.06129873862716151,
           0.07453610700606861,
           0.06059580558500599,
           0.061165608939018234,
           0.060909332166307895,
           0.07434080112251795,
           0.061138352556354914,
           0.061156270716956396,
           0.06157035507433184,
           0.07374184926628846,
           0.06114548206566006,
           0.061443423403845454,
           0.061383900084836185,
           0.07457320247309296,
           0.06033070747078595,
           0.060823441016555346,
           0.06062409535251323,
           0.07383459188029695,
           0.06095227668104242,
           0.06101326966622933,
           0.06112446528216342,
           0.073719821287213,
           0.061291456137987144,
           0.0612857401303204,
           0.0616429051646632,
           0.07468387543896204,
           0.061216024236295574,
           0.06116210090344776,
           0.061582990660852044,
           0.07447302846343362,
           0.06099114053765842,
           0.061126044251074596,
           0.06131116785700552
          ],
          "symmetric": false,
          "type": "data"
         },
         "marker": {
          "color": "red"
         },
         "name": "Base Model",
         "type": "bar",
         "x": [
          "4chan_default",
          "4chan_blockquote",
          "4chan_code",
          "4chan_em",
          "assistant_default",
          "assistant_blockquote",
          "assistant_code",
          "assistant_em",
          "assistant_assistant_default",
          "assistant_assistant_blockquote",
          "assistant_assistant_code",
          "assistant_assistant_em",
          "assistant_human_default",
          "assistant_human_blockquote",
          "assistant_human_code",
          "assistant_human_em",
          "default_default",
          "default_blockquote",
          "default_code",
          "default_em",
          "human_default",
          "human_blockquote",
          "human_code",
          "human_em",
          "human_human_default",
          "human_human_blockquote",
          "human_human_code",
          "human_human_em",
          "model_model_default",
          "model_model_blockquote",
          "model_model_code",
          "model_model_em",
          "user_user_default",
          "user_user_blockquote",
          "user_user_code",
          "user_user_em"
         ],
         "y": [
          2.9593474864959717,
          2.7999327182769775,
          2.79938006401062,
          2.8121299743652344,
          2.97358775138855,
          2.7930424213409424,
          2.803910493850708,
          2.80275821685791,
          2.9795827865600586,
          2.8074400424957275,
          2.808375597000122,
          2.8227245807647705,
          2.9706852436065674,
          2.803995132446289,
          2.81152606010437,
          2.8165247440338135,
          2.9721343517303467,
          2.790640354156494,
          2.7978062629699707,
          2.798509120941162,
          2.9712345600128174,
          2.802304267883301,
          2.802597761154175,
          2.812817335128784,
          2.9729881286621094,
          2.810713052749634,
          2.81152606010437,
          2.824057102203369,
          2.980553388595581,
          2.811119556427002,
          2.8076117038726807,
          2.8227994441986084,
          2.97841477394104,
          2.8053083419799805,
          2.8063559532165527,
          2.8147289752960205
         ]
        }
       ],
       "layout": {
        "barmode": "group",
        "template": {
         "data": {
          "bar": [
           {
            "error_x": {
             "color": "#2a3f5f"
            },
            "error_y": {
             "color": "#2a3f5f"
            },
            "marker": {
             "line": {
              "color": "#E5ECF6",
              "width": 0.5
             },
             "pattern": {
              "fillmode": "overlay",
              "size": 10,
              "solidity": 0.2
             }
            },
            "type": "bar"
           }
          ],
          "barpolar": [
           {
            "marker": {
             "line": {
              "color": "#E5ECF6",
              "width": 0.5
             },
             "pattern": {
              "fillmode": "overlay",
              "size": 10,
              "solidity": 0.2
             }
            },
            "type": "barpolar"
           }
          ],
          "carpet": [
           {
            "aaxis": {
             "endlinecolor": "#2a3f5f",
             "gridcolor": "white",
             "linecolor": "white",
             "minorgridcolor": "white",
             "startlinecolor": "#2a3f5f"
            },
            "baxis": {
             "endlinecolor": "#2a3f5f",
             "gridcolor": "white",
             "linecolor": "white",
             "minorgridcolor": "white",
             "startlinecolor": "#2a3f5f"
            },
            "type": "carpet"
           }
          ],
          "choropleth": [
           {
            "colorbar": {
             "outlinewidth": 0,
             "ticks": ""
            },
            "type": "choropleth"
           }
          ],
          "contour": [
           {
            "colorbar": {
             "outlinewidth": 0,
             "ticks": ""
            },
            "colorscale": [
             [
              0,
              "#0d0887"
             ],
             [
              0.1111111111111111,
              "#46039f"
             ],
             [
              0.2222222222222222,
              "#7201a8"
             ],
             [
              0.3333333333333333,
              "#9c179e"
             ],
             [
              0.4444444444444444,
              "#bd3786"
             ],
             [
              0.5555555555555556,
              "#d8576b"
             ],
             [
              0.6666666666666666,
              "#ed7953"
             ],
             [
              0.7777777777777778,
              "#fb9f3a"
             ],
             [
              0.8888888888888888,
              "#fdca26"
             ],
             [
              1,
              "#f0f921"
             ]
            ],
            "type": "contour"
           }
          ],
          "contourcarpet": [
           {
            "colorbar": {
             "outlinewidth": 0,
             "ticks": ""
            },
            "type": "contourcarpet"
           }
          ],
          "heatmap": [
           {
            "colorbar": {
             "outlinewidth": 0,
             "ticks": ""
            },
            "colorscale": [
             [
              0,
              "#0d0887"
             ],
             [
              0.1111111111111111,
              "#46039f"
             ],
             [
              0.2222222222222222,
              "#7201a8"
             ],
             [
              0.3333333333333333,
              "#9c179e"
             ],
             [
              0.4444444444444444,
              "#bd3786"
             ],
             [
              0.5555555555555556,
              "#d8576b"
             ],
             [
              0.6666666666666666,
              "#ed7953"
             ],
             [
              0.7777777777777778,
              "#fb9f3a"
             ],
             [
              0.8888888888888888,
              "#fdca26"
             ],
             [
              1,
              "#f0f921"
             ]
            ],
            "type": "heatmap"
           }
          ],
          "heatmapgl": [
           {
            "colorbar": {
             "outlinewidth": 0,
             "ticks": ""
            },
            "colorscale": [
             [
              0,
              "#0d0887"
             ],
             [
              0.1111111111111111,
              "#46039f"
             ],
             [
              0.2222222222222222,
              "#7201a8"
             ],
             [
              0.3333333333333333,
              "#9c179e"
             ],
             [
              0.4444444444444444,
              "#bd3786"
             ],
             [
              0.5555555555555556,
              "#d8576b"
             ],
             [
              0.6666666666666666,
              "#ed7953"
             ],
             [
              0.7777777777777778,
              "#fb9f3a"
             ],
             [
              0.8888888888888888,
              "#fdca26"
             ],
             [
              1,
              "#f0f921"
             ]
            ],
            "type": "heatmapgl"
           }
          ],
          "histogram": [
           {
            "marker": {
             "pattern": {
              "fillmode": "overlay",
              "size": 10,
              "solidity": 0.2
             }
            },
            "type": "histogram"
           }
          ],
          "histogram2d": [
           {
            "colorbar": {
             "outlinewidth": 0,
             "ticks": ""
            },
            "colorscale": [
             [
              0,
              "#0d0887"
             ],
             [
              0.1111111111111111,
              "#46039f"
             ],
             [
              0.2222222222222222,
              "#7201a8"
             ],
             [
              0.3333333333333333,
              "#9c179e"
             ],
             [
              0.4444444444444444,
              "#bd3786"
             ],
             [
              0.5555555555555556,
              "#d8576b"
             ],
             [
              0.6666666666666666,
              "#ed7953"
             ],
             [
              0.7777777777777778,
              "#fb9f3a"
             ],
             [
              0.8888888888888888,
              "#fdca26"
             ],
             [
              1,
              "#f0f921"
             ]
            ],
            "type": "histogram2d"
           }
          ],
          "histogram2dcontour": [
           {
            "colorbar": {
             "outlinewidth": 0,
             "ticks": ""
            },
            "colorscale": [
             [
              0,
              "#0d0887"
             ],
             [
              0.1111111111111111,
              "#46039f"
             ],
             [
              0.2222222222222222,
              "#7201a8"
             ],
             [
              0.3333333333333333,
              "#9c179e"
             ],
             [
              0.4444444444444444,
              "#bd3786"
             ],
             [
              0.5555555555555556,
              "#d8576b"
             ],
             [
              0.6666666666666666,
              "#ed7953"
             ],
             [
              0.7777777777777778,
              "#fb9f3a"
             ],
             [
              0.8888888888888888,
              "#fdca26"
             ],
             [
              1,
              "#f0f921"
             ]
            ],
            "type": "histogram2dcontour"
           }
          ],
          "mesh3d": [
           {
            "colorbar": {
             "outlinewidth": 0,
             "ticks": ""
            },
            "type": "mesh3d"
           }
          ],
          "parcoords": [
           {
            "line": {
             "colorbar": {
              "outlinewidth": 0,
              "ticks": ""
             }
            },
            "type": "parcoords"
           }
          ],
          "pie": [
           {
            "automargin": true,
            "type": "pie"
           }
          ],
          "scatter": [
           {
            "fillpattern": {
             "fillmode": "overlay",
             "size": 10,
             "solidity": 0.2
            },
            "type": "scatter"
           }
          ],
          "scatter3d": [
           {
            "line": {
             "colorbar": {
              "outlinewidth": 0,
              "ticks": ""
             }
            },
            "marker": {
             "colorbar": {
              "outlinewidth": 0,
              "ticks": ""
             }
            },
            "type": "scatter3d"
           }
          ],
          "scattercarpet": [
           {
            "marker": {
             "colorbar": {
              "outlinewidth": 0,
              "ticks": ""
             }
            },
            "type": "scattercarpet"
           }
          ],
          "scattergeo": [
           {
            "marker": {
             "colorbar": {
              "outlinewidth": 0,
              "ticks": ""
             }
            },
            "type": "scattergeo"
           }
          ],
          "scattergl": [
           {
            "marker": {
             "colorbar": {
              "outlinewidth": 0,
              "ticks": ""
             }
            },
            "type": "scattergl"
           }
          ],
          "scattermapbox": [
           {
            "marker": {
             "colorbar": {
              "outlinewidth": 0,
              "ticks": ""
             }
            },
            "type": "scattermapbox"
           }
          ],
          "scatterpolar": [
           {
            "marker": {
             "colorbar": {
              "outlinewidth": 0,
              "ticks": ""
             }
            },
            "type": "scatterpolar"
           }
          ],
          "scatterpolargl": [
           {
            "marker": {
             "colorbar": {
              "outlinewidth": 0,
              "ticks": ""
             }
            },
            "type": "scatterpolargl"
           }
          ],
          "scatterternary": [
           {
            "marker": {
             "colorbar": {
              "outlinewidth": 0,
              "ticks": ""
             }
            },
            "type": "scatterternary"
           }
          ],
          "surface": [
           {
            "colorbar": {
             "outlinewidth": 0,
             "ticks": ""
            },
            "colorscale": [
             [
              0,
              "#0d0887"
             ],
             [
              0.1111111111111111,
              "#46039f"
             ],
             [
              0.2222222222222222,
              "#7201a8"
             ],
             [
              0.3333333333333333,
              "#9c179e"
             ],
             [
              0.4444444444444444,
              "#bd3786"
             ],
             [
              0.5555555555555556,
              "#d8576b"
             ],
             [
              0.6666666666666666,
              "#ed7953"
             ],
             [
              0.7777777777777778,
              "#fb9f3a"
             ],
             [
              0.8888888888888888,
              "#fdca26"
             ],
             [
              1,
              "#f0f921"
             ]
            ],
            "type": "surface"
           }
          ],
          "table": [
           {
            "cells": {
             "fill": {
              "color": "#EBF0F8"
             },
             "line": {
              "color": "white"
             }
            },
            "header": {
             "fill": {
              "color": "#C8D4E3"
             },
             "line": {
              "color": "white"
             }
            },
            "type": "table"
           }
          ]
         },
         "layout": {
          "annotationdefaults": {
           "arrowcolor": "#2a3f5f",
           "arrowhead": 0,
           "arrowwidth": 1
          },
          "autotypenumbers": "strict",
          "coloraxis": {
           "colorbar": {
            "outlinewidth": 0,
            "ticks": ""
           }
          },
          "colorscale": {
           "diverging": [
            [
             0,
             "#8e0152"
            ],
            [
             0.1,
             "#c51b7d"
            ],
            [
             0.2,
             "#de77ae"
            ],
            [
             0.3,
             "#f1b6da"
            ],
            [
             0.4,
             "#fde0ef"
            ],
            [
             0.5,
             "#f7f7f7"
            ],
            [
             0.6,
             "#e6f5d0"
            ],
            [
             0.7,
             "#b8e186"
            ],
            [
             0.8,
             "#7fbc41"
            ],
            [
             0.9,
             "#4d9221"
            ],
            [
             1,
             "#276419"
            ]
           ],
           "sequential": [
            [
             0,
             "#0d0887"
            ],
            [
             0.1111111111111111,
             "#46039f"
            ],
            [
             0.2222222222222222,
             "#7201a8"
            ],
            [
             0.3333333333333333,
             "#9c179e"
            ],
            [
             0.4444444444444444,
             "#bd3786"
            ],
            [
             0.5555555555555556,
             "#d8576b"
            ],
            [
             0.6666666666666666,
             "#ed7953"
            ],
            [
             0.7777777777777778,
             "#fb9f3a"
            ],
            [
             0.8888888888888888,
             "#fdca26"
            ],
            [
             1,
             "#f0f921"
            ]
           ],
           "sequentialminus": [
            [
             0,
             "#0d0887"
            ],
            [
             0.1111111111111111,
             "#46039f"
            ],
            [
             0.2222222222222222,
             "#7201a8"
            ],
            [
             0.3333333333333333,
             "#9c179e"
            ],
            [
             0.4444444444444444,
             "#bd3786"
            ],
            [
             0.5555555555555556,
             "#d8576b"
            ],
            [
             0.6666666666666666,
             "#ed7953"
            ],
            [
             0.7777777777777778,
             "#fb9f3a"
            ],
            [
             0.8888888888888888,
             "#fdca26"
            ],
            [
             1,
             "#f0f921"
            ]
           ]
          },
          "colorway": [
           "#636efa",
           "#EF553B",
           "#00cc96",
           "#ab63fa",
           "#FFA15A",
           "#19d3f3",
           "#FF6692",
           "#B6E880",
           "#FF97FF",
           "#FECB52"
          ],
          "font": {
           "color": "#2a3f5f"
          },
          "geo": {
           "bgcolor": "white",
           "lakecolor": "white",
           "landcolor": "#E5ECF6",
           "showlakes": true,
           "showland": true,
           "subunitcolor": "white"
          },
          "hoverlabel": {
           "align": "left"
          },
          "hovermode": "closest",
          "mapbox": {
           "style": "light"
          },
          "paper_bgcolor": "white",
          "plot_bgcolor": "#E5ECF6",
          "polar": {
           "angularaxis": {
            "gridcolor": "white",
            "linecolor": "white",
            "ticks": ""
           },
           "bgcolor": "#E5ECF6",
           "radialaxis": {
            "gridcolor": "white",
            "linecolor": "white",
            "ticks": ""
           }
          },
          "scene": {
           "xaxis": {
            "backgroundcolor": "#E5ECF6",
            "gridcolor": "white",
            "gridwidth": 2,
            "linecolor": "white",
            "showbackground": true,
            "ticks": "",
            "zerolinecolor": "white"
           },
           "yaxis": {
            "backgroundcolor": "#E5ECF6",
            "gridcolor": "white",
            "gridwidth": 2,
            "linecolor": "white",
            "showbackground": true,
            "ticks": "",
            "zerolinecolor": "white"
           },
           "zaxis": {
            "backgroundcolor": "#E5ECF6",
            "gridcolor": "white",
            "gridwidth": 2,
            "linecolor": "white",
            "showbackground": true,
            "ticks": "",
            "zerolinecolor": "white"
           }
          },
          "shapedefaults": {
           "line": {
            "color": "#2a3f5f"
           }
          },
          "ternary": {
           "aaxis": {
            "gridcolor": "white",
            "linecolor": "white",
            "ticks": ""
           },
           "baxis": {
            "gridcolor": "white",
            "linecolor": "white",
            "ticks": ""
           },
           "bgcolor": "#E5ECF6",
           "caxis": {
            "gridcolor": "white",
            "linecolor": "white",
            "ticks": ""
           }
          },
          "title": {
           "x": 0.05
          },
          "xaxis": {
           "automargin": true,
           "gridcolor": "white",
           "linecolor": "white",
           "ticks": "",
           "title": {
            "standoff": 15
           },
           "zerolinecolor": "white",
           "zerolinewidth": 2
          },
          "yaxis": {
           "automargin": true,
           "gridcolor": "white",
           "linecolor": "white",
           "ticks": "",
           "title": {
            "standoff": 15
           },
           "zerolinecolor": "white",
           "zerolinewidth": 2
          }
         }
        },
        "title": {
         "text": "Chat vs Base Model Perplexity by Setup"
        },
        "xaxis": {
         "tickangle": 45,
         "title": {
          "text": "Setup (role_delimiter)"
         }
        },
        "yaxis": {
         "title": {
          "text": "Perplexity"
         }
        }
       }
      },
      "text/html": [
       "<div>                            <div id=\"83236643-7858-4cd0-a97c-c60389e86b23\" class=\"plotly-graph-div\" style=\"height:525px; width:100%;\"></div>            <script type=\"text/javascript\">                require([\"plotly\"], function(Plotly) {                    window.PLOTLYENV=window.PLOTLYENV || {};                                    if (document.getElementById(\"83236643-7858-4cd0-a97c-c60389e86b23\")) {                    Plotly.newPlot(                        \"83236643-7858-4cd0-a97c-c60389e86b23\",                        [{\"error_y\":{\"array\":[0.08331978336828971,0.08143271289822485,0.08054379933547562,0.07768518255633516,0.08846686742034793,0.08477147945176178,0.08629896237793133,0.08200319225798136,0.08909130522777753,0.08386723544226982,0.08345532974123904,0.079453187179225,0.08823235354077807,0.0843045419408095,0.08344102352645599,0.08027166546876119,0.09474046949278181,0.09675003949186767,0.09696705637116843,0.09216953035921405,0.09345724929563914,0.09487298034669589,0.09380485991845688,0.08760714876076747,0.08791785856369172,0.08134492127468462,0.08155201265376189,0.07843582678989414,0.09217831070688698,0.09469982590937898,0.09325020942997453,0.08708199524179516,0.08534415271390117,0.08461167528255142,0.08679292665245208,0.08382447147580852],\"arrayminus\":[0.08126589687060637,0.07944480777828611,0.07858356962863988,0.0758407610052072,0.08621833924135958,0.08265633405241068,0.08412030748858967,0.08000037903314183,0.08681599262529804,0.08178364088495238,0.08138424796758326,0.07754101129544866,0.0859910022132504,0.0822022191129097,0.08136841367821868,0.07832587250826073,0.09224860668645096,0.09415341602925231,0.09435269461169593,0.08977117841838789,0.0910158668130765,0.09234902695104585,0.09131877116733955,0.08538526734251572,0.08568703331739203,0.07936046581978395,0.07955350521632765,0.07656118155511527,0.08979386572335679,0.0921856833693675,0.09078812995460739,0.08488197939955233,0.08322563212087397,0.08251348958149318,0.08460062119438927,0.08175874966916918],\"symmetric\":false,\"type\":\"data\"},\"marker\":{\"color\":\"royalblue\"},\"name\":\"Chat Model\",\"x\":[\"4chan_default\",\"4chan_blockquote\",\"4chan_code\",\"4chan_em\",\"assistant_default\",\"assistant_blockquote\",\"assistant_code\",\"assistant_em\",\"assistant_assistant_default\",\"assistant_assistant_blockquote\",\"assistant_assistant_code\",\"assistant_assistant_em\",\"assistant_human_default\",\"assistant_human_blockquote\",\"assistant_human_code\",\"assistant_human_em\",\"default_default\",\"default_blockquote\",\"default_code\",\"default_em\",\"human_default\",\"human_blockquote\",\"human_code\",\"human_em\",\"human_human_default\",\"human_human_blockquote\",\"human_human_code\",\"human_human_em\",\"model_model_default\",\"model_model_blockquote\",\"model_model_code\",\"model_model_em\",\"user_user_default\",\"user_user_blockquote\",\"user_user_code\",\"user_user_em\"],\"y\":[3.2967045307159424,3.2543838024139404,3.228917121887207,3.1943366527557373,3.3922040462493896,3.312727212905884,3.332099676132202,3.275535821914673,3.3993351459503174,3.2918918132781982,3.279421091079712,3.221921443939209,3.3850955963134766,3.296363592147827,3.275804042816162,3.231252431869507,3.507286310195923,3.508150815963745,3.4995551109313965,3.4499387741088867,3.4841294288635254,3.471311092376709,3.4456310272216797,3.366678237915039,3.3769657611846924,3.2530691623687744,3.2462968826293945,3.2033472061157227,3.4712677001953125,3.472344160079956,3.4385616779327393,3.3598358631134033,3.352726936340332,3.3274483680725098,3.3493213653564453,3.3176703453063965],\"type\":\"bar\"},{\"error_y\":{\"array\":[0.07513542852331767,0.062343690310962874,0.06248954185287969,0.06266470223425769,0.07645246860603683,0.06193960188584624,0.06252965549597755,0.06226241430210999,0.0762430711362514,0.06249941866464104,0.06251767983788925,0.06294329852990144,0.07561895198905333,0.06250857900993623,0.06281621643529922,0.06275151916605282,0.07649245878577426,0.061663814237025605,0.06217510860738562,0.06196647492760876,0.07571612256922178,0.062307513091588884,0.06237110455584238,0.062482247721102446,0.07559429838779597,0.06265779537099014,0.06265141785529726,0.06301845838952458,0.07660332888493748,0.06257876353948566,0.06252415123303656,0.06295646673654165,0.07638292626945953,0.06234663953833097,0.06248709356558946,0.06267640174698519],\"arrayminus\":[0.07327503491508791,0.06098577263748872,0.061125069190330006,0.06129873862716151,0.07453610700606861,0.06059580558500599,0.061165608939018234,0.060909332166307895,0.07434080112251795,0.061138352556354914,0.061156270716956396,0.06157035507433184,0.07374184926628846,0.06114548206566006,0.061443423403845454,0.061383900084836185,0.07457320247309296,0.06033070747078595,0.060823441016555346,0.06062409535251323,0.07383459188029695,0.06095227668104242,0.06101326966622933,0.06112446528216342,0.073719821287213,0.061291456137987144,0.0612857401303204,0.0616429051646632,0.07468387543896204,0.061216024236295574,0.06116210090344776,0.061582990660852044,0.07447302846343362,0.06099114053765842,0.061126044251074596,0.06131116785700552],\"symmetric\":false,\"type\":\"data\"},\"marker\":{\"color\":\"red\"},\"name\":\"Base Model\",\"x\":[\"4chan_default\",\"4chan_blockquote\",\"4chan_code\",\"4chan_em\",\"assistant_default\",\"assistant_blockquote\",\"assistant_code\",\"assistant_em\",\"assistant_assistant_default\",\"assistant_assistant_blockquote\",\"assistant_assistant_code\",\"assistant_assistant_em\",\"assistant_human_default\",\"assistant_human_blockquote\",\"assistant_human_code\",\"assistant_human_em\",\"default_default\",\"default_blockquote\",\"default_code\",\"default_em\",\"human_default\",\"human_blockquote\",\"human_code\",\"human_em\",\"human_human_default\",\"human_human_blockquote\",\"human_human_code\",\"human_human_em\",\"model_model_default\",\"model_model_blockquote\",\"model_model_code\",\"model_model_em\",\"user_user_default\",\"user_user_blockquote\",\"user_user_code\",\"user_user_em\"],\"y\":[2.9593474864959717,2.7999327182769775,2.79938006401062,2.8121299743652344,2.97358775138855,2.7930424213409424,2.803910493850708,2.80275821685791,2.9795827865600586,2.8074400424957275,2.808375597000122,2.8227245807647705,2.9706852436065674,2.803995132446289,2.81152606010437,2.8165247440338135,2.9721343517303467,2.790640354156494,2.7978062629699707,2.798509120941162,2.9712345600128174,2.802304267883301,2.802597761154175,2.812817335128784,2.9729881286621094,2.810713052749634,2.81152606010437,2.824057102203369,2.980553388595581,2.811119556427002,2.8076117038726807,2.8227994441986084,2.97841477394104,2.8053083419799805,2.8063559532165527,2.8147289752960205],\"type\":\"bar\"}],                        {\"template\":{\"data\":{\"histogram2dcontour\":[{\"type\":\"histogram2dcontour\",\"colorbar\":{\"outlinewidth\":0,\"ticks\":\"\"},\"colorscale\":[[0.0,\"#0d0887\"],[0.1111111111111111,\"#46039f\"],[0.2222222222222222,\"#7201a8\"],[0.3333333333333333,\"#9c179e\"],[0.4444444444444444,\"#bd3786\"],[0.5555555555555556,\"#d8576b\"],[0.6666666666666666,\"#ed7953\"],[0.7777777777777778,\"#fb9f3a\"],[0.8888888888888888,\"#fdca26\"],[1.0,\"#f0f921\"]]}],\"choropleth\":[{\"type\":\"choropleth\",\"colorbar\":{\"outlinewidth\":0,\"ticks\":\"\"}}],\"histogram2d\":[{\"type\":\"histogram2d\",\"colorbar\":{\"outlinewidth\":0,\"ticks\":\"\"},\"colorscale\":[[0.0,\"#0d0887\"],[0.1111111111111111,\"#46039f\"],[0.2222222222222222,\"#7201a8\"],[0.3333333333333333,\"#9c179e\"],[0.4444444444444444,\"#bd3786\"],[0.5555555555555556,\"#d8576b\"],[0.6666666666666666,\"#ed7953\"],[0.7777777777777778,\"#fb9f3a\"],[0.8888888888888888,\"#fdca26\"],[1.0,\"#f0f921\"]]}],\"heatmap\":[{\"type\":\"heatmap\",\"colorbar\":{\"outlinewidth\":0,\"ticks\":\"\"},\"colorscale\":[[0.0,\"#0d0887\"],[0.1111111111111111,\"#46039f\"],[0.2222222222222222,\"#7201a8\"],[0.3333333333333333,\"#9c179e\"],[0.4444444444444444,\"#bd3786\"],[0.5555555555555556,\"#d8576b\"],[0.6666666666666666,\"#ed7953\"],[0.7777777777777778,\"#fb9f3a\"],[0.8888888888888888,\"#fdca26\"],[1.0,\"#f0f921\"]]}],\"heatmapgl\":[{\"type\":\"heatmapgl\",\"colorbar\":{\"outlinewidth\":0,\"ticks\":\"\"},\"colorscale\":[[0.0,\"#0d0887\"],[0.1111111111111111,\"#46039f\"],[0.2222222222222222,\"#7201a8\"],[0.3333333333333333,\"#9c179e\"],[0.4444444444444444,\"#bd3786\"],[0.5555555555555556,\"#d8576b\"],[0.6666666666666666,\"#ed7953\"],[0.7777777777777778,\"#fb9f3a\"],[0.8888888888888888,\"#fdca26\"],[1.0,\"#f0f921\"]]}],\"contourcarpet\":[{\"type\":\"contourcarpet\",\"colorbar\":{\"outlinewidth\":0,\"ticks\":\"\"}}],\"contour\":[{\"type\":\"contour\",\"colorbar\":{\"outlinewidth\":0,\"ticks\":\"\"},\"colorscale\":[[0.0,\"#0d0887\"],[0.1111111111111111,\"#46039f\"],[0.2222222222222222,\"#7201a8\"],[0.3333333333333333,\"#9c179e\"],[0.4444444444444444,\"#bd3786\"],[0.5555555555555556,\"#d8576b\"],[0.6666666666666666,\"#ed7953\"],[0.7777777777777778,\"#fb9f3a\"],[0.8888888888888888,\"#fdca26\"],[1.0,\"#f0f921\"]]}],\"surface\":[{\"type\":\"surface\",\"colorbar\":{\"outlinewidth\":0,\"ticks\":\"\"},\"colorscale\":[[0.0,\"#0d0887\"],[0.1111111111111111,\"#46039f\"],[0.2222222222222222,\"#7201a8\"],[0.3333333333333333,\"#9c179e\"],[0.4444444444444444,\"#bd3786\"],[0.5555555555555556,\"#d8576b\"],[0.6666666666666666,\"#ed7953\"],[0.7777777777777778,\"#fb9f3a\"],[0.8888888888888888,\"#fdca26\"],[1.0,\"#f0f921\"]]}],\"mesh3d\":[{\"type\":\"mesh3d\",\"colorbar\":{\"outlinewidth\":0,\"ticks\":\"\"}}],\"scatter\":[{\"fillpattern\":{\"fillmode\":\"overlay\",\"size\":10,\"solidity\":0.2},\"type\":\"scatter\"}],\"parcoords\":[{\"type\":\"parcoords\",\"line\":{\"colorbar\":{\"outlinewidth\":0,\"ticks\":\"\"}}}],\"scatterpolargl\":[{\"type\":\"scatterpolargl\",\"marker\":{\"colorbar\":{\"outlinewidth\":0,\"ticks\":\"\"}}}],\"bar\":[{\"error_x\":{\"color\":\"#2a3f5f\"},\"error_y\":{\"color\":\"#2a3f5f\"},\"marker\":{\"line\":{\"color\":\"#E5ECF6\",\"width\":0.5},\"pattern\":{\"fillmode\":\"overlay\",\"size\":10,\"solidity\":0.2}},\"type\":\"bar\"}],\"scattergeo\":[{\"type\":\"scattergeo\",\"marker\":{\"colorbar\":{\"outlinewidth\":0,\"ticks\":\"\"}}}],\"scatterpolar\":[{\"type\":\"scatterpolar\",\"marker\":{\"colorbar\":{\"outlinewidth\":0,\"ticks\":\"\"}}}],\"histogram\":[{\"marker\":{\"pattern\":{\"fillmode\":\"overlay\",\"size\":10,\"solidity\":0.2}},\"type\":\"histogram\"}],\"scattergl\":[{\"type\":\"scattergl\",\"marker\":{\"colorbar\":{\"outlinewidth\":0,\"ticks\":\"\"}}}],\"scatter3d\":[{\"type\":\"scatter3d\",\"line\":{\"colorbar\":{\"outlinewidth\":0,\"ticks\":\"\"}},\"marker\":{\"colorbar\":{\"outlinewidth\":0,\"ticks\":\"\"}}}],\"scattermapbox\":[{\"type\":\"scattermapbox\",\"marker\":{\"colorbar\":{\"outlinewidth\":0,\"ticks\":\"\"}}}],\"scatterternary\":[{\"type\":\"scatterternary\",\"marker\":{\"colorbar\":{\"outlinewidth\":0,\"ticks\":\"\"}}}],\"scattercarpet\":[{\"type\":\"scattercarpet\",\"marker\":{\"colorbar\":{\"outlinewidth\":0,\"ticks\":\"\"}}}],\"carpet\":[{\"aaxis\":{\"endlinecolor\":\"#2a3f5f\",\"gridcolor\":\"white\",\"linecolor\":\"white\",\"minorgridcolor\":\"white\",\"startlinecolor\":\"#2a3f5f\"},\"baxis\":{\"endlinecolor\":\"#2a3f5f\",\"gridcolor\":\"white\",\"linecolor\":\"white\",\"minorgridcolor\":\"white\",\"startlinecolor\":\"#2a3f5f\"},\"type\":\"carpet\"}],\"table\":[{\"cells\":{\"fill\":{\"color\":\"#EBF0F8\"},\"line\":{\"color\":\"white\"}},\"header\":{\"fill\":{\"color\":\"#C8D4E3\"},\"line\":{\"color\":\"white\"}},\"type\":\"table\"}],\"barpolar\":[{\"marker\":{\"line\":{\"color\":\"#E5ECF6\",\"width\":0.5},\"pattern\":{\"fillmode\":\"overlay\",\"size\":10,\"solidity\":0.2}},\"type\":\"barpolar\"}],\"pie\":[{\"automargin\":true,\"type\":\"pie\"}]},\"layout\":{\"autotypenumbers\":\"strict\",\"colorway\":[\"#636efa\",\"#EF553B\",\"#00cc96\",\"#ab63fa\",\"#FFA15A\",\"#19d3f3\",\"#FF6692\",\"#B6E880\",\"#FF97FF\",\"#FECB52\"],\"font\":{\"color\":\"#2a3f5f\"},\"hovermode\":\"closest\",\"hoverlabel\":{\"align\":\"left\"},\"paper_bgcolor\":\"white\",\"plot_bgcolor\":\"#E5ECF6\",\"polar\":{\"bgcolor\":\"#E5ECF6\",\"angularaxis\":{\"gridcolor\":\"white\",\"linecolor\":\"white\",\"ticks\":\"\"},\"radialaxis\":{\"gridcolor\":\"white\",\"linecolor\":\"white\",\"ticks\":\"\"}},\"ternary\":{\"bgcolor\":\"#E5ECF6\",\"aaxis\":{\"gridcolor\":\"white\",\"linecolor\":\"white\",\"ticks\":\"\"},\"baxis\":{\"gridcolor\":\"white\",\"linecolor\":\"white\",\"ticks\":\"\"},\"caxis\":{\"gridcolor\":\"white\",\"linecolor\":\"white\",\"ticks\":\"\"}},\"coloraxis\":{\"colorbar\":{\"outlinewidth\":0,\"ticks\":\"\"}},\"colorscale\":{\"sequential\":[[0.0,\"#0d0887\"],[0.1111111111111111,\"#46039f\"],[0.2222222222222222,\"#7201a8\"],[0.3333333333333333,\"#9c179e\"],[0.4444444444444444,\"#bd3786\"],[0.5555555555555556,\"#d8576b\"],[0.6666666666666666,\"#ed7953\"],[0.7777777777777778,\"#fb9f3a\"],[0.8888888888888888,\"#fdca26\"],[1.0,\"#f0f921\"]],\"sequentialminus\":[[0.0,\"#0d0887\"],[0.1111111111111111,\"#46039f\"],[0.2222222222222222,\"#7201a8\"],[0.3333333333333333,\"#9c179e\"],[0.4444444444444444,\"#bd3786\"],[0.5555555555555556,\"#d8576b\"],[0.6666666666666666,\"#ed7953\"],[0.7777777777777778,\"#fb9f3a\"],[0.8888888888888888,\"#fdca26\"],[1.0,\"#f0f921\"]],\"diverging\":[[0,\"#8e0152\"],[0.1,\"#c51b7d\"],[0.2,\"#de77ae\"],[0.3,\"#f1b6da\"],[0.4,\"#fde0ef\"],[0.5,\"#f7f7f7\"],[0.6,\"#e6f5d0\"],[0.7,\"#b8e186\"],[0.8,\"#7fbc41\"],[0.9,\"#4d9221\"],[1,\"#276419\"]]},\"xaxis\":{\"gridcolor\":\"white\",\"linecolor\":\"white\",\"ticks\":\"\",\"title\":{\"standoff\":15},\"zerolinecolor\":\"white\",\"automargin\":true,\"zerolinewidth\":2},\"yaxis\":{\"gridcolor\":\"white\",\"linecolor\":\"white\",\"ticks\":\"\",\"title\":{\"standoff\":15},\"zerolinecolor\":\"white\",\"automargin\":true,\"zerolinewidth\":2},\"scene\":{\"xaxis\":{\"backgroundcolor\":\"#E5ECF6\",\"gridcolor\":\"white\",\"linecolor\":\"white\",\"showbackground\":true,\"ticks\":\"\",\"zerolinecolor\":\"white\",\"gridwidth\":2},\"yaxis\":{\"backgroundcolor\":\"#E5ECF6\",\"gridcolor\":\"white\",\"linecolor\":\"white\",\"showbackground\":true,\"ticks\":\"\",\"zerolinecolor\":\"white\",\"gridwidth\":2},\"zaxis\":{\"backgroundcolor\":\"#E5ECF6\",\"gridcolor\":\"white\",\"linecolor\":\"white\",\"showbackground\":true,\"ticks\":\"\",\"zerolinecolor\":\"white\",\"gridwidth\":2}},\"shapedefaults\":{\"line\":{\"color\":\"#2a3f5f\"}},\"annotationdefaults\":{\"arrowcolor\":\"#2a3f5f\",\"arrowhead\":0,\"arrowwidth\":1},\"geo\":{\"bgcolor\":\"white\",\"landcolor\":\"#E5ECF6\",\"subunitcolor\":\"white\",\"showland\":true,\"showlakes\":true,\"lakecolor\":\"white\"},\"title\":{\"x\":0.05},\"mapbox\":{\"style\":\"light\"}}},\"xaxis\":{\"title\":{\"text\":\"Setup (role_delimiter)\"},\"tickangle\":45},\"title\":{\"text\":\"Chat vs Base Model Perplexity by Setup\"},\"yaxis\":{\"title\":{\"text\":\"Perplexity\"}},\"barmode\":\"group\"},                        {\"responsive\": true}                    ).then(function(){\n",
       "                            \n",
       "var gd = document.getElementById('83236643-7858-4cd0-a97c-c60389e86b23');\n",
       "var x = new MutationObserver(function (mutations, observer) {{\n",
       "        var display = window.getComputedStyle(gd).display;\n",
       "        if (!display || display === 'none') {{\n",
       "            console.log([gd, 'removed!']);\n",
       "            Plotly.purge(gd);\n",
       "            observer.disconnect();\n",
       "        }}\n",
       "}});\n",
       "\n",
       "// Listen for the removal of the full notebook cells\n",
       "var notebookContainer = gd.closest('#notebook-container');\n",
       "if (notebookContainer) {{\n",
       "    x.observe(notebookContainer, {childList: true});\n",
       "}}\n",
       "\n",
       "// Listen for the clearing of the current output cell\n",
       "var outputEl = gd.closest('.output');\n",
       "if (outputEl) {{\n",
       "    x.observe(outputEl, {childList: true});\n",
       "}}\n",
       "\n",
       "                        })                };                });            </script>        </div>"
      ]
     },
     "metadata": {},
     "output_type": "display_data"
    },
    {
     "data": {
      "application/vnd.plotly.v1+json": {
       "config": {
        "plotlyServerURL": "https://plot.ly"
       },
       "data": [
        {
         "colorscale": [
          [
           0,
           "#440154"
          ],
          [
           0.1111111111111111,
           "#482878"
          ],
          [
           0.2222222222222222,
           "#3e4989"
          ],
          [
           0.3333333333333333,
           "#31688e"
          ],
          [
           0.4444444444444444,
           "#26828e"
          ],
          [
           0.5555555555555556,
           "#1f9e89"
          ],
          [
           0.6666666666666666,
           "#35b779"
          ],
          [
           0.7777777777777778,
           "#6ece58"
          ],
          [
           0.8888888888888888,
           "#b5de2b"
          ],
          [
           1,
           "#fde725"
          ]
         ],
         "type": "heatmap",
         "x": [
          "4chan",
          "assistant",
          "assistant_assistant",
          "assistant_human",
          "default",
          "human",
          "human_human",
          "model_model",
          "user_user"
         ],
         "xaxis": "x",
         "y": [
          "blockquote",
          "code",
          "default",
          "em"
         ],
         "yaxis": "y",
         "z": [
          [
           3.2543838024139404,
           3.312727212905884,
           3.2918918132781982,
           3.296363592147827,
           3.508150815963745,
           3.471311092376709,
           3.2530691623687744,
           3.472344160079956,
           3.3274483680725098
          ],
          [
           3.228917121887207,
           3.332099676132202,
           3.279421091079712,
           3.275804042816162,
           3.4995551109313965,
           3.4456310272216797,
           3.2462968826293945,
           3.4385616779327393,
           3.3493213653564453
          ],
          [
           3.2967045307159424,
           3.3922040462493896,
           3.3993351459503174,
           3.3850955963134766,
           3.507286310195923,
           3.4841294288635254,
           3.3769657611846924,
           3.4712677001953125,
           3.352726936340332
          ],
          [
           3.1943366527557373,
           3.275535821914673,
           3.221921443939209,
           3.231252431869507,
           3.4499387741088867,
           3.366678237915039,
           3.2033472061157227,
           3.3598358631134033,
           3.3176703453063965
          ]
         ],
         "zmax": 3.508150815963745,
         "zmin": 2.790640354156494
        },
        {
         "colorscale": [
          [
           0,
           "#440154"
          ],
          [
           0.1111111111111111,
           "#482878"
          ],
          [
           0.2222222222222222,
           "#3e4989"
          ],
          [
           0.3333333333333333,
           "#31688e"
          ],
          [
           0.4444444444444444,
           "#26828e"
          ],
          [
           0.5555555555555556,
           "#1f9e89"
          ],
          [
           0.6666666666666666,
           "#35b779"
          ],
          [
           0.7777777777777778,
           "#6ece58"
          ],
          [
           0.8888888888888888,
           "#b5de2b"
          ],
          [
           1,
           "#fde725"
          ]
         ],
         "type": "heatmap",
         "x": [
          "4chan",
          "assistant",
          "assistant_assistant",
          "assistant_human",
          "default",
          "human",
          "human_human",
          "model_model",
          "user_user"
         ],
         "xaxis": "x2",
         "y": [
          "blockquote",
          "code",
          "default",
          "em"
         ],
         "yaxis": "y2",
         "z": [
          [
           2.7999327182769775,
           2.7930424213409424,
           2.8074400424957275,
           2.803995132446289,
           2.790640354156494,
           2.802304267883301,
           2.810713052749634,
           2.811119556427002,
           2.8053083419799805
          ],
          [
           2.79938006401062,
           2.803910493850708,
           2.808375597000122,
           2.81152606010437,
           2.7978062629699707,
           2.802597761154175,
           2.81152606010437,
           2.8076117038726807,
           2.8063559532165527
          ],
          [
           2.9593474864959717,
           2.97358775138855,
           2.9795827865600586,
           2.9706852436065674,
           2.9721343517303467,
           2.9712345600128174,
           2.9729881286621094,
           2.980553388595581,
           2.97841477394104
          ],
          [
           2.8121299743652344,
           2.80275821685791,
           2.8227245807647705,
           2.8165247440338135,
           2.798509120941162,
           2.812817335128784,
           2.824057102203369,
           2.8227994441986084,
           2.8147289752960205
          ]
         ],
         "zmax": 3.508150815963745,
         "zmin": 2.790640354156494
        }
       ],
       "layout": {
        "annotations": [
         {
          "font": {
           "size": 16
          },
          "showarrow": false,
          "text": "Chat Model Perplexity",
          "x": 0.225,
          "xanchor": "center",
          "xref": "paper",
          "y": 1,
          "yanchor": "bottom",
          "yref": "paper"
         },
         {
          "font": {
           "size": 16
          },
          "showarrow": false,
          "text": "Base Model Perplexity",
          "x": 0.775,
          "xanchor": "center",
          "xref": "paper",
          "y": 1,
          "yanchor": "bottom",
          "yref": "paper"
         }
        ],
        "height": 600,
        "template": {
         "data": {
          "bar": [
           {
            "error_x": {
             "color": "#2a3f5f"
            },
            "error_y": {
             "color": "#2a3f5f"
            },
            "marker": {
             "line": {
              "color": "#E5ECF6",
              "width": 0.5
             },
             "pattern": {
              "fillmode": "overlay",
              "size": 10,
              "solidity": 0.2
             }
            },
            "type": "bar"
           }
          ],
          "barpolar": [
           {
            "marker": {
             "line": {
              "color": "#E5ECF6",
              "width": 0.5
             },
             "pattern": {
              "fillmode": "overlay",
              "size": 10,
              "solidity": 0.2
             }
            },
            "type": "barpolar"
           }
          ],
          "carpet": [
           {
            "aaxis": {
             "endlinecolor": "#2a3f5f",
             "gridcolor": "white",
             "linecolor": "white",
             "minorgridcolor": "white",
             "startlinecolor": "#2a3f5f"
            },
            "baxis": {
             "endlinecolor": "#2a3f5f",
             "gridcolor": "white",
             "linecolor": "white",
             "minorgridcolor": "white",
             "startlinecolor": "#2a3f5f"
            },
            "type": "carpet"
           }
          ],
          "choropleth": [
           {
            "colorbar": {
             "outlinewidth": 0,
             "ticks": ""
            },
            "type": "choropleth"
           }
          ],
          "contour": [
           {
            "colorbar": {
             "outlinewidth": 0,
             "ticks": ""
            },
            "colorscale": [
             [
              0,
              "#0d0887"
             ],
             [
              0.1111111111111111,
              "#46039f"
             ],
             [
              0.2222222222222222,
              "#7201a8"
             ],
             [
              0.3333333333333333,
              "#9c179e"
             ],
             [
              0.4444444444444444,
              "#bd3786"
             ],
             [
              0.5555555555555556,
              "#d8576b"
             ],
             [
              0.6666666666666666,
              "#ed7953"
             ],
             [
              0.7777777777777778,
              "#fb9f3a"
             ],
             [
              0.8888888888888888,
              "#fdca26"
             ],
             [
              1,
              "#f0f921"
             ]
            ],
            "type": "contour"
           }
          ],
          "contourcarpet": [
           {
            "colorbar": {
             "outlinewidth": 0,
             "ticks": ""
            },
            "type": "contourcarpet"
           }
          ],
          "heatmap": [
           {
            "colorbar": {
             "outlinewidth": 0,
             "ticks": ""
            },
            "colorscale": [
             [
              0,
              "#0d0887"
             ],
             [
              0.1111111111111111,
              "#46039f"
             ],
             [
              0.2222222222222222,
              "#7201a8"
             ],
             [
              0.3333333333333333,
              "#9c179e"
             ],
             [
              0.4444444444444444,
              "#bd3786"
             ],
             [
              0.5555555555555556,
              "#d8576b"
             ],
             [
              0.6666666666666666,
              "#ed7953"
             ],
             [
              0.7777777777777778,
              "#fb9f3a"
             ],
             [
              0.8888888888888888,
              "#fdca26"
             ],
             [
              1,
              "#f0f921"
             ]
            ],
            "type": "heatmap"
           }
          ],
          "heatmapgl": [
           {
            "colorbar": {
             "outlinewidth": 0,
             "ticks": ""
            },
            "colorscale": [
             [
              0,
              "#0d0887"
             ],
             [
              0.1111111111111111,
              "#46039f"
             ],
             [
              0.2222222222222222,
              "#7201a8"
             ],
             [
              0.3333333333333333,
              "#9c179e"
             ],
             [
              0.4444444444444444,
              "#bd3786"
             ],
             [
              0.5555555555555556,
              "#d8576b"
             ],
             [
              0.6666666666666666,
              "#ed7953"
             ],
             [
              0.7777777777777778,
              "#fb9f3a"
             ],
             [
              0.8888888888888888,
              "#fdca26"
             ],
             [
              1,
              "#f0f921"
             ]
            ],
            "type": "heatmapgl"
           }
          ],
          "histogram": [
           {
            "marker": {
             "pattern": {
              "fillmode": "overlay",
              "size": 10,
              "solidity": 0.2
             }
            },
            "type": "histogram"
           }
          ],
          "histogram2d": [
           {
            "colorbar": {
             "outlinewidth": 0,
             "ticks": ""
            },
            "colorscale": [
             [
              0,
              "#0d0887"
             ],
             [
              0.1111111111111111,
              "#46039f"
             ],
             [
              0.2222222222222222,
              "#7201a8"
             ],
             [
              0.3333333333333333,
              "#9c179e"
             ],
             [
              0.4444444444444444,
              "#bd3786"
             ],
             [
              0.5555555555555556,
              "#d8576b"
             ],
             [
              0.6666666666666666,
              "#ed7953"
             ],
             [
              0.7777777777777778,
              "#fb9f3a"
             ],
             [
              0.8888888888888888,
              "#fdca26"
             ],
             [
              1,
              "#f0f921"
             ]
            ],
            "type": "histogram2d"
           }
          ],
          "histogram2dcontour": [
           {
            "colorbar": {
             "outlinewidth": 0,
             "ticks": ""
            },
            "colorscale": [
             [
              0,
              "#0d0887"
             ],
             [
              0.1111111111111111,
              "#46039f"
             ],
             [
              0.2222222222222222,
              "#7201a8"
             ],
             [
              0.3333333333333333,
              "#9c179e"
             ],
             [
              0.4444444444444444,
              "#bd3786"
             ],
             [
              0.5555555555555556,
              "#d8576b"
             ],
             [
              0.6666666666666666,
              "#ed7953"
             ],
             [
              0.7777777777777778,
              "#fb9f3a"
             ],
             [
              0.8888888888888888,
              "#fdca26"
             ],
             [
              1,
              "#f0f921"
             ]
            ],
            "type": "histogram2dcontour"
           }
          ],
          "mesh3d": [
           {
            "colorbar": {
             "outlinewidth": 0,
             "ticks": ""
            },
            "type": "mesh3d"
           }
          ],
          "parcoords": [
           {
            "line": {
             "colorbar": {
              "outlinewidth": 0,
              "ticks": ""
             }
            },
            "type": "parcoords"
           }
          ],
          "pie": [
           {
            "automargin": true,
            "type": "pie"
           }
          ],
          "scatter": [
           {
            "fillpattern": {
             "fillmode": "overlay",
             "size": 10,
             "solidity": 0.2
            },
            "type": "scatter"
           }
          ],
          "scatter3d": [
           {
            "line": {
             "colorbar": {
              "outlinewidth": 0,
              "ticks": ""
             }
            },
            "marker": {
             "colorbar": {
              "outlinewidth": 0,
              "ticks": ""
             }
            },
            "type": "scatter3d"
           }
          ],
          "scattercarpet": [
           {
            "marker": {
             "colorbar": {
              "outlinewidth": 0,
              "ticks": ""
             }
            },
            "type": "scattercarpet"
           }
          ],
          "scattergeo": [
           {
            "marker": {
             "colorbar": {
              "outlinewidth": 0,
              "ticks": ""
             }
            },
            "type": "scattergeo"
           }
          ],
          "scattergl": [
           {
            "marker": {
             "colorbar": {
              "outlinewidth": 0,
              "ticks": ""
             }
            },
            "type": "scattergl"
           }
          ],
          "scattermapbox": [
           {
            "marker": {
             "colorbar": {
              "outlinewidth": 0,
              "ticks": ""
             }
            },
            "type": "scattermapbox"
           }
          ],
          "scatterpolar": [
           {
            "marker": {
             "colorbar": {
              "outlinewidth": 0,
              "ticks": ""
             }
            },
            "type": "scatterpolar"
           }
          ],
          "scatterpolargl": [
           {
            "marker": {
             "colorbar": {
              "outlinewidth": 0,
              "ticks": ""
             }
            },
            "type": "scatterpolargl"
           }
          ],
          "scatterternary": [
           {
            "marker": {
             "colorbar": {
              "outlinewidth": 0,
              "ticks": ""
             }
            },
            "type": "scatterternary"
           }
          ],
          "surface": [
           {
            "colorbar": {
             "outlinewidth": 0,
             "ticks": ""
            },
            "colorscale": [
             [
              0,
              "#0d0887"
             ],
             [
              0.1111111111111111,
              "#46039f"
             ],
             [
              0.2222222222222222,
              "#7201a8"
             ],
             [
              0.3333333333333333,
              "#9c179e"
             ],
             [
              0.4444444444444444,
              "#bd3786"
             ],
             [
              0.5555555555555556,
              "#d8576b"
             ],
             [
              0.6666666666666666,
              "#ed7953"
             ],
             [
              0.7777777777777778,
              "#fb9f3a"
             ],
             [
              0.8888888888888888,
              "#fdca26"
             ],
             [
              1,
              "#f0f921"
             ]
            ],
            "type": "surface"
           }
          ],
          "table": [
           {
            "cells": {
             "fill": {
              "color": "#EBF0F8"
             },
             "line": {
              "color": "white"
             }
            },
            "header": {
             "fill": {
              "color": "#C8D4E3"
             },
             "line": {
              "color": "white"
             }
            },
            "type": "table"
           }
          ]
         },
         "layout": {
          "annotationdefaults": {
           "arrowcolor": "#2a3f5f",
           "arrowhead": 0,
           "arrowwidth": 1
          },
          "autotypenumbers": "strict",
          "coloraxis": {
           "colorbar": {
            "outlinewidth": 0,
            "ticks": ""
           }
          },
          "colorscale": {
           "diverging": [
            [
             0,
             "#8e0152"
            ],
            [
             0.1,
             "#c51b7d"
            ],
            [
             0.2,
             "#de77ae"
            ],
            [
             0.3,
             "#f1b6da"
            ],
            [
             0.4,
             "#fde0ef"
            ],
            [
             0.5,
             "#f7f7f7"
            ],
            [
             0.6,
             "#e6f5d0"
            ],
            [
             0.7,
             "#b8e186"
            ],
            [
             0.8,
             "#7fbc41"
            ],
            [
             0.9,
             "#4d9221"
            ],
            [
             1,
             "#276419"
            ]
           ],
           "sequential": [
            [
             0,
             "#0d0887"
            ],
            [
             0.1111111111111111,
             "#46039f"
            ],
            [
             0.2222222222222222,
             "#7201a8"
            ],
            [
             0.3333333333333333,
             "#9c179e"
            ],
            [
             0.4444444444444444,
             "#bd3786"
            ],
            [
             0.5555555555555556,
             "#d8576b"
            ],
            [
             0.6666666666666666,
             "#ed7953"
            ],
            [
             0.7777777777777778,
             "#fb9f3a"
            ],
            [
             0.8888888888888888,
             "#fdca26"
            ],
            [
             1,
             "#f0f921"
            ]
           ],
           "sequentialminus": [
            [
             0,
             "#0d0887"
            ],
            [
             0.1111111111111111,
             "#46039f"
            ],
            [
             0.2222222222222222,
             "#7201a8"
            ],
            [
             0.3333333333333333,
             "#9c179e"
            ],
            [
             0.4444444444444444,
             "#bd3786"
            ],
            [
             0.5555555555555556,
             "#d8576b"
            ],
            [
             0.6666666666666666,
             "#ed7953"
            ],
            [
             0.7777777777777778,
             "#fb9f3a"
            ],
            [
             0.8888888888888888,
             "#fdca26"
            ],
            [
             1,
             "#f0f921"
            ]
           ]
          },
          "colorway": [
           "#636efa",
           "#EF553B",
           "#00cc96",
           "#ab63fa",
           "#FFA15A",
           "#19d3f3",
           "#FF6692",
           "#B6E880",
           "#FF97FF",
           "#FECB52"
          ],
          "font": {
           "color": "#2a3f5f"
          },
          "geo": {
           "bgcolor": "white",
           "lakecolor": "white",
           "landcolor": "#E5ECF6",
           "showlakes": true,
           "showland": true,
           "subunitcolor": "white"
          },
          "hoverlabel": {
           "align": "left"
          },
          "hovermode": "closest",
          "mapbox": {
           "style": "light"
          },
          "paper_bgcolor": "white",
          "plot_bgcolor": "#E5ECF6",
          "polar": {
           "angularaxis": {
            "gridcolor": "white",
            "linecolor": "white",
            "ticks": ""
           },
           "bgcolor": "#E5ECF6",
           "radialaxis": {
            "gridcolor": "white",
            "linecolor": "white",
            "ticks": ""
           }
          },
          "scene": {
           "xaxis": {
            "backgroundcolor": "#E5ECF6",
            "gridcolor": "white",
            "gridwidth": 2,
            "linecolor": "white",
            "showbackground": true,
            "ticks": "",
            "zerolinecolor": "white"
           },
           "yaxis": {
            "backgroundcolor": "#E5ECF6",
            "gridcolor": "white",
            "gridwidth": 2,
            "linecolor": "white",
            "showbackground": true,
            "ticks": "",
            "zerolinecolor": "white"
           },
           "zaxis": {
            "backgroundcolor": "#E5ECF6",
            "gridcolor": "white",
            "gridwidth": 2,
            "linecolor": "white",
            "showbackground": true,
            "ticks": "",
            "zerolinecolor": "white"
           }
          },
          "shapedefaults": {
           "line": {
            "color": "#2a3f5f"
           }
          },
          "ternary": {
           "aaxis": {
            "gridcolor": "white",
            "linecolor": "white",
            "ticks": ""
           },
           "baxis": {
            "gridcolor": "white",
            "linecolor": "white",
            "ticks": ""
           },
           "bgcolor": "#E5ECF6",
           "caxis": {
            "gridcolor": "white",
            "linecolor": "white",
            "ticks": ""
           }
          },
          "title": {
           "x": 0.05
          },
          "xaxis": {
           "automargin": true,
           "gridcolor": "white",
           "linecolor": "white",
           "ticks": "",
           "title": {
            "standoff": 15
           },
           "zerolinecolor": "white",
           "zerolinewidth": 2
          },
          "yaxis": {
           "automargin": true,
           "gridcolor": "white",
           "linecolor": "white",
           "ticks": "",
           "title": {
            "standoff": 15
           },
           "zerolinecolor": "white",
           "zerolinewidth": 2
          }
         }
        },
        "title": {
         "text": "Perplexity Heatmaps: Chat vs Base Model"
        },
        "xaxis": {
         "anchor": "y",
         "domain": [
          0,
          0.45
         ]
        },
        "xaxis2": {
         "anchor": "y2",
         "domain": [
          0.55,
          1
         ]
        },
        "yaxis": {
         "anchor": "x",
         "domain": [
          0,
          1
         ]
        },
        "yaxis2": {
         "anchor": "x2",
         "domain": [
          0,
          1
         ]
        }
       }
      },
      "text/html": [
       "<div>                            <div id=\"2397d12f-de6f-4c08-a794-ffbc72d13afe\" class=\"plotly-graph-div\" style=\"height:600px; width:100%;\"></div>            <script type=\"text/javascript\">                require([\"plotly\"], function(Plotly) {                    window.PLOTLYENV=window.PLOTLYENV || {};                                    if (document.getElementById(\"2397d12f-de6f-4c08-a794-ffbc72d13afe\")) {                    Plotly.newPlot(                        \"2397d12f-de6f-4c08-a794-ffbc72d13afe\",                        [{\"colorscale\":[[0.0,\"#440154\"],[0.1111111111111111,\"#482878\"],[0.2222222222222222,\"#3e4989\"],[0.3333333333333333,\"#31688e\"],[0.4444444444444444,\"#26828e\"],[0.5555555555555556,\"#1f9e89\"],[0.6666666666666666,\"#35b779\"],[0.7777777777777778,\"#6ece58\"],[0.8888888888888888,\"#b5de2b\"],[1.0,\"#fde725\"]],\"x\":[\"4chan\",\"assistant\",\"assistant_assistant\",\"assistant_human\",\"default\",\"human\",\"human_human\",\"model_model\",\"user_user\"],\"y\":[\"blockquote\",\"code\",\"default\",\"em\"],\"z\":[[3.2543838024139404,3.312727212905884,3.2918918132781982,3.296363592147827,3.508150815963745,3.471311092376709,3.2530691623687744,3.472344160079956,3.3274483680725098],[3.228917121887207,3.332099676132202,3.279421091079712,3.275804042816162,3.4995551109313965,3.4456310272216797,3.2462968826293945,3.4385616779327393,3.3493213653564453],[3.2967045307159424,3.3922040462493896,3.3993351459503174,3.3850955963134766,3.507286310195923,3.4841294288635254,3.3769657611846924,3.4712677001953125,3.352726936340332],[3.1943366527557373,3.275535821914673,3.221921443939209,3.231252431869507,3.4499387741088867,3.366678237915039,3.2033472061157227,3.3598358631134033,3.3176703453063965]],\"zmax\":3.508150815963745,\"zmin\":2.790640354156494,\"type\":\"heatmap\",\"xaxis\":\"x\",\"yaxis\":\"y\"},{\"colorscale\":[[0.0,\"#440154\"],[0.1111111111111111,\"#482878\"],[0.2222222222222222,\"#3e4989\"],[0.3333333333333333,\"#31688e\"],[0.4444444444444444,\"#26828e\"],[0.5555555555555556,\"#1f9e89\"],[0.6666666666666666,\"#35b779\"],[0.7777777777777778,\"#6ece58\"],[0.8888888888888888,\"#b5de2b\"],[1.0,\"#fde725\"]],\"x\":[\"4chan\",\"assistant\",\"assistant_assistant\",\"assistant_human\",\"default\",\"human\",\"human_human\",\"model_model\",\"user_user\"],\"y\":[\"blockquote\",\"code\",\"default\",\"em\"],\"z\":[[2.7999327182769775,2.7930424213409424,2.8074400424957275,2.803995132446289,2.790640354156494,2.802304267883301,2.810713052749634,2.811119556427002,2.8053083419799805],[2.79938006401062,2.803910493850708,2.808375597000122,2.81152606010437,2.7978062629699707,2.802597761154175,2.81152606010437,2.8076117038726807,2.8063559532165527],[2.9593474864959717,2.97358775138855,2.9795827865600586,2.9706852436065674,2.9721343517303467,2.9712345600128174,2.9729881286621094,2.980553388595581,2.97841477394104],[2.8121299743652344,2.80275821685791,2.8227245807647705,2.8165247440338135,2.798509120941162,2.812817335128784,2.824057102203369,2.8227994441986084,2.8147289752960205]],\"zmax\":3.508150815963745,\"zmin\":2.790640354156494,\"type\":\"heatmap\",\"xaxis\":\"x2\",\"yaxis\":\"y2\"}],                        {\"template\":{\"data\":{\"histogram2dcontour\":[{\"type\":\"histogram2dcontour\",\"colorbar\":{\"outlinewidth\":0,\"ticks\":\"\"},\"colorscale\":[[0.0,\"#0d0887\"],[0.1111111111111111,\"#46039f\"],[0.2222222222222222,\"#7201a8\"],[0.3333333333333333,\"#9c179e\"],[0.4444444444444444,\"#bd3786\"],[0.5555555555555556,\"#d8576b\"],[0.6666666666666666,\"#ed7953\"],[0.7777777777777778,\"#fb9f3a\"],[0.8888888888888888,\"#fdca26\"],[1.0,\"#f0f921\"]]}],\"choropleth\":[{\"type\":\"choropleth\",\"colorbar\":{\"outlinewidth\":0,\"ticks\":\"\"}}],\"histogram2d\":[{\"type\":\"histogram2d\",\"colorbar\":{\"outlinewidth\":0,\"ticks\":\"\"},\"colorscale\":[[0.0,\"#0d0887\"],[0.1111111111111111,\"#46039f\"],[0.2222222222222222,\"#7201a8\"],[0.3333333333333333,\"#9c179e\"],[0.4444444444444444,\"#bd3786\"],[0.5555555555555556,\"#d8576b\"],[0.6666666666666666,\"#ed7953\"],[0.7777777777777778,\"#fb9f3a\"],[0.8888888888888888,\"#fdca26\"],[1.0,\"#f0f921\"]]}],\"heatmap\":[{\"type\":\"heatmap\",\"colorbar\":{\"outlinewidth\":0,\"ticks\":\"\"},\"colorscale\":[[0.0,\"#0d0887\"],[0.1111111111111111,\"#46039f\"],[0.2222222222222222,\"#7201a8\"],[0.3333333333333333,\"#9c179e\"],[0.4444444444444444,\"#bd3786\"],[0.5555555555555556,\"#d8576b\"],[0.6666666666666666,\"#ed7953\"],[0.7777777777777778,\"#fb9f3a\"],[0.8888888888888888,\"#fdca26\"],[1.0,\"#f0f921\"]]}],\"heatmapgl\":[{\"type\":\"heatmapgl\",\"colorbar\":{\"outlinewidth\":0,\"ticks\":\"\"},\"colorscale\":[[0.0,\"#0d0887\"],[0.1111111111111111,\"#46039f\"],[0.2222222222222222,\"#7201a8\"],[0.3333333333333333,\"#9c179e\"],[0.4444444444444444,\"#bd3786\"],[0.5555555555555556,\"#d8576b\"],[0.6666666666666666,\"#ed7953\"],[0.7777777777777778,\"#fb9f3a\"],[0.8888888888888888,\"#fdca26\"],[1.0,\"#f0f921\"]]}],\"contourcarpet\":[{\"type\":\"contourcarpet\",\"colorbar\":{\"outlinewidth\":0,\"ticks\":\"\"}}],\"contour\":[{\"type\":\"contour\",\"colorbar\":{\"outlinewidth\":0,\"ticks\":\"\"},\"colorscale\":[[0.0,\"#0d0887\"],[0.1111111111111111,\"#46039f\"],[0.2222222222222222,\"#7201a8\"],[0.3333333333333333,\"#9c179e\"],[0.4444444444444444,\"#bd3786\"],[0.5555555555555556,\"#d8576b\"],[0.6666666666666666,\"#ed7953\"],[0.7777777777777778,\"#fb9f3a\"],[0.8888888888888888,\"#fdca26\"],[1.0,\"#f0f921\"]]}],\"surface\":[{\"type\":\"surface\",\"colorbar\":{\"outlinewidth\":0,\"ticks\":\"\"},\"colorscale\":[[0.0,\"#0d0887\"],[0.1111111111111111,\"#46039f\"],[0.2222222222222222,\"#7201a8\"],[0.3333333333333333,\"#9c179e\"],[0.4444444444444444,\"#bd3786\"],[0.5555555555555556,\"#d8576b\"],[0.6666666666666666,\"#ed7953\"],[0.7777777777777778,\"#fb9f3a\"],[0.8888888888888888,\"#fdca26\"],[1.0,\"#f0f921\"]]}],\"mesh3d\":[{\"type\":\"mesh3d\",\"colorbar\":{\"outlinewidth\":0,\"ticks\":\"\"}}],\"scatter\":[{\"fillpattern\":{\"fillmode\":\"overlay\",\"size\":10,\"solidity\":0.2},\"type\":\"scatter\"}],\"parcoords\":[{\"type\":\"parcoords\",\"line\":{\"colorbar\":{\"outlinewidth\":0,\"ticks\":\"\"}}}],\"scatterpolargl\":[{\"type\":\"scatterpolargl\",\"marker\":{\"colorbar\":{\"outlinewidth\":0,\"ticks\":\"\"}}}],\"bar\":[{\"error_x\":{\"color\":\"#2a3f5f\"},\"error_y\":{\"color\":\"#2a3f5f\"},\"marker\":{\"line\":{\"color\":\"#E5ECF6\",\"width\":0.5},\"pattern\":{\"fillmode\":\"overlay\",\"size\":10,\"solidity\":0.2}},\"type\":\"bar\"}],\"scattergeo\":[{\"type\":\"scattergeo\",\"marker\":{\"colorbar\":{\"outlinewidth\":0,\"ticks\":\"\"}}}],\"scatterpolar\":[{\"type\":\"scatterpolar\",\"marker\":{\"colorbar\":{\"outlinewidth\":0,\"ticks\":\"\"}}}],\"histogram\":[{\"marker\":{\"pattern\":{\"fillmode\":\"overlay\",\"size\":10,\"solidity\":0.2}},\"type\":\"histogram\"}],\"scattergl\":[{\"type\":\"scattergl\",\"marker\":{\"colorbar\":{\"outlinewidth\":0,\"ticks\":\"\"}}}],\"scatter3d\":[{\"type\":\"scatter3d\",\"line\":{\"colorbar\":{\"outlinewidth\":0,\"ticks\":\"\"}},\"marker\":{\"colorbar\":{\"outlinewidth\":0,\"ticks\":\"\"}}}],\"scattermapbox\":[{\"type\":\"scattermapbox\",\"marker\":{\"colorbar\":{\"outlinewidth\":0,\"ticks\":\"\"}}}],\"scatterternary\":[{\"type\":\"scatterternary\",\"marker\":{\"colorbar\":{\"outlinewidth\":0,\"ticks\":\"\"}}}],\"scattercarpet\":[{\"type\":\"scattercarpet\",\"marker\":{\"colorbar\":{\"outlinewidth\":0,\"ticks\":\"\"}}}],\"carpet\":[{\"aaxis\":{\"endlinecolor\":\"#2a3f5f\",\"gridcolor\":\"white\",\"linecolor\":\"white\",\"minorgridcolor\":\"white\",\"startlinecolor\":\"#2a3f5f\"},\"baxis\":{\"endlinecolor\":\"#2a3f5f\",\"gridcolor\":\"white\",\"linecolor\":\"white\",\"minorgridcolor\":\"white\",\"startlinecolor\":\"#2a3f5f\"},\"type\":\"carpet\"}],\"table\":[{\"cells\":{\"fill\":{\"color\":\"#EBF0F8\"},\"line\":{\"color\":\"white\"}},\"header\":{\"fill\":{\"color\":\"#C8D4E3\"},\"line\":{\"color\":\"white\"}},\"type\":\"table\"}],\"barpolar\":[{\"marker\":{\"line\":{\"color\":\"#E5ECF6\",\"width\":0.5},\"pattern\":{\"fillmode\":\"overlay\",\"size\":10,\"solidity\":0.2}},\"type\":\"barpolar\"}],\"pie\":[{\"automargin\":true,\"type\":\"pie\"}]},\"layout\":{\"autotypenumbers\":\"strict\",\"colorway\":[\"#636efa\",\"#EF553B\",\"#00cc96\",\"#ab63fa\",\"#FFA15A\",\"#19d3f3\",\"#FF6692\",\"#B6E880\",\"#FF97FF\",\"#FECB52\"],\"font\":{\"color\":\"#2a3f5f\"},\"hovermode\":\"closest\",\"hoverlabel\":{\"align\":\"left\"},\"paper_bgcolor\":\"white\",\"plot_bgcolor\":\"#E5ECF6\",\"polar\":{\"bgcolor\":\"#E5ECF6\",\"angularaxis\":{\"gridcolor\":\"white\",\"linecolor\":\"white\",\"ticks\":\"\"},\"radialaxis\":{\"gridcolor\":\"white\",\"linecolor\":\"white\",\"ticks\":\"\"}},\"ternary\":{\"bgcolor\":\"#E5ECF6\",\"aaxis\":{\"gridcolor\":\"white\",\"linecolor\":\"white\",\"ticks\":\"\"},\"baxis\":{\"gridcolor\":\"white\",\"linecolor\":\"white\",\"ticks\":\"\"},\"caxis\":{\"gridcolor\":\"white\",\"linecolor\":\"white\",\"ticks\":\"\"}},\"coloraxis\":{\"colorbar\":{\"outlinewidth\":0,\"ticks\":\"\"}},\"colorscale\":{\"sequential\":[[0.0,\"#0d0887\"],[0.1111111111111111,\"#46039f\"],[0.2222222222222222,\"#7201a8\"],[0.3333333333333333,\"#9c179e\"],[0.4444444444444444,\"#bd3786\"],[0.5555555555555556,\"#d8576b\"],[0.6666666666666666,\"#ed7953\"],[0.7777777777777778,\"#fb9f3a\"],[0.8888888888888888,\"#fdca26\"],[1.0,\"#f0f921\"]],\"sequentialminus\":[[0.0,\"#0d0887\"],[0.1111111111111111,\"#46039f\"],[0.2222222222222222,\"#7201a8\"],[0.3333333333333333,\"#9c179e\"],[0.4444444444444444,\"#bd3786\"],[0.5555555555555556,\"#d8576b\"],[0.6666666666666666,\"#ed7953\"],[0.7777777777777778,\"#fb9f3a\"],[0.8888888888888888,\"#fdca26\"],[1.0,\"#f0f921\"]],\"diverging\":[[0,\"#8e0152\"],[0.1,\"#c51b7d\"],[0.2,\"#de77ae\"],[0.3,\"#f1b6da\"],[0.4,\"#fde0ef\"],[0.5,\"#f7f7f7\"],[0.6,\"#e6f5d0\"],[0.7,\"#b8e186\"],[0.8,\"#7fbc41\"],[0.9,\"#4d9221\"],[1,\"#276419\"]]},\"xaxis\":{\"gridcolor\":\"white\",\"linecolor\":\"white\",\"ticks\":\"\",\"title\":{\"standoff\":15},\"zerolinecolor\":\"white\",\"automargin\":true,\"zerolinewidth\":2},\"yaxis\":{\"gridcolor\":\"white\",\"linecolor\":\"white\",\"ticks\":\"\",\"title\":{\"standoff\":15},\"zerolinecolor\":\"white\",\"automargin\":true,\"zerolinewidth\":2},\"scene\":{\"xaxis\":{\"backgroundcolor\":\"#E5ECF6\",\"gridcolor\":\"white\",\"linecolor\":\"white\",\"showbackground\":true,\"ticks\":\"\",\"zerolinecolor\":\"white\",\"gridwidth\":2},\"yaxis\":{\"backgroundcolor\":\"#E5ECF6\",\"gridcolor\":\"white\",\"linecolor\":\"white\",\"showbackground\":true,\"ticks\":\"\",\"zerolinecolor\":\"white\",\"gridwidth\":2},\"zaxis\":{\"backgroundcolor\":\"#E5ECF6\",\"gridcolor\":\"white\",\"linecolor\":\"white\",\"showbackground\":true,\"ticks\":\"\",\"zerolinecolor\":\"white\",\"gridwidth\":2}},\"shapedefaults\":{\"line\":{\"color\":\"#2a3f5f\"}},\"annotationdefaults\":{\"arrowcolor\":\"#2a3f5f\",\"arrowhead\":0,\"arrowwidth\":1},\"geo\":{\"bgcolor\":\"white\",\"landcolor\":\"#E5ECF6\",\"subunitcolor\":\"white\",\"showland\":true,\"showlakes\":true,\"lakecolor\":\"white\"},\"title\":{\"x\":0.05},\"mapbox\":{\"style\":\"light\"}}},\"xaxis\":{\"anchor\":\"y\",\"domain\":[0.0,0.45]},\"yaxis\":{\"anchor\":\"x\",\"domain\":[0.0,1.0]},\"xaxis2\":{\"anchor\":\"y2\",\"domain\":[0.55,1.0]},\"yaxis2\":{\"anchor\":\"x2\",\"domain\":[0.0,1.0]},\"annotations\":[{\"font\":{\"size\":16},\"showarrow\":false,\"text\":\"Chat Model Perplexity\",\"x\":0.225,\"xanchor\":\"center\",\"xref\":\"paper\",\"y\":1.0,\"yanchor\":\"bottom\",\"yref\":\"paper\"},{\"font\":{\"size\":16},\"showarrow\":false,\"text\":\"Base Model Perplexity\",\"x\":0.775,\"xanchor\":\"center\",\"xref\":\"paper\",\"y\":1.0,\"yanchor\":\"bottom\",\"yref\":\"paper\"}],\"title\":{\"text\":\"Perplexity Heatmaps: Chat vs Base Model\"},\"height\":600},                        {\"responsive\": true}                    ).then(function(){\n",
       "                            \n",
       "var gd = document.getElementById('2397d12f-de6f-4c08-a794-ffbc72d13afe');\n",
       "var x = new MutationObserver(function (mutations, observer) {{\n",
       "        var display = window.getComputedStyle(gd).display;\n",
       "        if (!display || display === 'none') {{\n",
       "            console.log([gd, 'removed!']);\n",
       "            Plotly.purge(gd);\n",
       "            observer.disconnect();\n",
       "        }}\n",
       "}});\n",
       "\n",
       "// Listen for the removal of the full notebook cells\n",
       "var notebookContainer = gd.closest('#notebook-container');\n",
       "if (notebookContainer) {{\n",
       "    x.observe(notebookContainer, {childList: true});\n",
       "}}\n",
       "\n",
       "// Listen for the clearing of the current output cell\n",
       "var outputEl = gd.closest('.output');\n",
       "if (outputEl) {{\n",
       "    x.observe(outputEl, {childList: true});\n",
       "}}\n",
       "\n",
       "                        })                };                });            </script>        </div>"
      ]
     },
     "metadata": {},
     "output_type": "display_data"
    }
   ],
   "source": [
    "plot_results(load_dict(\"results/chat_templates_results.json\", key='results'))"
   ]
  },
  {
   "cell_type": "code",
   "execution_count": 22,
   "metadata": {},
   "outputs": [],
   "source": [
    "results = evaluate_all_templates(dataset, exp_name=\"ultrachat\")\n",
    "results_single_turn = evaluate_all_templates(dataset, num_turns=2, exp_name=\"ultrachat_single_turn\")\n",
    "plot_results(results_single_turn)\n",
    "plot_results(results)"
   ]
  },
  {
   "cell_type": "markdown",
   "metadata": {},
   "source": [
    "## Generated dataset"
   ]
  },
  {
   "cell_type": "code",
   "execution_count": 40,
   "metadata": {},
   "outputs": [
    {
     "data": {
      "application/vnd.jupyter.widget-view+json": {
       "model_id": "d4ad3cfd92e74c978e069a3784e99848",
       "version_major": 2,
       "version_minor": 0
      },
      "text/plain": [
       "README.md:   0%|          | 0.00/1.06k [00:00<?, ?B/s]"
      ]
     },
     "metadata": {},
     "output_type": "display_data"
    },
    {
     "data": {
      "application/vnd.jupyter.widget-view+json": {
       "model_id": "a585665ffc0b4ec5a69a7ed298382289",
       "version_major": 2,
       "version_minor": 0
      },
      "text/plain": [
       "train-00000-of-00001.parquet:   0%|          | 0.00/1.56M [00:00<?, ?B/s]"
      ]
     },
     "metadata": {},
     "output_type": "display_data"
    },
    {
     "data": {
      "application/vnd.jupyter.widget-view+json": {
       "model_id": "a54b61052efe4bea8eacac6a8fdc9dbb",
       "version_major": 2,
       "version_minor": 0
      },
      "text/plain": [
       "Generating train split:   0%|          | 0/512 [00:00<?, ? examples/s]"
      ]
     },
     "metadata": {},
     "output_type": "display_data"
    }
   ],
   "source": [
    "generated_dataset = load_dataset(\"science-of-finetuning/ultrachat_200k_gemma-2-2b-it-generated\")"
   ]
  },
  {
   "cell_type": "code",
   "execution_count": 40,
   "metadata": {},
   "outputs": [
    {
     "data": {
      "application/vnd.plotly.v1+json": {
       "config": {
        "plotlyServerURL": "https://plot.ly"
       },
       "data": [
        {
         "error_y": {
          "array": [
           0.05107701878233262,
           0.02450885491508248,
           0.03407987821045211,
           0.029690547522542632,
           0.042733248271201285,
           0.02101111522987642,
           0.0279717646789146,
           0.025828860804562037,
           0.051220980726851995,
           0.02457835673486186,
           0.0337107867143287,
           0.029598021262648544,
           0.04587049118028319,
           0.021842627472748566,
           0.02807730203155856,
           0.025332793828272138,
           0.045669178229638785,
           0.022135421818206602,
           0.028572337340503573,
           0.02635202206666487,
           0.021641730621418498,
           0.022526911538661487,
           0.02975904917640171,
           0.027855088014584473,
           0.049426653218302086,
           0.02222335210301929,
           0.027810360011609303,
           0.024644988899359177,
           0.050797184726874445,
           0.025275614948867098,
           0.033474818799365647,
           0.029273176231240372,
           0.03948245252663196,
           0.021876925098435862,
           0.027699009392315066,
           0.02768995288001297
          ],
          "arrayminus": [
           0.04966129210244685,
           0.024161562583854934,
           0.03342653847496857,
           0.029192833885184344,
           0.04172608566116409,
           0.020759410731552075,
           0.027532022769519937,
           0.02545910012364261,
           0.049799841442130566,
           0.024229737828919573,
           0.033073654204809566,
           0.029104485202417818,
           0.04471891611111878,
           0.02156961856362516,
           0.027635977186043048,
           0.024974758055146706,
           0.044527148695918894,
           0.021859136963255255,
           0.028122030395443032,
           0.025972331243324653,
           0.021382793636093744,
           0.022252423868474702,
           0.02928610184671676,
           0.027443994184296105,
           0.04809889416637314,
           0.02194080939876719,
           0.027376981917260235,
           0.02430649449219424,
           0.04940561047470382,
           0.024908230807763276,
           0.032847219909871495,
           0.028791106764507468,
           0.03862664040593411,
           0.02160979436749,
           0.027280165268237955,
           0.02728102749795447
          ],
          "symmetric": false,
          "type": "data"
         },
         "marker": {
          "color": "royalblue"
         },
         "name": "Chat Model",
         "type": "bar",
         "x": [
          "default_default",
          "default_blockquote",
          "default_code",
          "default_em",
          "assistant_default",
          "assistant_blockquote",
          "assistant_code",
          "assistant_em",
          "human_default",
          "human_blockquote",
          "human_code",
          "human_em",
          "assistant_human_default",
          "assistant_human_blockquote",
          "assistant_human_code",
          "assistant_human_em",
          "human_human_default",
          "human_human_blockquote",
          "human_human_code",
          "human_human_em",
          "user_user_default",
          "user_user_blockquote",
          "user_user_code",
          "user_user_em",
          "assistant_assistant_default",
          "assistant_assistant_blockquote",
          "assistant_assistant_code",
          "assistant_assistant_em",
          "model_model_default",
          "model_model_blockquote",
          "model_model_code",
          "model_model_em",
          "4chan_default",
          "4chan_blockquote",
          "4chan_code",
          "4chan_em"
         ],
         "y": [
          1.791695237159729,
          1.7051117420196533,
          1.7436140775680542,
          1.74146568775177,
          1.770410418510437,
          1.7328985929489136,
          1.7512983083724976,
          1.7783923149108887,
          1.7948956489562988,
          1.7082468271255493,
          1.7499325275421143,
          1.745435118675232,
          1.7812808752059937,
          1.725720763206482,
          1.7582143545150757,
          1.7670871019363403,
          1.7806179523468018,
          1.7513128519058228,
          1.7843654155731201,
          1.8025809526443481,
          1.7871555089950562,
          1.8262327909469604,
          1.8427560329437256,
          1.8595629930496216,
          1.790511131286621,
          1.7257509231567383,
          1.7568117380142212,
          1.769699215888977,
          1.8034725189208984,
          1.7136582136154175,
          1.7520023584365845,
          1.7483105659484863,
          1.7820202112197876,
          1.7697546482086182,
          1.804092526435852,
          1.8473061323165894
         ]
        },
        {
         "error_y": {
          "array": [
           0.074198848929802,
           0.08112731274196294,
           0.07826851430614212,
           0.07710929160434743,
           0.07431860417545266,
           0.08178004547486983,
           0.07967662911823892,
           0.07854701018844112,
           0.07514956953623075,
           0.08139836492537578,
           0.07869250243005377,
           0.07766931987773029,
           0.07535850984762105,
           0.08181610191167143,
           0.07976816161549394,
           0.07854599156402342,
           0.07479360526603562,
           0.08194803978876486,
           0.07976973400456,
           0.08029794942537505,
           0.0736451409475345,
           0.0822474036342018,
           0.07966497699491981,
           0.07959628894518689,
           0.07353131264990997,
           0.08216275353045255,
           0.08001979609758925,
           0.08107120126246503,
           0.07319660396333649,
           0.08172255653133842,
           0.07906278382704368,
           0.07999932744470728,
           0.07071883492970654,
           0.08257802968322414,
           0.08069686207240423,
           0.08316560309817245
          ],
          "arrayminus": [
           0.07230344740712935,
           0.07882421426824449,
           0.07609783920759794,
           0.07501060068369192,
           0.07241635609467201,
           0.07944081644462742,
           0.07743701576684892,
           0.07637864283703522,
           0.07321174869590541,
           0.0790903737749784,
           0.07650765710687368,
           0.07556311730589904,
           0.07340917101967426,
           0.0794830072949213,
           0.07753261020479174,
           0.07639678052509247,
           0.0728679161072967,
           0.07960530195399462,
           0.07752770281372001,
           0.07805592590426258,
           0.07177429133005475,
           0.07988625443474584,
           0.07742065246055274,
           0.07737909658285291,
           0.07166736788191264,
           0.07980817286167374,
           0.07776368222849328,
           0.07878783409265155,
           0.07134840188956693,
           0.07939436443299952,
           0.07685204489273811,
           0.07777058343508925,
           0.06897672058265147,
           0.08019184868782947,
           0.07839775459015685,
           0.08076837849260521
          ],
          "symmetric": false,
          "type": "data"
         },
         "marker": {
          "color": "red"
         },
         "name": "Base Model",
         "type": "bar",
         "x": [
          "default_default",
          "default_blockquote",
          "default_code",
          "default_em",
          "assistant_default",
          "assistant_blockquote",
          "assistant_code",
          "assistant_em",
          "human_default",
          "human_blockquote",
          "human_code",
          "human_em",
          "assistant_human_default",
          "assistant_human_blockquote",
          "assistant_human_code",
          "assistant_human_em",
          "human_human_default",
          "human_human_blockquote",
          "human_human_code",
          "human_human_em",
          "user_user_default",
          "user_user_blockquote",
          "user_user_code",
          "user_user_em",
          "assistant_assistant_default",
          "assistant_assistant_blockquote",
          "assistant_assistant_code",
          "assistant_assistant_em",
          "model_model_default",
          "model_model_blockquote",
          "model_model_code",
          "model_model_em",
          "4chan_default",
          "4chan_blockquote",
          "4chan_code",
          "4chan_em"
         ],
         "y": [
          2.830446481704712,
          2.7766058444976807,
          2.7438766956329346,
          2.7560105323791504,
          2.8292222023010254,
          2.777271270751953,
          2.754904270172119,
          2.766742467880249,
          2.8391847610473633,
          2.7893638610839844,
          2.7556087970733643,
          2.786501169204712,
          2.837888240814209,
          2.787280797958374,
          2.766491413116455,
          2.792029619216919,
          2.830183744430542,
          2.7845618724823,
          2.758375644683838,
          2.7955687046051025,
          2.825362205505371,
          2.782728433609009,
          2.748138427734375,
          2.7778775691986084,
          2.8272273540496826,
          2.7848947048187256,
          2.758120536804199,
          2.797370672225952,
          2.825697898864746,
          2.7868449687957764,
          2.7484641075134277,
          2.791524887084961,
          2.8000190258026123,
          2.775181293487549,
          2.751699447631836,
          2.802053213119507
         ]
        }
       ],
       "layout": {
        "barmode": "group",
        "template": {
         "data": {
          "bar": [
           {
            "error_x": {
             "color": "#2a3f5f"
            },
            "error_y": {
             "color": "#2a3f5f"
            },
            "marker": {
             "line": {
              "color": "#E5ECF6",
              "width": 0.5
             },
             "pattern": {
              "fillmode": "overlay",
              "size": 10,
              "solidity": 0.2
             }
            },
            "type": "bar"
           }
          ],
          "barpolar": [
           {
            "marker": {
             "line": {
              "color": "#E5ECF6",
              "width": 0.5
             },
             "pattern": {
              "fillmode": "overlay",
              "size": 10,
              "solidity": 0.2
             }
            },
            "type": "barpolar"
           }
          ],
          "carpet": [
           {
            "aaxis": {
             "endlinecolor": "#2a3f5f",
             "gridcolor": "white",
             "linecolor": "white",
             "minorgridcolor": "white",
             "startlinecolor": "#2a3f5f"
            },
            "baxis": {
             "endlinecolor": "#2a3f5f",
             "gridcolor": "white",
             "linecolor": "white",
             "minorgridcolor": "white",
             "startlinecolor": "#2a3f5f"
            },
            "type": "carpet"
           }
          ],
          "choropleth": [
           {
            "colorbar": {
             "outlinewidth": 0,
             "ticks": ""
            },
            "type": "choropleth"
           }
          ],
          "contour": [
           {
            "colorbar": {
             "outlinewidth": 0,
             "ticks": ""
            },
            "colorscale": [
             [
              0,
              "#0d0887"
             ],
             [
              0.1111111111111111,
              "#46039f"
             ],
             [
              0.2222222222222222,
              "#7201a8"
             ],
             [
              0.3333333333333333,
              "#9c179e"
             ],
             [
              0.4444444444444444,
              "#bd3786"
             ],
             [
              0.5555555555555556,
              "#d8576b"
             ],
             [
              0.6666666666666666,
              "#ed7953"
             ],
             [
              0.7777777777777778,
              "#fb9f3a"
             ],
             [
              0.8888888888888888,
              "#fdca26"
             ],
             [
              1,
              "#f0f921"
             ]
            ],
            "type": "contour"
           }
          ],
          "contourcarpet": [
           {
            "colorbar": {
             "outlinewidth": 0,
             "ticks": ""
            },
            "type": "contourcarpet"
           }
          ],
          "heatmap": [
           {
            "colorbar": {
             "outlinewidth": 0,
             "ticks": ""
            },
            "colorscale": [
             [
              0,
              "#0d0887"
             ],
             [
              0.1111111111111111,
              "#46039f"
             ],
             [
              0.2222222222222222,
              "#7201a8"
             ],
             [
              0.3333333333333333,
              "#9c179e"
             ],
             [
              0.4444444444444444,
              "#bd3786"
             ],
             [
              0.5555555555555556,
              "#d8576b"
             ],
             [
              0.6666666666666666,
              "#ed7953"
             ],
             [
              0.7777777777777778,
              "#fb9f3a"
             ],
             [
              0.8888888888888888,
              "#fdca26"
             ],
             [
              1,
              "#f0f921"
             ]
            ],
            "type": "heatmap"
           }
          ],
          "heatmapgl": [
           {
            "colorbar": {
             "outlinewidth": 0,
             "ticks": ""
            },
            "colorscale": [
             [
              0,
              "#0d0887"
             ],
             [
              0.1111111111111111,
              "#46039f"
             ],
             [
              0.2222222222222222,
              "#7201a8"
             ],
             [
              0.3333333333333333,
              "#9c179e"
             ],
             [
              0.4444444444444444,
              "#bd3786"
             ],
             [
              0.5555555555555556,
              "#d8576b"
             ],
             [
              0.6666666666666666,
              "#ed7953"
             ],
             [
              0.7777777777777778,
              "#fb9f3a"
             ],
             [
              0.8888888888888888,
              "#fdca26"
             ],
             [
              1,
              "#f0f921"
             ]
            ],
            "type": "heatmapgl"
           }
          ],
          "histogram": [
           {
            "marker": {
             "pattern": {
              "fillmode": "overlay",
              "size": 10,
              "solidity": 0.2
             }
            },
            "type": "histogram"
           }
          ],
          "histogram2d": [
           {
            "colorbar": {
             "outlinewidth": 0,
             "ticks": ""
            },
            "colorscale": [
             [
              0,
              "#0d0887"
             ],
             [
              0.1111111111111111,
              "#46039f"
             ],
             [
              0.2222222222222222,
              "#7201a8"
             ],
             [
              0.3333333333333333,
              "#9c179e"
             ],
             [
              0.4444444444444444,
              "#bd3786"
             ],
             [
              0.5555555555555556,
              "#d8576b"
             ],
             [
              0.6666666666666666,
              "#ed7953"
             ],
             [
              0.7777777777777778,
              "#fb9f3a"
             ],
             [
              0.8888888888888888,
              "#fdca26"
             ],
             [
              1,
              "#f0f921"
             ]
            ],
            "type": "histogram2d"
           }
          ],
          "histogram2dcontour": [
           {
            "colorbar": {
             "outlinewidth": 0,
             "ticks": ""
            },
            "colorscale": [
             [
              0,
              "#0d0887"
             ],
             [
              0.1111111111111111,
              "#46039f"
             ],
             [
              0.2222222222222222,
              "#7201a8"
             ],
             [
              0.3333333333333333,
              "#9c179e"
             ],
             [
              0.4444444444444444,
              "#bd3786"
             ],
             [
              0.5555555555555556,
              "#d8576b"
             ],
             [
              0.6666666666666666,
              "#ed7953"
             ],
             [
              0.7777777777777778,
              "#fb9f3a"
             ],
             [
              0.8888888888888888,
              "#fdca26"
             ],
             [
              1,
              "#f0f921"
             ]
            ],
            "type": "histogram2dcontour"
           }
          ],
          "mesh3d": [
           {
            "colorbar": {
             "outlinewidth": 0,
             "ticks": ""
            },
            "type": "mesh3d"
           }
          ],
          "parcoords": [
           {
            "line": {
             "colorbar": {
              "outlinewidth": 0,
              "ticks": ""
             }
            },
            "type": "parcoords"
           }
          ],
          "pie": [
           {
            "automargin": true,
            "type": "pie"
           }
          ],
          "scatter": [
           {
            "fillpattern": {
             "fillmode": "overlay",
             "size": 10,
             "solidity": 0.2
            },
            "type": "scatter"
           }
          ],
          "scatter3d": [
           {
            "line": {
             "colorbar": {
              "outlinewidth": 0,
              "ticks": ""
             }
            },
            "marker": {
             "colorbar": {
              "outlinewidth": 0,
              "ticks": ""
             }
            },
            "type": "scatter3d"
           }
          ],
          "scattercarpet": [
           {
            "marker": {
             "colorbar": {
              "outlinewidth": 0,
              "ticks": ""
             }
            },
            "type": "scattercarpet"
           }
          ],
          "scattergeo": [
           {
            "marker": {
             "colorbar": {
              "outlinewidth": 0,
              "ticks": ""
             }
            },
            "type": "scattergeo"
           }
          ],
          "scattergl": [
           {
            "marker": {
             "colorbar": {
              "outlinewidth": 0,
              "ticks": ""
             }
            },
            "type": "scattergl"
           }
          ],
          "scattermapbox": [
           {
            "marker": {
             "colorbar": {
              "outlinewidth": 0,
              "ticks": ""
             }
            },
            "type": "scattermapbox"
           }
          ],
          "scatterpolar": [
           {
            "marker": {
             "colorbar": {
              "outlinewidth": 0,
              "ticks": ""
             }
            },
            "type": "scatterpolar"
           }
          ],
          "scatterpolargl": [
           {
            "marker": {
             "colorbar": {
              "outlinewidth": 0,
              "ticks": ""
             }
            },
            "type": "scatterpolargl"
           }
          ],
          "scatterternary": [
           {
            "marker": {
             "colorbar": {
              "outlinewidth": 0,
              "ticks": ""
             }
            },
            "type": "scatterternary"
           }
          ],
          "surface": [
           {
            "colorbar": {
             "outlinewidth": 0,
             "ticks": ""
            },
            "colorscale": [
             [
              0,
              "#0d0887"
             ],
             [
              0.1111111111111111,
              "#46039f"
             ],
             [
              0.2222222222222222,
              "#7201a8"
             ],
             [
              0.3333333333333333,
              "#9c179e"
             ],
             [
              0.4444444444444444,
              "#bd3786"
             ],
             [
              0.5555555555555556,
              "#d8576b"
             ],
             [
              0.6666666666666666,
              "#ed7953"
             ],
             [
              0.7777777777777778,
              "#fb9f3a"
             ],
             [
              0.8888888888888888,
              "#fdca26"
             ],
             [
              1,
              "#f0f921"
             ]
            ],
            "type": "surface"
           }
          ],
          "table": [
           {
            "cells": {
             "fill": {
              "color": "#EBF0F8"
             },
             "line": {
              "color": "white"
             }
            },
            "header": {
             "fill": {
              "color": "#C8D4E3"
             },
             "line": {
              "color": "white"
             }
            },
            "type": "table"
           }
          ]
         },
         "layout": {
          "annotationdefaults": {
           "arrowcolor": "#2a3f5f",
           "arrowhead": 0,
           "arrowwidth": 1
          },
          "autotypenumbers": "strict",
          "coloraxis": {
           "colorbar": {
            "outlinewidth": 0,
            "ticks": ""
           }
          },
          "colorscale": {
           "diverging": [
            [
             0,
             "#8e0152"
            ],
            [
             0.1,
             "#c51b7d"
            ],
            [
             0.2,
             "#de77ae"
            ],
            [
             0.3,
             "#f1b6da"
            ],
            [
             0.4,
             "#fde0ef"
            ],
            [
             0.5,
             "#f7f7f7"
            ],
            [
             0.6,
             "#e6f5d0"
            ],
            [
             0.7,
             "#b8e186"
            ],
            [
             0.8,
             "#7fbc41"
            ],
            [
             0.9,
             "#4d9221"
            ],
            [
             1,
             "#276419"
            ]
           ],
           "sequential": [
            [
             0,
             "#0d0887"
            ],
            [
             0.1111111111111111,
             "#46039f"
            ],
            [
             0.2222222222222222,
             "#7201a8"
            ],
            [
             0.3333333333333333,
             "#9c179e"
            ],
            [
             0.4444444444444444,
             "#bd3786"
            ],
            [
             0.5555555555555556,
             "#d8576b"
            ],
            [
             0.6666666666666666,
             "#ed7953"
            ],
            [
             0.7777777777777778,
             "#fb9f3a"
            ],
            [
             0.8888888888888888,
             "#fdca26"
            ],
            [
             1,
             "#f0f921"
            ]
           ],
           "sequentialminus": [
            [
             0,
             "#0d0887"
            ],
            [
             0.1111111111111111,
             "#46039f"
            ],
            [
             0.2222222222222222,
             "#7201a8"
            ],
            [
             0.3333333333333333,
             "#9c179e"
            ],
            [
             0.4444444444444444,
             "#bd3786"
            ],
            [
             0.5555555555555556,
             "#d8576b"
            ],
            [
             0.6666666666666666,
             "#ed7953"
            ],
            [
             0.7777777777777778,
             "#fb9f3a"
            ],
            [
             0.8888888888888888,
             "#fdca26"
            ],
            [
             1,
             "#f0f921"
            ]
           ]
          },
          "colorway": [
           "#636efa",
           "#EF553B",
           "#00cc96",
           "#ab63fa",
           "#FFA15A",
           "#19d3f3",
           "#FF6692",
           "#B6E880",
           "#FF97FF",
           "#FECB52"
          ],
          "font": {
           "color": "#2a3f5f"
          },
          "geo": {
           "bgcolor": "white",
           "lakecolor": "white",
           "landcolor": "#E5ECF6",
           "showlakes": true,
           "showland": true,
           "subunitcolor": "white"
          },
          "hoverlabel": {
           "align": "left"
          },
          "hovermode": "closest",
          "mapbox": {
           "style": "light"
          },
          "paper_bgcolor": "white",
          "plot_bgcolor": "#E5ECF6",
          "polar": {
           "angularaxis": {
            "gridcolor": "white",
            "linecolor": "white",
            "ticks": ""
           },
           "bgcolor": "#E5ECF6",
           "radialaxis": {
            "gridcolor": "white",
            "linecolor": "white",
            "ticks": ""
           }
          },
          "scene": {
           "xaxis": {
            "backgroundcolor": "#E5ECF6",
            "gridcolor": "white",
            "gridwidth": 2,
            "linecolor": "white",
            "showbackground": true,
            "ticks": "",
            "zerolinecolor": "white"
           },
           "yaxis": {
            "backgroundcolor": "#E5ECF6",
            "gridcolor": "white",
            "gridwidth": 2,
            "linecolor": "white",
            "showbackground": true,
            "ticks": "",
            "zerolinecolor": "white"
           },
           "zaxis": {
            "backgroundcolor": "#E5ECF6",
            "gridcolor": "white",
            "gridwidth": 2,
            "linecolor": "white",
            "showbackground": true,
            "ticks": "",
            "zerolinecolor": "white"
           }
          },
          "shapedefaults": {
           "line": {
            "color": "#2a3f5f"
           }
          },
          "ternary": {
           "aaxis": {
            "gridcolor": "white",
            "linecolor": "white",
            "ticks": ""
           },
           "baxis": {
            "gridcolor": "white",
            "linecolor": "white",
            "ticks": ""
           },
           "bgcolor": "#E5ECF6",
           "caxis": {
            "gridcolor": "white",
            "linecolor": "white",
            "ticks": ""
           }
          },
          "title": {
           "x": 0.05
          },
          "xaxis": {
           "automargin": true,
           "gridcolor": "white",
           "linecolor": "white",
           "ticks": "",
           "title": {
            "standoff": 15
           },
           "zerolinecolor": "white",
           "zerolinewidth": 2
          },
          "yaxis": {
           "automargin": true,
           "gridcolor": "white",
           "linecolor": "white",
           "ticks": "",
           "title": {
            "standoff": 15
           },
           "zerolinecolor": "white",
           "zerolinewidth": 2
          }
         }
        },
        "title": {
         "text": "Chat vs Base Model Perplexity by Setup"
        },
        "xaxis": {
         "tickangle": 45,
         "title": {
          "text": "Setup (role_delimiter)"
         }
        },
        "yaxis": {
         "title": {
          "text": "Perplexity"
         }
        }
       }
      },
      "text/html": [
       "<div>                            <div id=\"00931d8d-2751-4b62-9634-da08a5bb9f2c\" class=\"plotly-graph-div\" style=\"height:525px; width:100%;\"></div>            <script type=\"text/javascript\">                require([\"plotly\"], function(Plotly) {                    window.PLOTLYENV=window.PLOTLYENV || {};                                    if (document.getElementById(\"00931d8d-2751-4b62-9634-da08a5bb9f2c\")) {                    Plotly.newPlot(                        \"00931d8d-2751-4b62-9634-da08a5bb9f2c\",                        [{\"error_y\":{\"array\":[0.05107701878233262,0.02450885491508248,0.03407987821045211,0.029690547522542632,0.042733248271201285,0.02101111522987642,0.0279717646789146,0.025828860804562037,0.051220980726851995,0.02457835673486186,0.0337107867143287,0.029598021262648544,0.04587049118028319,0.021842627472748566,0.02807730203155856,0.025332793828272138,0.045669178229638785,0.022135421818206602,0.028572337340503573,0.02635202206666487,0.021641730621418498,0.022526911538661487,0.02975904917640171,0.027855088014584473,0.049426653218302086,0.02222335210301929,0.027810360011609303,0.024644988899359177,0.050797184726874445,0.025275614948867098,0.033474818799365647,0.029273176231240372,0.03948245252663196,0.021876925098435862,0.027699009392315066,0.02768995288001297],\"arrayminus\":[0.04966129210244685,0.024161562583854934,0.03342653847496857,0.029192833885184344,0.04172608566116409,0.020759410731552075,0.027532022769519937,0.02545910012364261,0.049799841442130566,0.024229737828919573,0.033073654204809566,0.029104485202417818,0.04471891611111878,0.02156961856362516,0.027635977186043048,0.024974758055146706,0.044527148695918894,0.021859136963255255,0.028122030395443032,0.025972331243324653,0.021382793636093744,0.022252423868474702,0.02928610184671676,0.027443994184296105,0.04809889416637314,0.02194080939876719,0.027376981917260235,0.02430649449219424,0.04940561047470382,0.024908230807763276,0.032847219909871495,0.028791106764507468,0.03862664040593411,0.02160979436749,0.027280165268237955,0.02728102749795447],\"symmetric\":false,\"type\":\"data\"},\"marker\":{\"color\":\"royalblue\"},\"name\":\"Chat Model\",\"x\":[\"default_default\",\"default_blockquote\",\"default_code\",\"default_em\",\"assistant_default\",\"assistant_blockquote\",\"assistant_code\",\"assistant_em\",\"human_default\",\"human_blockquote\",\"human_code\",\"human_em\",\"assistant_human_default\",\"assistant_human_blockquote\",\"assistant_human_code\",\"assistant_human_em\",\"human_human_default\",\"human_human_blockquote\",\"human_human_code\",\"human_human_em\",\"user_user_default\",\"user_user_blockquote\",\"user_user_code\",\"user_user_em\",\"assistant_assistant_default\",\"assistant_assistant_blockquote\",\"assistant_assistant_code\",\"assistant_assistant_em\",\"model_model_default\",\"model_model_blockquote\",\"model_model_code\",\"model_model_em\",\"4chan_default\",\"4chan_blockquote\",\"4chan_code\",\"4chan_em\"],\"y\":[1.791695237159729,1.7051117420196533,1.7436140775680542,1.74146568775177,1.770410418510437,1.7328985929489136,1.7512983083724976,1.7783923149108887,1.7948956489562988,1.7082468271255493,1.7499325275421143,1.745435118675232,1.7812808752059937,1.725720763206482,1.7582143545150757,1.7670871019363403,1.7806179523468018,1.7513128519058228,1.7843654155731201,1.8025809526443481,1.7871555089950562,1.8262327909469604,1.8427560329437256,1.8595629930496216,1.790511131286621,1.7257509231567383,1.7568117380142212,1.769699215888977,1.8034725189208984,1.7136582136154175,1.7520023584365845,1.7483105659484863,1.7820202112197876,1.7697546482086182,1.804092526435852,1.8473061323165894],\"type\":\"bar\"},{\"error_y\":{\"array\":[0.074198848929802,0.08112731274196294,0.07826851430614212,0.07710929160434743,0.07431860417545266,0.08178004547486983,0.07967662911823892,0.07854701018844112,0.07514956953623075,0.08139836492537578,0.07869250243005377,0.07766931987773029,0.07535850984762105,0.08181610191167143,0.07976816161549394,0.07854599156402342,0.07479360526603562,0.08194803978876486,0.07976973400456,0.08029794942537505,0.0736451409475345,0.0822474036342018,0.07966497699491981,0.07959628894518689,0.07353131264990997,0.08216275353045255,0.08001979609758925,0.08107120126246503,0.07319660396333649,0.08172255653133842,0.07906278382704368,0.07999932744470728,0.07071883492970654,0.08257802968322414,0.08069686207240423,0.08316560309817245],\"arrayminus\":[0.07230344740712935,0.07882421426824449,0.07609783920759794,0.07501060068369192,0.07241635609467201,0.07944081644462742,0.07743701576684892,0.07637864283703522,0.07321174869590541,0.0790903737749784,0.07650765710687368,0.07556311730589904,0.07340917101967426,0.0794830072949213,0.07753261020479174,0.07639678052509247,0.0728679161072967,0.07960530195399462,0.07752770281372001,0.07805592590426258,0.07177429133005475,0.07988625443474584,0.07742065246055274,0.07737909658285291,0.07166736788191264,0.07980817286167374,0.07776368222849328,0.07878783409265155,0.07134840188956693,0.07939436443299952,0.07685204489273811,0.07777058343508925,0.06897672058265147,0.08019184868782947,0.07839775459015685,0.08076837849260521],\"symmetric\":false,\"type\":\"data\"},\"marker\":{\"color\":\"red\"},\"name\":\"Base Model\",\"x\":[\"default_default\",\"default_blockquote\",\"default_code\",\"default_em\",\"assistant_default\",\"assistant_blockquote\",\"assistant_code\",\"assistant_em\",\"human_default\",\"human_blockquote\",\"human_code\",\"human_em\",\"assistant_human_default\",\"assistant_human_blockquote\",\"assistant_human_code\",\"assistant_human_em\",\"human_human_default\",\"human_human_blockquote\",\"human_human_code\",\"human_human_em\",\"user_user_default\",\"user_user_blockquote\",\"user_user_code\",\"user_user_em\",\"assistant_assistant_default\",\"assistant_assistant_blockquote\",\"assistant_assistant_code\",\"assistant_assistant_em\",\"model_model_default\",\"model_model_blockquote\",\"model_model_code\",\"model_model_em\",\"4chan_default\",\"4chan_blockquote\",\"4chan_code\",\"4chan_em\"],\"y\":[2.830446481704712,2.7766058444976807,2.7438766956329346,2.7560105323791504,2.8292222023010254,2.777271270751953,2.754904270172119,2.766742467880249,2.8391847610473633,2.7893638610839844,2.7556087970733643,2.786501169204712,2.837888240814209,2.787280797958374,2.766491413116455,2.792029619216919,2.830183744430542,2.7845618724823,2.758375644683838,2.7955687046051025,2.825362205505371,2.782728433609009,2.748138427734375,2.7778775691986084,2.8272273540496826,2.7848947048187256,2.758120536804199,2.797370672225952,2.825697898864746,2.7868449687957764,2.7484641075134277,2.791524887084961,2.8000190258026123,2.775181293487549,2.751699447631836,2.802053213119507],\"type\":\"bar\"}],                        {\"template\":{\"data\":{\"histogram2dcontour\":[{\"type\":\"histogram2dcontour\",\"colorbar\":{\"outlinewidth\":0,\"ticks\":\"\"},\"colorscale\":[[0.0,\"#0d0887\"],[0.1111111111111111,\"#46039f\"],[0.2222222222222222,\"#7201a8\"],[0.3333333333333333,\"#9c179e\"],[0.4444444444444444,\"#bd3786\"],[0.5555555555555556,\"#d8576b\"],[0.6666666666666666,\"#ed7953\"],[0.7777777777777778,\"#fb9f3a\"],[0.8888888888888888,\"#fdca26\"],[1.0,\"#f0f921\"]]}],\"choropleth\":[{\"type\":\"choropleth\",\"colorbar\":{\"outlinewidth\":0,\"ticks\":\"\"}}],\"histogram2d\":[{\"type\":\"histogram2d\",\"colorbar\":{\"outlinewidth\":0,\"ticks\":\"\"},\"colorscale\":[[0.0,\"#0d0887\"],[0.1111111111111111,\"#46039f\"],[0.2222222222222222,\"#7201a8\"],[0.3333333333333333,\"#9c179e\"],[0.4444444444444444,\"#bd3786\"],[0.5555555555555556,\"#d8576b\"],[0.6666666666666666,\"#ed7953\"],[0.7777777777777778,\"#fb9f3a\"],[0.8888888888888888,\"#fdca26\"],[1.0,\"#f0f921\"]]}],\"heatmap\":[{\"type\":\"heatmap\",\"colorbar\":{\"outlinewidth\":0,\"ticks\":\"\"},\"colorscale\":[[0.0,\"#0d0887\"],[0.1111111111111111,\"#46039f\"],[0.2222222222222222,\"#7201a8\"],[0.3333333333333333,\"#9c179e\"],[0.4444444444444444,\"#bd3786\"],[0.5555555555555556,\"#d8576b\"],[0.6666666666666666,\"#ed7953\"],[0.7777777777777778,\"#fb9f3a\"],[0.8888888888888888,\"#fdca26\"],[1.0,\"#f0f921\"]]}],\"heatmapgl\":[{\"type\":\"heatmapgl\",\"colorbar\":{\"outlinewidth\":0,\"ticks\":\"\"},\"colorscale\":[[0.0,\"#0d0887\"],[0.1111111111111111,\"#46039f\"],[0.2222222222222222,\"#7201a8\"],[0.3333333333333333,\"#9c179e\"],[0.4444444444444444,\"#bd3786\"],[0.5555555555555556,\"#d8576b\"],[0.6666666666666666,\"#ed7953\"],[0.7777777777777778,\"#fb9f3a\"],[0.8888888888888888,\"#fdca26\"],[1.0,\"#f0f921\"]]}],\"contourcarpet\":[{\"type\":\"contourcarpet\",\"colorbar\":{\"outlinewidth\":0,\"ticks\":\"\"}}],\"contour\":[{\"type\":\"contour\",\"colorbar\":{\"outlinewidth\":0,\"ticks\":\"\"},\"colorscale\":[[0.0,\"#0d0887\"],[0.1111111111111111,\"#46039f\"],[0.2222222222222222,\"#7201a8\"],[0.3333333333333333,\"#9c179e\"],[0.4444444444444444,\"#bd3786\"],[0.5555555555555556,\"#d8576b\"],[0.6666666666666666,\"#ed7953\"],[0.7777777777777778,\"#fb9f3a\"],[0.8888888888888888,\"#fdca26\"],[1.0,\"#f0f921\"]]}],\"surface\":[{\"type\":\"surface\",\"colorbar\":{\"outlinewidth\":0,\"ticks\":\"\"},\"colorscale\":[[0.0,\"#0d0887\"],[0.1111111111111111,\"#46039f\"],[0.2222222222222222,\"#7201a8\"],[0.3333333333333333,\"#9c179e\"],[0.4444444444444444,\"#bd3786\"],[0.5555555555555556,\"#d8576b\"],[0.6666666666666666,\"#ed7953\"],[0.7777777777777778,\"#fb9f3a\"],[0.8888888888888888,\"#fdca26\"],[1.0,\"#f0f921\"]]}],\"mesh3d\":[{\"type\":\"mesh3d\",\"colorbar\":{\"outlinewidth\":0,\"ticks\":\"\"}}],\"scatter\":[{\"fillpattern\":{\"fillmode\":\"overlay\",\"size\":10,\"solidity\":0.2},\"type\":\"scatter\"}],\"parcoords\":[{\"type\":\"parcoords\",\"line\":{\"colorbar\":{\"outlinewidth\":0,\"ticks\":\"\"}}}],\"scatterpolargl\":[{\"type\":\"scatterpolargl\",\"marker\":{\"colorbar\":{\"outlinewidth\":0,\"ticks\":\"\"}}}],\"bar\":[{\"error_x\":{\"color\":\"#2a3f5f\"},\"error_y\":{\"color\":\"#2a3f5f\"},\"marker\":{\"line\":{\"color\":\"#E5ECF6\",\"width\":0.5},\"pattern\":{\"fillmode\":\"overlay\",\"size\":10,\"solidity\":0.2}},\"type\":\"bar\"}],\"scattergeo\":[{\"type\":\"scattergeo\",\"marker\":{\"colorbar\":{\"outlinewidth\":0,\"ticks\":\"\"}}}],\"scatterpolar\":[{\"type\":\"scatterpolar\",\"marker\":{\"colorbar\":{\"outlinewidth\":0,\"ticks\":\"\"}}}],\"histogram\":[{\"marker\":{\"pattern\":{\"fillmode\":\"overlay\",\"size\":10,\"solidity\":0.2}},\"type\":\"histogram\"}],\"scattergl\":[{\"type\":\"scattergl\",\"marker\":{\"colorbar\":{\"outlinewidth\":0,\"ticks\":\"\"}}}],\"scatter3d\":[{\"type\":\"scatter3d\",\"line\":{\"colorbar\":{\"outlinewidth\":0,\"ticks\":\"\"}},\"marker\":{\"colorbar\":{\"outlinewidth\":0,\"ticks\":\"\"}}}],\"scattermapbox\":[{\"type\":\"scattermapbox\",\"marker\":{\"colorbar\":{\"outlinewidth\":0,\"ticks\":\"\"}}}],\"scatterternary\":[{\"type\":\"scatterternary\",\"marker\":{\"colorbar\":{\"outlinewidth\":0,\"ticks\":\"\"}}}],\"scattercarpet\":[{\"type\":\"scattercarpet\",\"marker\":{\"colorbar\":{\"outlinewidth\":0,\"ticks\":\"\"}}}],\"carpet\":[{\"aaxis\":{\"endlinecolor\":\"#2a3f5f\",\"gridcolor\":\"white\",\"linecolor\":\"white\",\"minorgridcolor\":\"white\",\"startlinecolor\":\"#2a3f5f\"},\"baxis\":{\"endlinecolor\":\"#2a3f5f\",\"gridcolor\":\"white\",\"linecolor\":\"white\",\"minorgridcolor\":\"white\",\"startlinecolor\":\"#2a3f5f\"},\"type\":\"carpet\"}],\"table\":[{\"cells\":{\"fill\":{\"color\":\"#EBF0F8\"},\"line\":{\"color\":\"white\"}},\"header\":{\"fill\":{\"color\":\"#C8D4E3\"},\"line\":{\"color\":\"white\"}},\"type\":\"table\"}],\"barpolar\":[{\"marker\":{\"line\":{\"color\":\"#E5ECF6\",\"width\":0.5},\"pattern\":{\"fillmode\":\"overlay\",\"size\":10,\"solidity\":0.2}},\"type\":\"barpolar\"}],\"pie\":[{\"automargin\":true,\"type\":\"pie\"}]},\"layout\":{\"autotypenumbers\":\"strict\",\"colorway\":[\"#636efa\",\"#EF553B\",\"#00cc96\",\"#ab63fa\",\"#FFA15A\",\"#19d3f3\",\"#FF6692\",\"#B6E880\",\"#FF97FF\",\"#FECB52\"],\"font\":{\"color\":\"#2a3f5f\"},\"hovermode\":\"closest\",\"hoverlabel\":{\"align\":\"left\"},\"paper_bgcolor\":\"white\",\"plot_bgcolor\":\"#E5ECF6\",\"polar\":{\"bgcolor\":\"#E5ECF6\",\"angularaxis\":{\"gridcolor\":\"white\",\"linecolor\":\"white\",\"ticks\":\"\"},\"radialaxis\":{\"gridcolor\":\"white\",\"linecolor\":\"white\",\"ticks\":\"\"}},\"ternary\":{\"bgcolor\":\"#E5ECF6\",\"aaxis\":{\"gridcolor\":\"white\",\"linecolor\":\"white\",\"ticks\":\"\"},\"baxis\":{\"gridcolor\":\"white\",\"linecolor\":\"white\",\"ticks\":\"\"},\"caxis\":{\"gridcolor\":\"white\",\"linecolor\":\"white\",\"ticks\":\"\"}},\"coloraxis\":{\"colorbar\":{\"outlinewidth\":0,\"ticks\":\"\"}},\"colorscale\":{\"sequential\":[[0.0,\"#0d0887\"],[0.1111111111111111,\"#46039f\"],[0.2222222222222222,\"#7201a8\"],[0.3333333333333333,\"#9c179e\"],[0.4444444444444444,\"#bd3786\"],[0.5555555555555556,\"#d8576b\"],[0.6666666666666666,\"#ed7953\"],[0.7777777777777778,\"#fb9f3a\"],[0.8888888888888888,\"#fdca26\"],[1.0,\"#f0f921\"]],\"sequentialminus\":[[0.0,\"#0d0887\"],[0.1111111111111111,\"#46039f\"],[0.2222222222222222,\"#7201a8\"],[0.3333333333333333,\"#9c179e\"],[0.4444444444444444,\"#bd3786\"],[0.5555555555555556,\"#d8576b\"],[0.6666666666666666,\"#ed7953\"],[0.7777777777777778,\"#fb9f3a\"],[0.8888888888888888,\"#fdca26\"],[1.0,\"#f0f921\"]],\"diverging\":[[0,\"#8e0152\"],[0.1,\"#c51b7d\"],[0.2,\"#de77ae\"],[0.3,\"#f1b6da\"],[0.4,\"#fde0ef\"],[0.5,\"#f7f7f7\"],[0.6,\"#e6f5d0\"],[0.7,\"#b8e186\"],[0.8,\"#7fbc41\"],[0.9,\"#4d9221\"],[1,\"#276419\"]]},\"xaxis\":{\"gridcolor\":\"white\",\"linecolor\":\"white\",\"ticks\":\"\",\"title\":{\"standoff\":15},\"zerolinecolor\":\"white\",\"automargin\":true,\"zerolinewidth\":2},\"yaxis\":{\"gridcolor\":\"white\",\"linecolor\":\"white\",\"ticks\":\"\",\"title\":{\"standoff\":15},\"zerolinecolor\":\"white\",\"automargin\":true,\"zerolinewidth\":2},\"scene\":{\"xaxis\":{\"backgroundcolor\":\"#E5ECF6\",\"gridcolor\":\"white\",\"linecolor\":\"white\",\"showbackground\":true,\"ticks\":\"\",\"zerolinecolor\":\"white\",\"gridwidth\":2},\"yaxis\":{\"backgroundcolor\":\"#E5ECF6\",\"gridcolor\":\"white\",\"linecolor\":\"white\",\"showbackground\":true,\"ticks\":\"\",\"zerolinecolor\":\"white\",\"gridwidth\":2},\"zaxis\":{\"backgroundcolor\":\"#E5ECF6\",\"gridcolor\":\"white\",\"linecolor\":\"white\",\"showbackground\":true,\"ticks\":\"\",\"zerolinecolor\":\"white\",\"gridwidth\":2}},\"shapedefaults\":{\"line\":{\"color\":\"#2a3f5f\"}},\"annotationdefaults\":{\"arrowcolor\":\"#2a3f5f\",\"arrowhead\":0,\"arrowwidth\":1},\"geo\":{\"bgcolor\":\"white\",\"landcolor\":\"#E5ECF6\",\"subunitcolor\":\"white\",\"showland\":true,\"showlakes\":true,\"lakecolor\":\"white\"},\"title\":{\"x\":0.05},\"mapbox\":{\"style\":\"light\"}}},\"xaxis\":{\"title\":{\"text\":\"Setup (role_delimiter)\"},\"tickangle\":45},\"title\":{\"text\":\"Chat vs Base Model Perplexity by Setup\"},\"yaxis\":{\"title\":{\"text\":\"Perplexity\"}},\"barmode\":\"group\"},                        {\"responsive\": true}                    ).then(function(){\n",
       "                            \n",
       "var gd = document.getElementById('00931d8d-2751-4b62-9634-da08a5bb9f2c');\n",
       "var x = new MutationObserver(function (mutations, observer) {{\n",
       "        var display = window.getComputedStyle(gd).display;\n",
       "        if (!display || display === 'none') {{\n",
       "            console.log([gd, 'removed!']);\n",
       "            Plotly.purge(gd);\n",
       "            observer.disconnect();\n",
       "        }}\n",
       "}});\n",
       "\n",
       "// Listen for the removal of the full notebook cells\n",
       "var notebookContainer = gd.closest('#notebook-container');\n",
       "if (notebookContainer) {{\n",
       "    x.observe(notebookContainer, {childList: true});\n",
       "}}\n",
       "\n",
       "// Listen for the clearing of the current output cell\n",
       "var outputEl = gd.closest('.output');\n",
       "if (outputEl) {{\n",
       "    x.observe(outputEl, {childList: true});\n",
       "}}\n",
       "\n",
       "                        })                };                });            </script>        </div>"
      ]
     },
     "metadata": {},
     "output_type": "display_data"
    },
    {
     "data": {
      "application/vnd.plotly.v1+json": {
       "config": {
        "plotlyServerURL": "https://plot.ly"
       },
       "data": [
        {
         "colorscale": [
          [
           0,
           "#440154"
          ],
          [
           0.1111111111111111,
           "#482878"
          ],
          [
           0.2222222222222222,
           "#3e4989"
          ],
          [
           0.3333333333333333,
           "#31688e"
          ],
          [
           0.4444444444444444,
           "#26828e"
          ],
          [
           0.5555555555555556,
           "#1f9e89"
          ],
          [
           0.6666666666666666,
           "#35b779"
          ],
          [
           0.7777777777777778,
           "#6ece58"
          ],
          [
           0.8888888888888888,
           "#b5de2b"
          ],
          [
           1,
           "#fde725"
          ]
         ],
         "type": "heatmap",
         "x": [
          "4chan",
          "assistant",
          "assistant_assistant",
          "assistant_human",
          "default",
          "human",
          "human_human",
          "model_model",
          "user_user"
         ],
         "xaxis": "x",
         "y": [
          "blockquote",
          "code",
          "default",
          "em"
         ],
         "yaxis": "y",
         "z": [
          [
           1.7697546482086182,
           1.7328985929489136,
           1.7257509231567383,
           1.725720763206482,
           1.7051117420196533,
           1.7082468271255493,
           1.7513128519058228,
           1.7136582136154175,
           1.8262327909469604
          ],
          [
           1.804092526435852,
           1.7512983083724976,
           1.7568117380142212,
           1.7582143545150757,
           1.7436140775680542,
           1.7499325275421143,
           1.7843654155731201,
           1.7520023584365845,
           1.8427560329437256
          ],
          [
           1.7820202112197876,
           1.770410418510437,
           1.790511131286621,
           1.7812808752059937,
           1.791695237159729,
           1.7948956489562988,
           1.7806179523468018,
           1.8034725189208984,
           1.7871555089950562
          ],
          [
           1.8473061323165894,
           1.7783923149108887,
           1.769699215888977,
           1.7670871019363403,
           1.74146568775177,
           1.745435118675232,
           1.8025809526443481,
           1.7483105659484863,
           1.8595629930496216
          ]
         ],
         "zmax": 2.8391847610473633,
         "zmin": 1.7051117420196533
        },
        {
         "colorscale": [
          [
           0,
           "#440154"
          ],
          [
           0.1111111111111111,
           "#482878"
          ],
          [
           0.2222222222222222,
           "#3e4989"
          ],
          [
           0.3333333333333333,
           "#31688e"
          ],
          [
           0.4444444444444444,
           "#26828e"
          ],
          [
           0.5555555555555556,
           "#1f9e89"
          ],
          [
           0.6666666666666666,
           "#35b779"
          ],
          [
           0.7777777777777778,
           "#6ece58"
          ],
          [
           0.8888888888888888,
           "#b5de2b"
          ],
          [
           1,
           "#fde725"
          ]
         ],
         "type": "heatmap",
         "x": [
          "4chan",
          "assistant",
          "assistant_assistant",
          "assistant_human",
          "default",
          "human",
          "human_human",
          "model_model",
          "user_user"
         ],
         "xaxis": "x2",
         "y": [
          "blockquote",
          "code",
          "default",
          "em"
         ],
         "yaxis": "y2",
         "z": [
          [
           2.775181293487549,
           2.777271270751953,
           2.7848947048187256,
           2.787280797958374,
           2.7766058444976807,
           2.7893638610839844,
           2.7845618724823,
           2.7868449687957764,
           2.782728433609009
          ],
          [
           2.751699447631836,
           2.754904270172119,
           2.758120536804199,
           2.766491413116455,
           2.7438766956329346,
           2.7556087970733643,
           2.758375644683838,
           2.7484641075134277,
           2.748138427734375
          ],
          [
           2.8000190258026123,
           2.8292222023010254,
           2.8272273540496826,
           2.837888240814209,
           2.830446481704712,
           2.8391847610473633,
           2.830183744430542,
           2.825697898864746,
           2.825362205505371
          ],
          [
           2.802053213119507,
           2.766742467880249,
           2.797370672225952,
           2.792029619216919,
           2.7560105323791504,
           2.786501169204712,
           2.7955687046051025,
           2.791524887084961,
           2.7778775691986084
          ]
         ],
         "zmax": 2.8391847610473633,
         "zmin": 1.7051117420196533
        }
       ],
       "layout": {
        "annotations": [
         {
          "font": {
           "size": 16
          },
          "showarrow": false,
          "text": "Chat Model Perplexity",
          "x": 0.225,
          "xanchor": "center",
          "xref": "paper",
          "y": 1,
          "yanchor": "bottom",
          "yref": "paper"
         },
         {
          "font": {
           "size": 16
          },
          "showarrow": false,
          "text": "Base Model Perplexity",
          "x": 0.775,
          "xanchor": "center",
          "xref": "paper",
          "y": 1,
          "yanchor": "bottom",
          "yref": "paper"
         }
        ],
        "height": 600,
        "template": {
         "data": {
          "bar": [
           {
            "error_x": {
             "color": "#2a3f5f"
            },
            "error_y": {
             "color": "#2a3f5f"
            },
            "marker": {
             "line": {
              "color": "#E5ECF6",
              "width": 0.5
             },
             "pattern": {
              "fillmode": "overlay",
              "size": 10,
              "solidity": 0.2
             }
            },
            "type": "bar"
           }
          ],
          "barpolar": [
           {
            "marker": {
             "line": {
              "color": "#E5ECF6",
              "width": 0.5
             },
             "pattern": {
              "fillmode": "overlay",
              "size": 10,
              "solidity": 0.2
             }
            },
            "type": "barpolar"
           }
          ],
          "carpet": [
           {
            "aaxis": {
             "endlinecolor": "#2a3f5f",
             "gridcolor": "white",
             "linecolor": "white",
             "minorgridcolor": "white",
             "startlinecolor": "#2a3f5f"
            },
            "baxis": {
             "endlinecolor": "#2a3f5f",
             "gridcolor": "white",
             "linecolor": "white",
             "minorgridcolor": "white",
             "startlinecolor": "#2a3f5f"
            },
            "type": "carpet"
           }
          ],
          "choropleth": [
           {
            "colorbar": {
             "outlinewidth": 0,
             "ticks": ""
            },
            "type": "choropleth"
           }
          ],
          "contour": [
           {
            "colorbar": {
             "outlinewidth": 0,
             "ticks": ""
            },
            "colorscale": [
             [
              0,
              "#0d0887"
             ],
             [
              0.1111111111111111,
              "#46039f"
             ],
             [
              0.2222222222222222,
              "#7201a8"
             ],
             [
              0.3333333333333333,
              "#9c179e"
             ],
             [
              0.4444444444444444,
              "#bd3786"
             ],
             [
              0.5555555555555556,
              "#d8576b"
             ],
             [
              0.6666666666666666,
              "#ed7953"
             ],
             [
              0.7777777777777778,
              "#fb9f3a"
             ],
             [
              0.8888888888888888,
              "#fdca26"
             ],
             [
              1,
              "#f0f921"
             ]
            ],
            "type": "contour"
           }
          ],
          "contourcarpet": [
           {
            "colorbar": {
             "outlinewidth": 0,
             "ticks": ""
            },
            "type": "contourcarpet"
           }
          ],
          "heatmap": [
           {
            "colorbar": {
             "outlinewidth": 0,
             "ticks": ""
            },
            "colorscale": [
             [
              0,
              "#0d0887"
             ],
             [
              0.1111111111111111,
              "#46039f"
             ],
             [
              0.2222222222222222,
              "#7201a8"
             ],
             [
              0.3333333333333333,
              "#9c179e"
             ],
             [
              0.4444444444444444,
              "#bd3786"
             ],
             [
              0.5555555555555556,
              "#d8576b"
             ],
             [
              0.6666666666666666,
              "#ed7953"
             ],
             [
              0.7777777777777778,
              "#fb9f3a"
             ],
             [
              0.8888888888888888,
              "#fdca26"
             ],
             [
              1,
              "#f0f921"
             ]
            ],
            "type": "heatmap"
           }
          ],
          "heatmapgl": [
           {
            "colorbar": {
             "outlinewidth": 0,
             "ticks": ""
            },
            "colorscale": [
             [
              0,
              "#0d0887"
             ],
             [
              0.1111111111111111,
              "#46039f"
             ],
             [
              0.2222222222222222,
              "#7201a8"
             ],
             [
              0.3333333333333333,
              "#9c179e"
             ],
             [
              0.4444444444444444,
              "#bd3786"
             ],
             [
              0.5555555555555556,
              "#d8576b"
             ],
             [
              0.6666666666666666,
              "#ed7953"
             ],
             [
              0.7777777777777778,
              "#fb9f3a"
             ],
             [
              0.8888888888888888,
              "#fdca26"
             ],
             [
              1,
              "#f0f921"
             ]
            ],
            "type": "heatmapgl"
           }
          ],
          "histogram": [
           {
            "marker": {
             "pattern": {
              "fillmode": "overlay",
              "size": 10,
              "solidity": 0.2
             }
            },
            "type": "histogram"
           }
          ],
          "histogram2d": [
           {
            "colorbar": {
             "outlinewidth": 0,
             "ticks": ""
            },
            "colorscale": [
             [
              0,
              "#0d0887"
             ],
             [
              0.1111111111111111,
              "#46039f"
             ],
             [
              0.2222222222222222,
              "#7201a8"
             ],
             [
              0.3333333333333333,
              "#9c179e"
             ],
             [
              0.4444444444444444,
              "#bd3786"
             ],
             [
              0.5555555555555556,
              "#d8576b"
             ],
             [
              0.6666666666666666,
              "#ed7953"
             ],
             [
              0.7777777777777778,
              "#fb9f3a"
             ],
             [
              0.8888888888888888,
              "#fdca26"
             ],
             [
              1,
              "#f0f921"
             ]
            ],
            "type": "histogram2d"
           }
          ],
          "histogram2dcontour": [
           {
            "colorbar": {
             "outlinewidth": 0,
             "ticks": ""
            },
            "colorscale": [
             [
              0,
              "#0d0887"
             ],
             [
              0.1111111111111111,
              "#46039f"
             ],
             [
              0.2222222222222222,
              "#7201a8"
             ],
             [
              0.3333333333333333,
              "#9c179e"
             ],
             [
              0.4444444444444444,
              "#bd3786"
             ],
             [
              0.5555555555555556,
              "#d8576b"
             ],
             [
              0.6666666666666666,
              "#ed7953"
             ],
             [
              0.7777777777777778,
              "#fb9f3a"
             ],
             [
              0.8888888888888888,
              "#fdca26"
             ],
             [
              1,
              "#f0f921"
             ]
            ],
            "type": "histogram2dcontour"
           }
          ],
          "mesh3d": [
           {
            "colorbar": {
             "outlinewidth": 0,
             "ticks": ""
            },
            "type": "mesh3d"
           }
          ],
          "parcoords": [
           {
            "line": {
             "colorbar": {
              "outlinewidth": 0,
              "ticks": ""
             }
            },
            "type": "parcoords"
           }
          ],
          "pie": [
           {
            "automargin": true,
            "type": "pie"
           }
          ],
          "scatter": [
           {
            "fillpattern": {
             "fillmode": "overlay",
             "size": 10,
             "solidity": 0.2
            },
            "type": "scatter"
           }
          ],
          "scatter3d": [
           {
            "line": {
             "colorbar": {
              "outlinewidth": 0,
              "ticks": ""
             }
            },
            "marker": {
             "colorbar": {
              "outlinewidth": 0,
              "ticks": ""
             }
            },
            "type": "scatter3d"
           }
          ],
          "scattercarpet": [
           {
            "marker": {
             "colorbar": {
              "outlinewidth": 0,
              "ticks": ""
             }
            },
            "type": "scattercarpet"
           }
          ],
          "scattergeo": [
           {
            "marker": {
             "colorbar": {
              "outlinewidth": 0,
              "ticks": ""
             }
            },
            "type": "scattergeo"
           }
          ],
          "scattergl": [
           {
            "marker": {
             "colorbar": {
              "outlinewidth": 0,
              "ticks": ""
             }
            },
            "type": "scattergl"
           }
          ],
          "scattermapbox": [
           {
            "marker": {
             "colorbar": {
              "outlinewidth": 0,
              "ticks": ""
             }
            },
            "type": "scattermapbox"
           }
          ],
          "scatterpolar": [
           {
            "marker": {
             "colorbar": {
              "outlinewidth": 0,
              "ticks": ""
             }
            },
            "type": "scatterpolar"
           }
          ],
          "scatterpolargl": [
           {
            "marker": {
             "colorbar": {
              "outlinewidth": 0,
              "ticks": ""
             }
            },
            "type": "scatterpolargl"
           }
          ],
          "scatterternary": [
           {
            "marker": {
             "colorbar": {
              "outlinewidth": 0,
              "ticks": ""
             }
            },
            "type": "scatterternary"
           }
          ],
          "surface": [
           {
            "colorbar": {
             "outlinewidth": 0,
             "ticks": ""
            },
            "colorscale": [
             [
              0,
              "#0d0887"
             ],
             [
              0.1111111111111111,
              "#46039f"
             ],
             [
              0.2222222222222222,
              "#7201a8"
             ],
             [
              0.3333333333333333,
              "#9c179e"
             ],
             [
              0.4444444444444444,
              "#bd3786"
             ],
             [
              0.5555555555555556,
              "#d8576b"
             ],
             [
              0.6666666666666666,
              "#ed7953"
             ],
             [
              0.7777777777777778,
              "#fb9f3a"
             ],
             [
              0.8888888888888888,
              "#fdca26"
             ],
             [
              1,
              "#f0f921"
             ]
            ],
            "type": "surface"
           }
          ],
          "table": [
           {
            "cells": {
             "fill": {
              "color": "#EBF0F8"
             },
             "line": {
              "color": "white"
             }
            },
            "header": {
             "fill": {
              "color": "#C8D4E3"
             },
             "line": {
              "color": "white"
             }
            },
            "type": "table"
           }
          ]
         },
         "layout": {
          "annotationdefaults": {
           "arrowcolor": "#2a3f5f",
           "arrowhead": 0,
           "arrowwidth": 1
          },
          "autotypenumbers": "strict",
          "coloraxis": {
           "colorbar": {
            "outlinewidth": 0,
            "ticks": ""
           }
          },
          "colorscale": {
           "diverging": [
            [
             0,
             "#8e0152"
            ],
            [
             0.1,
             "#c51b7d"
            ],
            [
             0.2,
             "#de77ae"
            ],
            [
             0.3,
             "#f1b6da"
            ],
            [
             0.4,
             "#fde0ef"
            ],
            [
             0.5,
             "#f7f7f7"
            ],
            [
             0.6,
             "#e6f5d0"
            ],
            [
             0.7,
             "#b8e186"
            ],
            [
             0.8,
             "#7fbc41"
            ],
            [
             0.9,
             "#4d9221"
            ],
            [
             1,
             "#276419"
            ]
           ],
           "sequential": [
            [
             0,
             "#0d0887"
            ],
            [
             0.1111111111111111,
             "#46039f"
            ],
            [
             0.2222222222222222,
             "#7201a8"
            ],
            [
             0.3333333333333333,
             "#9c179e"
            ],
            [
             0.4444444444444444,
             "#bd3786"
            ],
            [
             0.5555555555555556,
             "#d8576b"
            ],
            [
             0.6666666666666666,
             "#ed7953"
            ],
            [
             0.7777777777777778,
             "#fb9f3a"
            ],
            [
             0.8888888888888888,
             "#fdca26"
            ],
            [
             1,
             "#f0f921"
            ]
           ],
           "sequentialminus": [
            [
             0,
             "#0d0887"
            ],
            [
             0.1111111111111111,
             "#46039f"
            ],
            [
             0.2222222222222222,
             "#7201a8"
            ],
            [
             0.3333333333333333,
             "#9c179e"
            ],
            [
             0.4444444444444444,
             "#bd3786"
            ],
            [
             0.5555555555555556,
             "#d8576b"
            ],
            [
             0.6666666666666666,
             "#ed7953"
            ],
            [
             0.7777777777777778,
             "#fb9f3a"
            ],
            [
             0.8888888888888888,
             "#fdca26"
            ],
            [
             1,
             "#f0f921"
            ]
           ]
          },
          "colorway": [
           "#636efa",
           "#EF553B",
           "#00cc96",
           "#ab63fa",
           "#FFA15A",
           "#19d3f3",
           "#FF6692",
           "#B6E880",
           "#FF97FF",
           "#FECB52"
          ],
          "font": {
           "color": "#2a3f5f"
          },
          "geo": {
           "bgcolor": "white",
           "lakecolor": "white",
           "landcolor": "#E5ECF6",
           "showlakes": true,
           "showland": true,
           "subunitcolor": "white"
          },
          "hoverlabel": {
           "align": "left"
          },
          "hovermode": "closest",
          "mapbox": {
           "style": "light"
          },
          "paper_bgcolor": "white",
          "plot_bgcolor": "#E5ECF6",
          "polar": {
           "angularaxis": {
            "gridcolor": "white",
            "linecolor": "white",
            "ticks": ""
           },
           "bgcolor": "#E5ECF6",
           "radialaxis": {
            "gridcolor": "white",
            "linecolor": "white",
            "ticks": ""
           }
          },
          "scene": {
           "xaxis": {
            "backgroundcolor": "#E5ECF6",
            "gridcolor": "white",
            "gridwidth": 2,
            "linecolor": "white",
            "showbackground": true,
            "ticks": "",
            "zerolinecolor": "white"
           },
           "yaxis": {
            "backgroundcolor": "#E5ECF6",
            "gridcolor": "white",
            "gridwidth": 2,
            "linecolor": "white",
            "showbackground": true,
            "ticks": "",
            "zerolinecolor": "white"
           },
           "zaxis": {
            "backgroundcolor": "#E5ECF6",
            "gridcolor": "white",
            "gridwidth": 2,
            "linecolor": "white",
            "showbackground": true,
            "ticks": "",
            "zerolinecolor": "white"
           }
          },
          "shapedefaults": {
           "line": {
            "color": "#2a3f5f"
           }
          },
          "ternary": {
           "aaxis": {
            "gridcolor": "white",
            "linecolor": "white",
            "ticks": ""
           },
           "baxis": {
            "gridcolor": "white",
            "linecolor": "white",
            "ticks": ""
           },
           "bgcolor": "#E5ECF6",
           "caxis": {
            "gridcolor": "white",
            "linecolor": "white",
            "ticks": ""
           }
          },
          "title": {
           "x": 0.05
          },
          "xaxis": {
           "automargin": true,
           "gridcolor": "white",
           "linecolor": "white",
           "ticks": "",
           "title": {
            "standoff": 15
           },
           "zerolinecolor": "white",
           "zerolinewidth": 2
          },
          "yaxis": {
           "automargin": true,
           "gridcolor": "white",
           "linecolor": "white",
           "ticks": "",
           "title": {
            "standoff": 15
           },
           "zerolinecolor": "white",
           "zerolinewidth": 2
          }
         }
        },
        "title": {
         "text": "Perplexity Heatmaps: Chat vs Base Model"
        },
        "xaxis": {
         "anchor": "y",
         "domain": [
          0,
          0.45
         ]
        },
        "xaxis2": {
         "anchor": "y2",
         "domain": [
          0.55,
          1
         ]
        },
        "yaxis": {
         "anchor": "x",
         "domain": [
          0,
          1
         ]
        },
        "yaxis2": {
         "anchor": "x2",
         "domain": [
          0,
          1
         ]
        }
       }
      },
      "text/html": [
       "<div>                            <div id=\"064640dd-ada4-4103-a316-098bd1243fe2\" class=\"plotly-graph-div\" style=\"height:600px; width:100%;\"></div>            <script type=\"text/javascript\">                require([\"plotly\"], function(Plotly) {                    window.PLOTLYENV=window.PLOTLYENV || {};                                    if (document.getElementById(\"064640dd-ada4-4103-a316-098bd1243fe2\")) {                    Plotly.newPlot(                        \"064640dd-ada4-4103-a316-098bd1243fe2\",                        [{\"colorscale\":[[0.0,\"#440154\"],[0.1111111111111111,\"#482878\"],[0.2222222222222222,\"#3e4989\"],[0.3333333333333333,\"#31688e\"],[0.4444444444444444,\"#26828e\"],[0.5555555555555556,\"#1f9e89\"],[0.6666666666666666,\"#35b779\"],[0.7777777777777778,\"#6ece58\"],[0.8888888888888888,\"#b5de2b\"],[1.0,\"#fde725\"]],\"x\":[\"4chan\",\"assistant\",\"assistant_assistant\",\"assistant_human\",\"default\",\"human\",\"human_human\",\"model_model\",\"user_user\"],\"y\":[\"blockquote\",\"code\",\"default\",\"em\"],\"z\":[[1.7697546482086182,1.7328985929489136,1.7257509231567383,1.725720763206482,1.7051117420196533,1.7082468271255493,1.7513128519058228,1.7136582136154175,1.8262327909469604],[1.804092526435852,1.7512983083724976,1.7568117380142212,1.7582143545150757,1.7436140775680542,1.7499325275421143,1.7843654155731201,1.7520023584365845,1.8427560329437256],[1.7820202112197876,1.770410418510437,1.790511131286621,1.7812808752059937,1.791695237159729,1.7948956489562988,1.7806179523468018,1.8034725189208984,1.7871555089950562],[1.8473061323165894,1.7783923149108887,1.769699215888977,1.7670871019363403,1.74146568775177,1.745435118675232,1.8025809526443481,1.7483105659484863,1.8595629930496216]],\"zmax\":2.8391847610473633,\"zmin\":1.7051117420196533,\"type\":\"heatmap\",\"xaxis\":\"x\",\"yaxis\":\"y\"},{\"colorscale\":[[0.0,\"#440154\"],[0.1111111111111111,\"#482878\"],[0.2222222222222222,\"#3e4989\"],[0.3333333333333333,\"#31688e\"],[0.4444444444444444,\"#26828e\"],[0.5555555555555556,\"#1f9e89\"],[0.6666666666666666,\"#35b779\"],[0.7777777777777778,\"#6ece58\"],[0.8888888888888888,\"#b5de2b\"],[1.0,\"#fde725\"]],\"x\":[\"4chan\",\"assistant\",\"assistant_assistant\",\"assistant_human\",\"default\",\"human\",\"human_human\",\"model_model\",\"user_user\"],\"y\":[\"blockquote\",\"code\",\"default\",\"em\"],\"z\":[[2.775181293487549,2.777271270751953,2.7848947048187256,2.787280797958374,2.7766058444976807,2.7893638610839844,2.7845618724823,2.7868449687957764,2.782728433609009],[2.751699447631836,2.754904270172119,2.758120536804199,2.766491413116455,2.7438766956329346,2.7556087970733643,2.758375644683838,2.7484641075134277,2.748138427734375],[2.8000190258026123,2.8292222023010254,2.8272273540496826,2.837888240814209,2.830446481704712,2.8391847610473633,2.830183744430542,2.825697898864746,2.825362205505371],[2.802053213119507,2.766742467880249,2.797370672225952,2.792029619216919,2.7560105323791504,2.786501169204712,2.7955687046051025,2.791524887084961,2.7778775691986084]],\"zmax\":2.8391847610473633,\"zmin\":1.7051117420196533,\"type\":\"heatmap\",\"xaxis\":\"x2\",\"yaxis\":\"y2\"}],                        {\"template\":{\"data\":{\"histogram2dcontour\":[{\"type\":\"histogram2dcontour\",\"colorbar\":{\"outlinewidth\":0,\"ticks\":\"\"},\"colorscale\":[[0.0,\"#0d0887\"],[0.1111111111111111,\"#46039f\"],[0.2222222222222222,\"#7201a8\"],[0.3333333333333333,\"#9c179e\"],[0.4444444444444444,\"#bd3786\"],[0.5555555555555556,\"#d8576b\"],[0.6666666666666666,\"#ed7953\"],[0.7777777777777778,\"#fb9f3a\"],[0.8888888888888888,\"#fdca26\"],[1.0,\"#f0f921\"]]}],\"choropleth\":[{\"type\":\"choropleth\",\"colorbar\":{\"outlinewidth\":0,\"ticks\":\"\"}}],\"histogram2d\":[{\"type\":\"histogram2d\",\"colorbar\":{\"outlinewidth\":0,\"ticks\":\"\"},\"colorscale\":[[0.0,\"#0d0887\"],[0.1111111111111111,\"#46039f\"],[0.2222222222222222,\"#7201a8\"],[0.3333333333333333,\"#9c179e\"],[0.4444444444444444,\"#bd3786\"],[0.5555555555555556,\"#d8576b\"],[0.6666666666666666,\"#ed7953\"],[0.7777777777777778,\"#fb9f3a\"],[0.8888888888888888,\"#fdca26\"],[1.0,\"#f0f921\"]]}],\"heatmap\":[{\"type\":\"heatmap\",\"colorbar\":{\"outlinewidth\":0,\"ticks\":\"\"},\"colorscale\":[[0.0,\"#0d0887\"],[0.1111111111111111,\"#46039f\"],[0.2222222222222222,\"#7201a8\"],[0.3333333333333333,\"#9c179e\"],[0.4444444444444444,\"#bd3786\"],[0.5555555555555556,\"#d8576b\"],[0.6666666666666666,\"#ed7953\"],[0.7777777777777778,\"#fb9f3a\"],[0.8888888888888888,\"#fdca26\"],[1.0,\"#f0f921\"]]}],\"heatmapgl\":[{\"type\":\"heatmapgl\",\"colorbar\":{\"outlinewidth\":0,\"ticks\":\"\"},\"colorscale\":[[0.0,\"#0d0887\"],[0.1111111111111111,\"#46039f\"],[0.2222222222222222,\"#7201a8\"],[0.3333333333333333,\"#9c179e\"],[0.4444444444444444,\"#bd3786\"],[0.5555555555555556,\"#d8576b\"],[0.6666666666666666,\"#ed7953\"],[0.7777777777777778,\"#fb9f3a\"],[0.8888888888888888,\"#fdca26\"],[1.0,\"#f0f921\"]]}],\"contourcarpet\":[{\"type\":\"contourcarpet\",\"colorbar\":{\"outlinewidth\":0,\"ticks\":\"\"}}],\"contour\":[{\"type\":\"contour\",\"colorbar\":{\"outlinewidth\":0,\"ticks\":\"\"},\"colorscale\":[[0.0,\"#0d0887\"],[0.1111111111111111,\"#46039f\"],[0.2222222222222222,\"#7201a8\"],[0.3333333333333333,\"#9c179e\"],[0.4444444444444444,\"#bd3786\"],[0.5555555555555556,\"#d8576b\"],[0.6666666666666666,\"#ed7953\"],[0.7777777777777778,\"#fb9f3a\"],[0.8888888888888888,\"#fdca26\"],[1.0,\"#f0f921\"]]}],\"surface\":[{\"type\":\"surface\",\"colorbar\":{\"outlinewidth\":0,\"ticks\":\"\"},\"colorscale\":[[0.0,\"#0d0887\"],[0.1111111111111111,\"#46039f\"],[0.2222222222222222,\"#7201a8\"],[0.3333333333333333,\"#9c179e\"],[0.4444444444444444,\"#bd3786\"],[0.5555555555555556,\"#d8576b\"],[0.6666666666666666,\"#ed7953\"],[0.7777777777777778,\"#fb9f3a\"],[0.8888888888888888,\"#fdca26\"],[1.0,\"#f0f921\"]]}],\"mesh3d\":[{\"type\":\"mesh3d\",\"colorbar\":{\"outlinewidth\":0,\"ticks\":\"\"}}],\"scatter\":[{\"fillpattern\":{\"fillmode\":\"overlay\",\"size\":10,\"solidity\":0.2},\"type\":\"scatter\"}],\"parcoords\":[{\"type\":\"parcoords\",\"line\":{\"colorbar\":{\"outlinewidth\":0,\"ticks\":\"\"}}}],\"scatterpolargl\":[{\"type\":\"scatterpolargl\",\"marker\":{\"colorbar\":{\"outlinewidth\":0,\"ticks\":\"\"}}}],\"bar\":[{\"error_x\":{\"color\":\"#2a3f5f\"},\"error_y\":{\"color\":\"#2a3f5f\"},\"marker\":{\"line\":{\"color\":\"#E5ECF6\",\"width\":0.5},\"pattern\":{\"fillmode\":\"overlay\",\"size\":10,\"solidity\":0.2}},\"type\":\"bar\"}],\"scattergeo\":[{\"type\":\"scattergeo\",\"marker\":{\"colorbar\":{\"outlinewidth\":0,\"ticks\":\"\"}}}],\"scatterpolar\":[{\"type\":\"scatterpolar\",\"marker\":{\"colorbar\":{\"outlinewidth\":0,\"ticks\":\"\"}}}],\"histogram\":[{\"marker\":{\"pattern\":{\"fillmode\":\"overlay\",\"size\":10,\"solidity\":0.2}},\"type\":\"histogram\"}],\"scattergl\":[{\"type\":\"scattergl\",\"marker\":{\"colorbar\":{\"outlinewidth\":0,\"ticks\":\"\"}}}],\"scatter3d\":[{\"type\":\"scatter3d\",\"line\":{\"colorbar\":{\"outlinewidth\":0,\"ticks\":\"\"}},\"marker\":{\"colorbar\":{\"outlinewidth\":0,\"ticks\":\"\"}}}],\"scattermapbox\":[{\"type\":\"scattermapbox\",\"marker\":{\"colorbar\":{\"outlinewidth\":0,\"ticks\":\"\"}}}],\"scatterternary\":[{\"type\":\"scatterternary\",\"marker\":{\"colorbar\":{\"outlinewidth\":0,\"ticks\":\"\"}}}],\"scattercarpet\":[{\"type\":\"scattercarpet\",\"marker\":{\"colorbar\":{\"outlinewidth\":0,\"ticks\":\"\"}}}],\"carpet\":[{\"aaxis\":{\"endlinecolor\":\"#2a3f5f\",\"gridcolor\":\"white\",\"linecolor\":\"white\",\"minorgridcolor\":\"white\",\"startlinecolor\":\"#2a3f5f\"},\"baxis\":{\"endlinecolor\":\"#2a3f5f\",\"gridcolor\":\"white\",\"linecolor\":\"white\",\"minorgridcolor\":\"white\",\"startlinecolor\":\"#2a3f5f\"},\"type\":\"carpet\"}],\"table\":[{\"cells\":{\"fill\":{\"color\":\"#EBF0F8\"},\"line\":{\"color\":\"white\"}},\"header\":{\"fill\":{\"color\":\"#C8D4E3\"},\"line\":{\"color\":\"white\"}},\"type\":\"table\"}],\"barpolar\":[{\"marker\":{\"line\":{\"color\":\"#E5ECF6\",\"width\":0.5},\"pattern\":{\"fillmode\":\"overlay\",\"size\":10,\"solidity\":0.2}},\"type\":\"barpolar\"}],\"pie\":[{\"automargin\":true,\"type\":\"pie\"}]},\"layout\":{\"autotypenumbers\":\"strict\",\"colorway\":[\"#636efa\",\"#EF553B\",\"#00cc96\",\"#ab63fa\",\"#FFA15A\",\"#19d3f3\",\"#FF6692\",\"#B6E880\",\"#FF97FF\",\"#FECB52\"],\"font\":{\"color\":\"#2a3f5f\"},\"hovermode\":\"closest\",\"hoverlabel\":{\"align\":\"left\"},\"paper_bgcolor\":\"white\",\"plot_bgcolor\":\"#E5ECF6\",\"polar\":{\"bgcolor\":\"#E5ECF6\",\"angularaxis\":{\"gridcolor\":\"white\",\"linecolor\":\"white\",\"ticks\":\"\"},\"radialaxis\":{\"gridcolor\":\"white\",\"linecolor\":\"white\",\"ticks\":\"\"}},\"ternary\":{\"bgcolor\":\"#E5ECF6\",\"aaxis\":{\"gridcolor\":\"white\",\"linecolor\":\"white\",\"ticks\":\"\"},\"baxis\":{\"gridcolor\":\"white\",\"linecolor\":\"white\",\"ticks\":\"\"},\"caxis\":{\"gridcolor\":\"white\",\"linecolor\":\"white\",\"ticks\":\"\"}},\"coloraxis\":{\"colorbar\":{\"outlinewidth\":0,\"ticks\":\"\"}},\"colorscale\":{\"sequential\":[[0.0,\"#0d0887\"],[0.1111111111111111,\"#46039f\"],[0.2222222222222222,\"#7201a8\"],[0.3333333333333333,\"#9c179e\"],[0.4444444444444444,\"#bd3786\"],[0.5555555555555556,\"#d8576b\"],[0.6666666666666666,\"#ed7953\"],[0.7777777777777778,\"#fb9f3a\"],[0.8888888888888888,\"#fdca26\"],[1.0,\"#f0f921\"]],\"sequentialminus\":[[0.0,\"#0d0887\"],[0.1111111111111111,\"#46039f\"],[0.2222222222222222,\"#7201a8\"],[0.3333333333333333,\"#9c179e\"],[0.4444444444444444,\"#bd3786\"],[0.5555555555555556,\"#d8576b\"],[0.6666666666666666,\"#ed7953\"],[0.7777777777777778,\"#fb9f3a\"],[0.8888888888888888,\"#fdca26\"],[1.0,\"#f0f921\"]],\"diverging\":[[0,\"#8e0152\"],[0.1,\"#c51b7d\"],[0.2,\"#de77ae\"],[0.3,\"#f1b6da\"],[0.4,\"#fde0ef\"],[0.5,\"#f7f7f7\"],[0.6,\"#e6f5d0\"],[0.7,\"#b8e186\"],[0.8,\"#7fbc41\"],[0.9,\"#4d9221\"],[1,\"#276419\"]]},\"xaxis\":{\"gridcolor\":\"white\",\"linecolor\":\"white\",\"ticks\":\"\",\"title\":{\"standoff\":15},\"zerolinecolor\":\"white\",\"automargin\":true,\"zerolinewidth\":2},\"yaxis\":{\"gridcolor\":\"white\",\"linecolor\":\"white\",\"ticks\":\"\",\"title\":{\"standoff\":15},\"zerolinecolor\":\"white\",\"automargin\":true,\"zerolinewidth\":2},\"scene\":{\"xaxis\":{\"backgroundcolor\":\"#E5ECF6\",\"gridcolor\":\"white\",\"linecolor\":\"white\",\"showbackground\":true,\"ticks\":\"\",\"zerolinecolor\":\"white\",\"gridwidth\":2},\"yaxis\":{\"backgroundcolor\":\"#E5ECF6\",\"gridcolor\":\"white\",\"linecolor\":\"white\",\"showbackground\":true,\"ticks\":\"\",\"zerolinecolor\":\"white\",\"gridwidth\":2},\"zaxis\":{\"backgroundcolor\":\"#E5ECF6\",\"gridcolor\":\"white\",\"linecolor\":\"white\",\"showbackground\":true,\"ticks\":\"\",\"zerolinecolor\":\"white\",\"gridwidth\":2}},\"shapedefaults\":{\"line\":{\"color\":\"#2a3f5f\"}},\"annotationdefaults\":{\"arrowcolor\":\"#2a3f5f\",\"arrowhead\":0,\"arrowwidth\":1},\"geo\":{\"bgcolor\":\"white\",\"landcolor\":\"#E5ECF6\",\"subunitcolor\":\"white\",\"showland\":true,\"showlakes\":true,\"lakecolor\":\"white\"},\"title\":{\"x\":0.05},\"mapbox\":{\"style\":\"light\"}}},\"xaxis\":{\"anchor\":\"y\",\"domain\":[0.0,0.45]},\"yaxis\":{\"anchor\":\"x\",\"domain\":[0.0,1.0]},\"xaxis2\":{\"anchor\":\"y2\",\"domain\":[0.55,1.0]},\"yaxis2\":{\"anchor\":\"x2\",\"domain\":[0.0,1.0]},\"annotations\":[{\"font\":{\"size\":16},\"showarrow\":false,\"text\":\"Chat Model Perplexity\",\"x\":0.225,\"xanchor\":\"center\",\"xref\":\"paper\",\"y\":1.0,\"yanchor\":\"bottom\",\"yref\":\"paper\"},{\"font\":{\"size\":16},\"showarrow\":false,\"text\":\"Base Model Perplexity\",\"x\":0.775,\"xanchor\":\"center\",\"xref\":\"paper\",\"y\":1.0,\"yanchor\":\"bottom\",\"yref\":\"paper\"}],\"title\":{\"text\":\"Perplexity Heatmaps: Chat vs Base Model\"},\"height\":600},                        {\"responsive\": true}                    ).then(function(){\n",
       "                            \n",
       "var gd = document.getElementById('064640dd-ada4-4103-a316-098bd1243fe2');\n",
       "var x = new MutationObserver(function (mutations, observer) {{\n",
       "        var display = window.getComputedStyle(gd).display;\n",
       "        if (!display || display === 'none') {{\n",
       "            console.log([gd, 'removed!']);\n",
       "            Plotly.purge(gd);\n",
       "            observer.disconnect();\n",
       "        }}\n",
       "}});\n",
       "\n",
       "// Listen for the removal of the full notebook cells\n",
       "var notebookContainer = gd.closest('#notebook-container');\n",
       "if (notebookContainer) {{\n",
       "    x.observe(notebookContainer, {childList: true});\n",
       "}}\n",
       "\n",
       "// Listen for the clearing of the current output cell\n",
       "var outputEl = gd.closest('.output');\n",
       "if (outputEl) {{\n",
       "    x.observe(outputEl, {childList: true});\n",
       "}}\n",
       "\n",
       "                        })                };                });            </script>        </div>"
      ]
     },
     "metadata": {},
     "output_type": "display_data"
    }
   ],
   "source": [
    "results_generated = evaluate_all_templates(generated_dataset[\"train\"][\"messages\"], exp_name=\"generated\")\n",
    "plot_results(results_generated)"
   ]
  },
  {
   "cell_type": "markdown",
   "metadata": {},
   "source": [
    "## interactive viz"
   ]
  },
  {
   "cell_type": "code",
   "execution_count": 41,
   "metadata": {},
   "outputs": [],
   "source": [
    "from tiny_dashboard.visualization_utils import activation_visualization\n",
    "from utils import compute_entropy\n",
    "\n",
    "text_examples = dataset[:4] + generated_dataset[\"train\"][\"messages\"][:4]\n",
    "\n",
    "\n",
    "def get_batch(convs, template, device):\n",
    "    batch = chat_model.tokenizer.apply_chat_template(\n",
    "        convs,\n",
    "        chat_template=template,\n",
    "        return_dict=True,\n",
    "        return_tensors=\"pt\",\n",
    "        return_assistant_tokens_mask=True,\n",
    "        truncation=True,\n",
    "        max_length=1024,\n",
    "        padding=True,\n",
    "    )\n",
    "    batch[\"input_ids\"] = batch[\"input_ids\"].to(device)\n",
    "    batch[\"attention_mask\"] = batch[\"attention_mask\"].to(device)\n",
    "    batch[\"assistant_masks\"] = th.tensor(batch[\"assistant_masks\"], dtype=th.bool).to(\n",
    "        device\n",
    "    )\n",
    "    return batch"
   ]
  },
  {
   "cell_type": "code",
   "execution_count": 51,
   "metadata": {},
   "outputs": [
    {
     "ename": "IndexError",
     "evalue": "The shape of the mask [1024] at index 0 does not match the shape of the indexed tensor [3803] at index 0",
     "output_type": "error",
     "traceback": [
      "\u001b[0;31m---------------------------------------------------------------------------\u001b[0m",
      "\u001b[0;31mIndexError\u001b[0m                                Traceback (most recent call last)",
      "Cell \u001b[0;32mIn[51], line 37\u001b[0m\n\u001b[1;32m     33\u001b[0m base_entropy_per_batch \u001b[38;5;241m=\u001b[39m []\n\u001b[1;32m     35\u001b[0m \u001b[38;5;28;01mfor\u001b[39;00m batch_id \u001b[38;5;129;01min\u001b[39;00m \u001b[38;5;28mrange\u001b[39m(chat_batch[\u001b[38;5;124m\"\u001b[39m\u001b[38;5;124minput_ids\u001b[39m\u001b[38;5;124m\"\u001b[39m]\u001b[38;5;241m.\u001b[39msize(\u001b[38;5;241m0\u001b[39m)):\n\u001b[1;32m     36\u001b[0m     \u001b[38;5;66;03m# Chat model cross entropy\u001b[39;00m\n\u001b[0;32m---> 37\u001b[0m     ce \u001b[38;5;241m=\u001b[39m \u001b[43mchat_ce\u001b[49m\u001b[43m[\u001b[49m\u001b[43mchat_batch\u001b[49m\u001b[43m[\u001b[49m\u001b[38;5;124;43m\"\u001b[39;49m\u001b[38;5;124;43massistant_masks\u001b[39;49m\u001b[38;5;124;43m\"\u001b[39;49m\u001b[43m]\u001b[49m\u001b[43m[\u001b[49m\u001b[43mbatch_id\u001b[49m\u001b[43m]\u001b[49m\u001b[43m]\u001b[49m\n\u001b[1;32m     38\u001b[0m     acts \u001b[38;5;241m=\u001b[39m th\u001b[38;5;241m.\u001b[39mfull_like(chat_batch[\u001b[38;5;124m\"\u001b[39m\u001b[38;5;124minput_ids\u001b[39m\u001b[38;5;124m\"\u001b[39m][batch_id], th\u001b[38;5;241m.\u001b[39mnan, dtype\u001b[38;5;241m=\u001b[39mce\u001b[38;5;241m.\u001b[39mdtype)\n\u001b[1;32m     39\u001b[0m     acts[chat_batch[\u001b[38;5;124m\"\u001b[39m\u001b[38;5;124massistant_masks\u001b[39m\u001b[38;5;124m\"\u001b[39m][batch_id]] \u001b[38;5;241m=\u001b[39m ce\n",
      "\u001b[0;31mIndexError\u001b[0m: The shape of the mask [1024] at index 0 does not match the shape of the indexed tensor [3803] at index 0"
     ]
    }
   ],
   "source": [
    "# Precompute activations for each template\n",
    "template_acts = {}\n",
    "template_entropy_acts = {}\n",
    "demo_templates = {\n",
    "    \"default\": templates[(\"default\", \"default\")],\n",
    "    \"blockquote\": templates[(\"default\", \"blockquote\")],\n",
    "    \"em\": templates[(\"default\", \"em\")],\n",
    "    # \"4chan_code\": templates[(\"4chan\", \"code\")],\n",
    "}\n",
    "for template_name, template in demo_templates.items():\n",
    "    base_batch = get_batch(text_examples, template, base_device)\n",
    "    chat_batch = get_batch(text_examples, template, chat_device)\n",
    "    \n",
    "    # Compute masks\n",
    "    chat_entropy_mask = th.zeros_like(chat_batch[\"assistant_masks\"], dtype=th.bool)\n",
    "    chat_entropy_mask[:, :-1] = chat_batch[\"assistant_masks\"][:, 1:]\n",
    "    chat_entropy_mask = chat_entropy_mask.to(chat_device)\n",
    "    \n",
    "    base_entropy_mask = th.zeros_like(base_batch[\"assistant_masks\"], dtype=th.bool)\n",
    "    base_entropy_mask[:, :-1] = base_batch[\"assistant_masks\"][:, 1:]\n",
    "    base_entropy_mask = base_entropy_mask.to(base_device)\n",
    "\n",
    "    # Compute metrics\n",
    "    base_ce = compute_cross_entropy(base_batch, base_model, base_batch[\"assistant_masks\"])\n",
    "    chat_ce = compute_cross_entropy(chat_batch, chat_model, chat_batch[\"assistant_masks\"])\n",
    "    chat_entropy = compute_entropy(chat_batch, chat_model, chat_entropy_mask)\n",
    "    base_entropy = compute_entropy(base_batch, base_model, base_entropy_mask)\n",
    "\n",
    "    # Split by batch\n",
    "    chat_ce_per_batch = []\n",
    "    chat_entropy_per_batch = []\n",
    "    base_ce_per_batch = []\n",
    "    base_entropy_per_batch = []\n",
    "    \n",
    "    for batch_id in range(chat_batch[\"input_ids\"].size(0)):\n",
    "        # Chat model cross entropy\n",
    "        ce = chat_ce[chat_batch[\"assistant_masks\"][batch_id]]\n",
    "        acts = th.full_like(chat_batch[\"input_ids\"][batch_id], th.nan, dtype=ce.dtype)\n",
    "        acts[chat_batch[\"assistant_masks\"][batch_id]] = ce\n",
    "        chat_ce_per_batch.append(acts.cpu())\n",
    "        \n",
    "        # Base model cross entropy\n",
    "        ce = base_ce[base_batch[\"assistant_masks\"][batch_id]]\n",
    "        acts = th.full_like(base_batch[\"input_ids\"][batch_id], th.nan, dtype=ce.dtype)\n",
    "        acts[base_batch[\"assistant_masks\"][batch_id]] = ce\n",
    "        base_ce_per_batch.append(acts.cpu())\n",
    "        \n",
    "        # Chat model entropy\n",
    "        entropy = chat_entropy[chat_entropy_mask[batch_id]]\n",
    "        acts = th.full_like(chat_batch[\"input_ids\"][batch_id], th.nan, dtype=entropy.dtype)\n",
    "        acts[chat_entropy_mask[batch_id]] = entropy\n",
    "        chat_entropy_per_batch.append(acts.cpu())\n",
    "        \n",
    "        # Base model entropy\n",
    "        entropy = base_entropy[base_entropy_mask[batch_id]]\n",
    "        acts = th.full_like(base_batch[\"input_ids\"][batch_id], th.nan, dtype=entropy.dtype)\n",
    "        acts[base_entropy_mask[batch_id]] = entropy\n",
    "        base_entropy_per_batch.append(acts.cpu())\n",
    "\n",
    "    # Stack activations\n",
    "    all_models_acts = [th.stack([chat_ce_per_batch[i], base_ce_per_batch[i]], dim=0) \n",
    "                      for i in range(len(chat_ce_per_batch))]\n",
    "    all_models_entropy = [th.stack([chat_entropy_per_batch[i], base_entropy_per_batch[i]], dim=0) \n",
    "                         for i in range(len(chat_entropy_per_batch))]\n",
    "    \n",
    "    template_acts[template_name] = all_models_acts\n",
    "    template_entropy_acts[template_name] = all_models_entropy\n",
    "\n"
   ]
  },
  {
   "cell_type": "code",
   "execution_count": null,
   "metadata": {},
   "outputs": [],
   "source": [
    "# Create interactive widget\n",
    "from ipywidgets import interact, widgets\n",
    "from IPython.display import clear_output\n",
    "\n",
    "\n",
    "@interact(\n",
    "    template=widgets.Dropdown(\n",
    "        options=list(templates.keys()),\n",
    "        value=(\"default\", \"default\"),\n",
    "        description='Template'\n",
    "    ),\n",
    "    entropy=widgets.Checkbox(\n",
    "        value=True, \n",
    "        description='Use Chat entropy'\n",
    "    ),\n",
    "    batch_id=widgets.IntSlider(\n",
    "        min=0, \n",
    "        max=len(text_examples)-1, \n",
    "        step=1, \n",
    "        value=0, \n",
    "        description='Batch ID'\n",
    "    )\n",
    ")\n",
    "def viz_with_controls(template, entropy, batch_id):\n",
    "    clear_output(wait=True)\n",
    "    acts = template_entropy_acts[template][batch_id] if entropy else template_acts[template][batch_id]\n",
    "    \n",
    "    # Get tokens from chat batch\n",
    "    chat_batch = get_batch(text_examples, templates[template], chat_device)\n",
    "    tokens = chat_model.tokenizer.convert_ids_to_tokens(chat_batch[\"input_ids\"][batch_id].cpu().tolist())\n",
    "    \n",
    "    title = f\"{'All' if entropy else 'All'} Model Cross Entropy on {batch_id}\"\n",
    "    title += f\" ({template[0]}/{template[1]})\" + (\" (Chat entropy)\" if entropy else \"\")\n",
    "    \n",
    "    html = activation_visualization(\n",
    "        tokens,\n",
    "        acts.transpose(0,1),\n",
    "        chat_model.tokenizer,\n",
    "        title=title,\n",
    "        color2=(255,0,0),\n",
    "        relative_normalization=False,\n",
    "    )\n",
    "    display(HTML(html))"
   ]
  },
  {
   "cell_type": "code",
   "execution_count": 48,
   "metadata": {},
   "outputs": [
    {
     "data": {
      "application/vnd.jupyter.widget-view+json": {
       "model_id": "f83a20e70a1247bf9f9db5d6fcf466a6",
       "version_major": 2,
       "version_minor": 0
      },
      "text/plain": [
       "interactive(children=(Checkbox(value=True, description='Use Chat entropy'), IntSlider(value=0, description='Ba…"
      ]
     },
     "metadata": {},
     "output_type": "display_data"
    }
   ],
   "source": [
    "template = templates[(\"default\", \"default\")]\n",
    "base_batch = get_batch(text_examples, template, base_device)\n",
    "chat_batch = get_batch(text_examples, template, chat_device)\n",
    "chat_entropy_mask = th.zeros_like(chat_batch[\"assistant_masks\"], dtype=th.bool)\n",
    "chat_entropy_mask[:, :-1] = chat_batch[\"assistant_masks\"][:, 1:]\n",
    "chat_entropy_mask = chat_entropy_mask.to(chat_device)\n",
    "base_ce = compute_cross_entropy(base_batch, base_model, base_batch[\"assistant_masks\"])\n",
    "chat_ce = compute_cross_entropy(chat_batch, chat_model, chat_batch[\"assistant_masks\"])\n",
    "chat_entropy = compute_entropy(chat_batch, chat_model, chat_entropy_mask)\n",
    "base_entropy_mask = th.zeros_like(base_batch[\"assistant_masks\"], dtype=th.bool)\n",
    "base_entropy_mask[:, :-1] = base_batch[\"assistant_masks\"][:, 1:]\n",
    "base_entropy_mask = base_entropy_mask.to(base_device)\n",
    "base_entropy = compute_entropy(base_batch, base_model, base_entropy_mask)\n",
    "batch_idx = (\n",
    "    th.arange(chat_batch[\"input_ids\"].size(0), device=chat_batch[\"input_ids\"].device)\n",
    "    .unsqueeze(1)\n",
    "    .expand_as(chat_batch[\"assistant_masks\"])\n",
    ")\n",
    "batch_idx_masked = batch_idx[\n",
    "    chat_batch[\"assistant_masks\"]\n",
    "]  # This will be 1D with same length as x\n",
    "batch_idx_entropy = (\n",
    "    th.arange(chat_batch[\"input_ids\"].size(0), device=chat_batch[\"input_ids\"].device)\n",
    "    .unsqueeze(1)\n",
    "    .expand_as(chat_entropy_mask)\n",
    ")\n",
    "batch_idx_masked_entropy = batch_idx_entropy[\n",
    "    chat_entropy_mask\n",
    "]  # This will be 1D with same length as x\n",
    "chat_ce_per_batch = [\n",
    "    chat_ce[batch_idx_masked == i] for i in range(chat_batch[\"input_ids\"].size(0))\n",
    "]\n",
    "chat_entropy_per_batch = [\n",
    "    chat_entropy[batch_idx_masked_entropy == i]\n",
    "    for i in range(chat_batch[\"input_ids\"].size(0))\n",
    "]\n",
    "\n",
    "batch_idx = (\n",
    "    th.arange(base_batch[\"input_ids\"].size(0), device=base_batch[\"input_ids\"].device)\n",
    "    .unsqueeze(1)\n",
    "    .expand_as(base_batch[\"assistant_masks\"])\n",
    ")\n",
    "batch_idx_masked = batch_idx[\n",
    "    base_batch[\"assistant_masks\"]\n",
    "]  # This will be 1D with same length as x\n",
    "batch_idx_entropy = (\n",
    "    th.arange(base_batch[\"input_ids\"].size(0), device=base_batch[\"input_ids\"].device)\n",
    "    .unsqueeze(1)\n",
    "    .expand_as(base_entropy_mask)\n",
    ")\n",
    "batch_idx_masked_entropy = batch_idx_entropy[\n",
    "    base_entropy_mask\n",
    "]  # This will be 1D with same length as x\n",
    "base_ce_per_batch = [\n",
    "    base_ce[batch_idx_masked == i] for i in range(base_batch[\"input_ids\"].size(0))\n",
    "]\n",
    "base_entropy_per_batch = [\n",
    "    base_entropy[batch_idx_masked_entropy == i]\n",
    "    for i in range(base_batch[\"input_ids\"].size(0))\n",
    "]\n",
    "from IPython.display import HTML\n",
    "\n",
    "chat_acts = []\n",
    "base_acts = []\n",
    "chat_entropy_acts = []\n",
    "base_entropy_acts = []\n",
    "for batch_id in range(len(chat_ce_per_batch)):\n",
    "    # Chat model activations\n",
    "    ce = chat_ce_per_batch[batch_id]\n",
    "    acts = th.full_like(chat_batch[\"input_ids\"][batch_id], th.nan, dtype=ce.dtype)\n",
    "    acts[chat_batch[\"assistant_masks\"][batch_id]] = ce\n",
    "    chat_acts.append(acts.cpu())\n",
    "\n",
    "    # Base model activations\n",
    "    ce = base_ce_per_batch[batch_id]\n",
    "    acts = th.full_like(base_batch[\"input_ids\"][batch_id], th.nan, dtype=ce.dtype)\n",
    "    acts[base_batch[\"assistant_masks\"][batch_id]] = ce\n",
    "    base_acts.append(acts.cpu())\n",
    "\n",
    "    # Chat model entropy\n",
    "    entropy = chat_entropy_per_batch[batch_id]\n",
    "    acts = th.full_like(chat_batch[\"input_ids\"][batch_id], th.nan, dtype=entropy.dtype)\n",
    "    acts[chat_entropy_mask[batch_id]] = entropy\n",
    "    chat_entropy_acts.append(acts.cpu())\n",
    "\n",
    "    # Base model entropy\n",
    "    entropy = base_entropy_per_batch[batch_id]\n",
    "    acts = th.full_like(base_batch[\"input_ids\"][batch_id], th.nan, dtype=entropy.dtype)\n",
    "    acts[base_entropy_mask[batch_id]] = entropy\n",
    "    base_entropy_acts.append(acts.cpu())\n",
    "# make that a (batch, 2, seq_len) tensor where 2 is the chat and base model\n",
    "all_models_acts = [\n",
    "    th.stack([chat_acts[i], base_acts[i]], dim=0) for i in range(len(chat_acts))\n",
    "]\n",
    "chat_acts_entropy = [\n",
    "    th.stack([chat_acts[i], chat_entropy_acts[i]], dim=0) for i in range(len(chat_acts))\n",
    "]\n",
    "all_models_entropy = [\n",
    "    th.stack([chat_entropy_acts[i], base_entropy_acts[i]], dim=0)\n",
    "    for i in range(len(chat_acts))\n",
    "]\n",
    "from ipywidgets import interact, widgets\n",
    "from IPython.display import clear_output\n",
    "\n",
    "\n",
    "@interact(\n",
    "    entropy=widgets.Checkbox(value=True, description=\"Use Chat entropy\"),\n",
    "    batch_id=widgets.IntSlider(\n",
    "        min=0, max=len(chat_ce_per_batch) - 1, step=1, value=0, description=\"Batch ID\"\n",
    "    ),\n",
    ")\n",
    "def viz_with_controls(entropy, batch_id):\n",
    "    clear_output(wait=True)  # Clear previous output\n",
    "    acts = all_models_entropy[batch_id] if entropy else all_models_acts[batch_id]\n",
    "    tokens = chat_model.tokenizer.convert_ids_to_tokens(\n",
    "        chat_batch[\"input_ids\"][batch_id].cpu().tolist()\n",
    "    )\n",
    "    print(acts.shape)\n",
    "    html = activation_visualization(\n",
    "        tokens,\n",
    "        acts.transpose(0, 1),\n",
    "        chat_model.tokenizer,\n",
    "        title=f\"{'All' if entropy else 'All'} Model Cross Entropy on {batch_id}\"\n",
    "        + (f\" (Chat entropy)\" if entropy else \"\"),\n",
    "        relative_normalization=False,\n",
    "    )\n",
    "    display(HTML(html))"
   ]
  },
  {
   "cell_type": "code",
   "execution_count": 54,
   "metadata": {},
   "outputs": [
    {
     "name": "stdout",
     "output_type": "stream",
     "text": [
      "Chat entropy: 1.0009765625\n",
      "Base entropy: 0.9755859375\n",
      "mean abs diff: 0.378173828125\n",
      "chat ce median: 0.27685546875\n",
      "base ce median: 0.2105712890625\n",
      "chat ce mean: 1.1201171875\n",
      "base ce mean: 0.9853515625\n",
      "chat perplexity median: 2.072265625\n",
      "base perplexity median: 1.9453125\n",
      "chat perplexity mean: 2.720703125\n",
      "base perplexity mean: 2.65234375\n"
     ]
    }
   ],
   "source": [
    "print(f\"Chat entropy: {chat_entropy.mean().item()}\")\n",
    "print(f\"Base entropy: {base_entropy.mean().item()}\")\n",
    "print(f\"mean abs diff: {(chat_entropy.cpu() - base_entropy.cpu()).abs().mean().item()}\")\n",
    "print(f\"chat ce median: {chat_ce.median().item()}\")\n",
    "print(f\"base ce median: {base_ce.median().item()}\")\n",
    "print(f\"chat ce mean: {chat_ce.mean().item()}\")\n",
    "print(f\"base ce mean: {base_ce.mean().item()}\")\n",
    "print(f\"chat perplexity median: {th.exp(chat_entropy.median()).item()}\")\n",
    "print(f\"base perplexity median: {th.exp(base_entropy.median()).item()}\")\n",
    "print(f\"chat perplexity mean: {th.exp(chat_entropy.mean()).item()}\")\n",
    "print(f\"base perplexity mean: {th.exp(base_entropy.mean()).item()}\")\n"
   ]
  },
  {
   "cell_type": "code",
   "execution_count": 72,
   "metadata": {},
   "outputs": [
    {
     "data": {
      "text/html": [
       "<!DOCTYPE html>\n",
       "<html>\n",
       "<head>\n",
       "    <title>Model Cross Entropy on 4</title>\n",
       "    <style>\n",
       "        .token {\n",
       "    --original-gradient: linear-gradient(to bottom, var(--top-color) 50%, var(--bottom-color) 50%);\n",
       "    background: var(--original-gradient);\n",
       "    transition: background-color 0.1s;\n",
       "    position: relative;\n",
       "    display: inline;\n",
       "    padding: 0;\n",
       "    line-height: 1;\n",
       "    vertical-align: baseline;\n",
       "}\n",
       "\n",
       ".token:hover {\n",
       "    background-image:\n",
       "        linear-gradient(rgba(128, 128, 128, 0.3), rgba(128, 128, 128, 0.3)),\n",
       "        var(--original-gradient);\n",
       "}\n",
       "\n",
       ".token-tooltip {\n",
       "    position: absolute;\n",
       "    background: black;\n",
       "    color: white;\n",
       "    padding: 4px 8px;\n",
       "    border-radius: 4px;\n",
       "    font-size: 12px;\n",
       "    pointer-events: none;\n",
       "    z-index: 1000;\n",
       "    white-space: pre-wrap;\n",
       "}\n",
       "\n",
       ".feature-section {\n",
       "    margin: 20px 0;\n",
       "    padding: 10px;\n",
       "    border: 1px solid #ccc;\n",
       "}\n",
       "\n",
       ".text-sample {\n",
       "    word-wrap: break-word;\n",
       "    /* Allows long words to break and wrap onto the next line */\n",
       "    overflow-wrap: break-word;\n",
       "    /* Ensures compatibility with different browsers */\n",
       "    cursor: pointer;\n",
       "    /* Add pointer cursor to indicate interactivity */\n",
       "}\n",
       "\n",
       ".text-sample::after {\n",
       "    content: \"Right-click to copy\";\n",
       "    display: block;\n",
       "    color: gray;\n",
       "    font-size: 0.8em;\n",
       "    margin-top: 5px;\n",
       "    font-style: italic;\n",
       "}\n",
       "\n",
       ".text-sample.copied::after {\n",
       "    content: \"Copied!\";\n",
       "}\n",
       "\n",
       "/* Style the \"Click to expand\" text to match */\n",
       ".expand-collapse-text {\n",
       "    color: gray !important;\n",
       "    font-size: 0.8em !important;\n",
       "    margin-top: 5px !important;\n",
       "    font-style: italic !important;\n",
       "    margin-bottom: 0 !important;\n",
       "}\n",
       "\n",
       ".split-token {\n",
       "    position: relative;\n",
       "    display: inline;\n",
       "    color: #000;\n",
       "    line-height: 1;\n",
       "    vertical-align: baseline;\n",
       "}\n",
       "\n",
       ".split-token::before,\n",
       ".split-token::after {\n",
       "    content: '';\n",
       "    position: absolute;\n",
       "    left: 0;\n",
       "    width: 100%;\n",
       "    height: 50%;\n",
       "    z-index: -1;\n",
       "    transition: background-color 0.1s;\n",
       "    box-sizing: border-box;\n",
       "    top: 0;\n",
       "}\n",
       "\n",
       ".split-token::after {\n",
       "    top: 50%;\n",
       "}\n",
       "\n",
       ".split-token:hover::before,\n",
       ".split-token:hover::after {\n",
       "    background-image: none;\n",
       "    background-color: rgba(128, 128, 128, 0.3);\n",
       "}\n",
       "    </style>\n",
       "</head>\n",
       "<body>\n",
       "    <div class=\"dashboard\">\n",
       "        <div class=\"example-container\" style=\"margin: 10px 0; padding: 10px; border: 1px solid #ccc;\">\n",
       "    <p style=\"margin: 0 0 2px 0;\"><b>Max Activation: 30.44</b></p>\n",
       "    <div class=\"text-sample\" data-expanded=\"false\" data-static=\"true\" \n",
       "         onclick=\"window.toggleText(this)\" \n",
       "         oncontextmenu=\"window.copyExampleToClipboard(event, this)\">\n",
       "        <div class=\"collapsed-text\"><span class=\"token\" style=\"--top-color: rgba(255, 0, 0, 0.000); --bottom-color: rgba(255, 0, 0, 0.000);\" data-tooltip=\"Token 2: '&lt;bos&gt;'\n",
       "Feature 0: nan\n",
       "Feature 1: nan\" data-tokenstr=\"&lt;bos&gt;\">&lt;bos&gt;</span><span class=\"token\" style=\"--top-color: rgba(255, 0, 0, 0.000); --bottom-color: rgba(255, 0, 0, 0.000);\" data-tooltip=\"Token 106: '&lt;start_of_turn&gt;'\n",
       "Feature 0: nan\n",
       "Feature 1: nan\" data-tokenstr=\"&lt;start_of_turn&gt;\">&lt;start_of_turn&gt;</span><span class=\"token\" style=\"--top-color: rgba(255, 0, 0, 0.000); --bottom-color: rgba(255, 0, 0, 0.000);\" data-tooltip=\"Token 1645: 'user'\n",
       "Feature 0: nan\n",
       "Feature 1: nan\" data-tokenstr=\"user\">user</span><span class=\"token\" style=\"--top-color: rgba(255, 0, 0, 0.000); --bottom-color: rgba(255, 0, 0, 0.000);\" data-tooltip=\"Token 108: '\\n'\n",
       "Feature 0: nan\n",
       "Feature 1: nan\" data-tokenstr=\"&#10;\">\\n<br></span><span class=\"token\" style=\"--top-color: rgba(255, 0, 0, 0.000); --bottom-color: rgba(255, 0, 0, 0.000);\" data-tooltip=\"Token 4912: 'Create'\n",
       "Feature 0: nan\n",
       "Feature 1: nan\" data-tokenstr=\"Create\">Create</span><span class=\"token\" style=\"--top-color: rgba(255, 0, 0, 0.000); --bottom-color: rgba(255, 0, 0, 0.000);\" data-tooltip=\"Token 476: ' a'\n",
       "Feature 0: nan\n",
       "Feature 1: nan\" data-tokenstr=\" a\">&nbsp;a</span><span class=\"token\" style=\"--top-color: rgba(255, 0, 0, 0.000); --bottom-color: rgba(255, 0, 0, 0.000);\" data-tooltip=\"Token 474: ' t'\n",
       "Feature 0: nan\n",
       "Feature 1: nan\" data-tokenstr=\" t\">&nbsp;t</span><span class=\"token\" style=\"--top-color: rgba(255, 0, 0, 0.000); --bottom-color: rgba(255, 0, 0, 0.000);\" data-tooltip=\"Token 235290: '-'\n",
       "Feature 0: nan\n",
       "Feature 1: nan\" data-tokenstr=\"-\">-</span><span class=\"token\" style=\"--top-color: rgba(255, 0, 0, 0.000); --bottom-color: rgba(255, 0, 0, 0.000);\" data-tooltip=\"Token 27593: 'shirt'\n",
       "Feature 0: nan\n",
       "Feature 1: nan\" data-tokenstr=\"shirt\">shirt</span><span class=\"token\" style=\"--top-color: rgba(255, 0, 0, 0.000); --bottom-color: rgba(255, 0, 0, 0.000);\" data-tooltip=\"Token 2480: ' design'\n",
       "Feature 0: nan\n",
       "Feature 1: nan\" data-tokenstr=\" design\">&nbsp;design</span><span class=\"token\" style=\"--top-color: rgba(255, 0, 0, 0.000); --bottom-color: rgba(255, 0, 0, 0.000);\" data-tooltip=\"Token 674: ' that'\n",
       "Feature 0: nan\n",
       "Feature 1: nan\" data-tokenstr=\" that\">&nbsp;that</span><span class=\"token\" style=\"--top-color: rgba(255, 0, 0, 0.000); --bottom-color: rgba(255, 0, 0, 0.000);\" data-tooltip=\"Token 34917: ' raises'\n",
       "Feature 0: nan\n",
       "Feature 1: nan\" data-tokenstr=\" raises\">&nbsp;raises</span><span class=\"token\" style=\"--top-color: rgba(255, 0, 0, 0.000); --bottom-color: rgba(255, 0, 0, 0.000);\" data-tooltip=\"Token 17512: ' awareness'\n",
       "Feature 0: nan\n",
       "Feature 1: nan\" data-tokenstr=\" awareness\">&nbsp;awareness</span><span class=\"token\" style=\"--top-color: rgba(255, 0, 0, 0.000); --bottom-color: rgba(255, 0, 0, 0.000);\" data-tooltip=\"Token 604: ' for'\n",
       "Feature 0: nan\n",
       "Feature 1: nan\" data-tokenstr=\" for\">&nbsp;for</span><span class=\"token\" style=\"--top-color: rgba(255, 0, 0, 0.000); --bottom-color: rgba(255, 0, 0, 0.000);\" data-tooltip=\"Token 8205: ' animal'\n",
       "Feature 0: nan\n",
       "Feature 1: nan\" data-tokenstr=\" animal\">&nbsp;animal</span><span class=\"token\" style=\"--top-color: rgba(255, 0, 0, 0.000); --bottom-color: rgba(255, 0, 0, 0.000);\" data-tooltip=\"Token 5691: ' rights'\n",
       "Feature 0: nan\n",
       "Feature 1: nan\" data-tokenstr=\" rights\">&nbsp;rights</span><span class=\"token\" style=\"--top-color: rgba(255, 0, 0, 0.000); --bottom-color: rgba(255, 0, 0, 0.000);\" data-tooltip=\"Token 731: ' by'\n",
       "Feature 0: nan\n",
       "Feature 1: nan\" data-tokenstr=\" by\">&nbsp;by</span><span class=\"token\" style=\"--top-color: rgba(255, 0, 0, 0.000); --bottom-color: rgba(255, 0, 0, 0.000);\" data-tooltip=\"Token 3359: ' including'\n",
       "Feature 0: nan\n",
       "Feature 1: nan\" data-tokenstr=\" including\">&nbsp;including</span><span class=\"token\" style=\"--top-color: rgba(255, 0, 0, 0.000); --bottom-color: rgba(255, 0, 0, 0.000);\" data-tooltip=\"Token 476: ' a'\n",
       "Feature 0: nan\n",
       "Feature 1: nan\" data-tokenstr=\" a\">&nbsp;a</span><span class=\"token\" style=\"--top-color: rgba(255, 0, 0, 0.000); --bottom-color: rgba(255, 0, 0, 0.000);\" data-tooltip=\"Token 16740: ' bold'\n",
       "Feature 0: nan\n",
       "Feature 1: nan\" data-tokenstr=\" bold\">&nbsp;bold</span><span class=\"token\" style=\"--top-color: rgba(255, 0, 0, 0.000); --bottom-color: rgba(255, 0, 0, 0.000);\" data-tooltip=\"Token 6218: ' statement'\n",
       "Feature 0: nan\n",
       "Feature 1: nan\" data-tokenstr=\" statement\">&nbsp;statement</span><span class=\"token\" style=\"--top-color: rgba(255, 0, 0, 0.000); --bottom-color: rgba(255, 0, 0, 0.000);\" data-tooltip=\"Token 689: ' or'\n",
       "Feature 0: nan\n",
       "Feature 1: nan\" data-tokenstr=\" or\">&nbsp;or</span><span class=\"token\" style=\"--top-color: rgba(255, 0, 0, 0.000); --bottom-color: rgba(255, 0, 0, 0.000);\" data-tooltip=\"Token 3969: ' message'\n",
       "Feature 0: nan\n",
       "Feature 1: nan\" data-tokenstr=\" message\">&nbsp;message</span><span class=\"token\" style=\"--top-color: rgba(255, 0, 0, 0.000); --bottom-color: rgba(255, 0, 0, 0.000);\" data-tooltip=\"Token 97275: ' advocating'\n",
       "Feature 0: nan\n",
       "Feature 1: nan\" data-tokenstr=\" advocating\">&nbsp;advocating</span><span class=\"token\" style=\"--top-color: rgba(255, 0, 0, 0.000); --bottom-color: rgba(255, 0, 0, 0.000);\" data-tooltip=\"Token 604: ' for'\n",
       "Feature 0: nan\n",
       "Feature 1: nan\" data-tokenstr=\" for\">&nbsp;for</span><span class=\"token\" style=\"--top-color: rgba(255, 0, 0, 0.000); --bottom-color: rgba(255, 0, 0, 0.000);\" data-tooltip=\"Token 8205: ' animal'\n",
       "Feature 0: nan\n",
       "Feature 1: nan\" data-tokenstr=\" animal\">&nbsp;animal</span><span class=\"token\" style=\"--top-color: rgba(255, 0, 0, 0.000); --bottom-color: rgba(255, 0, 0, 0.000);\" data-tooltip=\"Token 22086: ' welfare'\n",
       "Feature 0: nan\n",
       "Feature 1: nan\" data-tokenstr=\" welfare\">&nbsp;welfare</span><span class=\"token\" style=\"--top-color: rgba(255, 0, 0, 0.000); --bottom-color: rgba(255, 0, 0, 0.000);\" data-tooltip=\"Token 235269: ','\n",
       "Feature 0: nan\n",
       "Feature 1: nan\" data-tokenstr=\",\">,</span><span class=\"token\" style=\"--top-color: rgba(255, 0, 0, 0.000); --bottom-color: rgba(255, 0, 0, 0.000);\" data-tooltip=\"Token 2177: ' using'\n",
       "Feature 0: nan\n",
       "Feature 1: nan\" data-tokenstr=\" using\">&nbsp;using</span><span class=\"token\" style=\"--top-color: rgba(255, 0, 0, 0.000); --bottom-color: rgba(255, 0, 0, 0.000);\" data-tooltip=\"Token 8205: ' animal'\n",
       "Feature 0: nan\n",
       "Feature 1: nan\" data-tokenstr=\" animal\">&nbsp;animal</span><span class=\"token\" style=\"--top-color: rgba(255, 0, 0, 0.000); --bottom-color: rgba(255, 0, 0, 0.000);\" data-tooltip=\"Token 26371: ' prints'\n",
       "Feature 0: nan\n",
       "Feature 1: nan\" data-tokenstr=\" prints\">&nbsp;prints</span><span class=\"token\" style=\"--top-color: rgba(255, 0, 0, 0.000); --bottom-color: rgba(255, 0, 0, 0.000);\" data-tooltip=\"Token 689: ' or'\n",
       "Feature 0: nan\n",
       "Feature 1: nan\" data-tokenstr=\" or\">&nbsp;or</span><span class=\"token\" style=\"--top-color: rgba(255, 0, 0, 0.000); --bottom-color: rgba(255, 0, 0, 0.000);\" data-tooltip=\"Token 23932: ' illustrations'\n",
       "Feature 0: nan\n",
       "Feature 1: nan\" data-tokenstr=\" illustrations\">&nbsp;illustrations</span><span class=\"token\" style=\"--top-color: rgba(255, 0, 0, 0.000); --bottom-color: rgba(255, 0, 0, 0.000);\" data-tooltip=\"Token 235269: ','\n",
       "Feature 0: nan\n",
       "Feature 1: nan\" data-tokenstr=\",\">,</span><span class=\"token\" style=\"--top-color: rgba(255, 0, 0, 0.000); --bottom-color: rgba(255, 0, 0, 0.000);\" data-tooltip=\"Token 689: ' or'\n",
       "Feature 0: nan\n",
       "Feature 1: nan\" data-tokenstr=\" or\">&nbsp;or</span><span class=\"token\" style=\"--top-color: rgba(255, 0, 0, 0.000); --bottom-color: rgba(255, 0, 0, 0.000);\" data-tooltip=\"Token 159941: ' portraying'\n",
       "Feature 0: nan\n",
       "Feature 1: nan\" data-tokenstr=\" portraying\">&nbsp;portraying</span><span class=\"token\" style=\"--top-color: rgba(255, 0, 0, 0.000); --bottom-color: rgba(255, 0, 0, 0.000);\" data-tooltip=\"Token 8398: ' animals'\n",
       "Feature 0: nan\n",
       "Feature 1: nan\" data-tokenstr=\" animals\">&nbsp;animals</span><span class=\"token\" style=\"--top-color: rgba(255, 0, 0, 0.000); --bottom-color: rgba(255, 0, 0, 0.000);\" data-tooltip=\"Token 575: ' in'\n",
       "Feature 0: nan\n",
       "Feature 1: nan\" data-tokenstr=\" in\">&nbsp;in</span><span class=\"token\" style=\"--top-color: rgba(255, 0, 0, 0.000); --bottom-color: rgba(255, 0, 0, 0.000);\" data-tooltip=\"Token 476: ' a'\n",
       "Feature 0: nan\n",
       "Feature 1: nan\" data-tokenstr=\" a\">&nbsp;a</span><span class=\"token\" style=\"--top-color: rgba(255, 0, 0, 0.000); --bottom-color: rgba(255, 0, 0, 0.000);\" data-tooltip=\"Token 6222: ' positive'\n",
       "Feature 0: nan\n",
       "Feature 1: nan\" data-tokenstr=\" positive\">&nbsp;positive</span><span class=\"token\" style=\"--top-color: rgba(255, 0, 0, 0.000); --bottom-color: rgba(255, 0, 0, 0.000);\" data-tooltip=\"Token 1703: ' way'\n",
       "Feature 0: nan\n",
       "Feature 1: nan\" data-tokenstr=\" way\">&nbsp;way</span><span class=\"token\" style=\"--top-color: rgba(255, 0, 0, 0.000); --bottom-color: rgba(255, 0, 0, 0.000);\" data-tooltip=\"Token 235265: '.'\n",
       "Feature 0: nan\n",
       "Feature 1: nan\" data-tokenstr=\".\">.</span><span class=\"token\" style=\"--top-color: rgba(255, 0, 0, 0.000); --bottom-color: rgba(255, 0, 0, 0.000);\" data-tooltip=\"Token 51611: ' Incorpor'\n",
       "Feature 0: nan\n",
       "Feature 1: nan\" data-tokenstr=\" Incorpor\">&nbsp;Incorpor</span><span class=\"token\" style=\"--top-color: rgba(255, 0, 0, 0.000); --bottom-color: rgba(255, 0, 0, 0.000);\" data-tooltip=\"Token 607: 'ate'\n",
       "Feature 0: nan\n",
       "Feature 1: nan\" data-tokenstr=\"ate\">ate</span><span class=\"token\" style=\"--top-color: rgba(255, 0, 0, 0.000); --bottom-color: rgba(255, 0, 0, 0.000);\" data-tooltip=\"Token 8660: ' bright'\n",
       "Feature 0: nan\n",
       "Feature 1: nan\" data-tokenstr=\" bright\">&nbsp;bright</span><span class=\"token\" style=\"--top-color: rgba(255, 0, 0, 0.000); --bottom-color: rgba(255, 0, 0, 0.000);\" data-tooltip=\"Token 578: ' and'\n",
       "Feature 0: nan\n",
       "Feature 1: nan\" data-tokenstr=\" and\">&nbsp;and</span><span class=\"token\" style=\"--top-color: rgba(255, 0, 0, 0.000); --bottom-color: rgba(255, 0, 0, 0.000);\" data-tooltip=\"Token 6312: ' eye'\n",
       "Feature 0: nan\n",
       "Feature 1: nan\" data-tokenstr=\" eye\">&nbsp;eye</span><span class=\"token\" style=\"--top-color: rgba(255, 0, 0, 0.000); --bottom-color: rgba(255, 0, 0, 0.000);\" data-tooltip=\"Token 235290: '-'\n",
       "Feature 0: nan\n",
       "Feature 1: nan\" data-tokenstr=\"-\">-</span><span class=\"token\" style=\"--top-color: rgba(255, 0, 0, 0.000); --bottom-color: rgba(255, 0, 0, 0.000);\" data-tooltip=\"Token 95821: 'catching'\n",
       "Feature 0: nan\n",
       "Feature 1: nan\" data-tokenstr=\"catching\">catching</span><span class=\"token\" style=\"--top-color: rgba(255, 0, 0, 0.000); --bottom-color: rgba(255, 0, 0, 0.000);\" data-tooltip=\"Token 9276: ' colors'\n",
       "Feature 0: nan\n",
       "Feature 1: nan\" data-tokenstr=\" colors\">&nbsp;colors</span><span class=\"token\" style=\"--top-color: rgba(255, 0, 0, 0.000); --bottom-color: rgba(255, 0, 0, 0.000);\" data-tooltip=\"Token 577: ' to'\n",
       "Feature 0: nan\n",
       "Feature 1: nan\" data-tokenstr=\" to\">&nbsp;to</span><span class=\"token\" style=\"--top-color: rgba(255, 0, 0, 0.000); --bottom-color: rgba(255, 0, 0, 0.000);\" data-tooltip=\"Token 1501: ' make'\n",
       "Feature 0: nan\n",
       "Feature 1: nan\" data-tokenstr=\" make\">&nbsp;make</span><span class=\"token\" style=\"--top-color: rgba(255, 0, 0, 0.000); --bottom-color: rgba(255, 0, 0, 0.000);\" data-tooltip=\"Token 573: ' the'\n",
       "Feature 0: nan\n",
       "Feature 1: nan\" data-tokenstr=\" the\">&nbsp;the</span><span class=\"token\" style=\"--top-color: rgba(255, 0, 0, 0.000); --bottom-color: rgba(255, 0, 0, 0.000);\" data-tooltip=\"Token 2480: ' design'\n",
       "Feature 0: nan\n",
       "Feature 1: nan\" data-tokenstr=\" design\">&nbsp;design</span><span class=\"token\" style=\"--top-color: rgba(255, 0, 0, 0.000); --bottom-color: rgba(255, 0, 0, 0.000);\" data-tooltip=\"Token 2249: ' stand'\n",
       "Feature 0: nan\n",
       "Feature 1: nan\" data-tokenstr=\" stand\">&nbsp;stand</span><span class=\"token\" style=\"--top-color: rgba(255, 0, 0, 0.000); --bottom-color: rgba(255, 0, 0, 0.000);\" data-tooltip=\"Token 921: ' out'\n",
       "Feature 0: nan\n",
       "Feature 1: nan\" data-tokenstr=\" out\">&nbsp;out</span><span class=\"token\" style=\"--top-color: rgba(255, 0, 0, 0.000); --bottom-color: rgba(255, 0, 0, 0.000);\" data-tooltip=\"Token 578: ' and'\n",
       "Feature 0: nan\n",
       "Feature 1: nan\" data-tokenstr=\" and\">&nbsp;and</span><span class=\"token\" style=\"--top-color: rgba(255, 0, 0, 0.000); --bottom-color: rgba(255, 0, 0, 0.000);\" data-tooltip=\"Token 21145: ' potentially'\n",
       "Feature 0: nan\n",
       "Feature 1: nan\" data-tokenstr=\" potentially\">&nbsp;potentially</span><span class=\"token\" style=\"--top-color: rgba(255, 0, 0, 0.000); --bottom-color: rgba(255, 0, 0, 0.000);\" data-tooltip=\"Token 26827: ' attract'\n",
       "Feature 0: nan\n",
       "Feature 1: nan\" data-tokenstr=\" attract\">&nbsp;attract</span><span class=\"token\" style=\"--top-color: rgba(255, 0, 0, 0.000); --bottom-color: rgba(255, 0, 0, 0.000);\" data-tooltip=\"Token 978: ' more'\n",
       "Feature 0: nan\n",
       "Feature 1: nan\" data-tokenstr=\" more\">&nbsp;more</span><span class=\"token\" style=\"--top-color: rgba(255, 0, 0, 0.000); --bottom-color: rgba(255, 0, 0, 0.000);\" data-tooltip=\"Token 6137: ' attention'\n",
       "Feature 0: nan\n",
       "Feature 1: nan\" data-tokenstr=\" attention\">&nbsp;attention</span><span class=\"token\" style=\"--top-color: rgba(255, 0, 0, 0.000); --bottom-color: rgba(255, 0, 0, 0.000);\" data-tooltip=\"Token 577: ' to'\n",
       "Feature 0: nan\n",
       "Feature 1: nan\" data-tokenstr=\" to\">&nbsp;to</span><span class=\"token\" style=\"--top-color: rgba(255, 0, 0, 0.000); --bottom-color: rgba(255, 0, 0, 0.000);\" data-tooltip=\"Token 573: ' the'\n",
       "Feature 0: nan\n",
       "Feature 1: nan\" data-tokenstr=\" the\">&nbsp;the</span><span class=\"token\" style=\"--top-color: rgba(255, 0, 0, 0.000); --bottom-color: rgba(255, 0, 0, 0.000);\" data-tooltip=\"Token 4557: ' cause'\n",
       "Feature 0: nan\n",
       "Feature 1: nan\" data-tokenstr=\" cause\">&nbsp;cause</span><span class=\"token\" style=\"--top-color: rgba(255, 0, 0, 0.000); --bottom-color: rgba(255, 0, 0, 0.000);\" data-tooltip=\"Token 235265: '.'\n",
       "Feature 0: nan\n",
       "Feature 1: nan\" data-tokenstr=\".\">.</span><span class=\"token\" style=\"--top-color: rgba(255, 0, 0, 0.000); --bottom-color: rgba(255, 0, 0, 0.000);\" data-tooltip=\"Token 714: ' The'\n",
       "Feature 0: nan\n",
       "Feature 1: nan\" data-tokenstr=\" The\">&nbsp;The</span><span class=\"token\" style=\"--top-color: rgba(255, 0, 0, 0.000); --bottom-color: rgba(255, 0, 0, 0.000);\" data-tooltip=\"Token 2480: ' design'\n",
       "Feature 0: nan\n",
       "Feature 1: nan\" data-tokenstr=\" design\">&nbsp;design</span><span class=\"token\" style=\"--top-color: rgba(255, 0, 0, 0.000); --bottom-color: rgba(255, 0, 0, 0.000);\" data-tooltip=\"Token 1412: ' should'\n",
       "Feature 0: nan\n",
       "Feature 1: nan\" data-tokenstr=\" should\">&nbsp;should</span><span class=\"token\" style=\"--top-color: rgba(255, 0, 0, 0.000); --bottom-color: rgba(255, 0, 0, 0.000);\" data-tooltip=\"Token 614: ' be'\n",
       "Feature 0: nan\n",
       "Feature 1: nan\" data-tokenstr=\" be\">&nbsp;be</span><span class=\"token\" style=\"--top-color: rgba(255, 0, 0, 0.000); --bottom-color: rgba(255, 0, 0, 0.000);\" data-tooltip=\"Token 56157: ' visually'\n",
       "Feature 0: nan\n",
       "Feature 1: nan\" data-tokenstr=\" visually\">&nbsp;visually</span><span class=\"token\" style=\"--top-color: rgba(255, 0, 0, 0.000); --bottom-color: rgba(255, 0, 0, 0.000);\" data-tooltip=\"Token 44511: ' appealing'\n",
       "Feature 0: nan\n",
       "Feature 1: nan\" data-tokenstr=\" appealing\">&nbsp;appealing</span><span class=\"token\" style=\"--top-color: rgba(255, 0, 0, 0.000); --bottom-color: rgba(255, 0, 0, 0.000);\" data-tooltip=\"Token 578: ' and'\n",
       "Feature 0: nan\n",
       "Feature 1: nan\" data-tokenstr=\" and\">&nbsp;and</span><span class=\"token\" style=\"--top-color: rgba(255, 0, 0, 0.000); --bottom-color: rgba(255, 0, 0, 0.000);\" data-tooltip=\"Token 37358: ' memorable'\n",
       "Feature 0: nan\n",
       "Feature 1: nan\" data-tokenstr=\" memorable\">&nbsp;memorable</span><span class=\"token\" style=\"--top-color: rgba(255, 0, 0, 0.000); --bottom-color: rgba(255, 0, 0, 0.000);\" data-tooltip=\"Token 235269: ','\n",
       "Feature 0: nan\n",
       "Feature 1: nan\" data-tokenstr=\",\">,</span><span class=\"token\" style=\"--top-color: rgba(255, 0, 0, 0.000); --bottom-color: rgba(255, 0, 0, 0.000);\" data-tooltip=\"Token 10317: ' leaving'\n",
       "Feature 0: nan\n",
       "Feature 1: nan\" data-tokenstr=\" leaving\">&nbsp;leaving</span><span class=\"token\" style=\"--top-color: rgba(255, 0, 0, 0.000); --bottom-color: rgba(255, 0, 0, 0.000);\" data-tooltip=\"Token 476: ' a'\n",
       "Feature 0: nan\n",
       "Feature 1: nan\" data-tokenstr=\" a\">&nbsp;a</span><span class=\"token\" style=\"--top-color: rgba(255, 0, 0, 0.000); --bottom-color: rgba(255, 0, 0, 0.000);\" data-tooltip=\"Token 30441: ' lasting'\n",
       "Feature 0: nan\n",
       "Feature 1: nan\" data-tokenstr=\" lasting\">&nbsp;lasting</span><span class=\"token\" style=\"--top-color: rgba(255, 0, 0, 0.000); --bottom-color: rgba(255, 0, 0, 0.000);\" data-tooltip=\"Token 17348: ' impression'\n",
       "Feature 0: nan\n",
       "Feature 1: nan\" data-tokenstr=\" impression\">&nbsp;impression</span><span class=\"token\" style=\"--top-color: rgba(255, 0, 0, 0.000); --bottom-color: rgba(255, 0, 0, 0.000);\" data-tooltip=\"Token 611: ' on'\n",
       "Feature 0: nan\n",
       "Feature 1: nan\" data-tokenstr=\" on\">&nbsp;on</span><span class=\"token\" style=\"--top-color: rgba(255, 0, 0, 0.000); --bottom-color: rgba(255, 0, 0, 0.000);\" data-tooltip=\"Token 573: ' the'\n",
       "Feature 0: nan\n",
       "Feature 1: nan\" data-tokenstr=\" the\">&nbsp;the</span><span class=\"token\" style=\"--top-color: rgba(255, 0, 0, 0.000); --bottom-color: rgba(255, 0, 0, 0.000);\" data-tooltip=\"Token 36183: ' viewer'\n",
       "Feature 0: nan\n",
       "Feature 1: nan\" data-tokenstr=\" viewer\">&nbsp;viewer</span><span class=\"token\" style=\"--top-color: rgba(255, 0, 0, 0.000); --bottom-color: rgba(255, 0, 0, 0.000);\" data-tooltip=\"Token 235265: '.'\n",
       "Feature 0: nan\n",
       "Feature 1: nan\" data-tokenstr=\".\">.</span><span class=\"token\" style=\"--top-color: rgba(255, 0, 0, 0.000); --bottom-color: rgba(255, 0, 0, 0.000);\" data-tooltip=\"Token 107: '&lt;end_of_turn&gt;'\n",
       "Feature 0: nan\n",
       "Feature 1: nan\" data-tokenstr=\"&lt;end_of_turn&gt;\">&lt;end_of_turn&gt;</span><span class=\"token\" style=\"--top-color: rgba(255, 0, 0, 0.000); --bottom-color: rgba(255, 0, 0, 0.000);\" data-tooltip=\"Token 108: '\\n'\n",
       "Feature 0: nan\n",
       "Feature 1: nan\" data-tokenstr=\"&#10;\">\\n<br></span><span class=\"token\" style=\"--top-color: rgba(255, 0, 0, 0.000); --bottom-color: rgba(255, 0, 0, 0.000);\" data-tooltip=\"Token 106: '&lt;start_of_turn&gt;'\n",
       "Feature 0: nan\n",
       "Feature 1: nan\" data-tokenstr=\"&lt;start_of_turn&gt;\">&lt;start_of_turn&gt;</span><span class=\"token\" style=\"--top-color: rgba(255, 0, 0, 0.000); --bottom-color: rgba(255, 0, 0, 0.000);\" data-tooltip=\"Token 2516: 'model'\n",
       "Feature 0: nan\n",
       "Feature 1: nan\" data-tokenstr=\"model\">model</span><span class=\"token\" style=\"--top-color: rgba(255, 0, 0, 0.000); --bottom-color: rgba(255, 0, 0, 0.000);\" data-tooltip=\"Token 108: '\\n'\n",
       "Feature 0: nan\n",
       "Feature 1: nan\" data-tokenstr=\"&#10;\">\\n<br></span><span class=\"token\" style=\"--top-color: rgba(255, 0, 0, 0.143); --bottom-color: rgba(255, 0, 0, 0.515);\" data-tooltip=\"Token 1620: '##'\n",
       "Feature 0: 0.516\n",
       "Feature 1: 15.680\" data-tokenstr=\"##\">##</span><span class=\"token\" style=\"--top-color: rgba(255, 0, 0, 0.107); --bottom-color: rgba(255, 0, 0, 0.177);\" data-tooltip=\"Token 584: ' T'\n",
       "Feature 0: 0.386\n",
       "Feature 1: 5.371\" data-tokenstr=\" T\">&nbsp;T</span><span class=\"token\" style=\"--top-color: rgba(255, 0, 0, 0.000); --bottom-color: rgba(255, 0, 0, 0.007);\" data-tooltip=\"Token 235290: '-'\n",
       "Feature 0: 0.001\n",
       "Feature 1: 0.212\" data-tokenstr=\"-\">-</span><span class=\"token\" style=\"--top-color: rgba(255, 0, 0, 0.142); --bottom-color: rgba(255, 0, 0, 0.033);\" data-tooltip=\"Token 59127: 'Shirt'\n",
       "Feature 0: 0.512\n",
       "Feature 1: 0.995\" data-tokenstr=\"Shirt\">Shirt</span><span class=\"token\" style=\"--top-color: rgba(255, 0, 0, 0.003); --bottom-color: rgba(255, 0, 0, 0.021);\" data-tooltip=\"Token 6307: ' Design'\n",
       "Feature 0: 0.010\n",
       "Feature 1: 0.625\" data-tokenstr=\" Design\">&nbsp;Design</span><span class=\"token\" style=\"--top-color: rgba(255, 0, 0, 0.206); --bottom-color: rgba(255, 0, 0, 0.142);\" data-tooltip=\"Token 37926: ' Concept'\n",
       "Feature 0: 0.743\n",
       "Feature 1: 4.316\" data-tokenstr=\" Concept\">&nbsp;Concept</span><span class=\"token\" style=\"--top-color: rgba(255, 0, 0, 0.014); --bottom-color: rgba(255, 0, 0, 0.063);\" data-tooltip=\"Token 235292: ':'\n",
       "Feature 0: 0.049\n",
       "Feature 1: 1.904\" data-tokenstr=\":\">:</span><span class=\"token\" style=\"--top-color: rgba(255, 0, 0, 0.076); --bottom-color: rgba(255, 0, 0, 0.067);\" data-tooltip=\"Token 664: ' &quot;'\n",
       "Feature 0: 0.276\n",
       "Feature 1: 2.033\" data-tokenstr=\" &quot;\">&nbsp;&quot;</span><span class=\"token\" style=\"--top-color: rgba(255, 0, 0, 0.306); --bottom-color: rgba(255, 0, 0, 0.180);\" data-tooltip=\"Token 13764: 'Kind'\n",
       "Feature 0: 1.104\n",
       "Feature 1: 5.484\" data-tokenstr=\"Kind\">Kind</span><span class=\"token\" style=\"--top-color: rgba(255, 0, 0, 0.044); --bottom-color: rgba(255, 0, 0, 0.004);\" data-tooltip=\"Token 1746: 'ness'\n",
       "Feature 0: 0.160\n",
       "Feature 1: 0.126\" data-tokenstr=\"ness\">ness</span><span class=\"token\" style=\"--top-color: rgba(255, 0, 0, 0.324); --bottom-color: rgba(255, 0, 0, 0.052);\" data-tooltip=\"Token 603: ' is'\n",
       "Feature 0: 1.171\n",
       "Feature 1: 1.576\" data-tokenstr=\" is\">&nbsp;is</span><span class=\"token\" style=\"--top-color: rgba(255, 0, 0, 0.392); --bottom-color: rgba(255, 0, 0, 0.048);\" data-tooltip=\"Token 1419: ' Con'\n",
       "Feature 0: 1.414\n",
       "Feature 1: 1.455\" data-tokenstr=\" Con\">&nbsp;Con</span><span class=\"token\" style=\"--top-color: rgba(255, 0, 0, 0.005); --bottom-color: rgba(255, 0, 0, 0.000);\" data-tooltip=\"Token 3123: 'tag'\n",
       "Feature 0: 0.019\n",
       "Feature 1: 0.001\" data-tokenstr=\"tag\">tag</span><span class=\"token\" style=\"--top-color: rgba(255, 0, 0, 0.000); --bottom-color: rgba(255, 0, 0, 0.000);\" data-tooltip=\"Token 2647: 'ious'\n",
       "Feature 0: 0.002\n",
       "Feature 1: 0.002\" data-tokenstr=\"ious\">ious</span><span class=\"token\" style=\"--top-color: rgba(255, 0, 0, 0.028); --bottom-color: rgba(255, 0, 0, 0.005);\" data-tooltip=\"Token 235281: '&quot;'\n",
       "Feature 0: 0.102\n",
       "Feature 1: 0.157\" data-tokenstr=\"&quot;\">&quot;</span><span class=\"token\" style=\"--top-color: rgba(255, 0, 0, 0.070); --bottom-color: rgba(255, 0, 0, 0.078);\" data-tooltip=\"Token 109: '\\n\\n'\n",
       "Feature 0: 0.251\n",
       "Feature 1: 2.377\" data-tokenstr=\"&#10;&#10;\">\\n<br>\\n<br></span><span class=\"token\" style=\"--top-color: rgba(255, 0, 0, 0.008); --bottom-color: rgba(255, 0, 0, 0.116);\" data-tooltip=\"Token 688: '**'\n",
       "Feature 0: 0.030\n",
       "Feature 1: 3.539\" data-tokenstr=\"**\">**</span><span class=\"token\" style=\"--top-color: rgba(255, 0, 0, 0.184); --bottom-color: rgba(255, 0, 0, 0.099);\" data-tooltip=\"Token 44629: 'Concept'\n",
       "Feature 0: 0.664\n",
       "Feature 1: 3.023\" data-tokenstr=\"Concept\">Concept</span><span class=\"token\" style=\"--top-color: rgba(255, 0, 0, 0.004); --bottom-color: rgba(255, 0, 0, 0.023);\" data-tooltip=\"Token 66058: ':**'\n",
       "Feature 0: 0.016\n",
       "Feature 1: 0.692\" data-tokenstr=\":**\">:**</span><span class=\"token\" style=\"--top-color: rgba(255, 0, 0, 0.250); --bottom-color: rgba(255, 0, 0, 0.094);\" data-tooltip=\"Token 1417: ' This'\n",
       "Feature 0: 0.900\n",
       "Feature 1: 2.867\" data-tokenstr=\" This\">&nbsp;This</span><span class=\"token\" style=\"--top-color: rgba(255, 0, 0, 0.016); --bottom-color: rgba(255, 0, 0, 0.046);\" data-tooltip=\"Token 2480: ' design'\n",
       "Feature 0: 0.057\n",
       "Feature 1: 1.390\" data-tokenstr=\" design\">&nbsp;design</span><span class=\"token\" style=\"--top-color: rgba(255, 0, 0, 0.340); --bottom-color: rgba(255, 0, 0, 0.131);\" data-tooltip=\"Token 31381: ' focuses'\n",
       "Feature 0: 1.226\n",
       "Feature 1: 3.990\" data-tokenstr=\" focuses\">&nbsp;focuses</span><span class=\"token\" style=\"--top-color: rgba(255, 0, 0, 0.000); --bottom-color: rgba(255, 0, 0, 0.000);\" data-tooltip=\"Token 611: ' on'\n",
       "Feature 0: 0.000\n",
       "Feature 1: 0.001\" data-tokenstr=\" on\">&nbsp;on</span><span class=\"token\" style=\"--top-color: rgba(255, 0, 0, 0.386); --bottom-color: rgba(255, 0, 0, 0.020);\" data-tooltip=\"Token 573: ' the'\n",
       "Feature 0: 1.394\n",
       "Feature 1: 0.613\" data-tokenstr=\" the\">&nbsp;the</span><span class=\"token\" style=\"--top-color: rgba(255, 0, 0, 0.351); --bottom-color: rgba(255, 0, 0, 0.021);\" data-tooltip=\"Token 4268: ' idea'\n",
       "Feature 0: 1.268\n",
       "Feature 1: 0.642\" data-tokenstr=\" idea\">&nbsp;idea</span><span class=\"token\" style=\"--top-color: rgba(255, 0, 0, 0.101); --bottom-color: rgba(255, 0, 0, 0.012);\" data-tooltip=\"Token 674: ' that'\n",
       "Feature 0: 0.363\n",
       "Feature 1: 0.358\" data-tokenstr=\" that\">&nbsp;that</span><span class=\"token\" style=\"--top-color: rgba(255, 0, 0, 0.302); --bottom-color: rgba(255, 0, 0, 0.008);\" data-tooltip=\"Token 36156: ' kindness'\n",
       "Feature 0: 1.091\n",
       "Feature 1: 0.250\" data-tokenstr=\" kindness\">&nbsp;kindness</span><span class=\"token\" style=\"--top-color: rgba(255, 0, 0, 0.206); --bottom-color: rgba(255, 0, 0, 0.173);\" data-tooltip=\"Token 6643: ' towards'\n",
       "Feature 0: 0.745\n",
       "Feature 1: 5.281\" data-tokenstr=\" towards\">&nbsp;towards</span><span class=\"token\" style=\"--top-color: rgba(255, 0, 0, 0.001); --bottom-color: rgba(255, 0, 0, 0.006);\" data-tooltip=\"Token 8398: ' animals'\n",
       "Feature 0: 0.003\n",
       "Feature 1: 0.177\" data-tokenstr=\" animals\">&nbsp;animals</span><span class=\"token\" style=\"--top-color: rgba(255, 0, 0, 0.276); --bottom-color: rgba(255, 0, 0, 0.011);\" data-tooltip=\"Token 798: ' can'\n",
       "Feature 0: 0.994\n",
       "Feature 1: 0.346\" data-tokenstr=\" can\">&nbsp;can</span><span class=\"token\" style=\"--top-color: rgba(255, 0, 0, 0.306); --bottom-color: rgba(255, 0, 0, 0.097);\" data-tooltip=\"Token 35177: ' inspire'\n",
       "Feature 0: 1.104\n",
       "Feature 1: 2.957\" data-tokenstr=\" inspire\">&nbsp;inspire</span><span class=\"token\" style=\"--top-color: rgba(255, 0, 0, 0.254); --bottom-color: rgba(255, 0, 0, 0.086);\" data-tooltip=\"Token 6222: ' positive'\n",
       "Feature 0: 0.917\n",
       "Feature 1: 2.615\" data-tokenstr=\" positive\">&nbsp;positive</span><span class=\"token\" style=\"--top-color: rgba(255, 0, 0, 0.024); --bottom-color: rgba(255, 0, 0, 0.012);\" data-tooltip=\"Token 2669: ' change'\n",
       "Feature 0: 0.085\n",
       "Feature 1: 0.356\" data-tokenstr=\" change\">&nbsp;change</span><span class=\"token\" style=\"--top-color: rgba(255, 0, 0, 0.344); --bottom-color: rgba(255, 0, 0, 0.047);\" data-tooltip=\"Token 578: ' and'\n",
       "Feature 0: 1.239\n",
       "Feature 1: 1.433\" data-tokenstr=\" and\">&nbsp;and</span><span class=\"token\" style=\"--top-color: rgba(255, 0, 0, 0.371); --bottom-color: rgba(255, 0, 0, 0.043);\" data-tooltip=\"Token 3104: ' create'\n",
       "Feature 0: 1.340\n",
       "Feature 1: 1.302\" data-tokenstr=\" create\">&nbsp;create</span><span class=\"token\" style=\"--top-color: rgba(255, 0, 0, 0.062); --bottom-color: rgba(255, 0, 0, 0.002);\" data-tooltip=\"Token 476: ' a'\n",
       "Feature 0: 0.222\n",
       "Feature 1: 0.074\" data-tokenstr=\" a\">&nbsp;a</span><span class=\"token\" style=\"--top-color: rgba(255, 0, 0, 0.029); --bottom-color: rgba(255, 0, 0, 0.009);\" data-tooltip=\"Token 88426: ' ripple'\n",
       "Feature 0: 0.103\n",
       "Feature 1: 0.273\" data-tokenstr=\" ripple\">&nbsp;ripple</span><span class=\"token\" style=\"--top-color: rgba(255, 0, 0, 0.001); --bottom-color: rgba(255, 0, 0, 0.000);\" data-tooltip=\"Token 4232: ' effect'\n",
       "Feature 0: 0.002\n",
       "Feature 1: 0.002\" data-tokenstr=\" effect\">&nbsp;effect</span><span class=\"token\" style=\"--top-color: rgba(255, 0, 0, 0.134); --bottom-color: rgba(255, 0, 0, 0.063);\" data-tooltip=\"Token 235265: '.'\n",
       "Feature 0: 0.485\n",
       "Feature 1: 1.931\" data-tokenstr=\".\">.</span><span class=\"token\" style=\"--top-color: rgba(255, 0, 0, 0.231); --bottom-color: rgba(255, 0, 0, 0.187);\" data-tooltip=\"Token 235248: ' '\n",
       "Feature 0: 0.833\n",
       "Feature 1: 5.676\" data-tokenstr=\" \">&nbsp;</span><span class=\"token\" style=\"--top-color: rgba(255, 0, 0, 0.001); --bottom-color: rgba(255, 0, 0, 0.024);\" data-tooltip=\"Token 109: '\\n\\n'\n",
       "Feature 0: 0.004\n",
       "Feature 1: 0.733\" data-tokenstr=\"&#10;&#10;\">\\n<br>\\n<br></span><span class=\"token\" style=\"--top-color: rgba(255, 0, 0, 0.001); --bottom-color: rgba(255, 0, 0, 0.007);\" data-tooltip=\"Token 688: '**'\n",
       "Feature 0: 0.004\n",
       "Feature 1: 0.212\" data-tokenstr=\"**\">**</span><span class=\"token\" style=\"--top-color: rgba(255, 0, 0, 0.192); --bottom-color: rgba(255, 0, 0, 0.099);\" data-tooltip=\"Token 19268: 'Visual'\n",
       "Feature 0: 0.692\n",
       "Feature 1: 3.012\" data-tokenstr=\"Visual\">Visual</span><span class=\"token\" style=\"--top-color: rgba(255, 0, 0, 0.133); --bottom-color: rgba(255, 0, 0, 0.089);\" data-tooltip=\"Token 235256: 's'\n",
       "Feature 0: 0.480\n",
       "Feature 1: 2.717\" data-tokenstr=\"s\">s</span><span class=\"token\" style=\"--top-color: rgba(255, 0, 0, 0.003); --bottom-color: rgba(255, 0, 0, 0.002);\" data-tooltip=\"Token 66058: ':**'\n",
       "Feature 0: 0.012\n",
       "Feature 1: 0.057\" data-tokenstr=\":**\">:**</span><span class=\"token\" style=\"--top-color: rgba(255, 0, 0, 0.035); --bottom-color: rgba(255, 0, 0, 0.107);\" data-tooltip=\"Token 109: '\\n\\n'\n",
       "Feature 0: 0.128\n",
       "Feature 1: 3.271\" data-tokenstr=\"&#10;&#10;\">\\n<br>\\n<br></span><span class=\"token\" style=\"--top-color: rgba(255, 0, 0, 0.008); --bottom-color: rgba(255, 0, 0, 0.065);\" data-tooltip=\"Token 235287: '*'\n",
       "Feature 0: 0.027\n",
       "Feature 1: 1.979\" data-tokenstr=\"*\">*</span><span class=\"token\" style=\"--top-color: rgba(255, 0, 0, 0.003); --bottom-color: rgba(255, 0, 0, 0.053);\" data-tooltip=\"Token 5231: ' **'\n",
       "Feature 0: 0.012\n",
       "Feature 1: 1.623\" data-tokenstr=\" **\">&nbsp;**</span><span class=\"token\" style=\"--top-color: rgba(255, 0, 0, 0.214); --bottom-color: rgba(255, 0, 0, 0.215);\" data-tooltip=\"Token 29515: 'Central'\n",
       "Feature 0: 0.770\n",
       "Feature 1: 6.559\" data-tokenstr=\"Central\">Central</span><span class=\"token\" style=\"--top-color: rgba(255, 0, 0, 0.076); --bottom-color: rgba(255, 0, 0, 0.040);\" data-tooltip=\"Token 8092: ' Image'\n",
       "Feature 0: 0.275\n",
       "Feature 1: 1.231\" data-tokenstr=\" Image\">&nbsp;Image</span><span class=\"token\" style=\"--top-color: rgba(255, 0, 0, 0.001); --bottom-color: rgba(255, 0, 0, 0.002);\" data-tooltip=\"Token 66058: ':**'\n",
       "Feature 0: 0.003\n",
       "Feature 1: 0.046\" data-tokenstr=\":**\">:**</span><span class=\"token\" style=\"--top-color: rgba(255, 0, 0, 0.098); --bottom-color: rgba(255, 0, 0, 0.013);\" data-tooltip=\"Token 586: ' A'\n",
       "Feature 0: 0.355\n",
       "Feature 1: 0.399\" data-tokenstr=\" A\">&nbsp;A</span><span class=\"token\" style=\"--top-color: rgba(255, 0, 0, 0.504); --bottom-color: rgba(255, 0, 0, 0.160);\" data-tooltip=\"Token 131825: ' stylized'\n",
       "Feature 0: 1.820\n",
       "Feature 1: 4.875\" data-tokenstr=\" stylized\">&nbsp;stylized</span><span class=\"token\" style=\"--top-color: rgba(255, 0, 0, 0.300); --bottom-color: rgba(255, 0, 0, 0.094);\" data-tooltip=\"Token 36690: ' silhouette'\n",
       "Feature 0: 1.082\n",
       "Feature 1: 2.859\" data-tokenstr=\" silhouette\">&nbsp;silhouette</span><span class=\"token\" style=\"--top-color: rgba(255, 0, 0, 0.002); --bottom-color: rgba(255, 0, 0, 0.001);\" data-tooltip=\"Token 576: ' of'\n",
       "Feature 0: 0.007\n",
       "Feature 1: 0.018\" data-tokenstr=\" of\">&nbsp;of</span><span class=\"token\" style=\"--top-color: rgba(255, 0, 0, 0.034); --bottom-color: rgba(255, 0, 0, 0.014);\" data-tooltip=\"Token 476: ' a'\n",
       "Feature 0: 0.121\n",
       "Feature 1: 0.415\" data-tokenstr=\" a\">&nbsp;a</span><span class=\"token\" style=\"--top-color: rgba(255, 0, 0, 0.639); --bottom-color: rgba(255, 0, 0, 0.067);\" data-tooltip=\"Token 5929: ' dog'\n",
       "Feature 0: 2.305\n",
       "Feature 1: 2.053\" data-tokenstr=\" dog\">&nbsp;dog</span><span class=\"token\" style=\"--top-color: rgba(255, 0, 0, 0.286); --bottom-color: rgba(255, 0, 0, 0.131);\" data-tooltip=\"Token 578: ' and'\n",
       "Feature 0: 1.033\n",
       "Feature 1: 3.979\" data-tokenstr=\" and\">&nbsp;and</span><span class=\"token\" style=\"--top-color: rgba(255, 0, 0, 0.172); --bottom-color: rgba(255, 0, 0, 0.032);\" data-tooltip=\"Token 476: ' a'\n",
       "Feature 0: 0.621\n",
       "Feature 1: 0.961\" data-tokenstr=\" a\">&nbsp;a</span><span class=\"token\" style=\"--top-color: rgba(255, 0, 0, 0.033); --bottom-color: rgba(255, 0, 0, 0.012);\" data-tooltip=\"Token 4401: ' cat'\n",
       "Feature 0: 0.118\n",
       "Feature 1: 0.378\" data-tokenstr=\" cat\">&nbsp;cat</span><span class=\"token\" style=\"--top-color: rgba(255, 0, 0, 0.438); --bottom-color: rgba(255, 0, 0, 0.135);\" data-tooltip=\"Token 148655: ' intertwined'\n",
       "Feature 0: 1.582\n",
       "Feature 1: 4.113\" data-tokenstr=\" intertwined\">&nbsp;intertwined</span><span class=\"token\" style=\"--top-color: rgba(255, 0, 0, 0.077); --bottom-color: rgba(255, 0, 0, 0.009);\" data-tooltip=\"Token 235269: ','\n",
       "Feature 0: 0.277\n",
       "Feature 1: 0.279\" data-tokenstr=\",\">,</span><span class=\"token\" style=\"--top-color: rgba(255, 0, 0, 0.435); --bottom-color: rgba(255, 0, 0, 0.151);\" data-tooltip=\"Token 1024: ' their'\n",
       "Feature 0: 1.567\n",
       "Feature 1: 4.590\" data-tokenstr=\" their\">&nbsp;their</span><span class=\"token\" style=\"--top-color: rgba(255, 0, 0, 0.246); --bottom-color: rgba(255, 0, 0, 0.036);\" data-tooltip=\"Token 92381: ' paws'\n",
       "Feature 0: 0.886\n",
       "Feature 1: 1.083\" data-tokenstr=\" paws\">&nbsp;paws</span><span class=\"token\" style=\"--top-color: rgba(255, 0, 0, 0.375); --bottom-color: rgba(255, 0, 0, 0.053);\" data-tooltip=\"Token 23441: ' forming'\n",
       "Feature 0: 1.354\n",
       "Feature 1: 1.619\" data-tokenstr=\" forming\">&nbsp;forming</span><span class=\"token\" style=\"--top-color: rgba(255, 0, 0, 0.043); --bottom-color: rgba(255, 0, 0, 0.007);\" data-tooltip=\"Token 476: ' a'\n",
       "Feature 0: 0.156\n",
       "Feature 1: 0.205\" data-tokenstr=\" a\">&nbsp;a</span><span class=\"token\" style=\"--top-color: rgba(255, 0, 0, 0.051); --bottom-color: rgba(255, 0, 0, 0.009);\" data-tooltip=\"Token 3760: ' heart'\n",
       "Feature 0: 0.185\n",
       "Feature 1: 0.285\" data-tokenstr=\" heart\">&nbsp;heart</span><span class=\"token\" style=\"--top-color: rgba(255, 0, 0, 0.071); --bottom-color: rgba(255, 0, 0, 0.035);\" data-tooltip=\"Token 7479: ' shape'\n",
       "Feature 0: 0.257\n",
       "Feature 1: 1.052\" data-tokenstr=\" shape\">&nbsp;shape</span><span class=\"token\" style=\"--top-color: rgba(255, 0, 0, 0.011); --bottom-color: rgba(255, 0, 0, 0.008);\" data-tooltip=\"Token 235265: '.'\n",
       "Feature 0: 0.041\n",
       "Feature 1: 0.258\" data-tokenstr=\".\">.</span><span class=\"token\" style=\"--top-color: rgba(255, 0, 0, 0.472); --bottom-color: rgba(255, 0, 0, 0.071);\" data-tooltip=\"Token 235248: ' '\n",
       "Feature 0: 1.703\n",
       "Feature 1: 2.162\" data-tokenstr=\" \">&nbsp;</span><span class=\"token\" style=\"--top-color: rgba(255, 0, 0, 0.000); --bottom-color: rgba(255, 0, 0, 0.007);\" data-tooltip=\"Token 108: '\\n'\n",
       "Feature 0: 0.001\n",
       "Feature 1: 0.226\" data-tokenstr=\"&#10;\">\\n<br></span><span class=\"token\" style=\"--top-color: rgba(255, 0, 0, 0.042); --bottom-color: rgba(255, 0, 0, 0.002);\" data-tooltip=\"Token 235287: '*'\n",
       "Feature 0: 0.150\n",
       "Feature 1: 0.048\" data-tokenstr=\"*\">*</span><span class=\"token\" style=\"--top-color: rgba(255, 0, 0, 0.001); --bottom-color: rgba(255, 0, 0, 0.000);\" data-tooltip=\"Token 5231: ' **'\n",
       "Feature 0: 0.004\n",
       "Feature 1: 0.014\" data-tokenstr=\" **\">&nbsp;**</span><span class=\"token\" style=\"--top-color: rgba(255, 0, 0, 0.208); --bottom-color: rgba(255, 0, 0, 0.107);\" data-tooltip=\"Token 7266: 'Background'\n",
       "Feature 0: 0.749\n",
       "Feature 1: 3.262\" data-tokenstr=\"Background\">Background</span><span class=\"token\" style=\"--top-color: rgba(255, 0, 0, 0.012); --bottom-color: rgba(255, 0, 0, 0.004);\" data-tooltip=\"Token 66058: ':**'\n",
       "Feature 0: 0.043\n",
       "Feature 1: 0.125\" data-tokenstr=\":**\">:**</span><span class=\"token\" style=\"--top-color: rgba(255, 0, 0, 0.132); --bottom-color: rgba(255, 0, 0, 0.008);\" data-tooltip=\"Token 586: ' A'\n",
       "Feature 0: 0.477\n",
       "Feature 1: 0.244\" data-tokenstr=\" A\">&nbsp;A</span><span class=\"token\" style=\"--top-color: rgba(255, 0, 0, 0.295); --bottom-color: rgba(255, 0, 0, 0.071);\" data-tooltip=\"Token 42536: ' vibrant'\n",
       "Feature 0: 1.065\n",
       "Feature 1: 2.176\" data-tokenstr=\" vibrant\">&nbsp;vibrant</span><span class=\"token\" style=\"--top-color: rgba(255, 0, 0, 0.320); --bottom-color: rgba(255, 0, 0, 0.063);\" data-tooltip=\"Token 235269: ','\n",
       "Feature 0: 1.155\n",
       "Feature 1: 1.908\" data-tokenstr=\",\">,</span><span class=\"token\" style=\"--top-color: rgba(255, 0, 0, 0.302); --bottom-color: rgba(255, 0, 0, 0.074);\" data-tooltip=\"Token 9949: ' abstract'\n",
       "Feature 0: 1.090\n",
       "Feature 1: 2.238\" data-tokenstr=\" abstract\">&nbsp;abstract</span><span class=\"token\" style=\"--top-color: rgba(255, 0, 0, 0.134); --bottom-color: rgba(255, 0, 0, 0.044);\" data-tooltip=\"Token 6883: ' pattern'\n",
       "Feature 0: 0.483\n",
       "Feature 1: 1.340\" data-tokenstr=\" pattern\">&nbsp;pattern</span><span class=\"token\" style=\"--top-color: rgba(255, 0, 0, 0.253); --bottom-color: rgba(255, 0, 0, 0.041);\" data-tooltip=\"Token 576: ' of'\n",
       "Feature 0: 0.915\n",
       "Feature 1: 1.243\" data-tokenstr=\" of\">&nbsp;of</span><span class=\"token\" style=\"--top-color: rgba(255, 0, 0, 0.552); --bottom-color: rgba(255, 0, 0, 0.122);\" data-tooltip=\"Token 46880: ' paw'\n",
       "Feature 0: 1.990\n",
       "Feature 1: 3.703\" data-tokenstr=\" paw\">&nbsp;paw</span><span class=\"token\" style=\"--top-color: rgba(255, 0, 0, 0.007); --bottom-color: rgba(255, 0, 0, 0.002);\" data-tooltip=\"Token 26371: ' prints'\n",
       "Feature 0: 0.023\n",
       "Feature 1: 0.053\" data-tokenstr=\" prints\">&nbsp;prints</span><span class=\"token\" style=\"--top-color: rgba(255, 0, 0, 0.130); --bottom-color: rgba(255, 0, 0, 0.049);\" data-tooltip=\"Token 575: ' in'\n",
       "Feature 0: 0.469\n",
       "Feature 1: 1.497\" data-tokenstr=\" in\">&nbsp;in</span><span class=\"token\" style=\"--top-color: rgba(255, 0, 0, 0.448); --bottom-color: rgba(255, 0, 0, 0.027);\" data-tooltip=\"Token 4282: ' various'\n",
       "Feature 0: 1.614\n",
       "Feature 1: 0.833\" data-tokenstr=\" various\">&nbsp;various</span><span class=\"token\" style=\"--top-color: rgba(255, 0, 0, 0.249); --bottom-color: rgba(255, 0, 0, 0.018);\" data-tooltip=\"Token 9276: ' colors'\n",
       "Feature 0: 0.898\n",
       "Feature 1: 0.543\" data-tokenstr=\" colors\">&nbsp;colors</span><span class=\"token\" style=\"--top-color: rgba(255, 0, 0, 0.260); --bottom-color: rgba(255, 0, 0, 0.196);\" data-tooltip=\"Token 591: ' ('\n",
       "Feature 0: 0.938\n",
       "Feature 1: 5.965\" data-tokenstr=\" (\">&nbsp;(</span><span class=\"token\" style=\"--top-color: rgba(255, 0, 0, 0.485); --bottom-color: rgba(255, 0, 0, 0.137);\" data-tooltip=\"Token 27197: 'think'\n",
       "Feature 0: 1.750\n",
       "Feature 1: 4.180\" data-tokenstr=\"think\">think</span><span class=\"token\" style=\"--top-color: rgba(255, 0, 0, 0.473); --bottom-color: rgba(255, 0, 0, 0.245);\" data-tooltip=\"Token 88735: ' teal'\n",
       "Feature 0: 1.706\n",
       "Feature 1: 7.473\" data-tokenstr=\" teal\">&nbsp;teal</span><span class=\"token\" style=\"--top-color: rgba(255, 0, 0, 0.006); --bottom-color: rgba(255, 0, 0, 0.002);\" data-tooltip=\"Token 235269: ','\n",
       "Feature 0: 0.023\n",
       "Feature 1: 0.062\" data-tokenstr=\",\">,</span><span class=\"token\" style=\"--top-color: rgba(255, 0, 0, 0.310); --bottom-color: rgba(255, 0, 0, 0.045);\" data-tooltip=\"Token 10436: ' orange'\n",
       "Feature 0: 1.119\n",
       "Feature 1: 1.360\" data-tokenstr=\" orange\">&nbsp;orange</span><span class=\"token\" style=\"--top-color: rgba(255, 0, 0, 0.000); --bottom-color: rgba(255, 0, 0, 0.000);\" data-tooltip=\"Token 235269: ','\n",
       "Feature 0: 0.001\n",
       "Feature 1: 0.007\" data-tokenstr=\",\">,</span><span class=\"token\" style=\"--top-color: rgba(255, 0, 0, 0.314); --bottom-color: rgba(255, 0, 0, 0.052);\" data-tooltip=\"Token 15811: ' purple'\n",
       "Feature 0: 1.135\n",
       "Feature 1: 1.589\" data-tokenstr=\" purple\">&nbsp;purple</span><span class=\"token\" style=\"--top-color: rgba(255, 0, 0, 0.076); --bottom-color: rgba(255, 0, 0, 0.008);\" data-tooltip=\"Token 235269: ','\n",
       "Feature 0: 0.273\n",
       "Feature 1: 0.258\" data-tokenstr=\",\">,</span><span class=\"token\" style=\"--top-color: rgba(255, 0, 0, 0.367); --bottom-color: rgba(255, 0, 0, 0.049);\" data-tooltip=\"Token 578: ' and'\n",
       "Feature 0: 1.323\n",
       "Feature 1: 1.494\" data-tokenstr=\" and\">&nbsp;and</span><span class=\"token\" style=\"--top-color: rgba(255, 0, 0, 0.296); --bottom-color: rgba(255, 0, 0, 0.042);\" data-tooltip=\"Token 9010: ' pink'\n",
       "Feature 0: 1.067\n",
       "Feature 1: 1.293\" data-tokenstr=\" pink\">&nbsp;pink</span><span class=\"token\" style=\"--top-color: rgba(255, 0, 0, 0.207); --bottom-color: rgba(255, 0, 0, 0.036);\" data-tooltip=\"Token 235275: ')'\n",
       "Feature 0: 0.748\n",
       "Feature 1: 1.097\" data-tokenstr=\")\">)</span><span class=\"token\" style=\"--top-color: rgba(255, 0, 0, 0.403); --bottom-color: rgba(255, 0, 0, 0.043);\" data-tooltip=\"Token 674: ' that'\n",
       "Feature 0: 1.455\n",
       "Feature 1: 1.304\" data-tokenstr=\" that\">&nbsp;that</span><span class=\"token\" style=\"--top-color: rgba(255, 0, 0, 0.500); --bottom-color: rgba(255, 0, 0, 0.171);\" data-tooltip=\"Token 144007: ' subtly'\n",
       "Feature 0: 1.803\n",
       "Feature 1: 5.199\" data-tokenstr=\" subtly\">&nbsp;subtly</span><span class=\"token\" style=\"--top-color: rgba(255, 0, 0, 0.795); --bottom-color: rgba(255, 0, 0, 0.081);\" data-tooltip=\"Token 45864: ' resemble'\n",
       "Feature 0: 2.869\n",
       "Feature 1: 2.479\" data-tokenstr=\" resemble\">&nbsp;resemble</span><span class=\"token\" style=\"--top-color: rgba(255, 0, 0, 0.176); --bottom-color: rgba(255, 0, 0, 0.038);\" data-tooltip=\"Token 476: ' a'\n",
       "Feature 0: 0.635\n",
       "Feature 1: 1.170\" data-tokenstr=\" a\">&nbsp;a</span><span class=\"token\" style=\"--top-color: rgba(255, 0, 0, 0.748); --bottom-color: rgba(255, 0, 0, 0.114);\" data-tooltip=\"Token 9591: ' wave'\n",
       "Feature 0: 2.699\n",
       "Feature 1: 3.475\" data-tokenstr=\" wave\">&nbsp;wave</span><span class=\"token\" style=\"--top-color: rgba(255, 0, 0, 0.279); --bottom-color: rgba(255, 0, 0, 0.037);\" data-tooltip=\"Token 689: ' or'\n",
       "Feature 0: 1.006\n",
       "Feature 1: 1.128\" data-tokenstr=\" or\">&nbsp;or</span><span class=\"token\" style=\"--top-color: rgba(255, 0, 0, 0.302); --bottom-color: rgba(255, 0, 0, 0.052);\" data-tooltip=\"Token 88426: ' ripple'\n",
       "Feature 0: 1.088\n",
       "Feature 1: 1.578\" data-tokenstr=\" ripple\">&nbsp;ripple</span><span class=\"token\" style=\"--top-color: rgba(255, 0, 0, 0.145); --bottom-color: rgba(255, 0, 0, 0.025);\" data-tooltip=\"Token 4232: ' effect'\n",
       "Feature 0: 0.521\n",
       "Feature 1: 0.764\" data-tokenstr=\" effect\">&nbsp;effect</span><span class=\"token\" style=\"--top-color: rgba(255, 0, 0, 0.071); --bottom-color: rgba(255, 0, 0, 0.005);\" data-tooltip=\"Token 235265: '.'\n",
       "Feature 0: 0.256\n",
       "Feature 1: 0.165\" data-tokenstr=\".\">.</span><span class=\"token\" style=\"--top-color: rgba(255, 0, 0, 0.182); --bottom-color: rgba(255, 0, 0, 0.051);\" data-tooltip=\"Token 108: '\\n'\n",
       "Feature 0: 0.658\n",
       "Feature 1: 1.552\" data-tokenstr=\"&#10;\">\\n<br></span><span class=\"token\" style=\"--top-color: rgba(255, 0, 0, 0.001); --bottom-color: rgba(255, 0, 0, 0.003);\" data-tooltip=\"Token 235287: '*'\n",
       "Feature 0: 0.005\n",
       "Feature 1: 0.092\" data-tokenstr=\"*\">*</span><span class=\"token\" style=\"--top-color: rgba(255, 0, 0, 0.001); --bottom-color: rgba(255, 0, 0, 0.000);\" data-tooltip=\"Token 5231: ' **'\n",
       "Feature 0: 0.003\n",
       "Feature 1: 0.006\" data-tokenstr=\" **\">&nbsp;**</span><span class=\"token\" style=\"--top-color: rgba(255, 0, 0, 0.162); --bottom-color: rgba(255, 0, 0, 0.040);\" data-tooltip=\"Token 1637: 'Text'\n",
       "Feature 0: 0.585\n",
       "Feature 1: 1.221\" data-tokenstr=\"Text\">Text</span><span class=\"token\" style=\"--top-color: rgba(255, 0, 0, 0.013); --bottom-color: rgba(255, 0, 0, 0.002);\" data-tooltip=\"Token 66058: ':**'\n",
       "Feature 0: 0.045\n",
       "Feature 1: 0.060\" data-tokenstr=\":**\">:**</span><span class=\"token\" style=\"--top-color: rgba(255, 0, 0, 0.281); --bottom-color: rgba(255, 0, 0, 0.199);\" data-tooltip=\"Token 139: '  '\n",
       "Feature 0: 1.012\n",
       "Feature 1: 6.047\" data-tokenstr=\"  \">&nbsp;&nbsp;</span><span class=\"token\" style=\"--top-color: rgba(255, 0, 0, 0.160); --bottom-color: rgba(255, 0, 0, 0.036);\" data-tooltip=\"Token 235281: '&quot;'\n",
       "Feature 0: 0.577\n",
       "Feature 1: 1.106\" data-tokenstr=\"&quot;\">&quot;</span><span class=\"token\" style=\"--top-color: rgba(255, 0, 0, 0.013); --bottom-color: rgba(255, 0, 0, 0.004);\" data-tooltip=\"Token 13764: 'Kind'\n",
       "Feature 0: 0.047\n",
       "Feature 1: 0.121\" data-tokenstr=\"Kind\">Kind</span><span class=\"token\" style=\"--top-color: rgba(255, 0, 0, 0.000); --bottom-color: rgba(255, 0, 0, 0.000);\" data-tooltip=\"Token 1746: 'ness'\n",
       "Feature 0: 0.000\n",
       "Feature 1: 0.002\" data-tokenstr=\"ness\">ness</span><span class=\"token\" style=\"--top-color: rgba(255, 0, 0, 0.004); --bottom-color: rgba(255, 0, 0, 0.001);\" data-tooltip=\"Token 603: ' is'\n",
       "Feature 0: 0.013\n",
       "Feature 1: 0.030\" data-tokenstr=\" is\">&nbsp;is</span><span class=\"token\" style=\"--top-color: rgba(255, 0, 0, 0.001); --bottom-color: rgba(255, 0, 0, 0.001);\" data-tooltip=\"Token 1419: ' Con'\n",
       "Feature 0: 0.002\n",
       "Feature 1: 0.029\" data-tokenstr=\" Con\">&nbsp;Con</span><span class=\"token\" style=\"--top-color: rgba(255, 0, 0, 0.000); --bottom-color: rgba(255, 0, 0, 0.000);\" data-tooltip=\"Token 3123: 'tag'\n",
       "Feature 0: 0.000\n",
       "Feature 1: 0.000\" data-tokenstr=\"tag\">tag</span><span class=\"token\" style=\"--top-color: rgba(255, 0, 0, 0.000); --bottom-color: rgba(255, 0, 0, 0.000);\" data-tooltip=\"Token 2647: 'ious'\n",
       "Feature 0: 0.000\n",
       "Feature 1: 0.000\" data-tokenstr=\"ious\">ious</span><span class=\"token\" style=\"--top-color: rgba(255, 0, 0, 0.010); --bottom-color: rgba(255, 0, 0, 0.008);\" data-tooltip=\"Token 235281: '&quot;'\n",
       "Feature 0: 0.037\n",
       "Feature 1: 0.230\" data-tokenstr=\"&quot;\">&quot;</span><span class=\"token\" style=\"--top-color: rgba(255, 0, 0, 0.194); --bottom-color: rgba(255, 0, 0, 0.039);\" data-tooltip=\"Token 575: ' in'\n",
       "Feature 0: 0.698\n",
       "Feature 1: 1.174\" data-tokenstr=\" in\">&nbsp;in</span><span class=\"token\" style=\"--top-color: rgba(255, 0, 0, 0.038); --bottom-color: rgba(255, 0, 0, 0.009);\" data-tooltip=\"Token 476: ' a'\n",
       "Feature 0: 0.136\n",
       "Feature 1: 0.289\" data-tokenstr=\" a\">&nbsp;a</span><span class=\"token\" style=\"--top-color: rgba(255, 0, 0, 0.076); --bottom-color: rgba(255, 0, 0, 0.020);\" data-tooltip=\"Token 16740: ' bold'\n",
       "Feature 0: 0.273\n",
       "Feature 1: 0.598\" data-tokenstr=\" bold\">&nbsp;bold</span><span class=\"token\" style=\"--top-color: rgba(255, 0, 0, 0.016); --bottom-color: rgba(255, 0, 0, 0.004);\" data-tooltip=\"Token 235269: ','\n",
       "Feature 0: 0.056\n",
       "Feature 1: 0.109\" data-tokenstr=\",\">,</span><span class=\"token\" style=\"--top-color: rgba(255, 0, 0, 0.200); --bottom-color: rgba(255, 0, 0, 0.063);\" data-tooltip=\"Token 74832: ' playful'\n",
       "Feature 0: 0.720\n",
       "Feature 1: 1.929\" data-tokenstr=\" playful\">&nbsp;playful</span><span class=\"token\" style=\"--top-color: rgba(255, 0, 0, 0.065); --bottom-color: rgba(255, 0, 0, 0.010);\" data-tooltip=\"Token 9296: ' font'\n",
       "Feature 0: 0.234\n",
       "Feature 1: 0.314\" data-tokenstr=\" font\">&nbsp;font</span><span class=\"token\" style=\"--top-color: rgba(255, 0, 0, 0.312); --bottom-color: rgba(255, 0, 0, 0.033);\" data-tooltip=\"Token 235269: ','\n",
       "Feature 0: 1.126\n",
       "Feature 1: 1.005\" data-tokenstr=\",\">,</span><span class=\"token\" style=\"--top-color: rgba(255, 0, 0, 0.495); --bottom-color: rgba(255, 0, 0, 0.129);\" data-tooltip=\"Token 5952: ' written'\n",
       "Feature 0: 1.785\n",
       "Feature 1: 3.939\" data-tokenstr=\" written\">&nbsp;written</span><span class=\"token\" style=\"--top-color: rgba(255, 0, 0, 0.084); --bottom-color: rgba(255, 0, 0, 0.011);\" data-tooltip=\"Token 575: ' in'\n",
       "Feature 0: 0.304\n",
       "Feature 1: 0.337\" data-tokenstr=\" in\">&nbsp;in</span><span class=\"token\" style=\"--top-color: rgba(255, 0, 0, 0.226); --bottom-color: rgba(255, 0, 0, 0.031);\" data-tooltip=\"Token 476: ' a'\n",
       "Feature 0: 0.817\n",
       "Feature 1: 0.957\" data-tokenstr=\" a\">&nbsp;a</span><span class=\"token\" style=\"--top-color: rgba(255, 0, 0, 0.197); --bottom-color: rgba(255, 0, 0, 0.122);\" data-tooltip=\"Token 82778: ' contrasting'\n",
       "Feature 0: 0.709\n",
       "Feature 1: 3.717\" data-tokenstr=\" contrasting\">&nbsp;contrasting</span><span class=\"token\" style=\"--top-color: rgba(255, 0, 0, 0.053); --bottom-color: rgba(255, 0, 0, 0.002);\" data-tooltip=\"Token 2881: ' color'\n",
       "Feature 0: 0.193\n",
       "Feature 1: 0.046\" data-tokenstr=\" color\">&nbsp;color</span><span class=\"token\" style=\"--top-color: rgba(255, 0, 0, 0.253); --bottom-color: rgba(255, 0, 0, 0.034);\" data-tooltip=\"Token 591: ' ('\n",
       "Feature 0: 0.913\n",
       "Feature 1: 1.036\" data-tokenstr=\" (\">&nbsp;(</span><span class=\"token\" style=\"--top-color: rgba(255, 0, 0, 0.264); --bottom-color: rgba(255, 0, 0, 0.062);\" data-tooltip=\"Token 5023: 'like'\n",
       "Feature 0: 0.953\n",
       "Feature 1: 1.896\" data-tokenstr=\"like\">like</span><span class=\"token\" style=\"--top-color: rgba(255, 0, 0, 0.138); --bottom-color: rgba(255, 0, 0, 0.056);\" data-tooltip=\"Token 2674: ' white'\n",
       "Feature 0: 0.496\n",
       "Feature 1: 1.715\" data-tokenstr=\" white\">&nbsp;white</span><span class=\"token\" style=\"--top-color: rgba(255, 0, 0, 0.053); --bottom-color: rgba(255, 0, 0, 0.014);\" data-tooltip=\"Token 689: ' or'\n",
       "Feature 0: 0.190\n",
       "Feature 1: 0.425\" data-tokenstr=\" or\">&nbsp;or</span><span class=\"token\" style=\"--top-color: rgba(255, 0, 0, 0.467); --bottom-color: rgba(255, 0, 0, 0.088);\" data-tooltip=\"Token 476: ' a'\n",
       "Feature 0: 1.684\n",
       "Feature 1: 2.682\" data-tokenstr=\" a\">&nbsp;a</span><span class=\"token\" style=\"--top-color: rgba(255, 0, 0, 0.156); --bottom-color: rgba(255, 0, 0, 0.059);\" data-tooltip=\"Token 8660: ' bright'\n",
       "Feature 0: 0.563\n",
       "Feature 1: 1.790\" data-tokenstr=\" bright\">&nbsp;bright</span><span class=\"token\" style=\"--top-color: rgba(255, 0, 0, 0.132); --bottom-color: rgba(255, 0, 0, 0.063);\" data-tooltip=\"Token 8123: ' yellow'\n",
       "Feature 0: 0.477\n",
       "Feature 1: 1.919\" data-tokenstr=\" yellow\">&nbsp;yellow</span><span class=\"token\" style=\"--top-color: rgba(255, 0, 0, 0.064); --bottom-color: rgba(255, 0, 0, 0.019);\" data-tooltip=\"Token 235275: ')'\n",
       "Feature 0: 0.232\n",
       "Feature 1: 0.588\" data-tokenstr=\")\">)</span><span class=\"token\" style=\"--top-color: rgba(255, 0, 0, 0.344); --bottom-color: rgba(255, 0, 0, 0.048);\" data-tooltip=\"Token 2691: ' against'\n",
       "Feature 0: 1.239\n",
       "Feature 1: 1.468\" data-tokenstr=\" against\">&nbsp;against</span><span class=\"token\" style=\"--top-color: rgba(255, 0, 0, 0.013); --bottom-color: rgba(255, 0, 0, 0.004);\" data-tooltip=\"Token 573: ' the'\n",
       "Feature 0: 0.049\n",
       "Feature 1: 0.127\" data-tokenstr=\" the\">&nbsp;the</span><span class=\"token\" style=\"--top-color: rgba(255, 0, 0, 0.226); --bottom-color: rgba(255, 0, 0, 0.022);\" data-tooltip=\"Token 3824: ' background'\n",
       "Feature 0: 0.814\n",
       "Feature 1: 0.656\" data-tokenstr=\" background\">&nbsp;background</span><span class=\"token\" style=\"--top-color: rgba(255, 0, 0, 0.074); --bottom-color: rgba(255, 0, 0, 0.014);\" data-tooltip=\"Token 235265: '.'\n",
       "Feature 0: 0.266\n",
       "Feature 1: 0.422\" data-tokenstr=\".\">.</span><span class=\"token\" style=\"--top-color: rgba(255, 0, 0, 0.281); --bottom-color: rgba(255, 0, 0, 0.030);\" data-tooltip=\"Token 109: '\\n\\n'\n",
       "Feature 0: 1.015\n",
       "Feature 1: 0.917\" data-tokenstr=\"&#10;&#10;\">\\n<br>\\n<br></span><span class=\"token\" style=\"--top-color: rgba(255, 0, 0, 0.005); --bottom-color: rgba(255, 0, 0, 0.013);\" data-tooltip=\"Token 688: '**'\n",
       "Feature 0: 0.019\n",
       "Feature 1: 0.388\" data-tokenstr=\"**\">**</span><span class=\"token\" style=\"--top-color: rgba(255, 0, 0, 0.321); --bottom-color: rgba(255, 0, 0, 0.104);\" data-tooltip=\"Token 2915: 'Color'\n",
       "Feature 0: 1.158\n",
       "Feature 1: 3.176\" data-tokenstr=\"Color\">Color</span><span class=\"token\" style=\"--top-color: rgba(255, 0, 0, 0.063); --bottom-color: rgba(255, 0, 0, 0.018);\" data-tooltip=\"Token 97806: ' Palette'\n",
       "Feature 0: 0.228\n",
       "Feature 1: 0.538\" data-tokenstr=\" Palette\">&nbsp;Palette</span><span class=\"token\" style=\"--top-color: rgba(255, 0, 0, 0.001); --bottom-color: rgba(255, 0, 0, 0.000);\" data-tooltip=\"Token 66058: ':**'\n",
       "Feature 0: 0.003\n",
       "Feature 1: 0.012\" data-tokenstr=\":**\">:**</span><span class=\"token\" style=\"--top-color: rgba(255, 0, 0, 0.205); --bottom-color: rgba(255, 0, 0, 0.041);\" data-tooltip=\"Token 109: '\\n\\n'\n",
       "Feature 0: 0.740\n",
       "Feature 1: 1.239\" data-tokenstr=\"&#10;&#10;\">\\n<br>\\n<br></span><span class=\"token\" style=\"--top-color: rgba(255, 0, 0, 0.002); --bottom-color: rgba(255, 0, 0, 0.005);\" data-tooltip=\"Token 235287: '*'\n",
       "Feature 0: 0.007\n",
       "Feature 1: 0.161\" data-tokenstr=\"*\">*</span><span class=\"token\" style=\"--top-color: rgba(255, 0, 0, 0.088); --bottom-color: rgba(255, 0, 0, 0.019);\" data-tooltip=\"Token 5231: ' **'\n",
       "Feature 0: 0.317\n",
       "Feature 1: 0.585\" data-tokenstr=\" **\">&nbsp;**</span><span class=\"token\" style=\"--top-color: rgba(255, 0, 0, 0.222); --bottom-color: rgba(255, 0, 0, 0.028);\" data-tooltip=\"Token 17140: 'Primary'\n",
       "Feature 0: 0.800\n",
       "Feature 1: 0.859\" data-tokenstr=\"Primary\">Primary</span><span class=\"token\" style=\"--top-color: rgba(255, 0, 0, 0.151); --bottom-color: rgba(255, 0, 0, 0.046);\" data-tooltip=\"Token 66058: ':**'\n",
       "Feature 0: 0.543\n",
       "Feature 1: 1.396\" data-tokenstr=\":**\">:**</span><span class=\"token\" style=\"--top-color: rgba(255, 0, 0, 0.388); --bottom-color: rgba(255, 0, 0, 0.125);\" data-tooltip=\"Token 139: '  '\n",
       "Feature 0: 1.401\n",
       "Feature 1: 3.809\" data-tokenstr=\"  \">&nbsp;&nbsp;</span><span class=\"token\" style=\"--top-color: rgba(255, 0, 0, 0.469); --bottom-color: rgba(255, 0, 0, 0.051);\" data-tooltip=\"Token 220488: 'Teal'\n",
       "Feature 0: 1.690\n",
       "Feature 1: 1.540\" data-tokenstr=\"Teal\">Teal</span><span class=\"token\" style=\"--top-color: rgba(255, 0, 0, 0.070); --bottom-color: rgba(255, 0, 0, 0.009);\" data-tooltip=\"Token 235269: ','\n",
       "Feature 0: 0.253\n",
       "Feature 1: 0.265\" data-tokenstr=\",\">,</span><span class=\"token\" style=\"--top-color: rgba(255, 0, 0, 0.168); --bottom-color: rgba(255, 0, 0, 0.028);\" data-tooltip=\"Token 10436: ' orange'\n",
       "Feature 0: 0.607\n",
       "Feature 1: 0.838\" data-tokenstr=\" orange\">&nbsp;orange</span><span class=\"token\" style=\"--top-color: rgba(255, 0, 0, 0.003); --bottom-color: rgba(255, 0, 0, 0.000);\" data-tooltip=\"Token 235269: ','\n",
       "Feature 0: 0.011\n",
       "Feature 1: 0.007\" data-tokenstr=\",\">,</span><span class=\"token\" style=\"--top-color: rgba(255, 0, 0, 0.189); --bottom-color: rgba(255, 0, 0, 0.006);\" data-tooltip=\"Token 15811: ' purple'\n",
       "Feature 0: 0.682\n",
       "Feature 1: 0.182\" data-tokenstr=\" purple\">&nbsp;purple</span><span class=\"token\" style=\"--top-color: rgba(255, 0, 0, 0.026); --bottom-color: rgba(255, 0, 0, 0.001);\" data-tooltip=\"Token 235269: ','\n",
       "Feature 0: 0.096\n",
       "Feature 1: 0.037\" data-tokenstr=\",\">,</span><span class=\"token\" style=\"--top-color: rgba(255, 0, 0, 0.183); --bottom-color: rgba(255, 0, 0, 0.065);\" data-tooltip=\"Token 9010: ' pink'\n",
       "Feature 0: 0.660\n",
       "Feature 1: 1.970\" data-tokenstr=\" pink\">&nbsp;pink</span><span class=\"token\" style=\"--top-color: rgba(255, 0, 0, 0.426); --bottom-color: rgba(255, 0, 0, 0.056);\" data-tooltip=\"Token 235269: ','\n",
       "Feature 0: 1.538\n",
       "Feature 1: 1.720\" data-tokenstr=\",\">,</span><span class=\"token\" style=\"--top-color: rgba(255, 0, 0, 0.270); --bottom-color: rgba(255, 0, 0, 0.017);\" data-tooltip=\"Token 578: ' and'\n",
       "Feature 0: 0.972\n",
       "Feature 1: 0.532\" data-tokenstr=\" and\">&nbsp;and</span><span class=\"token\" style=\"--top-color: rgba(255, 0, 0, 0.073); --bottom-color: rgba(255, 0, 0, 0.024);\" data-tooltip=\"Token 2674: ' white'\n",
       "Feature 0: 0.262\n",
       "Feature 1: 0.728\" data-tokenstr=\" white\">&nbsp;white</span><span class=\"token\" style=\"--top-color: rgba(255, 0, 0, 0.234); --bottom-color: rgba(255, 0, 0, 0.032);\" data-tooltip=\"Token 235265: '.'\n",
       "Feature 0: 0.845\n",
       "Feature 1: 0.979\" data-tokenstr=\".\">.</span><span class=\"token\" style=\"--top-color: rgba(255, 0, 0, 0.187); --bottom-color: rgba(255, 0, 0, 0.013);\" data-tooltip=\"Token 108: '\\n'\n",
       "Feature 0: 0.674\n",
       "Feature 1: 0.397\" data-tokenstr=\"&#10;\">\\n<br></span><span class=\"token\" style=\"--top-color: rgba(255, 0, 0, 0.001); --bottom-color: rgba(255, 0, 0, 0.001);\" data-tooltip=\"Token 235287: '*'\n",
       "Feature 0: 0.004\n",
       "Feature 1: 0.032\" data-tokenstr=\"*\">*</span><span class=\"token\" style=\"--top-color: rgba(255, 0, 0, 0.001); --bottom-color: rgba(255, 0, 0, 0.000);\" data-tooltip=\"Token 5231: ' **'\n",
       "Feature 0: 0.004\n",
       "Feature 1: 0.004\" data-tokenstr=\" **\">&nbsp;**</span><span class=\"token\" style=\"--top-color: rgba(255, 0, 0, 0.193); --bottom-color: rgba(255, 0, 0, 0.088);\" data-tooltip=\"Token 92349: 'Accent'\n",
       "Feature 0: 0.696\n",
       "Feature 1: 2.666\" data-tokenstr=\"Accent\">Accent</span><span class=\"token\" style=\"--top-color: rgba(255, 0, 0, 0.008); --bottom-color: rgba(255, 0, 0, 0.001);\" data-tooltip=\"Token 66058: ':**'\n",
       "Feature 0: 0.028\n",
       "Feature 1: 0.023\" data-tokenstr=\":**\">:**</span><span class=\"token\" style=\"--top-color: rgba(255, 0, 0, 0.214); --bottom-color: rgba(255, 0, 0, 0.034);\" data-tooltip=\"Token 139: '  '\n",
       "Feature 0: 0.772\n",
       "Feature 1: 1.029\" data-tokenstr=\"  \">&nbsp;&nbsp;</span><span class=\"token\" style=\"--top-color: rgba(255, 0, 0, 0.312); --bottom-color: rgba(255, 0, 0, 0.068);\" data-tooltip=\"Token 9737: 'Black'\n",
       "Feature 0: 1.126\n",
       "Feature 1: 2.057\" data-tokenstr=\"Black\">Black</span><span class=\"token\" style=\"--top-color: rgba(255, 0, 0, 0.308); --bottom-color: rgba(255, 0, 0, 0.084);\" data-tooltip=\"Token 604: ' for'\n",
       "Feature 0: 1.111\n",
       "Feature 1: 2.551\" data-tokenstr=\" for\">&nbsp;for</span><span class=\"token\" style=\"--top-color: rgba(255, 0, 0, 0.282); --bottom-color: rgba(255, 0, 0, 0.015);\" data-tooltip=\"Token 573: ' the'\n",
       "Feature 0: 1.019\n",
       "Feature 1: 0.466\" data-tokenstr=\" the\">&nbsp;the</span><span class=\"token\" style=\"--top-color: rgba(255, 0, 0, 0.025); --bottom-color: rgba(255, 0, 0, 0.019);\" data-tooltip=\"Token 2793: ' text'\n",
       "Feature 0: 0.091\n",
       "Feature 1: 0.567\" data-tokenstr=\" text\">&nbsp;text</span><span class=\"token\" style=\"--top-color: rgba(255, 0, 0, 0.270); --bottom-color: rgba(255, 0, 0, 0.043);\" data-tooltip=\"Token 578: ' and'\n",
       "Feature 0: 0.974\n",
       "Feature 1: 1.317\" data-tokenstr=\" and\">&nbsp;and</span><span class=\"token\" style=\"--top-color: rgba(255, 0, 0, 0.273); --bottom-color: rgba(255, 0, 0, 0.046);\" data-tooltip=\"Token 46880: ' paw'\n",
       "Feature 0: 0.984\n",
       "Feature 1: 1.392\" data-tokenstr=\" paw\">&nbsp;paw</span><span class=\"token\" style=\"--top-color: rgba(255, 0, 0, 0.181); --bottom-color: rgba(255, 0, 0, 0.059);\" data-tooltip=\"Token 4152: ' print'\n",
       "Feature 0: 0.652\n",
       "Feature 1: 1.799\" data-tokenstr=\" print\">&nbsp;print</span><span class=\"token\" style=\"--top-color: rgba(255, 0, 0, 0.234); --bottom-color: rgba(255, 0, 0, 0.127);\" data-tooltip=\"Token 57175: ' outlines'\n",
       "Feature 0: 0.842\n",
       "Feature 1: 3.859\" data-tokenstr=\" outlines\">&nbsp;outlines</span><span class=\"token\" style=\"--top-color: rgba(255, 0, 0, 0.082); --bottom-color: rgba(255, 0, 0, 0.008);\" data-tooltip=\"Token 235265: '.'\n",
       "Feature 0: 0.295\n",
       "Feature 1: 0.239\" data-tokenstr=\".\">.</span><span class=\"token\" style=\"--top-color: rgba(255, 0, 0, 0.095); --bottom-color: rgba(255, 0, 0, 0.018);\" data-tooltip=\"Token 109: '\\n\\n'\n",
       "Feature 0: 0.343\n",
       "Feature 1: 0.544\" data-tokenstr=\"&#10;&#10;\">\\n<br>\\n<br></span><span class=\"token\" style=\"--top-color: rgba(255, 0, 0, 0.007); --bottom-color: rgba(255, 0, 0, 0.008);\" data-tooltip=\"Token 688: '**'\n",
       "Feature 0: 0.024\n",
       "Feature 1: 0.245\" data-tokenstr=\"**\">**</span><span class=\"token\" style=\"--top-color: rgba(255, 0, 0, 0.560); --bottom-color: rgba(255, 0, 0, 0.080);\" data-tooltip=\"Token 10882: 'Design'\n",
       "Feature 0: 2.020\n",
       "Feature 1: 2.426\" data-tokenstr=\"Design\">Design</span><span class=\"token\" style=\"--top-color: rgba(255, 0, 0, 0.447); --bottom-color: rgba(255, 0, 0, 0.057);\" data-tooltip=\"Token 34762: ' Elements'\n",
       "Feature 0: 1.611\n",
       "Feature 1: 1.723\" data-tokenstr=\" Elements\">&nbsp;Elements</span><span class=\"token\" style=\"--top-color: rgba(255, 0, 0, 0.015); --bottom-color: rgba(255, 0, 0, 0.001);\" data-tooltip=\"Token 66058: ':**'\n",
       "Feature 0: 0.055\n",
       "Feature 1: 0.025\" data-tokenstr=\":**\">:**</span><span class=\"token\" style=\"--top-color: rgba(255, 0, 0, 0.018); --bottom-color: rgba(255, 0, 0, 0.004);\" data-tooltip=\"Token 109: '\\n\\n'\n",
       "Feature 0: 0.066\n",
       "Feature 1: 0.123\" data-tokenstr=\"&#10;&#10;\">\\n<br>\\n<br></span><span class=\"token\" style=\"--top-color: rgba(255, 0, 0, 0.001); --bottom-color: rgba(255, 0, 0, 0.004);\" data-tooltip=\"Token 235287: '*'\n",
       "Feature 0: 0.003\n",
       "Feature 1: 0.115\" data-tokenstr=\"*\">*</span><span class=\"token\" style=\"--top-color: rgba(255, 0, 0, 0.021); --bottom-color: rgba(255, 0, 0, 0.004);\" data-tooltip=\"Token 5231: ' **'\n",
       "Feature 0: 0.076\n",
       "Feature 1: 0.123\" data-tokenstr=\" **\">&nbsp;**</span><span class=\"token\" style=\"--top-color: rgba(255, 0, 0, 0.409); --bottom-color: rgba(255, 0, 0, 0.146);\" data-tooltip=\"Token 30438: 'Animal'\n",
       "Feature 0: 1.477\n",
       "Feature 1: 4.438\" data-tokenstr=\"Animal\">Animal</span><span class=\"token\" style=\"--top-color: rgba(255, 0, 0, 0.190); --bottom-color: rgba(255, 0, 0, 0.094);\" data-tooltip=\"Token 81921: ' Prints'\n",
       "Feature 0: 0.685\n",
       "Feature 1: 2.863\" data-tokenstr=\" Prints\">&nbsp;Prints</span><span class=\"token\" style=\"--top-color: rgba(255, 0, 0, 0.009); --bottom-color: rgba(255, 0, 0, 0.001);\" data-tooltip=\"Token 66058: ':**'\n",
       "Feature 0: 0.033\n",
       "Feature 1: 0.030\" data-tokenstr=\":**\">:**</span><span class=\"token\" style=\"--top-color: rgba(255, 0, 0, 0.242); --bottom-color: rgba(255, 0, 0, 0.028);\" data-tooltip=\"Token 714: ' The'\n",
       "Feature 0: 0.872\n",
       "Feature 1: 0.859\" data-tokenstr=\" The\">&nbsp;The</span><span class=\"token\" style=\"--top-color: rgba(255, 0, 0, 0.063); --bottom-color: rgba(255, 0, 0, 0.040);\" data-tooltip=\"Token 46880: ' paw'\n",
       "Feature 0: 0.228\n",
       "Feature 1: 1.209\" data-tokenstr=\" paw\">&nbsp;paw</span><span class=\"token\" style=\"--top-color: rgba(255, 0, 0, 0.194); --bottom-color: rgba(255, 0, 0, 0.012);\" data-tooltip=\"Token 26371: ' prints'\n",
       "Feature 0: 0.699\n",
       "Feature 1: 0.370\" data-tokenstr=\" prints\">&nbsp;prints</span><span class=\"token\" style=\"--top-color: rgba(255, 0, 0, 0.401); --bottom-color: rgba(255, 0, 0, 0.067);\" data-tooltip=\"Token 708: ' are'\n",
       "Feature 0: 1.445\n",
       "Feature 1: 2.053\" data-tokenstr=\" are\">&nbsp;are</span><span class=\"token\" style=\"--top-color: rgba(255, 0, 0, 0.642); --bottom-color: rgba(255, 0, 0, 0.085);\" data-tooltip=\"Token 780: ' not'\n",
       "Feature 0: 2.316\n",
       "Feature 1: 2.590\" data-tokenstr=\" not\">&nbsp;not</span><span class=\"token\" style=\"--top-color: rgba(255, 0, 0, 0.315); --bottom-color: rgba(255, 0, 0, 0.118);\" data-tooltip=\"Token 22527: ' realistic'\n",
       "Feature 0: 1.136\n",
       "Feature 1: 3.578\" data-tokenstr=\" realistic\">&nbsp;realistic</span><span class=\"token\" style=\"--top-color: rgba(255, 0, 0, 0.239); --bottom-color: rgba(255, 0, 0, 0.030);\" data-tooltip=\"Token 235269: ','\n",
       "Feature 0: 0.862\n",
       "Feature 1: 0.924\" data-tokenstr=\",\">,</span><span class=\"token\" style=\"--top-color: rgba(255, 0, 0, 0.057); --bottom-color: rgba(255, 0, 0, 0.005);\" data-tooltip=\"Token 901: ' but'\n",
       "Feature 0: 0.205\n",
       "Feature 1: 0.139\" data-tokenstr=\" but\">&nbsp;but</span><span class=\"token\" style=\"--top-color: rgba(255, 0, 0, 0.269); --bottom-color: rgba(255, 0, 0, 0.070);\" data-tooltip=\"Token 131825: ' stylized'\n",
       "Feature 0: 0.971\n",
       "Feature 1: 2.117\" data-tokenstr=\" stylized\">&nbsp;stylized</span><span class=\"token\" style=\"--top-color: rgba(255, 0, 0, 0.265); --bottom-color: rgba(255, 0, 0, 0.020);\" data-tooltip=\"Token 577: ' to'\n",
       "Feature 0: 0.958\n",
       "Feature 1: 0.617\" data-tokenstr=\" to\">&nbsp;to</span><span class=\"token\" style=\"--top-color: rgba(255, 0, 0, 0.382); --bottom-color: rgba(255, 0, 0, 0.116);\" data-tooltip=\"Token 614: ' be'\n",
       "Feature 0: 1.379\n",
       "Feature 1: 3.537\" data-tokenstr=\" be\">&nbsp;be</span><span class=\"token\" style=\"--top-color: rgba(255, 0, 0, 0.354); --bottom-color: rgba(255, 0, 0, 0.042);\" data-tooltip=\"Token 74832: ' playful'\n",
       "Feature 0: 1.276\n",
       "Feature 1: 1.289\" data-tokenstr=\" playful\">&nbsp;playful</span><span class=\"token\" style=\"--top-color: rgba(255, 0, 0, 0.010); --bottom-color: rgba(255, 0, 0, 0.002);\" data-tooltip=\"Token 578: ' and'\n",
       "Feature 0: 0.036\n",
       "Feature 1: 0.058\" data-tokenstr=\" and\">&nbsp;and</span><span class=\"token\" style=\"--top-color: rgba(255, 0, 0, 0.284); --bottom-color: rgba(255, 0, 0, 0.064);\" data-tooltip=\"Token 6312: ' eye'\n",
       "Feature 0: 1.024\n",
       "Feature 1: 1.946\" data-tokenstr=\" eye\">&nbsp;eye</span><span class=\"token\" style=\"--top-color: rgba(255, 0, 0, 0.000); --bottom-color: rgba(255, 0, 0, 0.000);\" data-tooltip=\"Token 235290: '-'\n",
       "Feature 0: 0.000\n",
       "Feature 1: 0.001\" data-tokenstr=\"-\">-</span><span class=\"token\" style=\"--top-color: rgba(255, 0, 0, 0.001); --bottom-color: rgba(255, 0, 0, 0.000);\" data-tooltip=\"Token 95821: 'catching'\n",
       "Feature 0: 0.003\n",
       "Feature 1: 0.001\" data-tokenstr=\"catching\">catching</span><span class=\"token\" style=\"--top-color: rgba(255, 0, 0, 0.033); --bottom-color: rgba(255, 0, 0, 0.002);\" data-tooltip=\"Token 235265: '.'\n",
       "Feature 0: 0.118\n",
       "Feature 1: 0.062\" data-tokenstr=\".\">.</span><span class=\"token\" style=\"--top-color: rgba(255, 0, 0, 0.366); --bottom-color: rgba(255, 0, 0, 0.061);\" data-tooltip=\"Token 235248: ' '\n",
       "Feature 0: 1.320\n",
       "Feature 1: 1.857\" data-tokenstr=\" \">&nbsp;</span><span class=\"token\" style=\"--top-color: rgba(255, 0, 0, 0.000); --bottom-color: rgba(255, 0, 0, 0.004);\" data-tooltip=\"Token 108: '\\n'\n",
       "Feature 0: 0.001\n",
       "Feature 1: 0.134\" data-tokenstr=\"&#10;\">\\n<br></span><span class=\"token\" style=\"--top-color: rgba(255, 0, 0, 0.001); --bottom-color: rgba(255, 0, 0, 0.000);\" data-tooltip=\"Token 235287: '*'\n",
       "Feature 0: 0.002\n",
       "Feature 1: 0.006\" data-tokenstr=\"*\">*</span><span class=\"token\" style=\"--top-color: rgba(255, 0, 0, 0.001); --bottom-color: rgba(255, 0, 0, 0.000);\" data-tooltip=\"Token 5231: ' **'\n",
       "Feature 0: 0.002\n",
       "Feature 1: 0.002\" data-tokenstr=\" **\">&nbsp;**</span><span class=\"token\" style=\"--top-color: rgba(255, 0, 0, 0.421); --bottom-color: rgba(255, 0, 0, 0.132);\" data-tooltip=\"Token 35202: 'Positive'\n",
       "Feature 0: 1.518\n",
       "Feature 1: 4.031\" data-tokenstr=\"Positive\">Positive</span><span class=\"token\" style=\"--top-color: rgba(255, 0, 0, 0.301); --bottom-color: rgba(255, 0, 0, 0.100);\" data-tooltip=\"Token 193128: ' Imagery'\n",
       "Feature 0: 1.084\n",
       "Feature 1: 3.053\" data-tokenstr=\" Imagery\">&nbsp;Imagery</span><span class=\"token\" style=\"--top-color: rgba(255, 0, 0, 0.001); --bottom-color: rgba(255, 0, 0, 0.000);\" data-tooltip=\"Token 66058: ':**'\n",
       "Feature 0: 0.003\n",
       "Feature 1: 0.005\" data-tokenstr=\":**\">:**</span><span class=\"token\" style=\"--top-color: rgba(255, 0, 0, 0.094); --bottom-color: rgba(255, 0, 0, 0.005);\" data-tooltip=\"Token 714: ' The'\n",
       "Feature 0: 0.339\n",
       "Feature 1: 0.154\" data-tokenstr=\" The\">&nbsp;The</span><span class=\"token\" style=\"--top-color: rgba(255, 0, 0, 0.261); --bottom-color: rgba(255, 0, 0, 0.077);\" data-tooltip=\"Token 148655: ' intertwined'\n",
       "Feature 0: 0.941\n",
       "Feature 1: 2.350\" data-tokenstr=\" intertwined\">&nbsp;intertwined</span><span class=\"token\" style=\"--top-color: rgba(255, 0, 0, 0.227); --bottom-color: rgba(255, 0, 0, 0.045);\" data-tooltip=\"Token 5929: ' dog'\n",
       "Feature 0: 0.818\n",
       "Feature 1: 1.366\" data-tokenstr=\" dog\">&nbsp;dog</span><span class=\"token\" style=\"--top-color: rgba(255, 0, 0, 0.001); --bottom-color: rgba(255, 0, 0, 0.000);\" data-tooltip=\"Token 578: ' and'\n",
       "Feature 0: 0.005\n",
       "Feature 1: 0.007\" data-tokenstr=\" and\">&nbsp;and</span><span class=\"token\" style=\"--top-color: rgba(255, 0, 0, 0.000); --bottom-color: rgba(255, 0, 0, 0.000);\" data-tooltip=\"Token 4401: ' cat'\n",
       "Feature 0: 0.000\n",
       "Feature 1: 0.002\" data-tokenstr=\" cat\">&nbsp;cat</span><span class=\"token\" style=\"--top-color: rgba(255, 0, 0, 0.573); --bottom-color: rgba(255, 0, 0, 0.059);\" data-tooltip=\"Token 154416: ' symbolize'\n",
       "Feature 0: 2.068\n",
       "Feature 1: 1.789\" data-tokenstr=\" symbolize\">&nbsp;symbolize</span><span class=\"token\" style=\"--top-color: rgba(255, 0, 0, 0.359); --bottom-color: rgba(255, 0, 0, 0.035);\" data-tooltip=\"Token 25099: ' unity'\n",
       "Feature 0: 1.296\n",
       "Feature 1: 1.072\" data-tokenstr=\" unity\">&nbsp;unity</span><span class=\"token\" style=\"--top-color: rgba(255, 0, 0, 0.028); --bottom-color: rgba(255, 0, 0, 0.004);\" data-tooltip=\"Token 578: ' and'\n",
       "Feature 0: 0.100\n",
       "Feature 1: 0.128\" data-tokenstr=\" and\">&nbsp;and</span><span class=\"token\" style=\"--top-color: rgba(255, 0, 0, 0.424); --bottom-color: rgba(255, 0, 0, 0.085);\" data-tooltip=\"Token 34987: ' compassion'\n",
       "Feature 0: 1.529\n",
       "Feature 1: 2.572\" data-tokenstr=\" compassion\">&nbsp;compassion</span><span class=\"token\" style=\"--top-color: rgba(255, 0, 0, 0.162); --bottom-color: rgba(255, 0, 0, 0.041);\" data-tooltip=\"Token 235269: ','\n",
       "Feature 0: 0.586\n",
       "Feature 1: 1.258\" data-tokenstr=\",\">,</span><span class=\"token\" style=\"--top-color: rgba(255, 0, 0, 0.542); --bottom-color: rgba(255, 0, 0, 0.103);\" data-tooltip=\"Token 62144: ' highlighting'\n",
       "Feature 0: 1.956\n",
       "Feature 1: 3.133\" data-tokenstr=\" highlighting\">&nbsp;highlighting</span><span class=\"token\" style=\"--top-color: rgba(255, 0, 0, 0.099); --bottom-color: rgba(255, 0, 0, 0.005);\" data-tooltip=\"Token 573: ' the'\n",
       "Feature 0: 0.358\n",
       "Feature 1: 0.141\" data-tokenstr=\" the\">&nbsp;the</span><span class=\"token\" style=\"--top-color: rgba(255, 0, 0, 0.395); --bottom-color: rgba(255, 0, 0, 0.023);\" data-tooltip=\"Token 4268: ' idea'\n",
       "Feature 0: 1.423\n",
       "Feature 1: 0.703\" data-tokenstr=\" idea\">&nbsp;idea</span><span class=\"token\" style=\"--top-color: rgba(255, 0, 0, 0.125); --bottom-color: rgba(255, 0, 0, 0.004);\" data-tooltip=\"Token 674: ' that'\n",
       "Feature 0: 0.452\n",
       "Feature 1: 0.119\" data-tokenstr=\" that\">&nbsp;that</span><span class=\"token\" style=\"--top-color: rgba(255, 0, 0, 0.214); --bottom-color: rgba(255, 0, 0, 0.011);\" data-tooltip=\"Token 36156: ' kindness'\n",
       "Feature 0: 0.773\n",
       "Feature 1: 0.326\" data-tokenstr=\" kindness\">&nbsp;kindness</span><span class=\"token\" style=\"--top-color: rgba(255, 0, 0, 0.244); --bottom-color: rgba(255, 0, 0, 0.118);\" data-tooltip=\"Token 189304: ' transcends'\n",
       "Feature 0: 0.880\n",
       "Feature 1: 3.598\" data-tokenstr=\" transcends\">&nbsp;transcends</span><span class=\"token\" style=\"--top-color: rgba(255, 0, 0, 0.022); --bottom-color: rgba(255, 0, 0, 0.004);\" data-tooltip=\"Token 6202: ' species'\n",
       "Feature 0: 0.079\n",
       "Feature 1: 0.115\" data-tokenstr=\" species\">&nbsp;species</span><span class=\"token\" style=\"--top-color: rgba(255, 0, 0, 0.067); --bottom-color: rgba(255, 0, 0, 0.017);\" data-tooltip=\"Token 235265: '.'\n",
       "Feature 0: 0.240\n",
       "Feature 1: 0.512\" data-tokenstr=\".\">.</span><span class=\"token\" style=\"--top-color: rgba(255, 0, 0, 0.151); --bottom-color: rgba(255, 0, 0, 0.025);\" data-tooltip=\"Token 108: '\\n'\n",
       "Feature 0: 0.545\n",
       "Feature 1: 0.768\" data-tokenstr=\"&#10;\">\\n<br></span><span class=\"token\" style=\"--top-color: rgba(255, 0, 0, 0.001); --bottom-color: rgba(255, 0, 0, 0.001);\" data-tooltip=\"Token 235287: '*'\n",
       "Feature 0: 0.003\n",
       "Feature 1: 0.040\" data-tokenstr=\"*\">*</span><span class=\"token\" style=\"--top-color: rgba(255, 0, 0, 0.001); --bottom-color: rgba(255, 0, 0, 0.000);\" data-tooltip=\"Token 5231: ' **'\n",
       "Feature 0: 0.004\n",
       "Feature 1: 0.004\" data-tokenstr=\" **\">&nbsp;**</span><span class=\"token\" style=\"--top-color: rgba(255, 0, 0, 0.467); --bottom-color: rgba(255, 0, 0, 0.088);\" data-tooltip=\"Token 39388: 'Bold'\n",
       "Feature 0: 1.686\n",
       "Feature 1: 2.670\" data-tokenstr=\"Bold\">Bold</span><span class=\"token\" style=\"--top-color: rgba(255, 0, 0, 0.436); --bottom-color: rgba(255, 0, 0, 0.031);\" data-tooltip=\"Token 126505: ' Typography'\n",
       "Feature 0: 1.573\n",
       "Feature 1: 0.930\" data-tokenstr=\" Typography\">&nbsp;Typography</span><span class=\"token\" style=\"--top-color: rgba(255, 0, 0, 0.001); --bottom-color: rgba(255, 0, 0, 0.000);\" data-tooltip=\"Token 66058: ':**'\n",
       "Feature 0: 0.004\n",
       "Feature 1: 0.003\" data-tokenstr=\":**\">:**</span><span class=\"token\" style=\"--top-color: rgba(255, 0, 0, 0.109); --bottom-color: rgba(255, 0, 0, 0.003);\" data-tooltip=\"Token 714: ' The'\n",
       "Feature 0: 0.395\n",
       "Feature 1: 0.104\" data-tokenstr=\" The\">&nbsp;The</span><span class=\"token\" style=\"--top-color: rgba(255, 0, 0, 0.425); --bottom-color: rgba(255, 0, 0, 0.066);\" data-tooltip=\"Token 664: ' &quot;'\n",
       "Feature 0: 1.533\n",
       "Feature 1: 2.010\" data-tokenstr=\" &quot;\">&nbsp;&quot;</span><span class=\"token\" style=\"--top-color: rgba(255, 0, 0, 0.002); --bottom-color: rgba(255, 0, 0, 0.002);\" data-tooltip=\"Token 13764: 'Kind'\n",
       "Feature 0: 0.006\n",
       "Feature 1: 0.047\" data-tokenstr=\"Kind\">Kind</span><span class=\"token\" style=\"--top-color: rgba(255, 0, 0, 0.000); --bottom-color: rgba(255, 0, 0, 0.000);\" data-tooltip=\"Token 1746: 'ness'\n",
       "Feature 0: 0.000\n",
       "Feature 1: 0.001\" data-tokenstr=\"ness\">ness</span><span class=\"token\" style=\"--top-color: rgba(255, 0, 0, 0.006); --bottom-color: rgba(255, 0, 0, 0.003);\" data-tooltip=\"Token 603: ' is'\n",
       "Feature 0: 0.023\n",
       "Feature 1: 0.096\" data-tokenstr=\" is\">&nbsp;is</span><span class=\"token\" style=\"--top-color: rgba(255, 0, 0, 0.001); --bottom-color: rgba(255, 0, 0, 0.000);\" data-tooltip=\"Token 1419: ' Con'\n",
       "Feature 0: 0.004\n",
       "Feature 1: 0.003\" data-tokenstr=\" Con\">&nbsp;Con</span><span class=\"token\" style=\"--top-color: rgba(255, 0, 0, 0.000); --bottom-color: rgba(255, 0, 0, 0.000);\" data-tooltip=\"Token 3123: 'tag'\n",
       "Feature 0: 0.000\n",
       "Feature 1: 0.000\" data-tokenstr=\"tag\">tag</span><span class=\"token\" style=\"--top-color: rgba(255, 0, 0, 0.000); --bottom-color: rgba(255, 0, 0, 0.000);\" data-tooltip=\"Token 2647: 'ious'\n",
       "Feature 0: 0.000\n",
       "Feature 1: 0.000\" data-tokenstr=\"ious\">ious</span><span class=\"token\" style=\"--top-color: rgba(255, 0, 0, 0.000); --bottom-color: rgba(255, 0, 0, 0.000);\" data-tooltip=\"Token 235281: '&quot;'\n",
       "Feature 0: 0.001\n",
       "Feature 1: 0.001\" data-tokenstr=\"&quot;\">&quot;</span><span class=\"token\" style=\"--top-color: rgba(255, 0, 0, 0.296); --bottom-color: rgba(255, 0, 0, 0.011);\" data-tooltip=\"Token 2793: ' text'\n",
       "Feature 0: 1.066\n",
       "Feature 1: 0.337\" data-tokenstr=\" text\">&nbsp;text</span><span class=\"token\" style=\"--top-color: rgba(255, 0, 0, 0.114); --bottom-color: rgba(255, 0, 0, 0.011);\" data-tooltip=\"Token 603: ' is'\n",
       "Feature 0: 0.413\n",
       "Feature 1: 0.349\" data-tokenstr=\" is\">&nbsp;is</span><span class=\"token\" style=\"--top-color: rgba(255, 0, 0, 0.386); --bottom-color: rgba(255, 0, 0, 0.056);\" data-tooltip=\"Token 2910: ' large'\n",
       "Feature 0: 1.394\n",
       "Feature 1: 1.696\" data-tokenstr=\" large\">&nbsp;large</span><span class=\"token\" style=\"--top-color: rgba(255, 0, 0, 0.054); --bottom-color: rgba(255, 0, 0, 0.007);\" data-tooltip=\"Token 578: ' and'\n",
       "Feature 0: 0.195\n",
       "Feature 1: 0.213\" data-tokenstr=\" and\">&nbsp;and</span><span class=\"token\" style=\"--top-color: rgba(255, 0, 0, 0.511); --bottom-color: rgba(255, 0, 0, 0.072);\" data-tooltip=\"Token 3110: ' clear'\n",
       "Feature 0: 1.842\n",
       "Feature 1: 2.180\" data-tokenstr=\" clear\">&nbsp;clear</span><span class=\"token\" style=\"--top-color: rgba(255, 0, 0, 0.018); --bottom-color: rgba(255, 0, 0, 0.003);\" data-tooltip=\"Token 235269: ','\n",
       "Feature 0: 0.065\n",
       "Feature 1: 0.100\" data-tokenstr=\",\">,</span><span class=\"token\" style=\"--top-color: rgba(255, 0, 0, 0.287); --bottom-color: rgba(255, 0, 0, 0.050);\" data-tooltip=\"Token 3547: ' making'\n",
       "Feature 0: 1.036\n",
       "Feature 1: 1.532\" data-tokenstr=\" making\">&nbsp;making</span><span class=\"token\" style=\"--top-color: rgba(255, 0, 0, 0.179); --bottom-color: rgba(255, 0, 0, 0.005);\" data-tooltip=\"Token 665: ' it'\n",
       "Feature 0: 0.645\n",
       "Feature 1: 0.141\" data-tokenstr=\" it\">&nbsp;it</span><span class=\"token\" style=\"--top-color: rgba(255, 0, 0, 0.332); --bottom-color: rgba(255, 0, 0, 0.059);\" data-tooltip=\"Token 6645: ' easily'\n",
       "Feature 0: 1.197\n",
       "Feature 1: 1.799\" data-tokenstr=\" easily\">&nbsp;easily</span><span class=\"token\" style=\"--top-color: rgba(255, 0, 0, 0.194); --bottom-color: rgba(255, 0, 0, 0.022);\" data-tooltip=\"Token 73502: ' readable'\n",
       "Feature 0: 0.701\n",
       "Feature 1: 0.680\" data-tokenstr=\" readable\">&nbsp;readable</span><span class=\"token\" style=\"--top-color: rgba(255, 0, 0, 0.264); --bottom-color: rgba(255, 0, 0, 0.051);\" data-tooltip=\"Token 578: ' and'\n",
       "Feature 0: 0.954\n",
       "Feature 1: 1.558\" data-tokenstr=\" and\">&nbsp;and</span><span class=\"token\" style=\"--top-color: rgba(255, 0, 0, 0.159); --bottom-color: rgba(255, 0, 0, 0.032);\" data-tooltip=\"Token 37358: ' memorable'\n",
       "Feature 0: 0.574\n",
       "Feature 1: 0.987\" data-tokenstr=\" memorable\">&nbsp;memorable</span><span class=\"token\" style=\"--top-color: rgba(255, 0, 0, 0.003); --bottom-color: rgba(255, 0, 0, 0.001);\" data-tooltip=\"Token 235265: '.'\n",
       "Feature 0: 0.012\n",
       "Feature 1: 0.026\" data-tokenstr=\".\">.</span><span class=\"token\" style=\"--top-color: rgba(255, 0, 0, 0.357); --bottom-color: rgba(255, 0, 0, 0.035);\" data-tooltip=\"Token 108: '\\n'\n",
       "Feature 0: 1.288\n",
       "Feature 1: 1.059\" data-tokenstr=\"&#10;\">\\n<br></span><span class=\"token\" style=\"--top-color: rgba(255, 0, 0, 0.002); --bottom-color: rgba(255, 0, 0, 0.002);\" data-tooltip=\"Token 235287: '*'\n",
       "Feature 0: 0.007\n",
       "Feature 1: 0.066\" data-tokenstr=\"*\">*</span><span class=\"token\" style=\"--top-color: rgba(255, 0, 0, 0.001); --bottom-color: rgba(255, 0, 0, 0.000);\" data-tooltip=\"Token 5231: ' **'\n",
       "Feature 0: 0.004\n",
       "Feature 1: 0.003\" data-tokenstr=\" **\">&nbsp;**</span><span class=\"token\" style=\"--top-color: rgba(255, 0, 0, 0.772); --bottom-color: rgba(255, 0, 0, 0.122);\" data-tooltip=\"Token 140476: 'Ripple'\n",
       "Feature 0: 2.785\n",
       "Feature 1: 3.707\" data-tokenstr=\"Ripple\">Ripple</span><span class=\"token\" style=\"--top-color: rgba(255, 0, 0, 0.006); --bottom-color: rgba(255, 0, 0, 0.004);\" data-tooltip=\"Token 19693: ' Effect'\n",
       "Feature 0: 0.023\n",
       "Feature 1: 0.111\" data-tokenstr=\" Effect\">&nbsp;Effect</span><span class=\"token\" style=\"--top-color: rgba(255, 0, 0, 0.004); --bottom-color: rgba(255, 0, 0, 0.004);\" data-tooltip=\"Token 66058: ':**'\n",
       "Feature 0: 0.016\n",
       "Feature 1: 0.132\" data-tokenstr=\":**\">:**</span><span class=\"token\" style=\"--top-color: rgba(255, 0, 0, 0.048); --bottom-color: rgba(255, 0, 0, 0.001);\" data-tooltip=\"Token 714: ' The'\n",
       "Feature 0: 0.172\n",
       "Feature 1: 0.028\" data-tokenstr=\" The\">&nbsp;The</span><span class=\"token\" style=\"--top-color: rgba(255, 0, 0, 0.415); --bottom-color: rgba(255, 0, 0, 0.054);\" data-tooltip=\"Token 46880: ' paw'\n",
       "Feature 0: 1.497\n",
       "Feature 1: 1.645\" data-tokenstr=\" paw\">&nbsp;paw</span><span class=\"token\" style=\"--top-color: rgba(255, 0, 0, 0.062); --bottom-color: rgba(255, 0, 0, 0.016);\" data-tooltip=\"Token 4152: ' print'\n",
       "Feature 0: 0.222\n",
       "Feature 1: 0.475\" data-tokenstr=\" print\">&nbsp;print</span><span class=\"token\" style=\"--top-color: rgba(255, 0, 0, 0.125); --bottom-color: rgba(255, 0, 0, 0.039);\" data-tooltip=\"Token 6883: ' pattern'\n",
       "Feature 0: 0.452\n",
       "Feature 1: 1.175\" data-tokenstr=\" pattern\">&nbsp;pattern</span><span class=\"token\" style=\"--top-color: rgba(255, 0, 0, 0.305); --bottom-color: rgba(255, 0, 0, 0.054);\" data-tooltip=\"Token 18460: ' creates'\n",
       "Feature 0: 1.100\n",
       "Feature 1: 1.649\" data-tokenstr=\" creates\">&nbsp;creates</span><span class=\"token\" style=\"--top-color: rgba(255, 0, 0, 0.026); --bottom-color: rgba(255, 0, 0, 0.008);\" data-tooltip=\"Token 476: ' a'\n",
       "Feature 0: 0.094\n",
       "Feature 1: 0.235\" data-tokenstr=\" a\">&nbsp;a</span><span class=\"token\" style=\"--top-color: rgba(255, 0, 0, 0.299); --bottom-color: rgba(255, 0, 0, 0.040);\" data-tooltip=\"Token 5229: ' sense'\n",
       "Feature 0: 1.080\n",
       "Feature 1: 1.215\" data-tokenstr=\" sense\">&nbsp;sense</span><span class=\"token\" style=\"--top-color: rgba(255, 0, 0, 0.000); --bottom-color: rgba(255, 0, 0, 0.000);\" data-tooltip=\"Token 576: ' of'\n",
       "Feature 0: 0.001\n",
       "Feature 1: 0.001\" data-tokenstr=\" of\">&nbsp;of</span><span class=\"token\" style=\"--top-color: rgba(255, 0, 0, 0.082); --bottom-color: rgba(255, 0, 0, 0.014);\" data-tooltip=\"Token 8069: ' movement'\n",
       "Feature 0: 0.294\n",
       "Feature 1: 0.415\" data-tokenstr=\" movement\">&nbsp;movement</span><span class=\"token\" style=\"--top-color: rgba(255, 0, 0, 0.013); --bottom-color: rgba(255, 0, 0, 0.007);\" data-tooltip=\"Token 578: ' and'\n",
       "Feature 0: 0.045\n",
       "Feature 1: 0.203\" data-tokenstr=\" and\">&nbsp;and</span><span class=\"token\" style=\"--top-color: rgba(255, 0, 0, 0.556); --bottom-color: rgba(255, 0, 0, 0.073);\" data-tooltip=\"Token 6653: ' connection'\n",
       "Feature 0: 2.004\n",
       "Feature 1: 2.219\" data-tokenstr=\" connection\">&nbsp;connection</span><span class=\"token\" style=\"--top-color: rgba(255, 0, 0, 0.028); --bottom-color: rgba(255, 0, 0, 0.010);\" data-tooltip=\"Token 235269: ','\n",
       "Feature 0: 0.103\n",
       "Feature 1: 0.313\" data-tokenstr=\",\">,</span><span class=\"token\" style=\"--top-color: rgba(255, 0, 0, 0.486); --bottom-color: rgba(255, 0, 0, 0.098);\" data-tooltip=\"Token 31183: ' suggesting'\n",
       "Feature 0: 1.752\n",
       "Feature 1: 2.988\" data-tokenstr=\" suggesting\">&nbsp;suggesting</span><span class=\"token\" style=\"--top-color: rgba(255, 0, 0, 0.210); --bottom-color: rgba(255, 0, 0, 0.016);\" data-tooltip=\"Token 674: ' that'\n",
       "Feature 0: 0.756\n",
       "Feature 1: 0.485\" data-tokenstr=\" that\">&nbsp;that</span><span class=\"token\" style=\"--top-color: rgba(255, 0, 0, 0.060); --bottom-color: rgba(255, 0, 0, 0.006);\" data-tooltip=\"Token 36156: ' kindness'\n",
       "Feature 0: 0.217\n",
       "Feature 1: 0.188\" data-tokenstr=\" kindness\">&nbsp;kindness</span><span class=\"token\" style=\"--top-color: rgba(255, 0, 0, 0.137); --bottom-color: rgba(255, 0, 0, 0.031);\" data-tooltip=\"Token 60030: ' spreads'\n",
       "Feature 0: 0.494\n",
       "Feature 1: 0.940\" data-tokenstr=\" spreads\">&nbsp;spreads</span><span class=\"token\" style=\"--top-color: rgba(255, 0, 0, 0.467); --bottom-color: rgba(255, 0, 0, 0.017);\" data-tooltip=\"Token 1154: ' like'\n",
       "Feature 0: 1.685\n",
       "Feature 1: 0.526\" data-tokenstr=\" like\">&nbsp;like</span><span class=\"token\" style=\"--top-color: rgba(255, 0, 0, 0.038); --bottom-color: rgba(255, 0, 0, 0.010);\" data-tooltip=\"Token 476: ' a'\n",
       "Feature 0: 0.136\n",
       "Feature 1: 0.297\" data-tokenstr=\" a\">&nbsp;a</span><span class=\"token\" style=\"--top-color: rgba(255, 0, 0, 0.094); --bottom-color: rgba(255, 0, 0, 0.028);\" data-tooltip=\"Token 9591: ' wave'\n",
       "Feature 0: 0.341\n",
       "Feature 1: 0.841\" data-tokenstr=\" wave\">&nbsp;wave</span><span class=\"token\" style=\"--top-color: rgba(255, 0, 0, 0.034); --bottom-color: rgba(255, 0, 0, 0.023);\" data-tooltip=\"Token 235265: '.'\n",
       "Feature 0: 0.122\n",
       "Feature 1: 0.710\" data-tokenstr=\".\">.</span><span class=\"token\" style=\"--top-color: rgba(255, 0, 0, 0.172); --bottom-color: rgba(255, 0, 0, 0.020);\" data-tooltip=\"Token 109: '\\n\\n'\n",
       "Feature 0: 0.621\n",
       "Feature 1: 0.615\" data-tokenstr=\"&#10;&#10;\">\\n<br>\\n<br></span><span class=\"token\" style=\"--top-color: rgba(255, 0, 0, 0.013); --bottom-color: rgba(255, 0, 0, 0.010);\" data-tooltip=\"Token 688: '**'\n",
       "Feature 0: 0.046\n",
       "Feature 1: 0.316\" data-tokenstr=\"**\">**</span><span class=\"token\" style=\"--top-color: rgba(255, 0, 0, 0.421); --bottom-color: rgba(255, 0, 0, 0.106);\" data-tooltip=\"Token 9267: 'Target'\n",
       "Feature 0: 1.518\n",
       "Feature 1: 3.236\" data-tokenstr=\"Target\">Target</span><span class=\"token\" style=\"--top-color: rgba(255, 0, 0, 0.005); --bottom-color: rgba(255, 0, 0, 0.002);\" data-tooltip=\"Token 70465: ' Audience'\n",
       "Feature 0: 0.019\n",
       "Feature 1: 0.057\" data-tokenstr=\" Audience\">&nbsp;Audience</span><span class=\"token\" style=\"--top-color: rgba(255, 0, 0, 0.002); --bottom-color: rgba(255, 0, 0, 0.000);\" data-tooltip=\"Token 66058: ':**'\n",
       "Feature 0: 0.006\n",
       "Feature 1: 0.006\" data-tokenstr=\":**\">:**</span><span class=\"token\" style=\"--top-color: rgba(255, 0, 0, 0.305); --bottom-color: rgba(255, 0, 0, 0.073);\" data-tooltip=\"Token 1417: ' This'\n",
       "Feature 0: 1.101\n",
       "Feature 1: 2.234\" data-tokenstr=\" This\">&nbsp;This</span><span class=\"token\" style=\"--top-color: rgba(255, 0, 0, 0.004); --bottom-color: rgba(255, 0, 0, 0.002);\" data-tooltip=\"Token 2480: ' design'\n",
       "Feature 0: 0.015\n",
       "Feature 1: 0.058\" data-tokenstr=\" design\">&nbsp;design</span><span class=\"token\" style=\"--top-color: rgba(255, 0, 0, 0.177); --bottom-color: rgba(255, 0, 0, 0.057);\" data-tooltip=\"Token 40990: ' appeals'\n",
       "Feature 0: 0.639\n",
       "Feature 1: 1.746\" data-tokenstr=\" appeals\">&nbsp;appeals</span><span class=\"token\" style=\"--top-color: rgba(255, 0, 0, 0.001); --bottom-color: rgba(255, 0, 0, 0.000);\" data-tooltip=\"Token 577: ' to'\n",
       "Feature 0: 0.005\n",
       "Feature 1: 0.001\" data-tokenstr=\" to\">&nbsp;to</span><span class=\"token\" style=\"--top-color: rgba(255, 0, 0, 0.155); --bottom-color: rgba(255, 0, 0, 0.080);\" data-tooltip=\"Token 476: ' a'\n",
       "Feature 0: 0.558\n",
       "Feature 1: 2.432\" data-tokenstr=\" a\">&nbsp;a</span><span class=\"token\" style=\"--top-color: rgba(255, 0, 0, 0.183); --bottom-color: rgba(255, 0, 0, 0.018);\" data-tooltip=\"Token 5396: ' wide'\n",
       "Feature 0: 0.661\n",
       "Feature 1: 0.541\" data-tokenstr=\" wide\">&nbsp;wide</span><span class=\"token\" style=\"--top-color: rgba(255, 0, 0, 0.067); --bottom-color: rgba(255, 0, 0, 0.019);\" data-tooltip=\"Token 12207: ' audience'\n",
       "Feature 0: 0.243\n",
       "Feature 1: 0.593\" data-tokenstr=\" audience\">&nbsp;audience</span><span class=\"token\" style=\"--top-color: rgba(255, 0, 0, 0.149); --bottom-color: rgba(255, 0, 0, 0.006);\" data-tooltip=\"Token 235269: ','\n",
       "Feature 0: 0.537\n",
       "Feature 1: 0.169\" data-tokenstr=\",\">,</span><span class=\"token\" style=\"--top-color: rgba(255, 0, 0, 0.306); --bottom-color: rgba(255, 0, 0, 0.013);\" data-tooltip=\"Token 3359: ' including'\n",
       "Feature 0: 1.105\n",
       "Feature 1: 0.403\" data-tokenstr=\" including\">&nbsp;including</span><span class=\"token\" style=\"--top-color: rgba(255, 0, 0, 0.054); --bottom-color: rgba(255, 0, 0, 0.012);\" data-tooltip=\"Token 8205: ' animal'\n",
       "Feature 0: 0.196\n",
       "Feature 1: 0.358\" data-tokenstr=\" animal\">&nbsp;animal</span><span class=\"token\" style=\"--top-color: rgba(255, 0, 0, 0.009); --bottom-color: rgba(255, 0, 0, 0.003);\" data-tooltip=\"Token 28056: ' lovers'\n",
       "Feature 0: 0.031\n",
       "Feature 1: 0.089\" data-tokenstr=\" lovers\">&nbsp;lovers</span><span class=\"token\" style=\"--top-color: rgba(255, 0, 0, 0.049); --bottom-color: rgba(255, 0, 0, 0.005);\" data-tooltip=\"Token 235269: ','\n",
       "Feature 0: 0.175\n",
       "Feature 1: 0.145\" data-tokenstr=\",\">,</span><span class=\"token\" style=\"--top-color: rgba(255, 0, 0, 0.381); --bottom-color: rgba(255, 0, 0, 0.082);\" data-tooltip=\"Token 55604: ' activists'\n",
       "Feature 0: 1.374\n",
       "Feature 1: 2.504\" data-tokenstr=\" activists\">&nbsp;activists</span><span class=\"token\" style=\"--top-color: rgba(255, 0, 0, 0.002); --bottom-color: rgba(255, 0, 0, 0.000);\" data-tooltip=\"Token 235269: ','\n",
       "Feature 0: 0.008\n",
       "Feature 1: 0.007\" data-tokenstr=\",\">,</span><span class=\"token\" style=\"--top-color: rgba(255, 0, 0, 0.009); --bottom-color: rgba(255, 0, 0, 0.004);\" data-tooltip=\"Token 578: ' and'\n",
       "Feature 0: 0.034\n",
       "Feature 1: 0.121\" data-tokenstr=\" and\">&nbsp;and</span><span class=\"token\" style=\"--top-color: rgba(255, 0, 0, 0.225); --bottom-color: rgba(255, 0, 0, 0.039);\" data-tooltip=\"Token 1941: ' those'\n",
       "Feature 0: 0.812\n",
       "Feature 1: 1.183\" data-tokenstr=\" those\">&nbsp;those</span><span class=\"token\" style=\"--top-color: rgba(255, 0, 0, 0.240); --bottom-color: rgba(255, 0, 0, 0.016);\" data-tooltip=\"Token 1064: ' who'\n",
       "Feature 0: 0.864\n",
       "Feature 1: 0.484\" data-tokenstr=\" who\">&nbsp;who</span><span class=\"token\" style=\"--top-color: rgba(255, 0, 0, 0.368); --bottom-color: rgba(255, 0, 0, 0.106);\" data-tooltip=\"Token 708: ' are'\n",
       "Feature 0: 1.326\n",
       "Feature 1: 3.234\" data-tokenstr=\" are\">&nbsp;are</span><span class=\"token\" style=\"--top-color: rgba(255, 0, 0, 0.621); --bottom-color: rgba(255, 0, 0, 0.047);\" data-tooltip=\"Token 33600: ' passionate'\n",
       "Feature 0: 2.240\n",
       "Feature 1: 1.419\" data-tokenstr=\" passionate\">&nbsp;passionate</span><span class=\"token\" style=\"--top-color: rgba(255, 0, 0, 0.000); --bottom-color: rgba(255, 0, 0, 0.000);\" data-tooltip=\"Token 1105: ' about'\n",
       "Feature 0: 0.000\n",
       "Feature 1: 0.000\" data-tokenstr=\" about\">&nbsp;about</span><span class=\"token\" style=\"--top-color: rgba(255, 0, 0, 0.356); --bottom-color: rgba(255, 0, 0, 0.107);\" data-tooltip=\"Token 8205: ' animal'\n",
       "Feature 0: 1.286\n",
       "Feature 1: 3.271\" data-tokenstr=\" animal\">&nbsp;animal</span><span class=\"token\" style=\"--top-color: rgba(255, 0, 0, 0.025); --bottom-color: rgba(255, 0, 0, 0.013);\" data-tooltip=\"Token 22086: ' welfare'\n",
       "Feature 0: 0.091\n",
       "Feature 1: 0.384\" data-tokenstr=\" welfare\">&nbsp;welfare</span><span class=\"token\" style=\"--top-color: rgba(255, 0, 0, 0.024); --bottom-color: rgba(255, 0, 0, 0.004);\" data-tooltip=\"Token 235265: '.'\n",
       "Feature 0: 0.087\n",
       "Feature 1: 0.136\" data-tokenstr=\".\">.</span><span class=\"token\" style=\"--top-color: rgba(255, 0, 0, 0.386); --bottom-color: rgba(255, 0, 0, 0.061);\" data-tooltip=\"Token 235248: ' '\n",
       "Feature 0: 1.394\n",
       "Feature 1: 1.865\" data-tokenstr=\" \">&nbsp;</span><span class=\"token\" style=\"--top-color: rgba(255, 0, 0, 0.122); --bottom-color: rgba(255, 0, 0, 0.013);\" data-tooltip=\"Token 109: '\\n\\n'\n",
       "Feature 0: 0.442\n",
       "Feature 1: 0.395\" data-tokenstr=\"&#10;&#10;\">\\n<br>\\n<br></span><span class=\"token\" style=\"--top-color: rgba(255, 0, 0, 0.009); --bottom-color: rgba(255, 0, 0, 0.010);\" data-tooltip=\"Token 688: '**'\n",
       "Feature 0: 0.032\n",
       "Feature 1: 0.292\" data-tokenstr=\"**\">**</span><span class=\"token\" style=\"--top-color: rgba(255, 0, 0, 0.393); --bottom-color: rgba(255, 0, 0, 0.124);\" data-tooltip=\"Token 38075: 'Impact'\n",
       "Feature 0: 1.417\n",
       "Feature 1: 3.779\" data-tokenstr=\"Impact\">Impact</span><span class=\"token\" style=\"--top-color: rgba(255, 0, 0, 0.012); --bottom-color: rgba(255, 0, 0, 0.005);\" data-tooltip=\"Token 66058: ':**'\n",
       "Feature 0: 0.043\n",
       "Feature 1: 0.156\" data-tokenstr=\":**\">:**</span><span class=\"token\" style=\"--top-color: rgba(255, 0, 0, 0.377); --bottom-color: rgba(255, 0, 0, 0.074);\" data-tooltip=\"Token 109: '\\n\\n'\n",
       "Feature 0: 1.361\n",
       "Feature 1: 2.254\" data-tokenstr=\"&#10;&#10;\">\\n<br>\\n<br></span><span class=\"token\" style=\"--top-color: rgba(255, 0, 0, 0.011); --bottom-color: rgba(255, 0, 0, 0.008);\" data-tooltip=\"Token 235287: '*'\n",
       "Feature 0: 0.041\n",
       "Feature 1: 0.236\" data-tokenstr=\"*\">*</span><span class=\"token\" style=\"--top-color: rgba(255, 0, 0, 0.034); --bottom-color: rgba(255, 0, 0, 0.012);\" data-tooltip=\"Token 5231: ' **'\n",
       "Feature 0: 0.122\n",
       "Feature 1: 0.367\" data-tokenstr=\" **\">&nbsp;**</span><span class=\"token\" style=\"--top-color: rgba(255, 0, 0, 0.258); --bottom-color: rgba(255, 0, 0, 0.102);\" data-tooltip=\"Token 4464: 'Vis'\n",
       "Feature 0: 0.929\n",
       "Feature 1: 3.119\" data-tokenstr=\"Vis\">Vis</span><span class=\"token\" style=\"--top-color: rgba(255, 0, 0, 0.000); --bottom-color: rgba(255, 0, 0, 0.000);\" data-tooltip=\"Token 2156: 'ually'\n",
       "Feature 0: 0.001\n",
       "Feature 1: 0.006\" data-tokenstr=\"ually\">ually</span><span class=\"token\" style=\"--top-color: rgba(255, 0, 0, 0.287); --bottom-color: rgba(255, 0, 0, 0.026);\" data-tooltip=\"Token 20445: ' Appe'\n",
       "Feature 0: 1.034\n",
       "Feature 1: 0.785\" data-tokenstr=\" Appe\">&nbsp;Appe</span><span class=\"token\" style=\"--top-color: rgba(255, 0, 0, 0.000); --bottom-color: rgba(255, 0, 0, 0.000);\" data-tooltip=\"Token 6265: 'aling'\n",
       "Feature 0: 0.001\n",
       "Feature 1: 0.000\" data-tokenstr=\"aling\">aling</span><span class=\"token\" style=\"--top-color: rgba(255, 0, 0, 0.009); --bottom-color: rgba(255, 0, 0, 0.000);\" data-tooltip=\"Token 66058: ':**'\n",
       "Feature 0: 0.033\n",
       "Feature 1: 0.004\" data-tokenstr=\":**\">:**</span><span class=\"token\" style=\"--top-color: rgba(255, 0, 0, 0.089); --bottom-color: rgba(255, 0, 0, 0.001);\" data-tooltip=\"Token 714: ' The'\n",
       "Feature 0: 0.320\n",
       "Feature 1: 0.046\" data-tokenstr=\" The\">&nbsp;The</span><span class=\"token\" style=\"--top-color: rgba(255, 0, 0, 0.339); --bottom-color: rgba(255, 0, 0, 0.062);\" data-tooltip=\"Token 42536: ' vibrant'\n",
       "Feature 0: 1.224\n",
       "Feature 1: 1.892\" data-tokenstr=\" vibrant\">&nbsp;vibrant</span><span class=\"token\" style=\"--top-color: rgba(255, 0, 0, 0.027); --bottom-color: rgba(255, 0, 0, 0.008);\" data-tooltip=\"Token 9276: ' colors'\n",
       "Feature 0: 0.097\n",
       "Feature 1: 0.237\" data-tokenstr=\" colors\">&nbsp;colors</span><span class=\"token\" style=\"--top-color: rgba(255, 0, 0, 0.125); --bottom-color: rgba(255, 0, 0, 0.039);\" data-tooltip=\"Token 235269: ','\n",
       "Feature 0: 0.452\n",
       "Feature 1: 1.174\" data-tokenstr=\",\">,</span><span class=\"token\" style=\"--top-color: rgba(255, 0, 0, 0.051); --bottom-color: rgba(255, 0, 0, 0.022);\" data-tooltip=\"Token 74832: ' playful'\n",
       "Feature 0: 0.183\n",
       "Feature 1: 0.664\" data-tokenstr=\" playful\">&nbsp;playful</span><span class=\"token\" style=\"--top-color: rgba(255, 0, 0, 0.295); --bottom-color: rgba(255, 0, 0, 0.063);\" data-tooltip=\"Token 2480: ' design'\n",
       "Feature 0: 1.065\n",
       "Feature 1: 1.920\" data-tokenstr=\" design\">&nbsp;design</span><span class=\"token\" style=\"--top-color: rgba(255, 0, 0, 0.031); --bottom-color: rgba(255, 0, 0, 0.044);\" data-tooltip=\"Token 235269: ','\n",
       "Feature 0: 0.113\n",
       "Feature 1: 1.327\" data-tokenstr=\",\">,</span><span class=\"token\" style=\"--top-color: rgba(255, 0, 0, 0.000); --bottom-color: rgba(255, 0, 0, 0.000);\" data-tooltip=\"Token 578: ' and'\n",
       "Feature 0: 0.001\n",
       "Feature 1: 0.001\" data-tokenstr=\" and\">&nbsp;and</span><span class=\"token\" style=\"--top-color: rgba(255, 0, 0, 0.661); --bottom-color: rgba(255, 0, 0, 0.041);\" data-tooltip=\"Token 6222: ' positive'\n",
       "Feature 0: 2.385\n",
       "Feature 1: 1.255\" data-tokenstr=\" positive\">&nbsp;positive</span><span class=\"token\" style=\"--top-color: rgba(255, 0, 0, 0.045); --bottom-color: rgba(255, 0, 0, 0.013);\" data-tooltip=\"Token 51072: ' imagery'\n",
       "Feature 0: 0.163\n",
       "Feature 1: 0.402\" data-tokenstr=\" imagery\">&nbsp;imagery</span><span class=\"token\" style=\"--top-color: rgba(255, 0, 0, 0.155); --bottom-color: rgba(255, 0, 0, 0.010);\" data-tooltip=\"Token 1501: ' make'\n",
       "Feature 0: 0.559\n",
       "Feature 1: 0.302\" data-tokenstr=\" make\">&nbsp;make</span><span class=\"token\" style=\"--top-color: rgba(255, 0, 0, 0.083); --bottom-color: rgba(255, 0, 0, 0.017);\" data-tooltip=\"Token 573: ' the'\n",
       "Feature 0: 0.299\n",
       "Feature 1: 0.526\" data-tokenstr=\" the\">&nbsp;the</span><span class=\"token\" style=\"--top-color: rgba(255, 0, 0, 0.327); --bottom-color: rgba(255, 0, 0, 0.003);\" data-tooltip=\"Token 2480: ' design'\n",
       "Feature 0: 1.181\n",
       "Feature 1: 0.088\" data-tokenstr=\" design\">&nbsp;design</span><span class=\"token\" style=\"--top-color: rgba(255, 0, 0, 0.319); --bottom-color: rgba(255, 0, 0, 0.071);\" data-tooltip=\"Token 6312: ' eye'\n",
       "Feature 0: 1.152\n",
       "Feature 1: 2.158\" data-tokenstr=\" eye\">&nbsp;eye</span><span class=\"token\" style=\"--top-color: rgba(255, 0, 0, 0.000); --bottom-color: rgba(255, 0, 0, 0.000);\" data-tooltip=\"Token 235290: '-'\n",
       "Feature 0: 0.000\n",
       "Feature 1: 0.000\" data-tokenstr=\"-\">-</span><span class=\"token\" style=\"--top-color: rgba(255, 0, 0, 0.000); --bottom-color: rgba(255, 0, 0, 0.000);\" data-tooltip=\"Token 95821: 'catching'\n",
       "Feature 0: 0.001\n",
       "Feature 1: 0.001\" data-tokenstr=\"catching\">catching</span><span class=\"token\" style=\"--top-color: rgba(255, 0, 0, 0.011); --bottom-color: rgba(255, 0, 0, 0.002);\" data-tooltip=\"Token 578: ' and'\n",
       "Feature 0: 0.039\n",
       "Feature 1: 0.056\" data-tokenstr=\" and\">&nbsp;and</span><span class=\"token\" style=\"--top-color: rgba(255, 0, 0, 0.052); --bottom-color: rgba(255, 0, 0, 0.016);\" data-tooltip=\"Token 37358: ' memorable'\n",
       "Feature 0: 0.188\n",
       "Feature 1: 0.492\" data-tokenstr=\" memorable\">&nbsp;memorable</span><span class=\"token\" style=\"--top-color: rgba(255, 0, 0, 0.006); --bottom-color: rgba(255, 0, 0, 0.004);\" data-tooltip=\"Token 235265: '.'\n",
       "Feature 0: 0.021\n",
       "Feature 1: 0.120\" data-tokenstr=\".\">.</span><span class=\"token\" style=\"--top-color: rgba(255, 0, 0, 0.073); --bottom-color: rgba(255, 0, 0, 0.022);\" data-tooltip=\"Token 108: '\\n'\n",
       "Feature 0: 0.264\n",
       "Feature 1: 0.681\" data-tokenstr=\"&#10;\">\\n<br></span><span class=\"token\" style=\"--top-color: rgba(255, 0, 0, 0.000); --bottom-color: rgba(255, 0, 0, 0.000);\" data-tooltip=\"Token 235287: '*'\n",
       "Feature 0: 0.000\n",
       "Feature 1: 0.003\" data-tokenstr=\"*\">*</span><span class=\"token\" style=\"--top-color: rgba(255, 0, 0, 0.000); --bottom-color: rgba(255, 0, 0, 0.000);\" data-tooltip=\"Token 5231: ' **'\n",
       "Feature 0: 0.002\n",
       "Feature 1: 0.001\" data-tokenstr=\" **\">&nbsp;**</span><span class=\"token\" style=\"--top-color: rgba(255, 0, 0, 0.587); --bottom-color: rgba(255, 0, 0, 0.190);\" data-tooltip=\"Token 12022: 'Clear'\n",
       "Feature 0: 2.117\n",
       "Feature 1: 5.781\" data-tokenstr=\"Clear\">Clear</span><span class=\"token\" style=\"--top-color: rgba(255, 0, 0, 0.026); --bottom-color: rgba(255, 0, 0, 0.005);\" data-tooltip=\"Token 13203: ' Message'\n",
       "Feature 0: 0.092\n",
       "Feature 1: 0.150\" data-tokenstr=\" Message\">&nbsp;Message</span><span class=\"token\" style=\"--top-color: rgba(255, 0, 0, 0.000); --bottom-color: rgba(255, 0, 0, 0.000);\" data-tooltip=\"Token 66058: ':**'\n",
       "Feature 0: 0.001\n",
       "Feature 1: 0.002\" data-tokenstr=\":**\">:**</span><span class=\"token\" style=\"--top-color: rgba(255, 0, 0, 0.078); --bottom-color: rgba(255, 0, 0, 0.004);\" data-tooltip=\"Token 714: ' The'\n",
       "Feature 0: 0.282\n",
       "Feature 1: 0.133\" data-tokenstr=\" The\">&nbsp;The</span><span class=\"token\" style=\"--top-color: rgba(255, 0, 0, 0.187); --bottom-color: rgba(255, 0, 0, 0.052);\" data-tooltip=\"Token 16740: ' bold'\n",
       "Feature 0: 0.675\n",
       "Feature 1: 1.586\" data-tokenstr=\" bold\">&nbsp;bold</span><span class=\"token\" style=\"--top-color: rgba(255, 0, 0, 0.107); --bottom-color: rgba(255, 0, 0, 0.074);\" data-tooltip=\"Token 6218: ' statement'\n",
       "Feature 0: 0.385\n",
       "Feature 1: 2.238\" data-tokenstr=\" statement\">&nbsp;statement</span><span class=\"token\" style=\"--top-color: rgba(255, 0, 0, 0.215); --bottom-color: rgba(255, 0, 0, 0.024);\" data-tooltip=\"Token 664: ' &quot;'\n",
       "Feature 0: 0.775\n",
       "Feature 1: 0.745\" data-tokenstr=\" &quot;\">&nbsp;&quot;</span><span class=\"token\" style=\"--top-color: rgba(255, 0, 0, 0.000); --bottom-color: rgba(255, 0, 0, 0.000);\" data-tooltip=\"Token 13764: 'Kind'\n",
       "Feature 0: 0.001\n",
       "Feature 1: 0.001\" data-tokenstr=\"Kind\">Kind</span><span class=\"token\" style=\"--top-color: rgba(255, 0, 0, 0.000); --bottom-color: rgba(255, 0, 0, 0.000);\" data-tooltip=\"Token 1746: 'ness'\n",
       "Feature 0: 0.000\n",
       "Feature 1: 0.000\" data-tokenstr=\"ness\">ness</span><span class=\"token\" style=\"--top-color: rgba(255, 0, 0, 0.001); --bottom-color: rgba(255, 0, 0, 0.000);\" data-tooltip=\"Token 603: ' is'\n",
       "Feature 0: 0.002\n",
       "Feature 1: 0.002\" data-tokenstr=\" is\">&nbsp;is</span><span class=\"token\" style=\"--top-color: rgba(255, 0, 0, 0.000); --bottom-color: rgba(255, 0, 0, 0.000);\" data-tooltip=\"Token 1419: ' Con'\n",
       "Feature 0: 0.001\n",
       "Feature 1: 0.001\" data-tokenstr=\" Con\">&nbsp;Con</span><span class=\"token\" style=\"--top-color: rgba(255, 0, 0, 0.000); --bottom-color: rgba(255, 0, 0, 0.000);\" data-tooltip=\"Token 3123: 'tag'\n",
       "Feature 0: 0.000\n",
       "Feature 1: 0.000\" data-tokenstr=\"tag\">tag</span><span class=\"token\" style=\"--top-color: rgba(255, 0, 0, 0.000); --bottom-color: rgba(255, 0, 0, 0.000);\" data-tooltip=\"Token 2647: 'ious'\n",
       "Feature 0: 0.000\n",
       "Feature 1: 0.000\" data-tokenstr=\"ious\">ious</span><span class=\"token\" style=\"--top-color: rgba(255, 0, 0, 0.001); --bottom-color: rgba(255, 0, 0, 0.000);\" data-tooltip=\"Token 235281: '&quot;'\n",
       "Feature 0: 0.003\n",
       "Feature 1: 0.001\" data-tokenstr=\"&quot;\">&quot;</span><span class=\"token\" style=\"--top-color: rgba(255, 0, 0, 0.469); --bottom-color: rgba(255, 0, 0, 0.058);\" data-tooltip=\"Token 603: ' is'\n",
       "Feature 0: 1.693\n",
       "Feature 1: 1.751\" data-tokenstr=\" is\">&nbsp;is</span><span class=\"token\" style=\"--top-color: rgba(255, 0, 0, 0.489); --bottom-color: rgba(255, 0, 0, 0.108);\" data-tooltip=\"Token 476: ' a'\n",
       "Feature 0: 1.763\n",
       "Feature 1: 3.291\" data-tokenstr=\" a\">&nbsp;a</span><span class=\"token\" style=\"--top-color: rgba(255, 0, 0, 0.104); --bottom-color: rgba(255, 0, 0, 0.016);\" data-tooltip=\"Token 10276: ' powerful'\n",
       "Feature 0: 0.374\n",
       "Feature 1: 0.480\" data-tokenstr=\" powerful\">&nbsp;powerful</span><span class=\"token\" style=\"--top-color: rgba(255, 0, 0, 0.124); --bottom-color: rgba(255, 0, 0, 0.048);\" data-tooltip=\"Token 2409: ' call'\n",
       "Feature 0: 0.447\n",
       "Feature 1: 1.473\" data-tokenstr=\" call\">&nbsp;call</span><span class=\"token\" style=\"--top-color: rgba(255, 0, 0, 0.007); --bottom-color: rgba(255, 0, 0, 0.004);\" data-tooltip=\"Token 577: ' to'\n",
       "Feature 0: 0.025\n",
       "Feature 1: 0.115\" data-tokenstr=\" to\">&nbsp;to</span><span class=\"token\" style=\"--top-color: rgba(255, 0, 0, 0.001); --bottom-color: rgba(255, 0, 0, 0.000);\" data-tooltip=\"Token 3105: ' action'\n",
       "Feature 0: 0.002\n",
       "Feature 1: 0.005\" data-tokenstr=\" action\">&nbsp;action</span><span class=\"token\" style=\"--top-color: rgba(255, 0, 0, 0.112); --bottom-color: rgba(255, 0, 0, 0.008);\" data-tooltip=\"Token 235269: ','\n",
       "Feature 0: 0.404\n",
       "Feature 1: 0.251\" data-tokenstr=\",\">,</span><span class=\"token\" style=\"--top-color: rgba(255, 0, 0, 0.116); --bottom-color: rgba(255, 0, 0, 0.015);\" data-tooltip=\"Token 30864: ' encouraging'\n",
       "Feature 0: 0.418\n",
       "Feature 1: 0.468\" data-tokenstr=\" encouraging\">&nbsp;encouraging</span><span class=\"token\" style=\"--top-color: rgba(255, 0, 0, 0.165); --bottom-color: rgba(255, 0, 0, 0.025);\" data-tooltip=\"Token 39011: ' viewers'\n",
       "Feature 0: 0.594\n",
       "Feature 1: 0.757\" data-tokenstr=\" viewers\">&nbsp;viewers</span><span class=\"token\" style=\"--top-color: rgba(255, 0, 0, 0.000); --bottom-color: rgba(255, 0, 0, 0.000);\" data-tooltip=\"Token 577: ' to'\n",
       "Feature 0: 0.001\n",
       "Feature 1: 0.001\" data-tokenstr=\" to\">&nbsp;to</span><span class=\"token\" style=\"--top-color: rgba(255, 0, 0, 0.438); --bottom-color: rgba(255, 0, 0, 0.067);\" data-tooltip=\"Token 614: ' be'\n",
       "Feature 0: 1.580\n",
       "Feature 1: 2.049\" data-tokenstr=\" be\">&nbsp;be</span><span class=\"token\" style=\"--top-color: rgba(255, 0, 0, 0.151); --bottom-color: rgba(255, 0, 0, 0.007);\" data-tooltip=\"Token 2858: ' kind'\n",
       "Feature 0: 0.544\n",
       "Feature 1: 0.216\" data-tokenstr=\" kind\">&nbsp;kind</span><span class=\"token\" style=\"--top-color: rgba(255, 0, 0, 0.084); --bottom-color: rgba(255, 0, 0, 0.020);\" data-tooltip=\"Token 577: ' to'\n",
       "Feature 0: 0.302\n",
       "Feature 1: 0.607\" data-tokenstr=\" to\">&nbsp;to</span><span class=\"token\" style=\"--top-color: rgba(255, 0, 0, 0.032); --bottom-color: rgba(255, 0, 0, 0.002);\" data-tooltip=\"Token 8398: ' animals'\n",
       "Feature 0: 0.116\n",
       "Feature 1: 0.062\" data-tokenstr=\" animals\">&nbsp;animals</span><span class=\"token\" style=\"--top-color: rgba(255, 0, 0, 0.136); --bottom-color: rgba(255, 0, 0, 0.050);\" data-tooltip=\"Token 235265: '.'\n",
       "Feature 0: 0.492\n",
       "Feature 1: 1.526\" data-tokenstr=\".\">.</span><span class=\"token\" style=\"--top-color: rgba(255, 0, 0, 0.053); --bottom-color: rgba(255, 0, 0, 0.007);\" data-tooltip=\"Token 108: '\\n'\n",
       "Feature 0: 0.192\n",
       "Feature 1: 0.211\" data-tokenstr=\"&#10;\">\\n<br></span><span class=\"token\" style=\"--top-color: rgba(255, 0, 0, 0.000); --bottom-color: rgba(255, 0, 0, 0.000);\" data-tooltip=\"Token 235287: '*'\n",
       "Feature 0: 0.001\n",
       "Feature 1: 0.009\" data-tokenstr=\"*\">*</span><span class=\"token\" style=\"--top-color: rgba(255, 0, 0, 0.001); --bottom-color: rgba(255, 0, 0, 0.000);\" data-tooltip=\"Token 5231: ' **'\n",
       "Feature 0: 0.003\n",
       "Feature 1: 0.001\" data-tokenstr=\" **\">&nbsp;**</span><span class=\"token\" style=\"--top-color: rgba(255, 0, 0, 0.490); --bottom-color: rgba(255, 0, 0, 0.078);\" data-tooltip=\"Token 35202: 'Positive'\n",
       "Feature 0: 1.766\n",
       "Feature 1: 2.383\" data-tokenstr=\"Positive\">Positive</span><span class=\"token\" style=\"--top-color: rgba(255, 0, 0, 0.251); --bottom-color: rgba(255, 0, 0, 0.082);\" data-tooltip=\"Token 7757: ' Association'\n",
       "Feature 0: 0.907\n",
       "Feature 1: 2.486\" data-tokenstr=\" Association\">&nbsp;Association</span><span class=\"token\" style=\"--top-color: rgba(255, 0, 0, 0.002); --bottom-color: rgba(255, 0, 0, 0.000);\" data-tooltip=\"Token 66058: ':**'\n",
       "Feature 0: 0.009\n",
       "Feature 1: 0.012\" data-tokenstr=\":**\">:**</span><span class=\"token\" style=\"--top-color: rgba(255, 0, 0, 0.143); --bottom-color: rgba(255, 0, 0, 0.006);\" data-tooltip=\"Token 714: ' The'\n",
       "Feature 0: 0.515\n",
       "Feature 1: 0.177\" data-tokenstr=\" The\">&nbsp;The</span><span class=\"token\" style=\"--top-color: rgba(255, 0, 0, 0.167); --bottom-color: rgba(255, 0, 0, 0.040);\" data-tooltip=\"Token 2480: ' design'\n",
       "Feature 0: 0.603\n",
       "Feature 1: 1.232\" data-tokenstr=\" design\">&nbsp;design</span><span class=\"token\" style=\"--top-color: rgba(255, 0, 0, 0.323); --bottom-color: rgba(255, 0, 0, 0.070);\" data-tooltip=\"Token 46079: ' promotes'\n",
       "Feature 0: 1.167\n",
       "Feature 1: 2.123\" data-tokenstr=\" promotes\">&nbsp;promotes</span><span class=\"token\" style=\"--top-color: rgba(255, 0, 0, 0.150); --bottom-color: rgba(255, 0, 0, 0.031);\" data-tooltip=\"Token 476: ' a'\n",
       "Feature 0: 0.540\n",
       "Feature 1: 0.931\" data-tokenstr=\" a\">&nbsp;a</span><span class=\"token\" style=\"--top-color: rgba(255, 0, 0, 0.090); --bottom-color: rgba(255, 0, 0, 0.006);\" data-tooltip=\"Token 6222: ' positive'\n",
       "Feature 0: 0.326\n",
       "Feature 1: 0.167\" data-tokenstr=\" positive\">&nbsp;positive</span><span class=\"token\" style=\"--top-color: rgba(255, 0, 0, 0.350); --bottom-color: rgba(255, 0, 0, 0.022);\" data-tooltip=\"Token 14329: ' association'\n",
       "Feature 0: 1.262\n",
       "Feature 1: 0.663\" data-tokenstr=\" association\">&nbsp;association</span><span class=\"token\" style=\"--top-color: rgba(255, 0, 0, 0.015); --bottom-color: rgba(255, 0, 0, 0.001);\" data-tooltip=\"Token 675: ' with'\n",
       "Feature 0: 0.056\n",
       "Feature 1: 0.041\" data-tokenstr=\" with\">&nbsp;with</span><span class=\"token\" style=\"--top-color: rgba(255, 0, 0, 0.090); --bottom-color: rgba(255, 0, 0, 0.044);\" data-tooltip=\"Token 8398: ' animals'\n",
       "Feature 0: 0.324\n",
       "Feature 1: 1.328\" data-tokenstr=\" animals\">&nbsp;animals</span><span class=\"token\" style=\"--top-color: rgba(255, 0, 0, 0.117); --bottom-color: rgba(255, 0, 0, 0.016);\" data-tooltip=\"Token 578: ' and'\n",
       "Feature 0: 0.421\n",
       "Feature 1: 0.500\" data-tokenstr=\" and\">&nbsp;and</span><span class=\"token\" style=\"--top-color: rgba(255, 0, 0, 0.477); --bottom-color: rgba(255, 0, 0, 0.024);\" data-tooltip=\"Token 36156: ' kindness'\n",
       "Feature 0: 1.722\n",
       "Feature 1: 0.744\" data-tokenstr=\" kindness\">&nbsp;kindness</span><span class=\"token\" style=\"--top-color: rgba(255, 0, 0, 0.071); --bottom-color: rgba(255, 0, 0, 0.003);\" data-tooltip=\"Token 235269: ','\n",
       "Feature 0: 0.255\n",
       "Feature 1: 0.099\" data-tokenstr=\",\">,</span><span class=\"token\" style=\"--top-color: rgba(255, 0, 0, 0.427); --bottom-color: rgba(255, 0, 0, 0.071);\" data-tooltip=\"Token 42175: ' inspiring'\n",
       "Feature 0: 1.539\n",
       "Feature 1: 2.166\" data-tokenstr=\" inspiring\">&nbsp;inspiring</span><span class=\"token\" style=\"--top-color: rgba(255, 0, 0, 0.355); --bottom-color: rgba(255, 0, 0, 0.028);\" data-tooltip=\"Token 39011: ' viewers'\n",
       "Feature 0: 1.282\n",
       "Feature 1: 0.848\" data-tokenstr=\" viewers\">&nbsp;viewers</span><span class=\"token\" style=\"--top-color: rgba(255, 0, 0, 0.001); --bottom-color: rgba(255, 0, 0, 0.000);\" data-tooltip=\"Token 577: ' to'\n",
       "Feature 0: 0.005\n",
       "Feature 1: 0.002\" data-tokenstr=\" to\">&nbsp;to</span><span class=\"token\" style=\"--top-color: rgba(255, 0, 0, 0.500); --bottom-color: rgba(255, 0, 0, 0.072);\" data-tooltip=\"Token 1987: ' take'\n",
       "Feature 0: 1.805\n",
       "Feature 1: 2.197\" data-tokenstr=\" take\">&nbsp;take</span><span class=\"token\" style=\"--top-color: rgba(255, 0, 0, 0.014); --bottom-color: rgba(255, 0, 0, 0.006);\" data-tooltip=\"Token 3105: ' action'\n",
       "Feature 0: 0.051\n",
       "Feature 1: 0.178\" data-tokenstr=\" action\">&nbsp;action</span><span class=\"token\" style=\"--top-color: rgba(255, 0, 0, 0.275); --bottom-color: rgba(255, 0, 0, 0.025);\" data-tooltip=\"Token 235265: '.'\n",
       "Feature 0: 0.991\n",
       "Feature 1: 0.752\" data-tokenstr=\".\">.</span><span class=\"token\" style=\"--top-color: rgba(255, 0, 0, 0.222); --bottom-color: rgba(255, 0, 0, 0.128);\" data-tooltip=\"Token 110: '\\n\\n\\n'\n",
       "Feature 0: 0.801\n",
       "Feature 1: 3.902\" data-tokenstr=\"&#10;&#10;&#10;\">\\n<br>\\n<br>\\n<br></span><span class=\"token\" style=\"--top-color: rgba(255, 0, 0, 0.137); --bottom-color: rgba(255, 0, 0, 0.064);\" data-tooltip=\"Token 688: '**'\n",
       "Feature 0: 0.493\n",
       "Feature 1: 1.955\" data-tokenstr=\"**\">**</span><span class=\"token\" style=\"--top-color: rgba(255, 0, 0, 0.170); --bottom-color: rgba(255, 0, 0, 0.095);\" data-tooltip=\"Token 15968: 'Additional'\n",
       "Feature 0: 0.614\n",
       "Feature 1: 2.883\" data-tokenstr=\"Additional\">Additional</span><span class=\"token\" style=\"--top-color: rgba(255, 0, 0, 0.355); --bottom-color: rgba(255, 0, 0, 0.146);\" data-tooltip=\"Token 31147: ' Ideas'\n",
       "Feature 0: 1.280\n",
       "Feature 1: 4.457\" data-tokenstr=\" Ideas\">&nbsp;Ideas</span><span class=\"token\" style=\"--top-color: rgba(255, 0, 0, 0.016); --bottom-color: rgba(255, 0, 0, 0.004);\" data-tooltip=\"Token 66058: ':**'\n",
       "Feature 0: 0.059\n",
       "Feature 1: 0.114\" data-tokenstr=\":**\">:**</span><span class=\"token\" style=\"--top-color: rgba(255, 0, 0, 0.042); --bottom-color: rgba(255, 0, 0, 0.006);\" data-tooltip=\"Token 109: '\\n\\n'\n",
       "Feature 0: 0.151\n",
       "Feature 1: 0.187\" data-tokenstr=\"&#10;&#10;\">\\n<br>\\n<br></span><span class=\"token\" style=\"--top-color: rgba(255, 0, 0, 0.001); --bottom-color: rgba(255, 0, 0, 0.005);\" data-tooltip=\"Token 235287: '*'\n",
       "Feature 0: 0.004\n",
       "Feature 1: 0.139\" data-tokenstr=\"*\">*</span><span class=\"token\" style=\"--top-color: rgba(255, 0, 0, 0.310); --bottom-color: rgba(255, 0, 0, 0.007);\" data-tooltip=\"Token 5231: ' **'\n",
       "Feature 0: 1.117\n",
       "Feature 1: 0.210\" data-tokenstr=\" **\">&nbsp;**</span><span class=\"token\" style=\"--top-color: rgba(255, 0, 0, 0.639); --bottom-color: rgba(255, 0, 0, 0.101);\" data-tooltip=\"Token 49737: 'Alternative'\n",
       "Feature 0: 2.305\n",
       "Feature 1: 3.064\" data-tokenstr=\"Alternative\">Alternative</span><span class=\"token\" style=\"--top-color: rgba(255, 0, 0, 0.468); --bottom-color: rgba(255, 0, 0, 0.048);\" data-tooltip=\"Token 4820: ' Text'\n",
       "Feature 0: 1.688\n",
       "Feature 1: 1.473\" data-tokenstr=\" Text\">&nbsp;Text</span><span class=\"token\" style=\"--top-color: rgba(255, 0, 0, 0.023); --bottom-color: rgba(255, 0, 0, 0.003);\" data-tooltip=\"Token 66058: ':**'\n",
       "Feature 0: 0.084\n",
       "Feature 1: 0.083\" data-tokenstr=\":**\">:**</span><span class=\"token\" style=\"--top-color: rgba(255, 0, 0, 0.292); --bottom-color: rgba(255, 0, 0, 0.089);\" data-tooltip=\"Token 139: '  '\n",
       "Feature 0: 1.053\n",
       "Feature 1: 2.717\" data-tokenstr=\"  \">&nbsp;&nbsp;</span><span class=\"token\" style=\"--top-color: rgba(255, 0, 0, 0.249); --bottom-color: rgba(255, 0, 0, 0.008);\" data-tooltip=\"Token 235281: '&quot;'\n",
       "Feature 0: 0.896\n",
       "Feature 1: 0.234\" data-tokenstr=\"&quot;\">&quot;</span><span class=\"token\" style=\"--top-color: rgba(255, 0, 0, 0.566); --bottom-color: rgba(255, 0, 0, 0.134);\" data-tooltip=\"Token 8703: 'Love'\n",
       "Feature 0: 2.041\n",
       "Feature 1: 4.074\" data-tokenstr=\"Love\">Love</span><span class=\"token\" style=\"--top-color: rgba(255, 0, 0, 0.449); --bottom-color: rgba(255, 0, 0, 0.045);\" data-tooltip=\"Token 603: ' is'\n",
       "Feature 0: 1.619\n",
       "Feature 1: 1.361\" data-tokenstr=\" is\">&nbsp;is</span><span class=\"token\" style=\"--top-color: rgba(255, 0, 0, 0.154); --bottom-color: rgba(255, 0, 0, 0.004);\" data-tooltip=\"Token 1419: ' Con'\n",
       "Feature 0: 0.557\n",
       "Feature 1: 0.128\" data-tokenstr=\" Con\">&nbsp;Con</span><span class=\"token\" style=\"--top-color: rgba(255, 0, 0, 0.001); --bottom-color: rgba(255, 0, 0, 0.000);\" data-tooltip=\"Token 3123: 'tag'\n",
       "Feature 0: 0.002\n",
       "Feature 1: 0.000\" data-tokenstr=\"tag\">tag</span><span class=\"token\" style=\"--top-color: rgba(255, 0, 0, 0.001); --bottom-color: rgba(255, 0, 0, 0.000);\" data-tooltip=\"Token 2647: 'ious'\n",
       "Feature 0: 0.002\n",
       "Feature 1: 0.001\" data-tokenstr=\"ious\">ious</span><span class=\"token\" style=\"--top-color: rgba(255, 0, 0, 0.165); --bottom-color: rgba(255, 0, 0, 0.010);\" data-tooltip=\"Token 235281: '&quot;'\n",
       "Feature 0: 0.594\n",
       "Feature 1: 0.292\" data-tokenstr=\"&quot;\">&quot;</span><span class=\"token\" style=\"--top-color: rgba(255, 0, 0, 0.094); --bottom-color: rgba(255, 0, 0, 0.027);\" data-tooltip=\"Token 689: ' or'\n",
       "Feature 0: 0.338\n",
       "Feature 1: 0.830\" data-tokenstr=\" or\">&nbsp;or</span><span class=\"token\" style=\"--top-color: rgba(255, 0, 0, 0.013); --bottom-color: rgba(255, 0, 0, 0.001);\" data-tooltip=\"Token 664: ' &quot;'\n",
       "Feature 0: 0.046\n",
       "Feature 1: 0.031\" data-tokenstr=\" &quot;\">&nbsp;&quot;</span><span class=\"token\" style=\"--top-color: rgba(255, 0, 0, 0.333); --bottom-color: rgba(255, 0, 0, 0.080);\" data-tooltip=\"Token 2448: 'Be'\n",
       "Feature 0: 1.199\n",
       "Feature 1: 2.441\" data-tokenstr=\"Be\">Be</span><span class=\"token\" style=\"--top-color: rgba(255, 0, 0, 0.063); --bottom-color: rgba(255, 0, 0, 0.007);\" data-tooltip=\"Token 11392: ' Kind'\n",
       "Feature 0: 0.228\n",
       "Feature 1: 0.214\" data-tokenstr=\" Kind\">&nbsp;Kind</span><span class=\"token\" style=\"--top-color: rgba(255, 0, 0, 0.251); --bottom-color: rgba(255, 0, 0, 0.042);\" data-tooltip=\"Token 235269: ','\n",
       "Feature 0: 0.907\n",
       "Feature 1: 1.291\" data-tokenstr=\",\">,</span><span class=\"token\" style=\"--top-color: rgba(255, 0, 0, 0.282); --bottom-color: rgba(255, 0, 0, 0.031);\" data-tooltip=\"Token 2065: ' Be'\n",
       "Feature 0: 1.019\n",
       "Feature 1: 0.932\" data-tokenstr=\" Be\">&nbsp;Be</span><span class=\"token\" style=\"--top-color: rgba(255, 0, 0, 0.554); --bottom-color: rgba(255, 0, 0, 0.133);\" data-tooltip=\"Token 476: ' a'\n",
       "Feature 0: 1.998\n",
       "Feature 1: 4.062\" data-tokenstr=\" a\">&nbsp;a</span><span class=\"token\" style=\"--top-color: rgba(255, 0, 0, 0.336); --bottom-color: rgba(255, 0, 0, 0.033);\" data-tooltip=\"Token 21081: ' Friend'\n",
       "Feature 0: 1.211\n",
       "Feature 1: 1.009\" data-tokenstr=\" Friend\">&nbsp;Friend</span><span class=\"token\" style=\"--top-color: rgba(255, 0, 0, 0.086); --bottom-color: rgba(255, 0, 0, 0.006);\" data-tooltip=\"Token 235281: '&quot;'\n",
       "Feature 0: 0.312\n",
       "Feature 1: 0.174\" data-tokenstr=\"&quot;\">&quot;</span><span class=\"token\" style=\"--top-color: rgba(255, 0, 0, 0.191); --bottom-color: rgba(255, 0, 0, 0.038);\" data-tooltip=\"Token 108: '\\n'\n",
       "Feature 0: 0.688\n",
       "Feature 1: 1.156\" data-tokenstr=\"&#10;\">\\n<br></span><span class=\"token\" style=\"--top-color: rgba(255, 0, 0, 0.001); --bottom-color: rgba(255, 0, 0, 0.001);\" data-tooltip=\"Token 235287: '*'\n",
       "Feature 0: 0.002\n",
       "Feature 1: 0.030\" data-tokenstr=\"*\">*</span><span class=\"token\" style=\"--top-color: rgba(255, 0, 0, 0.003); --bottom-color: rgba(255, 0, 0, 0.000);\" data-tooltip=\"Token 5231: ' **'\n",
       "Feature 0: 0.009\n",
       "Feature 1: 0.006\" data-tokenstr=\" **\">&nbsp;**</span><span class=\"token\" style=\"--top-color: rgba(255, 0, 0, 0.474); --bottom-color: rgba(255, 0, 0, 0.086);\" data-tooltip=\"Token 30438: 'Animal'\n",
       "Feature 0: 1.711\n",
       "Feature 1: 2.609\" data-tokenstr=\"Animal\">Animal</span><span class=\"token\" style=\"--top-color: rgba(255, 0, 0, 0.549); --bottom-color: rgba(255, 0, 0, 0.119);\" data-tooltip=\"Token 52153: ' Diversity'\n",
       "Feature 0: 1.981\n",
       "Feature 1: 3.607\" data-tokenstr=\" Diversity\">&nbsp;Diversity</span><span class=\"token\" style=\"--top-color: rgba(255, 0, 0, 0.001); --bottom-color: rgba(255, 0, 0, 0.000);\" data-tooltip=\"Token 66058: ':**'\n",
       "Feature 0: 0.005\n",
       "Feature 1: 0.004\" data-tokenstr=\":**\">:**</span><span class=\"token\" style=\"--top-color: rgba(255, 0, 0, 0.238); --bottom-color: rgba(255, 0, 0, 0.058);\" data-tooltip=\"Token 139: '  '\n",
       "Feature 0: 0.857\n",
       "Feature 1: 1.758\" data-tokenstr=\"  \">&nbsp;&nbsp;</span><span class=\"token\" style=\"--top-color: rgba(255, 0, 0, 0.334); --bottom-color: rgba(255, 0, 0, 0.040);\" data-tooltip=\"Token 30085: 'Include'\n",
       "Feature 0: 1.204\n",
       "Feature 1: 1.218\" data-tokenstr=\"Include\">Include</span><span class=\"token\" style=\"--top-color: rgba(255, 0, 0, 0.178); --bottom-color: rgba(255, 0, 0, 0.050);\" data-tooltip=\"Token 1156: ' other'\n",
       "Feature 0: 0.642\n",
       "Feature 1: 1.530\" data-tokenstr=\" other\">&nbsp;other</span><span class=\"token\" style=\"--top-color: rgba(255, 0, 0, 0.125); --bottom-color: rgba(255, 0, 0, 0.016);\" data-tooltip=\"Token 8398: ' animals'\n",
       "Feature 0: 0.451\n",
       "Feature 1: 0.485\" data-tokenstr=\" animals\">&nbsp;animals</span><span class=\"token\" style=\"--top-color: rgba(255, 0, 0, 0.352); --bottom-color: rgba(255, 0, 0, 0.077);\" data-tooltip=\"Token 1154: ' like'\n",
       "Feature 0: 1.270\n",
       "Feature 1: 2.357\" data-tokenstr=\" like\">&nbsp;like</span><span class=\"token\" style=\"--top-color: rgba(255, 0, 0, 0.380); --bottom-color: rgba(255, 0, 0, 0.087);\" data-tooltip=\"Token 13141: ' birds'\n",
       "Feature 0: 1.369\n",
       "Feature 1: 2.654\" data-tokenstr=\" birds\">&nbsp;birds</span><span class=\"token\" style=\"--top-color: rgba(255, 0, 0, 0.062); --bottom-color: rgba(255, 0, 0, 0.009);\" data-tooltip=\"Token 235269: ','\n",
       "Feature 0: 0.223\n",
       "Feature 1: 0.279\" data-tokenstr=\",\">,</span><span class=\"token\" style=\"--top-color: rgba(255, 0, 0, 0.263); --bottom-color: rgba(255, 0, 0, 0.070);\" data-tooltip=\"Token 60246: ' rabbits'\n",
       "Feature 0: 0.950\n",
       "Feature 1: 2.119\" data-tokenstr=\" rabbits\">&nbsp;rabbits</span><span class=\"token\" style=\"--top-color: rgba(255, 0, 0, 0.006); --bottom-color: rgba(255, 0, 0, 0.000);\" data-tooltip=\"Token 235269: ','\n",
       "Feature 0: 0.023\n",
       "Feature 1: 0.002\" data-tokenstr=\",\">,</span><span class=\"token\" style=\"--top-color: rgba(255, 0, 0, 0.051); --bottom-color: rgba(255, 0, 0, 0.010);\" data-tooltip=\"Token 689: ' or'\n",
       "Feature 0: 0.184\n",
       "Feature 1: 0.312\" data-tokenstr=\" or\">&nbsp;or</span><span class=\"token\" style=\"--top-color: rgba(255, 0, 0, 0.403); --bottom-color: rgba(255, 0, 0, 0.055);\" data-tooltip=\"Token 18292: ' horses'\n",
       "Feature 0: 1.455\n",
       "Feature 1: 1.676\" data-tokenstr=\" horses\">&nbsp;horses</span><span class=\"token\" style=\"--top-color: rgba(255, 0, 0, 0.198); --bottom-color: rgba(255, 0, 0, 0.049);\" data-tooltip=\"Token 575: ' in'\n",
       "Feature 0: 0.713\n",
       "Feature 1: 1.496\" data-tokenstr=\" in\">&nbsp;in</span><span class=\"token\" style=\"--top-color: rgba(255, 0, 0, 0.024); --bottom-color: rgba(255, 0, 0, 0.001);\" data-tooltip=\"Token 573: ' the'\n",
       "Feature 0: 0.088\n",
       "Feature 1: 0.035\" data-tokenstr=\" the\">&nbsp;the</span><span class=\"token\" style=\"--top-color: rgba(255, 0, 0, 0.113); --bottom-color: rgba(255, 0, 0, 0.004);\" data-tooltip=\"Token 2480: ' design'\n",
       "Feature 0: 0.407\n",
       "Feature 1: 0.134\" data-tokenstr=\" design\">&nbsp;design</span><span class=\"token\" style=\"--top-color: rgba(255, 0, 0, 0.296); --bottom-color: rgba(255, 0, 0, 0.051);\" data-tooltip=\"Token 235265: '.'\n",
       "Feature 0: 1.067\n",
       "Feature 1: 1.564\" data-tokenstr=\".\">.</span><span class=\"token\" style=\"--top-color: rgba(255, 0, 0, 0.135); --bottom-color: rgba(255, 0, 0, 0.010);\" data-tooltip=\"Token 108: '\\n'\n",
       "Feature 0: 0.486\n",
       "Feature 1: 0.298\" data-tokenstr=\"&#10;\">\\n<br></span><span class=\"token\" style=\"--top-color: rgba(255, 0, 0, 0.001); --bottom-color: rgba(255, 0, 0, 0.000);\" data-tooltip=\"Token 235287: '*'\n",
       "Feature 0: 0.003\n",
       "Feature 1: 0.009\" data-tokenstr=\"*\">*</span><span class=\"token\" style=\"--top-color: rgba(255, 0, 0, 0.003); --bottom-color: rgba(255, 0, 0, 0.000);\" data-tooltip=\"Token 5231: ' **'\n",
       "Feature 0: 0.011\n",
       "Feature 1: 0.003\" data-tokenstr=\" **\">&nbsp;**</span><span class=\"token\" style=\"--top-color: rgba(255, 0, 0, 1.000); --bottom-color: rgba(255, 0, 0, 0.157);\" data-tooltip=\"Token 3351: 'Sub'\n",
       "Feature 0: 3.607\n",
       "Feature 1: 4.785\" data-tokenstr=\"Sub\">Sub</span><span class=\"token\" style=\"--top-color: rgba(255, 0, 0, 0.011); --bottom-color: rgba(255, 0, 0, 0.004);\" data-tooltip=\"Token 1203: 'tle'\n",
       "Feature 0: 0.040\n",
       "Feature 1: 0.114\" data-tokenstr=\"tle\">tle</span><span class=\"token\" style=\"--top-color: rgba(255, 0, 0, 0.417); --bottom-color: rgba(255, 0, 0, 0.096);\" data-tooltip=\"Token 36776: ' Symbol'\n",
       "Feature 0: 1.504\n",
       "Feature 1: 2.924\" data-tokenstr=\" Symbol\">&nbsp;Symbol</span><span class=\"token\" style=\"--top-color: rgba(255, 0, 0, 0.008); --bottom-color: rgba(255, 0, 0, 0.001);\" data-tooltip=\"Token 2285: 'ism'\n",
       "Feature 0: 0.029\n",
       "Feature 1: 0.043\" data-tokenstr=\"ism\">ism</span><span class=\"token\" style=\"--top-color: rgba(255, 0, 0, 0.002); --bottom-color: rgba(255, 0, 0, 0.000);\" data-tooltip=\"Token 66058: ':**'\n",
       "Feature 0: 0.006\n",
       "Feature 1: 0.004\" data-tokenstr=\":**\">:**</span><span class=\"token\" style=\"--top-color: rgba(255, 0, 0, 0.187); --bottom-color: rgba(255, 0, 0, 0.022);\" data-tooltip=\"Token 139: '  '\n",
       "Feature 0: 0.673\n",
       "Feature 1: 0.655\" data-tokenstr=\"  \">&nbsp;&nbsp;</span><span class=\"token\" style=\"--top-color: rgba(255, 0, 0, 0.288); --bottom-color: rgba(255, 0, 0, 0.045);\" data-tooltip=\"Token 7056: 'Use'\n",
       "Feature 0: 1.037\n",
       "Feature 1: 1.365\" data-tokenstr=\"Use\">Use</span><span class=\"token\" style=\"--top-color: rgba(255, 0, 0, 0.420); --bottom-color: rgba(255, 0, 0, 0.057);\" data-tooltip=\"Token 476: ' a'\n",
       "Feature 0: 1.516\n",
       "Feature 1: 1.736\" data-tokenstr=\" a\">&nbsp;a</span><span class=\"token\" style=\"--top-color: rgba(255, 0, 0, 0.431); --bottom-color: rgba(255, 0, 0, 0.047);\" data-tooltip=\"Token 3760: ' heart'\n",
       "Feature 0: 1.554\n",
       "Feature 1: 1.443\" data-tokenstr=\" heart\">&nbsp;heart</span><span class=\"token\" style=\"--top-color: rgba(255, 0, 0, 0.401); --bottom-color: rgba(255, 0, 0, 0.028);\" data-tooltip=\"Token 7479: ' shape'\n",
       "Feature 0: 1.448\n",
       "Feature 1: 0.862\" data-tokenstr=\" shape\">&nbsp;shape</span><span class=\"token\" style=\"--top-color: rgba(255, 0, 0, 0.479); --bottom-color: rgba(255, 0, 0, 0.128);\" data-tooltip=\"Token 2819: ' within'\n",
       "Feature 0: 1.729\n",
       "Feature 1: 3.900\" data-tokenstr=\" within\">&nbsp;within</span><span class=\"token\" style=\"--top-color: rgba(255, 0, 0, 0.012); --bottom-color: rgba(255, 0, 0, 0.000);\" data-tooltip=\"Token 573: ' the'\n",
       "Feature 0: 0.042\n",
       "Feature 1: 0.012\" data-tokenstr=\" the\">&nbsp;the</span><span class=\"token\" style=\"--top-color: rgba(255, 0, 0, 0.021); --bottom-color: rgba(255, 0, 0, 0.012);\" data-tooltip=\"Token 46880: ' paw'\n",
       "Feature 0: 0.077\n",
       "Feature 1: 0.353\" data-tokenstr=\" paw\">&nbsp;paw</span><span class=\"token\" style=\"--top-color: rgba(255, 0, 0, 0.097); --bottom-color: rgba(255, 0, 0, 0.025);\" data-tooltip=\"Token 4152: ' print'\n",
       "Feature 0: 0.349\n",
       "Feature 1: 0.751\" data-tokenstr=\" print\">&nbsp;print</span><span class=\"token\" style=\"--top-color: rgba(255, 0, 0, 0.079); --bottom-color: rgba(255, 0, 0, 0.008);\" data-tooltip=\"Token 6883: ' pattern'\n",
       "Feature 0: 0.285\n",
       "Feature 1: 0.237\" data-tokenstr=\" pattern\">&nbsp;pattern</span><span class=\"token\" style=\"--top-color: rgba(255, 0, 0, 0.213); --bottom-color: rgba(255, 0, 0, 0.013);\" data-tooltip=\"Token 577: ' to'\n",
       "Feature 0: 0.767\n",
       "Feature 1: 0.390\" data-tokenstr=\" to\">&nbsp;to</span><span class=\"token\" style=\"--top-color: rgba(255, 0, 0, 0.287); --bottom-color: rgba(255, 0, 0, 0.059);\" data-tooltip=\"Token 4319: ' represent'\n",
       "Feature 0: 1.034\n",
       "Feature 1: 1.801\" data-tokenstr=\" represent\">&nbsp;represent</span><span class=\"token\" style=\"--top-color: rgba(255, 0, 0, 0.304); --bottom-color: rgba(255, 0, 0, 0.088);\" data-tooltip=\"Token 34987: ' compassion'\n",
       "Feature 0: 1.097\n",
       "Feature 1: 2.666\" data-tokenstr=\" compassion\">&nbsp;compassion</span><span class=\"token\" style=\"--top-color: rgba(255, 0, 0, 0.093); --bottom-color: rgba(255, 0, 0, 0.031);\" data-tooltip=\"Token 235265: '.'\n",
       "Feature 0: 0.334\n",
       "Feature 1: 0.942\" data-tokenstr=\".\">.</span><span class=\"token\" style=\"--top-color: rgba(255, 0, 0, 0.395); --bottom-color: rgba(255, 0, 0, 0.087);\" data-tooltip=\"Token 110: '\\n\\n\\n'\n",
       "Feature 0: 1.425\n",
       "Feature 1: 2.643\" data-tokenstr=\"&#10;&#10;&#10;\">\\n<br>\\n<br>\\n<br></span><span class=\"token\" style=\"--top-color: rgba(255, 0, 0, 0.087); --bottom-color: rgba(255, 0, 0, 0.097);\" data-tooltip=\"Token 1596: 'This'\n",
       "Feature 0: 0.314\n",
       "Feature 1: 2.947\" data-tokenstr=\"This\">This</span><span class=\"token\" style=\"--top-color: rgba(255, 0, 0, 0.083); --bottom-color: rgba(255, 0, 0, 0.012);\" data-tooltip=\"Token 2480: ' design'\n",
       "Feature 0: 0.298\n",
       "Feature 1: 0.363\" data-tokenstr=\" design\">&nbsp;design</span><span class=\"token\" style=\"--top-color: rgba(255, 0, 0, 0.308); --bottom-color: rgba(255, 0, 0, 0.063);\" data-tooltip=\"Token 22346: ' aims'\n",
       "Feature 0: 1.112\n",
       "Feature 1: 1.918\" data-tokenstr=\" aims\">&nbsp;aims</span><span class=\"token\" style=\"--top-color: rgba(255, 0, 0, 0.004); --bottom-color: rgba(255, 0, 0, 0.000);\" data-tooltip=\"Token 577: ' to'\n",
       "Feature 0: 0.016\n",
       "Feature 1: 0.002\" data-tokenstr=\" to\">&nbsp;to</span><span class=\"token\" style=\"--top-color: rgba(255, 0, 0, 0.257); --bottom-color: rgba(255, 0, 0, 0.161);\" data-tooltip=\"Token 614: ' be'\n",
       "Feature 0: 0.927\n",
       "Feature 1: 4.895\" data-tokenstr=\" be\">&nbsp;be</span><span class=\"token\" style=\"--top-color: rgba(255, 0, 0, 0.420); --bottom-color: rgba(255, 0, 0, 0.068);\" data-tooltip=\"Token 476: ' a'\n",
       "Feature 0: 1.514\n",
       "Feature 1: 2.068\" data-tokenstr=\" a\">&nbsp;a</span><span class=\"token\" style=\"--top-color: rgba(255, 0, 0, 0.461); --bottom-color: rgba(255, 0, 0, 0.091);\" data-tooltip=\"Token 10276: ' powerful'\n",
       "Feature 0: 1.662\n",
       "Feature 1: 2.756\" data-tokenstr=\" powerful\">&nbsp;powerful</span><span class=\"token\" style=\"--top-color: rgba(255, 0, 0, 0.300); --bottom-color: rgba(255, 0, 0, 0.057);\" data-tooltip=\"Token 578: ' and'\n",
       "Feature 0: 1.082\n",
       "Feature 1: 1.741\" data-tokenstr=\" and\">&nbsp;and</span><span class=\"token\" style=\"--top-color: rgba(255, 0, 0, 0.552); --bottom-color: rgba(255, 0, 0, 0.037);\" data-tooltip=\"Token 56157: ' visually'\n",
       "Feature 0: 1.992\n",
       "Feature 1: 1.118\" data-tokenstr=\" visually\">&nbsp;visually</span><span class=\"token\" style=\"--top-color: rgba(255, 0, 0, 0.256); --bottom-color: rgba(255, 0, 0, 0.017);\" data-tooltip=\"Token 44511: ' appealing'\n",
       "Feature 0: 0.924\n",
       "Feature 1: 0.522\" data-tokenstr=\" appealing\">&nbsp;appealing</span><span class=\"token\" style=\"--top-color: rgba(255, 0, 0, 0.366); --bottom-color: rgba(255, 0, 0, 0.071);\" data-tooltip=\"Token 1703: ' way'\n",
       "Feature 0: 1.319\n",
       "Feature 1: 2.156\" data-tokenstr=\" way\">&nbsp;way</span><span class=\"token\" style=\"--top-color: rgba(255, 0, 0, 0.001); --bottom-color: rgba(255, 0, 0, 0.001);\" data-tooltip=\"Token 577: ' to'\n",
       "Feature 0: 0.005\n",
       "Feature 1: 0.033\" data-tokenstr=\" to\">&nbsp;to</span><span class=\"token\" style=\"--top-color: rgba(255, 0, 0, 0.089); --bottom-color: rgba(255, 0, 0, 0.060);\" data-tooltip=\"Token 12310: ' raise'\n",
       "Feature 0: 0.321\n",
       "Feature 1: 1.822\" data-tokenstr=\" raise\">&nbsp;raise</span><span class=\"token\" style=\"--top-color: rgba(255, 0, 0, 0.001); --bottom-color: rgba(255, 0, 0, 0.000);\" data-tooltip=\"Token 17512: ' awareness'\n",
       "Feature 0: 0.004\n",
       "Feature 1: 0.001\" data-tokenstr=\" awareness\">&nbsp;awareness</span><span class=\"token\" style=\"--top-color: rgba(255, 0, 0, 0.053); --bottom-color: rgba(255, 0, 0, 0.032);\" data-tooltip=\"Token 604: ' for'\n",
       "Feature 0: 0.189\n",
       "Feature 1: 0.984\" data-tokenstr=\" for\">&nbsp;for</span><span class=\"token\" style=\"--top-color: rgba(255, 0, 0, 0.001); --bottom-color: rgba(255, 0, 0, 0.006);\" data-tooltip=\"Token 8205: ' animal'\n",
       "Feature 0: 0.003\n",
       "Feature 1: 0.182\" data-tokenstr=\" animal\">&nbsp;animal</span><span class=\"token\" style=\"--top-color: rgba(255, 0, 0, 0.005); --bottom-color: rgba(255, 0, 0, 0.008);\" data-tooltip=\"Token 5691: ' rights'\n",
       "Feature 0: 0.019\n",
       "Feature 1: 0.248\" data-tokenstr=\" rights\">&nbsp;rights</span><span class=\"token\" style=\"--top-color: rgba(255, 0, 0, 0.216); --bottom-color: rgba(255, 0, 0, 0.026);\" data-tooltip=\"Token 578: ' and'\n",
       "Feature 0: 0.778\n",
       "Feature 1: 0.781\" data-tokenstr=\" and\">&nbsp;and</span><span class=\"token\" style=\"--top-color: rgba(255, 0, 0, 0.161); --bottom-color: rgba(255, 0, 0, 0.039);\" data-tooltip=\"Token 35177: ' inspire'\n",
       "Feature 0: 0.580\n",
       "Feature 1: 1.196\" data-tokenstr=\" inspire\">&nbsp;inspire</span><span class=\"token\" style=\"--top-color: rgba(255, 0, 0, 0.466); --bottom-color: rgba(255, 0, 0, 0.079);\" data-tooltip=\"Token 1461: ' people'\n",
       "Feature 0: 1.682\n",
       "Feature 1: 2.396\" data-tokenstr=\" people\">&nbsp;people</span><span class=\"token\" style=\"--top-color: rgba(255, 0, 0, 0.002); --bottom-color: rgba(255, 0, 0, 0.000);\" data-tooltip=\"Token 577: ' to'\n",
       "Feature 0: 0.006\n",
       "Feature 1: 0.006\" data-tokenstr=\" to\">&nbsp;to</span><span class=\"token\" style=\"--top-color: rgba(255, 0, 0, 0.270); --bottom-color: rgba(255, 0, 0, 0.011);\" data-tooltip=\"Token 614: ' be'\n",
       "Feature 0: 0.975\n",
       "Feature 1: 0.333\" data-tokenstr=\" be\">&nbsp;be</span><span class=\"token\" style=\"--top-color: rgba(255, 0, 0, 0.219); --bottom-color: rgba(255, 0, 0, 0.045);\" data-tooltip=\"Token 42900: ' kinder'\n",
       "Feature 0: 0.791\n",
       "Feature 1: 1.378\" data-tokenstr=\" kinder\">&nbsp;kinder</span><span class=\"token\" style=\"--top-color: rgba(255, 0, 0, 0.085); --bottom-color: rgba(255, 0, 0, 0.013);\" data-tooltip=\"Token 577: ' to'\n",
       "Feature 0: 0.308\n",
       "Feature 1: 0.391\" data-tokenstr=\" to\">&nbsp;to</span><span class=\"token\" style=\"--top-color: rgba(255, 0, 0, 0.118); --bottom-color: rgba(255, 0, 0, 0.002);\" data-tooltip=\"Token 8398: ' animals'\n",
       "Feature 0: 0.427\n",
       "Feature 1: 0.070\" data-tokenstr=\" animals\">&nbsp;animals</span><span class=\"token\" style=\"--top-color: rgba(255, 0, 0, 0.038); --bottom-color: rgba(255, 0, 0, 0.007);\" data-tooltip=\"Token 235265: '.'\n",
       "Feature 0: 0.137\n",
       "Feature 1: 0.207\" data-tokenstr=\".\">.</span><span class=\"token\" style=\"--top-color: rgba(255, 0, 0, 0.915); --bottom-color: rgba(255, 0, 0, 1.000);\" data-tooltip=\"Token 107: '&lt;end_of_turn&gt;'\n",
       "Feature 0: 3.299\n",
       "Feature 1: 30.438\" data-tokenstr=\"&lt;end_of_turn&gt;\">&lt;end_of_turn&gt;</span><span class=\"token\" style=\"--top-color: rgba(255, 0, 0, 0.000); --bottom-color: rgba(255, 0, 0, 0.000);\" data-tooltip=\"Token 108: '\\n'\n",
       "Feature 0: nan\n",
       "Feature 1: nan\" data-tokenstr=\"&#10;\">\\n<br></span><span class=\"token\" style=\"--top-color: rgba(255, 0, 0, 0.000); --bottom-color: rgba(255, 0, 0, 0.000);\" data-tooltip=\"Token 0: '&lt;pad&gt;'\n",
       "Feature 0: nan\n",
       "Feature 1: nan\" data-tokenstr=\"&lt;pad&gt;\">&lt;pad&gt;</span><span class=\"token\" style=\"--top-color: rgba(255, 0, 0, 0.000); --bottom-color: rgba(255, 0, 0, 0.000);\" data-tooltip=\"Token 0: '&lt;pad&gt;'\n",
       "Feature 0: nan\n",
       "Feature 1: nan\" data-tokenstr=\"&lt;pad&gt;\">&lt;pad&gt;</span><span class=\"token\" style=\"--top-color: rgba(255, 0, 0, 0.000); --bottom-color: rgba(255, 0, 0, 0.000);\" data-tooltip=\"Token 0: '&lt;pad&gt;'\n",
       "Feature 0: nan\n",
       "Feature 1: nan\" data-tokenstr=\"&lt;pad&gt;\">&lt;pad&gt;</span><span class=\"token\" style=\"--top-color: rgba(255, 0, 0, 0.000); --bottom-color: rgba(255, 0, 0, 0.000);\" data-tooltip=\"Token 0: '&lt;pad&gt;'\n",
       "Feature 0: nan\n",
       "Feature 1: nan\" data-tokenstr=\"&lt;pad&gt;\">&lt;pad&gt;</span><span class=\"token\" style=\"--top-color: rgba(255, 0, 0, 0.000); --bottom-color: rgba(255, 0, 0, 0.000);\" data-tooltip=\"Token 0: '&lt;pad&gt;'\n",
       "Feature 0: nan\n",
       "Feature 1: nan\" data-tokenstr=\"&lt;pad&gt;\">&lt;pad&gt;</span><span class=\"token\" style=\"--top-color: rgba(255, 0, 0, 0.000); --bottom-color: rgba(255, 0, 0, 0.000);\" data-tooltip=\"Token 0: '&lt;pad&gt;'\n",
       "Feature 0: nan\n",
       "Feature 1: nan\" data-tokenstr=\"&lt;pad&gt;\">&lt;pad&gt;</span><span class=\"token\" style=\"--top-color: rgba(255, 0, 0, 0.000); --bottom-color: rgba(255, 0, 0, 0.000);\" data-tooltip=\"Token 0: '&lt;pad&gt;'\n",
       "Feature 0: nan\n",
       "Feature 1: nan\" data-tokenstr=\"&lt;pad&gt;\">&lt;pad&gt;</span><span class=\"token\" style=\"--top-color: rgba(255, 0, 0, 0.000); --bottom-color: rgba(255, 0, 0, 0.000);\" data-tooltip=\"Token 0: '&lt;pad&gt;'\n",
       "Feature 0: nan\n",
       "Feature 1: nan\" data-tokenstr=\"&lt;pad&gt;\">&lt;pad&gt;</span><span class=\"token\" style=\"--top-color: rgba(255, 0, 0, 0.000); --bottom-color: rgba(255, 0, 0, 0.000);\" data-tooltip=\"Token 0: '&lt;pad&gt;'\n",
       "Feature 0: nan\n",
       "Feature 1: nan\" data-tokenstr=\"&lt;pad&gt;\">&lt;pad&gt;</span><span class=\"token\" style=\"--top-color: rgba(255, 0, 0, 0.000); --bottom-color: rgba(255, 0, 0, 0.000);\" data-tooltip=\"Token 0: '&lt;pad&gt;'\n",
       "Feature 0: nan\n",
       "Feature 1: nan\" data-tokenstr=\"&lt;pad&gt;\">&lt;pad&gt;</span><span class=\"token\" style=\"--top-color: rgba(255, 0, 0, 0.000); --bottom-color: rgba(255, 0, 0, 0.000);\" data-tooltip=\"Token 0: '&lt;pad&gt;'\n",
       "Feature 0: nan\n",
       "Feature 1: nan\" data-tokenstr=\"&lt;pad&gt;\">&lt;pad&gt;</span><span class=\"token\" style=\"--top-color: rgba(255, 0, 0, 0.000); --bottom-color: rgba(255, 0, 0, 0.000);\" data-tooltip=\"Token 0: '&lt;pad&gt;'\n",
       "Feature 0: nan\n",
       "Feature 1: nan\" data-tokenstr=\"&lt;pad&gt;\">&lt;pad&gt;</span><span class=\"token\" style=\"--top-color: rgba(255, 0, 0, 0.000); --bottom-color: rgba(255, 0, 0, 0.000);\" data-tooltip=\"Token 0: '&lt;pad&gt;'\n",
       "Feature 0: nan\n",
       "Feature 1: nan\" data-tokenstr=\"&lt;pad&gt;\">&lt;pad&gt;</span><span class=\"token\" style=\"--top-color: rgba(255, 0, 0, 0.000); --bottom-color: rgba(255, 0, 0, 0.000);\" data-tooltip=\"Token 0: '&lt;pad&gt;'\n",
       "Feature 0: nan\n",
       "Feature 1: nan\" data-tokenstr=\"&lt;pad&gt;\">&lt;pad&gt;</span><span class=\"token\" style=\"--top-color: rgba(255, 0, 0, 0.000); --bottom-color: rgba(255, 0, 0, 0.000);\" data-tooltip=\"Token 0: '&lt;pad&gt;'\n",
       "Feature 0: nan\n",
       "Feature 1: nan\" data-tokenstr=\"&lt;pad&gt;\">&lt;pad&gt;</span><span class=\"token\" style=\"--top-color: rgba(255, 0, 0, 0.000); --bottom-color: rgba(255, 0, 0, 0.000);\" data-tooltip=\"Token 0: '&lt;pad&gt;'\n",
       "Feature 0: nan\n",
       "Feature 1: nan\" data-tokenstr=\"&lt;pad&gt;\">&lt;pad&gt;</span><span class=\"token\" style=\"--top-color: rgba(255, 0, 0, 0.000); --bottom-color: rgba(255, 0, 0, 0.000);\" data-tooltip=\"Token 0: '&lt;pad&gt;'\n",
       "Feature 0: nan\n",
       "Feature 1: nan\" data-tokenstr=\"&lt;pad&gt;\">&lt;pad&gt;</span><span class=\"token\" style=\"--top-color: rgba(255, 0, 0, 0.000); --bottom-color: rgba(255, 0, 0, 0.000);\" data-tooltip=\"Token 0: '&lt;pad&gt;'\n",
       "Feature 0: nan\n",
       "Feature 1: nan\" data-tokenstr=\"&lt;pad&gt;\">&lt;pad&gt;</span><span class=\"token\" style=\"--top-color: rgba(255, 0, 0, 0.000); --bottom-color: rgba(255, 0, 0, 0.000);\" data-tooltip=\"Token 0: '&lt;pad&gt;'\n",
       "Feature 0: nan\n",
       "Feature 1: nan\" data-tokenstr=\"&lt;pad&gt;\">&lt;pad&gt;</span><span class=\"token\" style=\"--top-color: rgba(255, 0, 0, 0.000); --bottom-color: rgba(255, 0, 0, 0.000);\" data-tooltip=\"Token 0: '&lt;pad&gt;'\n",
       "Feature 0: nan\n",
       "Feature 1: nan\" data-tokenstr=\"&lt;pad&gt;\">&lt;pad&gt;</span><span class=\"token\" style=\"--top-color: rgba(255, 0, 0, 0.000); --bottom-color: rgba(255, 0, 0, 0.000);\" data-tooltip=\"Token 0: '&lt;pad&gt;'\n",
       "Feature 0: nan\n",
       "Feature 1: nan\" data-tokenstr=\"&lt;pad&gt;\">&lt;pad&gt;</span><span class=\"token\" style=\"--top-color: rgba(255, 0, 0, 0.000); --bottom-color: rgba(255, 0, 0, 0.000);\" data-tooltip=\"Token 0: '&lt;pad&gt;'\n",
       "Feature 0: nan\n",
       "Feature 1: nan\" data-tokenstr=\"&lt;pad&gt;\">&lt;pad&gt;</span><span class=\"token\" style=\"--top-color: rgba(255, 0, 0, 0.000); --bottom-color: rgba(255, 0, 0, 0.000);\" data-tooltip=\"Token 0: '&lt;pad&gt;'\n",
       "Feature 0: nan\n",
       "Feature 1: nan\" data-tokenstr=\"&lt;pad&gt;\">&lt;pad&gt;</span><span class=\"token\" style=\"--top-color: rgba(255, 0, 0, 0.000); --bottom-color: rgba(255, 0, 0, 0.000);\" data-tooltip=\"Token 0: '&lt;pad&gt;'\n",
       "Feature 0: nan\n",
       "Feature 1: nan\" data-tokenstr=\"&lt;pad&gt;\">&lt;pad&gt;</span><span class=\"token\" style=\"--top-color: rgba(255, 0, 0, 0.000); --bottom-color: rgba(255, 0, 0, 0.000);\" data-tooltip=\"Token 0: '&lt;pad&gt;'\n",
       "Feature 0: nan\n",
       "Feature 1: nan\" data-tokenstr=\"&lt;pad&gt;\">&lt;pad&gt;</span><span class=\"token\" style=\"--top-color: rgba(255, 0, 0, 0.000); --bottom-color: rgba(255, 0, 0, 0.000);\" data-tooltip=\"Token 0: '&lt;pad&gt;'\n",
       "Feature 0: nan\n",
       "Feature 1: nan\" data-tokenstr=\"&lt;pad&gt;\">&lt;pad&gt;</span><span class=\"token\" style=\"--top-color: rgba(255, 0, 0, 0.000); --bottom-color: rgba(255, 0, 0, 0.000);\" data-tooltip=\"Token 0: '&lt;pad&gt;'\n",
       "Feature 0: nan\n",
       "Feature 1: nan\" data-tokenstr=\"&lt;pad&gt;\">&lt;pad&gt;</span><span class=\"token\" style=\"--top-color: rgba(255, 0, 0, 0.000); --bottom-color: rgba(255, 0, 0, 0.000);\" data-tooltip=\"Token 0: '&lt;pad&gt;'\n",
       "Feature 0: nan\n",
       "Feature 1: nan\" data-tokenstr=\"&lt;pad&gt;\">&lt;pad&gt;</span><span class=\"token\" style=\"--top-color: rgba(255, 0, 0, 0.000); --bottom-color: rgba(255, 0, 0, 0.000);\" data-tooltip=\"Token 0: '&lt;pad&gt;'\n",
       "Feature 0: nan\n",
       "Feature 1: nan\" data-tokenstr=\"&lt;pad&gt;\">&lt;pad&gt;</span><span class=\"token\" style=\"--top-color: rgba(255, 0, 0, 0.000); --bottom-color: rgba(255, 0, 0, 0.000);\" data-tooltip=\"Token 0: '&lt;pad&gt;'\n",
       "Feature 0: nan\n",
       "Feature 1: nan\" data-tokenstr=\"&lt;pad&gt;\">&lt;pad&gt;</span><span class=\"token\" style=\"--top-color: rgba(255, 0, 0, 0.000); --bottom-color: rgba(255, 0, 0, 0.000);\" data-tooltip=\"Token 0: '&lt;pad&gt;'\n",
       "Feature 0: nan\n",
       "Feature 1: nan\" data-tokenstr=\"&lt;pad&gt;\">&lt;pad&gt;</span><span class=\"token\" style=\"--top-color: rgba(255, 0, 0, 0.000); --bottom-color: rgba(255, 0, 0, 0.000);\" data-tooltip=\"Token 0: '&lt;pad&gt;'\n",
       "Feature 0: nan\n",
       "Feature 1: nan\" data-tokenstr=\"&lt;pad&gt;\">&lt;pad&gt;</span><span class=\"token\" style=\"--top-color: rgba(255, 0, 0, 0.000); --bottom-color: rgba(255, 0, 0, 0.000);\" data-tooltip=\"Token 0: '&lt;pad&gt;'\n",
       "Feature 0: nan\n",
       "Feature 1: nan\" data-tokenstr=\"&lt;pad&gt;\">&lt;pad&gt;</span><span class=\"token\" style=\"--top-color: rgba(255, 0, 0, 0.000); --bottom-color: rgba(255, 0, 0, 0.000);\" data-tooltip=\"Token 0: '&lt;pad&gt;'\n",
       "Feature 0: nan\n",
       "Feature 1: nan\" data-tokenstr=\"&lt;pad&gt;\">&lt;pad&gt;</span><span class=\"token\" style=\"--top-color: rgba(255, 0, 0, 0.000); --bottom-color: rgba(255, 0, 0, 0.000);\" data-tooltip=\"Token 0: '&lt;pad&gt;'\n",
       "Feature 0: nan\n",
       "Feature 1: nan\" data-tokenstr=\"&lt;pad&gt;\">&lt;pad&gt;</span><span class=\"token\" style=\"--top-color: rgba(255, 0, 0, 0.000); --bottom-color: rgba(255, 0, 0, 0.000);\" data-tooltip=\"Token 0: '&lt;pad&gt;'\n",
       "Feature 0: nan\n",
       "Feature 1: nan\" data-tokenstr=\"&lt;pad&gt;\">&lt;pad&gt;</span><span class=\"token\" style=\"--top-color: rgba(255, 0, 0, 0.000); --bottom-color: rgba(255, 0, 0, 0.000);\" data-tooltip=\"Token 0: '&lt;pad&gt;'\n",
       "Feature 0: nan\n",
       "Feature 1: nan\" data-tokenstr=\"&lt;pad&gt;\">&lt;pad&gt;</span><span class=\"token\" style=\"--top-color: rgba(255, 0, 0, 0.000); --bottom-color: rgba(255, 0, 0, 0.000);\" data-tooltip=\"Token 0: '&lt;pad&gt;'\n",
       "Feature 0: nan\n",
       "Feature 1: nan\" data-tokenstr=\"&lt;pad&gt;\">&lt;pad&gt;</span><span class=\"token\" style=\"--top-color: rgba(255, 0, 0, 0.000); --bottom-color: rgba(255, 0, 0, 0.000);\" data-tooltip=\"Token 0: '&lt;pad&gt;'\n",
       "Feature 0: nan\n",
       "Feature 1: nan\" data-tokenstr=\"&lt;pad&gt;\">&lt;pad&gt;</span><span class=\"token\" style=\"--top-color: rgba(255, 0, 0, 0.000); --bottom-color: rgba(255, 0, 0, 0.000);\" data-tooltip=\"Token 0: '&lt;pad&gt;'\n",
       "Feature 0: nan\n",
       "Feature 1: nan\" data-tokenstr=\"&lt;pad&gt;\">&lt;pad&gt;</span><span class=\"token\" style=\"--top-color: rgba(255, 0, 0, 0.000); --bottom-color: rgba(255, 0, 0, 0.000);\" data-tooltip=\"Token 0: '&lt;pad&gt;'\n",
       "Feature 0: nan\n",
       "Feature 1: nan\" data-tokenstr=\"&lt;pad&gt;\">&lt;pad&gt;</span><span class=\"token\" style=\"--top-color: rgba(255, 0, 0, 0.000); --bottom-color: rgba(255, 0, 0, 0.000);\" data-tooltip=\"Token 0: '&lt;pad&gt;'\n",
       "Feature 0: nan\n",
       "Feature 1: nan\" data-tokenstr=\"&lt;pad&gt;\">&lt;pad&gt;</span><span class=\"token\" style=\"--top-color: rgba(255, 0, 0, 0.000); --bottom-color: rgba(255, 0, 0, 0.000);\" data-tooltip=\"Token 0: '&lt;pad&gt;'\n",
       "Feature 0: nan\n",
       "Feature 1: nan\" data-tokenstr=\"&lt;pad&gt;\">&lt;pad&gt;</span><span class=\"token\" style=\"--top-color: rgba(255, 0, 0, 0.000); --bottom-color: rgba(255, 0, 0, 0.000);\" data-tooltip=\"Token 0: '&lt;pad&gt;'\n",
       "Feature 0: nan\n",
       "Feature 1: nan\" data-tokenstr=\"&lt;pad&gt;\">&lt;pad&gt;</span><span class=\"token\" style=\"--top-color: rgba(255, 0, 0, 0.000); --bottom-color: rgba(255, 0, 0, 0.000);\" data-tooltip=\"Token 0: '&lt;pad&gt;'\n",
       "Feature 0: nan\n",
       "Feature 1: nan\" data-tokenstr=\"&lt;pad&gt;\">&lt;pad&gt;</span><span class=\"token\" style=\"--top-color: rgba(255, 0, 0, 0.000); --bottom-color: rgba(255, 0, 0, 0.000);\" data-tooltip=\"Token 0: '&lt;pad&gt;'\n",
       "Feature 0: nan\n",
       "Feature 1: nan\" data-tokenstr=\"&lt;pad&gt;\">&lt;pad&gt;</span><span class=\"token\" style=\"--top-color: rgba(255, 0, 0, 0.000); --bottom-color: rgba(255, 0, 0, 0.000);\" data-tooltip=\"Token 0: '&lt;pad&gt;'\n",
       "Feature 0: nan\n",
       "Feature 1: nan\" data-tokenstr=\"&lt;pad&gt;\">&lt;pad&gt;</span><span class=\"token\" style=\"--top-color: rgba(255, 0, 0, 0.000); --bottom-color: rgba(255, 0, 0, 0.000);\" data-tooltip=\"Token 0: '&lt;pad&gt;'\n",
       "Feature 0: nan\n",
       "Feature 1: nan\" data-tokenstr=\"&lt;pad&gt;\">&lt;pad&gt;</span><span class=\"token\" style=\"--top-color: rgba(255, 0, 0, 0.000); --bottom-color: rgba(255, 0, 0, 0.000);\" data-tooltip=\"Token 0: '&lt;pad&gt;'\n",
       "Feature 0: nan\n",
       "Feature 1: nan\" data-tokenstr=\"&lt;pad&gt;\">&lt;pad&gt;</span><span class=\"token\" style=\"--top-color: rgba(255, 0, 0, 0.000); --bottom-color: rgba(255, 0, 0, 0.000);\" data-tooltip=\"Token 0: '&lt;pad&gt;'\n",
       "Feature 0: nan\n",
       "Feature 1: nan\" data-tokenstr=\"&lt;pad&gt;\">&lt;pad&gt;</span><span class=\"token\" style=\"--top-color: rgba(255, 0, 0, 0.000); --bottom-color: rgba(255, 0, 0, 0.000);\" data-tooltip=\"Token 0: '&lt;pad&gt;'\n",
       "Feature 0: nan\n",
       "Feature 1: nan\" data-tokenstr=\"&lt;pad&gt;\">&lt;pad&gt;</span><span class=\"token\" style=\"--top-color: rgba(255, 0, 0, 0.000); --bottom-color: rgba(255, 0, 0, 0.000);\" data-tooltip=\"Token 0: '&lt;pad&gt;'\n",
       "Feature 0: nan\n",
       "Feature 1: nan\" data-tokenstr=\"&lt;pad&gt;\">&lt;pad&gt;</span><span class=\"token\" style=\"--top-color: rgba(255, 0, 0, 0.000); --bottom-color: rgba(255, 0, 0, 0.000);\" data-tooltip=\"Token 0: '&lt;pad&gt;'\n",
       "Feature 0: nan\n",
       "Feature 1: nan\" data-tokenstr=\"&lt;pad&gt;\">&lt;pad&gt;</span><span class=\"token\" style=\"--top-color: rgba(255, 0, 0, 0.000); --bottom-color: rgba(255, 0, 0, 0.000);\" data-tooltip=\"Token 0: '&lt;pad&gt;'\n",
       "Feature 0: nan\n",
       "Feature 1: nan\" data-tokenstr=\"&lt;pad&gt;\">&lt;pad&gt;</span><span class=\"token\" style=\"--top-color: rgba(255, 0, 0, 0.000); --bottom-color: rgba(255, 0, 0, 0.000);\" data-tooltip=\"Token 0: '&lt;pad&gt;'\n",
       "Feature 0: nan\n",
       "Feature 1: nan\" data-tokenstr=\"&lt;pad&gt;\">&lt;pad&gt;</span><span class=\"token\" style=\"--top-color: rgba(255, 0, 0, 0.000); --bottom-color: rgba(255, 0, 0, 0.000);\" data-tooltip=\"Token 0: '&lt;pad&gt;'\n",
       "Feature 0: nan\n",
       "Feature 1: nan\" data-tokenstr=\"&lt;pad&gt;\">&lt;pad&gt;</span><span class=\"token\" style=\"--top-color: rgba(255, 0, 0, 0.000); --bottom-color: rgba(255, 0, 0, 0.000);\" data-tooltip=\"Token 0: '&lt;pad&gt;'\n",
       "Feature 0: nan\n",
       "Feature 1: nan\" data-tokenstr=\"&lt;pad&gt;\">&lt;pad&gt;</span><span class=\"token\" style=\"--top-color: rgba(255, 0, 0, 0.000); --bottom-color: rgba(255, 0, 0, 0.000);\" data-tooltip=\"Token 0: '&lt;pad&gt;'\n",
       "Feature 0: nan\n",
       "Feature 1: nan\" data-tokenstr=\"&lt;pad&gt;\">&lt;pad&gt;</span><span class=\"token\" style=\"--top-color: rgba(255, 0, 0, 0.000); --bottom-color: rgba(255, 0, 0, 0.000);\" data-tooltip=\"Token 0: '&lt;pad&gt;'\n",
       "Feature 0: nan\n",
       "Feature 1: nan\" data-tokenstr=\"&lt;pad&gt;\">&lt;pad&gt;</span><span class=\"token\" style=\"--top-color: rgba(255, 0, 0, 0.000); --bottom-color: rgba(255, 0, 0, 0.000);\" data-tooltip=\"Token 0: '&lt;pad&gt;'\n",
       "Feature 0: nan\n",
       "Feature 1: nan\" data-tokenstr=\"&lt;pad&gt;\">&lt;pad&gt;</span><span class=\"token\" style=\"--top-color: rgba(255, 0, 0, 0.000); --bottom-color: rgba(255, 0, 0, 0.000);\" data-tooltip=\"Token 0: '&lt;pad&gt;'\n",
       "Feature 0: nan\n",
       "Feature 1: nan\" data-tokenstr=\"&lt;pad&gt;\">&lt;pad&gt;</span><span class=\"token\" style=\"--top-color: rgba(255, 0, 0, 0.000); --bottom-color: rgba(255, 0, 0, 0.000);\" data-tooltip=\"Token 0: '&lt;pad&gt;'\n",
       "Feature 0: nan\n",
       "Feature 1: nan\" data-tokenstr=\"&lt;pad&gt;\">&lt;pad&gt;</span><span class=\"token\" style=\"--top-color: rgba(255, 0, 0, 0.000); --bottom-color: rgba(255, 0, 0, 0.000);\" data-tooltip=\"Token 0: '&lt;pad&gt;'\n",
       "Feature 0: nan\n",
       "Feature 1: nan\" data-tokenstr=\"&lt;pad&gt;\">&lt;pad&gt;</span><span class=\"token\" style=\"--top-color: rgba(255, 0, 0, 0.000); --bottom-color: rgba(255, 0, 0, 0.000);\" data-tooltip=\"Token 0: '&lt;pad&gt;'\n",
       "Feature 0: nan\n",
       "Feature 1: nan\" data-tokenstr=\"&lt;pad&gt;\">&lt;pad&gt;</span><span class=\"token\" style=\"--top-color: rgba(255, 0, 0, 0.000); --bottom-color: rgba(255, 0, 0, 0.000);\" data-tooltip=\"Token 0: '&lt;pad&gt;'\n",
       "Feature 0: nan\n",
       "Feature 1: nan\" data-tokenstr=\"&lt;pad&gt;\">&lt;pad&gt;</span><span class=\"token\" style=\"--top-color: rgba(255, 0, 0, 0.000); --bottom-color: rgba(255, 0, 0, 0.000);\" data-tooltip=\"Token 0: '&lt;pad&gt;'\n",
       "Feature 0: nan\n",
       "Feature 1: nan\" data-tokenstr=\"&lt;pad&gt;\">&lt;pad&gt;</span><span class=\"token\" style=\"--top-color: rgba(255, 0, 0, 0.000); --bottom-color: rgba(255, 0, 0, 0.000);\" data-tooltip=\"Token 0: '&lt;pad&gt;'\n",
       "Feature 0: nan\n",
       "Feature 1: nan\" data-tokenstr=\"&lt;pad&gt;\">&lt;pad&gt;</span><span class=\"token\" style=\"--top-color: rgba(255, 0, 0, 0.000); --bottom-color: rgba(255, 0, 0, 0.000);\" data-tooltip=\"Token 0: '&lt;pad&gt;'\n",
       "Feature 0: nan\n",
       "Feature 1: nan\" data-tokenstr=\"&lt;pad&gt;\">&lt;pad&gt;</span><span class=\"token\" style=\"--top-color: rgba(255, 0, 0, 0.000); --bottom-color: rgba(255, 0, 0, 0.000);\" data-tooltip=\"Token 0: '&lt;pad&gt;'\n",
       "Feature 0: nan\n",
       "Feature 1: nan\" data-tokenstr=\"&lt;pad&gt;\">&lt;pad&gt;</span><span class=\"token\" style=\"--top-color: rgba(255, 0, 0, 0.000); --bottom-color: rgba(255, 0, 0, 0.000);\" data-tooltip=\"Token 0: '&lt;pad&gt;'\n",
       "Feature 0: nan\n",
       "Feature 1: nan\" data-tokenstr=\"&lt;pad&gt;\">&lt;pad&gt;</span><span class=\"token\" style=\"--top-color: rgba(255, 0, 0, 0.000); --bottom-color: rgba(255, 0, 0, 0.000);\" data-tooltip=\"Token 0: '&lt;pad&gt;'\n",
       "Feature 0: nan\n",
       "Feature 1: nan\" data-tokenstr=\"&lt;pad&gt;\">&lt;pad&gt;</span><span class=\"token\" style=\"--top-color: rgba(255, 0, 0, 0.000); --bottom-color: rgba(255, 0, 0, 0.000);\" data-tooltip=\"Token 0: '&lt;pad&gt;'\n",
       "Feature 0: nan\n",
       "Feature 1: nan\" data-tokenstr=\"&lt;pad&gt;\">&lt;pad&gt;</span><span class=\"token\" style=\"--top-color: rgba(255, 0, 0, 0.000); --bottom-color: rgba(255, 0, 0, 0.000);\" data-tooltip=\"Token 0: '&lt;pad&gt;'\n",
       "Feature 0: nan\n",
       "Feature 1: nan\" data-tokenstr=\"&lt;pad&gt;\">&lt;pad&gt;</span><span class=\"token\" style=\"--top-color: rgba(255, 0, 0, 0.000); --bottom-color: rgba(255, 0, 0, 0.000);\" data-tooltip=\"Token 0: '&lt;pad&gt;'\n",
       "Feature 0: nan\n",
       "Feature 1: nan\" data-tokenstr=\"&lt;pad&gt;\">&lt;pad&gt;</span><span class=\"token\" style=\"--top-color: rgba(255, 0, 0, 0.000); --bottom-color: rgba(255, 0, 0, 0.000);\" data-tooltip=\"Token 0: '&lt;pad&gt;'\n",
       "Feature 0: nan\n",
       "Feature 1: nan\" data-tokenstr=\"&lt;pad&gt;\">&lt;pad&gt;</span><span class=\"token\" style=\"--top-color: rgba(255, 0, 0, 0.000); --bottom-color: rgba(255, 0, 0, 0.000);\" data-tooltip=\"Token 0: '&lt;pad&gt;'\n",
       "Feature 0: nan\n",
       "Feature 1: nan\" data-tokenstr=\"&lt;pad&gt;\">&lt;pad&gt;</span><span class=\"token\" style=\"--top-color: rgba(255, 0, 0, 0.000); --bottom-color: rgba(255, 0, 0, 0.000);\" data-tooltip=\"Token 0: '&lt;pad&gt;'\n",
       "Feature 0: nan\n",
       "Feature 1: nan\" data-tokenstr=\"&lt;pad&gt;\">&lt;pad&gt;</span><span class=\"token\" style=\"--top-color: rgba(255, 0, 0, 0.000); --bottom-color: rgba(255, 0, 0, 0.000);\" data-tooltip=\"Token 0: '&lt;pad&gt;'\n",
       "Feature 0: nan\n",
       "Feature 1: nan\" data-tokenstr=\"&lt;pad&gt;\">&lt;pad&gt;</span><span class=\"token\" style=\"--top-color: rgba(255, 0, 0, 0.000); --bottom-color: rgba(255, 0, 0, 0.000);\" data-tooltip=\"Token 0: '&lt;pad&gt;'\n",
       "Feature 0: nan\n",
       "Feature 1: nan\" data-tokenstr=\"&lt;pad&gt;\">&lt;pad&gt;</span><span class=\"token\" style=\"--top-color: rgba(255, 0, 0, 0.000); --bottom-color: rgba(255, 0, 0, 0.000);\" data-tooltip=\"Token 0: '&lt;pad&gt;'\n",
       "Feature 0: nan\n",
       "Feature 1: nan\" data-tokenstr=\"&lt;pad&gt;\">&lt;pad&gt;</span><span class=\"token\" style=\"--top-color: rgba(255, 0, 0, 0.000); --bottom-color: rgba(255, 0, 0, 0.000);\" data-tooltip=\"Token 0: '&lt;pad&gt;'\n",
       "Feature 0: nan\n",
       "Feature 1: nan\" data-tokenstr=\"&lt;pad&gt;\">&lt;pad&gt;</span><span class=\"token\" style=\"--top-color: rgba(255, 0, 0, 0.000); --bottom-color: rgba(255, 0, 0, 0.000);\" data-tooltip=\"Token 0: '&lt;pad&gt;'\n",
       "Feature 0: nan\n",
       "Feature 1: nan\" data-tokenstr=\"&lt;pad&gt;\">&lt;pad&gt;</span><span class=\"token\" style=\"--top-color: rgba(255, 0, 0, 0.000); --bottom-color: rgba(255, 0, 0, 0.000);\" data-tooltip=\"Token 0: '&lt;pad&gt;'\n",
       "Feature 0: nan\n",
       "Feature 1: nan\" data-tokenstr=\"&lt;pad&gt;\">&lt;pad&gt;</span><span class=\"token\" style=\"--top-color: rgba(255, 0, 0, 0.000); --bottom-color: rgba(255, 0, 0, 0.000);\" data-tooltip=\"Token 0: '&lt;pad&gt;'\n",
       "Feature 0: nan\n",
       "Feature 1: nan\" data-tokenstr=\"&lt;pad&gt;\">&lt;pad&gt;</span><span class=\"token\" style=\"--top-color: rgba(255, 0, 0, 0.000); --bottom-color: rgba(255, 0, 0, 0.000);\" data-tooltip=\"Token 0: '&lt;pad&gt;'\n",
       "Feature 0: nan\n",
       "Feature 1: nan\" data-tokenstr=\"&lt;pad&gt;\">&lt;pad&gt;</span><span class=\"token\" style=\"--top-color: rgba(255, 0, 0, 0.000); --bottom-color: rgba(255, 0, 0, 0.000);\" data-tooltip=\"Token 0: '&lt;pad&gt;'\n",
       "Feature 0: nan\n",
       "Feature 1: nan\" data-tokenstr=\"&lt;pad&gt;\">&lt;pad&gt;</span><span class=\"token\" style=\"--top-color: rgba(255, 0, 0, 0.000); --bottom-color: rgba(255, 0, 0, 0.000);\" data-tooltip=\"Token 0: '&lt;pad&gt;'\n",
       "Feature 0: nan\n",
       "Feature 1: nan\" data-tokenstr=\"&lt;pad&gt;\">&lt;pad&gt;</span><span class=\"token\" style=\"--top-color: rgba(255, 0, 0, 0.000); --bottom-color: rgba(255, 0, 0, 0.000);\" data-tooltip=\"Token 0: '&lt;pad&gt;'\n",
       "Feature 0: nan\n",
       "Feature 1: nan\" data-tokenstr=\"&lt;pad&gt;\">&lt;pad&gt;</span><span class=\"token\" style=\"--top-color: rgba(255, 0, 0, 0.000); --bottom-color: rgba(255, 0, 0, 0.000);\" data-tooltip=\"Token 0: '&lt;pad&gt;'\n",
       "Feature 0: nan\n",
       "Feature 1: nan\" data-tokenstr=\"&lt;pad&gt;\">&lt;pad&gt;</span><span class=\"token\" style=\"--top-color: rgba(255, 0, 0, 0.000); --bottom-color: rgba(255, 0, 0, 0.000);\" data-tooltip=\"Token 0: '&lt;pad&gt;'\n",
       "Feature 0: nan\n",
       "Feature 1: nan\" data-tokenstr=\"&lt;pad&gt;\">&lt;pad&gt;</span><span class=\"token\" style=\"--top-color: rgba(255, 0, 0, 0.000); --bottom-color: rgba(255, 0, 0, 0.000);\" data-tooltip=\"Token 0: '&lt;pad&gt;'\n",
       "Feature 0: nan\n",
       "Feature 1: nan\" data-tokenstr=\"&lt;pad&gt;\">&lt;pad&gt;</span><span class=\"token\" style=\"--top-color: rgba(255, 0, 0, 0.000); --bottom-color: rgba(255, 0, 0, 0.000);\" data-tooltip=\"Token 0: '&lt;pad&gt;'\n",
       "Feature 0: nan\n",
       "Feature 1: nan\" data-tokenstr=\"&lt;pad&gt;\">&lt;pad&gt;</span><span class=\"token\" style=\"--top-color: rgba(255, 0, 0, 0.000); --bottom-color: rgba(255, 0, 0, 0.000);\" data-tooltip=\"Token 0: '&lt;pad&gt;'\n",
       "Feature 0: nan\n",
       "Feature 1: nan\" data-tokenstr=\"&lt;pad&gt;\">&lt;pad&gt;</span><span class=\"token\" style=\"--top-color: rgba(255, 0, 0, 0.000); --bottom-color: rgba(255, 0, 0, 0.000);\" data-tooltip=\"Token 0: '&lt;pad&gt;'\n",
       "Feature 0: nan\n",
       "Feature 1: nan\" data-tokenstr=\"&lt;pad&gt;\">&lt;pad&gt;</span><span class=\"token\" style=\"--top-color: rgba(255, 0, 0, 0.000); --bottom-color: rgba(255, 0, 0, 0.000);\" data-tooltip=\"Token 0: '&lt;pad&gt;'\n",
       "Feature 0: nan\n",
       "Feature 1: nan\" data-tokenstr=\"&lt;pad&gt;\">&lt;pad&gt;</span><span class=\"token\" style=\"--top-color: rgba(255, 0, 0, 0.000); --bottom-color: rgba(255, 0, 0, 0.000);\" data-tooltip=\"Token 0: '&lt;pad&gt;'\n",
       "Feature 0: nan\n",
       "Feature 1: nan\" data-tokenstr=\"&lt;pad&gt;\">&lt;pad&gt;</span><span class=\"token\" style=\"--top-color: rgba(255, 0, 0, 0.000); --bottom-color: rgba(255, 0, 0, 0.000);\" data-tooltip=\"Token 0: '&lt;pad&gt;'\n",
       "Feature 0: nan\n",
       "Feature 1: nan\" data-tokenstr=\"&lt;pad&gt;\">&lt;pad&gt;</span><span class=\"token\" style=\"--top-color: rgba(255, 0, 0, 0.000); --bottom-color: rgba(255, 0, 0, 0.000);\" data-tooltip=\"Token 0: '&lt;pad&gt;'\n",
       "Feature 0: nan\n",
       "Feature 1: nan\" data-tokenstr=\"&lt;pad&gt;\">&lt;pad&gt;</span><span class=\"token\" style=\"--top-color: rgba(255, 0, 0, 0.000); --bottom-color: rgba(255, 0, 0, 0.000);\" data-tooltip=\"Token 0: '&lt;pad&gt;'\n",
       "Feature 0: nan\n",
       "Feature 1: nan\" data-tokenstr=\"&lt;pad&gt;\">&lt;pad&gt;</span><span class=\"token\" style=\"--top-color: rgba(255, 0, 0, 0.000); --bottom-color: rgba(255, 0, 0, 0.000);\" data-tooltip=\"Token 0: '&lt;pad&gt;'\n",
       "Feature 0: nan\n",
       "Feature 1: nan\" data-tokenstr=\"&lt;pad&gt;\">&lt;pad&gt;</span><span class=\"token\" style=\"--top-color: rgba(255, 0, 0, 0.000); --bottom-color: rgba(255, 0, 0, 0.000);\" data-tooltip=\"Token 0: '&lt;pad&gt;'\n",
       "Feature 0: nan\n",
       "Feature 1: nan\" data-tokenstr=\"&lt;pad&gt;\">&lt;pad&gt;</span><span class=\"token\" style=\"--top-color: rgba(255, 0, 0, 0.000); --bottom-color: rgba(255, 0, 0, 0.000);\" data-tooltip=\"Token 0: '&lt;pad&gt;'\n",
       "Feature 0: nan\n",
       "Feature 1: nan\" data-tokenstr=\"&lt;pad&gt;\">&lt;pad&gt;</span><span class=\"token\" style=\"--top-color: rgba(255, 0, 0, 0.000); --bottom-color: rgba(255, 0, 0, 0.000);\" data-tooltip=\"Token 0: '&lt;pad&gt;'\n",
       "Feature 0: nan\n",
       "Feature 1: nan\" data-tokenstr=\"&lt;pad&gt;\">&lt;pad&gt;</span><span class=\"token\" style=\"--top-color: rgba(255, 0, 0, 0.000); --bottom-color: rgba(255, 0, 0, 0.000);\" data-tooltip=\"Token 0: '&lt;pad&gt;'\n",
       "Feature 0: nan\n",
       "Feature 1: nan\" data-tokenstr=\"&lt;pad&gt;\">&lt;pad&gt;</span><span class=\"token\" style=\"--top-color: rgba(255, 0, 0, 0.000); --bottom-color: rgba(255, 0, 0, 0.000);\" data-tooltip=\"Token 0: '&lt;pad&gt;'\n",
       "Feature 0: nan\n",
       "Feature 1: nan\" data-tokenstr=\"&lt;pad&gt;\">&lt;pad&gt;</span><span class=\"token\" style=\"--top-color: rgba(255, 0, 0, 0.000); --bottom-color: rgba(255, 0, 0, 0.000);\" data-tooltip=\"Token 0: '&lt;pad&gt;'\n",
       "Feature 0: nan\n",
       "Feature 1: nan\" data-tokenstr=\"&lt;pad&gt;\">&lt;pad&gt;</span><span class=\"token\" style=\"--top-color: rgba(255, 0, 0, 0.000); --bottom-color: rgba(255, 0, 0, 0.000);\" data-tooltip=\"Token 0: '&lt;pad&gt;'\n",
       "Feature 0: nan\n",
       "Feature 1: nan\" data-tokenstr=\"&lt;pad&gt;\">&lt;pad&gt;</span><span class=\"token\" style=\"--top-color: rgba(255, 0, 0, 0.000); --bottom-color: rgba(255, 0, 0, 0.000);\" data-tooltip=\"Token 0: '&lt;pad&gt;'\n",
       "Feature 0: nan\n",
       "Feature 1: nan\" data-tokenstr=\"&lt;pad&gt;\">&lt;pad&gt;</span><span class=\"token\" style=\"--top-color: rgba(255, 0, 0, 0.000); --bottom-color: rgba(255, 0, 0, 0.000);\" data-tooltip=\"Token 0: '&lt;pad&gt;'\n",
       "Feature 0: nan\n",
       "Feature 1: nan\" data-tokenstr=\"&lt;pad&gt;\">&lt;pad&gt;</span><span class=\"token\" style=\"--top-color: rgba(255, 0, 0, 0.000); --bottom-color: rgba(255, 0, 0, 0.000);\" data-tooltip=\"Token 0: '&lt;pad&gt;'\n",
       "Feature 0: nan\n",
       "Feature 1: nan\" data-tokenstr=\"&lt;pad&gt;\">&lt;pad&gt;</span><span class=\"token\" style=\"--top-color: rgba(255, 0, 0, 0.000); --bottom-color: rgba(255, 0, 0, 0.000);\" data-tooltip=\"Token 0: '&lt;pad&gt;'\n",
       "Feature 0: nan\n",
       "Feature 1: nan\" data-tokenstr=\"&lt;pad&gt;\">&lt;pad&gt;</span><span class=\"token\" style=\"--top-color: rgba(255, 0, 0, 0.000); --bottom-color: rgba(255, 0, 0, 0.000);\" data-tooltip=\"Token 0: '&lt;pad&gt;'\n",
       "Feature 0: nan\n",
       "Feature 1: nan\" data-tokenstr=\"&lt;pad&gt;\">&lt;pad&gt;</span><span class=\"token\" style=\"--top-color: rgba(255, 0, 0, 0.000); --bottom-color: rgba(255, 0, 0, 0.000);\" data-tooltip=\"Token 0: '&lt;pad&gt;'\n",
       "Feature 0: nan\n",
       "Feature 1: nan\" data-tokenstr=\"&lt;pad&gt;\">&lt;pad&gt;</span><span class=\"token\" style=\"--top-color: rgba(255, 0, 0, 0.000); --bottom-color: rgba(255, 0, 0, 0.000);\" data-tooltip=\"Token 0: '&lt;pad&gt;'\n",
       "Feature 0: nan\n",
       "Feature 1: nan\" data-tokenstr=\"&lt;pad&gt;\">&lt;pad&gt;</span><span class=\"token\" style=\"--top-color: rgba(255, 0, 0, 0.000); --bottom-color: rgba(255, 0, 0, 0.000);\" data-tooltip=\"Token 0: '&lt;pad&gt;'\n",
       "Feature 0: nan\n",
       "Feature 1: nan\" data-tokenstr=\"&lt;pad&gt;\">&lt;pad&gt;</span><span class=\"token\" style=\"--top-color: rgba(255, 0, 0, 0.000); --bottom-color: rgba(255, 0, 0, 0.000);\" data-tooltip=\"Token 0: '&lt;pad&gt;'\n",
       "Feature 0: nan\n",
       "Feature 1: nan\" data-tokenstr=\"&lt;pad&gt;\">&lt;pad&gt;</span><span class=\"token\" style=\"--top-color: rgba(255, 0, 0, 0.000); --bottom-color: rgba(255, 0, 0, 0.000);\" data-tooltip=\"Token 0: '&lt;pad&gt;'\n",
       "Feature 0: nan\n",
       "Feature 1: nan\" data-tokenstr=\"&lt;pad&gt;\">&lt;pad&gt;</span><span class=\"token\" style=\"--top-color: rgba(255, 0, 0, 0.000); --bottom-color: rgba(255, 0, 0, 0.000);\" data-tooltip=\"Token 0: '&lt;pad&gt;'\n",
       "Feature 0: nan\n",
       "Feature 1: nan\" data-tokenstr=\"&lt;pad&gt;\">&lt;pad&gt;</span><span class=\"token\" style=\"--top-color: rgba(255, 0, 0, 0.000); --bottom-color: rgba(255, 0, 0, 0.000);\" data-tooltip=\"Token 0: '&lt;pad&gt;'\n",
       "Feature 0: nan\n",
       "Feature 1: nan\" data-tokenstr=\"&lt;pad&gt;\">&lt;pad&gt;</span><span class=\"token\" style=\"--top-color: rgba(255, 0, 0, 0.000); --bottom-color: rgba(255, 0, 0, 0.000);\" data-tooltip=\"Token 0: '&lt;pad&gt;'\n",
       "Feature 0: nan\n",
       "Feature 1: nan\" data-tokenstr=\"&lt;pad&gt;\">&lt;pad&gt;</span><span class=\"token\" style=\"--top-color: rgba(255, 0, 0, 0.000); --bottom-color: rgba(255, 0, 0, 0.000);\" data-tooltip=\"Token 0: '&lt;pad&gt;'\n",
       "Feature 0: nan\n",
       "Feature 1: nan\" data-tokenstr=\"&lt;pad&gt;\">&lt;pad&gt;</span><span class=\"token\" style=\"--top-color: rgba(255, 0, 0, 0.000); --bottom-color: rgba(255, 0, 0, 0.000);\" data-tooltip=\"Token 0: '&lt;pad&gt;'\n",
       "Feature 0: nan\n",
       "Feature 1: nan\" data-tokenstr=\"&lt;pad&gt;\">&lt;pad&gt;</span><span class=\"token\" style=\"--top-color: rgba(255, 0, 0, 0.000); --bottom-color: rgba(255, 0, 0, 0.000);\" data-tooltip=\"Token 0: '&lt;pad&gt;'\n",
       "Feature 0: nan\n",
       "Feature 1: nan\" data-tokenstr=\"&lt;pad&gt;\">&lt;pad&gt;</span><span class=\"token\" style=\"--top-color: rgba(255, 0, 0, 0.000); --bottom-color: rgba(255, 0, 0, 0.000);\" data-tooltip=\"Token 0: '&lt;pad&gt;'\n",
       "Feature 0: nan\n",
       "Feature 1: nan\" data-tokenstr=\"&lt;pad&gt;\">&lt;pad&gt;</span><span class=\"token\" style=\"--top-color: rgba(255, 0, 0, 0.000); --bottom-color: rgba(255, 0, 0, 0.000);\" data-tooltip=\"Token 0: '&lt;pad&gt;'\n",
       "Feature 0: nan\n",
       "Feature 1: nan\" data-tokenstr=\"&lt;pad&gt;\">&lt;pad&gt;</span><span class=\"token\" style=\"--top-color: rgba(255, 0, 0, 0.000); --bottom-color: rgba(255, 0, 0, 0.000);\" data-tooltip=\"Token 0: '&lt;pad&gt;'\n",
       "Feature 0: nan\n",
       "Feature 1: nan\" data-tokenstr=\"&lt;pad&gt;\">&lt;pad&gt;</span><span class=\"token\" style=\"--top-color: rgba(255, 0, 0, 0.000); --bottom-color: rgba(255, 0, 0, 0.000);\" data-tooltip=\"Token 0: '&lt;pad&gt;'\n",
       "Feature 0: nan\n",
       "Feature 1: nan\" data-tokenstr=\"&lt;pad&gt;\">&lt;pad&gt;</span><span class=\"token\" style=\"--top-color: rgba(255, 0, 0, 0.000); --bottom-color: rgba(255, 0, 0, 0.000);\" data-tooltip=\"Token 0: '&lt;pad&gt;'\n",
       "Feature 0: nan\n",
       "Feature 1: nan\" data-tokenstr=\"&lt;pad&gt;\">&lt;pad&gt;</span><span class=\"token\" style=\"--top-color: rgba(255, 0, 0, 0.000); --bottom-color: rgba(255, 0, 0, 0.000);\" data-tooltip=\"Token 0: '&lt;pad&gt;'\n",
       "Feature 0: nan\n",
       "Feature 1: nan\" data-tokenstr=\"&lt;pad&gt;\">&lt;pad&gt;</span><span class=\"token\" style=\"--top-color: rgba(255, 0, 0, 0.000); --bottom-color: rgba(255, 0, 0, 0.000);\" data-tooltip=\"Token 0: '&lt;pad&gt;'\n",
       "Feature 0: nan\n",
       "Feature 1: nan\" data-tokenstr=\"&lt;pad&gt;\">&lt;pad&gt;</span><span class=\"token\" style=\"--top-color: rgba(255, 0, 0, 0.000); --bottom-color: rgba(255, 0, 0, 0.000);\" data-tooltip=\"Token 0: '&lt;pad&gt;'\n",
       "Feature 0: nan\n",
       "Feature 1: nan\" data-tokenstr=\"&lt;pad&gt;\">&lt;pad&gt;</span><span class=\"token\" style=\"--top-color: rgba(255, 0, 0, 0.000); --bottom-color: rgba(255, 0, 0, 0.000);\" data-tooltip=\"Token 0: '&lt;pad&gt;'\n",
       "Feature 0: nan\n",
       "Feature 1: nan\" data-tokenstr=\"&lt;pad&gt;\">&lt;pad&gt;</span><span class=\"token\" style=\"--top-color: rgba(255, 0, 0, 0.000); --bottom-color: rgba(255, 0, 0, 0.000);\" data-tooltip=\"Token 0: '&lt;pad&gt;'\n",
       "Feature 0: nan\n",
       "Feature 1: nan\" data-tokenstr=\"&lt;pad&gt;\">&lt;pad&gt;</span><span class=\"token\" style=\"--top-color: rgba(255, 0, 0, 0.000); --bottom-color: rgba(255, 0, 0, 0.000);\" data-tooltip=\"Token 0: '&lt;pad&gt;'\n",
       "Feature 0: nan\n",
       "Feature 1: nan\" data-tokenstr=\"&lt;pad&gt;\">&lt;pad&gt;</span><span class=\"token\" style=\"--top-color: rgba(255, 0, 0, 0.000); --bottom-color: rgba(255, 0, 0, 0.000);\" data-tooltip=\"Token 0: '&lt;pad&gt;'\n",
       "Feature 0: nan\n",
       "Feature 1: nan\" data-tokenstr=\"&lt;pad&gt;\">&lt;pad&gt;</span><span class=\"token\" style=\"--top-color: rgba(255, 0, 0, 0.000); --bottom-color: rgba(255, 0, 0, 0.000);\" data-tooltip=\"Token 0: '&lt;pad&gt;'\n",
       "Feature 0: nan\n",
       "Feature 1: nan\" data-tokenstr=\"&lt;pad&gt;\">&lt;pad&gt;</span><span class=\"token\" style=\"--top-color: rgba(255, 0, 0, 0.000); --bottom-color: rgba(255, 0, 0, 0.000);\" data-tooltip=\"Token 0: '&lt;pad&gt;'\n",
       "Feature 0: nan\n",
       "Feature 1: nan\" data-tokenstr=\"&lt;pad&gt;\">&lt;pad&gt;</span><span class=\"token\" style=\"--top-color: rgba(255, 0, 0, 0.000); --bottom-color: rgba(255, 0, 0, 0.000);\" data-tooltip=\"Token 0: '&lt;pad&gt;'\n",
       "Feature 0: nan\n",
       "Feature 1: nan\" data-tokenstr=\"&lt;pad&gt;\">&lt;pad&gt;</span><span class=\"token\" style=\"--top-color: rgba(255, 0, 0, 0.000); --bottom-color: rgba(255, 0, 0, 0.000);\" data-tooltip=\"Token 0: '&lt;pad&gt;'\n",
       "Feature 0: nan\n",
       "Feature 1: nan\" data-tokenstr=\"&lt;pad&gt;\">&lt;pad&gt;</span><span class=\"token\" style=\"--top-color: rgba(255, 0, 0, 0.000); --bottom-color: rgba(255, 0, 0, 0.000);\" data-tooltip=\"Token 0: '&lt;pad&gt;'\n",
       "Feature 0: nan\n",
       "Feature 1: nan\" data-tokenstr=\"&lt;pad&gt;\">&lt;pad&gt;</span><span class=\"token\" style=\"--top-color: rgba(255, 0, 0, 0.000); --bottom-color: rgba(255, 0, 0, 0.000);\" data-tooltip=\"Token 0: '&lt;pad&gt;'\n",
       "Feature 0: nan\n",
       "Feature 1: nan\" data-tokenstr=\"&lt;pad&gt;\">&lt;pad&gt;</span><span class=\"token\" style=\"--top-color: rgba(255, 0, 0, 0.000); --bottom-color: rgba(255, 0, 0, 0.000);\" data-tooltip=\"Token 0: '&lt;pad&gt;'\n",
       "Feature 0: nan\n",
       "Feature 1: nan\" data-tokenstr=\"&lt;pad&gt;\">&lt;pad&gt;</span><span class=\"token\" style=\"--top-color: rgba(255, 0, 0, 0.000); --bottom-color: rgba(255, 0, 0, 0.000);\" data-tooltip=\"Token 0: '&lt;pad&gt;'\n",
       "Feature 0: nan\n",
       "Feature 1: nan\" data-tokenstr=\"&lt;pad&gt;\">&lt;pad&gt;</span><span class=\"token\" style=\"--top-color: rgba(255, 0, 0, 0.000); --bottom-color: rgba(255, 0, 0, 0.000);\" data-tooltip=\"Token 0: '&lt;pad&gt;'\n",
       "Feature 0: nan\n",
       "Feature 1: nan\" data-tokenstr=\"&lt;pad&gt;\">&lt;pad&gt;</span><span class=\"token\" style=\"--top-color: rgba(255, 0, 0, 0.000); --bottom-color: rgba(255, 0, 0, 0.000);\" data-tooltip=\"Token 0: '&lt;pad&gt;'\n",
       "Feature 0: nan\n",
       "Feature 1: nan\" data-tokenstr=\"&lt;pad&gt;\">&lt;pad&gt;</span><span class=\"token\" style=\"--top-color: rgba(255, 0, 0, 0.000); --bottom-color: rgba(255, 0, 0, 0.000);\" data-tooltip=\"Token 0: '&lt;pad&gt;'\n",
       "Feature 0: nan\n",
       "Feature 1: nan\" data-tokenstr=\"&lt;pad&gt;\">&lt;pad&gt;</span><span class=\"token\" style=\"--top-color: rgba(255, 0, 0, 0.000); --bottom-color: rgba(255, 0, 0, 0.000);\" data-tooltip=\"Token 0: '&lt;pad&gt;'\n",
       "Feature 0: nan\n",
       "Feature 1: nan\" data-tokenstr=\"&lt;pad&gt;\">&lt;pad&gt;</span><span class=\"token\" style=\"--top-color: rgba(255, 0, 0, 0.000); --bottom-color: rgba(255, 0, 0, 0.000);\" data-tooltip=\"Token 0: '&lt;pad&gt;'\n",
       "Feature 0: nan\n",
       "Feature 1: nan\" data-tokenstr=\"&lt;pad&gt;\">&lt;pad&gt;</span><span class=\"token\" style=\"--top-color: rgba(255, 0, 0, 0.000); --bottom-color: rgba(255, 0, 0, 0.000);\" data-tooltip=\"Token 0: '&lt;pad&gt;'\n",
       "Feature 0: nan\n",
       "Feature 1: nan\" data-tokenstr=\"&lt;pad&gt;\">&lt;pad&gt;</span><span class=\"token\" style=\"--top-color: rgba(255, 0, 0, 0.000); --bottom-color: rgba(255, 0, 0, 0.000);\" data-tooltip=\"Token 0: '&lt;pad&gt;'\n",
       "Feature 0: nan\n",
       "Feature 1: nan\" data-tokenstr=\"&lt;pad&gt;\">&lt;pad&gt;</span><span class=\"token\" style=\"--top-color: rgba(255, 0, 0, 0.000); --bottom-color: rgba(255, 0, 0, 0.000);\" data-tooltip=\"Token 0: '&lt;pad&gt;'\n",
       "Feature 0: nan\n",
       "Feature 1: nan\" data-tokenstr=\"&lt;pad&gt;\">&lt;pad&gt;</span><span class=\"token\" style=\"--top-color: rgba(255, 0, 0, 0.000); --bottom-color: rgba(255, 0, 0, 0.000);\" data-tooltip=\"Token 0: '&lt;pad&gt;'\n",
       "Feature 0: nan\n",
       "Feature 1: nan\" data-tokenstr=\"&lt;pad&gt;\">&lt;pad&gt;</span><span class=\"token\" style=\"--top-color: rgba(255, 0, 0, 0.000); --bottom-color: rgba(255, 0, 0, 0.000);\" data-tooltip=\"Token 0: '&lt;pad&gt;'\n",
       "Feature 0: nan\n",
       "Feature 1: nan\" data-tokenstr=\"&lt;pad&gt;\">&lt;pad&gt;</span><span class=\"token\" style=\"--top-color: rgba(255, 0, 0, 0.000); --bottom-color: rgba(255, 0, 0, 0.000);\" data-tooltip=\"Token 0: '&lt;pad&gt;'\n",
       "Feature 0: nan\n",
       "Feature 1: nan\" data-tokenstr=\"&lt;pad&gt;\">&lt;pad&gt;</span><span class=\"token\" style=\"--top-color: rgba(255, 0, 0, 0.000); --bottom-color: rgba(255, 0, 0, 0.000);\" data-tooltip=\"Token 0: '&lt;pad&gt;'\n",
       "Feature 0: nan\n",
       "Feature 1: nan\" data-tokenstr=\"&lt;pad&gt;\">&lt;pad&gt;</span><span class=\"token\" style=\"--top-color: rgba(255, 0, 0, 0.000); --bottom-color: rgba(255, 0, 0, 0.000);\" data-tooltip=\"Token 0: '&lt;pad&gt;'\n",
       "Feature 0: nan\n",
       "Feature 1: nan\" data-tokenstr=\"&lt;pad&gt;\">&lt;pad&gt;</span><span class=\"token\" style=\"--top-color: rgba(255, 0, 0, 0.000); --bottom-color: rgba(255, 0, 0, 0.000);\" data-tooltip=\"Token 0: '&lt;pad&gt;'\n",
       "Feature 0: nan\n",
       "Feature 1: nan\" data-tokenstr=\"&lt;pad&gt;\">&lt;pad&gt;</span><span class=\"token\" style=\"--top-color: rgba(255, 0, 0, 0.000); --bottom-color: rgba(255, 0, 0, 0.000);\" data-tooltip=\"Token 0: '&lt;pad&gt;'\n",
       "Feature 0: nan\n",
       "Feature 1: nan\" data-tokenstr=\"&lt;pad&gt;\">&lt;pad&gt;</span><span class=\"token\" style=\"--top-color: rgba(255, 0, 0, 0.000); --bottom-color: rgba(255, 0, 0, 0.000);\" data-tooltip=\"Token 0: '&lt;pad&gt;'\n",
       "Feature 0: nan\n",
       "Feature 1: nan\" data-tokenstr=\"&lt;pad&gt;\">&lt;pad&gt;</span><span class=\"token\" style=\"--top-color: rgba(255, 0, 0, 0.000); --bottom-color: rgba(255, 0, 0, 0.000);\" data-tooltip=\"Token 0: '&lt;pad&gt;'\n",
       "Feature 0: nan\n",
       "Feature 1: nan\" data-tokenstr=\"&lt;pad&gt;\">&lt;pad&gt;</span><span class=\"token\" style=\"--top-color: rgba(255, 0, 0, 0.000); --bottom-color: rgba(255, 0, 0, 0.000);\" data-tooltip=\"Token 0: '&lt;pad&gt;'\n",
       "Feature 0: nan\n",
       "Feature 1: nan\" data-tokenstr=\"&lt;pad&gt;\">&lt;pad&gt;</span><span class=\"token\" style=\"--top-color: rgba(255, 0, 0, 0.000); --bottom-color: rgba(255, 0, 0, 0.000);\" data-tooltip=\"Token 0: '&lt;pad&gt;'\n",
       "Feature 0: nan\n",
       "Feature 1: nan\" data-tokenstr=\"&lt;pad&gt;\">&lt;pad&gt;</span><span class=\"token\" style=\"--top-color: rgba(255, 0, 0, 0.000); --bottom-color: rgba(255, 0, 0, 0.000);\" data-tooltip=\"Token 0: '&lt;pad&gt;'\n",
       "Feature 0: nan\n",
       "Feature 1: nan\" data-tokenstr=\"&lt;pad&gt;\">&lt;pad&gt;</span><span class=\"token\" style=\"--top-color: rgba(255, 0, 0, 0.000); --bottom-color: rgba(255, 0, 0, 0.000);\" data-tooltip=\"Token 0: '&lt;pad&gt;'\n",
       "Feature 0: nan\n",
       "Feature 1: nan\" data-tokenstr=\"&lt;pad&gt;\">&lt;pad&gt;</span><span class=\"token\" style=\"--top-color: rgba(255, 0, 0, 0.000); --bottom-color: rgba(255, 0, 0, 0.000);\" data-tooltip=\"Token 0: '&lt;pad&gt;'\n",
       "Feature 0: nan\n",
       "Feature 1: nan\" data-tokenstr=\"&lt;pad&gt;\">&lt;pad&gt;</span><span class=\"token\" style=\"--top-color: rgba(255, 0, 0, 0.000); --bottom-color: rgba(255, 0, 0, 0.000);\" data-tooltip=\"Token 0: '&lt;pad&gt;'\n",
       "Feature 0: nan\n",
       "Feature 1: nan\" data-tokenstr=\"&lt;pad&gt;\">&lt;pad&gt;</span><span class=\"token\" style=\"--top-color: rgba(255, 0, 0, 0.000); --bottom-color: rgba(255, 0, 0, 0.000);\" data-tooltip=\"Token 0: '&lt;pad&gt;'\n",
       "Feature 0: nan\n",
       "Feature 1: nan\" data-tokenstr=\"&lt;pad&gt;\">&lt;pad&gt;</span><span class=\"token\" style=\"--top-color: rgba(255, 0, 0, 0.000); --bottom-color: rgba(255, 0, 0, 0.000);\" data-tooltip=\"Token 0: '&lt;pad&gt;'\n",
       "Feature 0: nan\n",
       "Feature 1: nan\" data-tokenstr=\"&lt;pad&gt;\">&lt;pad&gt;</span><span class=\"token\" style=\"--top-color: rgba(255, 0, 0, 0.000); --bottom-color: rgba(255, 0, 0, 0.000);\" data-tooltip=\"Token 0: '&lt;pad&gt;'\n",
       "Feature 0: nan\n",
       "Feature 1: nan\" data-tokenstr=\"&lt;pad&gt;\">&lt;pad&gt;</span><span class=\"token\" style=\"--top-color: rgba(255, 0, 0, 0.000); --bottom-color: rgba(255, 0, 0, 0.000);\" data-tooltip=\"Token 0: '&lt;pad&gt;'\n",
       "Feature 0: nan\n",
       "Feature 1: nan\" data-tokenstr=\"&lt;pad&gt;\">&lt;pad&gt;</span><span class=\"token\" style=\"--top-color: rgba(255, 0, 0, 0.000); --bottom-color: rgba(255, 0, 0, 0.000);\" data-tooltip=\"Token 0: '&lt;pad&gt;'\n",
       "Feature 0: nan\n",
       "Feature 1: nan\" data-tokenstr=\"&lt;pad&gt;\">&lt;pad&gt;</span><span class=\"token\" style=\"--top-color: rgba(255, 0, 0, 0.000); --bottom-color: rgba(255, 0, 0, 0.000);\" data-tooltip=\"Token 0: '&lt;pad&gt;'\n",
       "Feature 0: nan\n",
       "Feature 1: nan\" data-tokenstr=\"&lt;pad&gt;\">&lt;pad&gt;</span><span class=\"token\" style=\"--top-color: rgba(255, 0, 0, 0.000); --bottom-color: rgba(255, 0, 0, 0.000);\" data-tooltip=\"Token 0: '&lt;pad&gt;'\n",
       "Feature 0: nan\n",
       "Feature 1: nan\" data-tokenstr=\"&lt;pad&gt;\">&lt;pad&gt;</span><span class=\"token\" style=\"--top-color: rgba(255, 0, 0, 0.000); --bottom-color: rgba(255, 0, 0, 0.000);\" data-tooltip=\"Token 0: '&lt;pad&gt;'\n",
       "Feature 0: nan\n",
       "Feature 1: nan\" data-tokenstr=\"&lt;pad&gt;\">&lt;pad&gt;</span><span class=\"token\" style=\"--top-color: rgba(255, 0, 0, 0.000); --bottom-color: rgba(255, 0, 0, 0.000);\" data-tooltip=\"Token 0: '&lt;pad&gt;'\n",
       "Feature 0: nan\n",
       "Feature 1: nan\" data-tokenstr=\"&lt;pad&gt;\">&lt;pad&gt;</span><span class=\"token\" style=\"--top-color: rgba(255, 0, 0, 0.000); --bottom-color: rgba(255, 0, 0, 0.000);\" data-tooltip=\"Token 0: '&lt;pad&gt;'\n",
       "Feature 0: nan\n",
       "Feature 1: nan\" data-tokenstr=\"&lt;pad&gt;\">&lt;pad&gt;</span><span class=\"token\" style=\"--top-color: rgba(255, 0, 0, 0.000); --bottom-color: rgba(255, 0, 0, 0.000);\" data-tooltip=\"Token 0: '&lt;pad&gt;'\n",
       "Feature 0: nan\n",
       "Feature 1: nan\" data-tokenstr=\"&lt;pad&gt;\">&lt;pad&gt;</span><span class=\"token\" style=\"--top-color: rgba(255, 0, 0, 0.000); --bottom-color: rgba(255, 0, 0, 0.000);\" data-tooltip=\"Token 0: '&lt;pad&gt;'\n",
       "Feature 0: nan\n",
       "Feature 1: nan\" data-tokenstr=\"&lt;pad&gt;\">&lt;pad&gt;</span><span class=\"token\" style=\"--top-color: rgba(255, 0, 0, 0.000); --bottom-color: rgba(255, 0, 0, 0.000);\" data-tooltip=\"Token 0: '&lt;pad&gt;'\n",
       "Feature 0: nan\n",
       "Feature 1: nan\" data-tokenstr=\"&lt;pad&gt;\">&lt;pad&gt;</span><span class=\"token\" style=\"--top-color: rgba(255, 0, 0, 0.000); --bottom-color: rgba(255, 0, 0, 0.000);\" data-tooltip=\"Token 0: '&lt;pad&gt;'\n",
       "Feature 0: nan\n",
       "Feature 1: nan\" data-tokenstr=\"&lt;pad&gt;\">&lt;pad&gt;</span><span class=\"token\" style=\"--top-color: rgba(255, 0, 0, 0.000); --bottom-color: rgba(255, 0, 0, 0.000);\" data-tooltip=\"Token 0: '&lt;pad&gt;'\n",
       "Feature 0: nan\n",
       "Feature 1: nan\" data-tokenstr=\"&lt;pad&gt;\">&lt;pad&gt;</span><span class=\"token\" style=\"--top-color: rgba(255, 0, 0, 0.000); --bottom-color: rgba(255, 0, 0, 0.000);\" data-tooltip=\"Token 0: '&lt;pad&gt;'\n",
       "Feature 0: nan\n",
       "Feature 1: nan\" data-tokenstr=\"&lt;pad&gt;\">&lt;pad&gt;</span><span class=\"token\" style=\"--top-color: rgba(255, 0, 0, 0.000); --bottom-color: rgba(255, 0, 0, 0.000);\" data-tooltip=\"Token 0: '&lt;pad&gt;'\n",
       "Feature 0: nan\n",
       "Feature 1: nan\" data-tokenstr=\"&lt;pad&gt;\">&lt;pad&gt;</span><span class=\"token\" style=\"--top-color: rgba(255, 0, 0, 0.000); --bottom-color: rgba(255, 0, 0, 0.000);\" data-tooltip=\"Token 0: '&lt;pad&gt;'\n",
       "Feature 0: nan\n",
       "Feature 1: nan\" data-tokenstr=\"&lt;pad&gt;\">&lt;pad&gt;</span><span class=\"token\" style=\"--top-color: rgba(255, 0, 0, 0.000); --bottom-color: rgba(255, 0, 0, 0.000);\" data-tooltip=\"Token 0: '&lt;pad&gt;'\n",
       "Feature 0: nan\n",
       "Feature 1: nan\" data-tokenstr=\"&lt;pad&gt;\">&lt;pad&gt;</span><span class=\"token\" style=\"--top-color: rgba(255, 0, 0, 0.000); --bottom-color: rgba(255, 0, 0, 0.000);\" data-tooltip=\"Token 0: '&lt;pad&gt;'\n",
       "Feature 0: nan\n",
       "Feature 1: nan\" data-tokenstr=\"&lt;pad&gt;\">&lt;pad&gt;</span><span class=\"token\" style=\"--top-color: rgba(255, 0, 0, 0.000); --bottom-color: rgba(255, 0, 0, 0.000);\" data-tooltip=\"Token 0: '&lt;pad&gt;'\n",
       "Feature 0: nan\n",
       "Feature 1: nan\" data-tokenstr=\"&lt;pad&gt;\">&lt;pad&gt;</span><span class=\"token\" style=\"--top-color: rgba(255, 0, 0, 0.000); --bottom-color: rgba(255, 0, 0, 0.000);\" data-tooltip=\"Token 0: '&lt;pad&gt;'\n",
       "Feature 0: nan\n",
       "Feature 1: nan\" data-tokenstr=\"&lt;pad&gt;\">&lt;pad&gt;</span><span class=\"token\" style=\"--top-color: rgba(255, 0, 0, 0.000); --bottom-color: rgba(255, 0, 0, 0.000);\" data-tooltip=\"Token 0: '&lt;pad&gt;'\n",
       "Feature 0: nan\n",
       "Feature 1: nan\" data-tokenstr=\"&lt;pad&gt;\">&lt;pad&gt;</span><span class=\"token\" style=\"--top-color: rgba(255, 0, 0, 0.000); --bottom-color: rgba(255, 0, 0, 0.000);\" data-tooltip=\"Token 0: '&lt;pad&gt;'\n",
       "Feature 0: nan\n",
       "Feature 1: nan\" data-tokenstr=\"&lt;pad&gt;\">&lt;pad&gt;</span><span class=\"token\" style=\"--top-color: rgba(255, 0, 0, 0.000); --bottom-color: rgba(255, 0, 0, 0.000);\" data-tooltip=\"Token 0: '&lt;pad&gt;'\n",
       "Feature 0: nan\n",
       "Feature 1: nan\" data-tokenstr=\"&lt;pad&gt;\">&lt;pad&gt;</span><span class=\"token\" style=\"--top-color: rgba(255, 0, 0, 0.000); --bottom-color: rgba(255, 0, 0, 0.000);\" data-tooltip=\"Token 0: '&lt;pad&gt;'\n",
       "Feature 0: nan\n",
       "Feature 1: nan\" data-tokenstr=\"&lt;pad&gt;\">&lt;pad&gt;</span><span class=\"token\" style=\"--top-color: rgba(255, 0, 0, 0.000); --bottom-color: rgba(255, 0, 0, 0.000);\" data-tooltip=\"Token 0: '&lt;pad&gt;'\n",
       "Feature 0: nan\n",
       "Feature 1: nan\" data-tokenstr=\"&lt;pad&gt;\">&lt;pad&gt;</span><span class=\"token\" style=\"--top-color: rgba(255, 0, 0, 0.000); --bottom-color: rgba(255, 0, 0, 0.000);\" data-tooltip=\"Token 0: '&lt;pad&gt;'\n",
       "Feature 0: nan\n",
       "Feature 1: nan\" data-tokenstr=\"&lt;pad&gt;\">&lt;pad&gt;</span><span class=\"token\" style=\"--top-color: rgba(255, 0, 0, 0.000); --bottom-color: rgba(255, 0, 0, 0.000);\" data-tooltip=\"Token 0: '&lt;pad&gt;'\n",
       "Feature 0: nan\n",
       "Feature 1: nan\" data-tokenstr=\"&lt;pad&gt;\">&lt;pad&gt;</span><span class=\"token\" style=\"--top-color: rgba(255, 0, 0, 0.000); --bottom-color: rgba(255, 0, 0, 0.000);\" data-tooltip=\"Token 0: '&lt;pad&gt;'\n",
       "Feature 0: nan\n",
       "Feature 1: nan\" data-tokenstr=\"&lt;pad&gt;\">&lt;pad&gt;</span><span class=\"token\" style=\"--top-color: rgba(255, 0, 0, 0.000); --bottom-color: rgba(255, 0, 0, 0.000);\" data-tooltip=\"Token 0: '&lt;pad&gt;'\n",
       "Feature 0: nan\n",
       "Feature 1: nan\" data-tokenstr=\"&lt;pad&gt;\">&lt;pad&gt;</span><span class=\"token\" style=\"--top-color: rgba(255, 0, 0, 0.000); --bottom-color: rgba(255, 0, 0, 0.000);\" data-tooltip=\"Token 0: '&lt;pad&gt;'\n",
       "Feature 0: nan\n",
       "Feature 1: nan\" data-tokenstr=\"&lt;pad&gt;\">&lt;pad&gt;</span><span class=\"token\" style=\"--top-color: rgba(255, 0, 0, 0.000); --bottom-color: rgba(255, 0, 0, 0.000);\" data-tooltip=\"Token 0: '&lt;pad&gt;'\n",
       "Feature 0: nan\n",
       "Feature 1: nan\" data-tokenstr=\"&lt;pad&gt;\">&lt;pad&gt;</span><span class=\"token\" style=\"--top-color: rgba(255, 0, 0, 0.000); --bottom-color: rgba(255, 0, 0, 0.000);\" data-tooltip=\"Token 0: '&lt;pad&gt;'\n",
       "Feature 0: nan\n",
       "Feature 1: nan\" data-tokenstr=\"&lt;pad&gt;\">&lt;pad&gt;</span><span class=\"token\" style=\"--top-color: rgba(255, 0, 0, 0.000); --bottom-color: rgba(255, 0, 0, 0.000);\" data-tooltip=\"Token 0: '&lt;pad&gt;'\n",
       "Feature 0: nan\n",
       "Feature 1: nan\" data-tokenstr=\"&lt;pad&gt;\">&lt;pad&gt;</span><span class=\"token\" style=\"--top-color: rgba(255, 0, 0, 0.000); --bottom-color: rgba(255, 0, 0, 0.000);\" data-tooltip=\"Token 0: '&lt;pad&gt;'\n",
       "Feature 0: nan\n",
       "Feature 1: nan\" data-tokenstr=\"&lt;pad&gt;\">&lt;pad&gt;</span><span class=\"token\" style=\"--top-color: rgba(255, 0, 0, 0.000); --bottom-color: rgba(255, 0, 0, 0.000);\" data-tooltip=\"Token 0: '&lt;pad&gt;'\n",
       "Feature 0: nan\n",
       "Feature 1: nan\" data-tokenstr=\"&lt;pad&gt;\">&lt;pad&gt;</span><span class=\"token\" style=\"--top-color: rgba(255, 0, 0, 0.000); --bottom-color: rgba(255, 0, 0, 0.000);\" data-tooltip=\"Token 0: '&lt;pad&gt;'\n",
       "Feature 0: nan\n",
       "Feature 1: nan\" data-tokenstr=\"&lt;pad&gt;\">&lt;pad&gt;</span><span class=\"token\" style=\"--top-color: rgba(255, 0, 0, 0.000); --bottom-color: rgba(255, 0, 0, 0.000);\" data-tooltip=\"Token 0: '&lt;pad&gt;'\n",
       "Feature 0: nan\n",
       "Feature 1: nan\" data-tokenstr=\"&lt;pad&gt;\">&lt;pad&gt;</span><span class=\"token\" style=\"--top-color: rgba(255, 0, 0, 0.000); --bottom-color: rgba(255, 0, 0, 0.000);\" data-tooltip=\"Token 0: '&lt;pad&gt;'\n",
       "Feature 0: nan\n",
       "Feature 1: nan\" data-tokenstr=\"&lt;pad&gt;\">&lt;pad&gt;</span><span class=\"token\" style=\"--top-color: rgba(255, 0, 0, 0.000); --bottom-color: rgba(255, 0, 0, 0.000);\" data-tooltip=\"Token 0: '&lt;pad&gt;'\n",
       "Feature 0: nan\n",
       "Feature 1: nan\" data-tokenstr=\"&lt;pad&gt;\">&lt;pad&gt;</span><span class=\"token\" style=\"--top-color: rgba(255, 0, 0, 0.000); --bottom-color: rgba(255, 0, 0, 0.000);\" data-tooltip=\"Token 0: '&lt;pad&gt;'\n",
       "Feature 0: nan\n",
       "Feature 1: nan\" data-tokenstr=\"&lt;pad&gt;\">&lt;pad&gt;</span><span class=\"token\" style=\"--top-color: rgba(255, 0, 0, 0.000); --bottom-color: rgba(255, 0, 0, 0.000);\" data-tooltip=\"Token 0: '&lt;pad&gt;'\n",
       "Feature 0: nan\n",
       "Feature 1: nan\" data-tokenstr=\"&lt;pad&gt;\">&lt;pad&gt;</span><span class=\"token\" style=\"--top-color: rgba(255, 0, 0, 0.000); --bottom-color: rgba(255, 0, 0, 0.000);\" data-tooltip=\"Token 0: '&lt;pad&gt;'\n",
       "Feature 0: nan\n",
       "Feature 1: nan\" data-tokenstr=\"&lt;pad&gt;\">&lt;pad&gt;</span><span class=\"token\" style=\"--top-color: rgba(255, 0, 0, 0.000); --bottom-color: rgba(255, 0, 0, 0.000);\" data-tooltip=\"Token 0: '&lt;pad&gt;'\n",
       "Feature 0: nan\n",
       "Feature 1: nan\" data-tokenstr=\"&lt;pad&gt;\">&lt;pad&gt;</span><span class=\"token\" style=\"--top-color: rgba(255, 0, 0, 0.000); --bottom-color: rgba(255, 0, 0, 0.000);\" data-tooltip=\"Token 0: '&lt;pad&gt;'\n",
       "Feature 0: nan\n",
       "Feature 1: nan\" data-tokenstr=\"&lt;pad&gt;\">&lt;pad&gt;</span><span class=\"token\" style=\"--top-color: rgba(255, 0, 0, 0.000); --bottom-color: rgba(255, 0, 0, 0.000);\" data-tooltip=\"Token 0: '&lt;pad&gt;'\n",
       "Feature 0: nan\n",
       "Feature 1: nan\" data-tokenstr=\"&lt;pad&gt;\">&lt;pad&gt;</span><span class=\"token\" style=\"--top-color: rgba(255, 0, 0, 0.000); --bottom-color: rgba(255, 0, 0, 0.000);\" data-tooltip=\"Token 0: '&lt;pad&gt;'\n",
       "Feature 0: nan\n",
       "Feature 1: nan\" data-tokenstr=\"&lt;pad&gt;\">&lt;pad&gt;</span><span class=\"token\" style=\"--top-color: rgba(255, 0, 0, 0.000); --bottom-color: rgba(255, 0, 0, 0.000);\" data-tooltip=\"Token 0: '&lt;pad&gt;'\n",
       "Feature 0: nan\n",
       "Feature 1: nan\" data-tokenstr=\"&lt;pad&gt;\">&lt;pad&gt;</span><span class=\"token\" style=\"--top-color: rgba(255, 0, 0, 0.000); --bottom-color: rgba(255, 0, 0, 0.000);\" data-tooltip=\"Token 0: '&lt;pad&gt;'\n",
       "Feature 0: nan\n",
       "Feature 1: nan\" data-tokenstr=\"&lt;pad&gt;\">&lt;pad&gt;</span><span class=\"token\" style=\"--top-color: rgba(255, 0, 0, 0.000); --bottom-color: rgba(255, 0, 0, 0.000);\" data-tooltip=\"Token 0: '&lt;pad&gt;'\n",
       "Feature 0: nan\n",
       "Feature 1: nan\" data-tokenstr=\"&lt;pad&gt;\">&lt;pad&gt;</span><span class=\"token\" style=\"--top-color: rgba(255, 0, 0, 0.000); --bottom-color: rgba(255, 0, 0, 0.000);\" data-tooltip=\"Token 0: '&lt;pad&gt;'\n",
       "Feature 0: nan\n",
       "Feature 1: nan\" data-tokenstr=\"&lt;pad&gt;\">&lt;pad&gt;</span><span class=\"token\" style=\"--top-color: rgba(255, 0, 0, 0.000); --bottom-color: rgba(255, 0, 0, 0.000);\" data-tooltip=\"Token 0: '&lt;pad&gt;'\n",
       "Feature 0: nan\n",
       "Feature 1: nan\" data-tokenstr=\"&lt;pad&gt;\">&lt;pad&gt;</span><span class=\"token\" style=\"--top-color: rgba(255, 0, 0, 0.000); --bottom-color: rgba(255, 0, 0, 0.000);\" data-tooltip=\"Token 0: '&lt;pad&gt;'\n",
       "Feature 0: nan\n",
       "Feature 1: nan\" data-tokenstr=\"&lt;pad&gt;\">&lt;pad&gt;</span><span class=\"token\" style=\"--top-color: rgba(255, 0, 0, 0.000); --bottom-color: rgba(255, 0, 0, 0.000);\" data-tooltip=\"Token 0: '&lt;pad&gt;'\n",
       "Feature 0: nan\n",
       "Feature 1: nan\" data-tokenstr=\"&lt;pad&gt;\">&lt;pad&gt;</span><span class=\"token\" style=\"--top-color: rgba(255, 0, 0, 0.000); --bottom-color: rgba(255, 0, 0, 0.000);\" data-tooltip=\"Token 0: '&lt;pad&gt;'\n",
       "Feature 0: nan\n",
       "Feature 1: nan\" data-tokenstr=\"&lt;pad&gt;\">&lt;pad&gt;</span><span class=\"token\" style=\"--top-color: rgba(255, 0, 0, 0.000); --bottom-color: rgba(255, 0, 0, 0.000);\" data-tooltip=\"Token 0: '&lt;pad&gt;'\n",
       "Feature 0: nan\n",
       "Feature 1: nan\" data-tokenstr=\"&lt;pad&gt;\">&lt;pad&gt;</span><span class=\"token\" style=\"--top-color: rgba(255, 0, 0, 0.000); --bottom-color: rgba(255, 0, 0, 0.000);\" data-tooltip=\"Token 0: '&lt;pad&gt;'\n",
       "Feature 0: nan\n",
       "Feature 1: nan\" data-tokenstr=\"&lt;pad&gt;\">&lt;pad&gt;</span><span class=\"token\" style=\"--top-color: rgba(255, 0, 0, 0.000); --bottom-color: rgba(255, 0, 0, 0.000);\" data-tooltip=\"Token 0: '&lt;pad&gt;'\n",
       "Feature 0: nan\n",
       "Feature 1: nan\" data-tokenstr=\"&lt;pad&gt;\">&lt;pad&gt;</span><span class=\"token\" style=\"--top-color: rgba(255, 0, 0, 0.000); --bottom-color: rgba(255, 0, 0, 0.000);\" data-tooltip=\"Token 0: '&lt;pad&gt;'\n",
       "Feature 0: nan\n",
       "Feature 1: nan\" data-tokenstr=\"&lt;pad&gt;\">&lt;pad&gt;</span><span class=\"token\" style=\"--top-color: rgba(255, 0, 0, 0.000); --bottom-color: rgba(255, 0, 0, 0.000);\" data-tooltip=\"Token 0: '&lt;pad&gt;'\n",
       "Feature 0: nan\n",
       "Feature 1: nan\" data-tokenstr=\"&lt;pad&gt;\">&lt;pad&gt;</span><span class=\"token\" style=\"--top-color: rgba(255, 0, 0, 0.000); --bottom-color: rgba(255, 0, 0, 0.000);\" data-tooltip=\"Token 0: '&lt;pad&gt;'\n",
       "Feature 0: nan\n",
       "Feature 1: nan\" data-tokenstr=\"&lt;pad&gt;\">&lt;pad&gt;</span><span class=\"token\" style=\"--top-color: rgba(255, 0, 0, 0.000); --bottom-color: rgba(255, 0, 0, 0.000);\" data-tooltip=\"Token 0: '&lt;pad&gt;'\n",
       "Feature 0: nan\n",
       "Feature 1: nan\" data-tokenstr=\"&lt;pad&gt;\">&lt;pad&gt;</span><span class=\"token\" style=\"--top-color: rgba(255, 0, 0, 0.000); --bottom-color: rgba(255, 0, 0, 0.000);\" data-tooltip=\"Token 0: '&lt;pad&gt;'\n",
       "Feature 0: nan\n",
       "Feature 1: nan\" data-tokenstr=\"&lt;pad&gt;\">&lt;pad&gt;</span><span class=\"token\" style=\"--top-color: rgba(255, 0, 0, 0.000); --bottom-color: rgba(255, 0, 0, 0.000);\" data-tooltip=\"Token 0: '&lt;pad&gt;'\n",
       "Feature 0: nan\n",
       "Feature 1: nan\" data-tokenstr=\"&lt;pad&gt;\">&lt;pad&gt;</span><span class=\"token\" style=\"--top-color: rgba(255, 0, 0, 0.000); --bottom-color: rgba(255, 0, 0, 0.000);\" data-tooltip=\"Token 0: '&lt;pad&gt;'\n",
       "Feature 0: nan\n",
       "Feature 1: nan\" data-tokenstr=\"&lt;pad&gt;\">&lt;pad&gt;</span><span class=\"token\" style=\"--top-color: rgba(255, 0, 0, 0.000); --bottom-color: rgba(255, 0, 0, 0.000);\" data-tooltip=\"Token 0: '&lt;pad&gt;'\n",
       "Feature 0: nan\n",
       "Feature 1: nan\" data-tokenstr=\"&lt;pad&gt;\">&lt;pad&gt;</span><span class=\"token\" style=\"--top-color: rgba(255, 0, 0, 0.000); --bottom-color: rgba(255, 0, 0, 0.000);\" data-tooltip=\"Token 0: '&lt;pad&gt;'\n",
       "Feature 0: nan\n",
       "Feature 1: nan\" data-tokenstr=\"&lt;pad&gt;\">&lt;pad&gt;</span><span class=\"token\" style=\"--top-color: rgba(255, 0, 0, 0.000); --bottom-color: rgba(255, 0, 0, 0.000);\" data-tooltip=\"Token 0: '&lt;pad&gt;'\n",
       "Feature 0: nan\n",
       "Feature 1: nan\" data-tokenstr=\"&lt;pad&gt;\">&lt;pad&gt;</span><span class=\"token\" style=\"--top-color: rgba(255, 0, 0, 0.000); --bottom-color: rgba(255, 0, 0, 0.000);\" data-tooltip=\"Token 0: '&lt;pad&gt;'\n",
       "Feature 0: nan\n",
       "Feature 1: nan\" data-tokenstr=\"&lt;pad&gt;\">&lt;pad&gt;</span><span class=\"token\" style=\"--top-color: rgba(255, 0, 0, 0.000); --bottom-color: rgba(255, 0, 0, 0.000);\" data-tooltip=\"Token 0: '&lt;pad&gt;'\n",
       "Feature 0: nan\n",
       "Feature 1: nan\" data-tokenstr=\"&lt;pad&gt;\">&lt;pad&gt;</span><span class=\"token\" style=\"--top-color: rgba(255, 0, 0, 0.000); --bottom-color: rgba(255, 0, 0, 0.000);\" data-tooltip=\"Token 0: '&lt;pad&gt;'\n",
       "Feature 0: nan\n",
       "Feature 1: nan\" data-tokenstr=\"&lt;pad&gt;\">&lt;pad&gt;</span><span class=\"token\" style=\"--top-color: rgba(255, 0, 0, 0.000); --bottom-color: rgba(255, 0, 0, 0.000);\" data-tooltip=\"Token 0: '&lt;pad&gt;'\n",
       "Feature 0: nan\n",
       "Feature 1: nan\" data-tokenstr=\"&lt;pad&gt;\">&lt;pad&gt;</span><span class=\"token\" style=\"--top-color: rgba(255, 0, 0, 0.000); --bottom-color: rgba(255, 0, 0, 0.000);\" data-tooltip=\"Token 0: '&lt;pad&gt;'\n",
       "Feature 0: nan\n",
       "Feature 1: nan\" data-tokenstr=\"&lt;pad&gt;\">&lt;pad&gt;</span><span class=\"token\" style=\"--top-color: rgba(255, 0, 0, 0.000); --bottom-color: rgba(255, 0, 0, 0.000);\" data-tooltip=\"Token 0: '&lt;pad&gt;'\n",
       "Feature 0: nan\n",
       "Feature 1: nan\" data-tokenstr=\"&lt;pad&gt;\">&lt;pad&gt;</span><span class=\"token\" style=\"--top-color: rgba(255, 0, 0, 0.000); --bottom-color: rgba(255, 0, 0, 0.000);\" data-tooltip=\"Token 0: '&lt;pad&gt;'\n",
       "Feature 0: nan\n",
       "Feature 1: nan\" data-tokenstr=\"&lt;pad&gt;\">&lt;pad&gt;</span><span class=\"token\" style=\"--top-color: rgba(255, 0, 0, 0.000); --bottom-color: rgba(255, 0, 0, 0.000);\" data-tooltip=\"Token 0: '&lt;pad&gt;'\n",
       "Feature 0: nan\n",
       "Feature 1: nan\" data-tokenstr=\"&lt;pad&gt;\">&lt;pad&gt;</span><span class=\"token\" style=\"--top-color: rgba(255, 0, 0, 0.000); --bottom-color: rgba(255, 0, 0, 0.000);\" data-tooltip=\"Token 0: '&lt;pad&gt;'\n",
       "Feature 0: nan\n",
       "Feature 1: nan\" data-tokenstr=\"&lt;pad&gt;\">&lt;pad&gt;</span><span class=\"token\" style=\"--top-color: rgba(255, 0, 0, 0.000); --bottom-color: rgba(255, 0, 0, 0.000);\" data-tooltip=\"Token 0: '&lt;pad&gt;'\n",
       "Feature 0: nan\n",
       "Feature 1: nan\" data-tokenstr=\"&lt;pad&gt;\">&lt;pad&gt;</span><span class=\"token\" style=\"--top-color: rgba(255, 0, 0, 0.000); --bottom-color: rgba(255, 0, 0, 0.000);\" data-tooltip=\"Token 0: '&lt;pad&gt;'\n",
       "Feature 0: nan\n",
       "Feature 1: nan\" data-tokenstr=\"&lt;pad&gt;\">&lt;pad&gt;</span><span class=\"token\" style=\"--top-color: rgba(255, 0, 0, 0.000); --bottom-color: rgba(255, 0, 0, 0.000);\" data-tooltip=\"Token 0: '&lt;pad&gt;'\n",
       "Feature 0: nan\n",
       "Feature 1: nan\" data-tokenstr=\"&lt;pad&gt;\">&lt;pad&gt;</span><span class=\"token\" style=\"--top-color: rgba(255, 0, 0, 0.000); --bottom-color: rgba(255, 0, 0, 0.000);\" data-tooltip=\"Token 0: '&lt;pad&gt;'\n",
       "Feature 0: nan\n",
       "Feature 1: nan\" data-tokenstr=\"&lt;pad&gt;\">&lt;pad&gt;</span><span class=\"token\" style=\"--top-color: rgba(255, 0, 0, 0.000); --bottom-color: rgba(255, 0, 0, 0.000);\" data-tooltip=\"Token 0: '&lt;pad&gt;'\n",
       "Feature 0: nan\n",
       "Feature 1: nan\" data-tokenstr=\"&lt;pad&gt;\">&lt;pad&gt;</span><span class=\"token\" style=\"--top-color: rgba(255, 0, 0, 0.000); --bottom-color: rgba(255, 0, 0, 0.000);\" data-tooltip=\"Token 0: '&lt;pad&gt;'\n",
       "Feature 0: nan\n",
       "Feature 1: nan\" data-tokenstr=\"&lt;pad&gt;\">&lt;pad&gt;</span><span class=\"token\" style=\"--top-color: rgba(255, 0, 0, 0.000); --bottom-color: rgba(255, 0, 0, 0.000);\" data-tooltip=\"Token 0: '&lt;pad&gt;'\n",
       "Feature 0: nan\n",
       "Feature 1: nan\" data-tokenstr=\"&lt;pad&gt;\">&lt;pad&gt;</span><span class=\"token\" style=\"--top-color: rgba(255, 0, 0, 0.000); --bottom-color: rgba(255, 0, 0, 0.000);\" data-tooltip=\"Token 0: '&lt;pad&gt;'\n",
       "Feature 0: nan\n",
       "Feature 1: nan\" data-tokenstr=\"&lt;pad&gt;\">&lt;pad&gt;</span><span class=\"token\" style=\"--top-color: rgba(255, 0, 0, 0.000); --bottom-color: rgba(255, 0, 0, 0.000);\" data-tooltip=\"Token 0: '&lt;pad&gt;'\n",
       "Feature 0: nan\n",
       "Feature 1: nan\" data-tokenstr=\"&lt;pad&gt;\">&lt;pad&gt;</span><span class=\"token\" style=\"--top-color: rgba(255, 0, 0, 0.000); --bottom-color: rgba(255, 0, 0, 0.000);\" data-tooltip=\"Token 0: '&lt;pad&gt;'\n",
       "Feature 0: nan\n",
       "Feature 1: nan\" data-tokenstr=\"&lt;pad&gt;\">&lt;pad&gt;</span><span class=\"token\" style=\"--top-color: rgba(255, 0, 0, 0.000); --bottom-color: rgba(255, 0, 0, 0.000);\" data-tooltip=\"Token 0: '&lt;pad&gt;'\n",
       "Feature 0: nan\n",
       "Feature 1: nan\" data-tokenstr=\"&lt;pad&gt;\">&lt;pad&gt;</span><span class=\"token\" style=\"--top-color: rgba(255, 0, 0, 0.000); --bottom-color: rgba(255, 0, 0, 0.000);\" data-tooltip=\"Token 0: '&lt;pad&gt;'\n",
       "Feature 0: nan\n",
       "Feature 1: nan\" data-tokenstr=\"&lt;pad&gt;\">&lt;pad&gt;</span><span class=\"token\" style=\"--top-color: rgba(255, 0, 0, 0.000); --bottom-color: rgba(255, 0, 0, 0.000);\" data-tooltip=\"Token 0: '&lt;pad&gt;'\n",
       "Feature 0: nan\n",
       "Feature 1: nan\" data-tokenstr=\"&lt;pad&gt;\">&lt;pad&gt;</span><span class=\"token\" style=\"--top-color: rgba(255, 0, 0, 0.000); --bottom-color: rgba(255, 0, 0, 0.000);\" data-tooltip=\"Token 0: '&lt;pad&gt;'\n",
       "Feature 0: nan\n",
       "Feature 1: nan\" data-tokenstr=\"&lt;pad&gt;\">&lt;pad&gt;</span><span class=\"token\" style=\"--top-color: rgba(255, 0, 0, 0.000); --bottom-color: rgba(255, 0, 0, 0.000);\" data-tooltip=\"Token 0: '&lt;pad&gt;'\n",
       "Feature 0: nan\n",
       "Feature 1: nan\" data-tokenstr=\"&lt;pad&gt;\">&lt;pad&gt;</span><span class=\"token\" style=\"--top-color: rgba(255, 0, 0, 0.000); --bottom-color: rgba(255, 0, 0, 0.000);\" data-tooltip=\"Token 0: '&lt;pad&gt;'\n",
       "Feature 0: nan\n",
       "Feature 1: nan\" data-tokenstr=\"&lt;pad&gt;\">&lt;pad&gt;</span><span class=\"token\" style=\"--top-color: rgba(255, 0, 0, 0.000); --bottom-color: rgba(255, 0, 0, 0.000);\" data-tooltip=\"Token 0: '&lt;pad&gt;'\n",
       "Feature 0: nan\n",
       "Feature 1: nan\" data-tokenstr=\"&lt;pad&gt;\">&lt;pad&gt;</span><span class=\"token\" style=\"--top-color: rgba(255, 0, 0, 0.000); --bottom-color: rgba(255, 0, 0, 0.000);\" data-tooltip=\"Token 0: '&lt;pad&gt;'\n",
       "Feature 0: nan\n",
       "Feature 1: nan\" data-tokenstr=\"&lt;pad&gt;\">&lt;pad&gt;</span><span class=\"token\" style=\"--top-color: rgba(255, 0, 0, 0.000); --bottom-color: rgba(255, 0, 0, 0.000);\" data-tooltip=\"Token 0: '&lt;pad&gt;'\n",
       "Feature 0: nan\n",
       "Feature 1: nan\" data-tokenstr=\"&lt;pad&gt;\">&lt;pad&gt;</span><span class=\"token\" style=\"--top-color: rgba(255, 0, 0, 0.000); --bottom-color: rgba(255, 0, 0, 0.000);\" data-tooltip=\"Token 0: '&lt;pad&gt;'\n",
       "Feature 0: nan\n",
       "Feature 1: nan\" data-tokenstr=\"&lt;pad&gt;\">&lt;pad&gt;</span><span class=\"token\" style=\"--top-color: rgba(255, 0, 0, 0.000); --bottom-color: rgba(255, 0, 0, 0.000);\" data-tooltip=\"Token 0: '&lt;pad&gt;'\n",
       "Feature 0: nan\n",
       "Feature 1: nan\" data-tokenstr=\"&lt;pad&gt;\">&lt;pad&gt;</span><span class=\"token\" style=\"--top-color: rgba(255, 0, 0, 0.000); --bottom-color: rgba(255, 0, 0, 0.000);\" data-tooltip=\"Token 0: '&lt;pad&gt;'\n",
       "Feature 0: nan\n",
       "Feature 1: nan\" data-tokenstr=\"&lt;pad&gt;\">&lt;pad&gt;</span><span class=\"token\" style=\"--top-color: rgba(255, 0, 0, 0.000); --bottom-color: rgba(255, 0, 0, 0.000);\" data-tooltip=\"Token 0: '&lt;pad&gt;'\n",
       "Feature 0: nan\n",
       "Feature 1: nan\" data-tokenstr=\"&lt;pad&gt;\">&lt;pad&gt;</span><span class=\"token\" style=\"--top-color: rgba(255, 0, 0, 0.000); --bottom-color: rgba(255, 0, 0, 0.000);\" data-tooltip=\"Token 0: '&lt;pad&gt;'\n",
       "Feature 0: nan\n",
       "Feature 1: nan\" data-tokenstr=\"&lt;pad&gt;\">&lt;pad&gt;</span><span class=\"token\" style=\"--top-color: rgba(255, 0, 0, 0.000); --bottom-color: rgba(255, 0, 0, 0.000);\" data-tooltip=\"Token 0: '&lt;pad&gt;'\n",
       "Feature 0: nan\n",
       "Feature 1: nan\" data-tokenstr=\"&lt;pad&gt;\">&lt;pad&gt;</span><span class=\"token\" style=\"--top-color: rgba(255, 0, 0, 0.000); --bottom-color: rgba(255, 0, 0, 0.000);\" data-tooltip=\"Token 0: '&lt;pad&gt;'\n",
       "Feature 0: nan\n",
       "Feature 1: nan\" data-tokenstr=\"&lt;pad&gt;\">&lt;pad&gt;</span><span class=\"token\" style=\"--top-color: rgba(255, 0, 0, 0.000); --bottom-color: rgba(255, 0, 0, 0.000);\" data-tooltip=\"Token 0: '&lt;pad&gt;'\n",
       "Feature 0: nan\n",
       "Feature 1: nan\" data-tokenstr=\"&lt;pad&gt;\">&lt;pad&gt;</span><span class=\"token\" style=\"--top-color: rgba(255, 0, 0, 0.000); --bottom-color: rgba(255, 0, 0, 0.000);\" data-tooltip=\"Token 0: '&lt;pad&gt;'\n",
       "Feature 0: nan\n",
       "Feature 1: nan\" data-tokenstr=\"&lt;pad&gt;\">&lt;pad&gt;</span><span class=\"token\" style=\"--top-color: rgba(255, 0, 0, 0.000); --bottom-color: rgba(255, 0, 0, 0.000);\" data-tooltip=\"Token 0: '&lt;pad&gt;'\n",
       "Feature 0: nan\n",
       "Feature 1: nan\" data-tokenstr=\"&lt;pad&gt;\">&lt;pad&gt;</span><span class=\"token\" style=\"--top-color: rgba(255, 0, 0, 0.000); --bottom-color: rgba(255, 0, 0, 0.000);\" data-tooltip=\"Token 0: '&lt;pad&gt;'\n",
       "Feature 0: nan\n",
       "Feature 1: nan\" data-tokenstr=\"&lt;pad&gt;\">&lt;pad&gt;</span><span class=\"token\" style=\"--top-color: rgba(255, 0, 0, 0.000); --bottom-color: rgba(255, 0, 0, 0.000);\" data-tooltip=\"Token 0: '&lt;pad&gt;'\n",
       "Feature 0: nan\n",
       "Feature 1: nan\" data-tokenstr=\"&lt;pad&gt;\">&lt;pad&gt;</span><span class=\"token\" style=\"--top-color: rgba(255, 0, 0, 0.000); --bottom-color: rgba(255, 0, 0, 0.000);\" data-tooltip=\"Token 0: '&lt;pad&gt;'\n",
       "Feature 0: nan\n",
       "Feature 1: nan\" data-tokenstr=\"&lt;pad&gt;\">&lt;pad&gt;</span><span class=\"token\" style=\"--top-color: rgba(255, 0, 0, 0.000); --bottom-color: rgba(255, 0, 0, 0.000);\" data-tooltip=\"Token 0: '&lt;pad&gt;'\n",
       "Feature 0: nan\n",
       "Feature 1: nan\" data-tokenstr=\"&lt;pad&gt;\">&lt;pad&gt;</span><span class=\"token\" style=\"--top-color: rgba(255, 0, 0, 0.000); --bottom-color: rgba(255, 0, 0, 0.000);\" data-tooltip=\"Token 0: '&lt;pad&gt;'\n",
       "Feature 0: nan\n",
       "Feature 1: nan\" data-tokenstr=\"&lt;pad&gt;\">&lt;pad&gt;</span><span class=\"token\" style=\"--top-color: rgba(255, 0, 0, 0.000); --bottom-color: rgba(255, 0, 0, 0.000);\" data-tooltip=\"Token 0: '&lt;pad&gt;'\n",
       "Feature 0: nan\n",
       "Feature 1: nan\" data-tokenstr=\"&lt;pad&gt;\">&lt;pad&gt;</span><span class=\"token\" style=\"--top-color: rgba(255, 0, 0, 0.000); --bottom-color: rgba(255, 0, 0, 0.000);\" data-tooltip=\"Token 0: '&lt;pad&gt;'\n",
       "Feature 0: nan\n",
       "Feature 1: nan\" data-tokenstr=\"&lt;pad&gt;\">&lt;pad&gt;</span><span class=\"token\" style=\"--top-color: rgba(255, 0, 0, 0.000); --bottom-color: rgba(255, 0, 0, 0.000);\" data-tooltip=\"Token 0: '&lt;pad&gt;'\n",
       "Feature 0: nan\n",
       "Feature 1: nan\" data-tokenstr=\"&lt;pad&gt;\">&lt;pad&gt;</span><span class=\"token\" style=\"--top-color: rgba(255, 0, 0, 0.000); --bottom-color: rgba(255, 0, 0, 0.000);\" data-tooltip=\"Token 0: '&lt;pad&gt;'\n",
       "Feature 0: nan\n",
       "Feature 1: nan\" data-tokenstr=\"&lt;pad&gt;\">&lt;pad&gt;</span><span class=\"token\" style=\"--top-color: rgba(255, 0, 0, 0.000); --bottom-color: rgba(255, 0, 0, 0.000);\" data-tooltip=\"Token 0: '&lt;pad&gt;'\n",
       "Feature 0: nan\n",
       "Feature 1: nan\" data-tokenstr=\"&lt;pad&gt;\">&lt;pad&gt;</span><span class=\"token\" style=\"--top-color: rgba(255, 0, 0, 0.000); --bottom-color: rgba(255, 0, 0, 0.000);\" data-tooltip=\"Token 0: '&lt;pad&gt;'\n",
       "Feature 0: nan\n",
       "Feature 1: nan\" data-tokenstr=\"&lt;pad&gt;\">&lt;pad&gt;</span><span class=\"token\" style=\"--top-color: rgba(255, 0, 0, 0.000); --bottom-color: rgba(255, 0, 0, 0.000);\" data-tooltip=\"Token 0: '&lt;pad&gt;'\n",
       "Feature 0: nan\n",
       "Feature 1: nan\" data-tokenstr=\"&lt;pad&gt;\">&lt;pad&gt;</span><span class=\"token\" style=\"--top-color: rgba(255, 0, 0, 0.000); --bottom-color: rgba(255, 0, 0, 0.000);\" data-tooltip=\"Token 0: '&lt;pad&gt;'\n",
       "Feature 0: nan\n",
       "Feature 1: nan\" data-tokenstr=\"&lt;pad&gt;\">&lt;pad&gt;</span><span class=\"token\" style=\"--top-color: rgba(255, 0, 0, 0.000); --bottom-color: rgba(255, 0, 0, 0.000);\" data-tooltip=\"Token 0: '&lt;pad&gt;'\n",
       "Feature 0: nan\n",
       "Feature 1: nan\" data-tokenstr=\"&lt;pad&gt;\">&lt;pad&gt;</span><span class=\"token\" style=\"--top-color: rgba(255, 0, 0, 0.000); --bottom-color: rgba(255, 0, 0, 0.000);\" data-tooltip=\"Token 0: '&lt;pad&gt;'\n",
       "Feature 0: nan\n",
       "Feature 1: nan\" data-tokenstr=\"&lt;pad&gt;\">&lt;pad&gt;</span><span class=\"token\" style=\"--top-color: rgba(255, 0, 0, 0.000); --bottom-color: rgba(255, 0, 0, 0.000);\" data-tooltip=\"Token 0: '&lt;pad&gt;'\n",
       "Feature 0: nan\n",
       "Feature 1: nan\" data-tokenstr=\"&lt;pad&gt;\">&lt;pad&gt;</span><span class=\"token\" style=\"--top-color: rgba(255, 0, 0, 0.000); --bottom-color: rgba(255, 0, 0, 0.000);\" data-tooltip=\"Token 0: '&lt;pad&gt;'\n",
       "Feature 0: nan\n",
       "Feature 1: nan\" data-tokenstr=\"&lt;pad&gt;\">&lt;pad&gt;</span><span class=\"token\" style=\"--top-color: rgba(255, 0, 0, 0.000); --bottom-color: rgba(255, 0, 0, 0.000);\" data-tooltip=\"Token 0: '&lt;pad&gt;'\n",
       "Feature 0: nan\n",
       "Feature 1: nan\" data-tokenstr=\"&lt;pad&gt;\">&lt;pad&gt;</span><span class=\"token\" style=\"--top-color: rgba(255, 0, 0, 0.000); --bottom-color: rgba(255, 0, 0, 0.000);\" data-tooltip=\"Token 0: '&lt;pad&gt;'\n",
       "Feature 0: nan\n",
       "Feature 1: nan\" data-tokenstr=\"&lt;pad&gt;\">&lt;pad&gt;</span><span class=\"token\" style=\"--top-color: rgba(255, 0, 0, 0.000); --bottom-color: rgba(255, 0, 0, 0.000);\" data-tooltip=\"Token 0: '&lt;pad&gt;'\n",
       "Feature 0: nan\n",
       "Feature 1: nan\" data-tokenstr=\"&lt;pad&gt;\">&lt;pad&gt;</span><span class=\"token\" style=\"--top-color: rgba(255, 0, 0, 0.000); --bottom-color: rgba(255, 0, 0, 0.000);\" data-tooltip=\"Token 0: '&lt;pad&gt;'\n",
       "Feature 0: nan\n",
       "Feature 1: nan\" data-tokenstr=\"&lt;pad&gt;\">&lt;pad&gt;</span><span class=\"token\" style=\"--top-color: rgba(255, 0, 0, 0.000); --bottom-color: rgba(255, 0, 0, 0.000);\" data-tooltip=\"Token 0: '&lt;pad&gt;'\n",
       "Feature 0: nan\n",
       "Feature 1: nan\" data-tokenstr=\"&lt;pad&gt;\">&lt;pad&gt;</span><span class=\"token\" style=\"--top-color: rgba(255, 0, 0, 0.000); --bottom-color: rgba(255, 0, 0, 0.000);\" data-tooltip=\"Token 0: '&lt;pad&gt;'\n",
       "Feature 0: nan\n",
       "Feature 1: nan\" data-tokenstr=\"&lt;pad&gt;\">&lt;pad&gt;</span><span class=\"token\" style=\"--top-color: rgba(255, 0, 0, 0.000); --bottom-color: rgba(255, 0, 0, 0.000);\" data-tooltip=\"Token 0: '&lt;pad&gt;'\n",
       "Feature 0: nan\n",
       "Feature 1: nan\" data-tokenstr=\"&lt;pad&gt;\">&lt;pad&gt;</span><span class=\"token\" style=\"--top-color: rgba(255, 0, 0, 0.000); --bottom-color: rgba(255, 0, 0, 0.000);\" data-tooltip=\"Token 0: '&lt;pad&gt;'\n",
       "Feature 0: nan\n",
       "Feature 1: nan\" data-tokenstr=\"&lt;pad&gt;\">&lt;pad&gt;</span><span class=\"token\" style=\"--top-color: rgba(255, 0, 0, 0.000); --bottom-color: rgba(255, 0, 0, 0.000);\" data-tooltip=\"Token 0: '&lt;pad&gt;'\n",
       "Feature 0: nan\n",
       "Feature 1: nan\" data-tokenstr=\"&lt;pad&gt;\">&lt;pad&gt;</span><span class=\"token\" style=\"--top-color: rgba(255, 0, 0, 0.000); --bottom-color: rgba(255, 0, 0, 0.000);\" data-tooltip=\"Token 0: '&lt;pad&gt;'\n",
       "Feature 0: nan\n",
       "Feature 1: nan\" data-tokenstr=\"&lt;pad&gt;\">&lt;pad&gt;</span><span class=\"token\" style=\"--top-color: rgba(255, 0, 0, 0.000); --bottom-color: rgba(255, 0, 0, 0.000);\" data-tooltip=\"Token 0: '&lt;pad&gt;'\n",
       "Feature 0: nan\n",
       "Feature 1: nan\" data-tokenstr=\"&lt;pad&gt;\">&lt;pad&gt;</span><span class=\"token\" style=\"--top-color: rgba(255, 0, 0, 0.000); --bottom-color: rgba(255, 0, 0, 0.000);\" data-tooltip=\"Token 0: '&lt;pad&gt;'\n",
       "Feature 0: nan\n",
       "Feature 1: nan\" data-tokenstr=\"&lt;pad&gt;\">&lt;pad&gt;</span><span class=\"token\" style=\"--top-color: rgba(255, 0, 0, 0.000); --bottom-color: rgba(255, 0, 0, 0.000);\" data-tooltip=\"Token 0: '&lt;pad&gt;'\n",
       "Feature 0: nan\n",
       "Feature 1: nan\" data-tokenstr=\"&lt;pad&gt;\">&lt;pad&gt;</span><span class=\"token\" style=\"--top-color: rgba(255, 0, 0, 0.000); --bottom-color: rgba(255, 0, 0, 0.000);\" data-tooltip=\"Token 0: '&lt;pad&gt;'\n",
       "Feature 0: nan\n",
       "Feature 1: nan\" data-tokenstr=\"&lt;pad&gt;\">&lt;pad&gt;</span><span class=\"token\" style=\"--top-color: rgba(255, 0, 0, 0.000); --bottom-color: rgba(255, 0, 0, 0.000);\" data-tooltip=\"Token 0: '&lt;pad&gt;'\n",
       "Feature 0: nan\n",
       "Feature 1: nan\" data-tokenstr=\"&lt;pad&gt;\">&lt;pad&gt;</span><span class=\"token\" style=\"--top-color: rgba(255, 0, 0, 0.000); --bottom-color: rgba(255, 0, 0, 0.000);\" data-tooltip=\"Token 0: '&lt;pad&gt;'\n",
       "Feature 0: nan\n",
       "Feature 1: nan\" data-tokenstr=\"&lt;pad&gt;\">&lt;pad&gt;</span><span class=\"token\" style=\"--top-color: rgba(255, 0, 0, 0.000); --bottom-color: rgba(255, 0, 0, 0.000);\" data-tooltip=\"Token 0: '&lt;pad&gt;'\n",
       "Feature 0: nan\n",
       "Feature 1: nan\" data-tokenstr=\"&lt;pad&gt;\">&lt;pad&gt;</span><span class=\"token\" style=\"--top-color: rgba(255, 0, 0, 0.000); --bottom-color: rgba(255, 0, 0, 0.000);\" data-tooltip=\"Token 0: '&lt;pad&gt;'\n",
       "Feature 0: nan\n",
       "Feature 1: nan\" data-tokenstr=\"&lt;pad&gt;\">&lt;pad&gt;</span><span class=\"token\" style=\"--top-color: rgba(255, 0, 0, 0.000); --bottom-color: rgba(255, 0, 0, 0.000);\" data-tooltip=\"Token 0: '&lt;pad&gt;'\n",
       "Feature 0: nan\n",
       "Feature 1: nan\" data-tokenstr=\"&lt;pad&gt;\">&lt;pad&gt;</span><span class=\"token\" style=\"--top-color: rgba(255, 0, 0, 0.000); --bottom-color: rgba(255, 0, 0, 0.000);\" data-tooltip=\"Token 0: '&lt;pad&gt;'\n",
       "Feature 0: nan\n",
       "Feature 1: nan\" data-tokenstr=\"&lt;pad&gt;\">&lt;pad&gt;</span><span class=\"token\" style=\"--top-color: rgba(255, 0, 0, 0.000); --bottom-color: rgba(255, 0, 0, 0.000);\" data-tooltip=\"Token 0: '&lt;pad&gt;'\n",
       "Feature 0: nan\n",
       "Feature 1: nan\" data-tokenstr=\"&lt;pad&gt;\">&lt;pad&gt;</span><span class=\"token\" style=\"--top-color: rgba(255, 0, 0, 0.000); --bottom-color: rgba(255, 0, 0, 0.000);\" data-tooltip=\"Token 0: '&lt;pad&gt;'\n",
       "Feature 0: nan\n",
       "Feature 1: nan\" data-tokenstr=\"&lt;pad&gt;\">&lt;pad&gt;</span><span class=\"token\" style=\"--top-color: rgba(255, 0, 0, 0.000); --bottom-color: rgba(255, 0, 0, 0.000);\" data-tooltip=\"Token 0: '&lt;pad&gt;'\n",
       "Feature 0: nan\n",
       "Feature 1: nan\" data-tokenstr=\"&lt;pad&gt;\">&lt;pad&gt;</span><span class=\"token\" style=\"--top-color: rgba(255, 0, 0, 0.000); --bottom-color: rgba(255, 0, 0, 0.000);\" data-tooltip=\"Token 0: '&lt;pad&gt;'\n",
       "Feature 0: nan\n",
       "Feature 1: nan\" data-tokenstr=\"&lt;pad&gt;\">&lt;pad&gt;</span><span class=\"token\" style=\"--top-color: rgba(255, 0, 0, 0.000); --bottom-color: rgba(255, 0, 0, 0.000);\" data-tooltip=\"Token 0: '&lt;pad&gt;'\n",
       "Feature 0: nan\n",
       "Feature 1: nan\" data-tokenstr=\"&lt;pad&gt;\">&lt;pad&gt;</span><span class=\"token\" style=\"--top-color: rgba(255, 0, 0, 0.000); --bottom-color: rgba(255, 0, 0, 0.000);\" data-tooltip=\"Token 0: '&lt;pad&gt;'\n",
       "Feature 0: nan\n",
       "Feature 1: nan\" data-tokenstr=\"&lt;pad&gt;\">&lt;pad&gt;</span><span class=\"token\" style=\"--top-color: rgba(255, 0, 0, 0.000); --bottom-color: rgba(255, 0, 0, 0.000);\" data-tooltip=\"Token 0: '&lt;pad&gt;'\n",
       "Feature 0: nan\n",
       "Feature 1: nan\" data-tokenstr=\"&lt;pad&gt;\">&lt;pad&gt;</span><span class=\"token\" style=\"--top-color: rgba(255, 0, 0, 0.000); --bottom-color: rgba(255, 0, 0, 0.000);\" data-tooltip=\"Token 0: '&lt;pad&gt;'\n",
       "Feature 0: nan\n",
       "Feature 1: nan\" data-tokenstr=\"&lt;pad&gt;\">&lt;pad&gt;</span><span class=\"token\" style=\"--top-color: rgba(255, 0, 0, 0.000); --bottom-color: rgba(255, 0, 0, 0.000);\" data-tooltip=\"Token 0: '&lt;pad&gt;'\n",
       "Feature 0: nan\n",
       "Feature 1: nan\" data-tokenstr=\"&lt;pad&gt;\">&lt;pad&gt;</span><span class=\"token\" style=\"--top-color: rgba(255, 0, 0, 0.000); --bottom-color: rgba(255, 0, 0, 0.000);\" data-tooltip=\"Token 0: '&lt;pad&gt;'\n",
       "Feature 0: nan\n",
       "Feature 1: nan\" data-tokenstr=\"&lt;pad&gt;\">&lt;pad&gt;</span><span class=\"token\" style=\"--top-color: rgba(255, 0, 0, 0.000); --bottom-color: rgba(255, 0, 0, 0.000);\" data-tooltip=\"Token 0: '&lt;pad&gt;'\n",
       "Feature 0: nan\n",
       "Feature 1: nan\" data-tokenstr=\"&lt;pad&gt;\">&lt;pad&gt;</span><span class=\"token\" style=\"--top-color: rgba(255, 0, 0, 0.000); --bottom-color: rgba(255, 0, 0, 0.000);\" data-tooltip=\"Token 0: '&lt;pad&gt;'\n",
       "Feature 0: nan\n",
       "Feature 1: nan\" data-tokenstr=\"&lt;pad&gt;\">&lt;pad&gt;</span><span class=\"token\" style=\"--top-color: rgba(255, 0, 0, 0.000); --bottom-color: rgba(255, 0, 0, 0.000);\" data-tooltip=\"Token 0: '&lt;pad&gt;'\n",
       "Feature 0: nan\n",
       "Feature 1: nan\" data-tokenstr=\"&lt;pad&gt;\">&lt;pad&gt;</span><span class=\"token\" style=\"--top-color: rgba(255, 0, 0, 0.000); --bottom-color: rgba(255, 0, 0, 0.000);\" data-tooltip=\"Token 0: '&lt;pad&gt;'\n",
       "Feature 0: nan\n",
       "Feature 1: nan\" data-tokenstr=\"&lt;pad&gt;\">&lt;pad&gt;</span><span class=\"token\" style=\"--top-color: rgba(255, 0, 0, 0.000); --bottom-color: rgba(255, 0, 0, 0.000);\" data-tooltip=\"Token 0: '&lt;pad&gt;'\n",
       "Feature 0: nan\n",
       "Feature 1: nan\" data-tokenstr=\"&lt;pad&gt;\">&lt;pad&gt;</span><span class=\"token\" style=\"--top-color: rgba(255, 0, 0, 0.000); --bottom-color: rgba(255, 0, 0, 0.000);\" data-tooltip=\"Token 0: '&lt;pad&gt;'\n",
       "Feature 0: nan\n",
       "Feature 1: nan\" data-tokenstr=\"&lt;pad&gt;\">&lt;pad&gt;</span><span class=\"token\" style=\"--top-color: rgba(255, 0, 0, 0.000); --bottom-color: rgba(255, 0, 0, 0.000);\" data-tooltip=\"Token 0: '&lt;pad&gt;'\n",
       "Feature 0: nan\n",
       "Feature 1: nan\" data-tokenstr=\"&lt;pad&gt;\">&lt;pad&gt;</span><span class=\"token\" style=\"--top-color: rgba(255, 0, 0, 0.000); --bottom-color: rgba(255, 0, 0, 0.000);\" data-tooltip=\"Token 0: '&lt;pad&gt;'\n",
       "Feature 0: nan\n",
       "Feature 1: nan\" data-tokenstr=\"&lt;pad&gt;\">&lt;pad&gt;</span><span class=\"token\" style=\"--top-color: rgba(255, 0, 0, 0.000); --bottom-color: rgba(255, 0, 0, 0.000);\" data-tooltip=\"Token 0: '&lt;pad&gt;'\n",
       "Feature 0: nan\n",
       "Feature 1: nan\" data-tokenstr=\"&lt;pad&gt;\">&lt;pad&gt;</span><span class=\"token\" style=\"--top-color: rgba(255, 0, 0, 0.000); --bottom-color: rgba(255, 0, 0, 0.000);\" data-tooltip=\"Token 0: '&lt;pad&gt;'\n",
       "Feature 0: nan\n",
       "Feature 1: nan\" data-tokenstr=\"&lt;pad&gt;\">&lt;pad&gt;</span><span class=\"token\" style=\"--top-color: rgba(255, 0, 0, 0.000); --bottom-color: rgba(255, 0, 0, 0.000);\" data-tooltip=\"Token 0: '&lt;pad&gt;'\n",
       "Feature 0: nan\n",
       "Feature 1: nan\" data-tokenstr=\"&lt;pad&gt;\">&lt;pad&gt;</span><span class=\"token\" style=\"--top-color: rgba(255, 0, 0, 0.000); --bottom-color: rgba(255, 0, 0, 0.000);\" data-tooltip=\"Token 0: '&lt;pad&gt;'\n",
       "Feature 0: nan\n",
       "Feature 1: nan\" data-tokenstr=\"&lt;pad&gt;\">&lt;pad&gt;</span><span class=\"token\" style=\"--top-color: rgba(255, 0, 0, 0.000); --bottom-color: rgba(255, 0, 0, 0.000);\" data-tooltip=\"Token 0: '&lt;pad&gt;'\n",
       "Feature 0: nan\n",
       "Feature 1: nan\" data-tokenstr=\"&lt;pad&gt;\">&lt;pad&gt;</span><span class=\"token\" style=\"--top-color: rgba(255, 0, 0, 0.000); --bottom-color: rgba(255, 0, 0, 0.000);\" data-tooltip=\"Token 0: '&lt;pad&gt;'\n",
       "Feature 0: nan\n",
       "Feature 1: nan\" data-tokenstr=\"&lt;pad&gt;\">&lt;pad&gt;</span><span class=\"token\" style=\"--top-color: rgba(255, 0, 0, 0.000); --bottom-color: rgba(255, 0, 0, 0.000);\" data-tooltip=\"Token 0: '&lt;pad&gt;'\n",
       "Feature 0: nan\n",
       "Feature 1: nan\" data-tokenstr=\"&lt;pad&gt;\">&lt;pad&gt;</span><span class=\"token\" style=\"--top-color: rgba(255, 0, 0, 0.000); --bottom-color: rgba(255, 0, 0, 0.000);\" data-tooltip=\"Token 0: '&lt;pad&gt;'\n",
       "Feature 0: nan\n",
       "Feature 1: nan\" data-tokenstr=\"&lt;pad&gt;\">&lt;pad&gt;</span><span class=\"token\" style=\"--top-color: rgba(255, 0, 0, 0.000); --bottom-color: rgba(255, 0, 0, 0.000);\" data-tooltip=\"Token 0: '&lt;pad&gt;'\n",
       "Feature 0: nan\n",
       "Feature 1: nan\" data-tokenstr=\"&lt;pad&gt;\">&lt;pad&gt;</span><span class=\"token\" style=\"--top-color: rgba(255, 0, 0, 0.000); --bottom-color: rgba(255, 0, 0, 0.000);\" data-tooltip=\"Token 0: '&lt;pad&gt;'\n",
       "Feature 0: nan\n",
       "Feature 1: nan\" data-tokenstr=\"&lt;pad&gt;\">&lt;pad&gt;</span><span class=\"token\" style=\"--top-color: rgba(255, 0, 0, 0.000); --bottom-color: rgba(255, 0, 0, 0.000);\" data-tooltip=\"Token 0: '&lt;pad&gt;'\n",
       "Feature 0: nan\n",
       "Feature 1: nan\" data-tokenstr=\"&lt;pad&gt;\">&lt;pad&gt;</span><span class=\"token\" style=\"--top-color: rgba(255, 0, 0, 0.000); --bottom-color: rgba(255, 0, 0, 0.000);\" data-tooltip=\"Token 0: '&lt;pad&gt;'\n",
       "Feature 0: nan\n",
       "Feature 1: nan\" data-tokenstr=\"&lt;pad&gt;\">&lt;pad&gt;</span><span class=\"token\" style=\"--top-color: rgba(255, 0, 0, 0.000); --bottom-color: rgba(255, 0, 0, 0.000);\" data-tooltip=\"Token 0: '&lt;pad&gt;'\n",
       "Feature 0: nan\n",
       "Feature 1: nan\" data-tokenstr=\"&lt;pad&gt;\">&lt;pad&gt;</span><span class=\"token\" style=\"--top-color: rgba(255, 0, 0, 0.000); --bottom-color: rgba(255, 0, 0, 0.000);\" data-tooltip=\"Token 0: '&lt;pad&gt;'\n",
       "Feature 0: nan\n",
       "Feature 1: nan\" data-tokenstr=\"&lt;pad&gt;\">&lt;pad&gt;</span><span class=\"token\" style=\"--top-color: rgba(255, 0, 0, 0.000); --bottom-color: rgba(255, 0, 0, 0.000);\" data-tooltip=\"Token 0: '&lt;pad&gt;'\n",
       "Feature 0: nan\n",
       "Feature 1: nan\" data-tokenstr=\"&lt;pad&gt;\">&lt;pad&gt;</span><span class=\"token\" style=\"--top-color: rgba(255, 0, 0, 0.000); --bottom-color: rgba(255, 0, 0, 0.000);\" data-tooltip=\"Token 0: '&lt;pad&gt;'\n",
       "Feature 0: nan\n",
       "Feature 1: nan\" data-tokenstr=\"&lt;pad&gt;\">&lt;pad&gt;</span><span class=\"token\" style=\"--top-color: rgba(255, 0, 0, 0.000); --bottom-color: rgba(255, 0, 0, 0.000);\" data-tooltip=\"Token 0: '&lt;pad&gt;'\n",
       "Feature 0: nan\n",
       "Feature 1: nan\" data-tokenstr=\"&lt;pad&gt;\">&lt;pad&gt;</span><span class=\"token\" style=\"--top-color: rgba(255, 0, 0, 0.000); --bottom-color: rgba(255, 0, 0, 0.000);\" data-tooltip=\"Token 0: '&lt;pad&gt;'\n",
       "Feature 0: nan\n",
       "Feature 1: nan\" data-tokenstr=\"&lt;pad&gt;\">&lt;pad&gt;</span><span class=\"token\" style=\"--top-color: rgba(255, 0, 0, 0.000); --bottom-color: rgba(255, 0, 0, 0.000);\" data-tooltip=\"Token 0: '&lt;pad&gt;'\n",
       "Feature 0: nan\n",
       "Feature 1: nan\" data-tokenstr=\"&lt;pad&gt;\">&lt;pad&gt;</span><span class=\"token\" style=\"--top-color: rgba(255, 0, 0, 0.000); --bottom-color: rgba(255, 0, 0, 0.000);\" data-tooltip=\"Token 0: '&lt;pad&gt;'\n",
       "Feature 0: nan\n",
       "Feature 1: nan\" data-tokenstr=\"&lt;pad&gt;\">&lt;pad&gt;</span><span class=\"token\" style=\"--top-color: rgba(255, 0, 0, 0.000); --bottom-color: rgba(255, 0, 0, 0.000);\" data-tooltip=\"Token 0: '&lt;pad&gt;'\n",
       "Feature 0: nan\n",
       "Feature 1: nan\" data-tokenstr=\"&lt;pad&gt;\">&lt;pad&gt;</span><span class=\"token\" style=\"--top-color: rgba(255, 0, 0, 0.000); --bottom-color: rgba(255, 0, 0, 0.000);\" data-tooltip=\"Token 0: '&lt;pad&gt;'\n",
       "Feature 0: nan\n",
       "Feature 1: nan\" data-tokenstr=\"&lt;pad&gt;\">&lt;pad&gt;</span><span class=\"token\" style=\"--top-color: rgba(255, 0, 0, 0.000); --bottom-color: rgba(255, 0, 0, 0.000);\" data-tooltip=\"Token 0: '&lt;pad&gt;'\n",
       "Feature 0: nan\n",
       "Feature 1: nan\" data-tokenstr=\"&lt;pad&gt;\">&lt;pad&gt;</span><span class=\"token\" style=\"--top-color: rgba(255, 0, 0, 0.000); --bottom-color: rgba(255, 0, 0, 0.000);\" data-tooltip=\"Token 0: '&lt;pad&gt;'\n",
       "Feature 0: nan\n",
       "Feature 1: nan\" data-tokenstr=\"&lt;pad&gt;\">&lt;pad&gt;</span><span class=\"token\" style=\"--top-color: rgba(255, 0, 0, 0.000); --bottom-color: rgba(255, 0, 0, 0.000);\" data-tooltip=\"Token 0: '&lt;pad&gt;'\n",
       "Feature 0: nan\n",
       "Feature 1: nan\" data-tokenstr=\"&lt;pad&gt;\">&lt;pad&gt;</span><span class=\"token\" style=\"--top-color: rgba(255, 0, 0, 0.000); --bottom-color: rgba(255, 0, 0, 0.000);\" data-tooltip=\"Token 0: '&lt;pad&gt;'\n",
       "Feature 0: nan\n",
       "Feature 1: nan\" data-tokenstr=\"&lt;pad&gt;\">&lt;pad&gt;</span><span class=\"token\" style=\"--top-color: rgba(255, 0, 0, 0.000); --bottom-color: rgba(255, 0, 0, 0.000);\" data-tooltip=\"Token 0: '&lt;pad&gt;'\n",
       "Feature 0: nan\n",
       "Feature 1: nan\" data-tokenstr=\"&lt;pad&gt;\">&lt;pad&gt;</span><span class=\"token\" style=\"--top-color: rgba(255, 0, 0, 0.000); --bottom-color: rgba(255, 0, 0, 0.000);\" data-tooltip=\"Token 0: '&lt;pad&gt;'\n",
       "Feature 0: nan\n",
       "Feature 1: nan\" data-tokenstr=\"&lt;pad&gt;\">&lt;pad&gt;</span><span class=\"token\" style=\"--top-color: rgba(255, 0, 0, 0.000); --bottom-color: rgba(255, 0, 0, 0.000);\" data-tooltip=\"Token 0: '&lt;pad&gt;'\n",
       "Feature 0: nan\n",
       "Feature 1: nan\" data-tokenstr=\"&lt;pad&gt;\">&lt;pad&gt;</span><span class=\"token\" style=\"--top-color: rgba(255, 0, 0, 0.000); --bottom-color: rgba(255, 0, 0, 0.000);\" data-tooltip=\"Token 0: '&lt;pad&gt;'\n",
       "Feature 0: nan\n",
       "Feature 1: nan\" data-tokenstr=\"&lt;pad&gt;\">&lt;pad&gt;</span><span class=\"token\" style=\"--top-color: rgba(255, 0, 0, 0.000); --bottom-color: rgba(255, 0, 0, 0.000);\" data-tooltip=\"Token 0: '&lt;pad&gt;'\n",
       "Feature 0: nan\n",
       "Feature 1: nan\" data-tokenstr=\"&lt;pad&gt;\">&lt;pad&gt;</span><span class=\"token\" style=\"--top-color: rgba(255, 0, 0, 0.000); --bottom-color: rgba(255, 0, 0, 0.000);\" data-tooltip=\"Token 0: '&lt;pad&gt;'\n",
       "Feature 0: nan\n",
       "Feature 1: nan\" data-tokenstr=\"&lt;pad&gt;\">&lt;pad&gt;</span><span class=\"token\" style=\"--top-color: rgba(255, 0, 0, 0.000); --bottom-color: rgba(255, 0, 0, 0.000);\" data-tooltip=\"Token 0: '&lt;pad&gt;'\n",
       "Feature 0: nan\n",
       "Feature 1: nan\" data-tokenstr=\"&lt;pad&gt;\">&lt;pad&gt;</span><span class=\"token\" style=\"--top-color: rgba(255, 0, 0, 0.000); --bottom-color: rgba(255, 0, 0, 0.000);\" data-tooltip=\"Token 0: '&lt;pad&gt;'\n",
       "Feature 0: nan\n",
       "Feature 1: nan\" data-tokenstr=\"&lt;pad&gt;\">&lt;pad&gt;</span><span class=\"token\" style=\"--top-color: rgba(255, 0, 0, 0.000); --bottom-color: rgba(255, 0, 0, 0.000);\" data-tooltip=\"Token 0: '&lt;pad&gt;'\n",
       "Feature 0: nan\n",
       "Feature 1: nan\" data-tokenstr=\"&lt;pad&gt;\">&lt;pad&gt;</span><span class=\"token\" style=\"--top-color: rgba(255, 0, 0, 0.000); --bottom-color: rgba(255, 0, 0, 0.000);\" data-tooltip=\"Token 0: '&lt;pad&gt;'\n",
       "Feature 0: nan\n",
       "Feature 1: nan\" data-tokenstr=\"&lt;pad&gt;\">&lt;pad&gt;</span><span class=\"token\" style=\"--top-color: rgba(255, 0, 0, 0.000); --bottom-color: rgba(255, 0, 0, 0.000);\" data-tooltip=\"Token 0: '&lt;pad&gt;'\n",
       "Feature 0: nan\n",
       "Feature 1: nan\" data-tokenstr=\"&lt;pad&gt;\">&lt;pad&gt;</span><span class=\"token\" style=\"--top-color: rgba(255, 0, 0, 0.000); --bottom-color: rgba(255, 0, 0, 0.000);\" data-tooltip=\"Token 0: '&lt;pad&gt;'\n",
       "Feature 0: nan\n",
       "Feature 1: nan\" data-tokenstr=\"&lt;pad&gt;\">&lt;pad&gt;</span><span class=\"token\" style=\"--top-color: rgba(255, 0, 0, 0.000); --bottom-color: rgba(255, 0, 0, 0.000);\" data-tooltip=\"Token 0: '&lt;pad&gt;'\n",
       "Feature 0: nan\n",
       "Feature 1: nan\" data-tokenstr=\"&lt;pad&gt;\">&lt;pad&gt;</span><span class=\"token\" style=\"--top-color: rgba(255, 0, 0, 0.000); --bottom-color: rgba(255, 0, 0, 0.000);\" data-tooltip=\"Token 0: '&lt;pad&gt;'\n",
       "Feature 0: nan\n",
       "Feature 1: nan\" data-tokenstr=\"&lt;pad&gt;\">&lt;pad&gt;</span><span class=\"token\" style=\"--top-color: rgba(255, 0, 0, 0.000); --bottom-color: rgba(255, 0, 0, 0.000);\" data-tooltip=\"Token 0: '&lt;pad&gt;'\n",
       "Feature 0: nan\n",
       "Feature 1: nan\" data-tokenstr=\"&lt;pad&gt;\">&lt;pad&gt;</span><span class=\"token\" style=\"--top-color: rgba(255, 0, 0, 0.000); --bottom-color: rgba(255, 0, 0, 0.000);\" data-tooltip=\"Token 0: '&lt;pad&gt;'\n",
       "Feature 0: nan\n",
       "Feature 1: nan\" data-tokenstr=\"&lt;pad&gt;\">&lt;pad&gt;</span><span class=\"token\" style=\"--top-color: rgba(255, 0, 0, 0.000); --bottom-color: rgba(255, 0, 0, 0.000);\" data-tooltip=\"Token 0: '&lt;pad&gt;'\n",
       "Feature 0: nan\n",
       "Feature 1: nan\" data-tokenstr=\"&lt;pad&gt;\">&lt;pad&gt;</span><span class=\"token\" style=\"--top-color: rgba(255, 0, 0, 0.000); --bottom-color: rgba(255, 0, 0, 0.000);\" data-tooltip=\"Token 0: '&lt;pad&gt;'\n",
       "Feature 0: nan\n",
       "Feature 1: nan\" data-tokenstr=\"&lt;pad&gt;\">&lt;pad&gt;</span><span class=\"token\" style=\"--top-color: rgba(255, 0, 0, 0.000); --bottom-color: rgba(255, 0, 0, 0.000);\" data-tooltip=\"Token 0: '&lt;pad&gt;'\n",
       "Feature 0: nan\n",
       "Feature 1: nan\" data-tokenstr=\"&lt;pad&gt;\">&lt;pad&gt;</span><span class=\"token\" style=\"--top-color: rgba(255, 0, 0, 0.000); --bottom-color: rgba(255, 0, 0, 0.000);\" data-tooltip=\"Token 0: '&lt;pad&gt;'\n",
       "Feature 0: nan\n",
       "Feature 1: nan\" data-tokenstr=\"&lt;pad&gt;\">&lt;pad&gt;</span><span class=\"token\" style=\"--top-color: rgba(255, 0, 0, 0.000); --bottom-color: rgba(255, 0, 0, 0.000);\" data-tooltip=\"Token 0: '&lt;pad&gt;'\n",
       "Feature 0: nan\n",
       "Feature 1: nan\" data-tokenstr=\"&lt;pad&gt;\">&lt;pad&gt;</span><span class=\"token\" style=\"--top-color: rgba(255, 0, 0, 0.000); --bottom-color: rgba(255, 0, 0, 0.000);\" data-tooltip=\"Token 0: '&lt;pad&gt;'\n",
       "Feature 0: nan\n",
       "Feature 1: nan\" data-tokenstr=\"&lt;pad&gt;\">&lt;pad&gt;</span><span class=\"token\" style=\"--top-color: rgba(255, 0, 0, 0.000); --bottom-color: rgba(255, 0, 0, 0.000);\" data-tooltip=\"Token 0: '&lt;pad&gt;'\n",
       "Feature 0: nan\n",
       "Feature 1: nan\" data-tokenstr=\"&lt;pad&gt;\">&lt;pad&gt;</span><span class=\"token\" style=\"--top-color: rgba(255, 0, 0, 0.000); --bottom-color: rgba(255, 0, 0, 0.000);\" data-tooltip=\"Token 0: '&lt;pad&gt;'\n",
       "Feature 0: nan\n",
       "Feature 1: nan\" data-tokenstr=\"&lt;pad&gt;\">&lt;pad&gt;</span><span class=\"token\" style=\"--top-color: rgba(255, 0, 0, 0.000); --bottom-color: rgba(255, 0, 0, 0.000);\" data-tooltip=\"Token 0: '&lt;pad&gt;'\n",
       "Feature 0: nan\n",
       "Feature 1: nan\" data-tokenstr=\"&lt;pad&gt;\">&lt;pad&gt;</span><span class=\"token\" style=\"--top-color: rgba(255, 0, 0, 0.000); --bottom-color: rgba(255, 0, 0, 0.000);\" data-tooltip=\"Token 0: '&lt;pad&gt;'\n",
       "Feature 0: nan\n",
       "Feature 1: nan\" data-tokenstr=\"&lt;pad&gt;\">&lt;pad&gt;</span><span class=\"token\" style=\"--top-color: rgba(255, 0, 0, 0.000); --bottom-color: rgba(255, 0, 0, 0.000);\" data-tooltip=\"Token 0: '&lt;pad&gt;'\n",
       "Feature 0: nan\n",
       "Feature 1: nan\" data-tokenstr=\"&lt;pad&gt;\">&lt;pad&gt;</span><span class=\"token\" style=\"--top-color: rgba(255, 0, 0, 0.000); --bottom-color: rgba(255, 0, 0, 0.000);\" data-tooltip=\"Token 0: '&lt;pad&gt;'\n",
       "Feature 0: nan\n",
       "Feature 1: nan\" data-tokenstr=\"&lt;pad&gt;\">&lt;pad&gt;</span><span class=\"token\" style=\"--top-color: rgba(255, 0, 0, 0.000); --bottom-color: rgba(255, 0, 0, 0.000);\" data-tooltip=\"Token 0: '&lt;pad&gt;'\n",
       "Feature 0: nan\n",
       "Feature 1: nan\" data-tokenstr=\"&lt;pad&gt;\">&lt;pad&gt;</span><span class=\"token\" style=\"--top-color: rgba(255, 0, 0, 0.000); --bottom-color: rgba(255, 0, 0, 0.000);\" data-tooltip=\"Token 0: '&lt;pad&gt;'\n",
       "Feature 0: nan\n",
       "Feature 1: nan\" data-tokenstr=\"&lt;pad&gt;\">&lt;pad&gt;</span><span class=\"token\" style=\"--top-color: rgba(255, 0, 0, 0.000); --bottom-color: rgba(255, 0, 0, 0.000);\" data-tooltip=\"Token 0: '&lt;pad&gt;'\n",
       "Feature 0: nan\n",
       "Feature 1: nan\" data-tokenstr=\"&lt;pad&gt;\">&lt;pad&gt;</span><span class=\"token\" style=\"--top-color: rgba(255, 0, 0, 0.000); --bottom-color: rgba(255, 0, 0, 0.000);\" data-tooltip=\"Token 0: '&lt;pad&gt;'\n",
       "Feature 0: nan\n",
       "Feature 1: nan\" data-tokenstr=\"&lt;pad&gt;\">&lt;pad&gt;</span><span class=\"token\" style=\"--top-color: rgba(255, 0, 0, 0.000); --bottom-color: rgba(255, 0, 0, 0.000);\" data-tooltip=\"Token 0: '&lt;pad&gt;'\n",
       "Feature 0: nan\n",
       "Feature 1: nan\" data-tokenstr=\"&lt;pad&gt;\">&lt;pad&gt;</span><span class=\"token\" style=\"--top-color: rgba(255, 0, 0, 0.000); --bottom-color: rgba(255, 0, 0, 0.000);\" data-tooltip=\"Token 0: '&lt;pad&gt;'\n",
       "Feature 0: nan\n",
       "Feature 1: nan\" data-tokenstr=\"&lt;pad&gt;\">&lt;pad&gt;</span><span class=\"token\" style=\"--top-color: rgba(255, 0, 0, 0.000); --bottom-color: rgba(255, 0, 0, 0.000);\" data-tooltip=\"Token 0: '&lt;pad&gt;'\n",
       "Feature 0: nan\n",
       "Feature 1: nan\" data-tokenstr=\"&lt;pad&gt;\">&lt;pad&gt;</span><span class=\"token\" style=\"--top-color: rgba(255, 0, 0, 0.000); --bottom-color: rgba(255, 0, 0, 0.000);\" data-tooltip=\"Token 0: '&lt;pad&gt;'\n",
       "Feature 0: nan\n",
       "Feature 1: nan\" data-tokenstr=\"&lt;pad&gt;\">&lt;pad&gt;</span><span class=\"token\" style=\"--top-color: rgba(255, 0, 0, 0.000); --bottom-color: rgba(255, 0, 0, 0.000);\" data-tooltip=\"Token 0: '&lt;pad&gt;'\n",
       "Feature 0: nan\n",
       "Feature 1: nan\" data-tokenstr=\"&lt;pad&gt;\">&lt;pad&gt;</span><span class=\"token\" style=\"--top-color: rgba(255, 0, 0, 0.000); --bottom-color: rgba(255, 0, 0, 0.000);\" data-tooltip=\"Token 0: '&lt;pad&gt;'\n",
       "Feature 0: nan\n",
       "Feature 1: nan\" data-tokenstr=\"&lt;pad&gt;\">&lt;pad&gt;</span><span class=\"token\" style=\"--top-color: rgba(255, 0, 0, 0.000); --bottom-color: rgba(255, 0, 0, 0.000);\" data-tooltip=\"Token 0: '&lt;pad&gt;'\n",
       "Feature 0: nan\n",
       "Feature 1: nan\" data-tokenstr=\"&lt;pad&gt;\">&lt;pad&gt;</span><span class=\"token\" style=\"--top-color: rgba(255, 0, 0, 0.000); --bottom-color: rgba(255, 0, 0, 0.000);\" data-tooltip=\"Token 0: '&lt;pad&gt;'\n",
       "Feature 0: nan\n",
       "Feature 1: nan\" data-tokenstr=\"&lt;pad&gt;\">&lt;pad&gt;</span><span class=\"token\" style=\"--top-color: rgba(255, 0, 0, 0.000); --bottom-color: rgba(255, 0, 0, 0.000);\" data-tooltip=\"Token 0: '&lt;pad&gt;'\n",
       "Feature 0: nan\n",
       "Feature 1: nan\" data-tokenstr=\"&lt;pad&gt;\">&lt;pad&gt;</span><span class=\"token\" style=\"--top-color: rgba(255, 0, 0, 0.000); --bottom-color: rgba(255, 0, 0, 0.000);\" data-tooltip=\"Token 0: '&lt;pad&gt;'\n",
       "Feature 0: nan\n",
       "Feature 1: nan\" data-tokenstr=\"&lt;pad&gt;\">&lt;pad&gt;</span><span class=\"token\" style=\"--top-color: rgba(255, 0, 0, 0.000); --bottom-color: rgba(255, 0, 0, 0.000);\" data-tooltip=\"Token 0: '&lt;pad&gt;'\n",
       "Feature 0: nan\n",
       "Feature 1: nan\" data-tokenstr=\"&lt;pad&gt;\">&lt;pad&gt;</span><span class=\"token\" style=\"--top-color: rgba(255, 0, 0, 0.000); --bottom-color: rgba(255, 0, 0, 0.000);\" data-tooltip=\"Token 0: '&lt;pad&gt;'\n",
       "Feature 0: nan\n",
       "Feature 1: nan\" data-tokenstr=\"&lt;pad&gt;\">&lt;pad&gt;</span><span class=\"token\" style=\"--top-color: rgba(255, 0, 0, 0.000); --bottom-color: rgba(255, 0, 0, 0.000);\" data-tooltip=\"Token 0: '&lt;pad&gt;'\n",
       "Feature 0: nan\n",
       "Feature 1: nan\" data-tokenstr=\"&lt;pad&gt;\">&lt;pad&gt;</span><span class=\"token\" style=\"--top-color: rgba(255, 0, 0, 0.000); --bottom-color: rgba(255, 0, 0, 0.000);\" data-tooltip=\"Token 0: '&lt;pad&gt;'\n",
       "Feature 0: nan\n",
       "Feature 1: nan\" data-tokenstr=\"&lt;pad&gt;\">&lt;pad&gt;</span><span class=\"token\" style=\"--top-color: rgba(255, 0, 0, 0.000); --bottom-color: rgba(255, 0, 0, 0.000);\" data-tooltip=\"Token 0: '&lt;pad&gt;'\n",
       "Feature 0: nan\n",
       "Feature 1: nan\" data-tokenstr=\"&lt;pad&gt;\">&lt;pad&gt;</span><span class=\"token\" style=\"--top-color: rgba(255, 0, 0, 0.000); --bottom-color: rgba(255, 0, 0, 0.000);\" data-tooltip=\"Token 0: '&lt;pad&gt;'\n",
       "Feature 0: nan\n",
       "Feature 1: nan\" data-tokenstr=\"&lt;pad&gt;\">&lt;pad&gt;</span><span class=\"token\" style=\"--top-color: rgba(255, 0, 0, 0.000); --bottom-color: rgba(255, 0, 0, 0.000);\" data-tooltip=\"Token 0: '&lt;pad&gt;'\n",
       "Feature 0: nan\n",
       "Feature 1: nan\" data-tokenstr=\"&lt;pad&gt;\">&lt;pad&gt;</span><span class=\"token\" style=\"--top-color: rgba(255, 0, 0, 0.000); --bottom-color: rgba(255, 0, 0, 0.000);\" data-tooltip=\"Token 0: '&lt;pad&gt;'\n",
       "Feature 0: nan\n",
       "Feature 1: nan\" data-tokenstr=\"&lt;pad&gt;\">&lt;pad&gt;</span><span class=\"token\" style=\"--top-color: rgba(255, 0, 0, 0.000); --bottom-color: rgba(255, 0, 0, 0.000);\" data-tooltip=\"Token 0: '&lt;pad&gt;'\n",
       "Feature 0: nan\n",
       "Feature 1: nan\" data-tokenstr=\"&lt;pad&gt;\">&lt;pad&gt;</span><span class=\"token\" style=\"--top-color: rgba(255, 0, 0, 0.000); --bottom-color: rgba(255, 0, 0, 0.000);\" data-tooltip=\"Token 0: '&lt;pad&gt;'\n",
       "Feature 0: nan\n",
       "Feature 1: nan\" data-tokenstr=\"&lt;pad&gt;\">&lt;pad&gt;</span><span class=\"token\" style=\"--top-color: rgba(255, 0, 0, 0.000); --bottom-color: rgba(255, 0, 0, 0.000);\" data-tooltip=\"Token 0: '&lt;pad&gt;'\n",
       "Feature 0: nan\n",
       "Feature 1: nan\" data-tokenstr=\"&lt;pad&gt;\">&lt;pad&gt;</span><span class=\"token\" style=\"--top-color: rgba(255, 0, 0, 0.000); --bottom-color: rgba(255, 0, 0, 0.000);\" data-tooltip=\"Token 0: '&lt;pad&gt;'\n",
       "Feature 0: nan\n",
       "Feature 1: nan\" data-tokenstr=\"&lt;pad&gt;\">&lt;pad&gt;</span><span class=\"token\" style=\"--top-color: rgba(255, 0, 0, 0.000); --bottom-color: rgba(255, 0, 0, 0.000);\" data-tooltip=\"Token 0: '&lt;pad&gt;'\n",
       "Feature 0: nan\n",
       "Feature 1: nan\" data-tokenstr=\"&lt;pad&gt;\">&lt;pad&gt;</span><span class=\"token\" style=\"--top-color: rgba(255, 0, 0, 0.000); --bottom-color: rgba(255, 0, 0, 0.000);\" data-tooltip=\"Token 0: '&lt;pad&gt;'\n",
       "Feature 0: nan\n",
       "Feature 1: nan\" data-tokenstr=\"&lt;pad&gt;\">&lt;pad&gt;</span><span class=\"token\" style=\"--top-color: rgba(255, 0, 0, 0.000); --bottom-color: rgba(255, 0, 0, 0.000);\" data-tooltip=\"Token 0: '&lt;pad&gt;'\n",
       "Feature 0: nan\n",
       "Feature 1: nan\" data-tokenstr=\"&lt;pad&gt;\">&lt;pad&gt;</span><span class=\"token\" style=\"--top-color: rgba(255, 0, 0, 0.000); --bottom-color: rgba(255, 0, 0, 0.000);\" data-tooltip=\"Token 0: '&lt;pad&gt;'\n",
       "Feature 0: nan\n",
       "Feature 1: nan\" data-tokenstr=\"&lt;pad&gt;\">&lt;pad&gt;</span><span class=\"token\" style=\"--top-color: rgba(255, 0, 0, 0.000); --bottom-color: rgba(255, 0, 0, 0.000);\" data-tooltip=\"Token 0: '&lt;pad&gt;'\n",
       "Feature 0: nan\n",
       "Feature 1: nan\" data-tokenstr=\"&lt;pad&gt;\">&lt;pad&gt;</span><span class=\"token\" style=\"--top-color: rgba(255, 0, 0, 0.000); --bottom-color: rgba(255, 0, 0, 0.000);\" data-tooltip=\"Token 0: '&lt;pad&gt;'\n",
       "Feature 0: nan\n",
       "Feature 1: nan\" data-tokenstr=\"&lt;pad&gt;\">&lt;pad&gt;</span><span class=\"token\" style=\"--top-color: rgba(255, 0, 0, 0.000); --bottom-color: rgba(255, 0, 0, 0.000);\" data-tooltip=\"Token 0: '&lt;pad&gt;'\n",
       "Feature 0: nan\n",
       "Feature 1: nan\" data-tokenstr=\"&lt;pad&gt;\">&lt;pad&gt;</span><span class=\"token\" style=\"--top-color: rgba(255, 0, 0, 0.000); --bottom-color: rgba(255, 0, 0, 0.000);\" data-tooltip=\"Token 0: '&lt;pad&gt;'\n",
       "Feature 0: nan\n",
       "Feature 1: nan\" data-tokenstr=\"&lt;pad&gt;\">&lt;pad&gt;</span><span class=\"token\" style=\"--top-color: rgba(255, 0, 0, 0.000); --bottom-color: rgba(255, 0, 0, 0.000);\" data-tooltip=\"Token 0: '&lt;pad&gt;'\n",
       "Feature 0: nan\n",
       "Feature 1: nan\" data-tokenstr=\"&lt;pad&gt;\">&lt;pad&gt;</span><span class=\"token\" style=\"--top-color: rgba(255, 0, 0, 0.000); --bottom-color: rgba(255, 0, 0, 0.000);\" data-tooltip=\"Token 0: '&lt;pad&gt;'\n",
       "Feature 0: nan\n",
       "Feature 1: nan\" data-tokenstr=\"&lt;pad&gt;\">&lt;pad&gt;</span><span class=\"token\" style=\"--top-color: rgba(255, 0, 0, 0.000); --bottom-color: rgba(255, 0, 0, 0.000);\" data-tooltip=\"Token 0: '&lt;pad&gt;'\n",
       "Feature 0: nan\n",
       "Feature 1: nan\" data-tokenstr=\"&lt;pad&gt;\">&lt;pad&gt;</span><span class=\"token\" style=\"--top-color: rgba(255, 0, 0, 0.000); --bottom-color: rgba(255, 0, 0, 0.000);\" data-tooltip=\"Token 0: '&lt;pad&gt;'\n",
       "Feature 0: nan\n",
       "Feature 1: nan\" data-tokenstr=\"&lt;pad&gt;\">&lt;pad&gt;</span><span class=\"token\" style=\"--top-color: rgba(255, 0, 0, 0.000); --bottom-color: rgba(255, 0, 0, 0.000);\" data-tooltip=\"Token 0: '&lt;pad&gt;'\n",
       "Feature 0: nan\n",
       "Feature 1: nan\" data-tokenstr=\"&lt;pad&gt;\">&lt;pad&gt;</span><span class=\"token\" style=\"--top-color: rgba(255, 0, 0, 0.000); --bottom-color: rgba(255, 0, 0, 0.000);\" data-tooltip=\"Token 0: '&lt;pad&gt;'\n",
       "Feature 0: nan\n",
       "Feature 1: nan\" data-tokenstr=\"&lt;pad&gt;\">&lt;pad&gt;</span><span class=\"token\" style=\"--top-color: rgba(255, 0, 0, 0.000); --bottom-color: rgba(255, 0, 0, 0.000);\" data-tooltip=\"Token 0: '&lt;pad&gt;'\n",
       "Feature 0: nan\n",
       "Feature 1: nan\" data-tokenstr=\"&lt;pad&gt;\">&lt;pad&gt;</span><span class=\"token\" style=\"--top-color: rgba(255, 0, 0, 0.000); --bottom-color: rgba(255, 0, 0, 0.000);\" data-tooltip=\"Token 0: '&lt;pad&gt;'\n",
       "Feature 0: nan\n",
       "Feature 1: nan\" data-tokenstr=\"&lt;pad&gt;\">&lt;pad&gt;</span><span class=\"token\" style=\"--top-color: rgba(255, 0, 0, 0.000); --bottom-color: rgba(255, 0, 0, 0.000);\" data-tooltip=\"Token 0: '&lt;pad&gt;'\n",
       "Feature 0: nan\n",
       "Feature 1: nan\" data-tokenstr=\"&lt;pad&gt;\">&lt;pad&gt;</span><span class=\"token\" style=\"--top-color: rgba(255, 0, 0, 0.000); --bottom-color: rgba(255, 0, 0, 0.000);\" data-tooltip=\"Token 0: '&lt;pad&gt;'\n",
       "Feature 0: nan\n",
       "Feature 1: nan\" data-tokenstr=\"&lt;pad&gt;\">&lt;pad&gt;</span><span class=\"token\" style=\"--top-color: rgba(255, 0, 0, 0.000); --bottom-color: rgba(255, 0, 0, 0.000);\" data-tooltip=\"Token 0: '&lt;pad&gt;'\n",
       "Feature 0: nan\n",
       "Feature 1: nan\" data-tokenstr=\"&lt;pad&gt;\">&lt;pad&gt;</span><span class=\"token\" style=\"--top-color: rgba(255, 0, 0, 0.000); --bottom-color: rgba(255, 0, 0, 0.000);\" data-tooltip=\"Token 0: '&lt;pad&gt;'\n",
       "Feature 0: nan\n",
       "Feature 1: nan\" data-tokenstr=\"&lt;pad&gt;\">&lt;pad&gt;</span><span class=\"token\" style=\"--top-color: rgba(255, 0, 0, 0.000); --bottom-color: rgba(255, 0, 0, 0.000);\" data-tooltip=\"Token 0: '&lt;pad&gt;'\n",
       "Feature 0: nan\n",
       "Feature 1: nan\" data-tokenstr=\"&lt;pad&gt;\">&lt;pad&gt;</span><span class=\"token\" style=\"--top-color: rgba(255, 0, 0, 0.000); --bottom-color: rgba(255, 0, 0, 0.000);\" data-tooltip=\"Token 0: '&lt;pad&gt;'\n",
       "Feature 0: nan\n",
       "Feature 1: nan\" data-tokenstr=\"&lt;pad&gt;\">&lt;pad&gt;</span><span class=\"token\" style=\"--top-color: rgba(255, 0, 0, 0.000); --bottom-color: rgba(255, 0, 0, 0.000);\" data-tooltip=\"Token 0: '&lt;pad&gt;'\n",
       "Feature 0: nan\n",
       "Feature 1: nan\" data-tokenstr=\"&lt;pad&gt;\">&lt;pad&gt;</span><span class=\"token\" style=\"--top-color: rgba(255, 0, 0, 0.000); --bottom-color: rgba(255, 0, 0, 0.000);\" data-tooltip=\"Token 0: '&lt;pad&gt;'\n",
       "Feature 0: nan\n",
       "Feature 1: nan\" data-tokenstr=\"&lt;pad&gt;\">&lt;pad&gt;</span><span class=\"token\" style=\"--top-color: rgba(255, 0, 0, 0.000); --bottom-color: rgba(255, 0, 0, 0.000);\" data-tooltip=\"Token 0: '&lt;pad&gt;'\n",
       "Feature 0: nan\n",
       "Feature 1: nan\" data-tokenstr=\"&lt;pad&gt;\">&lt;pad&gt;</span></div>\n",
       "        <div class=\"full-text\" style=\"display: none;\"></div>\n",
       "        \n",
       "    </div>\n",
       "</div>\n",
       "\n",
       "    </div>\n",
       "    <script>\n",
       "        // Wrap everything in an IIFE (Immediately Invoked Function Expression) to avoid global scope pollution\n",
       "(function () {\n",
       "    // Only declare globalSelection if it doesn't exist yet\n",
       "    if (typeof window.globalSelection === 'undefined') {\n",
       "        window.globalSelection = '';\n",
       "    }\n",
       "\n",
       "    // Attach setupTokenTooltips to window object if it doesn't exist\n",
       "    if (typeof window.setupTokenTooltips === 'undefined') {\n",
       "        window.setupTokenTooltips = function () {\n",
       "            console.log(\"Starting setupTokenTooltips\");\n",
       "            // Create tooltip element if it doesn't exist\n",
       "            if (!document.querySelector('.token-tooltip')) {\n",
       "                const tooltip = document.createElement('div');\n",
       "                tooltip.className = 'token-tooltip';\n",
       "                tooltip.style.display = 'none';\n",
       "                document.body.appendChild(tooltip);\n",
       "            }\n",
       "\n",
       "            // Add event listeners for all tokens\n",
       "            document.querySelectorAll('.token').forEach(token => {\n",
       "                token.addEventListener('mousemove', (e) => {\n",
       "                    const tooltip = document.querySelector('.token-tooltip');\n",
       "                    tooltip.textContent = token.dataset.tooltip;\n",
       "                    tooltip.style.display = 'block';\n",
       "                    tooltip.style.left = e.pageX + 10 + 'px';\n",
       "                    tooltip.style.top = e.pageY + 10 + 'px';\n",
       "                });\n",
       "\n",
       "                token.addEventListener('mouseleave', () => {\n",
       "                    const tooltip = document.querySelector('.token-tooltip');\n",
       "                    tooltip.style.display = 'none';\n",
       "                });\n",
       "            });\n",
       "        };\n",
       "    }\n",
       "\n",
       "    // Attach toggleText to window object if it doesn't exist\n",
       "    if (typeof window.toggleText === 'undefined') {\n",
       "        window.toggleText = function (container) {\n",
       "            const isStatic = container.dataset.static === 'true';\n",
       "            if (isStatic) {\n",
       "                return;\n",
       "            }\n",
       "            // Don't toggle if text is being selected\n",
       "            const currentSelection = window.getSelection().toString();\n",
       "            if (currentSelection && currentSelection !== window.globalSelection) {\n",
       "                window.globalSelection = currentSelection;\n",
       "                return;\n",
       "            }\n",
       "\n",
       "            const isExpanded = container.dataset.expanded === 'true';\n",
       "            const collapsedText = container.querySelector('.collapsed-text');\n",
       "            const fullText = container.querySelector('.full-text');\n",
       "            const expandCollapseText = container.querySelector('.expand-collapse-text');\n",
       "\n",
       "            if (isExpanded) {\n",
       "                collapsedText.style.display = 'block';\n",
       "                fullText.style.display = 'none';\n",
       "                container.dataset.expanded = 'false';\n",
       "                if (expandCollapseText) {\n",
       "                    expandCollapseText.textContent = 'Click to expand';\n",
       "                }\n",
       "            } else {\n",
       "                collapsedText.style.display = 'none';\n",
       "                fullText.style.display = 'block';\n",
       "                container.dataset.expanded = 'true';\n",
       "                if (expandCollapseText) {\n",
       "                    expandCollapseText.textContent = 'Click to collapse';\n",
       "                }\n",
       "            }\n",
       "            window.setupTokenTooltips(); // Reinitialize tooltips after toggle\n",
       "        };\n",
       "    }\n",
       "\n",
       "    // Add copyExampleToClipboard to window object\n",
       "    if (typeof window.copyExampleToClipboard === 'undefined') {\n",
       "        window.copyExampleToClipboard = function (event, container) {\n",
       "            event.preventDefault(); // Prevent default context menu\n",
       "\n",
       "            // Get the full text content\n",
       "            const fullText = container.querySelector('.full-text');\n",
       "            const textToCopy = Array.from(fullText.querySelectorAll('.token'))\n",
       "                .map(token => {\n",
       "                    return token.dataset.tokenstr;\n",
       "                })\n",
       "                .join('');\n",
       "            console.log(\"tokens: \", Array.from(fullText.querySelectorAll('.token')));\n",
       "            console.log(\"copying text: \", textToCopy);\n",
       "\n",
       "            // Copy to clipboard\n",
       "            navigator.clipboard.writeText(textToCopy).then(() => {\n",
       "                // Change the \"Right-click to copy\" text temporarily\n",
       "                const sampleContainer = container.closest('.text-sample');\n",
       "                sampleContainer.classList.add('copied');\n",
       "                setTimeout(() => {\n",
       "                    sampleContainer.classList.remove('copied');\n",
       "                }, 1000);\n",
       "            });\n",
       "        };\n",
       "    }\n",
       "\n",
       "    // Initialize tooltips when DOM is ready\n",
       "    if (document.readyState === 'loading') {\n",
       "        document.addEventListener('DOMContentLoaded', window.setupTokenTooltips);\n",
       "    } else {\n",
       "        window.setupTokenTooltips();\n",
       "    }\n",
       "})();\n",
       "    </script>\n",
       "</body>\n",
       "</html> "
      ],
      "text/plain": [
       "<IPython.core.display.HTML object>"
      ]
     },
     "metadata": {},
     "output_type": "display_data"
    }
   ],
   "source": [
    "clear_output(wait=True)  # Clear previous output\n",
    "acts = all_models_acts[4]\n",
    "tokens = chat_model.tokenizer.convert_ids_to_tokens(chat_batch[\"input_ids\"][4].cpu().tolist())\n",
    "a = 0\n",
    "b = 1\n",
    "tokens = tokens[a:-b]\n",
    "acts = acts[:, a:-b]\n",
    "html = activation_visualization(\n",
    "    tokens,\n",
    "    acts,\n",
    "    chat_model.tokenizer,\n",
    "    title=f\"Model Cross Entropy on {4}\",\n",
    "    color2=(255,0,0)\n",
    "    # secondary_activations=base_acts[batch_id] if is_chat else chat_acts[batch_id]\n",
    ")\n",
    "display(HTML(html))"
   ]
  },
  {
   "cell_type": "code",
   "execution_count": 69,
   "metadata": {},
   "outputs": [
    {
     "data": {
      "text/plain": [
       "(tensor([[ 3.2988],\n",
       "         [30.4375]], dtype=torch.float16),\n",
       " ['<end_of_turn>'])"
      ]
     },
     "execution_count": 69,
     "metadata": {},
     "output_type": "execute_result"
    }
   ],
   "source": [
    "acts, tokens"
   ]
  },
  {
   "cell_type": "code",
   "execution_count": null,
   "metadata": {},
   "outputs": [],
   "source": []
  }
 ],
 "metadata": {
  "kernelspec": {
   "display_name": ".env",
   "language": "python",
   "name": "python3"
  },
  "language_info": {
   "codemirror_mode": {
    "name": "ipython",
    "version": 3
   },
   "file_extension": ".py",
   "mimetype": "text/x-python",
   "name": "python",
   "nbconvert_exporter": "python",
   "pygments_lexer": "ipython3",
   "version": "3.10.12"
  }
 },
 "nbformat": 4,
 "nbformat_minor": 2
}
